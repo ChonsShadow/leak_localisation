{
 "cells": [
  {
   "cell_type": "markdown",
   "metadata": {},
   "source": [
    "# Use-Case: Machine Learning based Leakage Detection"
   ]
  },
  {
   "cell_type": "markdown",
   "metadata": {},
   "source": [
    "Anomaly detection such as leakage detection is a classic but often non-trivial task in WDN operation. With traditional (model-based) methods reaching their limits, Machine Learning offers promising solutions.\n",
    "\n",
    "#### Outline \n",
    "This notebook demonstrates how EPyT-Flow and EPyT-Control can be utilized to create a scenario containing several leakages that have to be detected.\n",
    "Here, we use a simple Machine Learning based leakage detector that is already included in EPyT-Flow.\n",
    "It consists of the following steps:\n",
    "1. Create a new (realistic) scenario.\n",
    "2. Add some leakages to the scenario.\n",
    "3. Create a simple Machine Learning based leakage detector.\n",
    "4. Evaluate the leakage detector."
   ]
  },
  {
   "cell_type": "code",
   "execution_count": 3,
   "metadata": {},
   "outputs": [],
   "source": [
    "import warnings\n",
    "warnings.filterwarnings(\"ignore\", category=DeprecationWarning)\n",
    "warnings.filterwarnings(\"ignore\", category=ImportWarning)\n",
    "warnings.filterwarnings(\"ignore\", category=UserWarning)\n",
    "\n",
    "import numpy as np\n",
    "import matplotlib.pyplot as plt\n",
    "import sklearn\n",
    "import epyt_flow\n",
    "import pandas as pd\n",
    "import random\n",
    "\n",
    "from sklearn.metrics import mutual_info_score\n",
    "from sklearn.metrics import classification_report\n",
    "from sklearn.tree import DecisionTreeClassifier\n",
    "from sklearn.ensemble import BaggingClassifier\n",
    "from sklearn.model_selection import train_test_split\n",
    "from epyt_flow.data.networks import load_ltown\n",
    "from epyt_flow.data.benchmarks import load_leakdb_scenarios\n",
    "from epyt_flow.simulation import ScenarioSimulator\n",
    "from epyt_flow.simulation.events import AbruptLeakage, IncipientLeakage\n",
    "from epyt_flow.utils import to_seconds, time_points_to_one_hot_encoding\n",
    "from epyt_control.signal_processing import SensorInterpolationDetector"
   ]
  },
  {
   "cell_type": "code",
   "execution_count": 4,
   "metadata": {},
   "outputs": [],
   "source": [
    "# Assume that we know which specific nodes we want to watch:\n",
    "def calc_Relevance (node_pressures, relevant_index):\n",
    "    relevances = {}\n",
    "    for i in range(len(node_pressures)):\n",
    "        if i != relevant_index:\n",
    "            relevances[i] = mutual_info_score(node_pressures[relevant_index], node_pressures[i])\n",
    "    return relevances\n",
    "\n",
    "# calcuate relevance over all nodes:\n",
    "\n",
    "def calc_Relevances (node_pressures):\n",
    "    relevances = {}\n",
    "    for i in range(len(node_pressures)):\n",
    "        for j in range(i + 1, len(node_pressures)):\n",
    "            m_i_score = mutual_info_score(node_pressures[i], node_pressures[j])\n",
    "            if i not in relevances:\n",
    "                relevances[i] = m_i_score\n",
    "            else:\n",
    "                relevances[i] += m_i_score\n",
    "            if j not in relevances:\n",
    "                relevances[j] = m_i_score\n",
    "            else:\n",
    "                relevances[j] += m_i_score\n",
    "    return relevances\n",
    "    \n",
    "def calc_Redundance (x_pressures, sensor_pressures):\n",
    "    redundancy = 0\n",
    "    for pressure in sensor_pressures:\n",
    "        redundancy += mutual_info_score(x_pressures, pressure)\n",
    "    redundancy /= len(sensor_pressures)\n",
    "    return redundancy"
   ]
  },
  {
   "cell_type": "code",
   "execution_count": 5,
   "metadata": {},
   "outputs": [],
   "source": [
    "def calc_sensor_placement(node_pressures, num_sensors = 15): # do we know which nodes we want to monitor? junctions? all of them?\n",
    "    remaining_nodes = list(range(len(node_pressures)))\n",
    "    relevances = calc_Relevances(node_pressures)  # Assume we want to know the relevances in regard to all nodes\n",
    "    Sensor_placement = [max(relevances, key=relevances.get)]\n",
    "    remaining_nodes.remove(Sensor_placement[-1])\n",
    "    sensor_pressures = [node_pressures[Sensor_placement[-1]]]\n",
    "    no_redundance_nodes = [a for a in remaining_nodes if calc_Redundance(node_pressures[a], node_pressures[Sensor_placement]) == 0]\n",
    "    while no_redundance_nodes: # add nodes of highest relevance without any redundance\n",
    "        if (len(Sensor_placement) >= num_sensors):\n",
    "            break\n",
    "        tmp_relevances = relevances.copy()\n",
    "        for i in range(len(tmp_relevances.keys())): # remove nodes that have been added to the sensors and nodes with redundance\n",
    "            if i in Sensor_placement:\n",
    "                del tmp_relevances[i]\n",
    "                continue\n",
    "            if i not in no_redundance_nodes:\n",
    "                del tmp_relevances[i]\n",
    "        Sensor_placement.append(max(tmp_relevances, key=relevances.get))\n",
    "        remaining_nodes.remove(Sensor_placement[-1])\n",
    "        sensor_pressures.append(node_pressures[Sensor_placement[-1]])\n",
    "        no_redundance_nodes = [a for a in remaining_nodes if calc_Redundance(node_pressures[a], sensor_pressures) == 0]\n",
    "    remaining_relevances = list(map(relevances.get, remaining_nodes))\n",
    "    while not(all(list(map(lambda x: x == 0, remaining_relevances)))) and remaining_nodes:\n",
    "        if (len(Sensor_placement) >= num_sensors):\n",
    "            break\n",
    "        RRI = {}\n",
    "        for i in remaining_nodes:\n",
    "            RRI[i] = relevances[i]/ calc_Redundance(node_pressures[i], sensor_pressures)\n",
    "        Sensor_placement.append(max(RRI, key=RRI.get))\n",
    "        sensor_pressures.append(node_pressures[Sensor_placement[-1]])\n",
    "        remaining_nodes.remove(Sensor_placement[-1])\n",
    "        remaining_relevances = list(map(relevances.get, remaining_nodes))\n",
    "    return Sensor_placement"
   ]
  },
  {
   "cell_type": "code",
   "execution_count": 6,
   "metadata": {},
   "outputs": [],
   "source": [
    "# DecisionTreeClassifier with entropy criterion is in the ID3 style. TODO: Might use decision-tree-id3 package if it works?\n",
    "def mixed_model_classification_fit(n_estimators, X_train, y_train):\n",
    "    base = DecisionTreeClassifier(criterion='entropy') #Entropy criterion should be approximate to ID3 decision tree. Sadly no official ID3 Implementation is given\n",
    "    bagged = BaggingClassifier(estimator=base, n_estimators=n_estimators, max_samples=0.8, oob_score=True) #for faster runtime adjust parameters, especially n_estimators\n",
    "    bagged.fit(X_train, y_train)\n",
    "    return bagged\n",
    "\n",
    "def mixed_model_classification_predict(classifier, X_test, y_test):\n",
    "    y_pred = classifier.predict(X_test)\n",
    "    print(classification_report(y_test, y_pred, labels=np.unique(y_test),\n",
    "                                target_names=[f\"class_{int(c)}\" for c in np.unique(y_test)], output_dict=False))\n",
    "    return y_pred\n"
   ]
  },
  {
   "cell_type": "code",
   "execution_count": null,
   "metadata": {},
   "outputs": [],
   "source": [
    "data_dict = epyt_flow.data.benchmarks.leakdb.load_data(\n",
    "    scenarios_id=[\"1\", \"2\", \"3\", \"4\", \"5\", \"6\", \"7\", \"8\", \"9\", \"10\"],  \n",
    "    #scenarios_id=[\"1\", \"2\", \"3\", \"4\", \"5\", \"6\", \"7\", \"8\", \"9\", \"10\", \"11\", \"12\", \"13\", \"14\", \"15\", \"16\", \"17\", \"18\", \"19\", \"20\"],\n",
    "    use_net1=False,\n",
    "    return_X_y=True\n",
    ")\n",
    "\n",
    "X_list, y_list = [], [] \n",
    "for sid, (Xi, yi) in data_dict.items():\n",
    "    X_list.append(Xi.values if hasattr(Xi, \"values\") else Xi) #Check for correctness. \n",
    "    y_list.append(yi)\n",
    "\n",
    "X = np.vstack(X_list)        # shape → (total_samples, n_features)\n",
    "y = np.concatenate(y_list)   # shape → (total_samples,)\n",
    "\n",
    "print(f\"Total samples: {X.shape[0]}, features: {X.shape[1]}\")\n",
    "\n",
    "X_train, X_test, y_train, y_test = train_test_split( #Might use datasets given train-test split\n",
    "    X, y,\n",
    "    test_size=0.20,\n",
    "    random_state=42,\n",
    "    stratify=y\n",
    ")\n",
    "\n",
    "clf = mixed_model_classification_fit(100, X_train, y_train)"
   ]
  },
  {
   "cell_type": "code",
   "execution_count": null,
   "metadata": {},
   "outputs": [],
   "source": [
    "mixed_model_classification_predict(clf, X_test, y_test)"
   ]
  },
  {
   "cell_type": "markdown",
   "metadata": {},
   "source": [
    "### 1. Create new Scenario\n",
    "\n",
    "Create a new scenario based on the [L-Town network](https://epyt-flow.readthedocs.io/en/stable/epyt_flow.data.html#epyt_flow.data.networks.load_ltown) with a default sensor configuration and realistic demand patterns from the [BattLeDIM challenge](https://battledim.ucy.ac.cy/):"
   ]
  },
  {
   "cell_type": "code",
   "execution_count": 7,
   "metadata": {},
   "outputs": [
    {
     "name": "stderr",
     "output_type": "stream",
     "text": [
      "/var/folders/5j/zy3b6qdx5wnd5s0_y944j43w0000gn/T/Hanoi/Scenario-323.zip: 100%|###############################################################| 8.64M/8.64M [00:02<00:00, 4.16MB/s]\n",
      "/var/folders/5j/zy3b6qdx5wnd5s0_y944j43w0000gn/T/Hanoi/Scenario-440.zip: 100%|###############################################################| 8.63M/8.63M [00:02<00:00, 4.38MB/s]\n",
      "/var/folders/5j/zy3b6qdx5wnd5s0_y944j43w0000gn/T/Hanoi/Scenario-359.zip: 100%|###############################################################| 8.74M/8.74M [00:02<00:00, 3.92MB/s]\n",
      "/var/folders/5j/zy3b6qdx5wnd5s0_y944j43w0000gn/T/Hanoi/Scenario-255.zip: 100%|###############################################################| 8.60M/8.60M [00:01<00:00, 4.72MB/s]\n",
      "/var/folders/5j/zy3b6qdx5wnd5s0_y944j43w0000gn/T/Hanoi/Scenario-88.zip: 100%|################################################################| 8.62M/8.62M [00:01<00:00, 6.27MB/s]\n",
      "/var/folders/5j/zy3b6qdx5wnd5s0_y944j43w0000gn/T/Hanoi/Scenario-183.zip: 100%|###############################################################| 8.69M/8.69M [00:01<00:00, 5.29MB/s]\n",
      "/var/folders/5j/zy3b6qdx5wnd5s0_y944j43w0000gn/T/Hanoi/Scenario-212.zip: 100%|###############################################################| 8.63M/8.63M [00:02<00:00, 4.00MB/s]\n",
      "/var/folders/5j/zy3b6qdx5wnd5s0_y944j43w0000gn/T/Hanoi/Scenario-149.zip: 100%|###############################################################| 8.52M/8.52M [00:01<00:00, 5.07MB/s]\n",
      "/var/folders/5j/zy3b6qdx5wnd5s0_y944j43w0000gn/T/Hanoi/Scenario-92.zip: 100%|################################################################| 8.55M/8.55M [00:02<00:00, 4.05MB/s]\n",
      "/var/folders/5j/zy3b6qdx5wnd5s0_y944j43w0000gn/T/Hanoi/Scenario-172.zip: 100%|################################################################| 8.67M/8.67M [00:09<00:00, 923kB/s]\n",
      "/var/folders/5j/zy3b6qdx5wnd5s0_y944j43w0000gn/T/Hanoi/Scenario-388.zip: 100%|###############################################################| 8.66M/8.66M [00:04<00:00, 2.03MB/s]\n",
      "/var/folders/5j/zy3b6qdx5wnd5s0_y944j43w0000gn/T/Hanoi/Scenario-449.zip: 100%|###############################################################| 8.64M/8.64M [00:01<00:00, 4.90MB/s]\n",
      "/var/folders/5j/zy3b6qdx5wnd5s0_y944j43w0000gn/T/Hanoi/Scenario-146.zip: 100%|###############################################################| 8.50M/8.50M [00:01<00:00, 5.05MB/s]\n",
      "/var/folders/5j/zy3b6qdx5wnd5s0_y944j43w0000gn/T/Hanoi/Scenario-407.zip: 100%|###############################################################| 8.59M/8.59M [00:01<00:00, 4.67MB/s]\n",
      "/var/folders/5j/zy3b6qdx5wnd5s0_y944j43w0000gn/T/Hanoi/Scenario-362.zip: 100%|###############################################################| 8.62M/8.62M [00:02<00:00, 3.30MB/s]\n",
      "/var/folders/5j/zy3b6qdx5wnd5s0_y944j43w0000gn/T/Hanoi/Scenario-419.zip: 100%|###############################################################| 8.59M/8.59M [00:04<00:00, 2.23MB/s]\n",
      "/var/folders/5j/zy3b6qdx5wnd5s0_y944j43w0000gn/T/Hanoi/Scenario-72.zip: 100%|################################################################| 8.62M/8.62M [00:01<00:00, 4.73MB/s]\n",
      "/var/folders/5j/zy3b6qdx5wnd5s0_y944j43w0000gn/T/Hanoi/Scenario-264.zip: 100%|###############################################################| 8.71M/8.71M [00:02<00:00, 3.87MB/s]\n",
      "/var/folders/5j/zy3b6qdx5wnd5s0_y944j43w0000gn/T/Hanoi/Scenario-334.zip: 100%|###############################################################| 8.65M/8.65M [00:02<00:00, 3.91MB/s]\n",
      "/var/folders/5j/zy3b6qdx5wnd5s0_y944j43w0000gn/T/Hanoi/Scenario-361.zip: 100%|###############################################################| 8.63M/8.63M [00:02<00:00, 4.44MB/s]\n",
      "/var/folders/5j/zy3b6qdx5wnd5s0_y944j43w0000gn/T/Hanoi/Scenario-89.zip: 100%|################################################################| 8.66M/8.66M [00:01<00:00, 5.96MB/s]\n",
      "/var/folders/5j/zy3b6qdx5wnd5s0_y944j43w0000gn/T/Hanoi/Scenario-139.zip: 100%|###############################################################| 8.63M/8.63M [00:01<00:00, 5.34MB/s]\n",
      "/var/folders/5j/zy3b6qdx5wnd5s0_y944j43w0000gn/T/Hanoi/Scenario-316.zip: 100%|###############################################################| 8.55M/8.55M [00:01<00:00, 5.48MB/s]\n",
      "/var/folders/5j/zy3b6qdx5wnd5s0_y944j43w0000gn/T/Hanoi/Scenario-74.zip: 100%|################################################################| 8.65M/8.65M [00:02<00:00, 4.21MB/s]\n",
      "/var/folders/5j/zy3b6qdx5wnd5s0_y944j43w0000gn/T/Hanoi/Scenario-477.zip: 100%|###############################################################| 8.56M/8.56M [00:02<00:00, 4.18MB/s]\n",
      "/var/folders/5j/zy3b6qdx5wnd5s0_y944j43w0000gn/T/Hanoi/Scenario-90.zip: 100%|################################################################| 8.62M/8.62M [00:01<00:00, 5.30MB/s]\n",
      "/var/folders/5j/zy3b6qdx5wnd5s0_y944j43w0000gn/T/Hanoi/Scenario-292.zip: 100%|###############################################################| 8.67M/8.67M [00:02<00:00, 4.22MB/s]\n",
      "/var/folders/5j/zy3b6qdx5wnd5s0_y944j43w0000gn/T/Hanoi/Scenario-28.zip: 100%|################################################################| 8.57M/8.57M [00:02<00:00, 3.42MB/s]\n",
      "/var/folders/5j/zy3b6qdx5wnd5s0_y944j43w0000gn/T/Hanoi/Scenario-299.zip: 100%|###############################################################| 8.67M/8.67M [00:03<00:00, 2.59MB/s]\n",
      "/var/folders/5j/zy3b6qdx5wnd5s0_y944j43w0000gn/T/Hanoi/Scenario-152.zip: 100%|###############################################################| 8.61M/8.61M [00:02<00:00, 4.04MB/s]\n",
      "/var/folders/5j/zy3b6qdx5wnd5s0_y944j43w0000gn/T/Hanoi/Scenario-50.zip: 100%|################################################################| 8.73M/8.73M [00:01<00:00, 5.74MB/s]\n",
      "/var/folders/5j/zy3b6qdx5wnd5s0_y944j43w0000gn/T/Hanoi/Scenario-364.zip: 100%|###############################################################| 8.70M/8.70M [00:08<00:00, 1.09MB/s]\n",
      "/var/folders/5j/zy3b6qdx5wnd5s0_y944j43w0000gn/T/Hanoi/Scenario-415.zip: 100%|###############################################################| 8.68M/8.68M [00:01<00:00, 4.79MB/s]\n",
      "/var/folders/5j/zy3b6qdx5wnd5s0_y944j43w0000gn/T/Hanoi/Scenario-473.zip: 100%|###############################################################| 8.61M/8.61M [00:02<00:00, 4.43MB/s]\n",
      "/var/folders/5j/zy3b6qdx5wnd5s0_y944j43w0000gn/T/Hanoi/Scenario-25.zip: 100%|################################################################| 8.59M/8.59M [00:02<00:00, 3.05MB/s]\n",
      "/var/folders/5j/zy3b6qdx5wnd5s0_y944j43w0000gn/T/Hanoi/Scenario-474.zip: 100%|###############################################################| 8.70M/8.70M [00:02<00:00, 3.08MB/s]\n",
      "/var/folders/5j/zy3b6qdx5wnd5s0_y944j43w0000gn/T/Hanoi/Scenario-62.zip: 100%|################################################################| 8.66M/8.66M [00:02<00:00, 3.53MB/s]\n",
      "/var/folders/5j/zy3b6qdx5wnd5s0_y944j43w0000gn/T/Hanoi/Scenario-468.zip: 100%|###############################################################| 8.59M/8.59M [00:01<00:00, 4.66MB/s]\n",
      "/var/folders/5j/zy3b6qdx5wnd5s0_y944j43w0000gn/T/Hanoi/Scenario-43.zip: 100%|################################################################| 8.62M/8.62M [00:01<00:00, 5.72MB/s]\n",
      "/var/folders/5j/zy3b6qdx5wnd5s0_y944j43w0000gn/T/Hanoi/Scenario-463.zip: 100%|###############################################################| 8.59M/8.59M [00:01<00:00, 6.19MB/s]\n",
      "/var/folders/5j/zy3b6qdx5wnd5s0_y944j43w0000gn/T/Hanoi/Scenario-451.zip: 100%|###############################################################| 8.55M/8.55M [00:02<00:00, 4.29MB/s]\n",
      "/var/folders/5j/zy3b6qdx5wnd5s0_y944j43w0000gn/T/Hanoi/Scenario-158.zip: 100%|###############################################################| 8.62M/8.62M [00:01<00:00, 4.76MB/s]\n",
      "/var/folders/5j/zy3b6qdx5wnd5s0_y944j43w0000gn/T/Hanoi/Scenario-132.zip: 100%|###############################################################| 8.67M/8.67M [00:01<00:00, 5.48MB/s]\n",
      "/var/folders/5j/zy3b6qdx5wnd5s0_y944j43w0000gn/T/Hanoi/Scenario-164.zip: 100%|###############################################################| 8.54M/8.54M [00:03<00:00, 2.93MB/s]\n",
      "/var/folders/5j/zy3b6qdx5wnd5s0_y944j43w0000gn/T/Hanoi/Scenario-46.zip: 100%|################################################################| 8.61M/8.61M [00:01<00:00, 6.24MB/s]\n",
      "/var/folders/5j/zy3b6qdx5wnd5s0_y944j43w0000gn/T/Hanoi/Scenario-314.zip: 100%|###############################################################| 8.66M/8.66M [00:01<00:00, 4.92MB/s]\n",
      "/var/folders/5j/zy3b6qdx5wnd5s0_y944j43w0000gn/T/Hanoi/Scenario-259.zip: 100%|###############################################################| 8.57M/8.57M [00:02<00:00, 4.35MB/s]\n",
      "/var/folders/5j/zy3b6qdx5wnd5s0_y944j43w0000gn/T/Hanoi/Scenario-499.zip: 100%|###############################################################| 8.54M/8.54M [00:01<00:00, 4.49MB/s]\n",
      "/var/folders/5j/zy3b6qdx5wnd5s0_y944j43w0000gn/T/Hanoi/Scenario-33.zip: 100%|################################################################| 8.67M/8.67M [00:04<00:00, 2.09MB/s]\n",
      "/var/folders/5j/zy3b6qdx5wnd5s0_y944j43w0000gn/T/Hanoi/Scenario-174.zip: 100%|###############################################################| 8.71M/8.71M [00:01<00:00, 5.97MB/s]\n",
      "/var/folders/5j/zy3b6qdx5wnd5s0_y944j43w0000gn/T/Hanoi/Scenario-175.zip: 100%|###############################################################| 8.62M/8.62M [00:02<00:00, 4.00MB/s]\n",
      "/var/folders/5j/zy3b6qdx5wnd5s0_y944j43w0000gn/T/Hanoi/Scenario-120.zip: 100%|###############################################################| 8.55M/8.55M [00:02<00:00, 3.29MB/s]\n",
      "/var/folders/5j/zy3b6qdx5wnd5s0_y944j43w0000gn/T/Hanoi/Scenario-98.zip: 100%|################################################################| 8.65M/8.65M [00:01<00:00, 5.09MB/s]\n",
      "/var/folders/5j/zy3b6qdx5wnd5s0_y944j43w0000gn/T/Hanoi/Scenario-342.zip: 100%|###############################################################| 8.60M/8.60M [00:01<00:00, 4.60MB/s]\n",
      "/var/folders/5j/zy3b6qdx5wnd5s0_y944j43w0000gn/T/Hanoi/Scenario-134.zip: 100%|###############################################################| 8.58M/8.58M [00:02<00:00, 3.09MB/s]\n",
      "/var/folders/5j/zy3b6qdx5wnd5s0_y944j43w0000gn/T/Hanoi/Scenario-413.zip: 100%|###############################################################| 8.69M/8.69M [00:01<00:00, 5.99MB/s]\n",
      "/var/folders/5j/zy3b6qdx5wnd5s0_y944j43w0000gn/T/Hanoi/Scenario-27.zip: 100%|################################################################| 8.70M/8.70M [00:01<00:00, 5.69MB/s]\n",
      "/var/folders/5j/zy3b6qdx5wnd5s0_y944j43w0000gn/T/Hanoi/Scenario-100.zip: 100%|###############################################################| 8.67M/8.67M [00:01<00:00, 4.89MB/s]\n",
      "/var/folders/5j/zy3b6qdx5wnd5s0_y944j43w0000gn/T/Hanoi/Scenario-37.zip: 100%|################################################################| 8.66M/8.66M [00:02<00:00, 3.71MB/s]\n",
      "/var/folders/5j/zy3b6qdx5wnd5s0_y944j43w0000gn/T/Hanoi/Scenario-375.zip: 100%|###############################################################| 8.67M/8.67M [00:01<00:00, 5.06MB/s]\n",
      "/var/folders/5j/zy3b6qdx5wnd5s0_y944j43w0000gn/T/Hanoi/Scenario-464.zip: 100%|###############################################################| 8.59M/8.59M [00:02<00:00, 3.61MB/s]\n",
      "/var/folders/5j/zy3b6qdx5wnd5s0_y944j43w0000gn/T/Hanoi/Scenario-239.zip: 100%|###############################################################| 8.64M/8.64M [00:01<00:00, 5.02MB/s]\n",
      "/var/folders/5j/zy3b6qdx5wnd5s0_y944j43w0000gn/T/Hanoi/Scenario-496.zip: 100%|###############################################################| 8.56M/8.56M [00:02<00:00, 4.27MB/s]\n",
      "/var/folders/5j/zy3b6qdx5wnd5s0_y944j43w0000gn/T/Hanoi/Scenario-343.zip: 100%|###############################################################| 8.54M/8.54M [00:01<00:00, 5.66MB/s]\n",
      "/var/folders/5j/zy3b6qdx5wnd5s0_y944j43w0000gn/T/Hanoi/Scenario-178.zip: 100%|###############################################################| 8.67M/8.67M [00:01<00:00, 5.38MB/s]\n",
      "/var/folders/5j/zy3b6qdx5wnd5s0_y944j43w0000gn/T/Hanoi/Scenario-153.zip: 100%|###############################################################| 8.66M/8.66M [00:01<00:00, 5.25MB/s]\n",
      "/var/folders/5j/zy3b6qdx5wnd5s0_y944j43w0000gn/T/Hanoi/Scenario-494.zip: 100%|###############################################################| 8.66M/8.66M [00:01<00:00, 4.65MB/s]\n",
      "/var/folders/5j/zy3b6qdx5wnd5s0_y944j43w0000gn/T/Hanoi/Scenario-397.zip: 100%|###############################################################| 8.58M/8.58M [00:01<00:00, 5.04MB/s]\n",
      "/var/folders/5j/zy3b6qdx5wnd5s0_y944j43w0000gn/T/Hanoi/Scenario-328.zip: 100%|###############################################################| 8.60M/8.60M [00:02<00:00, 3.77MB/s]\n",
      "/var/folders/5j/zy3b6qdx5wnd5s0_y944j43w0000gn/T/Hanoi/Scenario-207.zip: 100%|###############################################################| 8.67M/8.67M [00:02<00:00, 4.19MB/s]\n",
      "/var/folders/5j/zy3b6qdx5wnd5s0_y944j43w0000gn/T/Hanoi/Scenario-495.zip: 100%|###############################################################| 8.61M/8.61M [00:02<00:00, 3.85MB/s]\n",
      "/var/folders/5j/zy3b6qdx5wnd5s0_y944j43w0000gn/T/Hanoi/Scenario-57.zip: 100%|################################################################| 8.63M/8.63M [00:02<00:00, 3.46MB/s]\n",
      "/var/folders/5j/zy3b6qdx5wnd5s0_y944j43w0000gn/T/Hanoi/Scenario-195.zip: 100%|###############################################################| 8.56M/8.56M [00:01<00:00, 6.29MB/s]\n",
      "/var/folders/5j/zy3b6qdx5wnd5s0_y944j43w0000gn/T/Hanoi/Scenario-368.zip: 100%|###############################################################| 8.65M/8.65M [00:02<00:00, 4.12MB/s]\n",
      "/var/folders/5j/zy3b6qdx5wnd5s0_y944j43w0000gn/T/Hanoi/Scenario-358.zip: 100%|###############################################################| 8.62M/8.62M [00:02<00:00, 4.09MB/s]\n",
      "/var/folders/5j/zy3b6qdx5wnd5s0_y944j43w0000gn/T/Hanoi/Scenario-455.zip: 100%|###############################################################| 8.58M/8.58M [00:01<00:00, 4.83MB/s]\n",
      "/var/folders/5j/zy3b6qdx5wnd5s0_y944j43w0000gn/T/Hanoi/Scenario-442.zip: 100%|###############################################################| 8.67M/8.67M [00:02<00:00, 4.20MB/s]\n",
      "/var/folders/5j/zy3b6qdx5wnd5s0_y944j43w0000gn/T/Hanoi/Scenario-61.zip: 100%|################################################################| 8.73M/8.73M [00:03<00:00, 2.79MB/s]\n",
      "/var/folders/5j/zy3b6qdx5wnd5s0_y944j43w0000gn/T/Hanoi/Scenario-26.zip: 100%|################################################################| 8.62M/8.62M [00:02<00:00, 3.64MB/s]\n",
      "/var/folders/5j/zy3b6qdx5wnd5s0_y944j43w0000gn/T/Hanoi/Scenario-386.zip: 100%|###############################################################| 8.55M/8.55M [00:03<00:00, 2.93MB/s]\n",
      "/var/folders/5j/zy3b6qdx5wnd5s0_y944j43w0000gn/T/Hanoi/Scenario-456.zip: 100%|###############################################################| 8.65M/8.65M [00:02<00:00, 3.76MB/s]\n",
      "/var/folders/5j/zy3b6qdx5wnd5s0_y944j43w0000gn/T/Hanoi/Scenario-457.zip: 100%|###############################################################| 8.62M/8.62M [00:02<00:00, 3.81MB/s]\n",
      "/var/folders/5j/zy3b6qdx5wnd5s0_y944j43w0000gn/T/Hanoi/Scenario-454.zip: 100%|###############################################################| 8.62M/8.62M [00:02<00:00, 3.19MB/s]\n",
      "/var/folders/5j/zy3b6qdx5wnd5s0_y944j43w0000gn/T/Hanoi/Scenario-372.zip: 100%|###############################################################| 8.70M/8.70M [00:01<00:00, 4.60MB/s]\n",
      "/var/folders/5j/zy3b6qdx5wnd5s0_y944j43w0000gn/T/Hanoi/Scenario-116.zip: 100%|###############################################################| 8.71M/8.71M [00:02<00:00, 3.73MB/s]\n",
      "/var/folders/5j/zy3b6qdx5wnd5s0_y944j43w0000gn/T/Hanoi/Scenario-51.zip: 100%|################################################################| 8.56M/8.56M [00:01<00:00, 5.66MB/s]\n",
      "/var/folders/5j/zy3b6qdx5wnd5s0_y944j43w0000gn/T/Hanoi/Scenario-400.zip: 100%|###############################################################| 8.64M/8.64M [00:02<00:00, 3.76MB/s]\n",
      "/var/folders/5j/zy3b6qdx5wnd5s0_y944j43w0000gn/T/Hanoi/Scenario-286.zip: 100%|###############################################################| 8.63M/8.63M [00:02<00:00, 3.79MB/s]\n",
      "/var/folders/5j/zy3b6qdx5wnd5s0_y944j43w0000gn/T/Hanoi/Scenario-150.zip: 100%|###############################################################| 8.58M/8.58M [00:02<00:00, 3.63MB/s]\n",
      "/var/folders/5j/zy3b6qdx5wnd5s0_y944j43w0000gn/T/Hanoi/Scenario-191.zip: 100%|###############################################################| 8.60M/8.60M [00:02<00:00, 3.48MB/s]\n",
      "/var/folders/5j/zy3b6qdx5wnd5s0_y944j43w0000gn/T/Hanoi/Scenario-479.zip: 100%|###############################################################| 8.59M/8.59M [00:02<00:00, 3.55MB/s]\n",
      "/var/folders/5j/zy3b6qdx5wnd5s0_y944j43w0000gn/T/Hanoi/Scenario-260.zip: 100%|###############################################################| 8.59M/8.59M [00:02<00:00, 3.47MB/s]\n",
      "/var/folders/5j/zy3b6qdx5wnd5s0_y944j43w0000gn/T/Hanoi/Scenario-430.zip: 100%|###############################################################| 8.68M/8.68M [00:02<00:00, 3.38MB/s]\n",
      "/var/folders/5j/zy3b6qdx5wnd5s0_y944j43w0000gn/T/Hanoi/Scenario-369.zip: 100%|###############################################################| 8.59M/8.59M [00:02<00:00, 4.30MB/s]\n",
      "/var/folders/5j/zy3b6qdx5wnd5s0_y944j43w0000gn/T/Hanoi/Scenario-486.zip: 100%|###############################################################| 8.53M/8.53M [00:02<00:00, 3.70MB/s]\n",
      "/var/folders/5j/zy3b6qdx5wnd5s0_y944j43w0000gn/T/Hanoi/Scenario-202.zip: 100%|###############################################################| 8.70M/8.70M [00:01<00:00, 4.70MB/s]\n",
      "/var/folders/5j/zy3b6qdx5wnd5s0_y944j43w0000gn/T/Hanoi/Scenario-511.zip: 100%|###############################################################| 8.58M/8.58M [00:02<00:00, 3.32MB/s]\n",
      "/var/folders/5j/zy3b6qdx5wnd5s0_y944j43w0000gn/T/Hanoi/Scenario-512.zip: 100%|###############################################################| 8.67M/8.67M [00:02<00:00, 3.84MB/s]\n",
      "/var/folders/5j/zy3b6qdx5wnd5s0_y944j43w0000gn/T/Hanoi/Scenario-513.zip: 100%|###############################################################| 8.63M/8.63M [00:01<00:00, 4.70MB/s]\n",
      "/var/folders/5j/zy3b6qdx5wnd5s0_y944j43w0000gn/T/Hanoi/Scenario-514.zip: 100%|###############################################################| 8.63M/8.63M [00:01<00:00, 4.96MB/s]\n",
      "/var/folders/5j/zy3b6qdx5wnd5s0_y944j43w0000gn/T/Hanoi/Scenario-515.zip: 100%|###############################################################| 8.68M/8.68M [00:01<00:00, 4.87MB/s]\n",
      "/var/folders/5j/zy3b6qdx5wnd5s0_y944j43w0000gn/T/Hanoi/Scenario-516.zip: 100%|###############################################################| 8.60M/8.60M [00:02<00:00, 4.16MB/s]\n",
      "/var/folders/5j/zy3b6qdx5wnd5s0_y944j43w0000gn/T/Hanoi/Scenario-517.zip: 100%|###############################################################| 8.68M/8.68M [00:01<00:00, 5.02MB/s]\n",
      "/var/folders/5j/zy3b6qdx5wnd5s0_y944j43w0000gn/T/Hanoi/Scenario-518.zip: 100%|###############################################################| 8.66M/8.66M [00:02<00:00, 3.79MB/s]\n",
      "/var/folders/5j/zy3b6qdx5wnd5s0_y944j43w0000gn/T/Hanoi/Scenario-519.zip: 100%|###############################################################| 8.69M/8.69M [00:02<00:00, 3.38MB/s]\n",
      "/var/folders/5j/zy3b6qdx5wnd5s0_y944j43w0000gn/T/Hanoi/Scenario-520.zip: 100%|###############################################################| 8.60M/8.60M [00:02<00:00, 4.17MB/s]\n"
     ]
    },
    {
     "data": {
      "text/plain": [
       "(32, 1752000)"
      ]
     },
     "execution_count": 7,
     "metadata": {},
     "output_type": "execute_result"
    }
   ],
   "source": [
    "#TODO: adapt to possibility of using battledim\n",
    "#NOTE: this approach calculates a sensor placement based on multiple scenarios, i.e. all scenarios we look at\n",
    "#      due to the complexity of the algorithm this will take a lot of time!\n",
    "scen_train_keys = [str(num) for num in random.sample(range(1, 501), 100)]\n",
    "scen_test_keys = [\"511\", \"512\", \"513\", \"514\", \"515\", \"516\", \"517\", \"518\", \"519\", \"520\"]\n",
    "scen_keys = scen_train_keys + scen_test_keys\n",
    "data = epyt_flow.data.benchmarks.leakdb.load_data(scenarios_id=scen_keys, use_net1=False, return_X_y=False)\n",
    "\n",
    "pressure_column_heads = data[scen_train_keys[0]].columns[:32]\n",
    "node_pressures = []\n",
    "for key in scen_train_keys:\n",
    "    for i in range(len(pressure_column_heads)):\n",
    "        if key == scen_train_keys[0]:\n",
    "            node_pressures.append(data[key]['Pressure-Node_' + str(i + 1)])\n",
    "        else:\n",
    "            node_pressures[i] = np.concatenate((node_pressures[i], data[key]['Pressure-Node_' + str(i + 1)]))\n",
    "node_pressures = np.array(node_pressures)\n",
    "node_pressures.shape"
   ]
  },
  {
   "cell_type": "code",
   "execution_count": 8,
   "metadata": {},
   "outputs": [],
   "source": [
    "sensor_placements = calc_sensor_placement(node_pressures, num_sensors=15)"
   ]
  },
  {
   "cell_type": "code",
   "execution_count": 9,
   "metadata": {},
   "outputs": [],
   "source": [
    "#TODO: adapt to possible changes in the dataset\n",
    "configs = load_leakdb_scenarios(scenarios_id=scen_keys, use_net1=False, verbose=True)\n",
    "scenarios = {}\n",
    "for i, key in enumerate(scen_keys):\n",
    "    scenarios[key] = ScenarioSimulator(scenario_config=configs[i])"
   ]
  },
  {
   "cell_type": "markdown",
   "metadata": {},
   "source": [
    "Set simulation duration to 2 weeks and use 5min time intervals for the hydraulics:"
   ]
  },
  {
   "cell_type": "code",
   "execution_count": 10,
   "metadata": {},
   "outputs": [
    {
     "data": {
      "image/png": "[encoded data removed]",
      "text/plain": [
       "<Figure size 1280x960 with 1 Axes>"
      ]
     },
     "metadata": {},
     "output_type": "display_data"
    }
   ],
   "source": [
    "scenarios[scen_train_keys[0]].plot_topology()"
   ]
  },
  {
   "cell_type": "markdown",
   "metadata": {},
   "source": [
    "### 2. Add Leakages to the Scenario\n",
    "\n",
    "In this example, we build a scenario with two leakages: A small abrupt leakage and a large incipient leakage in the second week:"
   ]
  },
  {
   "cell_type": "markdown",
   "metadata": {},
   "source": [
    "Run the complete simulation:"
   ]
  },
  {
   "cell_type": "code",
   "execution_count": 11,
   "metadata": {},
   "outputs": [
    {
     "name": "stdout",
     "output_type": "stream",
     "text": [
      "Running EPANET ...\n"
     ]
    },
    {
     "name": "stderr",
     "output_type": "stream",
     "text": [
      "Time steps: 100%|########################################################################################################################9| 17520/17521 [00:05<00:00, 3053.88it/s]\n"
     ]
    },
    {
     "name": "stdout",
     "output_type": "stream",
     "text": [
      "Running EPANET ...\n"
     ]
    },
    {
     "name": "stderr",
     "output_type": "stream",
     "text": [
      "Time steps: 100%|########################################################################################################################9| 17520/17521 [00:05<00:00, 3058.11it/s]\n"
     ]
    },
    {
     "name": "stdout",
     "output_type": "stream",
     "text": [
      "Running EPANET ...\n"
     ]
    },
    {
     "name": "stderr",
     "output_type": "stream",
     "text": [
      "Time steps: 100%|########################################################################################################################9| 17520/17521 [00:05<00:00, 2959.53it/s]\n"
     ]
    },
    {
     "name": "stdout",
     "output_type": "stream",
     "text": [
      "Running EPANET ...\n"
     ]
    },
    {
     "name": "stderr",
     "output_type": "stream",
     "text": [
      "Time steps: 100%|########################################################################################################################9| 17520/17521 [00:05<00:00, 2978.20it/s]\n"
     ]
    },
    {
     "name": "stdout",
     "output_type": "stream",
     "text": [
      "Running EPANET ...\n"
     ]
    },
    {
     "name": "stderr",
     "output_type": "stream",
     "text": [
      "Time steps: 100%|########################################################################################################################9| 17520/17521 [00:05<00:00, 3038.08it/s]\n"
     ]
    },
    {
     "name": "stdout",
     "output_type": "stream",
     "text": [
      "Running EPANET ...\n"
     ]
    },
    {
     "name": "stderr",
     "output_type": "stream",
     "text": [
      "Time steps: 100%|########################################################################################################################9| 17520/17521 [00:05<00:00, 2973.62it/s]\n"
     ]
    },
    {
     "name": "stdout",
     "output_type": "stream",
     "text": [
      "Running EPANET ...\n"
     ]
    },
    {
     "name": "stderr",
     "output_type": "stream",
     "text": [
      "Time steps: 100%|########################################################################################################################9| 17520/17521 [00:05<00:00, 3024.66it/s]\n"
     ]
    },
    {
     "name": "stdout",
     "output_type": "stream",
     "text": [
      "Running EPANET ...\n"
     ]
    },
    {
     "name": "stderr",
     "output_type": "stream",
     "text": [
      "Time steps: 100%|########################################################################################################################9| 17520/17521 [00:05<00:00, 3049.22it/s]\n"
     ]
    },
    {
     "name": "stdout",
     "output_type": "stream",
     "text": [
      "Running EPANET ...\n"
     ]
    },
    {
     "name": "stderr",
     "output_type": "stream",
     "text": [
      "Time steps: 100%|########################################################################################################################9| 17520/17521 [00:05<00:00, 3049.78it/s]\n"
     ]
    },
    {
     "name": "stdout",
     "output_type": "stream",
     "text": [
      "Running EPANET ...\n"
     ]
    },
    {
     "name": "stderr",
     "output_type": "stream",
     "text": [
      "Time steps: 100%|########################################################################################################################9| 17520/17521 [00:05<00:00, 3022.94it/s]\n"
     ]
    },
    {
     "name": "stdout",
     "output_type": "stream",
     "text": [
      "Running EPANET ...\n"
     ]
    },
    {
     "name": "stderr",
     "output_type": "stream",
     "text": [
      "Time steps: 100%|########################################################################################################################9| 17520/17521 [00:05<00:00, 3037.22it/s]\n"
     ]
    },
    {
     "name": "stdout",
     "output_type": "stream",
     "text": [
      "Running EPANET ...\n"
     ]
    },
    {
     "name": "stderr",
     "output_type": "stream",
     "text": [
      "Time steps: 100%|########################################################################################################################9| 17520/17521 [00:05<00:00, 2967.01it/s]\n"
     ]
    },
    {
     "name": "stdout",
     "output_type": "stream",
     "text": [
      "Running EPANET ...\n"
     ]
    },
    {
     "name": "stderr",
     "output_type": "stream",
     "text": [
      "Time steps: 100%|########################################################################################################################9| 17520/17521 [00:05<00:00, 3040.81it/s]\n"
     ]
    },
    {
     "name": "stdout",
     "output_type": "stream",
     "text": [
      "Running EPANET ...\n"
     ]
    },
    {
     "name": "stderr",
     "output_type": "stream",
     "text": [
      "Time steps: 100%|########################################################################################################################9| 17520/17521 [00:05<00:00, 3058.73it/s]\n"
     ]
    },
    {
     "name": "stdout",
     "output_type": "stream",
     "text": [
      "Running EPANET ...\n"
     ]
    },
    {
     "name": "stderr",
     "output_type": "stream",
     "text": [
      "Time steps: 100%|########################################################################################################################9| 17520/17521 [00:05<00:00, 3036.78it/s]\n"
     ]
    },
    {
     "name": "stdout",
     "output_type": "stream",
     "text": [
      "Running EPANET ...\n"
     ]
    },
    {
     "name": "stderr",
     "output_type": "stream",
     "text": [
      "Time steps: 100%|########################################################################################################################9| 17520/17521 [00:05<00:00, 3017.84it/s]\n"
     ]
    },
    {
     "name": "stdout",
     "output_type": "stream",
     "text": [
      "Running EPANET ...\n"
     ]
    },
    {
     "name": "stderr",
     "output_type": "stream",
     "text": [
      "Time steps: 100%|########################################################################################################################9| 17520/17521 [00:05<00:00, 3016.53it/s]\n"
     ]
    },
    {
     "name": "stdout",
     "output_type": "stream",
     "text": [
      "Running EPANET ...\n"
     ]
    },
    {
     "name": "stderr",
     "output_type": "stream",
     "text": [
      "Time steps: 100%|########################################################################################################################9| 17520/17521 [00:05<00:00, 3015.78it/s]\n"
     ]
    },
    {
     "name": "stdout",
     "output_type": "stream",
     "text": [
      "Running EPANET ...\n"
     ]
    },
    {
     "name": "stderr",
     "output_type": "stream",
     "text": [
      "Time steps: 100%|########################################################################################################################9| 17520/17521 [00:05<00:00, 3026.27it/s]\n"
     ]
    },
    {
     "name": "stdout",
     "output_type": "stream",
     "text": [
      "Running EPANET ...\n"
     ]
    },
    {
     "name": "stderr",
     "output_type": "stream",
     "text": [
      "Time steps: 100%|########################################################################################################################9| 17520/17521 [00:05<00:00, 3010.15it/s]\n"
     ]
    },
    {
     "name": "stdout",
     "output_type": "stream",
     "text": [
      "Running EPANET ...\n"
     ]
    },
    {
     "name": "stderr",
     "output_type": "stream",
     "text": [
      "Time steps: 100%|########################################################################################################################9| 17520/17521 [00:05<00:00, 2993.53it/s]\n"
     ]
    },
    {
     "name": "stdout",
     "output_type": "stream",
     "text": [
      "Running EPANET ...\n"
     ]
    },
    {
     "name": "stderr",
     "output_type": "stream",
     "text": [
      "Time steps: 100%|########################################################################################################################9| 17520/17521 [00:05<00:00, 2995.12it/s]\n"
     ]
    },
    {
     "name": "stdout",
     "output_type": "stream",
     "text": [
      "Running EPANET ...\n"
     ]
    },
    {
     "name": "stderr",
     "output_type": "stream",
     "text": [
      "Time steps: 100%|########################################################################################################################9| 17520/17521 [00:05<00:00, 3039.87it/s]\n"
     ]
    },
    {
     "name": "stdout",
     "output_type": "stream",
     "text": [
      "Running EPANET ...\n"
     ]
    },
    {
     "name": "stderr",
     "output_type": "stream",
     "text": [
      "Time steps: 100%|########################################################################################################################9| 17520/17521 [00:05<00:00, 3000.60it/s]\n"
     ]
    },
    {
     "name": "stdout",
     "output_type": "stream",
     "text": [
      "Running EPANET ...\n"
     ]
    },
    {
     "name": "stderr",
     "output_type": "stream",
     "text": [
      "Time steps: 100%|########################################################################################################################9| 17520/17521 [00:05<00:00, 3037.50it/s]\n"
     ]
    },
    {
     "name": "stdout",
     "output_type": "stream",
     "text": [
      "Running EPANET ...\n"
     ]
    },
    {
     "name": "stderr",
     "output_type": "stream",
     "text": [
      "Time steps: 100%|########################################################################################################################9| 17520/17521 [00:05<00:00, 3009.95it/s]\n"
     ]
    },
    {
     "name": "stdout",
     "output_type": "stream",
     "text": [
      "Running EPANET ...\n"
     ]
    },
    {
     "name": "stderr",
     "output_type": "stream",
     "text": [
      "Time steps: 100%|########################################################################################################################9| 17520/17521 [00:05<00:00, 3006.75it/s]\n"
     ]
    },
    {
     "name": "stdout",
     "output_type": "stream",
     "text": [
      "Running EPANET ...\n"
     ]
    },
    {
     "name": "stderr",
     "output_type": "stream",
     "text": [
      "Time steps: 100%|########################################################################################################################9| 17520/17521 [00:05<00:00, 3052.92it/s]\n"
     ]
    },
    {
     "name": "stdout",
     "output_type": "stream",
     "text": [
      "Running EPANET ...\n"
     ]
    },
    {
     "name": "stderr",
     "output_type": "stream",
     "text": [
      "Time steps: 100%|########################################################################################################################9| 17520/17521 [00:05<00:00, 3011.51it/s]\n"
     ]
    },
    {
     "name": "stdout",
     "output_type": "stream",
     "text": [
      "Running EPANET ...\n"
     ]
    },
    {
     "name": "stderr",
     "output_type": "stream",
     "text": [
      "Time steps: 100%|########################################################################################################################9| 17520/17521 [00:05<00:00, 3023.64it/s]\n"
     ]
    },
    {
     "name": "stdout",
     "output_type": "stream",
     "text": [
      "Running EPANET ...\n"
     ]
    },
    {
     "name": "stderr",
     "output_type": "stream",
     "text": [
      "Time steps: 100%|########################################################################################################################9| 17520/17521 [00:05<00:00, 2979.23it/s]\n"
     ]
    },
    {
     "name": "stdout",
     "output_type": "stream",
     "text": [
      "Running EPANET ...\n"
     ]
    },
    {
     "name": "stderr",
     "output_type": "stream",
     "text": [
      "Time steps: 100%|########################################################################################################################9| 17520/17521 [00:05<00:00, 3051.16it/s]\n"
     ]
    },
    {
     "name": "stdout",
     "output_type": "stream",
     "text": [
      "Running EPANET ...\n"
     ]
    },
    {
     "name": "stderr",
     "output_type": "stream",
     "text": [
      "Time steps: 100%|########################################################################################################################9| 17520/17521 [00:05<00:00, 3035.73it/s]\n"
     ]
    },
    {
     "name": "stdout",
     "output_type": "stream",
     "text": [
      "Running EPANET ...\n"
     ]
    },
    {
     "name": "stderr",
     "output_type": "stream",
     "text": [
      "Time steps: 100%|########################################################################################################################9| 17520/17521 [00:05<00:00, 2984.32it/s]\n"
     ]
    },
    {
     "name": "stdout",
     "output_type": "stream",
     "text": [
      "Running EPANET ...\n"
     ]
    },
    {
     "name": "stderr",
     "output_type": "stream",
     "text": [
      "Time steps: 100%|########################################################################################################################9| 17520/17521 [00:05<00:00, 2996.88it/s]\n"
     ]
    },
    {
     "name": "stdout",
     "output_type": "stream",
     "text": [
      "Running EPANET ...\n"
     ]
    },
    {
     "name": "stderr",
     "output_type": "stream",
     "text": [
      "Time steps: 100%|########################################################################################################################9| 17520/17521 [00:05<00:00, 2990.92it/s]\n"
     ]
    },
    {
     "name": "stdout",
     "output_type": "stream",
     "text": [
      "Running EPANET ...\n"
     ]
    },
    {
     "name": "stderr",
     "output_type": "stream",
     "text": [
      "Time steps: 100%|########################################################################################################################9| 17520/17521 [00:05<00:00, 3028.35it/s]\n"
     ]
    },
    {
     "name": "stdout",
     "output_type": "stream",
     "text": [
      "Running EPANET ...\n"
     ]
    },
    {
     "name": "stderr",
     "output_type": "stream",
     "text": [
      "Time steps: 100%|########################################################################################################################9| 17520/17521 [00:05<00:00, 2985.16it/s]\n"
     ]
    },
    {
     "name": "stdout",
     "output_type": "stream",
     "text": [
      "Running EPANET ...\n"
     ]
    },
    {
     "name": "stderr",
     "output_type": "stream",
     "text": [
      "Time steps: 100%|########################################################################################################################9| 17520/17521 [00:05<00:00, 3022.63it/s]\n"
     ]
    },
    {
     "name": "stdout",
     "output_type": "stream",
     "text": [
      "Running EPANET ...\n"
     ]
    },
    {
     "name": "stderr",
     "output_type": "stream",
     "text": [
      "Time steps: 100%|########################################################################################################################9| 17520/17521 [00:05<00:00, 2988.49it/s]\n"
     ]
    },
    {
     "name": "stdout",
     "output_type": "stream",
     "text": [
      "Running EPANET ...\n"
     ]
    },
    {
     "name": "stderr",
     "output_type": "stream",
     "text": [
      "Time steps: 100%|########################################################################################################################9| 17520/17521 [00:05<00:00, 3023.69it/s]\n"
     ]
    },
    {
     "name": "stdout",
     "output_type": "stream",
     "text": [
      "Running EPANET ...\n"
     ]
    },
    {
     "name": "stderr",
     "output_type": "stream",
     "text": [
      "Time steps: 100%|########################################################################################################################9| 17520/17521 [00:05<00:00, 3011.05it/s]\n"
     ]
    },
    {
     "name": "stdout",
     "output_type": "stream",
     "text": [
      "Running EPANET ...\n"
     ]
    },
    {
     "name": "stderr",
     "output_type": "stream",
     "text": [
      "Time steps: 100%|########################################################################################################################9| 17520/17521 [00:05<00:00, 3047.64it/s]\n"
     ]
    },
    {
     "name": "stdout",
     "output_type": "stream",
     "text": [
      "Running EPANET ...\n"
     ]
    },
    {
     "name": "stderr",
     "output_type": "stream",
     "text": [
      "Time steps: 100%|########################################################################################################################9| 17520/17521 [00:05<00:00, 3023.09it/s]\n"
     ]
    },
    {
     "name": "stdout",
     "output_type": "stream",
     "text": [
      "Running EPANET ...\n"
     ]
    },
    {
     "name": "stderr",
     "output_type": "stream",
     "text": [
      "Time steps: 100%|########################################################################################################################9| 17520/17521 [00:05<00:00, 2985.20it/s]\n"
     ]
    },
    {
     "name": "stdout",
     "output_type": "stream",
     "text": [
      "Running EPANET ...\n"
     ]
    },
    {
     "name": "stderr",
     "output_type": "stream",
     "text": [
      "Time steps: 100%|########################################################################################################################9| 17520/17521 [00:05<00:00, 2933.97it/s]\n"
     ]
    },
    {
     "name": "stdout",
     "output_type": "stream",
     "text": [
      "Running EPANET ...\n"
     ]
    },
    {
     "name": "stderr",
     "output_type": "stream",
     "text": [
      "Time steps: 100%|########################################################################################################################9| 17520/17521 [00:05<00:00, 3041.45it/s]\n"
     ]
    },
    {
     "name": "stdout",
     "output_type": "stream",
     "text": [
      "Running EPANET ...\n"
     ]
    },
    {
     "name": "stderr",
     "output_type": "stream",
     "text": [
      "Time steps: 100%|########################################################################################################################9| 17520/17521 [00:05<00:00, 2947.01it/s]\n"
     ]
    },
    {
     "name": "stdout",
     "output_type": "stream",
     "text": [
      "Running EPANET ...\n"
     ]
    },
    {
     "name": "stderr",
     "output_type": "stream",
     "text": [
      "Time steps: 100%|########################################################################################################################9| 17520/17521 [00:05<00:00, 2978.76it/s]\n"
     ]
    },
    {
     "name": "stdout",
     "output_type": "stream",
     "text": [
      "Running EPANET ...\n"
     ]
    },
    {
     "name": "stderr",
     "output_type": "stream",
     "text": [
      "Time steps: 100%|########################################################################################################################9| 17520/17521 [00:05<00:00, 3039.42it/s]\n"
     ]
    },
    {
     "name": "stdout",
     "output_type": "stream",
     "text": [
      "Running EPANET ...\n"
     ]
    },
    {
     "name": "stderr",
     "output_type": "stream",
     "text": [
      "Time steps: 100%|########################################################################################################################9| 17520/17521 [00:05<00:00, 3045.94it/s]\n"
     ]
    },
    {
     "name": "stdout",
     "output_type": "stream",
     "text": [
      "Running EPANET ...\n"
     ]
    },
    {
     "name": "stderr",
     "output_type": "stream",
     "text": [
      "Time steps: 100%|########################################################################################################################9| 17520/17521 [00:05<00:00, 2984.18it/s]\n"
     ]
    },
    {
     "name": "stdout",
     "output_type": "stream",
     "text": [
      "Running EPANET ...\n"
     ]
    },
    {
     "name": "stderr",
     "output_type": "stream",
     "text": [
      "Time steps: 100%|########################################################################################################################9| 17520/17521 [00:05<00:00, 2995.10it/s]\n"
     ]
    },
    {
     "name": "stdout",
     "output_type": "stream",
     "text": [
      "Running EPANET ...\n"
     ]
    },
    {
     "name": "stderr",
     "output_type": "stream",
     "text": [
      "Time steps: 100%|########################################################################################################################9| 17520/17521 [00:05<00:00, 3008.82it/s]\n"
     ]
    },
    {
     "name": "stdout",
     "output_type": "stream",
     "text": [
      "Running EPANET ...\n"
     ]
    },
    {
     "name": "stderr",
     "output_type": "stream",
     "text": [
      "Time steps: 100%|########################################################################################################################9| 17520/17521 [00:05<00:00, 3037.43it/s]\n"
     ]
    },
    {
     "name": "stdout",
     "output_type": "stream",
     "text": [
      "Running EPANET ...\n"
     ]
    },
    {
     "name": "stderr",
     "output_type": "stream",
     "text": [
      "Time steps: 100%|########################################################################################################################9| 17520/17521 [00:05<00:00, 2997.87it/s]\n"
     ]
    },
    {
     "name": "stdout",
     "output_type": "stream",
     "text": [
      "Running EPANET ...\n"
     ]
    },
    {
     "name": "stderr",
     "output_type": "stream",
     "text": [
      "Time steps: 100%|########################################################################################################################9| 17520/17521 [00:05<00:00, 2999.40it/s]\n"
     ]
    },
    {
     "name": "stdout",
     "output_type": "stream",
     "text": [
      "Running EPANET ...\n"
     ]
    },
    {
     "name": "stderr",
     "output_type": "stream",
     "text": [
      "Time steps: 100%|########################################################################################################################9| 17520/17521 [00:05<00:00, 3013.54it/s]\n"
     ]
    },
    {
     "name": "stdout",
     "output_type": "stream",
     "text": [
      "Running EPANET ...\n"
     ]
    },
    {
     "name": "stderr",
     "output_type": "stream",
     "text": [
      "Time steps: 100%|########################################################################################################################9| 17520/17521 [00:05<00:00, 3003.46it/s]\n"
     ]
    },
    {
     "name": "stdout",
     "output_type": "stream",
     "text": [
      "Running EPANET ...\n"
     ]
    },
    {
     "name": "stderr",
     "output_type": "stream",
     "text": [
      "Time steps: 100%|########################################################################################################################9| 17520/17521 [00:05<00:00, 3033.87it/s]\n"
     ]
    },
    {
     "name": "stdout",
     "output_type": "stream",
     "text": [
      "Running EPANET ...\n"
     ]
    },
    {
     "name": "stderr",
     "output_type": "stream",
     "text": [
      "Time steps: 100%|########################################################################################################################9| 17520/17521 [00:05<00:00, 3030.97it/s]\n"
     ]
    },
    {
     "name": "stdout",
     "output_type": "stream",
     "text": [
      "Running EPANET ...\n"
     ]
    },
    {
     "name": "stderr",
     "output_type": "stream",
     "text": [
      "Time steps: 100%|########################################################################################################################9| 17520/17521 [00:05<00:00, 2988.81it/s]\n"
     ]
    },
    {
     "name": "stdout",
     "output_type": "stream",
     "text": [
      "Running EPANET ...\n"
     ]
    },
    {
     "name": "stderr",
     "output_type": "stream",
     "text": [
      "Time steps: 100%|########################################################################################################################9| 17520/17521 [00:05<00:00, 2964.73it/s]\n"
     ]
    },
    {
     "name": "stdout",
     "output_type": "stream",
     "text": [
      "Running EPANET ...\n"
     ]
    },
    {
     "name": "stderr",
     "output_type": "stream",
     "text": [
      "Time steps: 100%|########################################################################################################################9| 17520/17521 [00:05<00:00, 2992.03it/s]\n"
     ]
    },
    {
     "name": "stdout",
     "output_type": "stream",
     "text": [
      "Running EPANET ...\n"
     ]
    },
    {
     "name": "stderr",
     "output_type": "stream",
     "text": [
      "Time steps: 100%|########################################################################################################################9| 17520/17521 [00:05<00:00, 3020.24it/s]\n"
     ]
    },
    {
     "name": "stdout",
     "output_type": "stream",
     "text": [
      "Running EPANET ...\n"
     ]
    },
    {
     "name": "stderr",
     "output_type": "stream",
     "text": [
      "Time steps: 100%|########################################################################################################################9| 17520/17521 [00:05<00:00, 3021.90it/s]\n"
     ]
    },
    {
     "name": "stdout",
     "output_type": "stream",
     "text": [
      "Running EPANET ...\n"
     ]
    },
    {
     "name": "stderr",
     "output_type": "stream",
     "text": [
      "Time steps: 100%|########################################################################################################################9| 17520/17521 [00:05<00:00, 3031.42it/s]\n"
     ]
    },
    {
     "name": "stdout",
     "output_type": "stream",
     "text": [
      "Running EPANET ...\n"
     ]
    },
    {
     "name": "stderr",
     "output_type": "stream",
     "text": [
      "Time steps: 100%|########################################################################################################################9| 17520/17521 [00:05<00:00, 3039.10it/s]\n"
     ]
    },
    {
     "name": "stdout",
     "output_type": "stream",
     "text": [
      "Running EPANET ...\n"
     ]
    },
    {
     "name": "stderr",
     "output_type": "stream",
     "text": [
      "Time steps: 100%|########################################################################################################################9| 17520/17521 [00:05<00:00, 3004.76it/s]\n"
     ]
    },
    {
     "name": "stdout",
     "output_type": "stream",
     "text": [
      "Running EPANET ...\n"
     ]
    },
    {
     "name": "stderr",
     "output_type": "stream",
     "text": [
      "Time steps: 100%|########################################################################################################################9| 17520/17521 [00:05<00:00, 2997.11it/s]\n"
     ]
    },
    {
     "name": "stdout",
     "output_type": "stream",
     "text": [
      "Running EPANET ...\n"
     ]
    },
    {
     "name": "stderr",
     "output_type": "stream",
     "text": [
      "Time steps: 100%|########################################################################################################################9| 17520/17521 [00:05<00:00, 3034.62it/s]\n"
     ]
    },
    {
     "name": "stdout",
     "output_type": "stream",
     "text": [
      "Running EPANET ...\n"
     ]
    },
    {
     "name": "stderr",
     "output_type": "stream",
     "text": [
      "Time steps: 100%|########################################################################################################################9| 17520/17521 [00:05<00:00, 3017.36it/s]\n"
     ]
    },
    {
     "name": "stdout",
     "output_type": "stream",
     "text": [
      "Running EPANET ...\n"
     ]
    },
    {
     "name": "stderr",
     "output_type": "stream",
     "text": [
      "Time steps: 100%|########################################################################################################################9| 17520/17521 [00:05<00:00, 3021.04it/s]\n"
     ]
    },
    {
     "name": "stdout",
     "output_type": "stream",
     "text": [
      "Running EPANET ...\n"
     ]
    },
    {
     "name": "stderr",
     "output_type": "stream",
     "text": [
      "Time steps: 100%|########################################################################################################################9| 17520/17521 [00:05<00:00, 3006.06it/s]\n"
     ]
    },
    {
     "name": "stdout",
     "output_type": "stream",
     "text": [
      "Running EPANET ...\n"
     ]
    },
    {
     "name": "stderr",
     "output_type": "stream",
     "text": [
      "Time steps: 100%|########################################################################################################################9| 17520/17521 [00:05<00:00, 2981.47it/s]\n"
     ]
    },
    {
     "name": "stdout",
     "output_type": "stream",
     "text": [
      "Running EPANET ...\n"
     ]
    },
    {
     "name": "stderr",
     "output_type": "stream",
     "text": [
      "Time steps: 100%|########################################################################################################################9| 17520/17521 [00:05<00:00, 3034.42it/s]\n"
     ]
    },
    {
     "name": "stdout",
     "output_type": "stream",
     "text": [
      "Running EPANET ...\n"
     ]
    },
    {
     "name": "stderr",
     "output_type": "stream",
     "text": [
      "Time steps: 100%|########################################################################################################################9| 17520/17521 [00:05<00:00, 3054.75it/s]\n"
     ]
    },
    {
     "name": "stdout",
     "output_type": "stream",
     "text": [
      "Running EPANET ...\n"
     ]
    },
    {
     "name": "stderr",
     "output_type": "stream",
     "text": [
      "Time steps: 100%|########################################################################################################################9| 17520/17521 [00:05<00:00, 2970.14it/s]\n"
     ]
    },
    {
     "name": "stdout",
     "output_type": "stream",
     "text": [
      "Running EPANET ...\n"
     ]
    },
    {
     "name": "stderr",
     "output_type": "stream",
     "text": [
      "Time steps: 100%|########################################################################################################################9| 17520/17521 [00:05<00:00, 3017.36it/s]\n"
     ]
    },
    {
     "name": "stdout",
     "output_type": "stream",
     "text": [
      "Running EPANET ...\n"
     ]
    },
    {
     "name": "stderr",
     "output_type": "stream",
     "text": [
      "Time steps: 100%|########################################################################################################################9| 17520/17521 [00:05<00:00, 3002.31it/s]\n"
     ]
    },
    {
     "name": "stdout",
     "output_type": "stream",
     "text": [
      "Running EPANET ...\n"
     ]
    },
    {
     "name": "stderr",
     "output_type": "stream",
     "text": [
      "Time steps: 100%|########################################################################################################################9| 17520/17521 [00:05<00:00, 3014.76it/s]\n"
     ]
    },
    {
     "name": "stdout",
     "output_type": "stream",
     "text": [
      "Running EPANET ...\n"
     ]
    },
    {
     "name": "stderr",
     "output_type": "stream",
     "text": [
      "Time steps: 100%|########################################################################################################################9| 17520/17521 [00:05<00:00, 3025.89it/s]\n"
     ]
    },
    {
     "name": "stdout",
     "output_type": "stream",
     "text": [
      "Running EPANET ...\n"
     ]
    },
    {
     "name": "stderr",
     "output_type": "stream",
     "text": [
      "Time steps: 100%|########################################################################################################################9| 17520/17521 [00:05<00:00, 3036.53it/s]\n"
     ]
    },
    {
     "name": "stdout",
     "output_type": "stream",
     "text": [
      "Running EPANET ...\n"
     ]
    },
    {
     "name": "stderr",
     "output_type": "stream",
     "text": [
      "Time steps: 100%|########################################################################################################################9| 17520/17521 [00:05<00:00, 3044.44it/s]\n"
     ]
    },
    {
     "name": "stdout",
     "output_type": "stream",
     "text": [
      "Running EPANET ...\n"
     ]
    },
    {
     "name": "stderr",
     "output_type": "stream",
     "text": [
      "Time steps: 100%|########################################################################################################################9| 17520/17521 [00:05<00:00, 2975.52it/s]\n"
     ]
    },
    {
     "name": "stdout",
     "output_type": "stream",
     "text": [
      "Running EPANET ...\n"
     ]
    },
    {
     "name": "stderr",
     "output_type": "stream",
     "text": [
      "Time steps: 100%|########################################################################################################################9| 17520/17521 [00:05<00:00, 3010.10it/s]\n"
     ]
    },
    {
     "name": "stdout",
     "output_type": "stream",
     "text": [
      "Running EPANET ...\n"
     ]
    },
    {
     "name": "stderr",
     "output_type": "stream",
     "text": [
      "Time steps: 100%|########################################################################################################################9| 17520/17521 [00:05<00:00, 3012.52it/s]\n"
     ]
    },
    {
     "name": "stdout",
     "output_type": "stream",
     "text": [
      "Running EPANET ...\n"
     ]
    },
    {
     "name": "stderr",
     "output_type": "stream",
     "text": [
      "Time steps: 100%|########################################################################################################################9| 17520/17521 [00:05<00:00, 3014.07it/s]\n"
     ]
    },
    {
     "name": "stdout",
     "output_type": "stream",
     "text": [
      "Running EPANET ...\n"
     ]
    },
    {
     "name": "stderr",
     "output_type": "stream",
     "text": [
      "Time steps: 100%|########################################################################################################################9| 17520/17521 [00:05<00:00, 3043.98it/s]\n"
     ]
    },
    {
     "name": "stdout",
     "output_type": "stream",
     "text": [
      "Running EPANET ...\n"
     ]
    },
    {
     "name": "stderr",
     "output_type": "stream",
     "text": [
      "Time steps: 100%|########################################################################################################################9| 17520/17521 [00:05<00:00, 2992.83it/s]\n"
     ]
    },
    {
     "name": "stdout",
     "output_type": "stream",
     "text": [
      "Running EPANET ...\n"
     ]
    },
    {
     "name": "stderr",
     "output_type": "stream",
     "text": [
      "Time steps: 100%|########################################################################################################################9| 17520/17521 [00:05<00:00, 3031.30it/s]\n"
     ]
    },
    {
     "name": "stdout",
     "output_type": "stream",
     "text": [
      "Running EPANET ...\n"
     ]
    },
    {
     "name": "stderr",
     "output_type": "stream",
     "text": [
      "Time steps: 100%|########################################################################################################################9| 17520/17521 [00:05<00:00, 3033.86it/s]\n"
     ]
    },
    {
     "name": "stdout",
     "output_type": "stream",
     "text": [
      "Running EPANET ...\n"
     ]
    },
    {
     "name": "stderr",
     "output_type": "stream",
     "text": [
      "Time steps: 100%|########################################################################################################################9| 17520/17521 [00:05<00:00, 3029.94it/s]\n"
     ]
    },
    {
     "name": "stdout",
     "output_type": "stream",
     "text": [
      "Running EPANET ...\n"
     ]
    },
    {
     "name": "stderr",
     "output_type": "stream",
     "text": [
      "Time steps: 100%|########################################################################################################################9| 17520/17521 [00:05<00:00, 3037.25it/s]\n"
     ]
    },
    {
     "name": "stdout",
     "output_type": "stream",
     "text": [
      "Running EPANET ...\n"
     ]
    },
    {
     "name": "stderr",
     "output_type": "stream",
     "text": [
      "Time steps: 100%|########################################################################################################################9| 17520/17521 [00:05<00:00, 3020.79it/s]\n"
     ]
    },
    {
     "name": "stdout",
     "output_type": "stream",
     "text": [
      "Running EPANET ...\n"
     ]
    },
    {
     "name": "stderr",
     "output_type": "stream",
     "text": [
      "Time steps: 100%|########################################################################################################################9| 17520/17521 [00:05<00:00, 3011.83it/s]\n"
     ]
    },
    {
     "name": "stdout",
     "output_type": "stream",
     "text": [
      "Running EPANET ...\n"
     ]
    },
    {
     "name": "stderr",
     "output_type": "stream",
     "text": [
      "Time steps: 100%|########################################################################################################################9| 17520/17521 [00:05<00:00, 2982.15it/s]\n"
     ]
    },
    {
     "name": "stdout",
     "output_type": "stream",
     "text": [
      "Running EPANET ...\n"
     ]
    },
    {
     "name": "stderr",
     "output_type": "stream",
     "text": [
      "Time steps: 100%|########################################################################################################################9| 17520/17521 [00:05<00:00, 2968.99it/s]\n"
     ]
    },
    {
     "name": "stdout",
     "output_type": "stream",
     "text": [
      "Running EPANET ...\n"
     ]
    },
    {
     "name": "stderr",
     "output_type": "stream",
     "text": [
      "Time steps: 100%|########################################################################################################################9| 17520/17521 [00:05<00:00, 3029.98it/s]\n"
     ]
    },
    {
     "name": "stdout",
     "output_type": "stream",
     "text": [
      "Running EPANET ...\n"
     ]
    },
    {
     "name": "stderr",
     "output_type": "stream",
     "text": [
      "Time steps: 100%|########################################################################################################################9| 17520/17521 [00:05<00:00, 2948.69it/s]\n"
     ]
    },
    {
     "name": "stdout",
     "output_type": "stream",
     "text": [
      "Running EPANET ...\n"
     ]
    },
    {
     "name": "stderr",
     "output_type": "stream",
     "text": [
      "Time steps: 100%|########################################################################################################################9| 17520/17521 [00:05<00:00, 3035.08it/s]\n"
     ]
    },
    {
     "name": "stdout",
     "output_type": "stream",
     "text": [
      "Running EPANET ...\n"
     ]
    },
    {
     "name": "stderr",
     "output_type": "stream",
     "text": [
      "Time steps: 100%|########################################################################################################################9| 17520/17521 [00:05<00:00, 2956.92it/s]\n"
     ]
    },
    {
     "name": "stdout",
     "output_type": "stream",
     "text": [
      "Running EPANET ...\n"
     ]
    },
    {
     "name": "stderr",
     "output_type": "stream",
     "text": [
      "Time steps: 100%|########################################################################################################################9| 17520/17521 [00:05<00:00, 3043.05it/s]\n"
     ]
    },
    {
     "name": "stdout",
     "output_type": "stream",
     "text": [
      "Running EPANET ...\n"
     ]
    },
    {
     "name": "stderr",
     "output_type": "stream",
     "text": [
      "Time steps: 100%|########################################################################################################################9| 17520/17521 [00:05<00:00, 3033.49it/s]\n"
     ]
    },
    {
     "name": "stdout",
     "output_type": "stream",
     "text": [
      "Running EPANET ...\n"
     ]
    },
    {
     "name": "stderr",
     "output_type": "stream",
     "text": [
      "Time steps: 100%|########################################################################################################################9| 17520/17521 [00:05<00:00, 2984.43it/s]\n"
     ]
    },
    {
     "name": "stdout",
     "output_type": "stream",
     "text": [
      "Running EPANET ...\n"
     ]
    },
    {
     "name": "stderr",
     "output_type": "stream",
     "text": [
      "Time steps: 100%|########################################################################################################################9| 17520/17521 [00:05<00:00, 3006.24it/s]\n"
     ]
    },
    {
     "name": "stdout",
     "output_type": "stream",
     "text": [
      "Running EPANET ...\n"
     ]
    },
    {
     "name": "stderr",
     "output_type": "stream",
     "text": [
      "Time steps: 100%|########################################################################################################################9| 17520/17521 [00:05<00:00, 3021.38it/s]\n"
     ]
    },
    {
     "name": "stdout",
     "output_type": "stream",
     "text": [
      "Running EPANET ...\n"
     ]
    },
    {
     "name": "stderr",
     "output_type": "stream",
     "text": [
      "Time steps: 100%|########################################################################################################################9| 17520/17521 [00:05<00:00, 2974.23it/s]\n"
     ]
    },
    {
     "name": "stdout",
     "output_type": "stream",
     "text": [
      "Running EPANET ...\n"
     ]
    },
    {
     "name": "stderr",
     "output_type": "stream",
     "text": [
      "Time steps: 100%|########################################################################################################################9| 17520/17521 [00:05<00:00, 2953.52it/s]\n"
     ]
    },
    {
     "name": "stdout",
     "output_type": "stream",
     "text": [
      "Running EPANET ...\n"
     ]
    },
    {
     "name": "stderr",
     "output_type": "stream",
     "text": [
      "Time steps: 100%|########################################################################################################################9| 17520/17521 [00:05<00:00, 3053.28it/s]\n"
     ]
    }
   ],
   "source": [
    "scada_data = {}\n",
    "for key, scenario in scenarios.items():\n",
    "    scada_data[key] = scenario.run_simulation(verbose=True)"
   ]
  },
  {
   "cell_type": "markdown",
   "metadata": {},
   "source": [
    "### 3. Machine Learning based Leakage Detection"
   ]
  },
  {
   "cell_type": "markdown",
   "metadata": {},
   "source": [
    "Prepare the simulation results for calibrating (i.e. creating) a Machine Learning based leakage detection method:\n",
    "\n",
    "- Create a feature vector (pressure and flow readings at the sensors).\n",
    "- Create ground-truth labels utilizing the [`time_points_to_one_hot_encoding()`](https://epyt-flow.readthedocs.io/en/stable/epyt_flow.html#epyt_flow.utils.time_points_to_one_hot_encoding) helper function."
   ]
  },
  {
   "cell_type": "code",
   "execution_count": 14,
   "metadata": {},
   "outputs": [
    {
     "name": "stdout",
     "output_type": "stream",
     "text": [
      "Total samples: 1752100, features: 15, samples_y : 1752100\n"
     ]
    }
   ],
   "source": [
    "# Concatenate pressure and flow readings into a single feature vector\n",
    "# X = np.concatenate((scada_data.get_data_pressures(), scada_data.get_data_flows()), axis=1)\n",
    "\"\"\"X_tmp = [scada_data[key].get_data_pressures()[:, sensor_placements] for key in scen_keys]\n",
    "X = np.vstack(X_tmp)\n",
    "y_tmp = []\n",
    "for key in scen_keys:\n",
    "    events_times = [int(t / configs[int(key)].general_params[\"hydraulic_time_step\"])\n",
    "                    for t in scenarios[key].get_events_active_time_points()]\n",
    "    y_tmp.append(time_points_to_one_hot_encoding(events_times, total_length=X_tmp[0].shape[0]))\n",
    "y = np.concatenate(y_tmp)\n",
    "print(f\"Total samples: {X.shape[0]}, features: {X.shape[1]}, samples_y : {y.shape[0]}\")\"\"\"\n",
    "X_tmp = [scada_data[key].get_data_pressures()[:, sensor_placements] for key in scen_train_keys]\n",
    "X_train = np.vstack(X_tmp)\n",
    "X_test = {key: scada_data[key].get_data_pressures()[:, sensor_placements] for key in scen_test_keys}\n",
    "y_tmp = []\n",
    "y_test = {}\n",
    "for i, key in enumerate(scen_train_keys):\n",
    "    events_times = [int(t / configs[i].general_params[\"hydraulic_time_step\"])\n",
    "                    for t in scenarios[key].get_events_active_time_points()]\n",
    "    y_tmp.append(time_points_to_one_hot_encoding(events_times, total_length=X_tmp[0].shape[0]))\n",
    "for i, key in enumerate(scen_test_keys):\n",
    "    events_times = [int(t / configs[i].general_params[\"hydraulic_time_step\"])\n",
    "                    for t in scenarios[key].get_events_active_time_points()]\n",
    "    y_test[key] = time_points_to_one_hot_encoding(events_times, total_length=X_test[key].shape[0])\n",
    "y_train = np.concatenate(y_tmp)\n",
    "print(f\"Total samples: {X_train.shape[0]}, features: {X_train.shape[1]}, samples_y : {y_train.shape[0]}\")"
   ]
  },
  {
   "cell_type": "markdown",
   "metadata": {},
   "source": [
    "the following three"
   ]
  },
  {
   "cell_type": "markdown",
   "metadata": {},
   "source": [
    "Split the data into train and test set -- here, training data is the fault-free first week of the simulation and the second week (containing the leakages) is the test data:"
   ]
  },
  {
   "cell_type": "code",
   "execution_count": 15,
   "metadata": {},
   "outputs": [
    {
     "name": "stdout",
     "output_type": "stream",
     "text": [
      "X_train shape: (1752100, 15)\n",
      "y_train shape: (1752100,)\n"
     ]
    }
   ],
   "source": [
    "\"\"\"X_train, X_test, y_train, y_test = train_test_split(\n",
    "    X, y,\n",
    "    test_size=0.20,\n",
    "    random_state=42,\n",
    "    stratify=y\n",
    ")\"\"\"\n",
    "\n",
    "\n",
    "X_train, y_train = sklearn.utils.shuffle(\n",
    "    X_train, y_train,\n",
    "    random_state=42\n",
    ")\n",
    "print(\"X_train shape:\", X_train.shape)\n",
    "print(\"y_train shape:\", y_train.shape)"
   ]
  },
  {
   "cell_type": "markdown",
   "metadata": {},
   "source": [
    "#### Machine Learning based Event Detector\n",
    "\n",
    "\n",
    "As a classic baseline, EPyT-Flow already implements a residual-based interpolation detection method called [`SensorInterpolationDetector`](https://epyt-flow.readthedocs.io/en/stable/epyt_flow.models.html#epyt_flow.models.sensor_interpolation_detector.SensorInterpolationDetector).\n",
    "\n",
    "This method tries to predict the readings of a given sensor based on all other sensors: $f: \\vec{x}_t\\setminus\\{i\\} \\mapsto (\\vec{x}_t)_i$, where $\\vec{x}_t$ refers to these sensor ratings at time $t$, and $\\vec{x}_t\\setminus\\{i\\}$ denotes these sensor readings without the $i$-th sensor.\n",
    "An alarm is raised (i.e. event detected) whenever the prediction and the observation of at least one sensor differ significantly:\n",
    "$$\n",
    "   \\exists i:\\; |f(\\vec{x}_t\\setminus\\{i\\}) - (\\vec{x}_t)_i| > \\theta_i\n",
    "$$\n",
    "where $\\theta_i > 0$ denotes a sensor-specific threshold at which the difference is considered as significant.\n",
    "For this, the detection method has to be calibrated (i.e. fitted) to a time window of (ideally event-free) sensor readings to determine a suitable threshold $\\theta$ that does not raise an alarm when the network is in normal operation (i.e. no events present).\n",
    "\n",
    "We use this event detector to detect leakages in our generated scenario.\n",
    "We create and calibrate (i.e. fit) the leakage detector to the first week of simulated data:"
   ]
  },
  {
   "cell_type": "code",
   "execution_count": 16,
   "metadata": {},
   "outputs": [
    {
     "name": "stderr",
     "output_type": "stream",
     "text": [
      "/opt/homebrew/Caskroom/miniconda/base/envs/ML_WD/lib/python3.10/site-packages/sklearn/linear_model/_base.py:280: RuntimeWarning: divide by zero encountered in matmul\n",
      "  return X @ coef_ + self.intercept_\n",
      "/opt/homebrew/Caskroom/miniconda/base/envs/ML_WD/lib/python3.10/site-packages/sklearn/linear_model/_base.py:280: RuntimeWarning: overflow encountered in matmul\n",
      "  return X @ coef_ + self.intercept_\n",
      "/opt/homebrew/Caskroom/miniconda/base/envs/ML_WD/lib/python3.10/site-packages/sklearn/linear_model/_base.py:280: RuntimeWarning: invalid value encountered in matmul\n",
      "  return X @ coef_ + self.intercept_\n",
      "/opt/homebrew/Caskroom/miniconda/base/envs/ML_WD/lib/python3.10/site-packages/sklearn/linear_model/_base.py:280: RuntimeWarning: divide by zero encountered in matmul\n",
      "  return X @ coef_ + self.intercept_\n",
      "/opt/homebrew/Caskroom/miniconda/base/envs/ML_WD/lib/python3.10/site-packages/sklearn/linear_model/_base.py:280: RuntimeWarning: overflow encountered in matmul\n",
      "  return X @ coef_ + self.intercept_\n",
      "/opt/homebrew/Caskroom/miniconda/base/envs/ML_WD/lib/python3.10/site-packages/sklearn/linear_model/_base.py:280: RuntimeWarning: invalid value encountered in matmul\n",
      "  return X @ coef_ + self.intercept_\n",
      "/opt/homebrew/Caskroom/miniconda/base/envs/ML_WD/lib/python3.10/site-packages/sklearn/linear_model/_base.py:280: RuntimeWarning: divide by zero encountered in matmul\n",
      "  return X @ coef_ + self.intercept_\n",
      "/opt/homebrew/Caskroom/miniconda/base/envs/ML_WD/lib/python3.10/site-packages/sklearn/linear_model/_base.py:280: RuntimeWarning: overflow encountered in matmul\n",
      "  return X @ coef_ + self.intercept_\n",
      "/opt/homebrew/Caskroom/miniconda/base/envs/ML_WD/lib/python3.10/site-packages/sklearn/linear_model/_base.py:280: RuntimeWarning: invalid value encountered in matmul\n",
      "  return X @ coef_ + self.intercept_\n",
      "/opt/homebrew/Caskroom/miniconda/base/envs/ML_WD/lib/python3.10/site-packages/sklearn/linear_model/_base.py:280: RuntimeWarning: divide by zero encountered in matmul\n",
      "  return X @ coef_ + self.intercept_\n",
      "/opt/homebrew/Caskroom/miniconda/base/envs/ML_WD/lib/python3.10/site-packages/sklearn/linear_model/_base.py:280: RuntimeWarning: overflow encountered in matmul\n",
      "  return X @ coef_ + self.intercept_\n",
      "/opt/homebrew/Caskroom/miniconda/base/envs/ML_WD/lib/python3.10/site-packages/sklearn/linear_model/_base.py:280: RuntimeWarning: invalid value encountered in matmul\n",
      "  return X @ coef_ + self.intercept_\n",
      "/opt/homebrew/Caskroom/miniconda/base/envs/ML_WD/lib/python3.10/site-packages/sklearn/linear_model/_base.py:280: RuntimeWarning: divide by zero encountered in matmul\n",
      "  return X @ coef_ + self.intercept_\n",
      "/opt/homebrew/Caskroom/miniconda/base/envs/ML_WD/lib/python3.10/site-packages/sklearn/linear_model/_base.py:280: RuntimeWarning: overflow encountered in matmul\n",
      "  return X @ coef_ + self.intercept_\n",
      "/opt/homebrew/Caskroom/miniconda/base/envs/ML_WD/lib/python3.10/site-packages/sklearn/linear_model/_base.py:280: RuntimeWarning: invalid value encountered in matmul\n",
      "  return X @ coef_ + self.intercept_\n",
      "/opt/homebrew/Caskroom/miniconda/base/envs/ML_WD/lib/python3.10/site-packages/sklearn/linear_model/_base.py:280: RuntimeWarning: divide by zero encountered in matmul\n",
      "  return X @ coef_ + self.intercept_\n",
      "/opt/homebrew/Caskroom/miniconda/base/envs/ML_WD/lib/python3.10/site-packages/sklearn/linear_model/_base.py:280: RuntimeWarning: overflow encountered in matmul\n",
      "  return X @ coef_ + self.intercept_\n",
      "/opt/homebrew/Caskroom/miniconda/base/envs/ML_WD/lib/python3.10/site-packages/sklearn/linear_model/_base.py:280: RuntimeWarning: invalid value encountered in matmul\n",
      "  return X @ coef_ + self.intercept_\n",
      "/opt/homebrew/Caskroom/miniconda/base/envs/ML_WD/lib/python3.10/site-packages/sklearn/linear_model/_base.py:280: RuntimeWarning: divide by zero encountered in matmul\n",
      "  return X @ coef_ + self.intercept_\n",
      "/opt/homebrew/Caskroom/miniconda/base/envs/ML_WD/lib/python3.10/site-packages/sklearn/linear_model/_base.py:280: RuntimeWarning: overflow encountered in matmul\n",
      "  return X @ coef_ + self.intercept_\n",
      "/opt/homebrew/Caskroom/miniconda/base/envs/ML_WD/lib/python3.10/site-packages/sklearn/linear_model/_base.py:280: RuntimeWarning: invalid value encountered in matmul\n",
      "  return X @ coef_ + self.intercept_\n",
      "/opt/homebrew/Caskroom/miniconda/base/envs/ML_WD/lib/python3.10/site-packages/sklearn/linear_model/_base.py:280: RuntimeWarning: divide by zero encountered in matmul\n",
      "  return X @ coef_ + self.intercept_\n",
      "/opt/homebrew/Caskroom/miniconda/base/envs/ML_WD/lib/python3.10/site-packages/sklearn/linear_model/_base.py:280: RuntimeWarning: overflow encountered in matmul\n",
      "  return X @ coef_ + self.intercept_\n",
      "/opt/homebrew/Caskroom/miniconda/base/envs/ML_WD/lib/python3.10/site-packages/sklearn/linear_model/_base.py:280: RuntimeWarning: invalid value encountered in matmul\n",
      "  return X @ coef_ + self.intercept_\n",
      "/opt/homebrew/Caskroom/miniconda/base/envs/ML_WD/lib/python3.10/site-packages/sklearn/linear_model/_base.py:280: RuntimeWarning: divide by zero encountered in matmul\n",
      "  return X @ coef_ + self.intercept_\n",
      "/opt/homebrew/Caskroom/miniconda/base/envs/ML_WD/lib/python3.10/site-packages/sklearn/linear_model/_base.py:280: RuntimeWarning: overflow encountered in matmul\n",
      "  return X @ coef_ + self.intercept_\n",
      "/opt/homebrew/Caskroom/miniconda/base/envs/ML_WD/lib/python3.10/site-packages/sklearn/linear_model/_base.py:280: RuntimeWarning: invalid value encountered in matmul\n",
      "  return X @ coef_ + self.intercept_\n",
      "/opt/homebrew/Caskroom/miniconda/base/envs/ML_WD/lib/python3.10/site-packages/sklearn/linear_model/_base.py:280: RuntimeWarning: divide by zero encountered in matmul\n",
      "  return X @ coef_ + self.intercept_\n",
      "/opt/homebrew/Caskroom/miniconda/base/envs/ML_WD/lib/python3.10/site-packages/sklearn/linear_model/_base.py:280: RuntimeWarning: overflow encountered in matmul\n",
      "  return X @ coef_ + self.intercept_\n",
      "/opt/homebrew/Caskroom/miniconda/base/envs/ML_WD/lib/python3.10/site-packages/sklearn/linear_model/_base.py:280: RuntimeWarning: invalid value encountered in matmul\n",
      "  return X @ coef_ + self.intercept_\n",
      "/opt/homebrew/Caskroom/miniconda/base/envs/ML_WD/lib/python3.10/site-packages/sklearn/linear_model/_base.py:280: RuntimeWarning: divide by zero encountered in matmul\n",
      "  return X @ coef_ + self.intercept_\n",
      "/opt/homebrew/Caskroom/miniconda/base/envs/ML_WD/lib/python3.10/site-packages/sklearn/linear_model/_base.py:280: RuntimeWarning: overflow encountered in matmul\n",
      "  return X @ coef_ + self.intercept_\n",
      "/opt/homebrew/Caskroom/miniconda/base/envs/ML_WD/lib/python3.10/site-packages/sklearn/linear_model/_base.py:280: RuntimeWarning: invalid value encountered in matmul\n",
      "  return X @ coef_ + self.intercept_\n",
      "/opt/homebrew/Caskroom/miniconda/base/envs/ML_WD/lib/python3.10/site-packages/sklearn/linear_model/_base.py:280: RuntimeWarning: divide by zero encountered in matmul\n",
      "  return X @ coef_ + self.intercept_\n",
      "/opt/homebrew/Caskroom/miniconda/base/envs/ML_WD/lib/python3.10/site-packages/sklearn/linear_model/_base.py:280: RuntimeWarning: overflow encountered in matmul\n",
      "  return X @ coef_ + self.intercept_\n",
      "/opt/homebrew/Caskroom/miniconda/base/envs/ML_WD/lib/python3.10/site-packages/sklearn/linear_model/_base.py:280: RuntimeWarning: invalid value encountered in matmul\n",
      "  return X @ coef_ + self.intercept_\n",
      "/opt/homebrew/Caskroom/miniconda/base/envs/ML_WD/lib/python3.10/site-packages/sklearn/linear_model/_base.py:280: RuntimeWarning: divide by zero encountered in matmul\n",
      "  return X @ coef_ + self.intercept_\n",
      "/opt/homebrew/Caskroom/miniconda/base/envs/ML_WD/lib/python3.10/site-packages/sklearn/linear_model/_base.py:280: RuntimeWarning: overflow encountered in matmul\n",
      "  return X @ coef_ + self.intercept_\n",
      "/opt/homebrew/Caskroom/miniconda/base/envs/ML_WD/lib/python3.10/site-packages/sklearn/linear_model/_base.py:280: RuntimeWarning: invalid value encountered in matmul\n",
      "  return X @ coef_ + self.intercept_\n",
      "/opt/homebrew/Caskroom/miniconda/base/envs/ML_WD/lib/python3.10/site-packages/sklearn/linear_model/_base.py:280: RuntimeWarning: divide by zero encountered in matmul\n",
      "  return X @ coef_ + self.intercept_\n",
      "/opt/homebrew/Caskroom/miniconda/base/envs/ML_WD/lib/python3.10/site-packages/sklearn/linear_model/_base.py:280: RuntimeWarning: overflow encountered in matmul\n",
      "  return X @ coef_ + self.intercept_\n",
      "/opt/homebrew/Caskroom/miniconda/base/envs/ML_WD/lib/python3.10/site-packages/sklearn/linear_model/_base.py:280: RuntimeWarning: invalid value encountered in matmul\n",
      "  return X @ coef_ + self.intercept_\n",
      "/opt/homebrew/Caskroom/miniconda/base/envs/ML_WD/lib/python3.10/site-packages/sklearn/linear_model/_base.py:280: RuntimeWarning: divide by zero encountered in matmul\n",
      "  return X @ coef_ + self.intercept_\n",
      "/opt/homebrew/Caskroom/miniconda/base/envs/ML_WD/lib/python3.10/site-packages/sklearn/linear_model/_base.py:280: RuntimeWarning: overflow encountered in matmul\n",
      "  return X @ coef_ + self.intercept_\n",
      "/opt/homebrew/Caskroom/miniconda/base/envs/ML_WD/lib/python3.10/site-packages/sklearn/linear_model/_base.py:280: RuntimeWarning: invalid value encountered in matmul\n",
      "  return X @ coef_ + self.intercept_\n"
     ]
    }
   ],
   "source": [
    "detector = SensorInterpolationDetector()\n",
    "mixed_clf = mixed_model_classification_fit(100, X_train, y_train)\n",
    "\n",
    "detector.fit(X_train)"
   ]
  },
  {
   "cell_type": "markdown",
   "metadata": {},
   "source": [
    "Apply the detector to the test data (i.e. second week of simulated data):"
   ]
  },
  {
   "cell_type": "code",
   "execution_count": 17,
   "metadata": {},
   "outputs": [
    {
     "name": "stdout",
     "output_type": "stream",
     "text": [
      "              precision    recall  f1-score   support\n",
      "\n",
      "     class_0       0.97      0.99      0.98     16994\n",
      "     class_1       0.01      0.00      0.00       527\n",
      "\n",
      "    accuracy                           0.96     17521\n",
      "   macro avg       0.49      0.50      0.49     17521\n",
      "weighted avg       0.94      0.96      0.95     17521\n",
      "\n",
      "              precision    recall  f1-score   support\n",
      "\n",
      "     class_0       0.59      1.00      0.74     10350\n",
      "     class_1       0.81      0.00      0.00      7171\n",
      "\n",
      "    accuracy                           0.59     17521\n",
      "   macro avg       0.70      0.50      0.37     17521\n",
      "weighted avg       0.68      0.59      0.44     17521\n",
      "\n",
      "              precision    recall  f1-score   support\n",
      "\n",
      "     class_0       1.00      1.00      1.00     17521\n",
      "\n",
      "   micro avg       1.00      1.00      1.00     17521\n",
      "   macro avg       1.00      1.00      1.00     17521\n",
      "weighted avg       1.00      1.00      1.00     17521\n",
      "\n",
      "              precision    recall  f1-score   support\n",
      "\n",
      "     class_0       0.72      1.00      0.84     12586\n",
      "     class_1       0.51      0.00      0.01      4935\n",
      "\n",
      "    accuracy                           0.72     17521\n",
      "   macro avg       0.62      0.50      0.42     17521\n",
      "weighted avg       0.66      0.72      0.60     17521\n",
      "\n",
      "              precision    recall  f1-score   support\n",
      "\n",
      "     class_0       0.71      1.00      0.83     12433\n",
      "     class_1       0.43      0.00      0.00      5088\n",
      "\n",
      "    accuracy                           0.71     17521\n",
      "   macro avg       0.57      0.50      0.42     17521\n",
      "weighted avg       0.63      0.71      0.59     17521\n",
      "\n",
      "              precision    recall  f1-score   support\n",
      "\n",
      "     class_0       0.75      1.00      0.86     13236\n",
      "     class_1       0.12      0.00      0.00      4285\n",
      "\n",
      "    accuracy                           0.75     17521\n",
      "   macro avg       0.44      0.50      0.43     17521\n",
      "weighted avg       0.60      0.75      0.65     17521\n",
      "\n",
      "              precision    recall  f1-score   support\n",
      "\n",
      "     class_0       0.90      1.00      0.95     15779\n",
      "     class_1       0.00      0.00      0.00      1742\n",
      "\n",
      "    accuracy                           0.90     17521\n",
      "   macro avg       0.45      0.50      0.47     17521\n",
      "weighted avg       0.81      0.90      0.85     17521\n",
      "\n",
      "              precision    recall  f1-score   support\n",
      "\n",
      "     class_0       0.46      1.00      0.63      8118\n",
      "     class_1       0.54      0.00      0.00      9403\n",
      "\n",
      "    accuracy                           0.46     17521\n",
      "   macro avg       0.50      0.50      0.32     17521\n",
      "weighted avg       0.51      0.46      0.30     17521\n",
      "\n",
      "              precision    recall  f1-score   support\n",
      "\n",
      "     class_0       0.38      1.00      0.55      6604\n",
      "     class_1       0.92      0.00      0.00     10917\n",
      "\n",
      "    accuracy                           0.38     17521\n",
      "   macro avg       0.65      0.50      0.27     17521\n",
      "weighted avg       0.71      0.38      0.21     17521\n",
      "\n",
      "              precision    recall  f1-score   support\n",
      "\n",
      "     class_0       1.00      0.99      1.00     17521\n",
      "\n",
      "   micro avg       1.00      0.99      1.00     17521\n",
      "   macro avg       1.00      0.99      1.00     17521\n",
      "weighted avg       1.00      0.99      1.00     17521\n",
      "\n"
     ]
    }
   ],
   "source": [
    "#suspicious_time_points = detector.apply(X_test)\n",
    "suspicious_time_points = {key: mixed_model_classification_predict(mixed_clf, X_test[key], y_test[key]) for key in scen_test_keys}\n",
    "#suspicious_time_points_train = {key: mixed_model_classification_predict(mixed_clf, X_tmp[i], y_tmp[i]) for i, key in enumerate(scen_train_keys)}\n",
    "#suspicious_time_points = {i: mixed_model_classification_predict(mixed_clf, X_tmp[i], y_tmp[i]) for i in range(len(X_tmp))} "
   ]
  },
  {
   "cell_type": "markdown",
   "metadata": {},
   "source": [
    "### 4. Evaluation\n",
    "\n",
    "In order to evaluate the performance of the leakage detector, we could either compute the [confusion matrix](https://en.wikipedia.org/wiki/Confusion_matrix) or plot the raised alarms together with the ground truth labels.\n",
    "\n",
    "Here, we plot event (i.e. leakage) presence over time together with the raised alarms by the detector:"
   ]
  },
  {
   "cell_type": "code",
   "execution_count": null,
   "metadata": {},
   "outputs": [],
   "source": [
    "disp_scenario = 6\n",
    "plt.figure()\n",
    "plt.plot(list(range(len(y_tmp[disp_scenario - 1]))), y_tmp[disp_scenario - 1], color=\"red\", label=\"Ground truth\")\n",
    "plt.bar(list(range(len(suspicious_time_points[disp_scenario - 1]))), suspicious_time_points[disp_scenario - 1], label=\"Raised alarm\")\n",
    "plt.legend()\n",
    "plt.ylabel(\"Leakage indicator\")\n",
    "plt.yticks([0, 1], [\"Inactive\", \"Active\"])\n",
    "plt.xlabel(\"Time (5min steps)\")\n",
    "plt.show()"
   ]
  },
  {
   "cell_type": "code",
   "execution_count": 18,
   "metadata": {},
   "outputs": [
    {
     "data": {
      "image/png": "[encoded data removed]",
      "text/plain": [
       "<Figure size 640x480 with 1 Axes>"
      ]
     },
     "metadata": {},
     "output_type": "display_data"
    },
    {
     "data": {
      "image/png": "[encoded data removed]",
      "text/plain": [
       "<Figure size 640x480 with 1 Axes>"
      ]
     },
     "metadata": {},
     "output_type": "display_data"
    },
    {
     "data": {
      "image/png": "[encoded data removed]",
      "text/plain": [
       "<Figure size 640x480 with 1 Axes>"
      ]
     },
     "metadata": {},
     "output_type": "display_data"
    },
    {
     "data": {
      "image/png": "[encoded data removed]",
      "text/plain": [
       "<Figure size 640x480 with 1 Axes>"
      ]
     },
     "metadata": {},
     "output_type": "display_data"
    },
    {
     "data": {
      "image/png": "[encoded data removed]",
      "text/plain": [
       "<Figure size 640x480 with 1 Axes>"
      ]
     },
     "metadata": {},
     "output_type": "display_data"
    },
    {
     "data": {
      "image/png": "[encoded data removed]",
      "text/plain": [
       "<Figure size 640x480 with 1 Axes>"
      ]
     },
     "metadata": {},
     "output_type": "display_data"
    },
    {
     "data": {
      "image/png": "[encoded data removed]",
      "text/plain": [
       "<Figure size 640x480 with 1 Axes>"
      ]
     },
     "metadata": {},
     "output_type": "display_data"
    },
    {
     "data": {
      "image/png": "[encoded data removed]",
      "text/plain": [
       "<Figure size 640x480 with 1 Axes>"
      ]
     },
     "metadata": {},
     "output_type": "display_data"
    },
    {
     "data": {
      "image/png": "[encoded data removed]",
      "text/plain": [
       "<Figure size 640x480 with 1 Axes>"
      ]
     },
     "metadata": {},
     "output_type": "display_data"
    },
    {
     "data": {
      "image/png": "[encoded data removed]",
      "text/plain": [
       "<Figure size 640x480 with 1 Axes>"
      ]
     },
     "metadata": {},
     "output_type": "display_data"
    },
    {
     "data": {
      "text/plain": [
       "'# Generate plots for training scenarios\\nfor i, key in enumerate(scen_train_keys):\\n    plt.figure()\\n    plt.plot(list(range(len(y_tmp[i]))), y_tmp[i], color=\"red\", label=\"Ground truth\")\\n    plt.bar(list(range(len(suspicious_time_points_train[key]))), suspicious_time_points_train[key], label=\"Raised alarm\")\\n    plt.title(f\"Training Scenario {key}\")\\n    plt.legend()\\n    plt.ylabel(\"Leakage indicator\")\\n    plt.yticks([0, 1], [\"Inactive\", \"Active\"])\\n    plt.xlabel(\"Time (5min steps)\")\\n    plt.show()'"
      ]
     },
     "execution_count": 18,
     "metadata": {},
     "output_type": "execute_result"
    }
   ],
   "source": [
    "# Generate plots for test scenarios\n",
    "for key in scen_test_keys:\n",
    "    plt.figure()\n",
    "    plt.plot(list(range(len(y_test[key]))), y_test[key], color=\"red\", label=\"Ground truth\")\n",
    "    plt.bar(list(range(len(suspicious_time_points[key]))), suspicious_time_points[key], label=\"Raised alarm\")\n",
    "    plt.title(f\"Test Scenario {key}\")\n",
    "    plt.legend()\n",
    "    plt.ylabel(\"Leakage indicator\")\n",
    "    plt.yticks([0, 1], [\"Inactive\", \"Active\"])\n",
    "    plt.xlabel(\"Time (5min steps)\")\n",
    "    plt.show()\n",
    "\n",
    "\"\"\"# Generate plots for training scenarios\n",
    "for i, key in enumerate(scen_train_keys):\n",
    "    plt.figure()\n",
    "    plt.plot(list(range(len(y_tmp[i]))), y_tmp[i], color=\"red\", label=\"Ground truth\")\n",
    "    plt.bar(list(range(len(suspicious_time_points_train[key]))), suspicious_time_points_train[key], label=\"Raised alarm\")\n",
    "    plt.title(f\"Training Scenario {key}\")\n",
    "    plt.legend()\n",
    "    plt.ylabel(\"Leakage indicator\")\n",
    "    plt.yticks([0, 1], [\"Inactive\", \"Active\"])\n",
    "    plt.xlabel(\"Time (5min steps)\")\n",
    "    plt.show()\"\"\""
   ]
  },
  {
   "cell_type": "markdown",
   "metadata": {},
   "source": [
    "We observe that the small abrupt leakage is not detected, while the large incipient leakage is detected -- only a single false alarm is raised.\n",
    "\n",
    "**Note:** More advanced algorithms & methods are likely to show a better detection performance."
   ]
  },
  {
   "cell_type": "markdown",
   "metadata": {},
   "source": [
    "### Close the Simulation\n",
    "\n",
    "Do not forget to close the simulation:"
   ]
  },
  {
   "cell_type": "code",
   "execution_count": 19,
   "metadata": {},
   "outputs": [],
   "source": [
    "for scenario in scenarios.values():\n",
    "    scenario.close()"
   ]
  },
  {
   "cell_type": "code",
   "execution_count": null,
   "metadata": {},
   "outputs": [],
   "source": []
  }
 ],
 "metadata": {
  "kernelspec": {
   "display_name": "Python 3 (ipykernel)",
   "language": "python",
   "name": "python3"
  }
 },
 "nbformat": 4,
 "nbformat_minor": 2
}
