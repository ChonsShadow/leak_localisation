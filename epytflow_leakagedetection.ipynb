{
 "cells": [
  {
   "cell_type": "markdown",
   "metadata": {},
   "source": [
    "# Use-Case: Machine Learning based Leakage Detection"
   ]
  },
  {
   "cell_type": "markdown",
   "metadata": {},
   "source": [
    "Anomaly detection such as leakage detection is a classic but often non-trivial task in WDN operation. With traditional (model-based) methods reaching their limits, Machine Learning offers promising solutions.\n",
    "\n",
    "#### Outline \n",
    "This notebook demonstrates how EPyT-Flow and EPyT-Control can be utilized to create a scenario containing several leakages that have to be detected.\n",
    "Here, we use a simple Machine Learning based leakage detector that is already included in EPyT-Flow.\n",
    "It consists of the following steps:\n",
    "1. Create a new (realistic) scenario.\n",
    "2. Add some leakages to the scenario.\n",
    "3. Create a simple Machine Learning based leakage detector.\n",
    "4. Evaluate the leakage detector."
   ]
  },
  {
   "cell_type": "code",
   "execution_count": 109,
   "metadata": {},
   "outputs": [],
   "source": [
    "import warnings\n",
    "warnings.filterwarnings(\"ignore\", category=DeprecationWarning)\n",
    "warnings.filterwarnings(\"ignore\", category=ImportWarning)\n",
    "warnings.filterwarnings(\"ignore\", category=UserWarning)\n",
    "\n",
    "import numpy as np\n",
    "import matplotlib.pyplot as plt\n",
    "import sklearn\n",
    "import epyt_flow\n",
    "import pandas as pd\n",
    "\n",
    "from sklearn.metrics import mutual_info_score\n",
    "from sklearn.metrics import classification_report\n",
    "from sklearn.tree import DecisionTreeClassifier\n",
    "from sklearn.ensemble import BaggingClassifier\n",
    "from sklearn.model_selection import train_test_split\n",
    "from epyt_flow.data.networks import load_ltown\n",
    "from epyt_flow.data.benchmarks import load_leakdb_scenarios\n",
    "from epyt_flow.simulation import ScenarioSimulator\n",
    "from epyt_flow.simulation.events import AbruptLeakage, IncipientLeakage\n",
    "from epyt_flow.utils import to_seconds, time_points_to_one_hot_encoding\n",
    "from epyt_control.signal_processing import SensorInterpolationDetector"
   ]
  },
  {
   "cell_type": "code",
   "execution_count": 110,
   "metadata": {},
   "outputs": [],
   "source": [
    "# Assume that we know which specific nodes we want to watch:\n",
    "def calc_Relevance (node_pressures, relevant_index):\n",
    "    relevances = {}\n",
    "    for i in range(len(node_pressures)):\n",
    "        if i != relevant_index:\n",
    "            relevances[i] = mutual_info_score(node_pressures[relevant_index], node_pressures[i])\n",
    "    return relevances\n",
    "\n",
    "# calcuate relevance over all nodes:\n",
    "\n",
    "def calc_Relevances (node_pressures):\n",
    "    relevances = {}\n",
    "    for i in range(len(node_pressures)):\n",
    "        for j in range(i + 1, len(node_pressures)):\n",
    "            m_i_score = mutual_info_score(node_pressures[i], node_pressures[j])\n",
    "            if i not in relevances:\n",
    "                relevances[i] = m_i_score\n",
    "            else:\n",
    "                relevances[i] += m_i_score\n",
    "            if j not in relevances:\n",
    "                relevances[j] = m_i_score\n",
    "            else:\n",
    "                relevances[j] += m_i_score\n",
    "    return relevances\n",
    "    \n",
    "def calc_Redundance (x_pressures, sensor_pressures):\n",
    "    redundancy = 0\n",
    "    for pressure in sensor_pressures:\n",
    "        redundancy += mutual_info_score(x_pressures, pressure)\n",
    "    redundancy /= len(sensor_pressures)\n",
    "    return redundancy"
   ]
  },
  {
   "cell_type": "code",
   "execution_count": 111,
   "metadata": {},
   "outputs": [],
   "source": [
    "def calc_sensor_placement(node_pressures, num_sensors = 15): # do we know which nodes we want to monitor? junctions? all of them?\n",
    "    remaining_nodes = list(range(len(node_pressures)))\n",
    "    relevances = calc_Relevances(node_pressures)  # Assume we want to know the relevances in regard to all nodes\n",
    "    Sensor_placement = [max(relevances, key=relevances.get)]\n",
    "    remaining_nodes.remove(Sensor_placement[-1])\n",
    "    sensor_pressures = [node_pressures[Sensor_placement[-1]]]\n",
    "    no_redundance_nodes = [a for a in remaining_nodes if calc_Redundance(node_pressures[a], node_pressures[Sensor_placement]) == 0]\n",
    "    while no_redundance_nodes: # add nodes of highest relevance without any redundance\n",
    "        if (len(Sensor_placement) >= num_sensors):\n",
    "            break\n",
    "        tmp_relevances = relevances.copy()\n",
    "        for i in range(len(tmp_relevances.keys())): # remove nodes that have been added to the sensors and nodes with redundance\n",
    "            if i in Sensor_placement:\n",
    "                del tmp_relevances[i]\n",
    "                continue\n",
    "            if i not in no_redundance_nodes:\n",
    "                del tmp_relevances[i]\n",
    "        Sensor_placement.append(max(tmp_relevances, key=relevances.get))\n",
    "        remaining_nodes.remove(Sensor_placement[-1])\n",
    "        sensor_pressures.append(node_pressures[Sensor_placement[-1]])\n",
    "        no_redundance_nodes = [a for a in remaining_nodes if calc_Redundance(node_pressures[a], sensor_pressures) == 0]\n",
    "    remaining_relevances = list(map(relevances.get, remaining_nodes))\n",
    "    while not(all(list(map(lambda x: x == 0, remaining_relevances)))) and remaining_nodes:\n",
    "        if (len(Sensor_placement) >= num_sensors):\n",
    "            break\n",
    "        RRI = {}\n",
    "        for i in remaining_nodes:\n",
    "            RRI[i] = relevances[i]/ calc_Redundance(node_pressures[i], sensor_pressures)\n",
    "        Sensor_placement.append(max(RRI, key=RRI.get))\n",
    "        sensor_pressures.append(node_pressures[Sensor_placement[-1]])\n",
    "        remaining_nodes.remove(Sensor_placement[-1])\n",
    "        remaining_relevances = list(map(relevances.get, remaining_nodes))\n",
    "    return Sensor_placement"
   ]
  },
  {
   "cell_type": "code",
   "execution_count": 112,
   "metadata": {},
   "outputs": [],
   "source": [
    "# DecisionTreeClassifier with entropy criterion is in the ID3 style. TODO: Might use decision-tree-id3 package if it works?\n",
    "def mixed_model_classification_fit(n_estimators, X_train, y_train):\n",
    "    base = DecisionTreeClassifier(criterion='entropy') #Entropy criterion should be approximate to ID3 decision tree. Sadly no official ID3 Implementation is given\n",
    "    bagged = BaggingClassifier(estimator=base, n_estimators=n_estimators, max_samples=0.8, oob_score=True) #for faster runtime adjust parameters, especially n_estimators\n",
    "    bagged.fit(X_train, y_train)\n",
    "    return bagged\n",
    "\n",
    "def mixed_model_classification_predict(classifier, X_test, y_test):\n",
    "    y_pred = classifier.predict(X_test)\n",
    "    print(classification_report(y_test, y_pred, labels=np.unique(y_test),\n",
    "                                target_names=[f\"class_{int(c)}\" for c in np.unique(y_test)], output_dict=False))\n",
    "    return y_pred\n"
   ]
  },
  {
   "cell_type": "code",
   "execution_count": null,
   "metadata": {},
   "outputs": [
    {
     "name": "stdout",
     "output_type": "stream",
     "text": [
      "Total samples: 175200, features: 66\n"
     ]
    }
   ],
   "source": [
    "data_dict = epyt_flow.data.benchmarks.leakdb.load_data(\n",
    "    scenarios_id=[\"1\", \"2\", \"3\", \"4\", \"5\", \"6\", \"7\", \"8\", \"9\", \"10\"],  \n",
    "    #scenarios_id=[\"1\", \"2\", \"3\", \"4\", \"5\", \"6\", \"7\", \"8\", \"9\", \"10\", \"11\", \"12\", \"13\", \"14\", \"15\", \"16\", \"17\", \"18\", \"19\", \"20\"],\n",
    "    use_net1=False,\n",
    "    return_X_y=True\n",
    ")\n",
    "\n",
    "X_list, y_list = [], [] \n",
    "for sid, (Xi, yi) in data_dict.items():\n",
    "    X_list.append(Xi.values if hasattr(Xi, \"values\") else Xi) #Check for correctness. \n",
    "    y_list.append(yi)\n",
    "\n",
    "X = np.vstack(X_list)        # shape → (total_samples, n_features)\n",
    "y = np.concatenate(y_list)   # shape → (total_samples,)\n",
    "\n",
    "print(f\"Total samples: {X.shape[0]}, features: {X.shape[1]}\")\n",
    "\n",
    "X_train, X_test, y_train, y_test = train_test_split( #Might use datasets given train-test split\n",
    "    X, y,\n",
    "    test_size=0.20,\n",
    "    random_state=42,\n",
    "    stratify=y\n",
    ")\n",
    "\n",
    "clf = mixed_model_classification_fit(100, X_train, y_train)"
   ]
  },
  {
   "cell_type": "code",
   "execution_count": 68,
   "metadata": {},
   "outputs": [
    {
     "name": "stdout",
     "output_type": "stream",
     "text": [
      "              precision    recall  f1-score   support\n",
      "\n",
      "     class_0       0.96      0.99      0.97     27434\n",
      "     class_1       0.96      0.84      0.89      7606\n",
      "\n",
      "    accuracy                           0.96     35040\n",
      "   macro avg       0.96      0.91      0.93     35040\n",
      "weighted avg       0.96      0.96      0.96     35040\n",
      "\n"
     ]
    },
    {
     "data": {
      "text/plain": [
       "array([0., 1., 1., ..., 1., 0., 0.], shape=(35040,))"
      ]
     },
     "execution_count": 68,
     "metadata": {},
     "output_type": "execute_result"
    }
   ],
   "source": [
    "mixed_model_classification_predict(clf, X_test, y_test)"
   ]
  },
  {
   "cell_type": "markdown",
   "metadata": {},
   "source": [
    "### 1. Create new Scenario\n",
    "\n",
    "Create a new scenario based on the [L-Town network](https://epyt-flow.readthedocs.io/en/stable/epyt_flow.data.html#epyt_flow.data.networks.load_ltown) with a default sensor configuration and realistic demand patterns from the [BattLeDIM challenge](https://battledim.ucy.ac.cy/):"
   ]
  },
  {
   "cell_type": "code",
   "execution_count": 114,
   "metadata": {},
   "outputs": [
    {
     "data": {
      "text/plain": [
       "(32, 175200)"
      ]
     },
     "execution_count": 114,
     "metadata": {},
     "output_type": "execute_result"
    }
   ],
   "source": [
    "#TODO: adapt to possibility of using battledim\n",
    "#NOTE: this approach calculates a sensor placement based on multiple scenarios, i.e. all scenarios we look at\n",
    "#      due to the complexity of the algorithm this will take a lot of time!\n",
    "#TODO: discuss whether we want to use the same sensor placement for all scenarios or adapt it to each scenario\n",
    "scen_keys = [\"1\", \"2\", \"3\", \"4\", \"5\", \"6\", \"7\", \"8\", \"9\", \"10\"]\n",
    "data = epyt_flow.data.benchmarks.leakdb.load_data(scenarios_id=scen_keys, use_net1=False, return_X_y=False)\n",
    "\n",
    "pressure_column_heads = data[scen_keys[0]].columns[:32]\n",
    "node_pressures = []\n",
    "for key in scen_keys:\n",
    "    for i in range(len(pressure_column_heads)):\n",
    "        if key == scen_keys[0]:\n",
    "            node_pressures.append(data[key]['Pressure-Node_' + str(i + 1)])\n",
    "        else:\n",
    "            node_pressures[i] = np.concatenate((node_pressures[i], data[key]['Pressure-Node_' + str(i + 1)]))\n",
    "node_pressures = np.array(node_pressures)\n",
    "node_pressures.shape"
   ]
  },
  {
   "cell_type": "code",
   "execution_count": 115,
   "metadata": {},
   "outputs": [],
   "source": [
    "sensor_placements = calc_sensor_placement(node_pressures, num_sensors=15)"
   ]
  },
  {
   "cell_type": "code",
   "execution_count": 116,
   "metadata": {},
   "outputs": [],
   "source": [
    "#TODO: adapt to possible changes in the dataset\n",
    "configs = load_leakdb_scenarios(scenarios_id=scen_keys, use_net1=False, verbose=True)\n",
    "scenarios = {}\n",
    "for i, key in enumerate(scen_keys):\n",
    "    scenarios[key] = ScenarioSimulator(scenario_config=configs[i])"
   ]
  },
  {
   "cell_type": "markdown",
   "metadata": {},
   "source": [
    "Set simulation duration to 2 weeks and use 5min time intervals for the hydraulics:"
   ]
  },
  {
   "cell_type": "code",
   "execution_count": 117,
   "metadata": {},
   "outputs": [
    {
     "data": {
      "text/plain": [
       "'\\n# unnecessary, as we are using the default parameters\\nparams = {\"simulation_duration\": to_seconds(days=14),\\n          \"hydraulic_time_step\": to_seconds(minutes=5),\\n          \"reporting_time_step\": to_seconds(minutes=5)}\\nscenario.set_general_parameters(**params)\\n'"
      ]
     },
     "execution_count": 117,
     "metadata": {},
     "output_type": "execute_result"
    }
   ],
   "source": [
    "'''\n",
    "# unnecessary, as we are using the default parameters\n",
    "params = {\"simulation_duration\": to_seconds(days=14),\n",
    "          \"hydraulic_time_step\": to_seconds(minutes=5),\n",
    "          \"reporting_time_step\": to_seconds(minutes=5)}\n",
    "scenario.set_general_parameters(**params)\n",
    "'''"
   ]
  },
  {
   "cell_type": "code",
   "execution_count": 118,
   "metadata": {},
   "outputs": [
    {
     "data": {
      "image/png": "[encoded data removed]",
      "text/plain": [
       "<Figure size 1280x960 with 1 Axes>"
      ]
     },
     "metadata": {},
     "output_type": "display_data"
    }
   ],
   "source": [
    "scenarios[scen_keys[0]].plot_topology()"
   ]
  },
  {
   "cell_type": "markdown",
   "metadata": {},
   "source": [
    "### 2. Add Leakages to the Scenario\n",
    "\n",
    "In this example, we build a scenario with two leakages: A small abrupt leakage and a large incipient leakage in the second week:"
   ]
  },
  {
   "cell_type": "code",
   "execution_count": 119,
   "metadata": {},
   "outputs": [
    {
     "data": {
      "text/plain": [
       "'\\n# unnecessary, as we are using the default parameters of the scenario leaks\\nleak1 = AbruptLeakage(link_id=\"6\", diameter=0.002,\\n                      start_time=to_seconds(days=7),\\n                      end_time=to_seconds(days=8))\\nscenario.add_leakage(leak1)\\n\\nleak2 = IncipientLeakage(link_id=\"19\", diameter=0.1,\\n                         start_time=to_seconds(days=11),\\n                         end_time=to_seconds(days=13),\\n                         peak_time=to_seconds(days=12))\\nscenario.add_leakage(leak2)\\n'"
      ]
     },
     "execution_count": 119,
     "metadata": {},
     "output_type": "execute_result"
    }
   ],
   "source": [
    "'''\n",
    "# unnecessary, as we are using the default parameters of the scenario leaks\n",
    "leak1 = AbruptLeakage(link_id=\"6\", diameter=0.002,\n",
    "                      start_time=to_seconds(days=7),\n",
    "                      end_time=to_seconds(days=8))\n",
    "scenario.add_leakage(leak1)\n",
    "\n",
    "leak2 = IncipientLeakage(link_id=\"19\", diameter=0.1,\n",
    "                         start_time=to_seconds(days=11),\n",
    "                         end_time=to_seconds(days=13),\n",
    "                         peak_time=to_seconds(days=12))\n",
    "scenario.add_leakage(leak2)\n",
    "'''"
   ]
  },
  {
   "cell_type": "markdown",
   "metadata": {},
   "source": [
    "Run the complete simulation:"
   ]
  },
  {
   "cell_type": "code",
   "execution_count": 120,
   "metadata": {},
   "outputs": [
    {
     "name": "stdout",
     "output_type": "stream",
     "text": [
      "Running EPANET ...\n"
     ]
    },
    {
     "name": "stderr",
     "output_type": "stream",
     "text": [
      "Time steps: 100%|#####################################################################################################################9| 17520/17521 [00:05<00:00, 3119.04it/s]\n"
     ]
    },
    {
     "name": "stdout",
     "output_type": "stream",
     "text": [
      "Running EPANET ...\n"
     ]
    },
    {
     "name": "stderr",
     "output_type": "stream",
     "text": [
      "Time steps: 100%|#####################################################################################################################9| 17520/17521 [00:05<00:00, 3040.56it/s]\n"
     ]
    },
    {
     "name": "stdout",
     "output_type": "stream",
     "text": [
      "Running EPANET ...\n"
     ]
    },
    {
     "name": "stderr",
     "output_type": "stream",
     "text": [
      "Time steps: 100%|#####################################################################################################################9| 17520/17521 [00:05<00:00, 3023.28it/s]\n"
     ]
    },
    {
     "name": "stdout",
     "output_type": "stream",
     "text": [
      "Running EPANET ...\n"
     ]
    },
    {
     "name": "stderr",
     "output_type": "stream",
     "text": [
      "Time steps: 100%|#####################################################################################################################9| 17520/17521 [00:05<00:00, 3040.76it/s]\n"
     ]
    },
    {
     "name": "stdout",
     "output_type": "stream",
     "text": [
      "Running EPANET ...\n"
     ]
    },
    {
     "name": "stderr",
     "output_type": "stream",
     "text": [
      "Time steps: 100%|#####################################################################################################################9| 17520/17521 [00:05<00:00, 3061.55it/s]\n"
     ]
    },
    {
     "name": "stdout",
     "output_type": "stream",
     "text": [
      "Running EPANET ...\n"
     ]
    },
    {
     "name": "stderr",
     "output_type": "stream",
     "text": [
      "Time steps: 100%|#####################################################################################################################9| 17520/17521 [00:05<00:00, 2984.91it/s]\n"
     ]
    },
    {
     "name": "stdout",
     "output_type": "stream",
     "text": [
      "Running EPANET ...\n"
     ]
    },
    {
     "name": "stderr",
     "output_type": "stream",
     "text": [
      "Time steps: 100%|#####################################################################################################################9| 17520/17521 [00:05<00:00, 2965.72it/s]\n"
     ]
    },
    {
     "name": "stdout",
     "output_type": "stream",
     "text": [
      "Running EPANET ...\n"
     ]
    },
    {
     "name": "stderr",
     "output_type": "stream",
     "text": [
      "Time steps: 100%|#####################################################################################################################9| 17520/17521 [00:05<00:00, 2972.09it/s]\n"
     ]
    },
    {
     "name": "stdout",
     "output_type": "stream",
     "text": [
      "Running EPANET ...\n"
     ]
    },
    {
     "name": "stderr",
     "output_type": "stream",
     "text": [
      "Time steps: 100%|#####################################################################################################################9| 17520/17521 [00:05<00:00, 2962.01it/s]\n"
     ]
    },
    {
     "name": "stdout",
     "output_type": "stream",
     "text": [
      "Running EPANET ...\n"
     ]
    },
    {
     "name": "stderr",
     "output_type": "stream",
     "text": [
      "Time steps: 100%|#####################################################################################################################9| 17520/17521 [00:05<00:00, 3006.30it/s]\n"
     ]
    }
   ],
   "source": [
    "scada_data = {}\n",
    "for key, scenario in scenarios.items():\n",
    "    scada_data[key] = scenario.run_simulation(verbose=True)"
   ]
  },
  {
   "cell_type": "markdown",
   "metadata": {},
   "source": [
    "### 3. Machine Learning based Leakage Detection"
   ]
  },
  {
   "cell_type": "markdown",
   "metadata": {},
   "source": [
    "Prepare the simulation results for calibrating (i.e. creating) a Machine Learning based leakage detection method:\n",
    "\n",
    "- Create a feature vector (pressure and flow readings at the sensors).\n",
    "- Create ground-truth labels utilizing the [`time_points_to_one_hot_encoding()`](https://epyt-flow.readthedocs.io/en/stable/epyt_flow.html#epyt_flow.utils.time_points_to_one_hot_encoding) helper function."
   ]
  },
  {
   "cell_type": "code",
   "execution_count": 131,
   "metadata": {},
   "outputs": [
    {
     "name": "stdout",
     "output_type": "stream",
     "text": [
      "Total samples: 175210, features: 15, samples_y : 175210\n"
     ]
    }
   ],
   "source": [
    "# Concatenate pressure and flow readings into a single feature vector\n",
    "# X = np.concatenate((scada_data.get_data_pressures(), scada_data.get_data_flows()), axis=1)\n",
    "\"\"\"X = {key: scada_data[key].get_data_pressures()[:, sensor_placements] for key in scen_keys}  \n",
    "\n",
    "# Build ground-truth labels -- i.e. indicator of events\n",
    "y = {}\n",
    "for i, scenario in enumerate(scen_keys):\n",
    "    events_times = [int(t / configs[i].general_params[\"hydraulic_time_step\"])\n",
    "                for t in scenarios[scenario].get_events_active_time_points()]\n",
    "    y[scenario] = time_points_to_one_hot_encoding(events_times, total_length=X[scenario].shape[0])\"\"\"\n",
    "X_tmp = [scada_data[key].get_data_pressures()[:, sensor_placements] for key in scen_keys]\n",
    "X = np.vstack(X_tmp)\n",
    "y_tmp = []\n",
    "for key in scen_keys:\n",
    "    events_times = [int(t / configs[int(key)].general_params[\"hydraulic_time_step\"])\n",
    "                    for t in scenarios[key].get_events_active_time_points()]\n",
    "    y_tmp.append(time_points_to_one_hot_encoding(events_times, total_length=X_tmp[0].shape[0]))\n",
    "y = np.concatenate(y_tmp)\n",
    "print(f\"Total samples: {X.shape[0]}, features: {X.shape[1]}, samples_y : {y.shape[0]}\")"
   ]
  },
  {
   "cell_type": "markdown",
   "metadata": {},
   "source": [
    "the following three"
   ]
  },
  {
   "cell_type": "markdown",
   "metadata": {},
   "source": [
    "Split the data into train and test set -- here, training data is the fault-free first week of the simulation and the second week (containing the leakages) is the test data:"
   ]
  },
  {
   "cell_type": "code",
   "execution_count": 132,
   "metadata": {},
   "outputs": [
    {
     "name": "stdout",
     "output_type": "stream",
     "text": [
      "X_train shape: (140168, 15)\n",
      "y_train shape: (140168,)\n"
     ]
    }
   ],
   "source": [
    "\"\"\"X_train, y_train, X_test, y_test = [], [], {}, {}\n",
    "for i, key in enumerate(scen_keys):\n",
    "    if i - 1 < len(scen_keys) * 0.8:  # 80% for training\n",
    "        X_train.append(X[key])\n",
    "        y_train.append(y[key])\n",
    "    else:  # 20% for testing\n",
    "        X_test[key] = X[key]\n",
    "        y_test[key] = y[key]\n",
    "X_train = np.vstack(X_train)        # shape → (total_samples, n_features)\n",
    "y_train = np.concatenate(y_train)   # shape → (total_samples,)\"\"\"\n",
    "X_train, X_test, y_train, y_test = train_test_split(\n",
    "    X, y,\n",
    "    test_size=0.20,\n",
    "    random_state=42,\n",
    "    stratify=y\n",
    ")\n",
    "print(\"X_train shape:\", X_train.shape)\n",
    "print(\"y_train shape:\", y_train.shape)"
   ]
  },
  {
   "cell_type": "markdown",
   "metadata": {},
   "source": [
    "#### Machine Learning based Event Detector\n",
    "\n",
    "\n",
    "As a classic baseline, EPyT-Flow already implements a residual-based interpolation detection method called [`SensorInterpolationDetector`](https://epyt-flow.readthedocs.io/en/stable/epyt_flow.models.html#epyt_flow.models.sensor_interpolation_detector.SensorInterpolationDetector).\n",
    "\n",
    "This method tries to predict the readings of a given sensor based on all other sensors: $f: \\vec{x}_t\\setminus\\{i\\} \\mapsto (\\vec{x}_t)_i$, where $\\vec{x}_t$ refers to these sensor ratings at time $t$, and $\\vec{x}_t\\setminus\\{i\\}$ denotes these sensor readings without the $i$-th sensor.\n",
    "An alarm is raised (i.e. event detected) whenever the prediction and the observation of at least one sensor differ significantly:\n",
    "$$\n",
    "   \\exists i:\\; |f(\\vec{x}_t\\setminus\\{i\\}) - (\\vec{x}_t)_i| > \\theta_i\n",
    "$$\n",
    "where $\\theta_i > 0$ denotes a sensor-specific threshold at which the difference is considered as significant.\n",
    "For this, the detection method has to be calibrated (i.e. fitted) to a time window of (ideally event-free) sensor readings to determine a suitable threshold $\\theta$ that does not raise an alarm when the network is in normal operation (i.e. no events present).\n",
    "\n",
    "We use this event detector to detect leakages in our generated scenario.\n",
    "We create and calibrate (i.e. fit) the leakage detector to the first week of simulated data:"
   ]
  },
  {
   "cell_type": "code",
   "execution_count": null,
   "metadata": {},
   "outputs": [
    {
     "name": "stderr",
     "output_type": "stream",
     "text": [
      "/opt/homebrew/Caskroom/miniconda/base/envs/ML_WD/lib/python3.10/site-packages/sklearn/linear_model/_base.py:280: RuntimeWarning: divide by zero encountered in matmul\n",
      "  return X @ coef_ + self.intercept_\n",
      "/opt/homebrew/Caskroom/miniconda/base/envs/ML_WD/lib/python3.10/site-packages/sklearn/linear_model/_base.py:280: RuntimeWarning: overflow encountered in matmul\n",
      "  return X @ coef_ + self.intercept_\n",
      "/opt/homebrew/Caskroom/miniconda/base/envs/ML_WD/lib/python3.10/site-packages/sklearn/linear_model/_base.py:280: RuntimeWarning: invalid value encountered in matmul\n",
      "  return X @ coef_ + self.intercept_\n",
      "/opt/homebrew/Caskroom/miniconda/base/envs/ML_WD/lib/python3.10/site-packages/sklearn/linear_model/_base.py:280: RuntimeWarning: divide by zero encountered in matmul\n",
      "  return X @ coef_ + self.intercept_\n",
      "/opt/homebrew/Caskroom/miniconda/base/envs/ML_WD/lib/python3.10/site-packages/sklearn/linear_model/_base.py:280: RuntimeWarning: overflow encountered in matmul\n",
      "  return X @ coef_ + self.intercept_\n",
      "/opt/homebrew/Caskroom/miniconda/base/envs/ML_WD/lib/python3.10/site-packages/sklearn/linear_model/_base.py:280: RuntimeWarning: invalid value encountered in matmul\n",
      "  return X @ coef_ + self.intercept_\n",
      "/opt/homebrew/Caskroom/miniconda/base/envs/ML_WD/lib/python3.10/site-packages/sklearn/linear_model/_base.py:280: RuntimeWarning: divide by zero encountered in matmul\n",
      "  return X @ coef_ + self.intercept_\n",
      "/opt/homebrew/Caskroom/miniconda/base/envs/ML_WD/lib/python3.10/site-packages/sklearn/linear_model/_base.py:280: RuntimeWarning: overflow encountered in matmul\n",
      "  return X @ coef_ + self.intercept_\n",
      "/opt/homebrew/Caskroom/miniconda/base/envs/ML_WD/lib/python3.10/site-packages/sklearn/linear_model/_base.py:280: RuntimeWarning: invalid value encountered in matmul\n",
      "  return X @ coef_ + self.intercept_\n",
      "/opt/homebrew/Caskroom/miniconda/base/envs/ML_WD/lib/python3.10/site-packages/sklearn/linear_model/_base.py:280: RuntimeWarning: divide by zero encountered in matmul\n",
      "  return X @ coef_ + self.intercept_\n",
      "/opt/homebrew/Caskroom/miniconda/base/envs/ML_WD/lib/python3.10/site-packages/sklearn/linear_model/_base.py:280: RuntimeWarning: overflow encountered in matmul\n",
      "  return X @ coef_ + self.intercept_\n",
      "/opt/homebrew/Caskroom/miniconda/base/envs/ML_WD/lib/python3.10/site-packages/sklearn/linear_model/_base.py:280: RuntimeWarning: invalid value encountered in matmul\n",
      "  return X @ coef_ + self.intercept_\n",
      "/opt/homebrew/Caskroom/miniconda/base/envs/ML_WD/lib/python3.10/site-packages/sklearn/linear_model/_base.py:280: RuntimeWarning: divide by zero encountered in matmul\n",
      "  return X @ coef_ + self.intercept_\n",
      "/opt/homebrew/Caskroom/miniconda/base/envs/ML_WD/lib/python3.10/site-packages/sklearn/linear_model/_base.py:280: RuntimeWarning: overflow encountered in matmul\n",
      "  return X @ coef_ + self.intercept_\n",
      "/opt/homebrew/Caskroom/miniconda/base/envs/ML_WD/lib/python3.10/site-packages/sklearn/linear_model/_base.py:280: RuntimeWarning: invalid value encountered in matmul\n",
      "  return X @ coef_ + self.intercept_\n",
      "/opt/homebrew/Caskroom/miniconda/base/envs/ML_WD/lib/python3.10/site-packages/sklearn/linear_model/_base.py:280: RuntimeWarning: divide by zero encountered in matmul\n",
      "  return X @ coef_ + self.intercept_\n",
      "/opt/homebrew/Caskroom/miniconda/base/envs/ML_WD/lib/python3.10/site-packages/sklearn/linear_model/_base.py:280: RuntimeWarning: overflow encountered in matmul\n",
      "  return X @ coef_ + self.intercept_\n",
      "/opt/homebrew/Caskroom/miniconda/base/envs/ML_WD/lib/python3.10/site-packages/sklearn/linear_model/_base.py:280: RuntimeWarning: invalid value encountered in matmul\n",
      "  return X @ coef_ + self.intercept_\n",
      "/opt/homebrew/Caskroom/miniconda/base/envs/ML_WD/lib/python3.10/site-packages/sklearn/linear_model/_base.py:280: RuntimeWarning: divide by zero encountered in matmul\n",
      "  return X @ coef_ + self.intercept_\n",
      "/opt/homebrew/Caskroom/miniconda/base/envs/ML_WD/lib/python3.10/site-packages/sklearn/linear_model/_base.py:280: RuntimeWarning: overflow encountered in matmul\n",
      "  return X @ coef_ + self.intercept_\n",
      "/opt/homebrew/Caskroom/miniconda/base/envs/ML_WD/lib/python3.10/site-packages/sklearn/linear_model/_base.py:280: RuntimeWarning: invalid value encountered in matmul\n",
      "  return X @ coef_ + self.intercept_\n",
      "/opt/homebrew/Caskroom/miniconda/base/envs/ML_WD/lib/python3.10/site-packages/sklearn/linear_model/_base.py:280: RuntimeWarning: divide by zero encountered in matmul\n",
      "  return X @ coef_ + self.intercept_\n",
      "/opt/homebrew/Caskroom/miniconda/base/envs/ML_WD/lib/python3.10/site-packages/sklearn/linear_model/_base.py:280: RuntimeWarning: overflow encountered in matmul\n",
      "  return X @ coef_ + self.intercept_\n",
      "/opt/homebrew/Caskroom/miniconda/base/envs/ML_WD/lib/python3.10/site-packages/sklearn/linear_model/_base.py:280: RuntimeWarning: invalid value encountered in matmul\n",
      "  return X @ coef_ + self.intercept_\n",
      "/opt/homebrew/Caskroom/miniconda/base/envs/ML_WD/lib/python3.10/site-packages/sklearn/linear_model/_base.py:280: RuntimeWarning: divide by zero encountered in matmul\n",
      "  return X @ coef_ + self.intercept_\n",
      "/opt/homebrew/Caskroom/miniconda/base/envs/ML_WD/lib/python3.10/site-packages/sklearn/linear_model/_base.py:280: RuntimeWarning: overflow encountered in matmul\n",
      "  return X @ coef_ + self.intercept_\n",
      "/opt/homebrew/Caskroom/miniconda/base/envs/ML_WD/lib/python3.10/site-packages/sklearn/linear_model/_base.py:280: RuntimeWarning: invalid value encountered in matmul\n",
      "  return X @ coef_ + self.intercept_\n",
      "/opt/homebrew/Caskroom/miniconda/base/envs/ML_WD/lib/python3.10/site-packages/sklearn/linear_model/_base.py:280: RuntimeWarning: divide by zero encountered in matmul\n",
      "  return X @ coef_ + self.intercept_\n",
      "/opt/homebrew/Caskroom/miniconda/base/envs/ML_WD/lib/python3.10/site-packages/sklearn/linear_model/_base.py:280: RuntimeWarning: overflow encountered in matmul\n",
      "  return X @ coef_ + self.intercept_\n",
      "/opt/homebrew/Caskroom/miniconda/base/envs/ML_WD/lib/python3.10/site-packages/sklearn/linear_model/_base.py:280: RuntimeWarning: invalid value encountered in matmul\n",
      "  return X @ coef_ + self.intercept_\n",
      "/opt/homebrew/Caskroom/miniconda/base/envs/ML_WD/lib/python3.10/site-packages/sklearn/linear_model/_base.py:280: RuntimeWarning: divide by zero encountered in matmul\n",
      "  return X @ coef_ + self.intercept_\n",
      "/opt/homebrew/Caskroom/miniconda/base/envs/ML_WD/lib/python3.10/site-packages/sklearn/linear_model/_base.py:280: RuntimeWarning: overflow encountered in matmul\n",
      "  return X @ coef_ + self.intercept_\n",
      "/opt/homebrew/Caskroom/miniconda/base/envs/ML_WD/lib/python3.10/site-packages/sklearn/linear_model/_base.py:280: RuntimeWarning: invalid value encountered in matmul\n",
      "  return X @ coef_ + self.intercept_\n",
      "/opt/homebrew/Caskroom/miniconda/base/envs/ML_WD/lib/python3.10/site-packages/sklearn/linear_model/_base.py:280: RuntimeWarning: divide by zero encountered in matmul\n",
      "  return X @ coef_ + self.intercept_\n",
      "/opt/homebrew/Caskroom/miniconda/base/envs/ML_WD/lib/python3.10/site-packages/sklearn/linear_model/_base.py:280: RuntimeWarning: overflow encountered in matmul\n",
      "  return X @ coef_ + self.intercept_\n",
      "/opt/homebrew/Caskroom/miniconda/base/envs/ML_WD/lib/python3.10/site-packages/sklearn/linear_model/_base.py:280: RuntimeWarning: invalid value encountered in matmul\n",
      "  return X @ coef_ + self.intercept_\n",
      "/opt/homebrew/Caskroom/miniconda/base/envs/ML_WD/lib/python3.10/site-packages/sklearn/linear_model/_base.py:280: RuntimeWarning: divide by zero encountered in matmul\n",
      "  return X @ coef_ + self.intercept_\n",
      "/opt/homebrew/Caskroom/miniconda/base/envs/ML_WD/lib/python3.10/site-packages/sklearn/linear_model/_base.py:280: RuntimeWarning: overflow encountered in matmul\n",
      "  return X @ coef_ + self.intercept_\n",
      "/opt/homebrew/Caskroom/miniconda/base/envs/ML_WD/lib/python3.10/site-packages/sklearn/linear_model/_base.py:280: RuntimeWarning: invalid value encountered in matmul\n",
      "  return X @ coef_ + self.intercept_\n",
      "/opt/homebrew/Caskroom/miniconda/base/envs/ML_WD/lib/python3.10/site-packages/sklearn/linear_model/_base.py:280: RuntimeWarning: divide by zero encountered in matmul\n",
      "  return X @ coef_ + self.intercept_\n",
      "/opt/homebrew/Caskroom/miniconda/base/envs/ML_WD/lib/python3.10/site-packages/sklearn/linear_model/_base.py:280: RuntimeWarning: overflow encountered in matmul\n",
      "  return X @ coef_ + self.intercept_\n",
      "/opt/homebrew/Caskroom/miniconda/base/envs/ML_WD/lib/python3.10/site-packages/sklearn/linear_model/_base.py:280: RuntimeWarning: invalid value encountered in matmul\n",
      "  return X @ coef_ + self.intercept_\n",
      "/opt/homebrew/Caskroom/miniconda/base/envs/ML_WD/lib/python3.10/site-packages/sklearn/linear_model/_base.py:280: RuntimeWarning: divide by zero encountered in matmul\n",
      "  return X @ coef_ + self.intercept_\n",
      "/opt/homebrew/Caskroom/miniconda/base/envs/ML_WD/lib/python3.10/site-packages/sklearn/linear_model/_base.py:280: RuntimeWarning: overflow encountered in matmul\n",
      "  return X @ coef_ + self.intercept_\n",
      "/opt/homebrew/Caskroom/miniconda/base/envs/ML_WD/lib/python3.10/site-packages/sklearn/linear_model/_base.py:280: RuntimeWarning: invalid value encountered in matmul\n",
      "  return X @ coef_ + self.intercept_\n"
     ]
    }
   ],
   "source": [
    "detector = SensorInterpolationDetector()\n",
    "mixed_clf = mixed_model_classification_fit(100, X_train, y_train)\n",
    "\n",
    "detector.fit(X_train)"
   ]
  },
  {
   "cell_type": "markdown",
   "metadata": {},
   "source": [
    "Apply the detector to the test data (i.e. second week of simulated data):"
   ]
  },
  {
   "cell_type": "code",
   "execution_count": 133,
   "metadata": {},
   "outputs": [
    {
     "name": "stdout",
     "output_type": "stream",
     "text": [
      "              precision    recall  f1-score   support\n",
      "\n",
      "     class_0       1.00      1.00      1.00     17521\n",
      "\n",
      "    accuracy                           1.00     17521\n",
      "   macro avg       1.00      1.00      1.00     17521\n",
      "weighted avg       1.00      1.00      1.00     17521\n",
      "\n",
      "              precision    recall  f1-score   support\n",
      "\n",
      "     class_0       1.00      1.00      1.00     16696\n",
      "     class_1       1.00      0.94      0.97       825\n",
      "\n",
      "    accuracy                           1.00     17521\n",
      "   macro avg       1.00      0.97      0.98     17521\n",
      "weighted avg       1.00      1.00      1.00     17521\n",
      "\n",
      "              precision    recall  f1-score   support\n",
      "\n",
      "     class_0       0.98      1.00      0.99      9123\n",
      "     class_1       1.00      0.98      0.99      8398\n",
      "\n",
      "    accuracy                           0.99     17521\n",
      "   macro avg       0.99      0.99      0.99     17521\n",
      "weighted avg       0.99      0.99      0.99     17521\n",
      "\n",
      "              precision    recall  f1-score   support\n",
      "\n",
      "     class_0       1.00      1.00      1.00     17137\n",
      "     class_1       1.00      0.96      0.98       384\n",
      "\n",
      "    accuracy                           1.00     17521\n",
      "   macro avg       1.00      0.98      0.99     17521\n",
      "weighted avg       1.00      1.00      1.00     17521\n",
      "\n",
      "              precision    recall  f1-score   support\n",
      "\n",
      "     class_0       1.00      1.00      1.00     17521\n",
      "\n",
      "    accuracy                           1.00     17521\n",
      "   macro avg       1.00      1.00      1.00     17521\n",
      "weighted avg       1.00      1.00      1.00     17521\n",
      "\n",
      "              precision    recall  f1-score   support\n",
      "\n",
      "     class_0       0.99      1.00      0.99     13509\n",
      "     class_1       1.00      0.97      0.98      4012\n",
      "\n",
      "    accuracy                           0.99     17521\n",
      "   macro avg       0.99      0.98      0.99     17521\n",
      "weighted avg       0.99      0.99      0.99     17521\n",
      "\n",
      "              precision    recall  f1-score   support\n",
      "\n",
      "     class_0       0.97      1.00      0.99      6651\n",
      "     class_1       1.00      0.98      0.99     10870\n",
      "\n",
      "    accuracy                           0.99     17521\n",
      "   macro avg       0.99      0.99      0.99     17521\n",
      "weighted avg       0.99      0.99      0.99     17521\n",
      "\n",
      "              precision    recall  f1-score   support\n",
      "\n",
      "     class_0       0.99      1.00      0.99     11644\n",
      "     class_1       1.00      0.97      0.99      5877\n",
      "\n",
      "    accuracy                           0.99     17521\n",
      "   macro avg       0.99      0.99      0.99     17521\n",
      "weighted avg       0.99      0.99      0.99     17521\n",
      "\n",
      "              precision    recall  f1-score   support\n",
      "\n",
      "     class_0       0.57      0.98      0.72      9858\n",
      "     class_1       0.58      0.04      0.08      7663\n",
      "\n",
      "    accuracy                           0.57     17521\n",
      "   macro avg       0.57      0.51      0.40     17521\n",
      "weighted avg       0.57      0.57      0.44     17521\n",
      "\n",
      "              precision    recall  f1-score   support\n",
      "\n",
      "     class_0       1.00      0.95      0.97     17521\n",
      "\n",
      "   micro avg       1.00      0.95      0.97     17521\n",
      "   macro avg       1.00      0.95      0.97     17521\n",
      "weighted avg       1.00      0.95      0.97     17521\n",
      "\n"
     ]
    }
   ],
   "source": [
    "#suspicious_time_points = detector.apply(X_test)\n",
    "#suspicious_time_points = {key: mixed_model_classification_predict(mixed_clf, X_test[key], y_test[key]) for key in scen_keys[8:]}\n",
    "suspicious_time_points = {i: mixed_model_classification_predict(mixed_clf, X_tmp[i], y_tmp[i]) for i in range(len(X_tmp))} "
   ]
  },
  {
   "cell_type": "markdown",
   "metadata": {},
   "source": [
    "### 4. Evaluation\n",
    "\n",
    "In order to evaluate the performance of the leakage detector, we could either compute the [confusion matrix](https://en.wikipedia.org/wiki/Confusion_matrix) or plot the raised alarms together with the ground truth labels.\n",
    "\n",
    "Here, we plot event (i.e. leakage) presence over time together with the raised alarms by the detector:"
   ]
  },
  {
   "cell_type": "code",
   "execution_count": 139,
   "metadata": {},
   "outputs": [
    {
     "data": {
      "image/png": "[encoded data removed]",
      "text/plain": [
       "<Figure size 640x480 with 1 Axes>"
      ]
     },
     "metadata": {},
     "output_type": "display_data"
    }
   ],
   "source": [
    "disp_scenario = 6\n",
    "plt.figure()\n",
    "plt.plot(list(range(len(y_tmp[disp_scenario - 1]))), y_tmp[disp_scenario - 1], color=\"red\", label=\"Ground truth\")\n",
    "plt.bar(list(range(len(suspicious_time_points[disp_scenario - 1]))), suspicious_time_points[disp_scenario - 1], label=\"Raised alarm\")\n",
    "plt.legend()\n",
    "plt.ylabel(\"Leakage indicator\")\n",
    "plt.yticks([0, 1], [\"Inactive\", \"Active\"])\n",
    "plt.xlabel(\"Time (5min steps)\")\n",
    "plt.show()"
   ]
  },
  {
   "cell_type": "markdown",
   "metadata": {},
   "source": [
    "We observe that the small abrupt leakage is not detected, while the large incipient leakage is detected -- only a single false alarm is raised.\n",
    "\n",
    "**Note:** More advanced algorithms & methods are likely to show a better detection performance."
   ]
  },
  {
   "cell_type": "markdown",
   "metadata": {},
   "source": [
    "### Close the Simulation\n",
    "\n",
    "Do not forget to close the simulation:"
   ]
  },
  {
   "cell_type": "code",
   "execution_count": 140,
   "metadata": {},
   "outputs": [],
   "source": [
    "for scenario in scenarios.values():\n",
    "    scenario.close()"
   ]
  },
  {
   "cell_type": "code",
   "execution_count": null,
   "metadata": {},
   "outputs": [],
   "source": []
  }
 ],
 "metadata": {
  "kernelspec": {
   "display_name": "Python 3 (ipykernel)",
   "language": "python",
   "name": "python3"
  },
  "language_info": {
   "codemirror_mode": {
    "name": "ipython",
    "version": 3
   },
   "file_extension": ".py",
   "mimetype": "text/x-python",
   "name": "python",
   "nbconvert_exporter": "python",
   "pygments_lexer": "ipython3",
   "version": "3.10.18"
  }
 },
 "nbformat": 4,
 "nbformat_minor": 2
}
