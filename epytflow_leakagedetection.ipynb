{
 "cells": [
  {
   "cell_type": "markdown",
   "metadata": {},
   "source": [
    "# Project: Pressure sensor placement for leakage detection"
   ]
  },
  {
   "cell_type": "markdown",
   "metadata": {},
   "source": [
    "### Introduction\n",
    "\n",
    "(This notebook is based on the epyt-flow tutorial for leakage detection found here: [Tutorials](https://github.com/WaterFutures/EPyT-and-EPyT-Flow-Tutorial))\n",
    "\n",
    "**Authors:** Timo Beckmann, Tobias Kroecker, Yasmine Marzouk\n",
    "\n",
    "This notebook documents a research project focused on evaluating two critical aspects of leakage detection in water distribution networks:\n",
    "\n",
    "1. **Sensor Placement Strategy**: We implement and evaluate a sensor placement algorithm based on information theory. This approach aims to optimize the placement of pressure sensors by maximizing relevance and minimizing redundancy, ensuring effective network coverage. The evaluation includes varying the number of sensors to analyze the impact of sensor density on detection performance.\n",
    "\n",
    "2. **Leakage Detection Method**: A machine learning-based leakage detection approach is implemented using a bagging classifier with decision trees. This method leverages ensemble learning to enhance robustness and accuracy in detecting anomalies such as leakages in the network.\n",
    "\n",
    "3. **Datasets**: \n",
    "    - **LeakDB**: A benchmark dataset providing realistic scenarios for leakage detection in water distribution networks, used to evaluate both the sensor placement strategy and the leakage detection method.\n",
    "    - **BattLeDIM**: A dataset offering realistic demand patterns and scenarios, used to simulate and validate the sensor placement strategy.\n",
    "\n",
    "4. **Evaluation Goals**: The primary objective is to assess the performance of the leakage detection method and the effectiveness of the sensor placement strategy. This includes:\n",
    "    - Analyzing the detection accuracy of the machine learning model.\n",
    "    - Investigating the influence of different sensor placement sizes on detection performance.\n",
    "\n",
    "By combining theoretical insights from information theory and machine learning with practical applications, this notebook provides a comprehensive evaluation of the interplay between sensor placement and leakage detection in water distribution networks."
   ]
  },
  {
   "cell_type": "markdown",
   "metadata": {},
   "source": [
    "## Imports and method definitions"
   ]
  },
  {
   "cell_type": "markdown",
   "metadata": {},
   "source": [
    "### Imports"
   ]
  },
  {
   "cell_type": "code",
   "execution_count": 1,
   "metadata": {},
   "outputs": [],
   "source": [
    "import warnings\n",
    "warnings.filterwarnings(\"ignore\", category=DeprecationWarning)\n",
    "warnings.filterwarnings(\"ignore\", category=ImportWarning)\n",
    "warnings.filterwarnings(\"ignore\", category=UserWarning)\n",
    "\n",
    "import numpy as np\n",
    "import matplotlib.pyplot as plt\n",
    "import sklearn\n",
    "import epyt_flow\n",
    "import pandas as pd\n",
    "import random\n",
    "\n",
    "from sklearn.metrics import confusion_matrix\n",
    "from sklearn.metrics import mutual_info_score\n",
    "from sklearn.metrics import classification_report\n",
    "from sklearn.metrics import log_loss\n",
    "from sklearn.metrics import roc_auc_score\n",
    "from sklearn.tree import DecisionTreeClassifier\n",
    "from sklearn.ensemble import BaggingClassifier\n",
    "from sklearn.model_selection import train_test_split\n",
    "from epyt_flow.data.networks import load_ltown\n",
    "from epyt_flow.data.benchmarks import load_leakdb_scenarios\n",
    "from epyt_flow.data.benchmarks.battledim import load_scenario, load_data, load_scada_data\n",
    "from epyt_flow.simulation import ScenarioSimulator\n",
    "from epyt_flow.simulation.events import AbruptLeakage, IncipientLeakage\n",
    "from epyt_flow.utils import to_seconds, time_points_to_one_hot_encoding\n",
    "from epyt_control.signal_processing import SensorInterpolationDetector\n",
    "from joblib import Parallel, delayed, parallel_backend"
   ]
  },
  {
   "cell_type": "markdown",
   "metadata": {},
   "source": [
    "### Implementation of the sensor placement algorithm"
   ]
  },
  {
   "cell_type": "code",
   "execution_count": 2,
   "metadata": {},
   "outputs": [],
   "source": [
    "# Assume that we know which specific nodes we want to watch:\n",
    "def calc_Relevance (node_pressures, relevant_index):\n",
    "    relevances = {}\n",
    "    for i in range(len(node_pressures)):\n",
    "        relevances[i] = mutual_info_score(node_pressures[relevant_index], node_pressures[i])\n",
    "    return relevances\n",
    "\n",
    "# calcuate relevance over all nodes:\n",
    "\n",
    "def calc_Relevances (node_pressures):\n",
    "    relevances = {}\n",
    "    for i in range(len(node_pressures)):\n",
    "        for j in range(i + 1, len(node_pressures)):\n",
    "            m_i_score = mutual_info_score(node_pressures[i], node_pressures[j])\n",
    "            if i not in relevances:\n",
    "                relevances[i] = m_i_score\n",
    "            else:\n",
    "                relevances[i] += m_i_score\n",
    "            if j not in relevances:\n",
    "                relevances[j] = m_i_score\n",
    "            else:\n",
    "                relevances[j] += m_i_score\n",
    "    return relevances\n",
    "    \n",
    "def calc_Redundance (x_pressures, sensor_pressures):\n",
    "    redundancy = 0\n",
    "    for pressure in sensor_pressures:\n",
    "        redundancy += mutual_info_score(x_pressures, pressure)\n",
    "    redundancy /= len(sensor_pressures)\n",
    "    return redundancy"
   ]
  },
  {
   "cell_type": "code",
   "execution_count": 3,
   "metadata": {},
   "outputs": [],
   "source": [
    "def calc_Relevances_parallel(node_pressures, n_jobs=1):\n",
    "    relevances = Parallel(n_jobs=n_jobs)(delayed(calc_Relevance)(node_pressures, i) for i in range(len(node_pressures)))\n",
    "    return {i: sum(relevance[i] for relevance in relevances) for i in range(len(node_pressures))}"
   ]
  },
  {
   "cell_type": "code",
   "execution_count": 4,
   "metadata": {},
   "outputs": [],
   "source": [
    "def calc_sensor_placement(node_pressures, num_sensors = 15): # do we know which nodes we want to monitor? junctions? all of them?\n",
    "    remaining_nodes = list(range(len(node_pressures)))\n",
    "    relevances = calc_Relevances(node_pressures)  # Assume we want to know the relevances in regard to all nodes\n",
    "    Sensor_placement = [max(relevances, key=relevances.get)]\n",
    "    remaining_nodes.remove(Sensor_placement[-1])\n",
    "    sensor_pressures = [node_pressures[Sensor_placement[-1]]]\n",
    "    no_redundance_nodes = [a for a in remaining_nodes if calc_Redundance(node_pressures[a], node_pressures[Sensor_placement]) == 0]\n",
    "    while no_redundance_nodes: # add nodes of highest relevance without any redundance\n",
    "        if (len(Sensor_placement) >= num_sensors):\n",
    "            break\n",
    "        tmp_relevances = relevances.copy()\n",
    "        for i in range(len(tmp_relevances.keys())): # remove nodes that have been added to the sensors and nodes with redundance\n",
    "            if i in Sensor_placement:\n",
    "                del tmp_relevances[i]\n",
    "                continue\n",
    "            if i not in no_redundance_nodes:\n",
    "                del tmp_relevances[i]\n",
    "        Sensor_placement.append(max(tmp_relevances, key=relevances.get))\n",
    "        remaining_nodes.remove(Sensor_placement[-1])\n",
    "        sensor_pressures.append(node_pressures[Sensor_placement[-1]])\n",
    "        no_redundance_nodes = [a for a in remaining_nodes if calc_Redundance(node_pressures[a], sensor_pressures) == 0]\n",
    "    remaining_relevances = list(map(relevances.get, remaining_nodes))\n",
    "    while not(all(list(map(lambda x: x == 0, remaining_relevances)))) and remaining_nodes:\n",
    "        if (len(Sensor_placement) >= num_sensors):\n",
    "            break\n",
    "        RRI = {}\n",
    "        for i in remaining_nodes:\n",
    "            RRI[i] = relevances[i]/ calc_Redundance(node_pressures[i], sensor_pressures)\n",
    "        Sensor_placement.append(max(RRI, key=RRI.get))\n",
    "        sensor_pressures.append(node_pressures[Sensor_placement[-1]])\n",
    "        remaining_nodes.remove(Sensor_placement[-1])\n",
    "        remaining_relevances = list(map(relevances.get, remaining_nodes))\n",
    "    return Sensor_placement"
   ]
  },
  {
   "cell_type": "code",
   "execution_count": 5,
   "metadata": {},
   "outputs": [],
   "source": [
    "def calc_sensor_placement_parallel(node_pressures, num_sensors = 15, n_jobs = 1): # do we know which nodes we want to monitor? junctions? all of them?\n",
    "    remaining_nodes = list(range(len(node_pressures)))\n",
    "    if n_jobs > 1:\n",
    "        relevances = calc_Relevances_parallel(node_pressures, n_jobs=n_jobs)\n",
    "    else:\n",
    "        relevances = calc_Relevances(node_pressures)  # Assume we want to know the relevances in regard to all nodes\n",
    "    Sensor_placement = [max(relevances, key=relevances.get)]\n",
    "    remaining_nodes.remove(Sensor_placement[-1])\n",
    "    sensor_pressures = [node_pressures[Sensor_placement[-1]]]\n",
    "    Redundances = Parallel(n_jobs=n_jobs)(delayed(calc_Redundance)(node_pressures[a], node_pressures[Sensor_placement]) for a in remaining_nodes)\n",
    "    no_redundance_nodes = [remaining_nodes[a] for a in range(len(remaining_nodes)) if Redundances[a] == 0]\n",
    "    while no_redundance_nodes: # add nodes of highest relevance without any redundance\n",
    "        if (len(Sensor_placement) >= num_sensors):\n",
    "            break\n",
    "        tmp_relevances = relevances.copy()\n",
    "        for i in range(len(tmp_relevances.keys())): # remove nodes that have been added to the sensors and nodes with redundance\n",
    "            if i in Sensor_placement:\n",
    "                del tmp_relevances[i]\n",
    "                continue\n",
    "            if i not in no_redundance_nodes:\n",
    "                del tmp_relevances[i]\n",
    "        Sensor_placement.append(max(tmp_relevances, key=relevances.get))\n",
    "        remaining_nodes.remove(Sensor_placement[-1])\n",
    "        sensor_pressures.append(node_pressures[Sensor_placement[-1]])\n",
    "        Redundances = Parallel(n_jobs=n_jobs)(delayed(calc_Redundance)(node_pressures[a], node_pressures[Sensor_placement]) for a in remaining_nodes)\n",
    "        no_redundance_nodes = [remaining_nodes[a] for a in range(len(remaining_nodes)) if Redundances[a] == 0]\n",
    "    remaining_relevances = list(map(relevances.get, remaining_nodes))\n",
    "    while not(all(list(map(lambda x: x == 0, remaining_relevances)))) and remaining_nodes:\n",
    "        if (len(Sensor_placement) >= num_sensors):\n",
    "            break\n",
    "        RRI = {}\n",
    "        for i in remaining_nodes:\n",
    "            RRI[i] = relevances[i]/ calc_Redundance(node_pressures[i], sensor_pressures)\n",
    "        Sensor_placement.append(max(RRI, key=RRI.get))\n",
    "        sensor_pressures.append(node_pressures[Sensor_placement[-1]])\n",
    "        remaining_nodes.remove(Sensor_placement[-1])\n",
    "        remaining_relevances = list(map(relevances.get, remaining_nodes))\n",
    "    return Sensor_placement"
   ]
  },
  {
   "cell_type": "markdown",
   "metadata": {},
   "source": [
    "### Implementation of the bagging classifier"
   ]
  },
  {
   "cell_type": "code",
   "execution_count": null,
   "metadata": {},
   "outputs": [],
   "source": [
    "# DecisionTreeClassifier with entropy criterion is in the ID3 style. Classifier architecture is based on the RDTBC-SFLO paper (https://www.researchgate.net/publication/333681237_Random_Bagging_Classifier_and_Shuffled_Frog_Leaping_Based_Optimal_Sensor_Placement_for_Leakage_Detection_in_WDS)\n",
    "def mixed_model_classification_fit(n_estimators, X_train, y_train, n_jobs=1):\n",
    "    with parallel_backend('threading', n_jobs=n_jobs):\n",
    "        base = DecisionTreeClassifier(\n",
    "            criterion='entropy',\n",
    "            class_weight='balanced', \n",
    "            max_depth=5,\n",
    "            max_features='sqrt',\n",
    "            min_samples_leaf=5,\n",
    "            min_samples_split=10,\n",
    "            random_state=42\n",
    "            )\n",
    "        bagged = BaggingClassifier( #for faster runtime adjust parameters, especially n_estimators. n_jobs greatly improves runtime if set to a higher value\n",
    "            estimator=base, \n",
    "            n_estimators=n_estimators, \n",
    "            max_samples=0.8,\n",
    "            max_features=0.8,\n",
    "            bootstrap=True, \n",
    "            oob_score=True\n",
    "            ) \n",
    "        bagged.fit(X_train, y_train)\n",
    "    return bagged\n",
    "\n",
    "def mixed_model_classification_predict(classifier, X_test, y_test, n_jobs=1, print_report=False):\n",
    "    with parallel_backend('threading', n_jobs=n_jobs):\n",
    "        y_pred = classifier.predict(X_test)\n",
    "    if print_report:\n",
    "        print(classification_report(y_test, y_pred, labels=np.unique(y_test),\n",
    "                                    target_names=[f\"class_{int(c)}\" for c in np.unique(y_test)], output_dict=True))\n",
    "    return y_pred\n"
   ]
  },
  {
   "cell_type": "markdown",
   "metadata": {},
   "source": [
    "### Metrics"
   ]
  },
  {
   "cell_type": "code",
   "execution_count": null,
   "metadata": {},
   "outputs": [],
   "source": [
    "def evaluate_and_collect(clf, X_test, y_test, verbose=False):\n",
    "    if verbose:\n",
    "        y_pred = mixed_model_classification_predict(clf, X_test, y_test, print_report=True)\n",
    "    else:\n",
    "        y_pred = mixed_model_classification_predict(clf, X_test, y_test, print_report=False)\n",
    "    rpt = classification_report(y_test, y_pred, output_dict=True, zero_division=0)\n",
    "    probabilities = clf.predict_proba(X_test)\n",
    "    uniq = np.unique(y_test)\n",
    "    if len(uniq) == 2:\n",
    "        ll  = log_loss(y_test, probabilities)\n",
    "        rc = roc_auc_score(y_test, probabilities[:,1])\n",
    "    else:\n",
    "        ll  = np.nan\n",
    "        rc = np.nan\n",
    "    df = pd.DataFrame(rpt).T[['precision','recall','f1-score']]\n",
    "    df.loc['roc_auc', :] = [rc, pd.NA, pd.NA]\n",
    "    df.loc['log_loss', :] = [ll, pd.NA, pd.NA]\n",
    "    return y_pred, df"
   ]
  },
  {
   "cell_type": "markdown",
   "metadata": {},
   "source": [
    "### Minor tests of the classifier. Only used for quick evaluation and can be removed later if wanted"
   ]
  },
  {
   "cell_type": "code",
   "execution_count": null,
   "metadata": {},
   "outputs": [
    {
     "name": "stdout",
     "output_type": "stream",
     "text": [
      "Total samples: 175200, features: 66\n"
     ]
    }
   ],
   "source": [
    "data_dict = epyt_flow.data.benchmarks.leakdb.load_data(\n",
    "    #scenarios_id=[\"1\", \"2\", \"3\", \"4\", \"5\"],  \n",
    "    scenarios_id=[\"1\", \"2\", \"3\", \"4\", \"5\", \"6\", \"7\", \"8\", \"9\", \"10\"],  \n",
    "    #scenarios_id=[\"1\", \"2\", \"3\", \"4\", \"5\", \"6\", \"7\", \"8\", \"9\", \"10\", \"11\", \"12\", \"13\", \"14\", \"15\", \"16\", \"17\", \"18\", \"19\", \"20\"],\n",
    "    use_net1=False,\n",
    "    return_X_y=True\n",
    ")\n",
    "\n",
    "X_list, y_list = [], [] \n",
    "for sid, (Xi, yi) in data_dict.items():\n",
    "    X_list.append(Xi.values if hasattr(Xi, \"values\") else Xi) #Check for correctness. \n",
    "    y_list.append(yi)\n",
    "\n",
    "X_dummy = np.vstack(X_list)\n",
    "y_dummy = np.concatenate(y_list)\n",
    "\n",
    "print(f\"Total samples: {X_dummy.shape[0]}, features: {X_dummy.shape[1]}\")\n",
    "\n",
    "X_train_dummy, X_test_dummy, y_train_dummy, y_test_dummy = train_test_split( #Might use datasets given train-test split\n",
    "    X_dummy, y_dummy,\n",
    "    test_size=0.20,\n",
    "    random_state=42,\n",
    "    stratify=y_dummy\n",
    ")\n",
    "\n",
    "clf = mixed_model_classification_fit(100, X_train_dummy, y_train_dummy, n_jobs=8)"
   ]
  },
  {
   "cell_type": "code",
   "execution_count": 177,
   "metadata": {},
   "outputs": [
    {
     "name": "stdout",
     "output_type": "stream",
     "text": [
      "{'class_0': {'precision': 0.8481325748206777, 'recall': 0.9999270977619013, 'f1-score': 0.9177958446251129, 'support': 27434.0}, 'class_1': {'precision': 0.9992581602373887, 'recall': 0.35419405732316595, 'f1-score': 0.5230052417006407, 'support': 7606.0}, 'accuracy': 0.8597602739726027, 'macro avg': {'precision': 0.9236953675290331, 'recall': 0.6770605775425336, 'f1-score': 0.7204005431628768, 'support': 35040.0}, 'weighted avg': {'precision': 0.8809368328880152, 'recall': 0.8597602739726027, 'f1-score': 0.8321001446866558, 'support': 35040.0}}\n"
     ]
    }
   ],
   "source": [
    "sda = mixed_model_classification_predict(clf, X_test_dummy, y_test_dummy)"
   ]
  },
  {
   "cell_type": "code",
   "execution_count": null,
   "metadata": {},
   "outputs": [
    {
     "name": "stdout",
     "output_type": "stream",
     "text": [
      "{'class_0': {'precision': 0.7071917808219178, 'recall': 1.0, 'f1-score': 0.8284854563691073, 'support': 12390.0}, 'class_1': {'precision': 0.0, 'recall': 0.0, 'f1-score': 0.0, 'support': 5130.0}, 'accuracy': 0.7071917808219178, 'macro avg': {'precision': 0.3535958904109589, 'recall': 0.5, 'f1-score': 0.41424272818455365, 'support': 17520.0}, 'weighted avg': {'precision': 0.5001202148620755, 'recall': 0.7071917808219178, 'f1-score': 0.5858981052747283, 'support': 17520.0}}\n"
     ]
    }
   ],
   "source": [
    "X20, y20 = epyt_flow.data.benchmarks.leakdb.load_data(\n",
    "    scenarios_id=[\"30\"],\n",
    "    use_net1=False,\n",
    "    return_X_y=True\n",
    ")[\"30\"]\n",
    "\n",
    "X20 = getattr(X20, \"values\", X20)\n",
    "\n",
    "y20_pred = mixed_model_classification_predict(clf, X20, y20, n_jobs=4, print_report=True)"
   ]
  },
  {
   "cell_type": "markdown",
   "metadata": {},
   "source": [
    "## LeakDB"
   ]
  },
  {
   "cell_type": "markdown",
   "metadata": {},
   "source": [
    "###  Loading scenarios and placing sensors\n",
    "\n",
    "In this part a subset of the scenarios from LeakDB is loaded and based on existiong pressure data from the different scenarios, the sensor placements are calculated. The scenarios are split into a train and a testset, based on their ids. The pressure sensors are placed based on the training data, assuming that in a realistic scenario the sensors could only be placed based on a finite set of pressure data."
   ]
  },
  {
   "cell_type": "code",
   "execution_count": null,
   "metadata": {},
   "outputs": [
    {
     "name": "stderr",
     "output_type": "stream",
     "text": [
      "/var/folders/5j/zy3b6qdx5wnd5s0_y944j43w0000gn/T/Hanoi/Scenario-414.zip: 100%|###############################################################| 8.72M/8.72M [00:01<00:00, 5.63MB/s]\n",
      "/var/folders/5j/zy3b6qdx5wnd5s0_y944j43w0000gn/T/Hanoi/Scenario-168.zip: 100%|###############################################################| 8.62M/8.62M [00:01<00:00, 6.83MB/s]\n",
      "/var/folders/5j/zy3b6qdx5wnd5s0_y944j43w0000gn/T/Hanoi/Scenario-330.zip: 100%|###############################################################| 8.68M/8.68M [00:01<00:00, 6.52MB/s]\n",
      "/var/folders/5j/zy3b6qdx5wnd5s0_y944j43w0000gn/T/Hanoi/Scenario-76.zip: 100%|################################################################| 8.65M/8.65M [00:01<00:00, 6.95MB/s]\n",
      "/var/folders/5j/zy3b6qdx5wnd5s0_y944j43w0000gn/T/Hanoi/Scenario-461.zip: 100%|###############################################################| 8.51M/8.51M [00:01<00:00, 5.54MB/s]\n",
      "/var/folders/5j/zy3b6qdx5wnd5s0_y944j43w0000gn/T/Hanoi/Scenario-636.zip: 100%|###############################################################| 8.56M/8.56M [00:02<00:00, 3.62MB/s]\n",
      "/var/folders/5j/zy3b6qdx5wnd5s0_y944j43w0000gn/T/Hanoi/Scenario-854.zip: 100%|###############################################################| 8.64M/8.64M [00:08<00:00, 1.09MB/s]\n",
      "/var/folders/5j/zy3b6qdx5wnd5s0_y944j43w0000gn/T/Hanoi/Scenario-863.zip: 100%|###############################################################| 8.68M/8.68M [00:02<00:00, 3.90MB/s]\n",
      "/var/folders/5j/zy3b6qdx5wnd5s0_y944j43w0000gn/T/Hanoi/Scenario-51.zip: 100%|################################################################| 8.56M/8.56M [00:02<00:00, 3.62MB/s]\n",
      "/var/folders/5j/zy3b6qdx5wnd5s0_y944j43w0000gn/T/Hanoi/Scenario-361.zip: 100%|###############################################################| 8.63M/8.63M [00:01<00:00, 5.84MB/s]\n",
      "/var/folders/5j/zy3b6qdx5wnd5s0_y944j43w0000gn/T/Hanoi/Scenario-630.zip: 100%|###############################################################| 8.62M/8.62M [00:01<00:00, 6.40MB/s]\n",
      "/var/folders/5j/zy3b6qdx5wnd5s0_y944j43w0000gn/T/Hanoi/Scenario-246.zip: 100%|################################################################| 8.64M/8.64M [00:09<00:00, 973kB/s]\n",
      "/var/folders/5j/zy3b6qdx5wnd5s0_y944j43w0000gn/T/Hanoi/Scenario-60.zip: 100%|################################################################| 8.58M/8.58M [00:01<00:00, 6.40MB/s]\n",
      "/var/folders/5j/zy3b6qdx5wnd5s0_y944j43w0000gn/T/Hanoi/Scenario-534.zip: 100%|###############################################################| 8.66M/8.66M [00:01<00:00, 5.06MB/s]\n",
      "/var/folders/5j/zy3b6qdx5wnd5s0_y944j43w0000gn/T/Hanoi/Scenario-476.zip: 100%|###############################################################| 8.60M/8.60M [00:02<00:00, 4.13MB/s]\n",
      "/var/folders/5j/zy3b6qdx5wnd5s0_y944j43w0000gn/T/Hanoi/Scenario-814.zip: 100%|###############################################################| 8.59M/8.59M [00:02<00:00, 3.57MB/s]\n",
      "/var/folders/5j/zy3b6qdx5wnd5s0_y944j43w0000gn/T/Hanoi/Scenario-839.zip: 100%|###############################################################| 8.55M/8.55M [00:02<00:00, 4.18MB/s]\n",
      "/var/folders/5j/zy3b6qdx5wnd5s0_y944j43w0000gn/T/Hanoi/Scenario-367.zip: 100%|###############################################################| 8.60M/8.60M [00:01<00:00, 5.24MB/s]\n",
      "/var/folders/5j/zy3b6qdx5wnd5s0_y944j43w0000gn/T/Hanoi/Scenario-389.zip: 100%|###############################################################| 8.67M/8.67M [00:01<00:00, 7.37MB/s]\n",
      "/var/folders/5j/zy3b6qdx5wnd5s0_y944j43w0000gn/T/Hanoi/Scenario-843.zip: 100%|###############################################################| 8.54M/8.54M [00:02<00:00, 3.16MB/s]\n",
      "/var/folders/5j/zy3b6qdx5wnd5s0_y944j43w0000gn/T/Hanoi/Scenario-570.zip: 100%|###############################################################| 8.65M/8.65M [00:02<00:00, 3.44MB/s]\n",
      "/var/folders/5j/zy3b6qdx5wnd5s0_y944j43w0000gn/T/Hanoi/Scenario-693.zip: 100%|###############################################################| 8.56M/8.56M [00:01<00:00, 6.48MB/s]\n",
      "/var/folders/5j/zy3b6qdx5wnd5s0_y944j43w0000gn/T/Hanoi/Scenario-526.zip: 100%|###############################################################| 8.56M/8.56M [00:03<00:00, 2.55MB/s]\n",
      "/var/folders/5j/zy3b6qdx5wnd5s0_y944j43w0000gn/T/Hanoi/Scenario-658.zip: 100%|###############################################################| 8.60M/8.60M [00:01<00:00, 4.90MB/s]\n",
      "/var/folders/5j/zy3b6qdx5wnd5s0_y944j43w0000gn/T/Hanoi/Scenario-228.zip: 100%|###############################################################| 8.61M/8.61M [00:01<00:00, 6.39MB/s]\n",
      "/var/folders/5j/zy3b6qdx5wnd5s0_y944j43w0000gn/T/Hanoi/Scenario-121.zip: 100%|###############################################################| 8.65M/8.65M [00:03<00:00, 2.91MB/s]\n",
      "/var/folders/5j/zy3b6qdx5wnd5s0_y944j43w0000gn/T/Hanoi/Scenario-147.zip: 100%|###############################################################| 8.64M/8.64M [00:01<00:00, 5.15MB/s]\n",
      "/var/folders/5j/zy3b6qdx5wnd5s0_y944j43w0000gn/T/Hanoi/Scenario-105.zip: 100%|###############################################################| 8.60M/8.60M [00:02<00:00, 3.73MB/s]\n",
      "/var/folders/5j/zy3b6qdx5wnd5s0_y944j43w0000gn/T/Hanoi/Scenario-215.zip: 100%|###############################################################| 8.78M/8.78M [00:02<00:00, 3.99MB/s]\n",
      "/var/folders/5j/zy3b6qdx5wnd5s0_y944j43w0000gn/T/Hanoi/Scenario-83.zip: 100%|################################################################| 8.58M/8.58M [00:02<00:00, 3.71MB/s]\n",
      "/var/folders/5j/zy3b6qdx5wnd5s0_y944j43w0000gn/T/Hanoi/Scenario-395.zip: 100%|###############################################################| 8.59M/8.59M [00:02<00:00, 4.27MB/s]\n",
      "/var/folders/5j/zy3b6qdx5wnd5s0_y944j43w0000gn/T/Hanoi/Scenario-504.zip: 100%|###############################################################| 8.62M/8.62M [00:01<00:00, 5.54MB/s]\n",
      "/var/folders/5j/zy3b6qdx5wnd5s0_y944j43w0000gn/T/Hanoi/Scenario-631.zip: 100%|################################################################| 8.66M/8.66M [00:10<00:00, 854kB/s]\n",
      "/var/folders/5j/zy3b6qdx5wnd5s0_y944j43w0000gn/T/Hanoi/Scenario-638.zip: 100%|###############################################################| 8.63M/8.63M [00:01<00:00, 7.09MB/s]\n",
      "/var/folders/5j/zy3b6qdx5wnd5s0_y944j43w0000gn/T/Hanoi/Scenario-670.zip: 100%|###############################################################| 8.78M/8.78M [00:02<00:00, 4.50MB/s]\n",
      "/var/folders/5j/zy3b6qdx5wnd5s0_y944j43w0000gn/T/Hanoi/Scenario-169.zip: 100%|###############################################################| 8.62M/8.62M [00:02<00:00, 4.24MB/s]\n",
      "/var/folders/5j/zy3b6qdx5wnd5s0_y944j43w0000gn/T/Hanoi/Scenario-535.zip: 100%|###############################################################| 8.56M/8.56M [00:01<00:00, 6.89MB/s]\n",
      "/var/folders/5j/zy3b6qdx5wnd5s0_y944j43w0000gn/T/Hanoi/Scenario-449.zip: 100%|###############################################################| 8.64M/8.64M [00:01<00:00, 6.55MB/s]\n",
      "/var/folders/5j/zy3b6qdx5wnd5s0_y944j43w0000gn/T/Hanoi/Scenario-705.zip: 100%|###############################################################| 8.59M/8.59M [00:02<00:00, 3.40MB/s]\n",
      "/var/folders/5j/zy3b6qdx5wnd5s0_y944j43w0000gn/T/Hanoi/Scenario-626.zip: 100%|###############################################################| 8.72M/8.72M [00:01<00:00, 5.86MB/s]\n",
      "/var/folders/5j/zy3b6qdx5wnd5s0_y944j43w0000gn/T/Hanoi/Scenario-847.zip: 100%|###############################################################| 8.52M/8.52M [00:02<00:00, 3.14MB/s]\n",
      "/var/folders/5j/zy3b6qdx5wnd5s0_y944j43w0000gn/T/Hanoi/Scenario-311.zip: 100%|###############################################################| 8.57M/8.57M [00:02<00:00, 3.65MB/s]\n",
      "/var/folders/5j/zy3b6qdx5wnd5s0_y944j43w0000gn/T/Hanoi/Scenario-413.zip: 100%|###############################################################| 8.69M/8.69M [00:03<00:00, 2.65MB/s]\n",
      "/var/folders/5j/zy3b6qdx5wnd5s0_y944j43w0000gn/T/Hanoi/Scenario-499.zip: 100%|###############################################################| 8.54M/8.54M [00:02<00:00, 4.19MB/s]\n",
      "/var/folders/5j/zy3b6qdx5wnd5s0_y944j43w0000gn/T/Hanoi/Scenario-299.zip: 100%|###############################################################| 8.67M/8.67M [00:02<00:00, 3.28MB/s]\n",
      "/var/folders/5j/zy3b6qdx5wnd5s0_y944j43w0000gn/T/Hanoi/Scenario-56.zip: 100%|################################################################| 8.66M/8.66M [00:02<00:00, 3.80MB/s]\n",
      "/var/folders/5j/zy3b6qdx5wnd5s0_y944j43w0000gn/T/Hanoi/Scenario-201.zip: 100%|###############################################################| 8.50M/8.50M [00:01<00:00, 5.02MB/s]\n",
      "/var/folders/5j/zy3b6qdx5wnd5s0_y944j43w0000gn/T/Hanoi/Scenario-237.zip: 100%|###############################################################| 8.61M/8.61M [00:02<00:00, 3.45MB/s]\n",
      "/var/folders/5j/zy3b6qdx5wnd5s0_y944j43w0000gn/T/Hanoi/Scenario-745.zip: 100%|###############################################################| 8.58M/8.58M [00:01<00:00, 5.29MB/s]\n",
      "/var/folders/5j/zy3b6qdx5wnd5s0_y944j43w0000gn/T/Hanoi/Scenario-439.zip: 100%|###############################################################| 8.70M/8.70M [00:01<00:00, 5.55MB/s]\n",
      "/var/folders/5j/zy3b6qdx5wnd5s0_y944j43w0000gn/T/Hanoi/Scenario-711.zip: 100%|###############################################################| 8.64M/8.64M [00:02<00:00, 4.29MB/s]\n",
      "/var/folders/5j/zy3b6qdx5wnd5s0_y944j43w0000gn/T/Hanoi/Scenario-396.zip: 100%|###############################################################| 8.57M/8.57M [00:01<00:00, 6.64MB/s]\n",
      "/var/folders/5j/zy3b6qdx5wnd5s0_y944j43w0000gn/T/Hanoi/Scenario-643.zip: 100%|###############################################################| 8.71M/8.71M [00:01<00:00, 6.64MB/s]\n",
      "/var/folders/5j/zy3b6qdx5wnd5s0_y944j43w0000gn/T/Hanoi/Scenario-274.zip: 100%|###############################################################| 8.58M/8.58M [00:03<00:00, 2.79MB/s]\n",
      "/var/folders/5j/zy3b6qdx5wnd5s0_y944j43w0000gn/T/Hanoi/Scenario-256.zip: 100%|###############################################################| 8.65M/8.65M [00:01<00:00, 6.64MB/s]\n",
      "/var/folders/5j/zy3b6qdx5wnd5s0_y944j43w0000gn/T/Hanoi/Scenario-186.zip: 100%|###############################################################| 8.61M/8.61M [00:02<00:00, 3.16MB/s]\n",
      "/var/folders/5j/zy3b6qdx5wnd5s0_y944j43w0000gn/T/Hanoi/Scenario-26.zip: 100%|################################################################| 8.62M/8.62M [00:02<00:00, 3.41MB/s]\n",
      "/var/folders/5j/zy3b6qdx5wnd5s0_y944j43w0000gn/T/Hanoi/Scenario-815.zip: 100%|###############################################################| 8.72M/8.72M [00:01<00:00, 7.88MB/s]\n",
      "/var/folders/5j/zy3b6qdx5wnd5s0_y944j43w0000gn/T/Hanoi/Scenario-443.zip: 100%|###############################################################| 8.67M/8.67M [00:01<00:00, 7.32MB/s]\n",
      "/var/folders/5j/zy3b6qdx5wnd5s0_y944j43w0000gn/T/Hanoi/Scenario-569.zip: 100%|###############################################################| 8.62M/8.62M [00:01<00:00, 6.77MB/s]\n",
      "/var/folders/5j/zy3b6qdx5wnd5s0_y944j43w0000gn/T/Hanoi/Scenario-467.zip: 100%|###############################################################| 8.52M/8.52M [00:01<00:00, 4.82MB/s]\n",
      "/var/folders/5j/zy3b6qdx5wnd5s0_y944j43w0000gn/T/Hanoi/Scenario-434.zip: 100%|###############################################################| 8.61M/8.61M [00:03<00:00, 2.88MB/s]\n",
      "/var/folders/5j/zy3b6qdx5wnd5s0_y944j43w0000gn/T/Hanoi/Scenario-730.zip: 100%|###############################################################| 8.67M/8.67M [00:01<00:00, 6.76MB/s]\n",
      "/var/folders/5j/zy3b6qdx5wnd5s0_y944j43w0000gn/T/Hanoi/Scenario-264.zip: 100%|###############################################################| 8.71M/8.71M [00:02<00:00, 3.07MB/s]\n",
      "/var/folders/5j/zy3b6qdx5wnd5s0_y944j43w0000gn/T/Hanoi/Scenario-388.zip: 100%|###############################################################| 8.66M/8.66M [00:01<00:00, 5.42MB/s]\n",
      "/var/folders/5j/zy3b6qdx5wnd5s0_y944j43w0000gn/T/Hanoi/Scenario-272.zip: 100%|###############################################################| 8.79M/8.79M [00:01<00:00, 5.46MB/s]\n",
      "/var/folders/5j/zy3b6qdx5wnd5s0_y944j43w0000gn/T/Hanoi/Scenario-609.zip: 100%|###############################################################| 8.60M/8.60M [00:01<00:00, 7.16MB/s]\n",
      "/var/folders/5j/zy3b6qdx5wnd5s0_y944j43w0000gn/T/Hanoi/Scenario-742.zip: 100%|###############################################################| 8.68M/8.68M [00:02<00:00, 3.82MB/s]\n",
      "/var/folders/5j/zy3b6qdx5wnd5s0_y944j43w0000gn/T/Hanoi/Scenario-289.zip: 100%|###############################################################| 8.62M/8.62M [00:02<00:00, 3.82MB/s]\n",
      "/var/folders/5j/zy3b6qdx5wnd5s0_y944j43w0000gn/T/Hanoi/Scenario-30.zip: 100%|################################################################| 8.59M/8.59M [00:01<00:00, 8.49MB/s]\n",
      "/var/folders/5j/zy3b6qdx5wnd5s0_y944j43w0000gn/T/Hanoi/Scenario-281.zip: 100%|###############################################################| 8.61M/8.61M [00:03<00:00, 2.93MB/s]\n",
      "/var/folders/5j/zy3b6qdx5wnd5s0_y944j43w0000gn/T/Hanoi/Scenario-798.zip: 100%|###############################################################| 8.66M/8.66M [00:02<00:00, 3.95MB/s]\n",
      "/var/folders/5j/zy3b6qdx5wnd5s0_y944j43w0000gn/T/Hanoi/Scenario-216.zip: 100%|###############################################################| 8.63M/8.63M [00:01<00:00, 7.00MB/s]\n",
      "/var/folders/5j/zy3b6qdx5wnd5s0_y944j43w0000gn/T/Hanoi/Scenario-55.zip: 100%|################################################################| 8.55M/8.55M [00:01<00:00, 8.42MB/s]\n",
      "/var/folders/5j/zy3b6qdx5wnd5s0_y944j43w0000gn/T/Hanoi/Scenario-706.zip: 100%|################################################################| 8.57M/8.57M [00:09<00:00, 926kB/s]\n",
      "/var/folders/5j/zy3b6qdx5wnd5s0_y944j43w0000gn/T/Hanoi/Scenario-802.zip: 100%|###############################################################| 8.82M/8.82M [00:02<00:00, 3.80MB/s]\n",
      "/var/folders/5j/zy3b6qdx5wnd5s0_y944j43w0000gn/T/Hanoi/Scenario-93.zip: 100%|################################################################| 8.54M/8.54M [00:02<00:00, 4.03MB/s]\n",
      "/var/folders/5j/zy3b6qdx5wnd5s0_y944j43w0000gn/T/Hanoi/Scenario-175.zip: 100%|###############################################################| 8.62M/8.62M [00:01<00:00, 6.68MB/s]\n",
      "/var/folders/5j/zy3b6qdx5wnd5s0_y944j43w0000gn/T/Hanoi/Scenario-481.zip: 100%|###############################################################| 8.67M/8.67M [00:01<00:00, 4.64MB/s]\n",
      "/var/folders/5j/zy3b6qdx5wnd5s0_y944j43w0000gn/T/Hanoi/Scenario-758.zip: 100%|###############################################################| 8.57M/8.57M [00:01<00:00, 5.58MB/s]\n",
      "/var/folders/5j/zy3b6qdx5wnd5s0_y944j43w0000gn/T/Hanoi/Scenario-379.zip: 100%|###############################################################| 8.59M/8.59M [00:02<00:00, 3.65MB/s]\n",
      "/var/folders/5j/zy3b6qdx5wnd5s0_y944j43w0000gn/T/Hanoi/Scenario-233.zip: 100%|###############################################################| 8.71M/8.71M [00:01<00:00, 5.50MB/s]\n",
      "/var/folders/5j/zy3b6qdx5wnd5s0_y944j43w0000gn/T/Hanoi/Scenario-441.zip: 100%|###############################################################| 8.60M/8.60M [00:01<00:00, 5.97MB/s]\n",
      "/var/folders/5j/zy3b6qdx5wnd5s0_y944j43w0000gn/T/Hanoi/Scenario-43.zip: 100%|################################################################| 8.62M/8.62M [00:01<00:00, 5.05MB/s]\n",
      "/var/folders/5j/zy3b6qdx5wnd5s0_y944j43w0000gn/T/Hanoi/Scenario-63.zip: 100%|################################################################| 8.68M/8.68M [00:01<00:00, 5.64MB/s]\n",
      "/var/folders/5j/zy3b6qdx5wnd5s0_y944j43w0000gn/T/Hanoi/Scenario-635.zip: 100%|###############################################################| 8.62M/8.62M [00:01<00:00, 8.06MB/s]\n",
      "/var/folders/5j/zy3b6qdx5wnd5s0_y944j43w0000gn/T/Hanoi/Scenario-560.zip: 100%|###############################################################| 8.58M/8.58M [00:01<00:00, 8.44MB/s]\n",
      "/var/folders/5j/zy3b6qdx5wnd5s0_y944j43w0000gn/T/Hanoi/Scenario-162.zip: 100%|###############################################################| 8.62M/8.62M [00:01<00:00, 8.44MB/s]\n",
      "/var/folders/5j/zy3b6qdx5wnd5s0_y944j43w0000gn/T/Hanoi/Scenario-409.zip: 100%|###############################################################| 8.61M/8.61M [00:02<00:00, 3.71MB/s]\n",
      "/var/folders/5j/zy3b6qdx5wnd5s0_y944j43w0000gn/T/Hanoi/Scenario-98.zip: 100%|################################################################| 8.65M/8.65M [00:02<00:00, 3.45MB/s]\n",
      "/var/folders/5j/zy3b6qdx5wnd5s0_y944j43w0000gn/T/Hanoi/Scenario-435.zip: 100%|###############################################################| 8.61M/8.61M [00:02<00:00, 3.43MB/s]\n"
     ]
    },
    {
     "data": {
      "text/plain": [
       "(32, 14016000)"
      ]
     },
     "execution_count": 7,
     "metadata": {},
     "output_type": "execute_result"
    }
   ],
   "source": [
    "#NOTE: this approach calculates a sensor placement based on multiple scenarios, i.e. all scenarios we look at\n",
    "#      due to the complexity of the algorithm this will take a lot of time!\n",
    "scen_train_keys = [str(num) for num in random.sample(range(1, 901), 800)]\n",
    "scen_test_keys = [\"911\", \"912\", \"913\", \"914\", \"915\", \"916\", \"917\", \"918\", \"919\", \"920\"]\n",
    "scen_keys = scen_train_keys + scen_test_keys\n",
    "data = epyt_flow.data.benchmarks.leakdb.load_data(scenarios_id=scen_train_keys, use_net1=False, return_X_y=False)\n",
    "\n",
    "pressure_column_heads = data[scen_train_keys[0]].columns[:32]\n",
    "node_pressures = []\n",
    "for key in scen_train_keys:\n",
    "    for i in range(len(pressure_column_heads)):\n",
    "        if key == scen_train_keys[0]:\n",
    "            node_pressures.append(data[key]['Pressure-Node_' + str(i + 1)])\n",
    "        else:\n",
    "            node_pressures[i] = np.concatenate((node_pressures[i], data[key]['Pressure-Node_' + str(i + 1)]))\n",
    "node_pressures = np.array(node_pressures)\n",
    "node_pressures.shape"
   ]
  },
  {
   "cell_type": "code",
   "execution_count": 8,
   "metadata": {},
   "outputs": [
    {
     "name": "stderr",
     "output_type": "stream",
     "text": [
      "/opt/homebrew/Caskroom/miniconda/base/envs/ML_WD/lib/python3.10/site-packages/sklearn/metrics/cluster/_supervised.py:58: UserWarning: Clustering metrics expects discrete values but received continuous values for label, and binary values for target\n",
      "  warnings.warn(msg, UserWarning)\n",
      "/opt/homebrew/Caskroom/miniconda/base/envs/ML_WD/lib/python3.10/site-packages/sklearn/metrics/cluster/_supervised.py:58: UserWarning: Clustering metrics expects discrete values but received continuous values for label, and binary values for target\n",
      "  warnings.warn(msg, UserWarning)\n",
      "/opt/homebrew/Caskroom/miniconda/base/envs/ML_WD/lib/python3.10/site-packages/sklearn/metrics/cluster/_supervised.py:58: UserWarning: Clustering metrics expects discrete values but received continuous values for label, and binary values for target\n",
      "  warnings.warn(msg, UserWarning)\n",
      "/opt/homebrew/Caskroom/miniconda/base/envs/ML_WD/lib/python3.10/site-packages/sklearn/metrics/cluster/_supervised.py:58: UserWarning: Clustering metrics expects discrete values but received continuous values for label, and binary values for target\n",
      "  warnings.warn(msg, UserWarning)\n",
      "/opt/homebrew/Caskroom/miniconda/base/envs/ML_WD/lib/python3.10/site-packages/sklearn/metrics/cluster/_supervised.py:58: UserWarning: Clustering metrics expects discrete values but received continuous values for label, and binary values for target\n",
      "  warnings.warn(msg, UserWarning)\n",
      "/opt/homebrew/Caskroom/miniconda/base/envs/ML_WD/lib/python3.10/site-packages/sklearn/metrics/cluster/_supervised.py:58: UserWarning: Clustering metrics expects discrete values but received continuous values for label, and binary values for target\n",
      "  warnings.warn(msg, UserWarning)\n",
      "/opt/homebrew/Caskroom/miniconda/base/envs/ML_WD/lib/python3.10/site-packages/sklearn/metrics/cluster/_supervised.py:58: UserWarning: Clustering metrics expects discrete values but received continuous values for label, and binary values for target\n",
      "  warnings.warn(msg, UserWarning)\n",
      "/opt/homebrew/Caskroom/miniconda/base/envs/ML_WD/lib/python3.10/site-packages/sklearn/metrics/cluster/_supervised.py:58: UserWarning: Clustering metrics expects discrete values but received binary values for label, and continuous values for target\n",
      "  warnings.warn(msg, UserWarning)\n",
      "/opt/homebrew/Caskroom/miniconda/base/envs/ML_WD/lib/python3.10/site-packages/sklearn/metrics/cluster/_supervised.py:58: UserWarning: Clustering metrics expects discrete values but received continuous values for label, and continuous values for target\n",
      "  warnings.warn(msg, UserWarning)\n",
      "/opt/homebrew/Caskroom/miniconda/base/envs/ML_WD/lib/python3.10/site-packages/sklearn/metrics/cluster/_supervised.py:58: UserWarning: Clustering metrics expects discrete values but received continuous values for label, and continuous values for target\n",
      "  warnings.warn(msg, UserWarning)\n",
      "/opt/homebrew/Caskroom/miniconda/base/envs/ML_WD/lib/python3.10/site-packages/sklearn/metrics/cluster/_supervised.py:58: UserWarning: Clustering metrics expects discrete values but received continuous values for label, and continuous values for target\n",
      "  warnings.warn(msg, UserWarning)\n",
      "/opt/homebrew/Caskroom/miniconda/base/envs/ML_WD/lib/python3.10/site-packages/sklearn/metrics/cluster/_supervised.py:58: UserWarning: Clustering metrics expects discrete values but received continuous values for label, and continuous values for target\n",
      "  warnings.warn(msg, UserWarning)\n",
      "/opt/homebrew/Caskroom/miniconda/base/envs/ML_WD/lib/python3.10/site-packages/sklearn/metrics/cluster/_supervised.py:58: UserWarning: Clustering metrics expects discrete values but received continuous values for label, and continuous values for target\n",
      "  warnings.warn(msg, UserWarning)\n",
      "/opt/homebrew/Caskroom/miniconda/base/envs/ML_WD/lib/python3.10/site-packages/sklearn/metrics/cluster/_supervised.py:58: UserWarning: Clustering metrics expects discrete values but received continuous values for label, and continuous values for target\n",
      "  warnings.warn(msg, UserWarning)\n",
      "/opt/homebrew/Caskroom/miniconda/base/envs/ML_WD/lib/python3.10/site-packages/sklearn/metrics/cluster/_supervised.py:58: UserWarning: Clustering metrics expects discrete values but received continuous values for label, and continuous values for target\n",
      "  warnings.warn(msg, UserWarning)\n",
      "/opt/homebrew/Caskroom/miniconda/base/envs/ML_WD/lib/python3.10/site-packages/sklearn/metrics/cluster/_supervised.py:58: UserWarning: Clustering metrics expects discrete values but received binary values for label, and continuous values for target\n",
      "  warnings.warn(msg, UserWarning)\n",
      "/opt/homebrew/Caskroom/miniconda/base/envs/ML_WD/lib/python3.10/site-packages/sklearn/metrics/cluster/_supervised.py:58: UserWarning: Clustering metrics expects discrete values but received continuous values for label, and continuous values for target\n",
      "  warnings.warn(msg, UserWarning)\n",
      "/opt/homebrew/Caskroom/miniconda/base/envs/ML_WD/lib/python3.10/site-packages/sklearn/metrics/cluster/_supervised.py:58: UserWarning: Clustering metrics expects discrete values but received binary values for label, and continuous values for target\n",
      "  warnings.warn(msg, UserWarning)\n",
      "/opt/homebrew/Caskroom/miniconda/base/envs/ML_WD/lib/python3.10/site-packages/sklearn/metrics/cluster/_supervised.py:58: UserWarning: Clustering metrics expects discrete values but received continuous values for label, and continuous values for target\n",
      "  warnings.warn(msg, UserWarning)\n",
      "/opt/homebrew/Caskroom/miniconda/base/envs/ML_WD/lib/python3.10/site-packages/sklearn/metrics/cluster/_supervised.py:58: UserWarning: Clustering metrics expects discrete values but received continuous values for label, and continuous values for target\n",
      "  warnings.warn(msg, UserWarning)\n",
      "/opt/homebrew/Caskroom/miniconda/base/envs/ML_WD/lib/python3.10/site-packages/sklearn/metrics/cluster/_supervised.py:58: UserWarning: Clustering metrics expects discrete values but received continuous values for label, and continuous values for target\n",
      "  warnings.warn(msg, UserWarning)\n",
      "/opt/homebrew/Caskroom/miniconda/base/envs/ML_WD/lib/python3.10/site-packages/sklearn/metrics/cluster/_supervised.py:58: UserWarning: Clustering metrics expects discrete values but received continuous values for label, and continuous values for target\n",
      "  warnings.warn(msg, UserWarning)\n",
      "/opt/homebrew/Caskroom/miniconda/base/envs/ML_WD/lib/python3.10/site-packages/sklearn/metrics/cluster/_supervised.py:58: UserWarning: Clustering metrics expects discrete values but received continuous values for label, and continuous values for target\n",
      "  warnings.warn(msg, UserWarning)\n",
      "/opt/homebrew/Caskroom/miniconda/base/envs/ML_WD/lib/python3.10/site-packages/sklearn/metrics/cluster/_supervised.py:58: UserWarning: Clustering metrics expects discrete values but received continuous values for label, and continuous values for target\n",
      "  warnings.warn(msg, UserWarning)\n",
      "/opt/homebrew/Caskroom/miniconda/base/envs/ML_WD/lib/python3.10/site-packages/sklearn/metrics/cluster/_supervised.py:58: UserWarning: Clustering metrics expects discrete values but received binary values for label, and continuous values for target\n",
      "  warnings.warn(msg, UserWarning)\n",
      "/opt/homebrew/Caskroom/miniconda/base/envs/ML_WD/lib/python3.10/site-packages/sklearn/metrics/cluster/_supervised.py:58: UserWarning: Clustering metrics expects discrete values but received continuous values for label, and continuous values for target\n",
      "  warnings.warn(msg, UserWarning)\n",
      "/opt/homebrew/Caskroom/miniconda/base/envs/ML_WD/lib/python3.10/site-packages/sklearn/metrics/cluster/_supervised.py:58: UserWarning: Clustering metrics expects discrete values but received continuous values for label, and continuous values for target\n",
      "  warnings.warn(msg, UserWarning)\n",
      "/opt/homebrew/Caskroom/miniconda/base/envs/ML_WD/lib/python3.10/site-packages/sklearn/metrics/cluster/_supervised.py:58: UserWarning: Clustering metrics expects discrete values but received binary values for label, and continuous values for target\n",
      "  warnings.warn(msg, UserWarning)\n",
      "/opt/homebrew/Caskroom/miniconda/base/envs/ML_WD/lib/python3.10/site-packages/sklearn/metrics/cluster/_supervised.py:58: UserWarning: Clustering metrics expects discrete values but received continuous values for label, and continuous values for target\n",
      "  warnings.warn(msg, UserWarning)\n",
      "/opt/homebrew/Caskroom/miniconda/base/envs/ML_WD/lib/python3.10/site-packages/sklearn/metrics/cluster/_supervised.py:58: UserWarning: Clustering metrics expects discrete values but received continuous values for label, and continuous values for target\n",
      "  warnings.warn(msg, UserWarning)\n",
      "/opt/homebrew/Caskroom/miniconda/base/envs/ML_WD/lib/python3.10/site-packages/sklearn/metrics/cluster/_supervised.py:58: UserWarning: Clustering metrics expects discrete values but received continuous values for label, and continuous values for target\n",
      "  warnings.warn(msg, UserWarning)\n",
      "/opt/homebrew/Caskroom/miniconda/base/envs/ML_WD/lib/python3.10/site-packages/sklearn/metrics/cluster/_supervised.py:58: UserWarning: Clustering metrics expects discrete values but received continuous values for label, and continuous values for target\n",
      "  warnings.warn(msg, UserWarning)\n",
      "/opt/homebrew/Caskroom/miniconda/base/envs/ML_WD/lib/python3.10/site-packages/sklearn/metrics/cluster/_supervised.py:58: UserWarning: Clustering metrics expects discrete values but received continuous values for label, and continuous values for target\n",
      "  warnings.warn(msg, UserWarning)\n",
      "/opt/homebrew/Caskroom/miniconda/base/envs/ML_WD/lib/python3.10/site-packages/sklearn/metrics/cluster/_supervised.py:58: UserWarning: Clustering metrics expects discrete values but received continuous values for label, and continuous values for target\n",
      "  warnings.warn(msg, UserWarning)\n",
      "/opt/homebrew/Caskroom/miniconda/base/envs/ML_WD/lib/python3.10/site-packages/sklearn/metrics/cluster/_supervised.py:58: UserWarning: Clustering metrics expects discrete values but received binary values for label, and continuous values for target\n",
      "  warnings.warn(msg, UserWarning)\n",
      "/opt/homebrew/Caskroom/miniconda/base/envs/ML_WD/lib/python3.10/site-packages/sklearn/metrics/cluster/_supervised.py:58: UserWarning: Clustering metrics expects discrete values but received continuous values for label, and continuous values for target\n",
      "  warnings.warn(msg, UserWarning)\n",
      "/opt/homebrew/Caskroom/miniconda/base/envs/ML_WD/lib/python3.10/site-packages/sklearn/metrics/cluster/_supervised.py:58: UserWarning: Clustering metrics expects discrete values but received continuous values for label, and continuous values for target\n",
      "  warnings.warn(msg, UserWarning)\n",
      "/opt/homebrew/Caskroom/miniconda/base/envs/ML_WD/lib/python3.10/site-packages/sklearn/metrics/cluster/_supervised.py:58: UserWarning: Clustering metrics expects discrete values but received binary values for label, and continuous values for target\n",
      "  warnings.warn(msg, UserWarning)\n",
      "/opt/homebrew/Caskroom/miniconda/base/envs/ML_WD/lib/python3.10/site-packages/sklearn/metrics/cluster/_supervised.py:58: UserWarning: Clustering metrics expects discrete values but received continuous values for label, and continuous values for target\n",
      "  warnings.warn(msg, UserWarning)\n",
      "/opt/homebrew/Caskroom/miniconda/base/envs/ML_WD/lib/python3.10/site-packages/sklearn/metrics/cluster/_supervised.py:58: UserWarning: Clustering metrics expects discrete values but received continuous values for label, and continuous values for target\n",
      "  warnings.warn(msg, UserWarning)\n",
      "/opt/homebrew/Caskroom/miniconda/base/envs/ML_WD/lib/python3.10/site-packages/sklearn/metrics/cluster/_supervised.py:58: UserWarning: Clustering metrics expects discrete values but received continuous values for label, and continuous values for target\n",
      "  warnings.warn(msg, UserWarning)\n",
      "/opt/homebrew/Caskroom/miniconda/base/envs/ML_WD/lib/python3.10/site-packages/sklearn/metrics/cluster/_supervised.py:58: UserWarning: Clustering metrics expects discrete values but received continuous values for label, and continuous values for target\n",
      "  warnings.warn(msg, UserWarning)\n",
      "/opt/homebrew/Caskroom/miniconda/base/envs/ML_WD/lib/python3.10/site-packages/sklearn/metrics/cluster/_supervised.py:58: UserWarning: Clustering metrics expects discrete values but received continuous values for label, and continuous values for target\n",
      "  warnings.warn(msg, UserWarning)\n",
      "/opt/homebrew/Caskroom/miniconda/base/envs/ML_WD/lib/python3.10/site-packages/sklearn/metrics/cluster/_supervised.py:58: UserWarning: Clustering metrics expects discrete values but received continuous values for label, and continuous values for target\n",
      "  warnings.warn(msg, UserWarning)\n",
      "/opt/homebrew/Caskroom/miniconda/base/envs/ML_WD/lib/python3.10/site-packages/sklearn/metrics/cluster/_supervised.py:58: UserWarning: Clustering metrics expects discrete values but received binary values for label, and continuous values for target\n",
      "  warnings.warn(msg, UserWarning)\n",
      "/opt/homebrew/Caskroom/miniconda/base/envs/ML_WD/lib/python3.10/site-packages/sklearn/metrics/cluster/_supervised.py:58: UserWarning: Clustering metrics expects discrete values but received continuous values for label, and continuous values for target\n",
      "  warnings.warn(msg, UserWarning)\n",
      "/opt/homebrew/Caskroom/miniconda/base/envs/ML_WD/lib/python3.10/site-packages/sklearn/metrics/cluster/_supervised.py:58: UserWarning: Clustering metrics expects discrete values but received continuous values for label, and continuous values for target\n",
      "  warnings.warn(msg, UserWarning)\n",
      "/opt/homebrew/Caskroom/miniconda/base/envs/ML_WD/lib/python3.10/site-packages/sklearn/metrics/cluster/_supervised.py:58: UserWarning: Clustering metrics expects discrete values but received continuous values for label, and continuous values for target\n",
      "  warnings.warn(msg, UserWarning)\n",
      "/opt/homebrew/Caskroom/miniconda/base/envs/ML_WD/lib/python3.10/site-packages/sklearn/metrics/cluster/_supervised.py:58: UserWarning: Clustering metrics expects discrete values but received binary values for label, and continuous values for target\n",
      "  warnings.warn(msg, UserWarning)\n",
      "/opt/homebrew/Caskroom/miniconda/base/envs/ML_WD/lib/python3.10/site-packages/sklearn/metrics/cluster/_supervised.py:58: UserWarning: Clustering metrics expects discrete values but received continuous values for label, and continuous values for target\n",
      "  warnings.warn(msg, UserWarning)\n",
      "/opt/homebrew/Caskroom/miniconda/base/envs/ML_WD/lib/python3.10/site-packages/sklearn/metrics/cluster/_supervised.py:58: UserWarning: Clustering metrics expects discrete values but received continuous values for label, and continuous values for target\n",
      "  warnings.warn(msg, UserWarning)\n",
      "/opt/homebrew/Caskroom/miniconda/base/envs/ML_WD/lib/python3.10/site-packages/sklearn/metrics/cluster/_supervised.py:58: UserWarning: Clustering metrics expects discrete values but received continuous values for label, and continuous values for target\n",
      "  warnings.warn(msg, UserWarning)\n",
      "/opt/homebrew/Caskroom/miniconda/base/envs/ML_WD/lib/python3.10/site-packages/sklearn/metrics/cluster/_supervised.py:58: UserWarning: Clustering metrics expects discrete values but received continuous values for label, and continuous values for target\n",
      "  warnings.warn(msg, UserWarning)\n",
      "/opt/homebrew/Caskroom/miniconda/base/envs/ML_WD/lib/python3.10/site-packages/sklearn/metrics/cluster/_supervised.py:58: UserWarning: Clustering metrics expects discrete values but received continuous values for label, and continuous values for target\n",
      "  warnings.warn(msg, UserWarning)\n",
      "/opt/homebrew/Caskroom/miniconda/base/envs/ML_WD/lib/python3.10/site-packages/sklearn/metrics/cluster/_supervised.py:58: UserWarning: Clustering metrics expects discrete values but received continuous values for label, and continuous values for target\n",
      "  warnings.warn(msg, UserWarning)\n",
      "/opt/homebrew/Caskroom/miniconda/base/envs/ML_WD/lib/python3.10/site-packages/sklearn/metrics/cluster/_supervised.py:58: UserWarning: Clustering metrics expects discrete values but received binary values for label, and continuous values for target\n",
      "  warnings.warn(msg, UserWarning)\n",
      "/opt/homebrew/Caskroom/miniconda/base/envs/ML_WD/lib/python3.10/site-packages/sklearn/metrics/cluster/_supervised.py:58: UserWarning: Clustering metrics expects discrete values but received continuous values for label, and continuous values for target\n",
      "  warnings.warn(msg, UserWarning)\n",
      "/opt/homebrew/Caskroom/miniconda/base/envs/ML_WD/lib/python3.10/site-packages/sklearn/metrics/cluster/_supervised.py:58: UserWarning: Clustering metrics expects discrete values but received continuous values for label, and continuous values for target\n",
      "  warnings.warn(msg, UserWarning)\n",
      "/opt/homebrew/Caskroom/miniconda/base/envs/ML_WD/lib/python3.10/site-packages/sklearn/metrics/cluster/_supervised.py:58: UserWarning: Clustering metrics expects discrete values but received continuous values for label, and continuous values for target\n",
      "  warnings.warn(msg, UserWarning)\n",
      "/opt/homebrew/Caskroom/miniconda/base/envs/ML_WD/lib/python3.10/site-packages/sklearn/metrics/cluster/_supervised.py:58: UserWarning: Clustering metrics expects discrete values but received continuous values for label, and continuous values for target\n",
      "  warnings.warn(msg, UserWarning)\n",
      "/opt/homebrew/Caskroom/miniconda/base/envs/ML_WD/lib/python3.10/site-packages/sklearn/metrics/cluster/_supervised.py:58: UserWarning: Clustering metrics expects discrete values but received binary values for label, and continuous values for target\n",
      "  warnings.warn(msg, UserWarning)\n",
      "/opt/homebrew/Caskroom/miniconda/base/envs/ML_WD/lib/python3.10/site-packages/sklearn/metrics/cluster/_supervised.py:58: UserWarning: Clustering metrics expects discrete values but received continuous values for label, and continuous values for target\n",
      "  warnings.warn(msg, UserWarning)\n",
      "/opt/homebrew/Caskroom/miniconda/base/envs/ML_WD/lib/python3.10/site-packages/sklearn/metrics/cluster/_supervised.py:58: UserWarning: Clustering metrics expects discrete values but received continuous values for label, and continuous values for target\n",
      "  warnings.warn(msg, UserWarning)\n",
      "/opt/homebrew/Caskroom/miniconda/base/envs/ML_WD/lib/python3.10/site-packages/sklearn/metrics/cluster/_supervised.py:58: UserWarning: Clustering metrics expects discrete values but received continuous values for label, and continuous values for target\n",
      "  warnings.warn(msg, UserWarning)\n",
      "/opt/homebrew/Caskroom/miniconda/base/envs/ML_WD/lib/python3.10/site-packages/sklearn/metrics/cluster/_supervised.py:58: UserWarning: Clustering metrics expects discrete values but received continuous values for label, and continuous values for target\n",
      "  warnings.warn(msg, UserWarning)\n",
      "/opt/homebrew/Caskroom/miniconda/base/envs/ML_WD/lib/python3.10/site-packages/sklearn/metrics/cluster/_supervised.py:58: UserWarning: Clustering metrics expects discrete values but received continuous values for label, and continuous values for target\n",
      "  warnings.warn(msg, UserWarning)\n",
      "/opt/homebrew/Caskroom/miniconda/base/envs/ML_WD/lib/python3.10/site-packages/sklearn/metrics/cluster/_supervised.py:58: UserWarning: Clustering metrics expects discrete values but received continuous values for label, and continuous values for target\n",
      "  warnings.warn(msg, UserWarning)\n",
      "/opt/homebrew/Caskroom/miniconda/base/envs/ML_WD/lib/python3.10/site-packages/sklearn/metrics/cluster/_supervised.py:58: UserWarning: Clustering metrics expects discrete values but received binary values for label, and continuous values for target\n",
      "  warnings.warn(msg, UserWarning)\n",
      "/opt/homebrew/Caskroom/miniconda/base/envs/ML_WD/lib/python3.10/site-packages/sklearn/metrics/cluster/_supervised.py:58: UserWarning: Clustering metrics expects discrete values but received continuous values for label, and continuous values for target\n",
      "  warnings.warn(msg, UserWarning)\n",
      "/opt/homebrew/Caskroom/miniconda/base/envs/ML_WD/lib/python3.10/site-packages/sklearn/metrics/cluster/_supervised.py:58: UserWarning: Clustering metrics expects discrete values but received binary values for label, and continuous values for target\n",
      "  warnings.warn(msg, UserWarning)\n",
      "/opt/homebrew/Caskroom/miniconda/base/envs/ML_WD/lib/python3.10/site-packages/sklearn/metrics/cluster/_supervised.py:58: UserWarning: Clustering metrics expects discrete values but received continuous values for label, and continuous values for target\n",
      "  warnings.warn(msg, UserWarning)\n",
      "/opt/homebrew/Caskroom/miniconda/base/envs/ML_WD/lib/python3.10/site-packages/sklearn/metrics/cluster/_supervised.py:58: UserWarning: Clustering metrics expects discrete values but received continuous values for label, and continuous values for target\n",
      "  warnings.warn(msg, UserWarning)\n",
      "/opt/homebrew/Caskroom/miniconda/base/envs/ML_WD/lib/python3.10/site-packages/sklearn/metrics/cluster/_supervised.py:58: UserWarning: Clustering metrics expects discrete values but received continuous values for label, and continuous values for target\n",
      "  warnings.warn(msg, UserWarning)\n",
      "/opt/homebrew/Caskroom/miniconda/base/envs/ML_WD/lib/python3.10/site-packages/sklearn/metrics/cluster/_supervised.py:58: UserWarning: Clustering metrics expects discrete values but received continuous values for label, and continuous values for target\n",
      "  warnings.warn(msg, UserWarning)\n",
      "/opt/homebrew/Caskroom/miniconda/base/envs/ML_WD/lib/python3.10/site-packages/sklearn/metrics/cluster/_supervised.py:58: UserWarning: Clustering metrics expects discrete values but received continuous values for label, and continuous values for target\n",
      "  warnings.warn(msg, UserWarning)\n",
      "/opt/homebrew/Caskroom/miniconda/base/envs/ML_WD/lib/python3.10/site-packages/sklearn/metrics/cluster/_supervised.py:58: UserWarning: Clustering metrics expects discrete values but received continuous values for label, and continuous values for target\n",
      "  warnings.warn(msg, UserWarning)\n",
      "/opt/homebrew/Caskroom/miniconda/base/envs/ML_WD/lib/python3.10/site-packages/sklearn/metrics/cluster/_supervised.py:58: UserWarning: Clustering metrics expects discrete values but received continuous values for label, and continuous values for target\n",
      "  warnings.warn(msg, UserWarning)\n",
      "/opt/homebrew/Caskroom/miniconda/base/envs/ML_WD/lib/python3.10/site-packages/sklearn/metrics/cluster/_supervised.py:58: UserWarning: Clustering metrics expects discrete values but received binary values for label, and continuous values for target\n",
      "  warnings.warn(msg, UserWarning)\n",
      "/opt/homebrew/Caskroom/miniconda/base/envs/ML_WD/lib/python3.10/site-packages/sklearn/metrics/cluster/_supervised.py:58: UserWarning: Clustering metrics expects discrete values but received continuous values for label, and continuous values for target\n",
      "  warnings.warn(msg, UserWarning)\n",
      "/opt/homebrew/Caskroom/miniconda/base/envs/ML_WD/lib/python3.10/site-packages/sklearn/metrics/cluster/_supervised.py:58: UserWarning: Clustering metrics expects discrete values but received continuous values for label, and continuous values for target\n",
      "  warnings.warn(msg, UserWarning)\n",
      "/opt/homebrew/Caskroom/miniconda/base/envs/ML_WD/lib/python3.10/site-packages/sklearn/metrics/cluster/_supervised.py:58: UserWarning: Clustering metrics expects discrete values but received continuous values for label, and continuous values for target\n",
      "  warnings.warn(msg, UserWarning)\n",
      "/opt/homebrew/Caskroom/miniconda/base/envs/ML_WD/lib/python3.10/site-packages/sklearn/metrics/cluster/_supervised.py:58: UserWarning: Clustering metrics expects discrete values but received continuous values for label, and continuous values for target\n",
      "  warnings.warn(msg, UserWarning)\n",
      "/opt/homebrew/Caskroom/miniconda/base/envs/ML_WD/lib/python3.10/site-packages/sklearn/metrics/cluster/_supervised.py:58: UserWarning: Clustering metrics expects discrete values but received binary values for label, and continuous values for target\n",
      "  warnings.warn(msg, UserWarning)\n",
      "/opt/homebrew/Caskroom/miniconda/base/envs/ML_WD/lib/python3.10/site-packages/sklearn/metrics/cluster/_supervised.py:58: UserWarning: Clustering metrics expects discrete values but received continuous values for label, and continuous values for target\n",
      "  warnings.warn(msg, UserWarning)\n",
      "/opt/homebrew/Caskroom/miniconda/base/envs/ML_WD/lib/python3.10/site-packages/sklearn/metrics/cluster/_supervised.py:58: UserWarning: Clustering metrics expects discrete values but received continuous values for label, and continuous values for target\n",
      "  warnings.warn(msg, UserWarning)\n",
      "/opt/homebrew/Caskroom/miniconda/base/envs/ML_WD/lib/python3.10/site-packages/sklearn/metrics/cluster/_supervised.py:58: UserWarning: Clustering metrics expects discrete values but received continuous values for label, and continuous values for target\n",
      "  warnings.warn(msg, UserWarning)\n",
      "/opt/homebrew/Caskroom/miniconda/base/envs/ML_WD/lib/python3.10/site-packages/sklearn/metrics/cluster/_supervised.py:58: UserWarning: Clustering metrics expects discrete values but received binary values for label, and continuous values for target\n",
      "  warnings.warn(msg, UserWarning)\n",
      "/opt/homebrew/Caskroom/miniconda/base/envs/ML_WD/lib/python3.10/site-packages/sklearn/metrics/cluster/_supervised.py:58: UserWarning: Clustering metrics expects discrete values but received continuous values for label, and continuous values for target\n",
      "  warnings.warn(msg, UserWarning)\n",
      "/opt/homebrew/Caskroom/miniconda/base/envs/ML_WD/lib/python3.10/site-packages/sklearn/metrics/cluster/_supervised.py:58: UserWarning: Clustering metrics expects discrete values but received continuous values for label, and continuous values for target\n",
      "  warnings.warn(msg, UserWarning)\n",
      "/opt/homebrew/Caskroom/miniconda/base/envs/ML_WD/lib/python3.10/site-packages/sklearn/metrics/cluster/_supervised.py:58: UserWarning: Clustering metrics expects discrete values but received continuous values for label, and continuous values for target\n",
      "  warnings.warn(msg, UserWarning)\n",
      "/opt/homebrew/Caskroom/miniconda/base/envs/ML_WD/lib/python3.10/site-packages/sklearn/metrics/cluster/_supervised.py:58: UserWarning: Clustering metrics expects discrete values but received continuous values for label, and continuous values for target\n",
      "  warnings.warn(msg, UserWarning)\n",
      "/opt/homebrew/Caskroom/miniconda/base/envs/ML_WD/lib/python3.10/site-packages/sklearn/metrics/cluster/_supervised.py:58: UserWarning: Clustering metrics expects discrete values but received binary values for label, and continuous values for target\n",
      "  warnings.warn(msg, UserWarning)\n",
      "/opt/homebrew/Caskroom/miniconda/base/envs/ML_WD/lib/python3.10/site-packages/sklearn/metrics/cluster/_supervised.py:58: UserWarning: Clustering metrics expects discrete values but received continuous values for label, and continuous values for target\n",
      "  warnings.warn(msg, UserWarning)\n",
      "/opt/homebrew/Caskroom/miniconda/base/envs/ML_WD/lib/python3.10/site-packages/sklearn/metrics/cluster/_supervised.py:58: UserWarning: Clustering metrics expects discrete values but received continuous values for label, and continuous values for target\n",
      "  warnings.warn(msg, UserWarning)\n",
      "/opt/homebrew/Caskroom/miniconda/base/envs/ML_WD/lib/python3.10/site-packages/sklearn/metrics/cluster/_supervised.py:58: UserWarning: Clustering metrics expects discrete values but received continuous values for label, and continuous values for target\n",
      "  warnings.warn(msg, UserWarning)\n",
      "/opt/homebrew/Caskroom/miniconda/base/envs/ML_WD/lib/python3.10/site-packages/sklearn/metrics/cluster/_supervised.py:58: UserWarning: Clustering metrics expects discrete values but received continuous values for label, and continuous values for target\n",
      "  warnings.warn(msg, UserWarning)\n",
      "/opt/homebrew/Caskroom/miniconda/base/envs/ML_WD/lib/python3.10/site-packages/sklearn/metrics/cluster/_supervised.py:58: UserWarning: Clustering metrics expects discrete values but received binary values for label, and continuous values for target\n",
      "  warnings.warn(msg, UserWarning)\n",
      "/opt/homebrew/Caskroom/miniconda/base/envs/ML_WD/lib/python3.10/site-packages/sklearn/metrics/cluster/_supervised.py:58: UserWarning: Clustering metrics expects discrete values but received continuous values for label, and continuous values for target\n",
      "  warnings.warn(msg, UserWarning)\n",
      "/opt/homebrew/Caskroom/miniconda/base/envs/ML_WD/lib/python3.10/site-packages/sklearn/metrics/cluster/_supervised.py:58: UserWarning: Clustering metrics expects discrete values but received continuous values for label, and continuous values for target\n",
      "  warnings.warn(msg, UserWarning)\n",
      "/opt/homebrew/Caskroom/miniconda/base/envs/ML_WD/lib/python3.10/site-packages/sklearn/metrics/cluster/_supervised.py:58: UserWarning: Clustering metrics expects discrete values but received continuous values for label, and continuous values for target\n",
      "  warnings.warn(msg, UserWarning)\n",
      "/opt/homebrew/Caskroom/miniconda/base/envs/ML_WD/lib/python3.10/site-packages/sklearn/metrics/cluster/_supervised.py:58: UserWarning: Clustering metrics expects discrete values but received continuous values for label, and continuous values for target\n",
      "  warnings.warn(msg, UserWarning)\n",
      "/opt/homebrew/Caskroom/miniconda/base/envs/ML_WD/lib/python3.10/site-packages/sklearn/metrics/cluster/_supervised.py:58: UserWarning: Clustering metrics expects discrete values but received binary values for label, and continuous values for target\n",
      "  warnings.warn(msg, UserWarning)\n",
      "/opt/homebrew/Caskroom/miniconda/base/envs/ML_WD/lib/python3.10/site-packages/sklearn/metrics/cluster/_supervised.py:58: UserWarning: Clustering metrics expects discrete values but received continuous values for label, and continuous values for target\n",
      "  warnings.warn(msg, UserWarning)\n",
      "/opt/homebrew/Caskroom/miniconda/base/envs/ML_WD/lib/python3.10/site-packages/sklearn/metrics/cluster/_supervised.py:58: UserWarning: Clustering metrics expects discrete values but received continuous values for label, and continuous values for target\n",
      "  warnings.warn(msg, UserWarning)\n",
      "/opt/homebrew/Caskroom/miniconda/base/envs/ML_WD/lib/python3.10/site-packages/sklearn/metrics/cluster/_supervised.py:58: UserWarning: Clustering metrics expects discrete values but received continuous values for label, and continuous values for target\n",
      "  warnings.warn(msg, UserWarning)\n",
      "/opt/homebrew/Caskroom/miniconda/base/envs/ML_WD/lib/python3.10/site-packages/sklearn/metrics/cluster/_supervised.py:58: UserWarning: Clustering metrics expects discrete values but received continuous values for label, and continuous values for target\n",
      "  warnings.warn(msg, UserWarning)\n",
      "/opt/homebrew/Caskroom/miniconda/base/envs/ML_WD/lib/python3.10/site-packages/sklearn/metrics/cluster/_supervised.py:58: UserWarning: Clustering metrics expects discrete values but received binary values for label, and continuous values for target\n",
      "  warnings.warn(msg, UserWarning)\n",
      "/opt/homebrew/Caskroom/miniconda/base/envs/ML_WD/lib/python3.10/site-packages/sklearn/metrics/cluster/_supervised.py:58: UserWarning: Clustering metrics expects discrete values but received continuous values for label, and continuous values for target\n",
      "  warnings.warn(msg, UserWarning)\n",
      "/opt/homebrew/Caskroom/miniconda/base/envs/ML_WD/lib/python3.10/site-packages/sklearn/metrics/cluster/_supervised.py:58: UserWarning: Clustering metrics expects discrete values but received continuous values for label, and continuous values for target\n",
      "  warnings.warn(msg, UserWarning)\n",
      "/opt/homebrew/Caskroom/miniconda/base/envs/ML_WD/lib/python3.10/site-packages/sklearn/metrics/cluster/_supervised.py:58: UserWarning: Clustering metrics expects discrete values but received continuous values for label, and continuous values for target\n",
      "  warnings.warn(msg, UserWarning)\n",
      "/opt/homebrew/Caskroom/miniconda/base/envs/ML_WD/lib/python3.10/site-packages/sklearn/metrics/cluster/_supervised.py:58: UserWarning: Clustering metrics expects discrete values but received binary values for label, and continuous values for target\n",
      "  warnings.warn(msg, UserWarning)\n",
      "/opt/homebrew/Caskroom/miniconda/base/envs/ML_WD/lib/python3.10/site-packages/sklearn/metrics/cluster/_supervised.py:58: UserWarning: Clustering metrics expects discrete values but received continuous values for label, and continuous values for target\n",
      "  warnings.warn(msg, UserWarning)\n",
      "/opt/homebrew/Caskroom/miniconda/base/envs/ML_WD/lib/python3.10/site-packages/sklearn/metrics/cluster/_supervised.py:58: UserWarning: Clustering metrics expects discrete values but received continuous values for label, and continuous values for target\n",
      "  warnings.warn(msg, UserWarning)\n",
      "/opt/homebrew/Caskroom/miniconda/base/envs/ML_WD/lib/python3.10/site-packages/sklearn/metrics/cluster/_supervised.py:58: UserWarning: Clustering metrics expects discrete values but received continuous values for label, and continuous values for target\n",
      "  warnings.warn(msg, UserWarning)\n",
      "/opt/homebrew/Caskroom/miniconda/base/envs/ML_WD/lib/python3.10/site-packages/sklearn/metrics/cluster/_supervised.py:58: UserWarning: Clustering metrics expects discrete values but received continuous values for label, and continuous values for target\n",
      "  warnings.warn(msg, UserWarning)\n",
      "/opt/homebrew/Caskroom/miniconda/base/envs/ML_WD/lib/python3.10/site-packages/sklearn/metrics/cluster/_supervised.py:58: UserWarning: Clustering metrics expects discrete values but received continuous values for label, and continuous values for target\n",
      "  warnings.warn(msg, UserWarning)\n",
      "/opt/homebrew/Caskroom/miniconda/base/envs/ML_WD/lib/python3.10/site-packages/sklearn/metrics/cluster/_supervised.py:58: UserWarning: Clustering metrics expects discrete values but received binary values for label, and continuous values for target\n",
      "  warnings.warn(msg, UserWarning)\n",
      "/opt/homebrew/Caskroom/miniconda/base/envs/ML_WD/lib/python3.10/site-packages/sklearn/metrics/cluster/_supervised.py:58: UserWarning: Clustering metrics expects discrete values but received continuous values for label, and continuous values for target\n",
      "  warnings.warn(msg, UserWarning)\n",
      "/opt/homebrew/Caskroom/miniconda/base/envs/ML_WD/lib/python3.10/site-packages/sklearn/metrics/cluster/_supervised.py:58: UserWarning: Clustering metrics expects discrete values but received continuous values for label, and continuous values for target\n",
      "  warnings.warn(msg, UserWarning)\n",
      "/opt/homebrew/Caskroom/miniconda/base/envs/ML_WD/lib/python3.10/site-packages/sklearn/metrics/cluster/_supervised.py:58: UserWarning: Clustering metrics expects discrete values but received continuous values for label, and continuous values for target\n",
      "  warnings.warn(msg, UserWarning)\n",
      "/opt/homebrew/Caskroom/miniconda/base/envs/ML_WD/lib/python3.10/site-packages/sklearn/metrics/cluster/_supervised.py:58: UserWarning: Clustering metrics expects discrete values but received binary values for label, and continuous values for target\n",
      "  warnings.warn(msg, UserWarning)\n",
      "/opt/homebrew/Caskroom/miniconda/base/envs/ML_WD/lib/python3.10/site-packages/sklearn/metrics/cluster/_supervised.py:58: UserWarning: Clustering metrics expects discrete values but received continuous values for label, and continuous values for target\n",
      "  warnings.warn(msg, UserWarning)\n",
      "/opt/homebrew/Caskroom/miniconda/base/envs/ML_WD/lib/python3.10/site-packages/sklearn/metrics/cluster/_supervised.py:58: UserWarning: Clustering metrics expects discrete values but received continuous values for label, and continuous values for target\n",
      "  warnings.warn(msg, UserWarning)\n",
      "/opt/homebrew/Caskroom/miniconda/base/envs/ML_WD/lib/python3.10/site-packages/sklearn/metrics/cluster/_supervised.py:58: UserWarning: Clustering metrics expects discrete values but received continuous values for label, and continuous values for target\n",
      "  warnings.warn(msg, UserWarning)\n",
      "/opt/homebrew/Caskroom/miniconda/base/envs/ML_WD/lib/python3.10/site-packages/sklearn/metrics/cluster/_supervised.py:58: UserWarning: Clustering metrics expects discrete values but received continuous values for label, and continuous values for target\n",
      "  warnings.warn(msg, UserWarning)\n",
      "/opt/homebrew/Caskroom/miniconda/base/envs/ML_WD/lib/python3.10/site-packages/sklearn/metrics/cluster/_supervised.py:58: UserWarning: Clustering metrics expects discrete values but received binary values for label, and continuous values for target\n",
      "  warnings.warn(msg, UserWarning)\n",
      "/opt/homebrew/Caskroom/miniconda/base/envs/ML_WD/lib/python3.10/site-packages/sklearn/metrics/cluster/_supervised.py:58: UserWarning: Clustering metrics expects discrete values but received continuous values for label, and continuous values for target\n",
      "  warnings.warn(msg, UserWarning)\n",
      "/opt/homebrew/Caskroom/miniconda/base/envs/ML_WD/lib/python3.10/site-packages/sklearn/metrics/cluster/_supervised.py:58: UserWarning: Clustering metrics expects discrete values but received continuous values for label, and continuous values for target\n",
      "  warnings.warn(msg, UserWarning)\n",
      "/opt/homebrew/Caskroom/miniconda/base/envs/ML_WD/lib/python3.10/site-packages/sklearn/metrics/cluster/_supervised.py:58: UserWarning: Clustering metrics expects discrete values but received continuous values for label, and continuous values for target\n",
      "  warnings.warn(msg, UserWarning)\n",
      "/opt/homebrew/Caskroom/miniconda/base/envs/ML_WD/lib/python3.10/site-packages/sklearn/metrics/cluster/_supervised.py:58: UserWarning: Clustering metrics expects discrete values but received binary values for label, and continuous values for target\n",
      "  warnings.warn(msg, UserWarning)\n",
      "/opt/homebrew/Caskroom/miniconda/base/envs/ML_WD/lib/python3.10/site-packages/sklearn/metrics/cluster/_supervised.py:58: UserWarning: Clustering metrics expects discrete values but received continuous values for label, and continuous values for target\n",
      "  warnings.warn(msg, UserWarning)\n",
      "/opt/homebrew/Caskroom/miniconda/base/envs/ML_WD/lib/python3.10/site-packages/sklearn/metrics/cluster/_supervised.py:58: UserWarning: Clustering metrics expects discrete values but received continuous values for label, and continuous values for target\n",
      "  warnings.warn(msg, UserWarning)\n",
      "/opt/homebrew/Caskroom/miniconda/base/envs/ML_WD/lib/python3.10/site-packages/sklearn/metrics/cluster/_supervised.py:58: UserWarning: Clustering metrics expects discrete values but received continuous values for label, and continuous values for target\n",
      "  warnings.warn(msg, UserWarning)\n",
      "/opt/homebrew/Caskroom/miniconda/base/envs/ML_WD/lib/python3.10/site-packages/sklearn/metrics/cluster/_supervised.py:58: UserWarning: Clustering metrics expects discrete values but received continuous values for label, and continuous values for target\n",
      "  warnings.warn(msg, UserWarning)\n",
      "/opt/homebrew/Caskroom/miniconda/base/envs/ML_WD/lib/python3.10/site-packages/sklearn/metrics/cluster/_supervised.py:58: UserWarning: Clustering metrics expects discrete values but received continuous values for label, and continuous values for target\n",
      "  warnings.warn(msg, UserWarning)\n",
      "/opt/homebrew/Caskroom/miniconda/base/envs/ML_WD/lib/python3.10/site-packages/sklearn/metrics/cluster/_supervised.py:58: UserWarning: Clustering metrics expects discrete values but received continuous values for label, and continuous values for target\n",
      "  warnings.warn(msg, UserWarning)\n",
      "/opt/homebrew/Caskroom/miniconda/base/envs/ML_WD/lib/python3.10/site-packages/sklearn/metrics/cluster/_supervised.py:58: UserWarning: Clustering metrics expects discrete values but received binary values for label, and continuous values for target\n",
      "  warnings.warn(msg, UserWarning)\n",
      "/opt/homebrew/Caskroom/miniconda/base/envs/ML_WD/lib/python3.10/site-packages/sklearn/metrics/cluster/_supervised.py:58: UserWarning: Clustering metrics expects discrete values but received continuous values for label, and continuous values for target\n",
      "  warnings.warn(msg, UserWarning)\n",
      "/opt/homebrew/Caskroom/miniconda/base/envs/ML_WD/lib/python3.10/site-packages/sklearn/metrics/cluster/_supervised.py:58: UserWarning: Clustering metrics expects discrete values but received binary values for label, and continuous values for target\n",
      "  warnings.warn(msg, UserWarning)\n",
      "/opt/homebrew/Caskroom/miniconda/base/envs/ML_WD/lib/python3.10/site-packages/sklearn/metrics/cluster/_supervised.py:58: UserWarning: Clustering metrics expects discrete values but received continuous values for label, and continuous values for target\n",
      "  warnings.warn(msg, UserWarning)\n",
      "/opt/homebrew/Caskroom/miniconda/base/envs/ML_WD/lib/python3.10/site-packages/sklearn/metrics/cluster/_supervised.py:58: UserWarning: Clustering metrics expects discrete values but received continuous values for label, and continuous values for target\n",
      "  warnings.warn(msg, UserWarning)\n",
      "/opt/homebrew/Caskroom/miniconda/base/envs/ML_WD/lib/python3.10/site-packages/sklearn/metrics/cluster/_supervised.py:58: UserWarning: Clustering metrics expects discrete values but received continuous values for label, and continuous values for target\n",
      "  warnings.warn(msg, UserWarning)\n",
      "/opt/homebrew/Caskroom/miniconda/base/envs/ML_WD/lib/python3.10/site-packages/sklearn/metrics/cluster/_supervised.py:58: UserWarning: Clustering metrics expects discrete values but received continuous values for label, and continuous values for target\n",
      "  warnings.warn(msg, UserWarning)\n",
      "/opt/homebrew/Caskroom/miniconda/base/envs/ML_WD/lib/python3.10/site-packages/sklearn/metrics/cluster/_supervised.py:58: UserWarning: Clustering metrics expects discrete values but received continuous values for label, and continuous values for target\n",
      "  warnings.warn(msg, UserWarning)\n",
      "/opt/homebrew/Caskroom/miniconda/base/envs/ML_WD/lib/python3.10/site-packages/sklearn/metrics/cluster/_supervised.py:58: UserWarning: Clustering metrics expects discrete values but received binary values for label, and continuous values for target\n",
      "  warnings.warn(msg, UserWarning)\n",
      "/opt/homebrew/Caskroom/miniconda/base/envs/ML_WD/lib/python3.10/site-packages/sklearn/metrics/cluster/_supervised.py:58: UserWarning: Clustering metrics expects discrete values but received continuous values for label, and continuous values for target\n",
      "  warnings.warn(msg, UserWarning)\n",
      "/opt/homebrew/Caskroom/miniconda/base/envs/ML_WD/lib/python3.10/site-packages/sklearn/metrics/cluster/_supervised.py:58: UserWarning: Clustering metrics expects discrete values but received continuous values for label, and continuous values for target\n",
      "  warnings.warn(msg, UserWarning)\n",
      "/opt/homebrew/Caskroom/miniconda/base/envs/ML_WD/lib/python3.10/site-packages/sklearn/metrics/cluster/_supervised.py:58: UserWarning: Clustering metrics expects discrete values but received continuous values for label, and continuous values for target\n",
      "  warnings.warn(msg, UserWarning)\n",
      "/opt/homebrew/Caskroom/miniconda/base/envs/ML_WD/lib/python3.10/site-packages/sklearn/metrics/cluster/_supervised.py:58: UserWarning: Clustering metrics expects discrete values but received binary values for label, and continuous values for target\n",
      "  warnings.warn(msg, UserWarning)\n",
      "/opt/homebrew/Caskroom/miniconda/base/envs/ML_WD/lib/python3.10/site-packages/sklearn/metrics/cluster/_supervised.py:58: UserWarning: Clustering metrics expects discrete values but received continuous values for label, and continuous values for target\n",
      "  warnings.warn(msg, UserWarning)\n",
      "/opt/homebrew/Caskroom/miniconda/base/envs/ML_WD/lib/python3.10/site-packages/sklearn/metrics/cluster/_supervised.py:58: UserWarning: Clustering metrics expects discrete values but received continuous values for label, and continuous values for target\n",
      "  warnings.warn(msg, UserWarning)\n",
      "/opt/homebrew/Caskroom/miniconda/base/envs/ML_WD/lib/python3.10/site-packages/sklearn/metrics/cluster/_supervised.py:58: UserWarning: Clustering metrics expects discrete values but received continuous values for label, and continuous values for target\n",
      "  warnings.warn(msg, UserWarning)\n",
      "/opt/homebrew/Caskroom/miniconda/base/envs/ML_WD/lib/python3.10/site-packages/sklearn/metrics/cluster/_supervised.py:58: UserWarning: Clustering metrics expects discrete values but received continuous values for label, and continuous values for target\n",
      "  warnings.warn(msg, UserWarning)\n",
      "/opt/homebrew/Caskroom/miniconda/base/envs/ML_WD/lib/python3.10/site-packages/sklearn/metrics/cluster/_supervised.py:58: UserWarning: Clustering metrics expects discrete values but received binary values for label, and continuous values for target\n",
      "  warnings.warn(msg, UserWarning)\n",
      "/opt/homebrew/Caskroom/miniconda/base/envs/ML_WD/lib/python3.10/site-packages/sklearn/metrics/cluster/_supervised.py:58: UserWarning: Clustering metrics expects discrete values but received continuous values for label, and continuous values for target\n",
      "  warnings.warn(msg, UserWarning)\n",
      "/opt/homebrew/Caskroom/miniconda/base/envs/ML_WD/lib/python3.10/site-packages/sklearn/metrics/cluster/_supervised.py:58: UserWarning: Clustering metrics expects discrete values but received continuous values for label, and continuous values for target\n",
      "  warnings.warn(msg, UserWarning)\n",
      "/opt/homebrew/Caskroom/miniconda/base/envs/ML_WD/lib/python3.10/site-packages/sklearn/metrics/cluster/_supervised.py:58: UserWarning: Clustering metrics expects discrete values but received continuous values for label, and continuous values for target\n",
      "  warnings.warn(msg, UserWarning)\n",
      "/opt/homebrew/Caskroom/miniconda/base/envs/ML_WD/lib/python3.10/site-packages/sklearn/metrics/cluster/_supervised.py:58: UserWarning: Clustering metrics expects discrete values but received binary values for label, and continuous values for target\n",
      "  warnings.warn(msg, UserWarning)\n",
      "/opt/homebrew/Caskroom/miniconda/base/envs/ML_WD/lib/python3.10/site-packages/sklearn/metrics/cluster/_supervised.py:58: UserWarning: Clustering metrics expects discrete values but received continuous values for label, and continuous values for target\n",
      "  warnings.warn(msg, UserWarning)\n",
      "/opt/homebrew/Caskroom/miniconda/base/envs/ML_WD/lib/python3.10/site-packages/sklearn/metrics/cluster/_supervised.py:58: UserWarning: Clustering metrics expects discrete values but received continuous values for label, and continuous values for target\n",
      "  warnings.warn(msg, UserWarning)\n",
      "/opt/homebrew/Caskroom/miniconda/base/envs/ML_WD/lib/python3.10/site-packages/sklearn/metrics/cluster/_supervised.py:58: UserWarning: Clustering metrics expects discrete values but received continuous values for label, and continuous values for target\n",
      "  warnings.warn(msg, UserWarning)\n",
      "/opt/homebrew/Caskroom/miniconda/base/envs/ML_WD/lib/python3.10/site-packages/sklearn/metrics/cluster/_supervised.py:58: UserWarning: Clustering metrics expects discrete values but received continuous values for label, and continuous values for target\n",
      "  warnings.warn(msg, UserWarning)\n",
      "/opt/homebrew/Caskroom/miniconda/base/envs/ML_WD/lib/python3.10/site-packages/sklearn/metrics/cluster/_supervised.py:58: UserWarning: Clustering metrics expects discrete values but received continuous values for label, and continuous values for target\n",
      "  warnings.warn(msg, UserWarning)\n",
      "/opt/homebrew/Caskroom/miniconda/base/envs/ML_WD/lib/python3.10/site-packages/sklearn/metrics/cluster/_supervised.py:58: UserWarning: Clustering metrics expects discrete values but received continuous values for label, and binary values for target\n",
      "  warnings.warn(msg, UserWarning)\n",
      "/opt/homebrew/Caskroom/miniconda/base/envs/ML_WD/lib/python3.10/site-packages/sklearn/metrics/cluster/_supervised.py:58: UserWarning: Clustering metrics expects discrete values but received continuous values for label, and continuous values for target\n",
      "  warnings.warn(msg, UserWarning)\n",
      "/opt/homebrew/Caskroom/miniconda/base/envs/ML_WD/lib/python3.10/site-packages/sklearn/metrics/cluster/_supervised.py:58: UserWarning: Clustering metrics expects discrete values but received continuous values for label, and continuous values for target\n",
      "  warnings.warn(msg, UserWarning)\n",
      "/opt/homebrew/Caskroom/miniconda/base/envs/ML_WD/lib/python3.10/site-packages/sklearn/metrics/cluster/_supervised.py:58: UserWarning: Clustering metrics expects discrete values but received continuous values for label, and continuous values for target\n",
      "  warnings.warn(msg, UserWarning)\n",
      "/opt/homebrew/Caskroom/miniconda/base/envs/ML_WD/lib/python3.10/site-packages/sklearn/metrics/cluster/_supervised.py:58: UserWarning: Clustering metrics expects discrete values but received continuous values for label, and continuous values for target\n",
      "  warnings.warn(msg, UserWarning)\n",
      "/opt/homebrew/Caskroom/miniconda/base/envs/ML_WD/lib/python3.10/site-packages/sklearn/metrics/cluster/_supervised.py:58: UserWarning: Clustering metrics expects discrete values but received continuous values for label, and continuous values for target\n",
      "  warnings.warn(msg, UserWarning)\n",
      "/opt/homebrew/Caskroom/miniconda/base/envs/ML_WD/lib/python3.10/site-packages/sklearn/metrics/cluster/_supervised.py:58: UserWarning: Clustering metrics expects discrete values but received continuous values for label, and continuous values for target\n",
      "  warnings.warn(msg, UserWarning)\n",
      "/opt/homebrew/Caskroom/miniconda/base/envs/ML_WD/lib/python3.10/site-packages/sklearn/metrics/cluster/_supervised.py:58: UserWarning: Clustering metrics expects discrete values but received continuous values for label, and continuous values for target\n",
      "  warnings.warn(msg, UserWarning)\n",
      "/opt/homebrew/Caskroom/miniconda/base/envs/ML_WD/lib/python3.10/site-packages/sklearn/metrics/cluster/_supervised.py:58: UserWarning: Clustering metrics expects discrete values but received continuous values for label, and continuous values for target\n",
      "  warnings.warn(msg, UserWarning)\n",
      "/opt/homebrew/Caskroom/miniconda/base/envs/ML_WD/lib/python3.10/site-packages/sklearn/metrics/cluster/_supervised.py:58: UserWarning: Clustering metrics expects discrete values but received continuous values for label, and continuous values for target\n",
      "  warnings.warn(msg, UserWarning)\n",
      "/opt/homebrew/Caskroom/miniconda/base/envs/ML_WD/lib/python3.10/site-packages/sklearn/metrics/cluster/_supervised.py:58: UserWarning: Clustering metrics expects discrete values but received continuous values for label, and continuous values for target\n",
      "  warnings.warn(msg, UserWarning)\n",
      "/opt/homebrew/Caskroom/miniconda/base/envs/ML_WD/lib/python3.10/site-packages/sklearn/metrics/cluster/_supervised.py:58: UserWarning: Clustering metrics expects discrete values but received continuous values for label, and continuous values for target\n",
      "  warnings.warn(msg, UserWarning)\n",
      "/opt/homebrew/Caskroom/miniconda/base/envs/ML_WD/lib/python3.10/site-packages/sklearn/metrics/cluster/_supervised.py:58: UserWarning: Clustering metrics expects discrete values but received continuous values for label, and continuous values for target\n",
      "  warnings.warn(msg, UserWarning)\n",
      "/opt/homebrew/Caskroom/miniconda/base/envs/ML_WD/lib/python3.10/site-packages/sklearn/metrics/cluster/_supervised.py:58: UserWarning: Clustering metrics expects discrete values but received continuous values for label, and continuous values for target\n",
      "  warnings.warn(msg, UserWarning)\n",
      "/opt/homebrew/Caskroom/miniconda/base/envs/ML_WD/lib/python3.10/site-packages/sklearn/metrics/cluster/_supervised.py:58: UserWarning: Clustering metrics expects discrete values but received continuous values for label, and continuous values for target\n",
      "  warnings.warn(msg, UserWarning)\n",
      "/opt/homebrew/Caskroom/miniconda/base/envs/ML_WD/lib/python3.10/site-packages/sklearn/metrics/cluster/_supervised.py:58: UserWarning: Clustering metrics expects discrete values but received continuous values for label, and continuous values for target\n",
      "  warnings.warn(msg, UserWarning)\n",
      "/opt/homebrew/Caskroom/miniconda/base/envs/ML_WD/lib/python3.10/site-packages/sklearn/metrics/cluster/_supervised.py:58: UserWarning: Clustering metrics expects discrete values but received continuous values for label, and continuous values for target\n",
      "  warnings.warn(msg, UserWarning)\n",
      "/opt/homebrew/Caskroom/miniconda/base/envs/ML_WD/lib/python3.10/site-packages/sklearn/metrics/cluster/_supervised.py:58: UserWarning: Clustering metrics expects discrete values but received continuous values for label, and continuous values for target\n",
      "  warnings.warn(msg, UserWarning)\n",
      "/opt/homebrew/Caskroom/miniconda/base/envs/ML_WD/lib/python3.10/site-packages/sklearn/metrics/cluster/_supervised.py:58: UserWarning: Clustering metrics expects discrete values but received continuous values for label, and continuous values for target\n",
      "  warnings.warn(msg, UserWarning)\n",
      "/opt/homebrew/Caskroom/miniconda/base/envs/ML_WD/lib/python3.10/site-packages/sklearn/metrics/cluster/_supervised.py:58: UserWarning: Clustering metrics expects discrete values but received continuous values for label, and continuous values for target\n",
      "  warnings.warn(msg, UserWarning)\n",
      "/opt/homebrew/Caskroom/miniconda/base/envs/ML_WD/lib/python3.10/site-packages/sklearn/metrics/cluster/_supervised.py:58: UserWarning: Clustering metrics expects discrete values but received continuous values for label, and continuous values for target\n",
      "  warnings.warn(msg, UserWarning)\n",
      "/opt/homebrew/Caskroom/miniconda/base/envs/ML_WD/lib/python3.10/site-packages/sklearn/metrics/cluster/_supervised.py:58: UserWarning: Clustering metrics expects discrete values but received continuous values for label, and continuous values for target\n",
      "  warnings.warn(msg, UserWarning)\n",
      "/opt/homebrew/Caskroom/miniconda/base/envs/ML_WD/lib/python3.10/site-packages/sklearn/metrics/cluster/_supervised.py:58: UserWarning: Clustering metrics expects discrete values but received continuous values for label, and continuous values for target\n",
      "  warnings.warn(msg, UserWarning)\n",
      "/opt/homebrew/Caskroom/miniconda/base/envs/ML_WD/lib/python3.10/site-packages/sklearn/metrics/cluster/_supervised.py:58: UserWarning: Clustering metrics expects discrete values but received continuous values for label, and continuous values for target\n",
      "  warnings.warn(msg, UserWarning)\n",
      "/opt/homebrew/Caskroom/miniconda/base/envs/ML_WD/lib/python3.10/site-packages/sklearn/metrics/cluster/_supervised.py:58: UserWarning: Clustering metrics expects discrete values but received continuous values for label, and continuous values for target\n",
      "  warnings.warn(msg, UserWarning)\n",
      "/opt/homebrew/Caskroom/miniconda/base/envs/ML_WD/lib/python3.10/site-packages/sklearn/metrics/cluster/_supervised.py:58: UserWarning: Clustering metrics expects discrete values but received continuous values for label, and continuous values for target\n",
      "  warnings.warn(msg, UserWarning)\n",
      "/opt/homebrew/Caskroom/miniconda/base/envs/ML_WD/lib/python3.10/site-packages/sklearn/metrics/cluster/_supervised.py:58: UserWarning: Clustering metrics expects discrete values but received continuous values for label, and continuous values for target\n",
      "  warnings.warn(msg, UserWarning)\n",
      "/opt/homebrew/Caskroom/miniconda/base/envs/ML_WD/lib/python3.10/site-packages/sklearn/metrics/cluster/_supervised.py:58: UserWarning: Clustering metrics expects discrete values but received continuous values for label, and continuous values for target\n",
      "  warnings.warn(msg, UserWarning)\n",
      "/opt/homebrew/Caskroom/miniconda/base/envs/ML_WD/lib/python3.10/site-packages/sklearn/metrics/cluster/_supervised.py:58: UserWarning: Clustering metrics expects discrete values but received continuous values for label, and continuous values for target\n",
      "  warnings.warn(msg, UserWarning)\n",
      "/opt/homebrew/Caskroom/miniconda/base/envs/ML_WD/lib/python3.10/site-packages/sklearn/metrics/cluster/_supervised.py:58: UserWarning: Clustering metrics expects discrete values but received continuous values for label, and continuous values for target\n",
      "  warnings.warn(msg, UserWarning)\n",
      "/opt/homebrew/Caskroom/miniconda/base/envs/ML_WD/lib/python3.10/site-packages/sklearn/metrics/cluster/_supervised.py:58: UserWarning: Clustering metrics expects discrete values but received continuous values for label, and continuous values for target\n",
      "  warnings.warn(msg, UserWarning)\n",
      "/opt/homebrew/Caskroom/miniconda/base/envs/ML_WD/lib/python3.10/site-packages/sklearn/metrics/cluster/_supervised.py:58: UserWarning: Clustering metrics expects discrete values but received continuous values for label, and continuous values for target\n",
      "  warnings.warn(msg, UserWarning)\n",
      "/opt/homebrew/Caskroom/miniconda/base/envs/ML_WD/lib/python3.10/site-packages/sklearn/metrics/cluster/_supervised.py:58: UserWarning: Clustering metrics expects discrete values but received continuous values for label, and continuous values for target\n",
      "  warnings.warn(msg, UserWarning)\n",
      "/opt/homebrew/Caskroom/miniconda/base/envs/ML_WD/lib/python3.10/site-packages/sklearn/metrics/cluster/_supervised.py:58: UserWarning: Clustering metrics expects discrete values but received continuous values for label, and continuous values for target\n",
      "  warnings.warn(msg, UserWarning)\n",
      "/opt/homebrew/Caskroom/miniconda/base/envs/ML_WD/lib/python3.10/site-packages/sklearn/metrics/cluster/_supervised.py:58: UserWarning: Clustering metrics expects discrete values but received continuous values for label, and continuous values for target\n",
      "  warnings.warn(msg, UserWarning)\n",
      "/opt/homebrew/Caskroom/miniconda/base/envs/ML_WD/lib/python3.10/site-packages/sklearn/metrics/cluster/_supervised.py:58: UserWarning: Clustering metrics expects discrete values but received continuous values for label, and continuous values for target\n",
      "  warnings.warn(msg, UserWarning)\n",
      "/opt/homebrew/Caskroom/miniconda/base/envs/ML_WD/lib/python3.10/site-packages/sklearn/metrics/cluster/_supervised.py:58: UserWarning: Clustering metrics expects discrete values but received continuous values for label, and continuous values for target\n",
      "  warnings.warn(msg, UserWarning)\n",
      "/opt/homebrew/Caskroom/miniconda/base/envs/ML_WD/lib/python3.10/site-packages/sklearn/metrics/cluster/_supervised.py:58: UserWarning: Clustering metrics expects discrete values but received continuous values for label, and continuous values for target\n",
      "  warnings.warn(msg, UserWarning)\n",
      "/opt/homebrew/Caskroom/miniconda/base/envs/ML_WD/lib/python3.10/site-packages/sklearn/metrics/cluster/_supervised.py:58: UserWarning: Clustering metrics expects discrete values but received continuous values for label, and continuous values for target\n",
      "  warnings.warn(msg, UserWarning)\n",
      "/opt/homebrew/Caskroom/miniconda/base/envs/ML_WD/lib/python3.10/site-packages/sklearn/metrics/cluster/_supervised.py:58: UserWarning: Clustering metrics expects discrete values but received continuous values for label, and continuous values for target\n",
      "  warnings.warn(msg, UserWarning)\n",
      "/opt/homebrew/Caskroom/miniconda/base/envs/ML_WD/lib/python3.10/site-packages/sklearn/metrics/cluster/_supervised.py:58: UserWarning: Clustering metrics expects discrete values but received continuous values for label, and continuous values for target\n",
      "  warnings.warn(msg, UserWarning)\n",
      "/opt/homebrew/Caskroom/miniconda/base/envs/ML_WD/lib/python3.10/site-packages/sklearn/metrics/cluster/_supervised.py:58: UserWarning: Clustering metrics expects discrete values but received continuous values for label, and continuous values for target\n",
      "  warnings.warn(msg, UserWarning)\n",
      "/opt/homebrew/Caskroom/miniconda/base/envs/ML_WD/lib/python3.10/site-packages/sklearn/metrics/cluster/_supervised.py:58: UserWarning: Clustering metrics expects discrete values but received continuous values for label, and continuous values for target\n",
      "  warnings.warn(msg, UserWarning)\n",
      "/opt/homebrew/Caskroom/miniconda/base/envs/ML_WD/lib/python3.10/site-packages/sklearn/metrics/cluster/_supervised.py:58: UserWarning: Clustering metrics expects discrete values but received continuous values for label, and continuous values for target\n",
      "  warnings.warn(msg, UserWarning)\n",
      "/opt/homebrew/Caskroom/miniconda/base/envs/ML_WD/lib/python3.10/site-packages/sklearn/metrics/cluster/_supervised.py:58: UserWarning: Clustering metrics expects discrete values but received continuous values for label, and continuous values for target\n",
      "  warnings.warn(msg, UserWarning)\n",
      "/opt/homebrew/Caskroom/miniconda/base/envs/ML_WD/lib/python3.10/site-packages/sklearn/metrics/cluster/_supervised.py:58: UserWarning: Clustering metrics expects discrete values but received continuous values for label, and continuous values for target\n",
      "  warnings.warn(msg, UserWarning)\n",
      "/opt/homebrew/Caskroom/miniconda/base/envs/ML_WD/lib/python3.10/site-packages/sklearn/metrics/cluster/_supervised.py:58: UserWarning: Clustering metrics expects discrete values but received continuous values for label, and continuous values for target\n",
      "  warnings.warn(msg, UserWarning)\n",
      "/opt/homebrew/Caskroom/miniconda/base/envs/ML_WD/lib/python3.10/site-packages/sklearn/metrics/cluster/_supervised.py:58: UserWarning: Clustering metrics expects discrete values but received continuous values for label, and continuous values for target\n",
      "  warnings.warn(msg, UserWarning)\n",
      "/opt/homebrew/Caskroom/miniconda/base/envs/ML_WD/lib/python3.10/site-packages/sklearn/metrics/cluster/_supervised.py:58: UserWarning: Clustering metrics expects discrete values but received continuous values for label, and continuous values for target\n",
      "  warnings.warn(msg, UserWarning)\n",
      "/opt/homebrew/Caskroom/miniconda/base/envs/ML_WD/lib/python3.10/site-packages/sklearn/metrics/cluster/_supervised.py:58: UserWarning: Clustering metrics expects discrete values but received continuous values for label, and continuous values for target\n",
      "  warnings.warn(msg, UserWarning)\n",
      "/opt/homebrew/Caskroom/miniconda/base/envs/ML_WD/lib/python3.10/site-packages/sklearn/metrics/cluster/_supervised.py:58: UserWarning: Clustering metrics expects discrete values but received continuous values for label, and continuous values for target\n",
      "  warnings.warn(msg, UserWarning)\n",
      "/opt/homebrew/Caskroom/miniconda/base/envs/ML_WD/lib/python3.10/site-packages/sklearn/metrics/cluster/_supervised.py:58: UserWarning: Clustering metrics expects discrete values but received continuous values for label, and continuous values for target\n",
      "  warnings.warn(msg, UserWarning)\n",
      "/opt/homebrew/Caskroom/miniconda/base/envs/ML_WD/lib/python3.10/site-packages/sklearn/metrics/cluster/_supervised.py:58: UserWarning: Clustering metrics expects discrete values but received continuous values for label, and continuous values for target\n",
      "  warnings.warn(msg, UserWarning)\n",
      "/opt/homebrew/Caskroom/miniconda/base/envs/ML_WD/lib/python3.10/site-packages/sklearn/metrics/cluster/_supervised.py:58: UserWarning: Clustering metrics expects discrete values but received continuous values for label, and continuous values for target\n",
      "  warnings.warn(msg, UserWarning)\n",
      "/opt/homebrew/Caskroom/miniconda/base/envs/ML_WD/lib/python3.10/site-packages/sklearn/metrics/cluster/_supervised.py:58: UserWarning: Clustering metrics expects discrete values but received continuous values for label, and continuous values for target\n",
      "  warnings.warn(msg, UserWarning)\n",
      "/opt/homebrew/Caskroom/miniconda/base/envs/ML_WD/lib/python3.10/site-packages/sklearn/metrics/cluster/_supervised.py:58: UserWarning: Clustering metrics expects discrete values but received continuous values for label, and continuous values for target\n",
      "  warnings.warn(msg, UserWarning)\n",
      "/opt/homebrew/Caskroom/miniconda/base/envs/ML_WD/lib/python3.10/site-packages/sklearn/metrics/cluster/_supervised.py:58: UserWarning: Clustering metrics expects discrete values but received continuous values for label, and continuous values for target\n",
      "  warnings.warn(msg, UserWarning)\n",
      "/opt/homebrew/Caskroom/miniconda/base/envs/ML_WD/lib/python3.10/site-packages/sklearn/metrics/cluster/_supervised.py:58: UserWarning: Clustering metrics expects discrete values but received continuous values for label, and continuous values for target\n",
      "  warnings.warn(msg, UserWarning)\n",
      "/opt/homebrew/Caskroom/miniconda/base/envs/ML_WD/lib/python3.10/site-packages/sklearn/metrics/cluster/_supervised.py:58: UserWarning: Clustering metrics expects discrete values but received continuous values for label, and continuous values for target\n",
      "  warnings.warn(msg, UserWarning)\n",
      "/opt/homebrew/Caskroom/miniconda/base/envs/ML_WD/lib/python3.10/site-packages/sklearn/metrics/cluster/_supervised.py:58: UserWarning: Clustering metrics expects discrete values but received continuous values for label, and continuous values for target\n",
      "  warnings.warn(msg, UserWarning)\n",
      "/opt/homebrew/Caskroom/miniconda/base/envs/ML_WD/lib/python3.10/site-packages/sklearn/metrics/cluster/_supervised.py:58: UserWarning: Clustering metrics expects discrete values but received continuous values for label, and continuous values for target\n",
      "  warnings.warn(msg, UserWarning)\n",
      "/opt/homebrew/Caskroom/miniconda/base/envs/ML_WD/lib/python3.10/site-packages/sklearn/metrics/cluster/_supervised.py:58: UserWarning: Clustering metrics expects discrete values but received continuous values for label, and continuous values for target\n",
      "  warnings.warn(msg, UserWarning)\n",
      "/opt/homebrew/Caskroom/miniconda/base/envs/ML_WD/lib/python3.10/site-packages/sklearn/metrics/cluster/_supervised.py:58: UserWarning: Clustering metrics expects discrete values but received continuous values for label, and continuous values for target\n",
      "  warnings.warn(msg, UserWarning)\n",
      "/opt/homebrew/Caskroom/miniconda/base/envs/ML_WD/lib/python3.10/site-packages/sklearn/metrics/cluster/_supervised.py:58: UserWarning: Clustering metrics expects discrete values but received continuous values for label, and continuous values for target\n",
      "  warnings.warn(msg, UserWarning)\n",
      "/opt/homebrew/Caskroom/miniconda/base/envs/ML_WD/lib/python3.10/site-packages/sklearn/metrics/cluster/_supervised.py:58: UserWarning: Clustering metrics expects discrete values but received continuous values for label, and continuous values for target\n",
      "  warnings.warn(msg, UserWarning)\n",
      "/opt/homebrew/Caskroom/miniconda/base/envs/ML_WD/lib/python3.10/site-packages/sklearn/metrics/cluster/_supervised.py:58: UserWarning: Clustering metrics expects discrete values but received continuous values for label, and continuous values for target\n",
      "  warnings.warn(msg, UserWarning)\n",
      "/opt/homebrew/Caskroom/miniconda/base/envs/ML_WD/lib/python3.10/site-packages/sklearn/metrics/cluster/_supervised.py:58: UserWarning: Clustering metrics expects discrete values but received continuous values for label, and continuous values for target\n",
      "  warnings.warn(msg, UserWarning)\n",
      "/opt/homebrew/Caskroom/miniconda/base/envs/ML_WD/lib/python3.10/site-packages/sklearn/metrics/cluster/_supervised.py:58: UserWarning: Clustering metrics expects discrete values but received continuous values for label, and continuous values for target\n",
      "  warnings.warn(msg, UserWarning)\n",
      "/opt/homebrew/Caskroom/miniconda/base/envs/ML_WD/lib/python3.10/site-packages/sklearn/metrics/cluster/_supervised.py:58: UserWarning: Clustering metrics expects discrete values but received continuous values for label, and continuous values for target\n",
      "  warnings.warn(msg, UserWarning)\n",
      "/opt/homebrew/Caskroom/miniconda/base/envs/ML_WD/lib/python3.10/site-packages/sklearn/metrics/cluster/_supervised.py:58: UserWarning: Clustering metrics expects discrete values but received continuous values for label, and continuous values for target\n",
      "  warnings.warn(msg, UserWarning)\n",
      "/opt/homebrew/Caskroom/miniconda/base/envs/ML_WD/lib/python3.10/site-packages/sklearn/metrics/cluster/_supervised.py:58: UserWarning: Clustering metrics expects discrete values but received continuous values for label, and binary values for target\n",
      "  warnings.warn(msg, UserWarning)\n",
      "/opt/homebrew/Caskroom/miniconda/base/envs/ML_WD/lib/python3.10/site-packages/sklearn/metrics/cluster/_supervised.py:58: UserWarning: Clustering metrics expects discrete values but received continuous values for label, and continuous values for target\n",
      "  warnings.warn(msg, UserWarning)\n",
      "/opt/homebrew/Caskroom/miniconda/base/envs/ML_WD/lib/python3.10/site-packages/sklearn/metrics/cluster/_supervised.py:58: UserWarning: Clustering metrics expects discrete values but received continuous values for label, and continuous values for target\n",
      "  warnings.warn(msg, UserWarning)\n",
      "/opt/homebrew/Caskroom/miniconda/base/envs/ML_WD/lib/python3.10/site-packages/sklearn/metrics/cluster/_supervised.py:58: UserWarning: Clustering metrics expects discrete values but received continuous values for label, and continuous values for target\n",
      "  warnings.warn(msg, UserWarning)\n",
      "/opt/homebrew/Caskroom/miniconda/base/envs/ML_WD/lib/python3.10/site-packages/sklearn/metrics/cluster/_supervised.py:58: UserWarning: Clustering metrics expects discrete values but received continuous values for label, and continuous values for target\n",
      "  warnings.warn(msg, UserWarning)\n",
      "/opt/homebrew/Caskroom/miniconda/base/envs/ML_WD/lib/python3.10/site-packages/sklearn/metrics/cluster/_supervised.py:58: UserWarning: Clustering metrics expects discrete values but received continuous values for label, and continuous values for target\n",
      "  warnings.warn(msg, UserWarning)\n",
      "/opt/homebrew/Caskroom/miniconda/base/envs/ML_WD/lib/python3.10/site-packages/sklearn/metrics/cluster/_supervised.py:58: UserWarning: Clustering metrics expects discrete values but received continuous values for label, and continuous values for target\n",
      "  warnings.warn(msg, UserWarning)\n",
      "/opt/homebrew/Caskroom/miniconda/base/envs/ML_WD/lib/python3.10/site-packages/sklearn/metrics/cluster/_supervised.py:58: UserWarning: Clustering metrics expects discrete values but received continuous values for label, and continuous values for target\n",
      "  warnings.warn(msg, UserWarning)\n",
      "/opt/homebrew/Caskroom/miniconda/base/envs/ML_WD/lib/python3.10/site-packages/sklearn/metrics/cluster/_supervised.py:58: UserWarning: Clustering metrics expects discrete values but received continuous values for label, and continuous values for target\n",
      "  warnings.warn(msg, UserWarning)\n",
      "/opt/homebrew/Caskroom/miniconda/base/envs/ML_WD/lib/python3.10/site-packages/sklearn/metrics/cluster/_supervised.py:58: UserWarning: Clustering metrics expects discrete values but received continuous values for label, and continuous values for target\n",
      "  warnings.warn(msg, UserWarning)\n",
      "/opt/homebrew/Caskroom/miniconda/base/envs/ML_WD/lib/python3.10/site-packages/sklearn/metrics/cluster/_supervised.py:58: UserWarning: Clustering metrics expects discrete values but received continuous values for label, and continuous values for target\n",
      "  warnings.warn(msg, UserWarning)\n",
      "/opt/homebrew/Caskroom/miniconda/base/envs/ML_WD/lib/python3.10/site-packages/sklearn/metrics/cluster/_supervised.py:58: UserWarning: Clustering metrics expects discrete values but received continuous values for label, and continuous values for target\n",
      "  warnings.warn(msg, UserWarning)\n",
      "/opt/homebrew/Caskroom/miniconda/base/envs/ML_WD/lib/python3.10/site-packages/sklearn/metrics/cluster/_supervised.py:58: UserWarning: Clustering metrics expects discrete values but received continuous values for label, and continuous values for target\n",
      "  warnings.warn(msg, UserWarning)\n",
      "/opt/homebrew/Caskroom/miniconda/base/envs/ML_WD/lib/python3.10/site-packages/sklearn/metrics/cluster/_supervised.py:58: UserWarning: Clustering metrics expects discrete values but received continuous values for label, and continuous values for target\n",
      "  warnings.warn(msg, UserWarning)\n",
      "/opt/homebrew/Caskroom/miniconda/base/envs/ML_WD/lib/python3.10/site-packages/sklearn/metrics/cluster/_supervised.py:58: UserWarning: Clustering metrics expects discrete values but received continuous values for label, and continuous values for target\n",
      "  warnings.warn(msg, UserWarning)\n",
      "/opt/homebrew/Caskroom/miniconda/base/envs/ML_WD/lib/python3.10/site-packages/sklearn/metrics/cluster/_supervised.py:58: UserWarning: Clustering metrics expects discrete values but received continuous values for label, and continuous values for target\n",
      "  warnings.warn(msg, UserWarning)\n",
      "/opt/homebrew/Caskroom/miniconda/base/envs/ML_WD/lib/python3.10/site-packages/sklearn/metrics/cluster/_supervised.py:58: UserWarning: Clustering metrics expects discrete values but received continuous values for label, and continuous values for target\n",
      "  warnings.warn(msg, UserWarning)\n",
      "/opt/homebrew/Caskroom/miniconda/base/envs/ML_WD/lib/python3.10/site-packages/sklearn/metrics/cluster/_supervised.py:58: UserWarning: Clustering metrics expects discrete values but received continuous values for label, and continuous values for target\n",
      "  warnings.warn(msg, UserWarning)\n",
      "/opt/homebrew/Caskroom/miniconda/base/envs/ML_WD/lib/python3.10/site-packages/sklearn/metrics/cluster/_supervised.py:58: UserWarning: Clustering metrics expects discrete values but received continuous values for label, and continuous values for target\n",
      "  warnings.warn(msg, UserWarning)\n",
      "/opt/homebrew/Caskroom/miniconda/base/envs/ML_WD/lib/python3.10/site-packages/sklearn/metrics/cluster/_supervised.py:58: UserWarning: Clustering metrics expects discrete values but received continuous values for label, and continuous values for target\n",
      "  warnings.warn(msg, UserWarning)\n",
      "/opt/homebrew/Caskroom/miniconda/base/envs/ML_WD/lib/python3.10/site-packages/sklearn/metrics/cluster/_supervised.py:58: UserWarning: Clustering metrics expects discrete values but received continuous values for label, and continuous values for target\n",
      "  warnings.warn(msg, UserWarning)\n",
      "/opt/homebrew/Caskroom/miniconda/base/envs/ML_WD/lib/python3.10/site-packages/sklearn/metrics/cluster/_supervised.py:58: UserWarning: Clustering metrics expects discrete values but received continuous values for label, and continuous values for target\n",
      "  warnings.warn(msg, UserWarning)\n",
      "/opt/homebrew/Caskroom/miniconda/base/envs/ML_WD/lib/python3.10/site-packages/sklearn/metrics/cluster/_supervised.py:58: UserWarning: Clustering metrics expects discrete values but received continuous values for label, and continuous values for target\n",
      "  warnings.warn(msg, UserWarning)\n",
      "/opt/homebrew/Caskroom/miniconda/base/envs/ML_WD/lib/python3.10/site-packages/sklearn/metrics/cluster/_supervised.py:58: UserWarning: Clustering metrics expects discrete values but received continuous values for label, and continuous values for target\n",
      "  warnings.warn(msg, UserWarning)\n",
      "/opt/homebrew/Caskroom/miniconda/base/envs/ML_WD/lib/python3.10/site-packages/sklearn/metrics/cluster/_supervised.py:58: UserWarning: Clustering metrics expects discrete values but received continuous values for label, and continuous values for target\n",
      "  warnings.warn(msg, UserWarning)\n",
      "/opt/homebrew/Caskroom/miniconda/base/envs/ML_WD/lib/python3.10/site-packages/sklearn/metrics/cluster/_supervised.py:58: UserWarning: Clustering metrics expects discrete values but received continuous values for label, and continuous values for target\n",
      "  warnings.warn(msg, UserWarning)\n",
      "/opt/homebrew/Caskroom/miniconda/base/envs/ML_WD/lib/python3.10/site-packages/sklearn/metrics/cluster/_supervised.py:58: UserWarning: Clustering metrics expects discrete values but received continuous values for label, and continuous values for target\n",
      "  warnings.warn(msg, UserWarning)\n",
      "/opt/homebrew/Caskroom/miniconda/base/envs/ML_WD/lib/python3.10/site-packages/sklearn/metrics/cluster/_supervised.py:58: UserWarning: Clustering metrics expects discrete values but received continuous values for label, and continuous values for target\n",
      "  warnings.warn(msg, UserWarning)\n",
      "/opt/homebrew/Caskroom/miniconda/base/envs/ML_WD/lib/python3.10/site-packages/sklearn/metrics/cluster/_supervised.py:58: UserWarning: Clustering metrics expects discrete values but received continuous values for label, and continuous values for target\n",
      "  warnings.warn(msg, UserWarning)\n",
      "/opt/homebrew/Caskroom/miniconda/base/envs/ML_WD/lib/python3.10/site-packages/sklearn/metrics/cluster/_supervised.py:58: UserWarning: Clustering metrics expects discrete values but received continuous values for label, and continuous values for target\n",
      "  warnings.warn(msg, UserWarning)\n",
      "/opt/homebrew/Caskroom/miniconda/base/envs/ML_WD/lib/python3.10/site-packages/sklearn/metrics/cluster/_supervised.py:58: UserWarning: Clustering metrics expects discrete values but received continuous values for label, and continuous values for target\n",
      "  warnings.warn(msg, UserWarning)\n",
      "/opt/homebrew/Caskroom/miniconda/base/envs/ML_WD/lib/python3.10/site-packages/sklearn/metrics/cluster/_supervised.py:58: UserWarning: Clustering metrics expects discrete values but received continuous values for label, and continuous values for target\n",
      "  warnings.warn(msg, UserWarning)\n",
      "/opt/homebrew/Caskroom/miniconda/base/envs/ML_WD/lib/python3.10/site-packages/sklearn/metrics/cluster/_supervised.py:58: UserWarning: Clustering metrics expects discrete values but received continuous values for label, and continuous values for target\n",
      "  warnings.warn(msg, UserWarning)\n",
      "/opt/homebrew/Caskroom/miniconda/base/envs/ML_WD/lib/python3.10/site-packages/sklearn/metrics/cluster/_supervised.py:58: UserWarning: Clustering metrics expects discrete values but received continuous values for label, and continuous values for target\n",
      "  warnings.warn(msg, UserWarning)\n",
      "/opt/homebrew/Caskroom/miniconda/base/envs/ML_WD/lib/python3.10/site-packages/sklearn/metrics/cluster/_supervised.py:58: UserWarning: Clustering metrics expects discrete values but received continuous values for label, and continuous values for target\n",
      "  warnings.warn(msg, UserWarning)\n",
      "/opt/homebrew/Caskroom/miniconda/base/envs/ML_WD/lib/python3.10/site-packages/sklearn/metrics/cluster/_supervised.py:58: UserWarning: Clustering metrics expects discrete values but received continuous values for label, and continuous values for target\n",
      "  warnings.warn(msg, UserWarning)\n",
      "/opt/homebrew/Caskroom/miniconda/base/envs/ML_WD/lib/python3.10/site-packages/sklearn/metrics/cluster/_supervised.py:58: UserWarning: Clustering metrics expects discrete values but received continuous values for label, and continuous values for target\n",
      "  warnings.warn(msg, UserWarning)\n",
      "/opt/homebrew/Caskroom/miniconda/base/envs/ML_WD/lib/python3.10/site-packages/sklearn/metrics/cluster/_supervised.py:58: UserWarning: Clustering metrics expects discrete values but received continuous values for label, and continuous values for target\n",
      "  warnings.warn(msg, UserWarning)\n",
      "/opt/homebrew/Caskroom/miniconda/base/envs/ML_WD/lib/python3.10/site-packages/sklearn/metrics/cluster/_supervised.py:58: UserWarning: Clustering metrics expects discrete values but received continuous values for label, and continuous values for target\n",
      "  warnings.warn(msg, UserWarning)\n",
      "/opt/homebrew/Caskroom/miniconda/base/envs/ML_WD/lib/python3.10/site-packages/sklearn/metrics/cluster/_supervised.py:58: UserWarning: Clustering metrics expects discrete values but received continuous values for label, and continuous values for target\n",
      "  warnings.warn(msg, UserWarning)\n",
      "/opt/homebrew/Caskroom/miniconda/base/envs/ML_WD/lib/python3.10/site-packages/sklearn/metrics/cluster/_supervised.py:58: UserWarning: Clustering metrics expects discrete values but received continuous values for label, and continuous values for target\n",
      "  warnings.warn(msg, UserWarning)\n",
      "/opt/homebrew/Caskroom/miniconda/base/envs/ML_WD/lib/python3.10/site-packages/sklearn/metrics/cluster/_supervised.py:58: UserWarning: Clustering metrics expects discrete values but received continuous values for label, and continuous values for target\n",
      "  warnings.warn(msg, UserWarning)\n",
      "/opt/homebrew/Caskroom/miniconda/base/envs/ML_WD/lib/python3.10/site-packages/sklearn/metrics/cluster/_supervised.py:58: UserWarning: Clustering metrics expects discrete values but received continuous values for label, and continuous values for target\n",
      "  warnings.warn(msg, UserWarning)\n",
      "/opt/homebrew/Caskroom/miniconda/base/envs/ML_WD/lib/python3.10/site-packages/sklearn/metrics/cluster/_supervised.py:58: UserWarning: Clustering metrics expects discrete values but received continuous values for label, and continuous values for target\n",
      "  warnings.warn(msg, UserWarning)\n",
      "/opt/homebrew/Caskroom/miniconda/base/envs/ML_WD/lib/python3.10/site-packages/sklearn/metrics/cluster/_supervised.py:58: UserWarning: Clustering metrics expects discrete values but received continuous values for label, and continuous values for target\n",
      "  warnings.warn(msg, UserWarning)\n",
      "/opt/homebrew/Caskroom/miniconda/base/envs/ML_WD/lib/python3.10/site-packages/sklearn/metrics/cluster/_supervised.py:58: UserWarning: Clustering metrics expects discrete values but received continuous values for label, and continuous values for target\n",
      "  warnings.warn(msg, UserWarning)\n",
      "/opt/homebrew/Caskroom/miniconda/base/envs/ML_WD/lib/python3.10/site-packages/sklearn/metrics/cluster/_supervised.py:58: UserWarning: Clustering metrics expects discrete values but received continuous values for label, and continuous values for target\n",
      "  warnings.warn(msg, UserWarning)\n",
      "/opt/homebrew/Caskroom/miniconda/base/envs/ML_WD/lib/python3.10/site-packages/sklearn/metrics/cluster/_supervised.py:58: UserWarning: Clustering metrics expects discrete values but received continuous values for label, and continuous values for target\n",
      "  warnings.warn(msg, UserWarning)\n",
      "/opt/homebrew/Caskroom/miniconda/base/envs/ML_WD/lib/python3.10/site-packages/sklearn/metrics/cluster/_supervised.py:58: UserWarning: Clustering metrics expects discrete values but received continuous values for label, and binary values for target\n",
      "  warnings.warn(msg, UserWarning)\n",
      "/opt/homebrew/Caskroom/miniconda/base/envs/ML_WD/lib/python3.10/site-packages/sklearn/metrics/cluster/_supervised.py:58: UserWarning: Clustering metrics expects discrete values but received continuous values for label, and binary values for target\n",
      "  warnings.warn(msg, UserWarning)\n",
      "/opt/homebrew/Caskroom/miniconda/base/envs/ML_WD/lib/python3.10/site-packages/sklearn/metrics/cluster/_supervised.py:58: UserWarning: Clustering metrics expects discrete values but received continuous values for label, and binary values for target\n",
      "  warnings.warn(msg, UserWarning)\n",
      "/opt/homebrew/Caskroom/miniconda/base/envs/ML_WD/lib/python3.10/site-packages/sklearn/metrics/cluster/_supervised.py:58: UserWarning: Clustering metrics expects discrete values but received continuous values for label, and continuous values for target\n",
      "  warnings.warn(msg, UserWarning)\n",
      "/opt/homebrew/Caskroom/miniconda/base/envs/ML_WD/lib/python3.10/site-packages/sklearn/metrics/cluster/_supervised.py:58: UserWarning: Clustering metrics expects discrete values but received continuous values for label, and binary values for target\n",
      "  warnings.warn(msg, UserWarning)\n",
      "/opt/homebrew/Caskroom/miniconda/base/envs/ML_WD/lib/python3.10/site-packages/sklearn/metrics/cluster/_supervised.py:58: UserWarning: Clustering metrics expects discrete values but received continuous values for label, and continuous values for target\n",
      "  warnings.warn(msg, UserWarning)\n",
      "/opt/homebrew/Caskroom/miniconda/base/envs/ML_WD/lib/python3.10/site-packages/sklearn/metrics/cluster/_supervised.py:58: UserWarning: Clustering metrics expects discrete values but received continuous values for label, and continuous values for target\n",
      "  warnings.warn(msg, UserWarning)\n",
      "/opt/homebrew/Caskroom/miniconda/base/envs/ML_WD/lib/python3.10/site-packages/sklearn/metrics/cluster/_supervised.py:58: UserWarning: Clustering metrics expects discrete values but received continuous values for label, and binary values for target\n",
      "  warnings.warn(msg, UserWarning)\n",
      "/opt/homebrew/Caskroom/miniconda/base/envs/ML_WD/lib/python3.10/site-packages/sklearn/metrics/cluster/_supervised.py:58: UserWarning: Clustering metrics expects discrete values but received continuous values for label, and continuous values for target\n",
      "  warnings.warn(msg, UserWarning)\n",
      "/opt/homebrew/Caskroom/miniconda/base/envs/ML_WD/lib/python3.10/site-packages/sklearn/metrics/cluster/_supervised.py:58: UserWarning: Clustering metrics expects discrete values but received continuous values for label, and binary values for target\n",
      "  warnings.warn(msg, UserWarning)\n",
      "/opt/homebrew/Caskroom/miniconda/base/envs/ML_WD/lib/python3.10/site-packages/sklearn/metrics/cluster/_supervised.py:58: UserWarning: Clustering metrics expects discrete values but received continuous values for label, and continuous values for target\n",
      "  warnings.warn(msg, UserWarning)\n",
      "/opt/homebrew/Caskroom/miniconda/base/envs/ML_WD/lib/python3.10/site-packages/sklearn/metrics/cluster/_supervised.py:58: UserWarning: Clustering metrics expects discrete values but received continuous values for label, and continuous values for target\n",
      "  warnings.warn(msg, UserWarning)\n",
      "/opt/homebrew/Caskroom/miniconda/base/envs/ML_WD/lib/python3.10/site-packages/sklearn/metrics/cluster/_supervised.py:58: UserWarning: Clustering metrics expects discrete values but received continuous values for label, and continuous values for target\n",
      "  warnings.warn(msg, UserWarning)\n",
      "/opt/homebrew/Caskroom/miniconda/base/envs/ML_WD/lib/python3.10/site-packages/sklearn/metrics/cluster/_supervised.py:58: UserWarning: Clustering metrics expects discrete values but received continuous values for label, and continuous values for target\n",
      "  warnings.warn(msg, UserWarning)\n",
      "/opt/homebrew/Caskroom/miniconda/base/envs/ML_WD/lib/python3.10/site-packages/sklearn/metrics/cluster/_supervised.py:58: UserWarning: Clustering metrics expects discrete values but received continuous values for label, and continuous values for target\n",
      "  warnings.warn(msg, UserWarning)\n",
      "/opt/homebrew/Caskroom/miniconda/base/envs/ML_WD/lib/python3.10/site-packages/sklearn/metrics/cluster/_supervised.py:58: UserWarning: Clustering metrics expects discrete values but received continuous values for label, and continuous values for target\n",
      "  warnings.warn(msg, UserWarning)\n",
      "/opt/homebrew/Caskroom/miniconda/base/envs/ML_WD/lib/python3.10/site-packages/sklearn/metrics/cluster/_supervised.py:58: UserWarning: Clustering metrics expects discrete values but received continuous values for label, and continuous values for target\n",
      "  warnings.warn(msg, UserWarning)\n",
      "/opt/homebrew/Caskroom/miniconda/base/envs/ML_WD/lib/python3.10/site-packages/sklearn/metrics/cluster/_supervised.py:58: UserWarning: Clustering metrics expects discrete values but received continuous values for label, and continuous values for target\n",
      "  warnings.warn(msg, UserWarning)\n",
      "/opt/homebrew/Caskroom/miniconda/base/envs/ML_WD/lib/python3.10/site-packages/sklearn/metrics/cluster/_supervised.py:58: UserWarning: Clustering metrics expects discrete values but received continuous values for label, and continuous values for target\n",
      "  warnings.warn(msg, UserWarning)\n",
      "/opt/homebrew/Caskroom/miniconda/base/envs/ML_WD/lib/python3.10/site-packages/sklearn/metrics/cluster/_supervised.py:58: UserWarning: Clustering metrics expects discrete values but received continuous values for label, and continuous values for target\n",
      "  warnings.warn(msg, UserWarning)\n",
      "/opt/homebrew/Caskroom/miniconda/base/envs/ML_WD/lib/python3.10/site-packages/sklearn/metrics/cluster/_supervised.py:58: UserWarning: Clustering metrics expects discrete values but received continuous values for label, and continuous values for target\n",
      "  warnings.warn(msg, UserWarning)\n",
      "/opt/homebrew/Caskroom/miniconda/base/envs/ML_WD/lib/python3.10/site-packages/sklearn/metrics/cluster/_supervised.py:58: UserWarning: Clustering metrics expects discrete values but received continuous values for label, and continuous values for target\n",
      "  warnings.warn(msg, UserWarning)\n",
      "/opt/homebrew/Caskroom/miniconda/base/envs/ML_WD/lib/python3.10/site-packages/sklearn/metrics/cluster/_supervised.py:58: UserWarning: Clustering metrics expects discrete values but received continuous values for label, and continuous values for target\n",
      "  warnings.warn(msg, UserWarning)\n",
      "/opt/homebrew/Caskroom/miniconda/base/envs/ML_WD/lib/python3.10/site-packages/sklearn/metrics/cluster/_supervised.py:58: UserWarning: Clustering metrics expects discrete values but received continuous values for label, and continuous values for target\n",
      "  warnings.warn(msg, UserWarning)\n",
      "/opt/homebrew/Caskroom/miniconda/base/envs/ML_WD/lib/python3.10/site-packages/sklearn/metrics/cluster/_supervised.py:58: UserWarning: Clustering metrics expects discrete values but received continuous values for label, and continuous values for target\n",
      "  warnings.warn(msg, UserWarning)\n",
      "/opt/homebrew/Caskroom/miniconda/base/envs/ML_WD/lib/python3.10/site-packages/sklearn/metrics/cluster/_supervised.py:58: UserWarning: Clustering metrics expects discrete values but received continuous values for label, and continuous values for target\n",
      "  warnings.warn(msg, UserWarning)\n",
      "/opt/homebrew/Caskroom/miniconda/base/envs/ML_WD/lib/python3.10/site-packages/sklearn/metrics/cluster/_supervised.py:58: UserWarning: Clustering metrics expects discrete values but received continuous values for label, and continuous values for target\n",
      "  warnings.warn(msg, UserWarning)\n",
      "/opt/homebrew/Caskroom/miniconda/base/envs/ML_WD/lib/python3.10/site-packages/sklearn/metrics/cluster/_supervised.py:58: UserWarning: Clustering metrics expects discrete values but received continuous values for label, and continuous values for target\n",
      "  warnings.warn(msg, UserWarning)\n",
      "/opt/homebrew/Caskroom/miniconda/base/envs/ML_WD/lib/python3.10/site-packages/sklearn/metrics/cluster/_supervised.py:58: UserWarning: Clustering metrics expects discrete values but received continuous values for label, and continuous values for target\n",
      "  warnings.warn(msg, UserWarning)\n",
      "/opt/homebrew/Caskroom/miniconda/base/envs/ML_WD/lib/python3.10/site-packages/sklearn/metrics/cluster/_supervised.py:58: UserWarning: Clustering metrics expects discrete values but received continuous values for label, and continuous values for target\n",
      "  warnings.warn(msg, UserWarning)\n",
      "/opt/homebrew/Caskroom/miniconda/base/envs/ML_WD/lib/python3.10/site-packages/sklearn/metrics/cluster/_supervised.py:58: UserWarning: Clustering metrics expects discrete values but received continuous values for label, and continuous values for target\n",
      "  warnings.warn(msg, UserWarning)\n",
      "/opt/homebrew/Caskroom/miniconda/base/envs/ML_WD/lib/python3.10/site-packages/sklearn/metrics/cluster/_supervised.py:58: UserWarning: Clustering metrics expects discrete values but received continuous values for label, and continuous values for target\n",
      "  warnings.warn(msg, UserWarning)\n",
      "/opt/homebrew/Caskroom/miniconda/base/envs/ML_WD/lib/python3.10/site-packages/sklearn/metrics/cluster/_supervised.py:58: UserWarning: Clustering metrics expects discrete values but received continuous values for label, and continuous values for target\n",
      "  warnings.warn(msg, UserWarning)\n",
      "/opt/homebrew/Caskroom/miniconda/base/envs/ML_WD/lib/python3.10/site-packages/sklearn/metrics/cluster/_supervised.py:58: UserWarning: Clustering metrics expects discrete values but received continuous values for label, and continuous values for target\n",
      "  warnings.warn(msg, UserWarning)\n",
      "/opt/homebrew/Caskroom/miniconda/base/envs/ML_WD/lib/python3.10/site-packages/sklearn/metrics/cluster/_supervised.py:58: UserWarning: Clustering metrics expects discrete values but received continuous values for label, and continuous values for target\n",
      "  warnings.warn(msg, UserWarning)\n",
      "/opt/homebrew/Caskroom/miniconda/base/envs/ML_WD/lib/python3.10/site-packages/sklearn/metrics/cluster/_supervised.py:58: UserWarning: Clustering metrics expects discrete values but received continuous values for label, and continuous values for target\n",
      "  warnings.warn(msg, UserWarning)\n",
      "/opt/homebrew/Caskroom/miniconda/base/envs/ML_WD/lib/python3.10/site-packages/sklearn/metrics/cluster/_supervised.py:58: UserWarning: Clustering metrics expects discrete values but received continuous values for label, and continuous values for target\n",
      "  warnings.warn(msg, UserWarning)\n",
      "/opt/homebrew/Caskroom/miniconda/base/envs/ML_WD/lib/python3.10/site-packages/sklearn/metrics/cluster/_supervised.py:58: UserWarning: Clustering metrics expects discrete values but received continuous values for label, and continuous values for target\n",
      "  warnings.warn(msg, UserWarning)\n",
      "/opt/homebrew/Caskroom/miniconda/base/envs/ML_WD/lib/python3.10/site-packages/sklearn/metrics/cluster/_supervised.py:58: UserWarning: Clustering metrics expects discrete values but received continuous values for label, and continuous values for target\n",
      "  warnings.warn(msg, UserWarning)\n",
      "/opt/homebrew/Caskroom/miniconda/base/envs/ML_WD/lib/python3.10/site-packages/sklearn/metrics/cluster/_supervised.py:58: UserWarning: Clustering metrics expects discrete values but received continuous values for label, and continuous values for target\n",
      "  warnings.warn(msg, UserWarning)\n",
      "/opt/homebrew/Caskroom/miniconda/base/envs/ML_WD/lib/python3.10/site-packages/sklearn/metrics/cluster/_supervised.py:58: UserWarning: Clustering metrics expects discrete values but received continuous values for label, and continuous values for target\n",
      "  warnings.warn(msg, UserWarning)\n",
      "/opt/homebrew/Caskroom/miniconda/base/envs/ML_WD/lib/python3.10/site-packages/sklearn/metrics/cluster/_supervised.py:58: UserWarning: Clustering metrics expects discrete values but received continuous values for label, and continuous values for target\n",
      "  warnings.warn(msg, UserWarning)\n",
      "/opt/homebrew/Caskroom/miniconda/base/envs/ML_WD/lib/python3.10/site-packages/sklearn/metrics/cluster/_supervised.py:58: UserWarning: Clustering metrics expects discrete values but received continuous values for label, and continuous values for target\n",
      "  warnings.warn(msg, UserWarning)\n",
      "/opt/homebrew/Caskroom/miniconda/base/envs/ML_WD/lib/python3.10/site-packages/sklearn/metrics/cluster/_supervised.py:58: UserWarning: Clustering metrics expects discrete values but received continuous values for label, and continuous values for target\n",
      "  warnings.warn(msg, UserWarning)\n",
      "/opt/homebrew/Caskroom/miniconda/base/envs/ML_WD/lib/python3.10/site-packages/sklearn/metrics/cluster/_supervised.py:58: UserWarning: Clustering metrics expects discrete values but received continuous values for label, and continuous values for target\n",
      "  warnings.warn(msg, UserWarning)\n",
      "/opt/homebrew/Caskroom/miniconda/base/envs/ML_WD/lib/python3.10/site-packages/sklearn/metrics/cluster/_supervised.py:58: UserWarning: Clustering metrics expects discrete values but received continuous values for label, and continuous values for target\n",
      "  warnings.warn(msg, UserWarning)\n",
      "/opt/homebrew/Caskroom/miniconda/base/envs/ML_WD/lib/python3.10/site-packages/sklearn/metrics/cluster/_supervised.py:58: UserWarning: Clustering metrics expects discrete values but received continuous values for label, and continuous values for target\n",
      "  warnings.warn(msg, UserWarning)\n",
      "/opt/homebrew/Caskroom/miniconda/base/envs/ML_WD/lib/python3.10/site-packages/sklearn/metrics/cluster/_supervised.py:58: UserWarning: Clustering metrics expects discrete values but received continuous values for label, and continuous values for target\n",
      "  warnings.warn(msg, UserWarning)\n",
      "/opt/homebrew/Caskroom/miniconda/base/envs/ML_WD/lib/python3.10/site-packages/sklearn/metrics/cluster/_supervised.py:58: UserWarning: Clustering metrics expects discrete values but received continuous values for label, and continuous values for target\n",
      "  warnings.warn(msg, UserWarning)\n",
      "/opt/homebrew/Caskroom/miniconda/base/envs/ML_WD/lib/python3.10/site-packages/sklearn/metrics/cluster/_supervised.py:58: UserWarning: Clustering metrics expects discrete values but received continuous values for label, and continuous values for target\n",
      "  warnings.warn(msg, UserWarning)\n",
      "/opt/homebrew/Caskroom/miniconda/base/envs/ML_WD/lib/python3.10/site-packages/sklearn/metrics/cluster/_supervised.py:58: UserWarning: Clustering metrics expects discrete values but received continuous values for label, and continuous values for target\n",
      "  warnings.warn(msg, UserWarning)\n",
      "/opt/homebrew/Caskroom/miniconda/base/envs/ML_WD/lib/python3.10/site-packages/sklearn/metrics/cluster/_supervised.py:58: UserWarning: Clustering metrics expects discrete values but received continuous values for label, and continuous values for target\n",
      "  warnings.warn(msg, UserWarning)\n",
      "/opt/homebrew/Caskroom/miniconda/base/envs/ML_WD/lib/python3.10/site-packages/sklearn/metrics/cluster/_supervised.py:58: UserWarning: Clustering metrics expects discrete values but received continuous values for label, and continuous values for target\n",
      "  warnings.warn(msg, UserWarning)\n",
      "/opt/homebrew/Caskroom/miniconda/base/envs/ML_WD/lib/python3.10/site-packages/sklearn/metrics/cluster/_supervised.py:58: UserWarning: Clustering metrics expects discrete values but received continuous values for label, and continuous values for target\n",
      "  warnings.warn(msg, UserWarning)\n",
      "/opt/homebrew/Caskroom/miniconda/base/envs/ML_WD/lib/python3.10/site-packages/sklearn/metrics/cluster/_supervised.py:58: UserWarning: Clustering metrics expects discrete values but received continuous values for label, and continuous values for target\n",
      "  warnings.warn(msg, UserWarning)\n",
      "/opt/homebrew/Caskroom/miniconda/base/envs/ML_WD/lib/python3.10/site-packages/sklearn/metrics/cluster/_supervised.py:58: UserWarning: Clustering metrics expects discrete values but received continuous values for label, and continuous values for target\n",
      "  warnings.warn(msg, UserWarning)\n",
      "/opt/homebrew/Caskroom/miniconda/base/envs/ML_WD/lib/python3.10/site-packages/sklearn/metrics/cluster/_supervised.py:58: UserWarning: Clustering metrics expects discrete values but received continuous values for label, and continuous values for target\n",
      "  warnings.warn(msg, UserWarning)\n",
      "/opt/homebrew/Caskroom/miniconda/base/envs/ML_WD/lib/python3.10/site-packages/sklearn/metrics/cluster/_supervised.py:58: UserWarning: Clustering metrics expects discrete values but received continuous values for label, and continuous values for target\n",
      "  warnings.warn(msg, UserWarning)\n",
      "/opt/homebrew/Caskroom/miniconda/base/envs/ML_WD/lib/python3.10/site-packages/sklearn/metrics/cluster/_supervised.py:58: UserWarning: Clustering metrics expects discrete values but received continuous values for label, and continuous values for target\n",
      "  warnings.warn(msg, UserWarning)\n",
      "/opt/homebrew/Caskroom/miniconda/base/envs/ML_WD/lib/python3.10/site-packages/sklearn/metrics/cluster/_supervised.py:58: UserWarning: Clustering metrics expects discrete values but received continuous values for label, and continuous values for target\n",
      "  warnings.warn(msg, UserWarning)\n",
      "/opt/homebrew/Caskroom/miniconda/base/envs/ML_WD/lib/python3.10/site-packages/sklearn/metrics/cluster/_supervised.py:58: UserWarning: Clustering metrics expects discrete values but received continuous values for label, and continuous values for target\n",
      "  warnings.warn(msg, UserWarning)\n",
      "/opt/homebrew/Caskroom/miniconda/base/envs/ML_WD/lib/python3.10/site-packages/sklearn/metrics/cluster/_supervised.py:58: UserWarning: Clustering metrics expects discrete values but received continuous values for label, and continuous values for target\n",
      "  warnings.warn(msg, UserWarning)\n",
      "/opt/homebrew/Caskroom/miniconda/base/envs/ML_WD/lib/python3.10/site-packages/sklearn/metrics/cluster/_supervised.py:58: UserWarning: Clustering metrics expects discrete values but received continuous values for label, and continuous values for target\n",
      "  warnings.warn(msg, UserWarning)\n",
      "/opt/homebrew/Caskroom/miniconda/base/envs/ML_WD/lib/python3.10/site-packages/sklearn/metrics/cluster/_supervised.py:58: UserWarning: Clustering metrics expects discrete values but received continuous values for label, and continuous values for target\n",
      "  warnings.warn(msg, UserWarning)\n",
      "/opt/homebrew/Caskroom/miniconda/base/envs/ML_WD/lib/python3.10/site-packages/sklearn/metrics/cluster/_supervised.py:58: UserWarning: Clustering metrics expects discrete values but received continuous values for label, and continuous values for target\n",
      "  warnings.warn(msg, UserWarning)\n",
      "/opt/homebrew/Caskroom/miniconda/base/envs/ML_WD/lib/python3.10/site-packages/sklearn/metrics/cluster/_supervised.py:58: UserWarning: Clustering metrics expects discrete values but received continuous values for label, and continuous values for target\n",
      "  warnings.warn(msg, UserWarning)\n",
      "/opt/homebrew/Caskroom/miniconda/base/envs/ML_WD/lib/python3.10/site-packages/sklearn/metrics/cluster/_supervised.py:58: UserWarning: Clustering metrics expects discrete values but received continuous values for label, and continuous values for target\n",
      "  warnings.warn(msg, UserWarning)\n",
      "/opt/homebrew/Caskroom/miniconda/base/envs/ML_WD/lib/python3.10/site-packages/sklearn/metrics/cluster/_supervised.py:58: UserWarning: Clustering metrics expects discrete values but received continuous values for label, and continuous values for target\n",
      "  warnings.warn(msg, UserWarning)\n",
      "/opt/homebrew/Caskroom/miniconda/base/envs/ML_WD/lib/python3.10/site-packages/sklearn/metrics/cluster/_supervised.py:58: UserWarning: Clustering metrics expects discrete values but received continuous values for label, and continuous values for target\n",
      "  warnings.warn(msg, UserWarning)\n",
      "/opt/homebrew/Caskroom/miniconda/base/envs/ML_WD/lib/python3.10/site-packages/sklearn/metrics/cluster/_supervised.py:58: UserWarning: Clustering metrics expects discrete values but received continuous values for label, and continuous values for target\n",
      "  warnings.warn(msg, UserWarning)\n",
      "/opt/homebrew/Caskroom/miniconda/base/envs/ML_WD/lib/python3.10/site-packages/sklearn/metrics/cluster/_supervised.py:58: UserWarning: Clustering metrics expects discrete values but received continuous values for label, and continuous values for target\n",
      "  warnings.warn(msg, UserWarning)\n",
      "/opt/homebrew/Caskroom/miniconda/base/envs/ML_WD/lib/python3.10/site-packages/sklearn/metrics/cluster/_supervised.py:58: UserWarning: Clustering metrics expects discrete values but received continuous values for label, and continuous values for target\n",
      "  warnings.warn(msg, UserWarning)\n",
      "/opt/homebrew/Caskroom/miniconda/base/envs/ML_WD/lib/python3.10/site-packages/sklearn/metrics/cluster/_supervised.py:58: UserWarning: Clustering metrics expects discrete values but received continuous values for label, and continuous values for target\n",
      "  warnings.warn(msg, UserWarning)\n",
      "/opt/homebrew/Caskroom/miniconda/base/envs/ML_WD/lib/python3.10/site-packages/sklearn/metrics/cluster/_supervised.py:58: UserWarning: Clustering metrics expects discrete values but received continuous values for label, and continuous values for target\n",
      "  warnings.warn(msg, UserWarning)\n",
      "/opt/homebrew/Caskroom/miniconda/base/envs/ML_WD/lib/python3.10/site-packages/sklearn/metrics/cluster/_supervised.py:58: UserWarning: Clustering metrics expects discrete values but received continuous values for label, and continuous values for target\n",
      "  warnings.warn(msg, UserWarning)\n",
      "/opt/homebrew/Caskroom/miniconda/base/envs/ML_WD/lib/python3.10/site-packages/sklearn/metrics/cluster/_supervised.py:58: UserWarning: Clustering metrics expects discrete values but received continuous values for label, and continuous values for target\n",
      "  warnings.warn(msg, UserWarning)\n",
      "/opt/homebrew/Caskroom/miniconda/base/envs/ML_WD/lib/python3.10/site-packages/sklearn/metrics/cluster/_supervised.py:58: UserWarning: Clustering metrics expects discrete values but received continuous values for label, and continuous values for target\n",
      "  warnings.warn(msg, UserWarning)\n",
      "/opt/homebrew/Caskroom/miniconda/base/envs/ML_WD/lib/python3.10/site-packages/sklearn/metrics/cluster/_supervised.py:58: UserWarning: Clustering metrics expects discrete values but received continuous values for label, and continuous values for target\n",
      "  warnings.warn(msg, UserWarning)\n",
      "/opt/homebrew/Caskroom/miniconda/base/envs/ML_WD/lib/python3.10/site-packages/sklearn/metrics/cluster/_supervised.py:58: UserWarning: Clustering metrics expects discrete values but received continuous values for label, and continuous values for target\n",
      "  warnings.warn(msg, UserWarning)\n",
      "/opt/homebrew/Caskroom/miniconda/base/envs/ML_WD/lib/python3.10/site-packages/sklearn/metrics/cluster/_supervised.py:58: UserWarning: Clustering metrics expects discrete values but received continuous values for label, and continuous values for target\n",
      "  warnings.warn(msg, UserWarning)\n",
      "/opt/homebrew/Caskroom/miniconda/base/envs/ML_WD/lib/python3.10/site-packages/sklearn/metrics/cluster/_supervised.py:58: UserWarning: Clustering metrics expects discrete values but received continuous values for label, and continuous values for target\n",
      "  warnings.warn(msg, UserWarning)\n",
      "/opt/homebrew/Caskroom/miniconda/base/envs/ML_WD/lib/python3.10/site-packages/sklearn/metrics/cluster/_supervised.py:58: UserWarning: Clustering metrics expects discrete values but received continuous values for label, and continuous values for target\n",
      "  warnings.warn(msg, UserWarning)\n",
      "/opt/homebrew/Caskroom/miniconda/base/envs/ML_WD/lib/python3.10/site-packages/sklearn/metrics/cluster/_supervised.py:58: UserWarning: Clustering metrics expects discrete values but received continuous values for label, and continuous values for target\n",
      "  warnings.warn(msg, UserWarning)\n",
      "/opt/homebrew/Caskroom/miniconda/base/envs/ML_WD/lib/python3.10/site-packages/sklearn/metrics/cluster/_supervised.py:58: UserWarning: Clustering metrics expects discrete values but received continuous values for label, and continuous values for target\n",
      "  warnings.warn(msg, UserWarning)\n",
      "/opt/homebrew/Caskroom/miniconda/base/envs/ML_WD/lib/python3.10/site-packages/sklearn/metrics/cluster/_supervised.py:58: UserWarning: Clustering metrics expects discrete values but received continuous values for label, and continuous values for target\n",
      "  warnings.warn(msg, UserWarning)\n",
      "/opt/homebrew/Caskroom/miniconda/base/envs/ML_WD/lib/python3.10/site-packages/sklearn/metrics/cluster/_supervised.py:58: UserWarning: Clustering metrics expects discrete values but received continuous values for label, and continuous values for target\n",
      "  warnings.warn(msg, UserWarning)\n",
      "/opt/homebrew/Caskroom/miniconda/base/envs/ML_WD/lib/python3.10/site-packages/sklearn/metrics/cluster/_supervised.py:58: UserWarning: Clustering metrics expects discrete values but received continuous values for label, and continuous values for target\n",
      "  warnings.warn(msg, UserWarning)\n",
      "/opt/homebrew/Caskroom/miniconda/base/envs/ML_WD/lib/python3.10/site-packages/sklearn/metrics/cluster/_supervised.py:58: UserWarning: Clustering metrics expects discrete values but received continuous values for label, and continuous values for target\n",
      "  warnings.warn(msg, UserWarning)\n",
      "/opt/homebrew/Caskroom/miniconda/base/envs/ML_WD/lib/python3.10/site-packages/sklearn/metrics/cluster/_supervised.py:58: UserWarning: Clustering metrics expects discrete values but received continuous values for label, and continuous values for target\n",
      "  warnings.warn(msg, UserWarning)\n",
      "/opt/homebrew/Caskroom/miniconda/base/envs/ML_WD/lib/python3.10/site-packages/sklearn/metrics/cluster/_supervised.py:58: UserWarning: Clustering metrics expects discrete values but received continuous values for label, and continuous values for target\n",
      "  warnings.warn(msg, UserWarning)\n",
      "/opt/homebrew/Caskroom/miniconda/base/envs/ML_WD/lib/python3.10/site-packages/sklearn/metrics/cluster/_supervised.py:58: UserWarning: Clustering metrics expects discrete values but received continuous values for label, and continuous values for target\n",
      "  warnings.warn(msg, UserWarning)\n",
      "/opt/homebrew/Caskroom/miniconda/base/envs/ML_WD/lib/python3.10/site-packages/sklearn/metrics/cluster/_supervised.py:58: UserWarning: Clustering metrics expects discrete values but received continuous values for label, and continuous values for target\n",
      "  warnings.warn(msg, UserWarning)\n",
      "/opt/homebrew/Caskroom/miniconda/base/envs/ML_WD/lib/python3.10/site-packages/sklearn/metrics/cluster/_supervised.py:58: UserWarning: Clustering metrics expects discrete values but received continuous values for label, and continuous values for target\n",
      "  warnings.warn(msg, UserWarning)\n",
      "/opt/homebrew/Caskroom/miniconda/base/envs/ML_WD/lib/python3.10/site-packages/sklearn/metrics/cluster/_supervised.py:58: UserWarning: Clustering metrics expects discrete values but received continuous values for label, and continuous values for target\n",
      "  warnings.warn(msg, UserWarning)\n",
      "/opt/homebrew/Caskroom/miniconda/base/envs/ML_WD/lib/python3.10/site-packages/sklearn/metrics/cluster/_supervised.py:58: UserWarning: Clustering metrics expects discrete values but received continuous values for label, and continuous values for target\n",
      "  warnings.warn(msg, UserWarning)\n",
      "/opt/homebrew/Caskroom/miniconda/base/envs/ML_WD/lib/python3.10/site-packages/sklearn/metrics/cluster/_supervised.py:58: UserWarning: Clustering metrics expects discrete values but received continuous values for label, and continuous values for target\n",
      "  warnings.warn(msg, UserWarning)\n",
      "/opt/homebrew/Caskroom/miniconda/base/envs/ML_WD/lib/python3.10/site-packages/sklearn/metrics/cluster/_supervised.py:58: UserWarning: Clustering metrics expects discrete values but received continuous values for label, and continuous values for target\n",
      "  warnings.warn(msg, UserWarning)\n",
      "/opt/homebrew/Caskroom/miniconda/base/envs/ML_WD/lib/python3.10/site-packages/sklearn/metrics/cluster/_supervised.py:58: UserWarning: Clustering metrics expects discrete values but received continuous values for label, and continuous values for target\n",
      "  warnings.warn(msg, UserWarning)\n",
      "/opt/homebrew/Caskroom/miniconda/base/envs/ML_WD/lib/python3.10/site-packages/sklearn/metrics/cluster/_supervised.py:58: UserWarning: Clustering metrics expects discrete values but received continuous values for label, and continuous values for target\n",
      "  warnings.warn(msg, UserWarning)\n",
      "/opt/homebrew/Caskroom/miniconda/base/envs/ML_WD/lib/python3.10/site-packages/sklearn/metrics/cluster/_supervised.py:58: UserWarning: Clustering metrics expects discrete values but received continuous values for label, and continuous values for target\n",
      "  warnings.warn(msg, UserWarning)\n",
      "/opt/homebrew/Caskroom/miniconda/base/envs/ML_WD/lib/python3.10/site-packages/sklearn/metrics/cluster/_supervised.py:58: UserWarning: Clustering metrics expects discrete values but received continuous values for label, and continuous values for target\n",
      "  warnings.warn(msg, UserWarning)\n",
      "/opt/homebrew/Caskroom/miniconda/base/envs/ML_WD/lib/python3.10/site-packages/sklearn/metrics/cluster/_supervised.py:58: UserWarning: Clustering metrics expects discrete values but received continuous values for label, and continuous values for target\n",
      "  warnings.warn(msg, UserWarning)\n",
      "/opt/homebrew/Caskroom/miniconda/base/envs/ML_WD/lib/python3.10/site-packages/sklearn/metrics/cluster/_supervised.py:58: UserWarning: Clustering metrics expects discrete values but received continuous values for label, and continuous values for target\n",
      "  warnings.warn(msg, UserWarning)\n",
      "/opt/homebrew/Caskroom/miniconda/base/envs/ML_WD/lib/python3.10/site-packages/sklearn/metrics/cluster/_supervised.py:58: UserWarning: Clustering metrics expects discrete values but received continuous values for label, and continuous values for target\n",
      "  warnings.warn(msg, UserWarning)\n",
      "/opt/homebrew/Caskroom/miniconda/base/envs/ML_WD/lib/python3.10/site-packages/sklearn/metrics/cluster/_supervised.py:58: UserWarning: Clustering metrics expects discrete values but received continuous values for label, and continuous values for target\n",
      "  warnings.warn(msg, UserWarning)\n",
      "/opt/homebrew/Caskroom/miniconda/base/envs/ML_WD/lib/python3.10/site-packages/sklearn/metrics/cluster/_supervised.py:58: UserWarning: Clustering metrics expects discrete values but received continuous values for label, and continuous values for target\n",
      "  warnings.warn(msg, UserWarning)\n",
      "/opt/homebrew/Caskroom/miniconda/base/envs/ML_WD/lib/python3.10/site-packages/sklearn/metrics/cluster/_supervised.py:58: UserWarning: Clustering metrics expects discrete values but received continuous values for label, and continuous values for target\n",
      "  warnings.warn(msg, UserWarning)\n",
      "/opt/homebrew/Caskroom/miniconda/base/envs/ML_WD/lib/python3.10/site-packages/sklearn/metrics/cluster/_supervised.py:58: UserWarning: Clustering metrics expects discrete values but received continuous values for label, and continuous values for target\n",
      "  warnings.warn(msg, UserWarning)\n",
      "/opt/homebrew/Caskroom/miniconda/base/envs/ML_WD/lib/python3.10/site-packages/sklearn/metrics/cluster/_supervised.py:58: UserWarning: Clustering metrics expects discrete values but received continuous values for label, and continuous values for target\n",
      "  warnings.warn(msg, UserWarning)\n",
      "/opt/homebrew/Caskroom/miniconda/base/envs/ML_WD/lib/python3.10/site-packages/sklearn/metrics/cluster/_supervised.py:58: UserWarning: Clustering metrics expects discrete values but received continuous values for label, and continuous values for target\n",
      "  warnings.warn(msg, UserWarning)\n",
      "/opt/homebrew/Caskroom/miniconda/base/envs/ML_WD/lib/python3.10/site-packages/sklearn/metrics/cluster/_supervised.py:58: UserWarning: Clustering metrics expects discrete values but received continuous values for label, and continuous values for target\n",
      "  warnings.warn(msg, UserWarning)\n",
      "/opt/homebrew/Caskroom/miniconda/base/envs/ML_WD/lib/python3.10/site-packages/sklearn/metrics/cluster/_supervised.py:58: UserWarning: Clustering metrics expects discrete values but received continuous values for label, and continuous values for target\n",
      "  warnings.warn(msg, UserWarning)\n",
      "/opt/homebrew/Caskroom/miniconda/base/envs/ML_WD/lib/python3.10/site-packages/sklearn/metrics/cluster/_supervised.py:58: UserWarning: Clustering metrics expects discrete values but received continuous values for label, and continuous values for target\n",
      "  warnings.warn(msg, UserWarning)\n",
      "/opt/homebrew/Caskroom/miniconda/base/envs/ML_WD/lib/python3.10/site-packages/sklearn/metrics/cluster/_supervised.py:58: UserWarning: Clustering metrics expects discrete values but received continuous values for label, and continuous values for target\n",
      "  warnings.warn(msg, UserWarning)\n",
      "/opt/homebrew/Caskroom/miniconda/base/envs/ML_WD/lib/python3.10/site-packages/sklearn/metrics/cluster/_supervised.py:58: UserWarning: Clustering metrics expects discrete values but received continuous values for label, and continuous values for target\n",
      "  warnings.warn(msg, UserWarning)\n",
      "/opt/homebrew/Caskroom/miniconda/base/envs/ML_WD/lib/python3.10/site-packages/sklearn/metrics/cluster/_supervised.py:58: UserWarning: Clustering metrics expects discrete values but received continuous values for label, and continuous values for target\n",
      "  warnings.warn(msg, UserWarning)\n",
      "/opt/homebrew/Caskroom/miniconda/base/envs/ML_WD/lib/python3.10/site-packages/sklearn/metrics/cluster/_supervised.py:58: UserWarning: Clustering metrics expects discrete values but received continuous values for label, and continuous values for target\n",
      "  warnings.warn(msg, UserWarning)\n",
      "/opt/homebrew/Caskroom/miniconda/base/envs/ML_WD/lib/python3.10/site-packages/sklearn/metrics/cluster/_supervised.py:58: UserWarning: Clustering metrics expects discrete values but received continuous values for label, and continuous values for target\n",
      "  warnings.warn(msg, UserWarning)\n",
      "/opt/homebrew/Caskroom/miniconda/base/envs/ML_WD/lib/python3.10/site-packages/sklearn/metrics/cluster/_supervised.py:58: UserWarning: Clustering metrics expects discrete values but received continuous values for label, and continuous values for target\n",
      "  warnings.warn(msg, UserWarning)\n",
      "/opt/homebrew/Caskroom/miniconda/base/envs/ML_WD/lib/python3.10/site-packages/sklearn/metrics/cluster/_supervised.py:58: UserWarning: Clustering metrics expects discrete values but received continuous values for label, and continuous values for target\n",
      "  warnings.warn(msg, UserWarning)\n",
      "/opt/homebrew/Caskroom/miniconda/base/envs/ML_WD/lib/python3.10/site-packages/sklearn/metrics/cluster/_supervised.py:58: UserWarning: Clustering metrics expects discrete values but received continuous values for label, and continuous values for target\n",
      "  warnings.warn(msg, UserWarning)\n",
      "/opt/homebrew/Caskroom/miniconda/base/envs/ML_WD/lib/python3.10/site-packages/sklearn/metrics/cluster/_supervised.py:58: UserWarning: Clustering metrics expects discrete values but received continuous values for label, and continuous values for target\n",
      "  warnings.warn(msg, UserWarning)\n",
      "/opt/homebrew/Caskroom/miniconda/base/envs/ML_WD/lib/python3.10/site-packages/sklearn/metrics/cluster/_supervised.py:58: UserWarning: Clustering metrics expects discrete values but received continuous values for label, and continuous values for target\n",
      "  warnings.warn(msg, UserWarning)\n",
      "/opt/homebrew/Caskroom/miniconda/base/envs/ML_WD/lib/python3.10/site-packages/sklearn/metrics/cluster/_supervised.py:58: UserWarning: Clustering metrics expects discrete values but received continuous values for label, and continuous values for target\n",
      "  warnings.warn(msg, UserWarning)\n",
      "/opt/homebrew/Caskroom/miniconda/base/envs/ML_WD/lib/python3.10/site-packages/sklearn/metrics/cluster/_supervised.py:58: UserWarning: Clustering metrics expects discrete values but received continuous values for label, and continuous values for target\n",
      "  warnings.warn(msg, UserWarning)\n",
      "/opt/homebrew/Caskroom/miniconda/base/envs/ML_WD/lib/python3.10/site-packages/sklearn/metrics/cluster/_supervised.py:58: UserWarning: Clustering metrics expects discrete values but received continuous values for label, and continuous values for target\n",
      "  warnings.warn(msg, UserWarning)\n",
      "/opt/homebrew/Caskroom/miniconda/base/envs/ML_WD/lib/python3.10/site-packages/sklearn/metrics/cluster/_supervised.py:58: UserWarning: Clustering metrics expects discrete values but received continuous values for label, and continuous values for target\n",
      "  warnings.warn(msg, UserWarning)\n",
      "/opt/homebrew/Caskroom/miniconda/base/envs/ML_WD/lib/python3.10/site-packages/sklearn/metrics/cluster/_supervised.py:58: UserWarning: Clustering metrics expects discrete values but received continuous values for label, and continuous values for target\n",
      "  warnings.warn(msg, UserWarning)\n",
      "/opt/homebrew/Caskroom/miniconda/base/envs/ML_WD/lib/python3.10/site-packages/sklearn/metrics/cluster/_supervised.py:58: UserWarning: Clustering metrics expects discrete values but received continuous values for label, and continuous values for target\n",
      "  warnings.warn(msg, UserWarning)\n",
      "/opt/homebrew/Caskroom/miniconda/base/envs/ML_WD/lib/python3.10/site-packages/sklearn/metrics/cluster/_supervised.py:58: UserWarning: Clustering metrics expects discrete values but received continuous values for label, and continuous values for target\n",
      "  warnings.warn(msg, UserWarning)\n",
      "/opt/homebrew/Caskroom/miniconda/base/envs/ML_WD/lib/python3.10/site-packages/sklearn/metrics/cluster/_supervised.py:58: UserWarning: Clustering metrics expects discrete values but received continuous values for label, and continuous values for target\n",
      "  warnings.warn(msg, UserWarning)\n",
      "/opt/homebrew/Caskroom/miniconda/base/envs/ML_WD/lib/python3.10/site-packages/sklearn/metrics/cluster/_supervised.py:58: UserWarning: Clustering metrics expects discrete values but received continuous values for label, and continuous values for target\n",
      "  warnings.warn(msg, UserWarning)\n",
      "/opt/homebrew/Caskroom/miniconda/base/envs/ML_WD/lib/python3.10/site-packages/sklearn/metrics/cluster/_supervised.py:58: UserWarning: Clustering metrics expects discrete values but received continuous values for label, and continuous values for target\n",
      "  warnings.warn(msg, UserWarning)\n",
      "/opt/homebrew/Caskroom/miniconda/base/envs/ML_WD/lib/python3.10/site-packages/sklearn/metrics/cluster/_supervised.py:58: UserWarning: Clustering metrics expects discrete values but received continuous values for label, and continuous values for target\n",
      "  warnings.warn(msg, UserWarning)\n",
      "/opt/homebrew/Caskroom/miniconda/base/envs/ML_WD/lib/python3.10/site-packages/sklearn/metrics/cluster/_supervised.py:58: UserWarning: Clustering metrics expects discrete values but received continuous values for label, and continuous values for target\n",
      "  warnings.warn(msg, UserWarning)\n",
      "/opt/homebrew/Caskroom/miniconda/base/envs/ML_WD/lib/python3.10/site-packages/sklearn/metrics/cluster/_supervised.py:58: UserWarning: Clustering metrics expects discrete values but received continuous values for label, and continuous values for target\n",
      "  warnings.warn(msg, UserWarning)\n",
      "/opt/homebrew/Caskroom/miniconda/base/envs/ML_WD/lib/python3.10/site-packages/sklearn/metrics/cluster/_supervised.py:58: UserWarning: Clustering metrics expects discrete values but received continuous values for label, and continuous values for target\n",
      "  warnings.warn(msg, UserWarning)\n",
      "/opt/homebrew/Caskroom/miniconda/base/envs/ML_WD/lib/python3.10/site-packages/sklearn/metrics/cluster/_supervised.py:58: UserWarning: Clustering metrics expects discrete values but received continuous values for label, and continuous values for target\n",
      "  warnings.warn(msg, UserWarning)\n",
      "/opt/homebrew/Caskroom/miniconda/base/envs/ML_WD/lib/python3.10/site-packages/sklearn/metrics/cluster/_supervised.py:58: UserWarning: Clustering metrics expects discrete values but received continuous values for label, and continuous values for target\n",
      "  warnings.warn(msg, UserWarning)\n",
      "/opt/homebrew/Caskroom/miniconda/base/envs/ML_WD/lib/python3.10/site-packages/sklearn/metrics/cluster/_supervised.py:58: UserWarning: Clustering metrics expects discrete values but received continuous values for label, and binary values for target\n",
      "  warnings.warn(msg, UserWarning)\n",
      "/opt/homebrew/Caskroom/miniconda/base/envs/ML_WD/lib/python3.10/site-packages/sklearn/metrics/cluster/_supervised.py:58: UserWarning: Clustering metrics expects discrete values but received continuous values for label, and continuous values for target\n",
      "  warnings.warn(msg, UserWarning)\n",
      "/opt/homebrew/Caskroom/miniconda/base/envs/ML_WD/lib/python3.10/site-packages/sklearn/metrics/cluster/_supervised.py:58: UserWarning: Clustering metrics expects discrete values but received continuous values for label, and continuous values for target\n",
      "  warnings.warn(msg, UserWarning)\n",
      "/opt/homebrew/Caskroom/miniconda/base/envs/ML_WD/lib/python3.10/site-packages/sklearn/metrics/cluster/_supervised.py:58: UserWarning: Clustering metrics expects discrete values but received continuous values for label, and continuous values for target\n",
      "  warnings.warn(msg, UserWarning)\n",
      "/opt/homebrew/Caskroom/miniconda/base/envs/ML_WD/lib/python3.10/site-packages/sklearn/metrics/cluster/_supervised.py:58: UserWarning: Clustering metrics expects discrete values but received continuous values for label, and continuous values for target\n",
      "  warnings.warn(msg, UserWarning)\n",
      "/opt/homebrew/Caskroom/miniconda/base/envs/ML_WD/lib/python3.10/site-packages/sklearn/metrics/cluster/_supervised.py:58: UserWarning: Clustering metrics expects discrete values but received continuous values for label, and continuous values for target\n",
      "  warnings.warn(msg, UserWarning)\n",
      "/opt/homebrew/Caskroom/miniconda/base/envs/ML_WD/lib/python3.10/site-packages/sklearn/metrics/cluster/_supervised.py:58: UserWarning: Clustering metrics expects discrete values but received continuous values for label, and continuous values for target\n",
      "  warnings.warn(msg, UserWarning)\n",
      "/opt/homebrew/Caskroom/miniconda/base/envs/ML_WD/lib/python3.10/site-packages/sklearn/metrics/cluster/_supervised.py:58: UserWarning: Clustering metrics expects discrete values but received continuous values for label, and continuous values for target\n",
      "  warnings.warn(msg, UserWarning)\n",
      "/opt/homebrew/Caskroom/miniconda/base/envs/ML_WD/lib/python3.10/site-packages/sklearn/metrics/cluster/_supervised.py:58: UserWarning: Clustering metrics expects discrete values but received continuous values for label, and continuous values for target\n",
      "  warnings.warn(msg, UserWarning)\n",
      "/opt/homebrew/Caskroom/miniconda/base/envs/ML_WD/lib/python3.10/site-packages/sklearn/metrics/cluster/_supervised.py:58: UserWarning: Clustering metrics expects discrete values but received continuous values for label, and continuous values for target\n",
      "  warnings.warn(msg, UserWarning)\n",
      "/opt/homebrew/Caskroom/miniconda/base/envs/ML_WD/lib/python3.10/site-packages/sklearn/metrics/cluster/_supervised.py:58: UserWarning: Clustering metrics expects discrete values but received continuous values for label, and continuous values for target\n",
      "  warnings.warn(msg, UserWarning)\n",
      "/opt/homebrew/Caskroom/miniconda/base/envs/ML_WD/lib/python3.10/site-packages/sklearn/metrics/cluster/_supervised.py:58: UserWarning: Clustering metrics expects discrete values but received continuous values for label, and continuous values for target\n",
      "  warnings.warn(msg, UserWarning)\n",
      "/opt/homebrew/Caskroom/miniconda/base/envs/ML_WD/lib/python3.10/site-packages/sklearn/metrics/cluster/_supervised.py:58: UserWarning: Clustering metrics expects discrete values but received continuous values for label, and continuous values for target\n",
      "  warnings.warn(msg, UserWarning)\n",
      "/opt/homebrew/Caskroom/miniconda/base/envs/ML_WD/lib/python3.10/site-packages/sklearn/metrics/cluster/_supervised.py:58: UserWarning: Clustering metrics expects discrete values but received continuous values for label, and continuous values for target\n",
      "  warnings.warn(msg, UserWarning)\n",
      "/opt/homebrew/Caskroom/miniconda/base/envs/ML_WD/lib/python3.10/site-packages/sklearn/metrics/cluster/_supervised.py:58: UserWarning: Clustering metrics expects discrete values but received continuous values for label, and continuous values for target\n",
      "  warnings.warn(msg, UserWarning)\n",
      "/opt/homebrew/Caskroom/miniconda/base/envs/ML_WD/lib/python3.10/site-packages/sklearn/metrics/cluster/_supervised.py:58: UserWarning: Clustering metrics expects discrete values but received continuous values for label, and continuous values for target\n",
      "  warnings.warn(msg, UserWarning)\n",
      "/opt/homebrew/Caskroom/miniconda/base/envs/ML_WD/lib/python3.10/site-packages/sklearn/metrics/cluster/_supervised.py:58: UserWarning: Clustering metrics expects discrete values but received continuous values for label, and continuous values for target\n",
      "  warnings.warn(msg, UserWarning)\n",
      "/opt/homebrew/Caskroom/miniconda/base/envs/ML_WD/lib/python3.10/site-packages/sklearn/metrics/cluster/_supervised.py:58: UserWarning: Clustering metrics expects discrete values but received continuous values for label, and continuous values for target\n",
      "  warnings.warn(msg, UserWarning)\n",
      "/opt/homebrew/Caskroom/miniconda/base/envs/ML_WD/lib/python3.10/site-packages/sklearn/metrics/cluster/_supervised.py:58: UserWarning: Clustering metrics expects discrete values but received continuous values for label, and continuous values for target\n",
      "  warnings.warn(msg, UserWarning)\n",
      "/opt/homebrew/Caskroom/miniconda/base/envs/ML_WD/lib/python3.10/site-packages/sklearn/metrics/cluster/_supervised.py:58: UserWarning: Clustering metrics expects discrete values but received continuous values for label, and continuous values for target\n",
      "  warnings.warn(msg, UserWarning)\n",
      "/opt/homebrew/Caskroom/miniconda/base/envs/ML_WD/lib/python3.10/site-packages/sklearn/metrics/cluster/_supervised.py:58: UserWarning: Clustering metrics expects discrete values but received continuous values for label, and continuous values for target\n",
      "  warnings.warn(msg, UserWarning)\n",
      "/opt/homebrew/Caskroom/miniconda/base/envs/ML_WD/lib/python3.10/site-packages/sklearn/metrics/cluster/_supervised.py:58: UserWarning: Clustering metrics expects discrete values but received continuous values for label, and continuous values for target\n",
      "  warnings.warn(msg, UserWarning)\n",
      "/opt/homebrew/Caskroom/miniconda/base/envs/ML_WD/lib/python3.10/site-packages/sklearn/metrics/cluster/_supervised.py:58: UserWarning: Clustering metrics expects discrete values but received continuous values for label, and continuous values for target\n",
      "  warnings.warn(msg, UserWarning)\n",
      "/opt/homebrew/Caskroom/miniconda/base/envs/ML_WD/lib/python3.10/site-packages/sklearn/metrics/cluster/_supervised.py:58: UserWarning: Clustering metrics expects discrete values but received continuous values for label, and continuous values for target\n",
      "  warnings.warn(msg, UserWarning)\n",
      "/opt/homebrew/Caskroom/miniconda/base/envs/ML_WD/lib/python3.10/site-packages/sklearn/metrics/cluster/_supervised.py:58: UserWarning: Clustering metrics expects discrete values but received continuous values for label, and continuous values for target\n",
      "  warnings.warn(msg, UserWarning)\n",
      "/opt/homebrew/Caskroom/miniconda/base/envs/ML_WD/lib/python3.10/site-packages/sklearn/metrics/cluster/_supervised.py:58: UserWarning: Clustering metrics expects discrete values but received continuous values for label, and continuous values for target\n",
      "  warnings.warn(msg, UserWarning)\n",
      "/opt/homebrew/Caskroom/miniconda/base/envs/ML_WD/lib/python3.10/site-packages/sklearn/metrics/cluster/_supervised.py:58: UserWarning: Clustering metrics expects discrete values but received continuous values for label, and continuous values for target\n",
      "  warnings.warn(msg, UserWarning)\n",
      "/opt/homebrew/Caskroom/miniconda/base/envs/ML_WD/lib/python3.10/site-packages/sklearn/metrics/cluster/_supervised.py:58: UserWarning: Clustering metrics expects discrete values but received continuous values for label, and continuous values for target\n",
      "  warnings.warn(msg, UserWarning)\n",
      "/opt/homebrew/Caskroom/miniconda/base/envs/ML_WD/lib/python3.10/site-packages/sklearn/metrics/cluster/_supervised.py:58: UserWarning: Clustering metrics expects discrete values but received continuous values for label, and continuous values for target\n",
      "  warnings.warn(msg, UserWarning)\n",
      "/opt/homebrew/Caskroom/miniconda/base/envs/ML_WD/lib/python3.10/site-packages/sklearn/metrics/cluster/_supervised.py:58: UserWarning: Clustering metrics expects discrete values but received continuous values for label, and continuous values for target\n",
      "  warnings.warn(msg, UserWarning)\n",
      "/opt/homebrew/Caskroom/miniconda/base/envs/ML_WD/lib/python3.10/site-packages/sklearn/metrics/cluster/_supervised.py:58: UserWarning: Clustering metrics expects discrete values but received continuous values for label, and continuous values for target\n",
      "  warnings.warn(msg, UserWarning)\n",
      "/opt/homebrew/Caskroom/miniconda/base/envs/ML_WD/lib/python3.10/site-packages/sklearn/metrics/cluster/_supervised.py:58: UserWarning: Clustering metrics expects discrete values but received continuous values for label, and continuous values for target\n",
      "  warnings.warn(msg, UserWarning)\n",
      "/opt/homebrew/Caskroom/miniconda/base/envs/ML_WD/lib/python3.10/site-packages/sklearn/metrics/cluster/_supervised.py:58: UserWarning: Clustering metrics expects discrete values but received continuous values for label, and continuous values for target\n",
      "  warnings.warn(msg, UserWarning)\n",
      "/opt/homebrew/Caskroom/miniconda/base/envs/ML_WD/lib/python3.10/site-packages/sklearn/metrics/cluster/_supervised.py:58: UserWarning: Clustering metrics expects discrete values but received continuous values for label, and continuous values for target\n",
      "  warnings.warn(msg, UserWarning)\n",
      "/opt/homebrew/Caskroom/miniconda/base/envs/ML_WD/lib/python3.10/site-packages/sklearn/metrics/cluster/_supervised.py:58: UserWarning: Clustering metrics expects discrete values but received continuous values for label, and continuous values for target\n",
      "  warnings.warn(msg, UserWarning)\n",
      "/opt/homebrew/Caskroom/miniconda/base/envs/ML_WD/lib/python3.10/site-packages/sklearn/metrics/cluster/_supervised.py:58: UserWarning: Clustering metrics expects discrete values but received continuous values for label, and continuous values for target\n",
      "  warnings.warn(msg, UserWarning)\n",
      "/opt/homebrew/Caskroom/miniconda/base/envs/ML_WD/lib/python3.10/site-packages/sklearn/metrics/cluster/_supervised.py:58: UserWarning: Clustering metrics expects discrete values but received continuous values for label, and continuous values for target\n",
      "  warnings.warn(msg, UserWarning)\n",
      "/opt/homebrew/Caskroom/miniconda/base/envs/ML_WD/lib/python3.10/site-packages/sklearn/metrics/cluster/_supervised.py:58: UserWarning: Clustering metrics expects discrete values but received continuous values for label, and continuous values for target\n",
      "  warnings.warn(msg, UserWarning)\n",
      "/opt/homebrew/Caskroom/miniconda/base/envs/ML_WD/lib/python3.10/site-packages/sklearn/metrics/cluster/_supervised.py:58: UserWarning: Clustering metrics expects discrete values but received continuous values for label, and continuous values for target\n",
      "  warnings.warn(msg, UserWarning)\n",
      "/opt/homebrew/Caskroom/miniconda/base/envs/ML_WD/lib/python3.10/site-packages/sklearn/metrics/cluster/_supervised.py:58: UserWarning: Clustering metrics expects discrete values but received continuous values for label, and continuous values for target\n",
      "  warnings.warn(msg, UserWarning)\n",
      "/opt/homebrew/Caskroom/miniconda/base/envs/ML_WD/lib/python3.10/site-packages/sklearn/metrics/cluster/_supervised.py:58: UserWarning: Clustering metrics expects discrete values but received continuous values for label, and continuous values for target\n",
      "  warnings.warn(msg, UserWarning)\n",
      "/opt/homebrew/Caskroom/miniconda/base/envs/ML_WD/lib/python3.10/site-packages/sklearn/metrics/cluster/_supervised.py:58: UserWarning: Clustering metrics expects discrete values but received continuous values for label, and continuous values for target\n",
      "  warnings.warn(msg, UserWarning)\n",
      "/opt/homebrew/Caskroom/miniconda/base/envs/ML_WD/lib/python3.10/site-packages/sklearn/metrics/cluster/_supervised.py:58: UserWarning: Clustering metrics expects discrete values but received continuous values for label, and continuous values for target\n",
      "  warnings.warn(msg, UserWarning)\n",
      "/opt/homebrew/Caskroom/miniconda/base/envs/ML_WD/lib/python3.10/site-packages/sklearn/metrics/cluster/_supervised.py:58: UserWarning: Clustering metrics expects discrete values but received continuous values for label, and continuous values for target\n",
      "  warnings.warn(msg, UserWarning)\n",
      "/opt/homebrew/Caskroom/miniconda/base/envs/ML_WD/lib/python3.10/site-packages/sklearn/metrics/cluster/_supervised.py:58: UserWarning: Clustering metrics expects discrete values but received continuous values for label, and continuous values for target\n",
      "  warnings.warn(msg, UserWarning)\n",
      "/opt/homebrew/Caskroom/miniconda/base/envs/ML_WD/lib/python3.10/site-packages/sklearn/metrics/cluster/_supervised.py:58: UserWarning: Clustering metrics expects discrete values but received continuous values for label, and continuous values for target\n",
      "  warnings.warn(msg, UserWarning)\n",
      "/opt/homebrew/Caskroom/miniconda/base/envs/ML_WD/lib/python3.10/site-packages/sklearn/metrics/cluster/_supervised.py:58: UserWarning: Clustering metrics expects discrete values but received continuous values for label, and continuous values for target\n",
      "  warnings.warn(msg, UserWarning)\n",
      "/opt/homebrew/Caskroom/miniconda/base/envs/ML_WD/lib/python3.10/site-packages/sklearn/metrics/cluster/_supervised.py:58: UserWarning: Clustering metrics expects discrete values but received continuous values for label, and continuous values for target\n",
      "  warnings.warn(msg, UserWarning)\n",
      "/opt/homebrew/Caskroom/miniconda/base/envs/ML_WD/lib/python3.10/site-packages/sklearn/metrics/cluster/_supervised.py:58: UserWarning: Clustering metrics expects discrete values but received continuous values for label, and continuous values for target\n",
      "  warnings.warn(msg, UserWarning)\n",
      "/opt/homebrew/Caskroom/miniconda/base/envs/ML_WD/lib/python3.10/site-packages/sklearn/metrics/cluster/_supervised.py:58: UserWarning: Clustering metrics expects discrete values but received continuous values for label, and continuous values for target\n",
      "  warnings.warn(msg, UserWarning)\n",
      "/opt/homebrew/Caskroom/miniconda/base/envs/ML_WD/lib/python3.10/site-packages/sklearn/metrics/cluster/_supervised.py:58: UserWarning: Clustering metrics expects discrete values but received continuous values for label, and continuous values for target\n",
      "  warnings.warn(msg, UserWarning)\n",
      "/opt/homebrew/Caskroom/miniconda/base/envs/ML_WD/lib/python3.10/site-packages/sklearn/metrics/cluster/_supervised.py:58: UserWarning: Clustering metrics expects discrete values but received continuous values for label, and continuous values for target\n",
      "  warnings.warn(msg, UserWarning)\n",
      "/opt/homebrew/Caskroom/miniconda/base/envs/ML_WD/lib/python3.10/site-packages/sklearn/metrics/cluster/_supervised.py:58: UserWarning: Clustering metrics expects discrete values but received continuous values for label, and continuous values for target\n",
      "  warnings.warn(msg, UserWarning)\n",
      "/opt/homebrew/Caskroom/miniconda/base/envs/ML_WD/lib/python3.10/site-packages/sklearn/metrics/cluster/_supervised.py:58: UserWarning: Clustering metrics expects discrete values but received continuous values for label, and continuous values for target\n",
      "  warnings.warn(msg, UserWarning)\n",
      "/opt/homebrew/Caskroom/miniconda/base/envs/ML_WD/lib/python3.10/site-packages/sklearn/metrics/cluster/_supervised.py:58: UserWarning: Clustering metrics expects discrete values but received continuous values for label, and continuous values for target\n",
      "  warnings.warn(msg, UserWarning)\n",
      "/opt/homebrew/Caskroom/miniconda/base/envs/ML_WD/lib/python3.10/site-packages/sklearn/metrics/cluster/_supervised.py:58: UserWarning: Clustering metrics expects discrete values but received continuous values for label, and continuous values for target\n",
      "  warnings.warn(msg, UserWarning)\n",
      "/opt/homebrew/Caskroom/miniconda/base/envs/ML_WD/lib/python3.10/site-packages/sklearn/metrics/cluster/_supervised.py:58: UserWarning: Clustering metrics expects discrete values but received continuous values for label, and continuous values for target\n",
      "  warnings.warn(msg, UserWarning)\n",
      "/opt/homebrew/Caskroom/miniconda/base/envs/ML_WD/lib/python3.10/site-packages/sklearn/metrics/cluster/_supervised.py:58: UserWarning: Clustering metrics expects discrete values but received continuous values for label, and continuous values for target\n",
      "  warnings.warn(msg, UserWarning)\n",
      "/opt/homebrew/Caskroom/miniconda/base/envs/ML_WD/lib/python3.10/site-packages/sklearn/metrics/cluster/_supervised.py:58: UserWarning: Clustering metrics expects discrete values but received continuous values for label, and continuous values for target\n",
      "  warnings.warn(msg, UserWarning)\n",
      "/opt/homebrew/Caskroom/miniconda/base/envs/ML_WD/lib/python3.10/site-packages/sklearn/metrics/cluster/_supervised.py:58: UserWarning: Clustering metrics expects discrete values but received continuous values for label, and continuous values for target\n",
      "  warnings.warn(msg, UserWarning)\n",
      "/opt/homebrew/Caskroom/miniconda/base/envs/ML_WD/lib/python3.10/site-packages/sklearn/metrics/cluster/_supervised.py:58: UserWarning: Clustering metrics expects discrete values but received continuous values for label, and binary values for target\n",
      "  warnings.warn(msg, UserWarning)\n",
      "/opt/homebrew/Caskroom/miniconda/base/envs/ML_WD/lib/python3.10/site-packages/sklearn/metrics/cluster/_supervised.py:58: UserWarning: Clustering metrics expects discrete values but received continuous values for label, and continuous values for target\n",
      "  warnings.warn(msg, UserWarning)\n",
      "/opt/homebrew/Caskroom/miniconda/base/envs/ML_WD/lib/python3.10/site-packages/sklearn/metrics/cluster/_supervised.py:58: UserWarning: Clustering metrics expects discrete values but received continuous values for label, and continuous values for target\n",
      "  warnings.warn(msg, UserWarning)\n",
      "/opt/homebrew/Caskroom/miniconda/base/envs/ML_WD/lib/python3.10/site-packages/sklearn/metrics/cluster/_supervised.py:58: UserWarning: Clustering metrics expects discrete values but received continuous values for label, and continuous values for target\n",
      "  warnings.warn(msg, UserWarning)\n",
      "/opt/homebrew/Caskroom/miniconda/base/envs/ML_WD/lib/python3.10/site-packages/sklearn/metrics/cluster/_supervised.py:58: UserWarning: Clustering metrics expects discrete values but received continuous values for label, and continuous values for target\n",
      "  warnings.warn(msg, UserWarning)\n",
      "/opt/homebrew/Caskroom/miniconda/base/envs/ML_WD/lib/python3.10/site-packages/sklearn/metrics/cluster/_supervised.py:58: UserWarning: Clustering metrics expects discrete values but received continuous values for label, and continuous values for target\n",
      "  warnings.warn(msg, UserWarning)\n",
      "/opt/homebrew/Caskroom/miniconda/base/envs/ML_WD/lib/python3.10/site-packages/sklearn/metrics/cluster/_supervised.py:58: UserWarning: Clustering metrics expects discrete values but received continuous values for label, and continuous values for target\n",
      "  warnings.warn(msg, UserWarning)\n",
      "/opt/homebrew/Caskroom/miniconda/base/envs/ML_WD/lib/python3.10/site-packages/sklearn/metrics/cluster/_supervised.py:58: UserWarning: Clustering metrics expects discrete values but received continuous values for label, and continuous values for target\n",
      "  warnings.warn(msg, UserWarning)\n",
      "/opt/homebrew/Caskroom/miniconda/base/envs/ML_WD/lib/python3.10/site-packages/sklearn/metrics/cluster/_supervised.py:58: UserWarning: Clustering metrics expects discrete values but received continuous values for label, and continuous values for target\n",
      "  warnings.warn(msg, UserWarning)\n",
      "/opt/homebrew/Caskroom/miniconda/base/envs/ML_WD/lib/python3.10/site-packages/sklearn/metrics/cluster/_supervised.py:58: UserWarning: Clustering metrics expects discrete values but received continuous values for label, and continuous values for target\n",
      "  warnings.warn(msg, UserWarning)\n",
      "/opt/homebrew/Caskroom/miniconda/base/envs/ML_WD/lib/python3.10/site-packages/sklearn/metrics/cluster/_supervised.py:58: UserWarning: Clustering metrics expects discrete values but received continuous values for label, and continuous values for target\n",
      "  warnings.warn(msg, UserWarning)\n",
      "/opt/homebrew/Caskroom/miniconda/base/envs/ML_WD/lib/python3.10/site-packages/sklearn/metrics/cluster/_supervised.py:58: UserWarning: Clustering metrics expects discrete values but received continuous values for label, and continuous values for target\n",
      "  warnings.warn(msg, UserWarning)\n",
      "/opt/homebrew/Caskroom/miniconda/base/envs/ML_WD/lib/python3.10/site-packages/sklearn/metrics/cluster/_supervised.py:58: UserWarning: Clustering metrics expects discrete values but received continuous values for label, and continuous values for target\n",
      "  warnings.warn(msg, UserWarning)\n",
      "/opt/homebrew/Caskroom/miniconda/base/envs/ML_WD/lib/python3.10/site-packages/sklearn/metrics/cluster/_supervised.py:58: UserWarning: Clustering metrics expects discrete values but received continuous values for label, and continuous values for target\n",
      "  warnings.warn(msg, UserWarning)\n",
      "/opt/homebrew/Caskroom/miniconda/base/envs/ML_WD/lib/python3.10/site-packages/sklearn/metrics/cluster/_supervised.py:58: UserWarning: Clustering metrics expects discrete values but received continuous values for label, and continuous values for target\n",
      "  warnings.warn(msg, UserWarning)\n",
      "/opt/homebrew/Caskroom/miniconda/base/envs/ML_WD/lib/python3.10/site-packages/sklearn/metrics/cluster/_supervised.py:58: UserWarning: Clustering metrics expects discrete values but received continuous values for label, and continuous values for target\n",
      "  warnings.warn(msg, UserWarning)\n",
      "/opt/homebrew/Caskroom/miniconda/base/envs/ML_WD/lib/python3.10/site-packages/sklearn/metrics/cluster/_supervised.py:58: UserWarning: Clustering metrics expects discrete values but received continuous values for label, and continuous values for target\n",
      "  warnings.warn(msg, UserWarning)\n",
      "/opt/homebrew/Caskroom/miniconda/base/envs/ML_WD/lib/python3.10/site-packages/sklearn/metrics/cluster/_supervised.py:58: UserWarning: Clustering metrics expects discrete values but received continuous values for label, and continuous values for target\n",
      "  warnings.warn(msg, UserWarning)\n",
      "/opt/homebrew/Caskroom/miniconda/base/envs/ML_WD/lib/python3.10/site-packages/sklearn/metrics/cluster/_supervised.py:58: UserWarning: Clustering metrics expects discrete values but received continuous values for label, and continuous values for target\n",
      "  warnings.warn(msg, UserWarning)\n",
      "/opt/homebrew/Caskroom/miniconda/base/envs/ML_WD/lib/python3.10/site-packages/sklearn/metrics/cluster/_supervised.py:58: UserWarning: Clustering metrics expects discrete values but received continuous values for label, and continuous values for target\n",
      "  warnings.warn(msg, UserWarning)\n",
      "/opt/homebrew/Caskroom/miniconda/base/envs/ML_WD/lib/python3.10/site-packages/sklearn/metrics/cluster/_supervised.py:58: UserWarning: Clustering metrics expects discrete values but received continuous values for label, and continuous values for target\n",
      "  warnings.warn(msg, UserWarning)\n",
      "/opt/homebrew/Caskroom/miniconda/base/envs/ML_WD/lib/python3.10/site-packages/sklearn/metrics/cluster/_supervised.py:58: UserWarning: Clustering metrics expects discrete values but received continuous values for label, and continuous values for target\n",
      "  warnings.warn(msg, UserWarning)\n",
      "/opt/homebrew/Caskroom/miniconda/base/envs/ML_WD/lib/python3.10/site-packages/sklearn/metrics/cluster/_supervised.py:58: UserWarning: Clustering metrics expects discrete values but received continuous values for label, and continuous values for target\n",
      "  warnings.warn(msg, UserWarning)\n",
      "/opt/homebrew/Caskroom/miniconda/base/envs/ML_WD/lib/python3.10/site-packages/sklearn/metrics/cluster/_supervised.py:58: UserWarning: Clustering metrics expects discrete values but received continuous values for label, and continuous values for target\n",
      "  warnings.warn(msg, UserWarning)\n",
      "/opt/homebrew/Caskroom/miniconda/base/envs/ML_WD/lib/python3.10/site-packages/sklearn/metrics/cluster/_supervised.py:58: UserWarning: Clustering metrics expects discrete values but received continuous values for label, and continuous values for target\n",
      "  warnings.warn(msg, UserWarning)\n",
      "/opt/homebrew/Caskroom/miniconda/base/envs/ML_WD/lib/python3.10/site-packages/sklearn/metrics/cluster/_supervised.py:58: UserWarning: Clustering metrics expects discrete values but received continuous values for label, and continuous values for target\n",
      "  warnings.warn(msg, UserWarning)\n",
      "/opt/homebrew/Caskroom/miniconda/base/envs/ML_WD/lib/python3.10/site-packages/sklearn/metrics/cluster/_supervised.py:58: UserWarning: Clustering metrics expects discrete values but received continuous values for label, and continuous values for target\n",
      "  warnings.warn(msg, UserWarning)\n",
      "/opt/homebrew/Caskroom/miniconda/base/envs/ML_WD/lib/python3.10/site-packages/sklearn/metrics/cluster/_supervised.py:58: UserWarning: Clustering metrics expects discrete values but received continuous values for label, and continuous values for target\n",
      "  warnings.warn(msg, UserWarning)\n",
      "/opt/homebrew/Caskroom/miniconda/base/envs/ML_WD/lib/python3.10/site-packages/sklearn/metrics/cluster/_supervised.py:58: UserWarning: Clustering metrics expects discrete values but received continuous values for label, and continuous values for target\n",
      "  warnings.warn(msg, UserWarning)\n",
      "/opt/homebrew/Caskroom/miniconda/base/envs/ML_WD/lib/python3.10/site-packages/sklearn/metrics/cluster/_supervised.py:58: UserWarning: Clustering metrics expects discrete values but received continuous values for label, and continuous values for target\n",
      "  warnings.warn(msg, UserWarning)\n",
      "/opt/homebrew/Caskroom/miniconda/base/envs/ML_WD/lib/python3.10/site-packages/sklearn/metrics/cluster/_supervised.py:58: UserWarning: Clustering metrics expects discrete values but received continuous values for label, and continuous values for target\n",
      "  warnings.warn(msg, UserWarning)\n",
      "/opt/homebrew/Caskroom/miniconda/base/envs/ML_WD/lib/python3.10/site-packages/sklearn/metrics/cluster/_supervised.py:58: UserWarning: Clustering metrics expects discrete values but received continuous values for label, and continuous values for target\n",
      "  warnings.warn(msg, UserWarning)\n",
      "/opt/homebrew/Caskroom/miniconda/base/envs/ML_WD/lib/python3.10/site-packages/sklearn/metrics/cluster/_supervised.py:58: UserWarning: Clustering metrics expects discrete values but received continuous values for label, and continuous values for target\n",
      "  warnings.warn(msg, UserWarning)\n",
      "/opt/homebrew/Caskroom/miniconda/base/envs/ML_WD/lib/python3.10/site-packages/sklearn/metrics/cluster/_supervised.py:58: UserWarning: Clustering metrics expects discrete values but received continuous values for label, and continuous values for target\n",
      "  warnings.warn(msg, UserWarning)\n",
      "/opt/homebrew/Caskroom/miniconda/base/envs/ML_WD/lib/python3.10/site-packages/sklearn/metrics/cluster/_supervised.py:58: UserWarning: Clustering metrics expects discrete values but received continuous values for label, and continuous values for target\n",
      "  warnings.warn(msg, UserWarning)\n",
      "/opt/homebrew/Caskroom/miniconda/base/envs/ML_WD/lib/python3.10/site-packages/sklearn/metrics/cluster/_supervised.py:58: UserWarning: Clustering metrics expects discrete values but received continuous values for label, and continuous values for target\n",
      "  warnings.warn(msg, UserWarning)\n",
      "/opt/homebrew/Caskroom/miniconda/base/envs/ML_WD/lib/python3.10/site-packages/sklearn/metrics/cluster/_supervised.py:58: UserWarning: Clustering metrics expects discrete values but received continuous values for label, and continuous values for target\n",
      "  warnings.warn(msg, UserWarning)\n",
      "/opt/homebrew/Caskroom/miniconda/base/envs/ML_WD/lib/python3.10/site-packages/sklearn/metrics/cluster/_supervised.py:58: UserWarning: Clustering metrics expects discrete values but received continuous values for label, and continuous values for target\n",
      "  warnings.warn(msg, UserWarning)\n",
      "/opt/homebrew/Caskroom/miniconda/base/envs/ML_WD/lib/python3.10/site-packages/sklearn/metrics/cluster/_supervised.py:58: UserWarning: Clustering metrics expects discrete values but received continuous values for label, and continuous values for target\n",
      "  warnings.warn(msg, UserWarning)\n",
      "/opt/homebrew/Caskroom/miniconda/base/envs/ML_WD/lib/python3.10/site-packages/sklearn/metrics/cluster/_supervised.py:58: UserWarning: Clustering metrics expects discrete values but received continuous values for label, and continuous values for target\n",
      "  warnings.warn(msg, UserWarning)\n",
      "/opt/homebrew/Caskroom/miniconda/base/envs/ML_WD/lib/python3.10/site-packages/sklearn/metrics/cluster/_supervised.py:58: UserWarning: Clustering metrics expects discrete values but received continuous values for label, and continuous values for target\n",
      "  warnings.warn(msg, UserWarning)\n",
      "/opt/homebrew/Caskroom/miniconda/base/envs/ML_WD/lib/python3.10/site-packages/sklearn/metrics/cluster/_supervised.py:58: UserWarning: Clustering metrics expects discrete values but received continuous values for label, and continuous values for target\n",
      "  warnings.warn(msg, UserWarning)\n",
      "/opt/homebrew/Caskroom/miniconda/base/envs/ML_WD/lib/python3.10/site-packages/sklearn/metrics/cluster/_supervised.py:58: UserWarning: Clustering metrics expects discrete values but received continuous values for label, and continuous values for target\n",
      "  warnings.warn(msg, UserWarning)\n",
      "/opt/homebrew/Caskroom/miniconda/base/envs/ML_WD/lib/python3.10/site-packages/sklearn/metrics/cluster/_supervised.py:58: UserWarning: Clustering metrics expects discrete values but received continuous values for label, and continuous values for target\n",
      "  warnings.warn(msg, UserWarning)\n",
      "/opt/homebrew/Caskroom/miniconda/base/envs/ML_WD/lib/python3.10/site-packages/sklearn/metrics/cluster/_supervised.py:58: UserWarning: Clustering metrics expects discrete values but received continuous values for label, and continuous values for target\n",
      "  warnings.warn(msg, UserWarning)\n",
      "/opt/homebrew/Caskroom/miniconda/base/envs/ML_WD/lib/python3.10/site-packages/sklearn/metrics/cluster/_supervised.py:58: UserWarning: Clustering metrics expects discrete values but received continuous values for label, and continuous values for target\n",
      "  warnings.warn(msg, UserWarning)\n",
      "/opt/homebrew/Caskroom/miniconda/base/envs/ML_WD/lib/python3.10/site-packages/sklearn/metrics/cluster/_supervised.py:58: UserWarning: Clustering metrics expects discrete values but received continuous values for label, and continuous values for target\n",
      "  warnings.warn(msg, UserWarning)\n",
      "/opt/homebrew/Caskroom/miniconda/base/envs/ML_WD/lib/python3.10/site-packages/sklearn/metrics/cluster/_supervised.py:58: UserWarning: Clustering metrics expects discrete values but received continuous values for label, and continuous values for target\n",
      "  warnings.warn(msg, UserWarning)\n",
      "/opt/homebrew/Caskroom/miniconda/base/envs/ML_WD/lib/python3.10/site-packages/sklearn/metrics/cluster/_supervised.py:58: UserWarning: Clustering metrics expects discrete values but received continuous values for label, and continuous values for target\n",
      "  warnings.warn(msg, UserWarning)\n",
      "/opt/homebrew/Caskroom/miniconda/base/envs/ML_WD/lib/python3.10/site-packages/sklearn/metrics/cluster/_supervised.py:58: UserWarning: Clustering metrics expects discrete values but received continuous values for label, and continuous values for target\n",
      "  warnings.warn(msg, UserWarning)\n",
      "/opt/homebrew/Caskroom/miniconda/base/envs/ML_WD/lib/python3.10/site-packages/sklearn/metrics/cluster/_supervised.py:58: UserWarning: Clustering metrics expects discrete values but received continuous values for label, and continuous values for target\n",
      "  warnings.warn(msg, UserWarning)\n",
      "/opt/homebrew/Caskroom/miniconda/base/envs/ML_WD/lib/python3.10/site-packages/sklearn/metrics/cluster/_supervised.py:58: UserWarning: Clustering metrics expects discrete values but received continuous values for label, and continuous values for target\n",
      "  warnings.warn(msg, UserWarning)\n",
      "/opt/homebrew/Caskroom/miniconda/base/envs/ML_WD/lib/python3.10/site-packages/sklearn/metrics/cluster/_supervised.py:58: UserWarning: Clustering metrics expects discrete values but received continuous values for label, and continuous values for target\n",
      "  warnings.warn(msg, UserWarning)\n",
      "/opt/homebrew/Caskroom/miniconda/base/envs/ML_WD/lib/python3.10/site-packages/sklearn/metrics/cluster/_supervised.py:58: UserWarning: Clustering metrics expects discrete values but received continuous values for label, and binary values for target\n",
      "  warnings.warn(msg, UserWarning)\n",
      "/opt/homebrew/Caskroom/miniconda/base/envs/ML_WD/lib/python3.10/site-packages/sklearn/metrics/cluster/_supervised.py:58: UserWarning: Clustering metrics expects discrete values but received continuous values for label, and continuous values for target\n",
      "  warnings.warn(msg, UserWarning)\n",
      "/opt/homebrew/Caskroom/miniconda/base/envs/ML_WD/lib/python3.10/site-packages/sklearn/metrics/cluster/_supervised.py:58: UserWarning: Clustering metrics expects discrete values but received continuous values for label, and continuous values for target\n",
      "  warnings.warn(msg, UserWarning)\n",
      "/opt/homebrew/Caskroom/miniconda/base/envs/ML_WD/lib/python3.10/site-packages/sklearn/metrics/cluster/_supervised.py:58: UserWarning: Clustering metrics expects discrete values but received continuous values for label, and binary values for target\n",
      "  warnings.warn(msg, UserWarning)\n",
      "/opt/homebrew/Caskroom/miniconda/base/envs/ML_WD/lib/python3.10/site-packages/sklearn/metrics/cluster/_supervised.py:58: UserWarning: Clustering metrics expects discrete values but received continuous values for label, and continuous values for target\n",
      "  warnings.warn(msg, UserWarning)\n",
      "/opt/homebrew/Caskroom/miniconda/base/envs/ML_WD/lib/python3.10/site-packages/sklearn/metrics/cluster/_supervised.py:58: UserWarning: Clustering metrics expects discrete values but received continuous values for label, and continuous values for target\n",
      "  warnings.warn(msg, UserWarning)\n",
      "/opt/homebrew/Caskroom/miniconda/base/envs/ML_WD/lib/python3.10/site-packages/sklearn/metrics/cluster/_supervised.py:58: UserWarning: Clustering metrics expects discrete values but received continuous values for label, and continuous values for target\n",
      "  warnings.warn(msg, UserWarning)\n",
      "/opt/homebrew/Caskroom/miniconda/base/envs/ML_WD/lib/python3.10/site-packages/sklearn/metrics/cluster/_supervised.py:58: UserWarning: Clustering metrics expects discrete values but received continuous values for label, and continuous values for target\n",
      "  warnings.warn(msg, UserWarning)\n",
      "/opt/homebrew/Caskroom/miniconda/base/envs/ML_WD/lib/python3.10/site-packages/sklearn/metrics/cluster/_supervised.py:58: UserWarning: Clustering metrics expects discrete values but received continuous values for label, and binary values for target\n",
      "  warnings.warn(msg, UserWarning)\n",
      "/opt/homebrew/Caskroom/miniconda/base/envs/ML_WD/lib/python3.10/site-packages/sklearn/metrics/cluster/_supervised.py:58: UserWarning: Clustering metrics expects discrete values but received continuous values for label, and continuous values for target\n",
      "  warnings.warn(msg, UserWarning)\n",
      "/opt/homebrew/Caskroom/miniconda/base/envs/ML_WD/lib/python3.10/site-packages/sklearn/metrics/cluster/_supervised.py:58: UserWarning: Clustering metrics expects discrete values but received continuous values for label, and continuous values for target\n",
      "  warnings.warn(msg, UserWarning)\n",
      "/opt/homebrew/Caskroom/miniconda/base/envs/ML_WD/lib/python3.10/site-packages/sklearn/metrics/cluster/_supervised.py:58: UserWarning: Clustering metrics expects discrete values but received continuous values for label, and binary values for target\n",
      "  warnings.warn(msg, UserWarning)\n",
      "/opt/homebrew/Caskroom/miniconda/base/envs/ML_WD/lib/python3.10/site-packages/sklearn/metrics/cluster/_supervised.py:58: UserWarning: Clustering metrics expects discrete values but received continuous values for label, and continuous values for target\n",
      "  warnings.warn(msg, UserWarning)\n",
      "/opt/homebrew/Caskroom/miniconda/base/envs/ML_WD/lib/python3.10/site-packages/sklearn/metrics/cluster/_supervised.py:58: UserWarning: Clustering metrics expects discrete values but received continuous values for label, and continuous values for target\n",
      "  warnings.warn(msg, UserWarning)\n",
      "/opt/homebrew/Caskroom/miniconda/base/envs/ML_WD/lib/python3.10/site-packages/sklearn/metrics/cluster/_supervised.py:58: UserWarning: Clustering metrics expects discrete values but received continuous values for label, and binary values for target\n",
      "  warnings.warn(msg, UserWarning)\n",
      "/opt/homebrew/Caskroom/miniconda/base/envs/ML_WD/lib/python3.10/site-packages/sklearn/metrics/cluster/_supervised.py:58: UserWarning: Clustering metrics expects discrete values but received continuous values for label, and continuous values for target\n",
      "  warnings.warn(msg, UserWarning)\n",
      "/opt/homebrew/Caskroom/miniconda/base/envs/ML_WD/lib/python3.10/site-packages/sklearn/metrics/cluster/_supervised.py:58: UserWarning: Clustering metrics expects discrete values but received continuous values for label, and binary values for target\n",
      "  warnings.warn(msg, UserWarning)\n",
      "/opt/homebrew/Caskroom/miniconda/base/envs/ML_WD/lib/python3.10/site-packages/sklearn/metrics/cluster/_supervised.py:58: UserWarning: Clustering metrics expects discrete values but received continuous values for label, and continuous values for target\n",
      "  warnings.warn(msg, UserWarning)\n",
      "/opt/homebrew/Caskroom/miniconda/base/envs/ML_WD/lib/python3.10/site-packages/sklearn/metrics/cluster/_supervised.py:58: UserWarning: Clustering metrics expects discrete values but received continuous values for label, and continuous values for target\n",
      "  warnings.warn(msg, UserWarning)\n",
      "/opt/homebrew/Caskroom/miniconda/base/envs/ML_WD/lib/python3.10/site-packages/sklearn/metrics/cluster/_supervised.py:58: UserWarning: Clustering metrics expects discrete values but received continuous values for label, and continuous values for target\n",
      "  warnings.warn(msg, UserWarning)\n",
      "/opt/homebrew/Caskroom/miniconda/base/envs/ML_WD/lib/python3.10/site-packages/sklearn/metrics/cluster/_supervised.py:58: UserWarning: Clustering metrics expects discrete values but received continuous values for label, and continuous values for target\n",
      "  warnings.warn(msg, UserWarning)\n",
      "/opt/homebrew/Caskroom/miniconda/base/envs/ML_WD/lib/python3.10/site-packages/sklearn/metrics/cluster/_supervised.py:58: UserWarning: Clustering metrics expects discrete values but received continuous values for label, and continuous values for target\n",
      "  warnings.warn(msg, UserWarning)\n",
      "/opt/homebrew/Caskroom/miniconda/base/envs/ML_WD/lib/python3.10/site-packages/sklearn/metrics/cluster/_supervised.py:58: UserWarning: Clustering metrics expects discrete values but received continuous values for label, and continuous values for target\n",
      "  warnings.warn(msg, UserWarning)\n",
      "/opt/homebrew/Caskroom/miniconda/base/envs/ML_WD/lib/python3.10/site-packages/sklearn/metrics/cluster/_supervised.py:58: UserWarning: Clustering metrics expects discrete values but received continuous values for label, and continuous values for target\n",
      "  warnings.warn(msg, UserWarning)\n",
      "/opt/homebrew/Caskroom/miniconda/base/envs/ML_WD/lib/python3.10/site-packages/sklearn/metrics/cluster/_supervised.py:58: UserWarning: Clustering metrics expects discrete values but received continuous values for label, and continuous values for target\n",
      "  warnings.warn(msg, UserWarning)\n",
      "/opt/homebrew/Caskroom/miniconda/base/envs/ML_WD/lib/python3.10/site-packages/sklearn/metrics/cluster/_supervised.py:58: UserWarning: Clustering metrics expects discrete values but received continuous values for label, and continuous values for target\n",
      "  warnings.warn(msg, UserWarning)\n",
      "/opt/homebrew/Caskroom/miniconda/base/envs/ML_WD/lib/python3.10/site-packages/sklearn/metrics/cluster/_supervised.py:58: UserWarning: Clustering metrics expects discrete values but received continuous values for label, and continuous values for target\n",
      "  warnings.warn(msg, UserWarning)\n",
      "/opt/homebrew/Caskroom/miniconda/base/envs/ML_WD/lib/python3.10/site-packages/sklearn/metrics/cluster/_supervised.py:58: UserWarning: Clustering metrics expects discrete values but received continuous values for label, and continuous values for target\n",
      "  warnings.warn(msg, UserWarning)\n",
      "/opt/homebrew/Caskroom/miniconda/base/envs/ML_WD/lib/python3.10/site-packages/sklearn/metrics/cluster/_supervised.py:58: UserWarning: Clustering metrics expects discrete values but received continuous values for label, and continuous values for target\n",
      "  warnings.warn(msg, UserWarning)\n",
      "/opt/homebrew/Caskroom/miniconda/base/envs/ML_WD/lib/python3.10/site-packages/sklearn/metrics/cluster/_supervised.py:58: UserWarning: Clustering metrics expects discrete values but received continuous values for label, and continuous values for target\n",
      "  warnings.warn(msg, UserWarning)\n",
      "/opt/homebrew/Caskroom/miniconda/base/envs/ML_WD/lib/python3.10/site-packages/sklearn/metrics/cluster/_supervised.py:58: UserWarning: Clustering metrics expects discrete values but received continuous values for label, and continuous values for target\n",
      "  warnings.warn(msg, UserWarning)\n",
      "/opt/homebrew/Caskroom/miniconda/base/envs/ML_WD/lib/python3.10/site-packages/sklearn/metrics/cluster/_supervised.py:58: UserWarning: Clustering metrics expects discrete values but received continuous values for label, and continuous values for target\n",
      "  warnings.warn(msg, UserWarning)\n",
      "/opt/homebrew/Caskroom/miniconda/base/envs/ML_WD/lib/python3.10/site-packages/sklearn/metrics/cluster/_supervised.py:58: UserWarning: Clustering metrics expects discrete values but received continuous values for label, and continuous values for target\n",
      "  warnings.warn(msg, UserWarning)\n",
      "/opt/homebrew/Caskroom/miniconda/base/envs/ML_WD/lib/python3.10/site-packages/sklearn/metrics/cluster/_supervised.py:58: UserWarning: Clustering metrics expects discrete values but received continuous values for label, and continuous values for target\n",
      "  warnings.warn(msg, UserWarning)\n",
      "/opt/homebrew/Caskroom/miniconda/base/envs/ML_WD/lib/python3.10/site-packages/sklearn/metrics/cluster/_supervised.py:58: UserWarning: Clustering metrics expects discrete values but received continuous values for label, and continuous values for target\n",
      "  warnings.warn(msg, UserWarning)\n",
      "/opt/homebrew/Caskroom/miniconda/base/envs/ML_WD/lib/python3.10/site-packages/sklearn/metrics/cluster/_supervised.py:58: UserWarning: Clustering metrics expects discrete values but received continuous values for label, and continuous values for target\n",
      "  warnings.warn(msg, UserWarning)\n",
      "/opt/homebrew/Caskroom/miniconda/base/envs/ML_WD/lib/python3.10/site-packages/sklearn/metrics/cluster/_supervised.py:58: UserWarning: Clustering metrics expects discrete values but received continuous values for label, and continuous values for target\n",
      "  warnings.warn(msg, UserWarning)\n",
      "/opt/homebrew/Caskroom/miniconda/base/envs/ML_WD/lib/python3.10/site-packages/sklearn/metrics/cluster/_supervised.py:58: UserWarning: Clustering metrics expects discrete values but received continuous values for label, and continuous values for target\n",
      "  warnings.warn(msg, UserWarning)\n",
      "/opt/homebrew/Caskroom/miniconda/base/envs/ML_WD/lib/python3.10/site-packages/sklearn/metrics/cluster/_supervised.py:58: UserWarning: Clustering metrics expects discrete values but received continuous values for label, and continuous values for target\n",
      "  warnings.warn(msg, UserWarning)\n",
      "/opt/homebrew/Caskroom/miniconda/base/envs/ML_WD/lib/python3.10/site-packages/sklearn/metrics/cluster/_supervised.py:58: UserWarning: Clustering metrics expects discrete values but received continuous values for label, and continuous values for target\n",
      "  warnings.warn(msg, UserWarning)\n",
      "/opt/homebrew/Caskroom/miniconda/base/envs/ML_WD/lib/python3.10/site-packages/sklearn/metrics/cluster/_supervised.py:58: UserWarning: Clustering metrics expects discrete values but received continuous values for label, and continuous values for target\n",
      "  warnings.warn(msg, UserWarning)\n",
      "/opt/homebrew/Caskroom/miniconda/base/envs/ML_WD/lib/python3.10/site-packages/sklearn/metrics/cluster/_supervised.py:58: UserWarning: Clustering metrics expects discrete values but received continuous values for label, and continuous values for target\n",
      "  warnings.warn(msg, UserWarning)\n",
      "/opt/homebrew/Caskroom/miniconda/base/envs/ML_WD/lib/python3.10/site-packages/sklearn/metrics/cluster/_supervised.py:58: UserWarning: Clustering metrics expects discrete values but received continuous values for label, and continuous values for target\n",
      "  warnings.warn(msg, UserWarning)\n",
      "/opt/homebrew/Caskroom/miniconda/base/envs/ML_WD/lib/python3.10/site-packages/sklearn/metrics/cluster/_supervised.py:58: UserWarning: Clustering metrics expects discrete values but received continuous values for label, and continuous values for target\n",
      "  warnings.warn(msg, UserWarning)\n",
      "/opt/homebrew/Caskroom/miniconda/base/envs/ML_WD/lib/python3.10/site-packages/sklearn/metrics/cluster/_supervised.py:58: UserWarning: Clustering metrics expects discrete values but received continuous values for label, and continuous values for target\n",
      "  warnings.warn(msg, UserWarning)\n",
      "/opt/homebrew/Caskroom/miniconda/base/envs/ML_WD/lib/python3.10/site-packages/sklearn/metrics/cluster/_supervised.py:58: UserWarning: Clustering metrics expects discrete values but received continuous values for label, and continuous values for target\n",
      "  warnings.warn(msg, UserWarning)\n",
      "/opt/homebrew/Caskroom/miniconda/base/envs/ML_WD/lib/python3.10/site-packages/sklearn/metrics/cluster/_supervised.py:58: UserWarning: Clustering metrics expects discrete values but received continuous values for label, and continuous values for target\n",
      "  warnings.warn(msg, UserWarning)\n",
      "/opt/homebrew/Caskroom/miniconda/base/envs/ML_WD/lib/python3.10/site-packages/sklearn/metrics/cluster/_supervised.py:58: UserWarning: Clustering metrics expects discrete values but received continuous values for label, and continuous values for target\n",
      "  warnings.warn(msg, UserWarning)\n",
      "/opt/homebrew/Caskroom/miniconda/base/envs/ML_WD/lib/python3.10/site-packages/sklearn/metrics/cluster/_supervised.py:58: UserWarning: Clustering metrics expects discrete values but received continuous values for label, and continuous values for target\n",
      "  warnings.warn(msg, UserWarning)\n",
      "/opt/homebrew/Caskroom/miniconda/base/envs/ML_WD/lib/python3.10/site-packages/sklearn/metrics/cluster/_supervised.py:58: UserWarning: Clustering metrics expects discrete values but received continuous values for label, and continuous values for target\n",
      "  warnings.warn(msg, UserWarning)\n",
      "/opt/homebrew/Caskroom/miniconda/base/envs/ML_WD/lib/python3.10/site-packages/sklearn/metrics/cluster/_supervised.py:58: UserWarning: Clustering metrics expects discrete values but received continuous values for label, and continuous values for target\n",
      "  warnings.warn(msg, UserWarning)\n",
      "/opt/homebrew/Caskroom/miniconda/base/envs/ML_WD/lib/python3.10/site-packages/sklearn/metrics/cluster/_supervised.py:58: UserWarning: Clustering metrics expects discrete values but received continuous values for label, and continuous values for target\n",
      "  warnings.warn(msg, UserWarning)\n",
      "/opt/homebrew/Caskroom/miniconda/base/envs/ML_WD/lib/python3.10/site-packages/sklearn/metrics/cluster/_supervised.py:58: UserWarning: Clustering metrics expects discrete values but received continuous values for label, and continuous values for target\n",
      "  warnings.warn(msg, UserWarning)\n",
      "/opt/homebrew/Caskroom/miniconda/base/envs/ML_WD/lib/python3.10/site-packages/sklearn/metrics/cluster/_supervised.py:58: UserWarning: Clustering metrics expects discrete values but received continuous values for label, and continuous values for target\n",
      "  warnings.warn(msg, UserWarning)\n",
      "/opt/homebrew/Caskroom/miniconda/base/envs/ML_WD/lib/python3.10/site-packages/sklearn/metrics/cluster/_supervised.py:58: UserWarning: Clustering metrics expects discrete values but received continuous values for label, and continuous values for target\n",
      "  warnings.warn(msg, UserWarning)\n",
      "/opt/homebrew/Caskroom/miniconda/base/envs/ML_WD/lib/python3.10/site-packages/sklearn/metrics/cluster/_supervised.py:58: UserWarning: Clustering metrics expects discrete values but received continuous values for label, and continuous values for target\n",
      "  warnings.warn(msg, UserWarning)\n",
      "/opt/homebrew/Caskroom/miniconda/base/envs/ML_WD/lib/python3.10/site-packages/sklearn/metrics/cluster/_supervised.py:58: UserWarning: Clustering metrics expects discrete values but received continuous values for label, and continuous values for target\n",
      "  warnings.warn(msg, UserWarning)\n",
      "/opt/homebrew/Caskroom/miniconda/base/envs/ML_WD/lib/python3.10/site-packages/sklearn/metrics/cluster/_supervised.py:58: UserWarning: Clustering metrics expects discrete values but received continuous values for label, and continuous values for target\n",
      "  warnings.warn(msg, UserWarning)\n",
      "/opt/homebrew/Caskroom/miniconda/base/envs/ML_WD/lib/python3.10/site-packages/sklearn/metrics/cluster/_supervised.py:58: UserWarning: Clustering metrics expects discrete values but received continuous values for label, and continuous values for target\n",
      "  warnings.warn(msg, UserWarning)\n",
      "/opt/homebrew/Caskroom/miniconda/base/envs/ML_WD/lib/python3.10/site-packages/sklearn/metrics/cluster/_supervised.py:58: UserWarning: Clustering metrics expects discrete values but received continuous values for label, and continuous values for target\n",
      "  warnings.warn(msg, UserWarning)\n",
      "/opt/homebrew/Caskroom/miniconda/base/envs/ML_WD/lib/python3.10/site-packages/sklearn/metrics/cluster/_supervised.py:58: UserWarning: Clustering metrics expects discrete values but received continuous values for label, and continuous values for target\n",
      "  warnings.warn(msg, UserWarning)\n",
      "/opt/homebrew/Caskroom/miniconda/base/envs/ML_WD/lib/python3.10/site-packages/sklearn/metrics/cluster/_supervised.py:58: UserWarning: Clustering metrics expects discrete values but received continuous values for label, and continuous values for target\n",
      "  warnings.warn(msg, UserWarning)\n",
      "/opt/homebrew/Caskroom/miniconda/base/envs/ML_WD/lib/python3.10/site-packages/sklearn/metrics/cluster/_supervised.py:58: UserWarning: Clustering metrics expects discrete values but received continuous values for label, and continuous values for target\n",
      "  warnings.warn(msg, UserWarning)\n",
      "/opt/homebrew/Caskroom/miniconda/base/envs/ML_WD/lib/python3.10/site-packages/sklearn/metrics/cluster/_supervised.py:58: UserWarning: Clustering metrics expects discrete values but received continuous values for label, and continuous values for target\n",
      "  warnings.warn(msg, UserWarning)\n",
      "/opt/homebrew/Caskroom/miniconda/base/envs/ML_WD/lib/python3.10/site-packages/sklearn/metrics/cluster/_supervised.py:58: UserWarning: Clustering metrics expects discrete values but received continuous values for label, and continuous values for target\n",
      "  warnings.warn(msg, UserWarning)\n",
      "/opt/homebrew/Caskroom/miniconda/base/envs/ML_WD/lib/python3.10/site-packages/sklearn/metrics/cluster/_supervised.py:58: UserWarning: Clustering metrics expects discrete values but received continuous values for label, and continuous values for target\n",
      "  warnings.warn(msg, UserWarning)\n",
      "/opt/homebrew/Caskroom/miniconda/base/envs/ML_WD/lib/python3.10/site-packages/sklearn/metrics/cluster/_supervised.py:58: UserWarning: Clustering metrics expects discrete values but received continuous values for label, and continuous values for target\n",
      "  warnings.warn(msg, UserWarning)\n",
      "/opt/homebrew/Caskroom/miniconda/base/envs/ML_WD/lib/python3.10/site-packages/sklearn/metrics/cluster/_supervised.py:58: UserWarning: Clustering metrics expects discrete values but received continuous values for label, and continuous values for target\n",
      "  warnings.warn(msg, UserWarning)\n",
      "/opt/homebrew/Caskroom/miniconda/base/envs/ML_WD/lib/python3.10/site-packages/sklearn/metrics/cluster/_supervised.py:58: UserWarning: Clustering metrics expects discrete values but received continuous values for label, and continuous values for target\n",
      "  warnings.warn(msg, UserWarning)\n",
      "/opt/homebrew/Caskroom/miniconda/base/envs/ML_WD/lib/python3.10/site-packages/sklearn/metrics/cluster/_supervised.py:58: UserWarning: Clustering metrics expects discrete values but received continuous values for label, and continuous values for target\n",
      "  warnings.warn(msg, UserWarning)\n",
      "/opt/homebrew/Caskroom/miniconda/base/envs/ML_WD/lib/python3.10/site-packages/sklearn/metrics/cluster/_supervised.py:58: UserWarning: Clustering metrics expects discrete values but received continuous values for label, and continuous values for target\n",
      "  warnings.warn(msg, UserWarning)\n",
      "/opt/homebrew/Caskroom/miniconda/base/envs/ML_WD/lib/python3.10/site-packages/sklearn/metrics/cluster/_supervised.py:58: UserWarning: Clustering metrics expects discrete values but received continuous values for label, and continuous values for target\n",
      "  warnings.warn(msg, UserWarning)\n",
      "/opt/homebrew/Caskroom/miniconda/base/envs/ML_WD/lib/python3.10/site-packages/sklearn/metrics/cluster/_supervised.py:58: UserWarning: Clustering metrics expects discrete values but received continuous values for label, and continuous values for target\n",
      "  warnings.warn(msg, UserWarning)\n",
      "/opt/homebrew/Caskroom/miniconda/base/envs/ML_WD/lib/python3.10/site-packages/sklearn/metrics/cluster/_supervised.py:58: UserWarning: Clustering metrics expects discrete values but received continuous values for label, and continuous values for target\n",
      "  warnings.warn(msg, UserWarning)\n",
      "/opt/homebrew/Caskroom/miniconda/base/envs/ML_WD/lib/python3.10/site-packages/sklearn/metrics/cluster/_supervised.py:58: UserWarning: Clustering metrics expects discrete values but received continuous values for label, and continuous values for target\n",
      "  warnings.warn(msg, UserWarning)\n",
      "/opt/homebrew/Caskroom/miniconda/base/envs/ML_WD/lib/python3.10/site-packages/sklearn/metrics/cluster/_supervised.py:58: UserWarning: Clustering metrics expects discrete values but received continuous values for label, and continuous values for target\n",
      "  warnings.warn(msg, UserWarning)\n",
      "/opt/homebrew/Caskroom/miniconda/base/envs/ML_WD/lib/python3.10/site-packages/sklearn/metrics/cluster/_supervised.py:58: UserWarning: Clustering metrics expects discrete values but received continuous values for label, and continuous values for target\n",
      "  warnings.warn(msg, UserWarning)\n",
      "/opt/homebrew/Caskroom/miniconda/base/envs/ML_WD/lib/python3.10/site-packages/sklearn/metrics/cluster/_supervised.py:58: UserWarning: Clustering metrics expects discrete values but received continuous values for label, and continuous values for target\n",
      "  warnings.warn(msg, UserWarning)\n",
      "/opt/homebrew/Caskroom/miniconda/base/envs/ML_WD/lib/python3.10/site-packages/sklearn/metrics/cluster/_supervised.py:58: UserWarning: Clustering metrics expects discrete values but received continuous values for label, and continuous values for target\n",
      "  warnings.warn(msg, UserWarning)\n",
      "/opt/homebrew/Caskroom/miniconda/base/envs/ML_WD/lib/python3.10/site-packages/sklearn/metrics/cluster/_supervised.py:58: UserWarning: Clustering metrics expects discrete values but received continuous values for label, and continuous values for target\n",
      "  warnings.warn(msg, UserWarning)\n",
      "/opt/homebrew/Caskroom/miniconda/base/envs/ML_WD/lib/python3.10/site-packages/sklearn/metrics/cluster/_supervised.py:58: UserWarning: Clustering metrics expects discrete values but received continuous values for label, and continuous values for target\n",
      "  warnings.warn(msg, UserWarning)\n",
      "/opt/homebrew/Caskroom/miniconda/base/envs/ML_WD/lib/python3.10/site-packages/sklearn/metrics/cluster/_supervised.py:58: UserWarning: Clustering metrics expects discrete values but received continuous values for label, and continuous values for target\n",
      "  warnings.warn(msg, UserWarning)\n",
      "/opt/homebrew/Caskroom/miniconda/base/envs/ML_WD/lib/python3.10/site-packages/sklearn/metrics/cluster/_supervised.py:58: UserWarning: Clustering metrics expects discrete values but received continuous values for label, and continuous values for target\n",
      "  warnings.warn(msg, UserWarning)\n",
      "/opt/homebrew/Caskroom/miniconda/base/envs/ML_WD/lib/python3.10/site-packages/sklearn/metrics/cluster/_supervised.py:58: UserWarning: Clustering metrics expects discrete values but received continuous values for label, and continuous values for target\n",
      "  warnings.warn(msg, UserWarning)\n",
      "/opt/homebrew/Caskroom/miniconda/base/envs/ML_WD/lib/python3.10/site-packages/sklearn/metrics/cluster/_supervised.py:58: UserWarning: Clustering metrics expects discrete values but received continuous values for label, and continuous values for target\n",
      "  warnings.warn(msg, UserWarning)\n",
      "/opt/homebrew/Caskroom/miniconda/base/envs/ML_WD/lib/python3.10/site-packages/sklearn/metrics/cluster/_supervised.py:58: UserWarning: Clustering metrics expects discrete values but received continuous values for label, and continuous values for target\n",
      "  warnings.warn(msg, UserWarning)\n",
      "/opt/homebrew/Caskroom/miniconda/base/envs/ML_WD/lib/python3.10/site-packages/sklearn/metrics/cluster/_supervised.py:58: UserWarning: Clustering metrics expects discrete values but received continuous values for label, and continuous values for target\n",
      "  warnings.warn(msg, UserWarning)\n",
      "/opt/homebrew/Caskroom/miniconda/base/envs/ML_WD/lib/python3.10/site-packages/sklearn/metrics/cluster/_supervised.py:58: UserWarning: Clustering metrics expects discrete values but received continuous values for label, and continuous values for target\n",
      "  warnings.warn(msg, UserWarning)\n",
      "/opt/homebrew/Caskroom/miniconda/base/envs/ML_WD/lib/python3.10/site-packages/sklearn/metrics/cluster/_supervised.py:58: UserWarning: Clustering metrics expects discrete values but received continuous values for label, and continuous values for target\n",
      "  warnings.warn(msg, UserWarning)\n",
      "/opt/homebrew/Caskroom/miniconda/base/envs/ML_WD/lib/python3.10/site-packages/sklearn/metrics/cluster/_supervised.py:58: UserWarning: Clustering metrics expects discrete values but received continuous values for label, and continuous values for target\n",
      "  warnings.warn(msg, UserWarning)\n",
      "/opt/homebrew/Caskroom/miniconda/base/envs/ML_WD/lib/python3.10/site-packages/sklearn/metrics/cluster/_supervised.py:58: UserWarning: Clustering metrics expects discrete values but received continuous values for label, and continuous values for target\n",
      "  warnings.warn(msg, UserWarning)\n",
      "/opt/homebrew/Caskroom/miniconda/base/envs/ML_WD/lib/python3.10/site-packages/sklearn/metrics/cluster/_supervised.py:58: UserWarning: Clustering metrics expects discrete values but received continuous values for label, and continuous values for target\n",
      "  warnings.warn(msg, UserWarning)\n",
      "/opt/homebrew/Caskroom/miniconda/base/envs/ML_WD/lib/python3.10/site-packages/sklearn/metrics/cluster/_supervised.py:58: UserWarning: Clustering metrics expects discrete values but received continuous values for label, and continuous values for target\n",
      "  warnings.warn(msg, UserWarning)\n",
      "/opt/homebrew/Caskroom/miniconda/base/envs/ML_WD/lib/python3.10/site-packages/sklearn/metrics/cluster/_supervised.py:58: UserWarning: Clustering metrics expects discrete values but received continuous values for label, and continuous values for target\n",
      "  warnings.warn(msg, UserWarning)\n",
      "/opt/homebrew/Caskroom/miniconda/base/envs/ML_WD/lib/python3.10/site-packages/sklearn/metrics/cluster/_supervised.py:58: UserWarning: Clustering metrics expects discrete values but received continuous values for label, and continuous values for target\n",
      "  warnings.warn(msg, UserWarning)\n",
      "/opt/homebrew/Caskroom/miniconda/base/envs/ML_WD/lib/python3.10/site-packages/sklearn/metrics/cluster/_supervised.py:58: UserWarning: Clustering metrics expects discrete values but received continuous values for label, and continuous values for target\n",
      "  warnings.warn(msg, UserWarning)\n",
      "/opt/homebrew/Caskroom/miniconda/base/envs/ML_WD/lib/python3.10/site-packages/sklearn/metrics/cluster/_supervised.py:58: UserWarning: Clustering metrics expects discrete values but received continuous values for label, and continuous values for target\n",
      "  warnings.warn(msg, UserWarning)\n",
      "/opt/homebrew/Caskroom/miniconda/base/envs/ML_WD/lib/python3.10/site-packages/sklearn/metrics/cluster/_supervised.py:58: UserWarning: Clustering metrics expects discrete values but received continuous values for label, and continuous values for target\n",
      "  warnings.warn(msg, UserWarning)\n",
      "/opt/homebrew/Caskroom/miniconda/base/envs/ML_WD/lib/python3.10/site-packages/sklearn/metrics/cluster/_supervised.py:58: UserWarning: Clustering metrics expects discrete values but received continuous values for label, and continuous values for target\n",
      "  warnings.warn(msg, UserWarning)\n",
      "/opt/homebrew/Caskroom/miniconda/base/envs/ML_WD/lib/python3.10/site-packages/sklearn/metrics/cluster/_supervised.py:58: UserWarning: Clustering metrics expects discrete values but received continuous values for label, and continuous values for target\n",
      "  warnings.warn(msg, UserWarning)\n",
      "/opt/homebrew/Caskroom/miniconda/base/envs/ML_WD/lib/python3.10/site-packages/sklearn/metrics/cluster/_supervised.py:58: UserWarning: Clustering metrics expects discrete values but received continuous values for label, and continuous values for target\n",
      "  warnings.warn(msg, UserWarning)\n",
      "/opt/homebrew/Caskroom/miniconda/base/envs/ML_WD/lib/python3.10/site-packages/sklearn/metrics/cluster/_supervised.py:58: UserWarning: Clustering metrics expects discrete values but received continuous values for label, and continuous values for target\n",
      "  warnings.warn(msg, UserWarning)\n",
      "/opt/homebrew/Caskroom/miniconda/base/envs/ML_WD/lib/python3.10/site-packages/sklearn/metrics/cluster/_supervised.py:58: UserWarning: Clustering metrics expects discrete values but received continuous values for label, and continuous values for target\n",
      "  warnings.warn(msg, UserWarning)\n",
      "/opt/homebrew/Caskroom/miniconda/base/envs/ML_WD/lib/python3.10/site-packages/sklearn/metrics/cluster/_supervised.py:58: UserWarning: Clustering metrics expects discrete values but received continuous values for label, and continuous values for target\n",
      "  warnings.warn(msg, UserWarning)\n",
      "/opt/homebrew/Caskroom/miniconda/base/envs/ML_WD/lib/python3.10/site-packages/sklearn/metrics/cluster/_supervised.py:58: UserWarning: Clustering metrics expects discrete values but received continuous values for label, and continuous values for target\n",
      "  warnings.warn(msg, UserWarning)\n",
      "/opt/homebrew/Caskroom/miniconda/base/envs/ML_WD/lib/python3.10/site-packages/sklearn/metrics/cluster/_supervised.py:58: UserWarning: Clustering metrics expects discrete values but received continuous values for label, and continuous values for target\n",
      "  warnings.warn(msg, UserWarning)\n",
      "/opt/homebrew/Caskroom/miniconda/base/envs/ML_WD/lib/python3.10/site-packages/sklearn/metrics/cluster/_supervised.py:58: UserWarning: Clustering metrics expects discrete values but received continuous values for label, and continuous values for target\n",
      "  warnings.warn(msg, UserWarning)\n",
      "/opt/homebrew/Caskroom/miniconda/base/envs/ML_WD/lib/python3.10/site-packages/sklearn/metrics/cluster/_supervised.py:58: UserWarning: Clustering metrics expects discrete values but received continuous values for label, and continuous values for target\n",
      "  warnings.warn(msg, UserWarning)\n",
      "/opt/homebrew/Caskroom/miniconda/base/envs/ML_WD/lib/python3.10/site-packages/sklearn/metrics/cluster/_supervised.py:58: UserWarning: Clustering metrics expects discrete values but received continuous values for label, and continuous values for target\n",
      "  warnings.warn(msg, UserWarning)\n",
      "/opt/homebrew/Caskroom/miniconda/base/envs/ML_WD/lib/python3.10/site-packages/sklearn/metrics/cluster/_supervised.py:58: UserWarning: Clustering metrics expects discrete values but received continuous values for label, and continuous values for target\n",
      "  warnings.warn(msg, UserWarning)\n",
      "/opt/homebrew/Caskroom/miniconda/base/envs/ML_WD/lib/python3.10/site-packages/sklearn/metrics/cluster/_supervised.py:58: UserWarning: Clustering metrics expects discrete values but received continuous values for label, and continuous values for target\n",
      "  warnings.warn(msg, UserWarning)\n",
      "/opt/homebrew/Caskroom/miniconda/base/envs/ML_WD/lib/python3.10/site-packages/sklearn/metrics/cluster/_supervised.py:58: UserWarning: Clustering metrics expects discrete values but received continuous values for label, and continuous values for target\n",
      "  warnings.warn(msg, UserWarning)\n",
      "/opt/homebrew/Caskroom/miniconda/base/envs/ML_WD/lib/python3.10/site-packages/sklearn/metrics/cluster/_supervised.py:58: UserWarning: Clustering metrics expects discrete values but received continuous values for label, and continuous values for target\n",
      "  warnings.warn(msg, UserWarning)\n",
      "/opt/homebrew/Caskroom/miniconda/base/envs/ML_WD/lib/python3.10/site-packages/sklearn/metrics/cluster/_supervised.py:58: UserWarning: Clustering metrics expects discrete values but received continuous values for label, and continuous values for target\n",
      "  warnings.warn(msg, UserWarning)\n",
      "/opt/homebrew/Caskroom/miniconda/base/envs/ML_WD/lib/python3.10/site-packages/sklearn/metrics/cluster/_supervised.py:58: UserWarning: Clustering metrics expects discrete values but received continuous values for label, and continuous values for target\n",
      "  warnings.warn(msg, UserWarning)\n",
      "/opt/homebrew/Caskroom/miniconda/base/envs/ML_WD/lib/python3.10/site-packages/sklearn/metrics/cluster/_supervised.py:58: UserWarning: Clustering metrics expects discrete values but received continuous values for label, and continuous values for target\n",
      "  warnings.warn(msg, UserWarning)\n",
      "/opt/homebrew/Caskroom/miniconda/base/envs/ML_WD/lib/python3.10/site-packages/sklearn/metrics/cluster/_supervised.py:58: UserWarning: Clustering metrics expects discrete values but received continuous values for label, and continuous values for target\n",
      "  warnings.warn(msg, UserWarning)\n",
      "/opt/homebrew/Caskroom/miniconda/base/envs/ML_WD/lib/python3.10/site-packages/sklearn/metrics/cluster/_supervised.py:58: UserWarning: Clustering metrics expects discrete values but received continuous values for label, and continuous values for target\n",
      "  warnings.warn(msg, UserWarning)\n",
      "/opt/homebrew/Caskroom/miniconda/base/envs/ML_WD/lib/python3.10/site-packages/sklearn/metrics/cluster/_supervised.py:58: UserWarning: Clustering metrics expects discrete values but received continuous values for label, and continuous values for target\n",
      "  warnings.warn(msg, UserWarning)\n",
      "/opt/homebrew/Caskroom/miniconda/base/envs/ML_WD/lib/python3.10/site-packages/sklearn/metrics/cluster/_supervised.py:58: UserWarning: Clustering metrics expects discrete values but received continuous values for label, and continuous values for target\n",
      "  warnings.warn(msg, UserWarning)\n",
      "/opt/homebrew/Caskroom/miniconda/base/envs/ML_WD/lib/python3.10/site-packages/sklearn/metrics/cluster/_supervised.py:58: UserWarning: Clustering metrics expects discrete values but received continuous values for label, and continuous values for target\n",
      "  warnings.warn(msg, UserWarning)\n",
      "/opt/homebrew/Caskroom/miniconda/base/envs/ML_WD/lib/python3.10/site-packages/sklearn/metrics/cluster/_supervised.py:58: UserWarning: Clustering metrics expects discrete values but received continuous values for label, and continuous values for target\n",
      "  warnings.warn(msg, UserWarning)\n",
      "/opt/homebrew/Caskroom/miniconda/base/envs/ML_WD/lib/python3.10/site-packages/sklearn/metrics/cluster/_supervised.py:58: UserWarning: Clustering metrics expects discrete values but received continuous values for label, and continuous values for target\n",
      "  warnings.warn(msg, UserWarning)\n",
      "/opt/homebrew/Caskroom/miniconda/base/envs/ML_WD/lib/python3.10/site-packages/sklearn/metrics/cluster/_supervised.py:58: UserWarning: Clustering metrics expects discrete values but received continuous values for label, and continuous values for target\n",
      "  warnings.warn(msg, UserWarning)\n",
      "/opt/homebrew/Caskroom/miniconda/base/envs/ML_WD/lib/python3.10/site-packages/sklearn/metrics/cluster/_supervised.py:58: UserWarning: Clustering metrics expects discrete values but received continuous values for label, and continuous values for target\n",
      "  warnings.warn(msg, UserWarning)\n",
      "/opt/homebrew/Caskroom/miniconda/base/envs/ML_WD/lib/python3.10/site-packages/sklearn/metrics/cluster/_supervised.py:58: UserWarning: Clustering metrics expects discrete values but received continuous values for label, and continuous values for target\n",
      "  warnings.warn(msg, UserWarning)\n",
      "/opt/homebrew/Caskroom/miniconda/base/envs/ML_WD/lib/python3.10/site-packages/sklearn/metrics/cluster/_supervised.py:58: UserWarning: Clustering metrics expects discrete values but received continuous values for label, and continuous values for target\n",
      "  warnings.warn(msg, UserWarning)\n",
      "/opt/homebrew/Caskroom/miniconda/base/envs/ML_WD/lib/python3.10/site-packages/sklearn/metrics/cluster/_supervised.py:58: UserWarning: Clustering metrics expects discrete values but received continuous values for label, and continuous values for target\n",
      "  warnings.warn(msg, UserWarning)\n",
      "/opt/homebrew/Caskroom/miniconda/base/envs/ML_WD/lib/python3.10/site-packages/sklearn/metrics/cluster/_supervised.py:58: UserWarning: Clustering metrics expects discrete values but received continuous values for label, and continuous values for target\n",
      "  warnings.warn(msg, UserWarning)\n",
      "/opt/homebrew/Caskroom/miniconda/base/envs/ML_WD/lib/python3.10/site-packages/sklearn/metrics/cluster/_supervised.py:58: UserWarning: Clustering metrics expects discrete values but received continuous values for label, and continuous values for target\n",
      "  warnings.warn(msg, UserWarning)\n",
      "/opt/homebrew/Caskroom/miniconda/base/envs/ML_WD/lib/python3.10/site-packages/sklearn/metrics/cluster/_supervised.py:58: UserWarning: Clustering metrics expects discrete values but received continuous values for label, and continuous values for target\n",
      "  warnings.warn(msg, UserWarning)\n",
      "/opt/homebrew/Caskroom/miniconda/base/envs/ML_WD/lib/python3.10/site-packages/sklearn/metrics/cluster/_supervised.py:58: UserWarning: Clustering metrics expects discrete values but received continuous values for label, and continuous values for target\n",
      "  warnings.warn(msg, UserWarning)\n",
      "/opt/homebrew/Caskroom/miniconda/base/envs/ML_WD/lib/python3.10/site-packages/sklearn/metrics/cluster/_supervised.py:58: UserWarning: Clustering metrics expects discrete values but received continuous values for label, and continuous values for target\n",
      "  warnings.warn(msg, UserWarning)\n",
      "/opt/homebrew/Caskroom/miniconda/base/envs/ML_WD/lib/python3.10/site-packages/sklearn/metrics/cluster/_supervised.py:58: UserWarning: Clustering metrics expects discrete values but received continuous values for label, and continuous values for target\n",
      "  warnings.warn(msg, UserWarning)\n",
      "/opt/homebrew/Caskroom/miniconda/base/envs/ML_WD/lib/python3.10/site-packages/sklearn/metrics/cluster/_supervised.py:58: UserWarning: Clustering metrics expects discrete values but received continuous values for label, and continuous values for target\n",
      "  warnings.warn(msg, UserWarning)\n",
      "/opt/homebrew/Caskroom/miniconda/base/envs/ML_WD/lib/python3.10/site-packages/sklearn/metrics/cluster/_supervised.py:58: UserWarning: Clustering metrics expects discrete values but received continuous values for label, and continuous values for target\n",
      "  warnings.warn(msg, UserWarning)\n",
      "/opt/homebrew/Caskroom/miniconda/base/envs/ML_WD/lib/python3.10/site-packages/sklearn/metrics/cluster/_supervised.py:58: UserWarning: Clustering metrics expects discrete values but received continuous values for label, and binary values for target\n",
      "  warnings.warn(msg, UserWarning)\n",
      "/opt/homebrew/Caskroom/miniconda/base/envs/ML_WD/lib/python3.10/site-packages/sklearn/metrics/cluster/_supervised.py:58: UserWarning: Clustering metrics expects discrete values but received continuous values for label, and continuous values for target\n",
      "  warnings.warn(msg, UserWarning)\n",
      "/opt/homebrew/Caskroom/miniconda/base/envs/ML_WD/lib/python3.10/site-packages/sklearn/metrics/cluster/_supervised.py:58: UserWarning: Clustering metrics expects discrete values but received continuous values for label, and continuous values for target\n",
      "  warnings.warn(msg, UserWarning)\n",
      "/opt/homebrew/Caskroom/miniconda/base/envs/ML_WD/lib/python3.10/site-packages/sklearn/metrics/cluster/_supervised.py:58: UserWarning: Clustering metrics expects discrete values but received continuous values for label, and continuous values for target\n",
      "  warnings.warn(msg, UserWarning)\n",
      "/opt/homebrew/Caskroom/miniconda/base/envs/ML_WD/lib/python3.10/site-packages/sklearn/metrics/cluster/_supervised.py:58: UserWarning: Clustering metrics expects discrete values but received continuous values for label, and continuous values for target\n",
      "  warnings.warn(msg, UserWarning)\n",
      "/opt/homebrew/Caskroom/miniconda/base/envs/ML_WD/lib/python3.10/site-packages/sklearn/metrics/cluster/_supervised.py:58: UserWarning: Clustering metrics expects discrete values but received continuous values for label, and continuous values for target\n",
      "  warnings.warn(msg, UserWarning)\n",
      "/opt/homebrew/Caskroom/miniconda/base/envs/ML_WD/lib/python3.10/site-packages/sklearn/metrics/cluster/_supervised.py:58: UserWarning: Clustering metrics expects discrete values but received continuous values for label, and continuous values for target\n",
      "  warnings.warn(msg, UserWarning)\n",
      "/opt/homebrew/Caskroom/miniconda/base/envs/ML_WD/lib/python3.10/site-packages/sklearn/metrics/cluster/_supervised.py:58: UserWarning: Clustering metrics expects discrete values but received continuous values for label, and continuous values for target\n",
      "  warnings.warn(msg, UserWarning)\n",
      "/opt/homebrew/Caskroom/miniconda/base/envs/ML_WD/lib/python3.10/site-packages/sklearn/metrics/cluster/_supervised.py:58: UserWarning: Clustering metrics expects discrete values but received continuous values for label, and continuous values for target\n",
      "  warnings.warn(msg, UserWarning)\n",
      "/opt/homebrew/Caskroom/miniconda/base/envs/ML_WD/lib/python3.10/site-packages/sklearn/metrics/cluster/_supervised.py:58: UserWarning: Clustering metrics expects discrete values but received continuous values for label, and continuous values for target\n",
      "  warnings.warn(msg, UserWarning)\n",
      "/opt/homebrew/Caskroom/miniconda/base/envs/ML_WD/lib/python3.10/site-packages/sklearn/metrics/cluster/_supervised.py:58: UserWarning: Clustering metrics expects discrete values but received continuous values for label, and continuous values for target\n",
      "  warnings.warn(msg, UserWarning)\n",
      "/opt/homebrew/Caskroom/miniconda/base/envs/ML_WD/lib/python3.10/site-packages/sklearn/metrics/cluster/_supervised.py:58: UserWarning: Clustering metrics expects discrete values but received continuous values for label, and continuous values for target\n",
      "  warnings.warn(msg, UserWarning)\n",
      "/opt/homebrew/Caskroom/miniconda/base/envs/ML_WD/lib/python3.10/site-packages/sklearn/metrics/cluster/_supervised.py:58: UserWarning: Clustering metrics expects discrete values but received continuous values for label, and continuous values for target\n",
      "  warnings.warn(msg, UserWarning)\n",
      "/opt/homebrew/Caskroom/miniconda/base/envs/ML_WD/lib/python3.10/site-packages/sklearn/metrics/cluster/_supervised.py:58: UserWarning: Clustering metrics expects discrete values but received continuous values for label, and continuous values for target\n",
      "  warnings.warn(msg, UserWarning)\n",
      "/opt/homebrew/Caskroom/miniconda/base/envs/ML_WD/lib/python3.10/site-packages/sklearn/metrics/cluster/_supervised.py:58: UserWarning: Clustering metrics expects discrete values but received continuous values for label, and continuous values for target\n",
      "  warnings.warn(msg, UserWarning)\n",
      "/opt/homebrew/Caskroom/miniconda/base/envs/ML_WD/lib/python3.10/site-packages/sklearn/metrics/cluster/_supervised.py:58: UserWarning: Clustering metrics expects discrete values but received continuous values for label, and continuous values for target\n",
      "  warnings.warn(msg, UserWarning)\n",
      "/opt/homebrew/Caskroom/miniconda/base/envs/ML_WD/lib/python3.10/site-packages/sklearn/metrics/cluster/_supervised.py:58: UserWarning: Clustering metrics expects discrete values but received continuous values for label, and continuous values for target\n",
      "  warnings.warn(msg, UserWarning)\n",
      "/opt/homebrew/Caskroom/miniconda/base/envs/ML_WD/lib/python3.10/site-packages/sklearn/metrics/cluster/_supervised.py:58: UserWarning: Clustering metrics expects discrete values but received continuous values for label, and continuous values for target\n",
      "  warnings.warn(msg, UserWarning)\n",
      "/opt/homebrew/Caskroom/miniconda/base/envs/ML_WD/lib/python3.10/site-packages/sklearn/metrics/cluster/_supervised.py:58: UserWarning: Clustering metrics expects discrete values but received continuous values for label, and continuous values for target\n",
      "  warnings.warn(msg, UserWarning)\n",
      "/opt/homebrew/Caskroom/miniconda/base/envs/ML_WD/lib/python3.10/site-packages/sklearn/metrics/cluster/_supervised.py:58: UserWarning: Clustering metrics expects discrete values but received continuous values for label, and continuous values for target\n",
      "  warnings.warn(msg, UserWarning)\n",
      "/opt/homebrew/Caskroom/miniconda/base/envs/ML_WD/lib/python3.10/site-packages/sklearn/metrics/cluster/_supervised.py:58: UserWarning: Clustering metrics expects discrete values but received continuous values for label, and continuous values for target\n",
      "  warnings.warn(msg, UserWarning)\n",
      "/opt/homebrew/Caskroom/miniconda/base/envs/ML_WD/lib/python3.10/site-packages/sklearn/metrics/cluster/_supervised.py:58: UserWarning: Clustering metrics expects discrete values but received continuous values for label, and continuous values for target\n",
      "  warnings.warn(msg, UserWarning)\n",
      "/opt/homebrew/Caskroom/miniconda/base/envs/ML_WD/lib/python3.10/site-packages/sklearn/metrics/cluster/_supervised.py:58: UserWarning: Clustering metrics expects discrete values but received continuous values for label, and continuous values for target\n",
      "  warnings.warn(msg, UserWarning)\n",
      "/opt/homebrew/Caskroom/miniconda/base/envs/ML_WD/lib/python3.10/site-packages/sklearn/metrics/cluster/_supervised.py:58: UserWarning: Clustering metrics expects discrete values but received continuous values for label, and continuous values for target\n",
      "  warnings.warn(msg, UserWarning)\n",
      "/opt/homebrew/Caskroom/miniconda/base/envs/ML_WD/lib/python3.10/site-packages/sklearn/metrics/cluster/_supervised.py:58: UserWarning: Clustering metrics expects discrete values but received continuous values for label, and continuous values for target\n",
      "  warnings.warn(msg, UserWarning)\n",
      "/opt/homebrew/Caskroom/miniconda/base/envs/ML_WD/lib/python3.10/site-packages/sklearn/metrics/cluster/_supervised.py:58: UserWarning: Clustering metrics expects discrete values but received continuous values for label, and continuous values for target\n",
      "  warnings.warn(msg, UserWarning)\n",
      "/opt/homebrew/Caskroom/miniconda/base/envs/ML_WD/lib/python3.10/site-packages/sklearn/metrics/cluster/_supervised.py:58: UserWarning: Clustering metrics expects discrete values but received continuous values for label, and continuous values for target\n",
      "  warnings.warn(msg, UserWarning)\n",
      "/opt/homebrew/Caskroom/miniconda/base/envs/ML_WD/lib/python3.10/site-packages/sklearn/metrics/cluster/_supervised.py:58: UserWarning: Clustering metrics expects discrete values but received continuous values for label, and continuous values for target\n",
      "  warnings.warn(msg, UserWarning)\n",
      "/opt/homebrew/Caskroom/miniconda/base/envs/ML_WD/lib/python3.10/site-packages/sklearn/metrics/cluster/_supervised.py:58: UserWarning: Clustering metrics expects discrete values but received continuous values for label, and continuous values for target\n",
      "  warnings.warn(msg, UserWarning)\n",
      "/opt/homebrew/Caskroom/miniconda/base/envs/ML_WD/lib/python3.10/site-packages/sklearn/metrics/cluster/_supervised.py:58: UserWarning: Clustering metrics expects discrete values but received continuous values for label, and continuous values for target\n",
      "  warnings.warn(msg, UserWarning)\n",
      "/opt/homebrew/Caskroom/miniconda/base/envs/ML_WD/lib/python3.10/site-packages/sklearn/metrics/cluster/_supervised.py:58: UserWarning: Clustering metrics expects discrete values but received continuous values for label, and continuous values for target\n",
      "  warnings.warn(msg, UserWarning)\n",
      "/opt/homebrew/Caskroom/miniconda/base/envs/ML_WD/lib/python3.10/site-packages/sklearn/metrics/cluster/_supervised.py:58: UserWarning: Clustering metrics expects discrete values but received continuous values for label, and continuous values for target\n",
      "  warnings.warn(msg, UserWarning)\n",
      "/opt/homebrew/Caskroom/miniconda/base/envs/ML_WD/lib/python3.10/site-packages/sklearn/metrics/cluster/_supervised.py:58: UserWarning: Clustering metrics expects discrete values but received continuous values for label, and continuous values for target\n",
      "  warnings.warn(msg, UserWarning)\n",
      "/opt/homebrew/Caskroom/miniconda/base/envs/ML_WD/lib/python3.10/site-packages/sklearn/metrics/cluster/_supervised.py:58: UserWarning: Clustering metrics expects discrete values but received continuous values for label, and continuous values for target\n",
      "  warnings.warn(msg, UserWarning)\n",
      "/opt/homebrew/Caskroom/miniconda/base/envs/ML_WD/lib/python3.10/site-packages/sklearn/metrics/cluster/_supervised.py:58: UserWarning: Clustering metrics expects discrete values but received continuous values for label, and continuous values for target\n",
      "  warnings.warn(msg, UserWarning)\n",
      "/opt/homebrew/Caskroom/miniconda/base/envs/ML_WD/lib/python3.10/site-packages/sklearn/metrics/cluster/_supervised.py:58: UserWarning: Clustering metrics expects discrete values but received continuous values for label, and continuous values for target\n",
      "  warnings.warn(msg, UserWarning)\n",
      "/opt/homebrew/Caskroom/miniconda/base/envs/ML_WD/lib/python3.10/site-packages/sklearn/metrics/cluster/_supervised.py:58: UserWarning: Clustering metrics expects discrete values but received continuous values for label, and continuous values for target\n",
      "  warnings.warn(msg, UserWarning)\n",
      "/opt/homebrew/Caskroom/miniconda/base/envs/ML_WD/lib/python3.10/site-packages/sklearn/metrics/cluster/_supervised.py:58: UserWarning: Clustering metrics expects discrete values but received continuous values for label, and continuous values for target\n",
      "  warnings.warn(msg, UserWarning)\n",
      "/opt/homebrew/Caskroom/miniconda/base/envs/ML_WD/lib/python3.10/site-packages/sklearn/metrics/cluster/_supervised.py:58: UserWarning: Clustering metrics expects discrete values but received continuous values for label, and continuous values for target\n",
      "  warnings.warn(msg, UserWarning)\n",
      "/opt/homebrew/Caskroom/miniconda/base/envs/ML_WD/lib/python3.10/site-packages/sklearn/metrics/cluster/_supervised.py:58: UserWarning: Clustering metrics expects discrete values but received continuous values for label, and continuous values for target\n",
      "  warnings.warn(msg, UserWarning)\n",
      "/opt/homebrew/Caskroom/miniconda/base/envs/ML_WD/lib/python3.10/site-packages/sklearn/metrics/cluster/_supervised.py:58: UserWarning: Clustering metrics expects discrete values but received continuous values for label, and continuous values for target\n",
      "  warnings.warn(msg, UserWarning)\n",
      "/opt/homebrew/Caskroom/miniconda/base/envs/ML_WD/lib/python3.10/site-packages/sklearn/metrics/cluster/_supervised.py:58: UserWarning: Clustering metrics expects discrete values but received continuous values for label, and continuous values for target\n",
      "  warnings.warn(msg, UserWarning)\n",
      "/opt/homebrew/Caskroom/miniconda/base/envs/ML_WD/lib/python3.10/site-packages/sklearn/metrics/cluster/_supervised.py:58: UserWarning: Clustering metrics expects discrete values but received continuous values for label, and continuous values for target\n",
      "  warnings.warn(msg, UserWarning)\n",
      "/opt/homebrew/Caskroom/miniconda/base/envs/ML_WD/lib/python3.10/site-packages/sklearn/metrics/cluster/_supervised.py:58: UserWarning: Clustering metrics expects discrete values but received continuous values for label, and continuous values for target\n",
      "  warnings.warn(msg, UserWarning)\n",
      "/opt/homebrew/Caskroom/miniconda/base/envs/ML_WD/lib/python3.10/site-packages/sklearn/metrics/cluster/_supervised.py:58: UserWarning: Clustering metrics expects discrete values but received continuous values for label, and continuous values for target\n",
      "  warnings.warn(msg, UserWarning)\n",
      "/opt/homebrew/Caskroom/miniconda/base/envs/ML_WD/lib/python3.10/site-packages/sklearn/metrics/cluster/_supervised.py:58: UserWarning: Clustering metrics expects discrete values but received continuous values for label, and continuous values for target\n",
      "  warnings.warn(msg, UserWarning)\n",
      "/opt/homebrew/Caskroom/miniconda/base/envs/ML_WD/lib/python3.10/site-packages/sklearn/metrics/cluster/_supervised.py:58: UserWarning: Clustering metrics expects discrete values but received continuous values for label, and continuous values for target\n",
      "  warnings.warn(msg, UserWarning)\n",
      "/opt/homebrew/Caskroom/miniconda/base/envs/ML_WD/lib/python3.10/site-packages/sklearn/metrics/cluster/_supervised.py:58: UserWarning: Clustering metrics expects discrete values but received continuous values for label, and continuous values for target\n",
      "  warnings.warn(msg, UserWarning)\n",
      "/opt/homebrew/Caskroom/miniconda/base/envs/ML_WD/lib/python3.10/site-packages/sklearn/metrics/cluster/_supervised.py:58: UserWarning: Clustering metrics expects discrete values but received continuous values for label, and continuous values for target\n",
      "  warnings.warn(msg, UserWarning)\n",
      "/opt/homebrew/Caskroom/miniconda/base/envs/ML_WD/lib/python3.10/site-packages/sklearn/metrics/cluster/_supervised.py:58: UserWarning: Clustering metrics expects discrete values but received continuous values for label, and continuous values for target\n",
      "  warnings.warn(msg, UserWarning)\n",
      "/opt/homebrew/Caskroom/miniconda/base/envs/ML_WD/lib/python3.10/site-packages/sklearn/metrics/cluster/_supervised.py:58: UserWarning: Clustering metrics expects discrete values but received continuous values for label, and continuous values for target\n",
      "  warnings.warn(msg, UserWarning)\n",
      "/opt/homebrew/Caskroom/miniconda/base/envs/ML_WD/lib/python3.10/site-packages/sklearn/metrics/cluster/_supervised.py:58: UserWarning: Clustering metrics expects discrete values but received continuous values for label, and continuous values for target\n",
      "  warnings.warn(msg, UserWarning)\n",
      "/opt/homebrew/Caskroom/miniconda/base/envs/ML_WD/lib/python3.10/site-packages/sklearn/metrics/cluster/_supervised.py:58: UserWarning: Clustering metrics expects discrete values but received continuous values for label, and continuous values for target\n",
      "  warnings.warn(msg, UserWarning)\n",
      "/opt/homebrew/Caskroom/miniconda/base/envs/ML_WD/lib/python3.10/site-packages/sklearn/metrics/cluster/_supervised.py:58: UserWarning: Clustering metrics expects discrete values but received continuous values for label, and continuous values for target\n",
      "  warnings.warn(msg, UserWarning)\n",
      "/opt/homebrew/Caskroom/miniconda/base/envs/ML_WD/lib/python3.10/site-packages/sklearn/metrics/cluster/_supervised.py:58: UserWarning: Clustering metrics expects discrete values but received continuous values for label, and continuous values for target\n",
      "  warnings.warn(msg, UserWarning)\n",
      "/opt/homebrew/Caskroom/miniconda/base/envs/ML_WD/lib/python3.10/site-packages/sklearn/metrics/cluster/_supervised.py:58: UserWarning: Clustering metrics expects discrete values but received continuous values for label, and continuous values for target\n",
      "  warnings.warn(msg, UserWarning)\n",
      "/opt/homebrew/Caskroom/miniconda/base/envs/ML_WD/lib/python3.10/site-packages/sklearn/metrics/cluster/_supervised.py:58: UserWarning: Clustering metrics expects discrete values but received continuous values for label, and continuous values for target\n",
      "  warnings.warn(msg, UserWarning)\n",
      "/opt/homebrew/Caskroom/miniconda/base/envs/ML_WD/lib/python3.10/site-packages/sklearn/metrics/cluster/_supervised.py:58: UserWarning: Clustering metrics expects discrete values but received continuous values for label, and continuous values for target\n",
      "  warnings.warn(msg, UserWarning)\n",
      "/opt/homebrew/Caskroom/miniconda/base/envs/ML_WD/lib/python3.10/site-packages/sklearn/metrics/cluster/_supervised.py:58: UserWarning: Clustering metrics expects discrete values but received continuous values for label, and continuous values for target\n",
      "  warnings.warn(msg, UserWarning)\n",
      "/opt/homebrew/Caskroom/miniconda/base/envs/ML_WD/lib/python3.10/site-packages/sklearn/metrics/cluster/_supervised.py:58: UserWarning: Clustering metrics expects discrete values but received continuous values for label, and continuous values for target\n",
      "  warnings.warn(msg, UserWarning)\n",
      "/opt/homebrew/Caskroom/miniconda/base/envs/ML_WD/lib/python3.10/site-packages/sklearn/metrics/cluster/_supervised.py:58: UserWarning: Clustering metrics expects discrete values but received continuous values for label, and continuous values for target\n",
      "  warnings.warn(msg, UserWarning)\n",
      "/opt/homebrew/Caskroom/miniconda/base/envs/ML_WD/lib/python3.10/site-packages/sklearn/metrics/cluster/_supervised.py:58: UserWarning: Clustering metrics expects discrete values but received continuous values for label, and continuous values for target\n",
      "  warnings.warn(msg, UserWarning)\n",
      "/opt/homebrew/Caskroom/miniconda/base/envs/ML_WD/lib/python3.10/site-packages/sklearn/metrics/cluster/_supervised.py:58: UserWarning: Clustering metrics expects discrete values but received continuous values for label, and continuous values for target\n",
      "  warnings.warn(msg, UserWarning)\n",
      "/opt/homebrew/Caskroom/miniconda/base/envs/ML_WD/lib/python3.10/site-packages/sklearn/metrics/cluster/_supervised.py:58: UserWarning: Clustering metrics expects discrete values but received continuous values for label, and continuous values for target\n",
      "  warnings.warn(msg, UserWarning)\n",
      "/opt/homebrew/Caskroom/miniconda/base/envs/ML_WD/lib/python3.10/site-packages/sklearn/metrics/cluster/_supervised.py:58: UserWarning: Clustering metrics expects discrete values but received continuous values for label, and continuous values for target\n",
      "  warnings.warn(msg, UserWarning)\n",
      "/opt/homebrew/Caskroom/miniconda/base/envs/ML_WD/lib/python3.10/site-packages/sklearn/metrics/cluster/_supervised.py:58: UserWarning: Clustering metrics expects discrete values but received continuous values for label, and binary values for target\n",
      "  warnings.warn(msg, UserWarning)\n",
      "/opt/homebrew/Caskroom/miniconda/base/envs/ML_WD/lib/python3.10/site-packages/sklearn/metrics/cluster/_supervised.py:58: UserWarning: Clustering metrics expects discrete values but received continuous values for label, and continuous values for target\n",
      "  warnings.warn(msg, UserWarning)\n",
      "/opt/homebrew/Caskroom/miniconda/base/envs/ML_WD/lib/python3.10/site-packages/sklearn/metrics/cluster/_supervised.py:58: UserWarning: Clustering metrics expects discrete values but received continuous values for label, and continuous values for target\n",
      "  warnings.warn(msg, UserWarning)\n",
      "/opt/homebrew/Caskroom/miniconda/base/envs/ML_WD/lib/python3.10/site-packages/sklearn/metrics/cluster/_supervised.py:58: UserWarning: Clustering metrics expects discrete values but received continuous values for label, and continuous values for target\n",
      "  warnings.warn(msg, UserWarning)\n",
      "/opt/homebrew/Caskroom/miniconda/base/envs/ML_WD/lib/python3.10/site-packages/sklearn/metrics/cluster/_supervised.py:58: UserWarning: Clustering metrics expects discrete values but received continuous values for label, and continuous values for target\n",
      "  warnings.warn(msg, UserWarning)\n",
      "/opt/homebrew/Caskroom/miniconda/base/envs/ML_WD/lib/python3.10/site-packages/sklearn/metrics/cluster/_supervised.py:58: UserWarning: Clustering metrics expects discrete values but received continuous values for label, and continuous values for target\n",
      "  warnings.warn(msg, UserWarning)\n",
      "/opt/homebrew/Caskroom/miniconda/base/envs/ML_WD/lib/python3.10/site-packages/sklearn/metrics/cluster/_supervised.py:58: UserWarning: Clustering metrics expects discrete values but received continuous values for label, and continuous values for target\n",
      "  warnings.warn(msg, UserWarning)\n",
      "/opt/homebrew/Caskroom/miniconda/base/envs/ML_WD/lib/python3.10/site-packages/sklearn/metrics/cluster/_supervised.py:58: UserWarning: Clustering metrics expects discrete values but received continuous values for label, and continuous values for target\n",
      "  warnings.warn(msg, UserWarning)\n",
      "/opt/homebrew/Caskroom/miniconda/base/envs/ML_WD/lib/python3.10/site-packages/sklearn/metrics/cluster/_supervised.py:58: UserWarning: Clustering metrics expects discrete values but received continuous values for label, and continuous values for target\n",
      "  warnings.warn(msg, UserWarning)\n",
      "/opt/homebrew/Caskroom/miniconda/base/envs/ML_WD/lib/python3.10/site-packages/sklearn/metrics/cluster/_supervised.py:58: UserWarning: Clustering metrics expects discrete values but received continuous values for label, and continuous values for target\n",
      "  warnings.warn(msg, UserWarning)\n",
      "/opt/homebrew/Caskroom/miniconda/base/envs/ML_WD/lib/python3.10/site-packages/sklearn/metrics/cluster/_supervised.py:58: UserWarning: Clustering metrics expects discrete values but received continuous values for label, and continuous values for target\n",
      "  warnings.warn(msg, UserWarning)\n",
      "/opt/homebrew/Caskroom/miniconda/base/envs/ML_WD/lib/python3.10/site-packages/sklearn/metrics/cluster/_supervised.py:58: UserWarning: Clustering metrics expects discrete values but received continuous values for label, and continuous values for target\n",
      "  warnings.warn(msg, UserWarning)\n",
      "/opt/homebrew/Caskroom/miniconda/base/envs/ML_WD/lib/python3.10/site-packages/sklearn/metrics/cluster/_supervised.py:58: UserWarning: Clustering metrics expects discrete values but received continuous values for label, and continuous values for target\n",
      "  warnings.warn(msg, UserWarning)\n",
      "/opt/homebrew/Caskroom/miniconda/base/envs/ML_WD/lib/python3.10/site-packages/sklearn/metrics/cluster/_supervised.py:58: UserWarning: Clustering metrics expects discrete values but received continuous values for label, and continuous values for target\n",
      "  warnings.warn(msg, UserWarning)\n",
      "/opt/homebrew/Caskroom/miniconda/base/envs/ML_WD/lib/python3.10/site-packages/sklearn/metrics/cluster/_supervised.py:58: UserWarning: Clustering metrics expects discrete values but received continuous values for label, and continuous values for target\n",
      "  warnings.warn(msg, UserWarning)\n",
      "/opt/homebrew/Caskroom/miniconda/base/envs/ML_WD/lib/python3.10/site-packages/sklearn/metrics/cluster/_supervised.py:58: UserWarning: Clustering metrics expects discrete values but received continuous values for label, and continuous values for target\n",
      "  warnings.warn(msg, UserWarning)\n",
      "/opt/homebrew/Caskroom/miniconda/base/envs/ML_WD/lib/python3.10/site-packages/sklearn/metrics/cluster/_supervised.py:58: UserWarning: Clustering metrics expects discrete values but received continuous values for label, and continuous values for target\n",
      "  warnings.warn(msg, UserWarning)\n",
      "/opt/homebrew/Caskroom/miniconda/base/envs/ML_WD/lib/python3.10/site-packages/sklearn/metrics/cluster/_supervised.py:58: UserWarning: Clustering metrics expects discrete values but received continuous values for label, and continuous values for target\n",
      "  warnings.warn(msg, UserWarning)\n",
      "/opt/homebrew/Caskroom/miniconda/base/envs/ML_WD/lib/python3.10/site-packages/sklearn/metrics/cluster/_supervised.py:58: UserWarning: Clustering metrics expects discrete values but received continuous values for label, and continuous values for target\n",
      "  warnings.warn(msg, UserWarning)\n",
      "/opt/homebrew/Caskroom/miniconda/base/envs/ML_WD/lib/python3.10/site-packages/sklearn/metrics/cluster/_supervised.py:58: UserWarning: Clustering metrics expects discrete values but received continuous values for label, and continuous values for target\n",
      "  warnings.warn(msg, UserWarning)\n",
      "/opt/homebrew/Caskroom/miniconda/base/envs/ML_WD/lib/python3.10/site-packages/sklearn/metrics/cluster/_supervised.py:58: UserWarning: Clustering metrics expects discrete values but received continuous values for label, and continuous values for target\n",
      "  warnings.warn(msg, UserWarning)\n",
      "/opt/homebrew/Caskroom/miniconda/base/envs/ML_WD/lib/python3.10/site-packages/sklearn/metrics/cluster/_supervised.py:58: UserWarning: Clustering metrics expects discrete values but received continuous values for label, and continuous values for target\n",
      "  warnings.warn(msg, UserWarning)\n",
      "/opt/homebrew/Caskroom/miniconda/base/envs/ML_WD/lib/python3.10/site-packages/sklearn/metrics/cluster/_supervised.py:58: UserWarning: Clustering metrics expects discrete values but received continuous values for label, and continuous values for target\n",
      "  warnings.warn(msg, UserWarning)\n",
      "/opt/homebrew/Caskroom/miniconda/base/envs/ML_WD/lib/python3.10/site-packages/sklearn/metrics/cluster/_supervised.py:58: UserWarning: Clustering metrics expects discrete values but received continuous values for label, and continuous values for target\n",
      "  warnings.warn(msg, UserWarning)\n",
      "/opt/homebrew/Caskroom/miniconda/base/envs/ML_WD/lib/python3.10/site-packages/sklearn/metrics/cluster/_supervised.py:58: UserWarning: Clustering metrics expects discrete values but received continuous values for label, and continuous values for target\n",
      "  warnings.warn(msg, UserWarning)\n",
      "/opt/homebrew/Caskroom/miniconda/base/envs/ML_WD/lib/python3.10/site-packages/sklearn/metrics/cluster/_supervised.py:58: UserWarning: Clustering metrics expects discrete values but received continuous values for label, and continuous values for target\n",
      "  warnings.warn(msg, UserWarning)\n",
      "/opt/homebrew/Caskroom/miniconda/base/envs/ML_WD/lib/python3.10/site-packages/sklearn/metrics/cluster/_supervised.py:58: UserWarning: Clustering metrics expects discrete values but received continuous values for label, and continuous values for target\n",
      "  warnings.warn(msg, UserWarning)\n",
      "/opt/homebrew/Caskroom/miniconda/base/envs/ML_WD/lib/python3.10/site-packages/sklearn/metrics/cluster/_supervised.py:58: UserWarning: Clustering metrics expects discrete values but received continuous values for label, and continuous values for target\n",
      "  warnings.warn(msg, UserWarning)\n",
      "/opt/homebrew/Caskroom/miniconda/base/envs/ML_WD/lib/python3.10/site-packages/sklearn/metrics/cluster/_supervised.py:58: UserWarning: Clustering metrics expects discrete values but received continuous values for label, and continuous values for target\n",
      "  warnings.warn(msg, UserWarning)\n",
      "/opt/homebrew/Caskroom/miniconda/base/envs/ML_WD/lib/python3.10/site-packages/sklearn/metrics/cluster/_supervised.py:58: UserWarning: Clustering metrics expects discrete values but received continuous values for label, and continuous values for target\n",
      "  warnings.warn(msg, UserWarning)\n",
      "/opt/homebrew/Caskroom/miniconda/base/envs/ML_WD/lib/python3.10/site-packages/sklearn/metrics/cluster/_supervised.py:58: UserWarning: Clustering metrics expects discrete values but received continuous values for label, and continuous values for target\n",
      "  warnings.warn(msg, UserWarning)\n",
      "/opt/homebrew/Caskroom/miniconda/base/envs/ML_WD/lib/python3.10/site-packages/sklearn/metrics/cluster/_supervised.py:58: UserWarning: Clustering metrics expects discrete values but received continuous values for label, and continuous values for target\n",
      "  warnings.warn(msg, UserWarning)\n",
      "/opt/homebrew/Caskroom/miniconda/base/envs/ML_WD/lib/python3.10/site-packages/sklearn/metrics/cluster/_supervised.py:58: UserWarning: Clustering metrics expects discrete values but received continuous values for label, and continuous values for target\n",
      "  warnings.warn(msg, UserWarning)\n",
      "/opt/homebrew/Caskroom/miniconda/base/envs/ML_WD/lib/python3.10/site-packages/sklearn/metrics/cluster/_supervised.py:58: UserWarning: Clustering metrics expects discrete values but received continuous values for label, and continuous values for target\n",
      "  warnings.warn(msg, UserWarning)\n",
      "/opt/homebrew/Caskroom/miniconda/base/envs/ML_WD/lib/python3.10/site-packages/sklearn/metrics/cluster/_supervised.py:58: UserWarning: Clustering metrics expects discrete values but received continuous values for label, and continuous values for target\n",
      "  warnings.warn(msg, UserWarning)\n",
      "/opt/homebrew/Caskroom/miniconda/base/envs/ML_WD/lib/python3.10/site-packages/sklearn/metrics/cluster/_supervised.py:58: UserWarning: Clustering metrics expects discrete values but received continuous values for label, and continuous values for target\n",
      "  warnings.warn(msg, UserWarning)\n",
      "/opt/homebrew/Caskroom/miniconda/base/envs/ML_WD/lib/python3.10/site-packages/sklearn/metrics/cluster/_supervised.py:58: UserWarning: Clustering metrics expects discrete values but received continuous values for label, and continuous values for target\n",
      "  warnings.warn(msg, UserWarning)\n",
      "/opt/homebrew/Caskroom/miniconda/base/envs/ML_WD/lib/python3.10/site-packages/sklearn/metrics/cluster/_supervised.py:58: UserWarning: Clustering metrics expects discrete values but received continuous values for label, and continuous values for target\n",
      "  warnings.warn(msg, UserWarning)\n",
      "/opt/homebrew/Caskroom/miniconda/base/envs/ML_WD/lib/python3.10/site-packages/sklearn/metrics/cluster/_supervised.py:58: UserWarning: Clustering metrics expects discrete values but received continuous values for label, and continuous values for target\n",
      "  warnings.warn(msg, UserWarning)\n",
      "/opt/homebrew/Caskroom/miniconda/base/envs/ML_WD/lib/python3.10/site-packages/sklearn/metrics/cluster/_supervised.py:58: UserWarning: Clustering metrics expects discrete values but received continuous values for label, and continuous values for target\n",
      "  warnings.warn(msg, UserWarning)\n",
      "/opt/homebrew/Caskroom/miniconda/base/envs/ML_WD/lib/python3.10/site-packages/sklearn/metrics/cluster/_supervised.py:58: UserWarning: Clustering metrics expects discrete values but received continuous values for label, and continuous values for target\n",
      "  warnings.warn(msg, UserWarning)\n",
      "/opt/homebrew/Caskroom/miniconda/base/envs/ML_WD/lib/python3.10/site-packages/sklearn/metrics/cluster/_supervised.py:58: UserWarning: Clustering metrics expects discrete values but received continuous values for label, and continuous values for target\n",
      "  warnings.warn(msg, UserWarning)\n",
      "/opt/homebrew/Caskroom/miniconda/base/envs/ML_WD/lib/python3.10/site-packages/sklearn/metrics/cluster/_supervised.py:58: UserWarning: Clustering metrics expects discrete values but received continuous values for label, and continuous values for target\n",
      "  warnings.warn(msg, UserWarning)\n",
      "/opt/homebrew/Caskroom/miniconda/base/envs/ML_WD/lib/python3.10/site-packages/sklearn/metrics/cluster/_supervised.py:58: UserWarning: Clustering metrics expects discrete values but received continuous values for label, and continuous values for target\n",
      "  warnings.warn(msg, UserWarning)\n",
      "/opt/homebrew/Caskroom/miniconda/base/envs/ML_WD/lib/python3.10/site-packages/sklearn/metrics/cluster/_supervised.py:58: UserWarning: Clustering metrics expects discrete values but received continuous values for label, and continuous values for target\n",
      "  warnings.warn(msg, UserWarning)\n",
      "/opt/homebrew/Caskroom/miniconda/base/envs/ML_WD/lib/python3.10/site-packages/sklearn/metrics/cluster/_supervised.py:58: UserWarning: Clustering metrics expects discrete values but received continuous values for label, and continuous values for target\n",
      "  warnings.warn(msg, UserWarning)\n",
      "/opt/homebrew/Caskroom/miniconda/base/envs/ML_WD/lib/python3.10/site-packages/sklearn/metrics/cluster/_supervised.py:58: UserWarning: Clustering metrics expects discrete values but received continuous values for label, and continuous values for target\n",
      "  warnings.warn(msg, UserWarning)\n",
      "/opt/homebrew/Caskroom/miniconda/base/envs/ML_WD/lib/python3.10/site-packages/sklearn/metrics/cluster/_supervised.py:58: UserWarning: Clustering metrics expects discrete values but received continuous values for label, and continuous values for target\n",
      "  warnings.warn(msg, UserWarning)\n",
      "/opt/homebrew/Caskroom/miniconda/base/envs/ML_WD/lib/python3.10/site-packages/sklearn/metrics/cluster/_supervised.py:58: UserWarning: Clustering metrics expects discrete values but received continuous values for label, and continuous values for target\n",
      "  warnings.warn(msg, UserWarning)\n",
      "/opt/homebrew/Caskroom/miniconda/base/envs/ML_WD/lib/python3.10/site-packages/sklearn/metrics/cluster/_supervised.py:58: UserWarning: Clustering metrics expects discrete values but received continuous values for label, and binary values for target\n",
      "  warnings.warn(msg, UserWarning)\n",
      "/opt/homebrew/Caskroom/miniconda/base/envs/ML_WD/lib/python3.10/site-packages/sklearn/metrics/cluster/_supervised.py:58: UserWarning: Clustering metrics expects discrete values but received continuous values for label, and continuous values for target\n",
      "  warnings.warn(msg, UserWarning)\n",
      "/opt/homebrew/Caskroom/miniconda/base/envs/ML_WD/lib/python3.10/site-packages/sklearn/metrics/cluster/_supervised.py:58: UserWarning: Clustering metrics expects discrete values but received continuous values for label, and continuous values for target\n",
      "  warnings.warn(msg, UserWarning)\n",
      "/opt/homebrew/Caskroom/miniconda/base/envs/ML_WD/lib/python3.10/site-packages/sklearn/metrics/cluster/_supervised.py:58: UserWarning: Clustering metrics expects discrete values but received continuous values for label, and binary values for target\n",
      "  warnings.warn(msg, UserWarning)\n",
      "/opt/homebrew/Caskroom/miniconda/base/envs/ML_WD/lib/python3.10/site-packages/sklearn/metrics/cluster/_supervised.py:58: UserWarning: Clustering metrics expects discrete values but received continuous values for label, and continuous values for target\n",
      "  warnings.warn(msg, UserWarning)\n",
      "/opt/homebrew/Caskroom/miniconda/base/envs/ML_WD/lib/python3.10/site-packages/sklearn/metrics/cluster/_supervised.py:58: UserWarning: Clustering metrics expects discrete values but received continuous values for label, and continuous values for target\n",
      "  warnings.warn(msg, UserWarning)\n",
      "/opt/homebrew/Caskroom/miniconda/base/envs/ML_WD/lib/python3.10/site-packages/sklearn/metrics/cluster/_supervised.py:58: UserWarning: Clustering metrics expects discrete values but received continuous values for label, and continuous values for target\n",
      "  warnings.warn(msg, UserWarning)\n",
      "/opt/homebrew/Caskroom/miniconda/base/envs/ML_WD/lib/python3.10/site-packages/sklearn/metrics/cluster/_supervised.py:58: UserWarning: Clustering metrics expects discrete values but received continuous values for label, and continuous values for target\n",
      "  warnings.warn(msg, UserWarning)\n",
      "/opt/homebrew/Caskroom/miniconda/base/envs/ML_WD/lib/python3.10/site-packages/sklearn/metrics/cluster/_supervised.py:58: UserWarning: Clustering metrics expects discrete values but received continuous values for label, and continuous values for target\n",
      "  warnings.warn(msg, UserWarning)\n",
      "/opt/homebrew/Caskroom/miniconda/base/envs/ML_WD/lib/python3.10/site-packages/sklearn/metrics/cluster/_supervised.py:58: UserWarning: Clustering metrics expects discrete values but received continuous values for label, and continuous values for target\n",
      "  warnings.warn(msg, UserWarning)\n",
      "/opt/homebrew/Caskroom/miniconda/base/envs/ML_WD/lib/python3.10/site-packages/sklearn/metrics/cluster/_supervised.py:58: UserWarning: Clustering metrics expects discrete values but received continuous values for label, and continuous values for target\n",
      "  warnings.warn(msg, UserWarning)\n",
      "/opt/homebrew/Caskroom/miniconda/base/envs/ML_WD/lib/python3.10/site-packages/sklearn/metrics/cluster/_supervised.py:58: UserWarning: Clustering metrics expects discrete values but received continuous values for label, and continuous values for target\n",
      "  warnings.warn(msg, UserWarning)\n",
      "/opt/homebrew/Caskroom/miniconda/base/envs/ML_WD/lib/python3.10/site-packages/sklearn/metrics/cluster/_supervised.py:58: UserWarning: Clustering metrics expects discrete values but received continuous values for label, and binary values for target\n",
      "  warnings.warn(msg, UserWarning)\n",
      "/opt/homebrew/Caskroom/miniconda/base/envs/ML_WD/lib/python3.10/site-packages/sklearn/metrics/cluster/_supervised.py:58: UserWarning: Clustering metrics expects discrete values but received continuous values for label, and continuous values for target\n",
      "  warnings.warn(msg, UserWarning)\n",
      "/opt/homebrew/Caskroom/miniconda/base/envs/ML_WD/lib/python3.10/site-packages/sklearn/metrics/cluster/_supervised.py:58: UserWarning: Clustering metrics expects discrete values but received continuous values for label, and continuous values for target\n",
      "  warnings.warn(msg, UserWarning)\n",
      "/opt/homebrew/Caskroom/miniconda/base/envs/ML_WD/lib/python3.10/site-packages/sklearn/metrics/cluster/_supervised.py:58: UserWarning: Clustering metrics expects discrete values but received continuous values for label, and continuous values for target\n",
      "  warnings.warn(msg, UserWarning)\n",
      "/opt/homebrew/Caskroom/miniconda/base/envs/ML_WD/lib/python3.10/site-packages/sklearn/metrics/cluster/_supervised.py:58: UserWarning: Clustering metrics expects discrete values but received continuous values for label, and continuous values for target\n",
      "  warnings.warn(msg, UserWarning)\n",
      "/opt/homebrew/Caskroom/miniconda/base/envs/ML_WD/lib/python3.10/site-packages/sklearn/metrics/cluster/_supervised.py:58: UserWarning: Clustering metrics expects discrete values but received continuous values for label, and binary values for target\n",
      "  warnings.warn(msg, UserWarning)\n",
      "/opt/homebrew/Caskroom/miniconda/base/envs/ML_WD/lib/python3.10/site-packages/sklearn/metrics/cluster/_supervised.py:58: UserWarning: Clustering metrics expects discrete values but received continuous values for label, and continuous values for target\n",
      "  warnings.warn(msg, UserWarning)\n",
      "/opt/homebrew/Caskroom/miniconda/base/envs/ML_WD/lib/python3.10/site-packages/sklearn/metrics/cluster/_supervised.py:58: UserWarning: Clustering metrics expects discrete values but received continuous values for label, and continuous values for target\n",
      "  warnings.warn(msg, UserWarning)\n",
      "/opt/homebrew/Caskroom/miniconda/base/envs/ML_WD/lib/python3.10/site-packages/sklearn/metrics/cluster/_supervised.py:58: UserWarning: Clustering metrics expects discrete values but received continuous values for label, and continuous values for target\n",
      "  warnings.warn(msg, UserWarning)\n",
      "/opt/homebrew/Caskroom/miniconda/base/envs/ML_WD/lib/python3.10/site-packages/sklearn/metrics/cluster/_supervised.py:58: UserWarning: Clustering metrics expects discrete values but received continuous values for label, and continuous values for target\n",
      "  warnings.warn(msg, UserWarning)\n",
      "/opt/homebrew/Caskroom/miniconda/base/envs/ML_WD/lib/python3.10/site-packages/sklearn/metrics/cluster/_supervised.py:58: UserWarning: Clustering metrics expects discrete values but received continuous values for label, and continuous values for target\n",
      "  warnings.warn(msg, UserWarning)\n",
      "/opt/homebrew/Caskroom/miniconda/base/envs/ML_WD/lib/python3.10/site-packages/sklearn/metrics/cluster/_supervised.py:58: UserWarning: Clustering metrics expects discrete values but received continuous values for label, and binary values for target\n",
      "  warnings.warn(msg, UserWarning)\n",
      "/opt/homebrew/Caskroom/miniconda/base/envs/ML_WD/lib/python3.10/site-packages/sklearn/metrics/cluster/_supervised.py:58: UserWarning: Clustering metrics expects discrete values but received continuous values for label, and continuous values for target\n",
      "  warnings.warn(msg, UserWarning)\n",
      "/opt/homebrew/Caskroom/miniconda/base/envs/ML_WD/lib/python3.10/site-packages/sklearn/metrics/cluster/_supervised.py:58: UserWarning: Clustering metrics expects discrete values but received continuous values for label, and continuous values for target\n",
      "  warnings.warn(msg, UserWarning)\n",
      "/opt/homebrew/Caskroom/miniconda/base/envs/ML_WD/lib/python3.10/site-packages/sklearn/metrics/cluster/_supervised.py:58: UserWarning: Clustering metrics expects discrete values but received continuous values for label, and continuous values for target\n",
      "  warnings.warn(msg, UserWarning)\n",
      "/opt/homebrew/Caskroom/miniconda/base/envs/ML_WD/lib/python3.10/site-packages/sklearn/metrics/cluster/_supervised.py:58: UserWarning: Clustering metrics expects discrete values but received continuous values for label, and continuous values for target\n",
      "  warnings.warn(msg, UserWarning)\n",
      "/opt/homebrew/Caskroom/miniconda/base/envs/ML_WD/lib/python3.10/site-packages/sklearn/metrics/cluster/_supervised.py:58: UserWarning: Clustering metrics expects discrete values but received continuous values for label, and continuous values for target\n",
      "  warnings.warn(msg, UserWarning)\n",
      "/opt/homebrew/Caskroom/miniconda/base/envs/ML_WD/lib/python3.10/site-packages/sklearn/metrics/cluster/_supervised.py:58: UserWarning: Clustering metrics expects discrete values but received continuous values for label, and continuous values for target\n",
      "  warnings.warn(msg, UserWarning)\n",
      "/opt/homebrew/Caskroom/miniconda/base/envs/ML_WD/lib/python3.10/site-packages/sklearn/metrics/cluster/_supervised.py:58: UserWarning: Clustering metrics expects discrete values but received continuous values for label, and binary values for target\n",
      "  warnings.warn(msg, UserWarning)\n",
      "/opt/homebrew/Caskroom/miniconda/base/envs/ML_WD/lib/python3.10/site-packages/sklearn/metrics/cluster/_supervised.py:58: UserWarning: Clustering metrics expects discrete values but received continuous values for label, and continuous values for target\n",
      "  warnings.warn(msg, UserWarning)\n",
      "/opt/homebrew/Caskroom/miniconda/base/envs/ML_WD/lib/python3.10/site-packages/sklearn/metrics/cluster/_supervised.py:58: UserWarning: Clustering metrics expects discrete values but received continuous values for label, and continuous values for target\n",
      "  warnings.warn(msg, UserWarning)\n",
      "/opt/homebrew/Caskroom/miniconda/base/envs/ML_WD/lib/python3.10/site-packages/sklearn/metrics/cluster/_supervised.py:58: UserWarning: Clustering metrics expects discrete values but received continuous values for label, and continuous values for target\n",
      "  warnings.warn(msg, UserWarning)\n",
      "/opt/homebrew/Caskroom/miniconda/base/envs/ML_WD/lib/python3.10/site-packages/sklearn/metrics/cluster/_supervised.py:58: UserWarning: Clustering metrics expects discrete values but received continuous values for label, and continuous values for target\n",
      "  warnings.warn(msg, UserWarning)\n",
      "/opt/homebrew/Caskroom/miniconda/base/envs/ML_WD/lib/python3.10/site-packages/sklearn/metrics/cluster/_supervised.py:58: UserWarning: Clustering metrics expects discrete values but received continuous values for label, and continuous values for target\n",
      "  warnings.warn(msg, UserWarning)\n",
      "/opt/homebrew/Caskroom/miniconda/base/envs/ML_WD/lib/python3.10/site-packages/sklearn/metrics/cluster/_supervised.py:58: UserWarning: Clustering metrics expects discrete values but received continuous values for label, and continuous values for target\n",
      "  warnings.warn(msg, UserWarning)\n",
      "/opt/homebrew/Caskroom/miniconda/base/envs/ML_WD/lib/python3.10/site-packages/sklearn/metrics/cluster/_supervised.py:58: UserWarning: Clustering metrics expects discrete values but received continuous values for label, and continuous values for target\n",
      "  warnings.warn(msg, UserWarning)\n",
      "/opt/homebrew/Caskroom/miniconda/base/envs/ML_WD/lib/python3.10/site-packages/sklearn/metrics/cluster/_supervised.py:58: UserWarning: Clustering metrics expects discrete values but received continuous values for label, and continuous values for target\n",
      "  warnings.warn(msg, UserWarning)\n",
      "/opt/homebrew/Caskroom/miniconda/base/envs/ML_WD/lib/python3.10/site-packages/sklearn/metrics/cluster/_supervised.py:58: UserWarning: Clustering metrics expects discrete values but received continuous values for label, and continuous values for target\n",
      "  warnings.warn(msg, UserWarning)\n",
      "/opt/homebrew/Caskroom/miniconda/base/envs/ML_WD/lib/python3.10/site-packages/sklearn/metrics/cluster/_supervised.py:58: UserWarning: Clustering metrics expects discrete values but received continuous values for label, and continuous values for target\n",
      "  warnings.warn(msg, UserWarning)\n",
      "/opt/homebrew/Caskroom/miniconda/base/envs/ML_WD/lib/python3.10/site-packages/sklearn/metrics/cluster/_supervised.py:58: UserWarning: Clustering metrics expects discrete values but received continuous values for label, and continuous values for target\n",
      "  warnings.warn(msg, UserWarning)\n",
      "/opt/homebrew/Caskroom/miniconda/base/envs/ML_WD/lib/python3.10/site-packages/sklearn/metrics/cluster/_supervised.py:58: UserWarning: Clustering metrics expects discrete values but received continuous values for label, and continuous values for target\n",
      "  warnings.warn(msg, UserWarning)\n",
      "/opt/homebrew/Caskroom/miniconda/base/envs/ML_WD/lib/python3.10/site-packages/sklearn/metrics/cluster/_supervised.py:58: UserWarning: Clustering metrics expects discrete values but received continuous values for label, and continuous values for target\n",
      "  warnings.warn(msg, UserWarning)\n",
      "/opt/homebrew/Caskroom/miniconda/base/envs/ML_WD/lib/python3.10/site-packages/sklearn/metrics/cluster/_supervised.py:58: UserWarning: Clustering metrics expects discrete values but received continuous values for label, and continuous values for target\n",
      "  warnings.warn(msg, UserWarning)\n",
      "/opt/homebrew/Caskroom/miniconda/base/envs/ML_WD/lib/python3.10/site-packages/sklearn/metrics/cluster/_supervised.py:58: UserWarning: Clustering metrics expects discrete values but received continuous values for label, and continuous values for target\n",
      "  warnings.warn(msg, UserWarning)\n",
      "/opt/homebrew/Caskroom/miniconda/base/envs/ML_WD/lib/python3.10/site-packages/sklearn/metrics/cluster/_supervised.py:58: UserWarning: Clustering metrics expects discrete values but received continuous values for label, and continuous values for target\n",
      "  warnings.warn(msg, UserWarning)\n",
      "/opt/homebrew/Caskroom/miniconda/base/envs/ML_WD/lib/python3.10/site-packages/sklearn/metrics/cluster/_supervised.py:58: UserWarning: Clustering metrics expects discrete values but received continuous values for label, and continuous values for target\n",
      "  warnings.warn(msg, UserWarning)\n",
      "/opt/homebrew/Caskroom/miniconda/base/envs/ML_WD/lib/python3.10/site-packages/sklearn/metrics/cluster/_supervised.py:58: UserWarning: Clustering metrics expects discrete values but received continuous values for label, and continuous values for target\n",
      "  warnings.warn(msg, UserWarning)\n",
      "/opt/homebrew/Caskroom/miniconda/base/envs/ML_WD/lib/python3.10/site-packages/sklearn/metrics/cluster/_supervised.py:58: UserWarning: Clustering metrics expects discrete values but received continuous values for label, and continuous values for target\n",
      "  warnings.warn(msg, UserWarning)\n",
      "/opt/homebrew/Caskroom/miniconda/base/envs/ML_WD/lib/python3.10/site-packages/sklearn/metrics/cluster/_supervised.py:58: UserWarning: Clustering metrics expects discrete values but received continuous values for label, and continuous values for target\n",
      "  warnings.warn(msg, UserWarning)\n",
      "/opt/homebrew/Caskroom/miniconda/base/envs/ML_WD/lib/python3.10/site-packages/sklearn/metrics/cluster/_supervised.py:58: UserWarning: Clustering metrics expects discrete values but received continuous values for label, and continuous values for target\n",
      "  warnings.warn(msg, UserWarning)\n",
      "/opt/homebrew/Caskroom/miniconda/base/envs/ML_WD/lib/python3.10/site-packages/sklearn/metrics/cluster/_supervised.py:58: UserWarning: Clustering metrics expects discrete values but received continuous values for label, and continuous values for target\n",
      "  warnings.warn(msg, UserWarning)\n",
      "/opt/homebrew/Caskroom/miniconda/base/envs/ML_WD/lib/python3.10/site-packages/sklearn/metrics/cluster/_supervised.py:58: UserWarning: Clustering metrics expects discrete values but received continuous values for label, and continuous values for target\n",
      "  warnings.warn(msg, UserWarning)\n",
      "/opt/homebrew/Caskroom/miniconda/base/envs/ML_WD/lib/python3.10/site-packages/sklearn/metrics/cluster/_supervised.py:58: UserWarning: Clustering metrics expects discrete values but received continuous values for label, and continuous values for target\n",
      "  warnings.warn(msg, UserWarning)\n",
      "/opt/homebrew/Caskroom/miniconda/base/envs/ML_WD/lib/python3.10/site-packages/sklearn/metrics/cluster/_supervised.py:58: UserWarning: Clustering metrics expects discrete values but received continuous values for label, and continuous values for target\n",
      "  warnings.warn(msg, UserWarning)\n",
      "/opt/homebrew/Caskroom/miniconda/base/envs/ML_WD/lib/python3.10/site-packages/sklearn/metrics/cluster/_supervised.py:58: UserWarning: Clustering metrics expects discrete values but received continuous values for label, and continuous values for target\n",
      "  warnings.warn(msg, UserWarning)\n",
      "/opt/homebrew/Caskroom/miniconda/base/envs/ML_WD/lib/python3.10/site-packages/sklearn/metrics/cluster/_supervised.py:58: UserWarning: Clustering metrics expects discrete values but received continuous values for label, and continuous values for target\n",
      "  warnings.warn(msg, UserWarning)\n",
      "/opt/homebrew/Caskroom/miniconda/base/envs/ML_WD/lib/python3.10/site-packages/sklearn/metrics/cluster/_supervised.py:58: UserWarning: Clustering metrics expects discrete values but received continuous values for label, and continuous values for target\n",
      "  warnings.warn(msg, UserWarning)\n",
      "/opt/homebrew/Caskroom/miniconda/base/envs/ML_WD/lib/python3.10/site-packages/sklearn/metrics/cluster/_supervised.py:58: UserWarning: Clustering metrics expects discrete values but received continuous values for label, and continuous values for target\n",
      "  warnings.warn(msg, UserWarning)\n",
      "/opt/homebrew/Caskroom/miniconda/base/envs/ML_WD/lib/python3.10/site-packages/sklearn/metrics/cluster/_supervised.py:58: UserWarning: Clustering metrics expects discrete values but received continuous values for label, and continuous values for target\n",
      "  warnings.warn(msg, UserWarning)\n",
      "/opt/homebrew/Caskroom/miniconda/base/envs/ML_WD/lib/python3.10/site-packages/sklearn/metrics/cluster/_supervised.py:58: UserWarning: Clustering metrics expects discrete values but received continuous values for label, and continuous values for target\n",
      "  warnings.warn(msg, UserWarning)\n",
      "/opt/homebrew/Caskroom/miniconda/base/envs/ML_WD/lib/python3.10/site-packages/sklearn/metrics/cluster/_supervised.py:58: UserWarning: Clustering metrics expects discrete values but received continuous values for label, and continuous values for target\n",
      "  warnings.warn(msg, UserWarning)\n",
      "/opt/homebrew/Caskroom/miniconda/base/envs/ML_WD/lib/python3.10/site-packages/sklearn/metrics/cluster/_supervised.py:58: UserWarning: Clustering metrics expects discrete values but received continuous values for label, and continuous values for target\n",
      "  warnings.warn(msg, UserWarning)\n",
      "/opt/homebrew/Caskroom/miniconda/base/envs/ML_WD/lib/python3.10/site-packages/sklearn/metrics/cluster/_supervised.py:58: UserWarning: Clustering metrics expects discrete values but received continuous values for label, and continuous values for target\n",
      "  warnings.warn(msg, UserWarning)\n",
      "/opt/homebrew/Caskroom/miniconda/base/envs/ML_WD/lib/python3.10/site-packages/sklearn/metrics/cluster/_supervised.py:58: UserWarning: Clustering metrics expects discrete values but received continuous values for label, and continuous values for target\n",
      "  warnings.warn(msg, UserWarning)\n",
      "/opt/homebrew/Caskroom/miniconda/base/envs/ML_WD/lib/python3.10/site-packages/sklearn/metrics/cluster/_supervised.py:58: UserWarning: Clustering metrics expects discrete values but received continuous values for label, and continuous values for target\n",
      "  warnings.warn(msg, UserWarning)\n",
      "/opt/homebrew/Caskroom/miniconda/base/envs/ML_WD/lib/python3.10/site-packages/sklearn/metrics/cluster/_supervised.py:58: UserWarning: Clustering metrics expects discrete values but received continuous values for label, and continuous values for target\n",
      "  warnings.warn(msg, UserWarning)\n",
      "/opt/homebrew/Caskroom/miniconda/base/envs/ML_WD/lib/python3.10/site-packages/sklearn/metrics/cluster/_supervised.py:58: UserWarning: Clustering metrics expects discrete values but received continuous values for label, and continuous values for target\n",
      "  warnings.warn(msg, UserWarning)\n",
      "/opt/homebrew/Caskroom/miniconda/base/envs/ML_WD/lib/python3.10/site-packages/sklearn/metrics/cluster/_supervised.py:58: UserWarning: Clustering metrics expects discrete values but received continuous values for label, and continuous values for target\n",
      "  warnings.warn(msg, UserWarning)\n",
      "/opt/homebrew/Caskroom/miniconda/base/envs/ML_WD/lib/python3.10/site-packages/sklearn/metrics/cluster/_supervised.py:58: UserWarning: Clustering metrics expects discrete values but received continuous values for label, and continuous values for target\n",
      "  warnings.warn(msg, UserWarning)\n",
      "/opt/homebrew/Caskroom/miniconda/base/envs/ML_WD/lib/python3.10/site-packages/sklearn/metrics/cluster/_supervised.py:58: UserWarning: Clustering metrics expects discrete values but received continuous values for label, and continuous values for target\n",
      "  warnings.warn(msg, UserWarning)\n",
      "/opt/homebrew/Caskroom/miniconda/base/envs/ML_WD/lib/python3.10/site-packages/sklearn/metrics/cluster/_supervised.py:58: UserWarning: Clustering metrics expects discrete values but received continuous values for label, and continuous values for target\n",
      "  warnings.warn(msg, UserWarning)\n",
      "/opt/homebrew/Caskroom/miniconda/base/envs/ML_WD/lib/python3.10/site-packages/sklearn/metrics/cluster/_supervised.py:58: UserWarning: Clustering metrics expects discrete values but received continuous values for label, and continuous values for target\n",
      "  warnings.warn(msg, UserWarning)\n",
      "/opt/homebrew/Caskroom/miniconda/base/envs/ML_WD/lib/python3.10/site-packages/sklearn/metrics/cluster/_supervised.py:58: UserWarning: Clustering metrics expects discrete values but received continuous values for label, and continuous values for target\n",
      "  warnings.warn(msg, UserWarning)\n",
      "/opt/homebrew/Caskroom/miniconda/base/envs/ML_WD/lib/python3.10/site-packages/sklearn/metrics/cluster/_supervised.py:58: UserWarning: Clustering metrics expects discrete values but received continuous values for label, and continuous values for target\n",
      "  warnings.warn(msg, UserWarning)\n",
      "/opt/homebrew/Caskroom/miniconda/base/envs/ML_WD/lib/python3.10/site-packages/sklearn/metrics/cluster/_supervised.py:58: UserWarning: Clustering metrics expects discrete values but received continuous values for label, and continuous values for target\n",
      "  warnings.warn(msg, UserWarning)\n",
      "/opt/homebrew/Caskroom/miniconda/base/envs/ML_WD/lib/python3.10/site-packages/sklearn/metrics/cluster/_supervised.py:58: UserWarning: Clustering metrics expects discrete values but received continuous values for label, and continuous values for target\n",
      "  warnings.warn(msg, UserWarning)\n",
      "/opt/homebrew/Caskroom/miniconda/base/envs/ML_WD/lib/python3.10/site-packages/sklearn/metrics/cluster/_supervised.py:58: UserWarning: Clustering metrics expects discrete values but received continuous values for label, and continuous values for target\n",
      "  warnings.warn(msg, UserWarning)\n",
      "/opt/homebrew/Caskroom/miniconda/base/envs/ML_WD/lib/python3.10/site-packages/sklearn/metrics/cluster/_supervised.py:58: UserWarning: Clustering metrics expects discrete values but received continuous values for label, and continuous values for target\n",
      "  warnings.warn(msg, UserWarning)\n",
      "/opt/homebrew/Caskroom/miniconda/base/envs/ML_WD/lib/python3.10/site-packages/sklearn/metrics/cluster/_supervised.py:58: UserWarning: Clustering metrics expects discrete values but received continuous values for label, and continuous values for target\n",
      "  warnings.warn(msg, UserWarning)\n",
      "/opt/homebrew/Caskroom/miniconda/base/envs/ML_WD/lib/python3.10/site-packages/sklearn/metrics/cluster/_supervised.py:58: UserWarning: Clustering metrics expects discrete values but received continuous values for label, and continuous values for target\n",
      "  warnings.warn(msg, UserWarning)\n",
      "/opt/homebrew/Caskroom/miniconda/base/envs/ML_WD/lib/python3.10/site-packages/sklearn/metrics/cluster/_supervised.py:58: UserWarning: Clustering metrics expects discrete values but received continuous values for label, and continuous values for target\n",
      "  warnings.warn(msg, UserWarning)\n",
      "/opt/homebrew/Caskroom/miniconda/base/envs/ML_WD/lib/python3.10/site-packages/sklearn/metrics/cluster/_supervised.py:58: UserWarning: Clustering metrics expects discrete values but received continuous values for label, and continuous values for target\n",
      "  warnings.warn(msg, UserWarning)\n",
      "/opt/homebrew/Caskroom/miniconda/base/envs/ML_WD/lib/python3.10/site-packages/sklearn/metrics/cluster/_supervised.py:58: UserWarning: Clustering metrics expects discrete values but received continuous values for label, and continuous values for target\n",
      "  warnings.warn(msg, UserWarning)\n",
      "/opt/homebrew/Caskroom/miniconda/base/envs/ML_WD/lib/python3.10/site-packages/sklearn/metrics/cluster/_supervised.py:58: UserWarning: Clustering metrics expects discrete values but received continuous values for label, and continuous values for target\n",
      "  warnings.warn(msg, UserWarning)\n",
      "/opt/homebrew/Caskroom/miniconda/base/envs/ML_WD/lib/python3.10/site-packages/sklearn/metrics/cluster/_supervised.py:58: UserWarning: Clustering metrics expects discrete values but received continuous values for label, and continuous values for target\n",
      "  warnings.warn(msg, UserWarning)\n",
      "/opt/homebrew/Caskroom/miniconda/base/envs/ML_WD/lib/python3.10/site-packages/sklearn/metrics/cluster/_supervised.py:58: UserWarning: Clustering metrics expects discrete values but received continuous values for label, and continuous values for target\n",
      "  warnings.warn(msg, UserWarning)\n",
      "/opt/homebrew/Caskroom/miniconda/base/envs/ML_WD/lib/python3.10/site-packages/sklearn/metrics/cluster/_supervised.py:58: UserWarning: Clustering metrics expects discrete values but received continuous values for label, and continuous values for target\n",
      "  warnings.warn(msg, UserWarning)\n",
      "/opt/homebrew/Caskroom/miniconda/base/envs/ML_WD/lib/python3.10/site-packages/sklearn/metrics/cluster/_supervised.py:58: UserWarning: Clustering metrics expects discrete values but received continuous values for label, and continuous values for target\n",
      "  warnings.warn(msg, UserWarning)\n",
      "/opt/homebrew/Caskroom/miniconda/base/envs/ML_WD/lib/python3.10/site-packages/sklearn/metrics/cluster/_supervised.py:58: UserWarning: Clustering metrics expects discrete values but received continuous values for label, and continuous values for target\n",
      "  warnings.warn(msg, UserWarning)\n",
      "/opt/homebrew/Caskroom/miniconda/base/envs/ML_WD/lib/python3.10/site-packages/sklearn/metrics/cluster/_supervised.py:58: UserWarning: Clustering metrics expects discrete values but received continuous values for label, and continuous values for target\n",
      "  warnings.warn(msg, UserWarning)\n",
      "/opt/homebrew/Caskroom/miniconda/base/envs/ML_WD/lib/python3.10/site-packages/sklearn/metrics/cluster/_supervised.py:58: UserWarning: Clustering metrics expects discrete values but received continuous values for label, and continuous values for target\n",
      "  warnings.warn(msg, UserWarning)\n",
      "/opt/homebrew/Caskroom/miniconda/base/envs/ML_WD/lib/python3.10/site-packages/sklearn/metrics/cluster/_supervised.py:58: UserWarning: Clustering metrics expects discrete values but received continuous values for label, and continuous values for target\n",
      "  warnings.warn(msg, UserWarning)\n",
      "/opt/homebrew/Caskroom/miniconda/base/envs/ML_WD/lib/python3.10/site-packages/sklearn/metrics/cluster/_supervised.py:58: UserWarning: Clustering metrics expects discrete values but received continuous values for label, and continuous values for target\n",
      "  warnings.warn(msg, UserWarning)\n",
      "/opt/homebrew/Caskroom/miniconda/base/envs/ML_WD/lib/python3.10/site-packages/sklearn/metrics/cluster/_supervised.py:58: UserWarning: Clustering metrics expects discrete values but received continuous values for label, and continuous values for target\n",
      "  warnings.warn(msg, UserWarning)\n",
      "/opt/homebrew/Caskroom/miniconda/base/envs/ML_WD/lib/python3.10/site-packages/sklearn/metrics/cluster/_supervised.py:58: UserWarning: Clustering metrics expects discrete values but received continuous values for label, and continuous values for target\n",
      "  warnings.warn(msg, UserWarning)\n",
      "/opt/homebrew/Caskroom/miniconda/base/envs/ML_WD/lib/python3.10/site-packages/sklearn/metrics/cluster/_supervised.py:58: UserWarning: Clustering metrics expects discrete values but received continuous values for label, and continuous values for target\n",
      "  warnings.warn(msg, UserWarning)\n",
      "/opt/homebrew/Caskroom/miniconda/base/envs/ML_WD/lib/python3.10/site-packages/sklearn/metrics/cluster/_supervised.py:58: UserWarning: Clustering metrics expects discrete values but received continuous values for label, and continuous values for target\n",
      "  warnings.warn(msg, UserWarning)\n",
      "/opt/homebrew/Caskroom/miniconda/base/envs/ML_WD/lib/python3.10/site-packages/sklearn/metrics/cluster/_supervised.py:58: UserWarning: Clustering metrics expects discrete values but received continuous values for label, and continuous values for target\n",
      "  warnings.warn(msg, UserWarning)\n",
      "/opt/homebrew/Caskroom/miniconda/base/envs/ML_WD/lib/python3.10/site-packages/sklearn/metrics/cluster/_supervised.py:58: UserWarning: Clustering metrics expects discrete values but received continuous values for label, and continuous values for target\n",
      "  warnings.warn(msg, UserWarning)\n",
      "/opt/homebrew/Caskroom/miniconda/base/envs/ML_WD/lib/python3.10/site-packages/sklearn/metrics/cluster/_supervised.py:58: UserWarning: Clustering metrics expects discrete values but received continuous values for label, and continuous values for target\n",
      "  warnings.warn(msg, UserWarning)\n",
      "/opt/homebrew/Caskroom/miniconda/base/envs/ML_WD/lib/python3.10/site-packages/sklearn/metrics/cluster/_supervised.py:58: UserWarning: Clustering metrics expects discrete values but received continuous values for label, and continuous values for target\n",
      "  warnings.warn(msg, UserWarning)\n",
      "/opt/homebrew/Caskroom/miniconda/base/envs/ML_WD/lib/python3.10/site-packages/sklearn/metrics/cluster/_supervised.py:58: UserWarning: Clustering metrics expects discrete values but received continuous values for label, and continuous values for target\n",
      "  warnings.warn(msg, UserWarning)\n",
      "/opt/homebrew/Caskroom/miniconda/base/envs/ML_WD/lib/python3.10/site-packages/sklearn/metrics/cluster/_supervised.py:58: UserWarning: Clustering metrics expects discrete values but received continuous values for label, and continuous values for target\n",
      "  warnings.warn(msg, UserWarning)\n",
      "/opt/homebrew/Caskroom/miniconda/base/envs/ML_WD/lib/python3.10/site-packages/sklearn/metrics/cluster/_supervised.py:58: UserWarning: Clustering metrics expects discrete values but received continuous values for label, and continuous values for target\n",
      "  warnings.warn(msg, UserWarning)\n",
      "/opt/homebrew/Caskroom/miniconda/base/envs/ML_WD/lib/python3.10/site-packages/sklearn/metrics/cluster/_supervised.py:58: UserWarning: Clustering metrics expects discrete values but received continuous values for label, and continuous values for target\n",
      "  warnings.warn(msg, UserWarning)\n",
      "/opt/homebrew/Caskroom/miniconda/base/envs/ML_WD/lib/python3.10/site-packages/sklearn/metrics/cluster/_supervised.py:58: UserWarning: Clustering metrics expects discrete values but received continuous values for label, and continuous values for target\n",
      "  warnings.warn(msg, UserWarning)\n",
      "/opt/homebrew/Caskroom/miniconda/base/envs/ML_WD/lib/python3.10/site-packages/sklearn/metrics/cluster/_supervised.py:58: UserWarning: Clustering metrics expects discrete values but received continuous values for label, and continuous values for target\n",
      "  warnings.warn(msg, UserWarning)\n",
      "/opt/homebrew/Caskroom/miniconda/base/envs/ML_WD/lib/python3.10/site-packages/sklearn/metrics/cluster/_supervised.py:58: UserWarning: Clustering metrics expects discrete values but received continuous values for label, and continuous values for target\n",
      "  warnings.warn(msg, UserWarning)\n",
      "/opt/homebrew/Caskroom/miniconda/base/envs/ML_WD/lib/python3.10/site-packages/sklearn/metrics/cluster/_supervised.py:58: UserWarning: Clustering metrics expects discrete values but received continuous values for label, and continuous values for target\n",
      "  warnings.warn(msg, UserWarning)\n",
      "/opt/homebrew/Caskroom/miniconda/base/envs/ML_WD/lib/python3.10/site-packages/sklearn/metrics/cluster/_supervised.py:58: UserWarning: Clustering metrics expects discrete values but received continuous values for label, and continuous values for target\n",
      "  warnings.warn(msg, UserWarning)\n",
      "/opt/homebrew/Caskroom/miniconda/base/envs/ML_WD/lib/python3.10/site-packages/sklearn/metrics/cluster/_supervised.py:58: UserWarning: Clustering metrics expects discrete values but received continuous values for label, and continuous values for target\n",
      "  warnings.warn(msg, UserWarning)\n",
      "/opt/homebrew/Caskroom/miniconda/base/envs/ML_WD/lib/python3.10/site-packages/sklearn/metrics/cluster/_supervised.py:58: UserWarning: Clustering metrics expects discrete values but received continuous values for label, and continuous values for target\n",
      "  warnings.warn(msg, UserWarning)\n",
      "/opt/homebrew/Caskroom/miniconda/base/envs/ML_WD/lib/python3.10/site-packages/sklearn/metrics/cluster/_supervised.py:58: UserWarning: Clustering metrics expects discrete values but received continuous values for label, and continuous values for target\n",
      "  warnings.warn(msg, UserWarning)\n",
      "/opt/homebrew/Caskroom/miniconda/base/envs/ML_WD/lib/python3.10/site-packages/sklearn/metrics/cluster/_supervised.py:58: UserWarning: Clustering metrics expects discrete values but received continuous values for label, and continuous values for target\n",
      "  warnings.warn(msg, UserWarning)\n",
      "/opt/homebrew/Caskroom/miniconda/base/envs/ML_WD/lib/python3.10/site-packages/sklearn/metrics/cluster/_supervised.py:58: UserWarning: Clustering metrics expects discrete values but received continuous values for label, and continuous values for target\n",
      "  warnings.warn(msg, UserWarning)\n",
      "/opt/homebrew/Caskroom/miniconda/base/envs/ML_WD/lib/python3.10/site-packages/sklearn/metrics/cluster/_supervised.py:58: UserWarning: Clustering metrics expects discrete values but received continuous values for label, and continuous values for target\n",
      "  warnings.warn(msg, UserWarning)\n",
      "/opt/homebrew/Caskroom/miniconda/base/envs/ML_WD/lib/python3.10/site-packages/sklearn/metrics/cluster/_supervised.py:58: UserWarning: Clustering metrics expects discrete values but received continuous values for label, and continuous values for target\n",
      "  warnings.warn(msg, UserWarning)\n",
      "/opt/homebrew/Caskroom/miniconda/base/envs/ML_WD/lib/python3.10/site-packages/sklearn/metrics/cluster/_supervised.py:58: UserWarning: Clustering metrics expects discrete values but received continuous values for label, and continuous values for target\n",
      "  warnings.warn(msg, UserWarning)\n",
      "/opt/homebrew/Caskroom/miniconda/base/envs/ML_WD/lib/python3.10/site-packages/sklearn/metrics/cluster/_supervised.py:58: UserWarning: Clustering metrics expects discrete values but received continuous values for label, and continuous values for target\n",
      "  warnings.warn(msg, UserWarning)\n",
      "/opt/homebrew/Caskroom/miniconda/base/envs/ML_WD/lib/python3.10/site-packages/sklearn/metrics/cluster/_supervised.py:58: UserWarning: Clustering metrics expects discrete values but received continuous values for label, and continuous values for target\n",
      "  warnings.warn(msg, UserWarning)\n",
      "/opt/homebrew/Caskroom/miniconda/base/envs/ML_WD/lib/python3.10/site-packages/sklearn/metrics/cluster/_supervised.py:58: UserWarning: Clustering metrics expects discrete values but received continuous values for label, and continuous values for target\n",
      "  warnings.warn(msg, UserWarning)\n",
      "/opt/homebrew/Caskroom/miniconda/base/envs/ML_WD/lib/python3.10/site-packages/sklearn/metrics/cluster/_supervised.py:58: UserWarning: Clustering metrics expects discrete values but received continuous values for label, and continuous values for target\n",
      "  warnings.warn(msg, UserWarning)\n",
      "/opt/homebrew/Caskroom/miniconda/base/envs/ML_WD/lib/python3.10/site-packages/sklearn/metrics/cluster/_supervised.py:58: UserWarning: Clustering metrics expects discrete values but received continuous values for label, and continuous values for target\n",
      "  warnings.warn(msg, UserWarning)\n",
      "/opt/homebrew/Caskroom/miniconda/base/envs/ML_WD/lib/python3.10/site-packages/sklearn/metrics/cluster/_supervised.py:58: UserWarning: Clustering metrics expects discrete values but received continuous values for label, and continuous values for target\n",
      "  warnings.warn(msg, UserWarning)\n",
      "/opt/homebrew/Caskroom/miniconda/base/envs/ML_WD/lib/python3.10/site-packages/sklearn/metrics/cluster/_supervised.py:58: UserWarning: Clustering metrics expects discrete values but received continuous values for label, and continuous values for target\n",
      "  warnings.warn(msg, UserWarning)\n",
      "/opt/homebrew/Caskroom/miniconda/base/envs/ML_WD/lib/python3.10/site-packages/sklearn/metrics/cluster/_supervised.py:58: UserWarning: Clustering metrics expects discrete values but received continuous values for label, and continuous values for target\n",
      "  warnings.warn(msg, UserWarning)\n",
      "/opt/homebrew/Caskroom/miniconda/base/envs/ML_WD/lib/python3.10/site-packages/sklearn/metrics/cluster/_supervised.py:58: UserWarning: Clustering metrics expects discrete values but received continuous values for label, and continuous values for target\n",
      "  warnings.warn(msg, UserWarning)\n",
      "/opt/homebrew/Caskroom/miniconda/base/envs/ML_WD/lib/python3.10/site-packages/sklearn/metrics/cluster/_supervised.py:58: UserWarning: Clustering metrics expects discrete values but received continuous values for label, and continuous values for target\n",
      "  warnings.warn(msg, UserWarning)\n",
      "/opt/homebrew/Caskroom/miniconda/base/envs/ML_WD/lib/python3.10/site-packages/sklearn/metrics/cluster/_supervised.py:58: UserWarning: Clustering metrics expects discrete values but received continuous values for label, and continuous values for target\n",
      "  warnings.warn(msg, UserWarning)\n",
      "/opt/homebrew/Caskroom/miniconda/base/envs/ML_WD/lib/python3.10/site-packages/sklearn/metrics/cluster/_supervised.py:58: UserWarning: Clustering metrics expects discrete values but received continuous values for label, and continuous values for target\n",
      "  warnings.warn(msg, UserWarning)\n",
      "/opt/homebrew/Caskroom/miniconda/base/envs/ML_WD/lib/python3.10/site-packages/sklearn/metrics/cluster/_supervised.py:58: UserWarning: Clustering metrics expects discrete values but received continuous values for label, and continuous values for target\n",
      "  warnings.warn(msg, UserWarning)\n",
      "/opt/homebrew/Caskroom/miniconda/base/envs/ML_WD/lib/python3.10/site-packages/sklearn/metrics/cluster/_supervised.py:58: UserWarning: Clustering metrics expects discrete values but received continuous values for label, and continuous values for target\n",
      "  warnings.warn(msg, UserWarning)\n",
      "/opt/homebrew/Caskroom/miniconda/base/envs/ML_WD/lib/python3.10/site-packages/sklearn/metrics/cluster/_supervised.py:58: UserWarning: Clustering metrics expects discrete values but received continuous values for label, and continuous values for target\n",
      "  warnings.warn(msg, UserWarning)\n",
      "/opt/homebrew/Caskroom/miniconda/base/envs/ML_WD/lib/python3.10/site-packages/sklearn/metrics/cluster/_supervised.py:58: UserWarning: Clustering metrics expects discrete values but received continuous values for label, and continuous values for target\n",
      "  warnings.warn(msg, UserWarning)\n",
      "/opt/homebrew/Caskroom/miniconda/base/envs/ML_WD/lib/python3.10/site-packages/sklearn/metrics/cluster/_supervised.py:58: UserWarning: Clustering metrics expects discrete values but received continuous values for label, and continuous values for target\n",
      "  warnings.warn(msg, UserWarning)\n",
      "/opt/homebrew/Caskroom/miniconda/base/envs/ML_WD/lib/python3.10/site-packages/sklearn/metrics/cluster/_supervised.py:58: UserWarning: Clustering metrics expects discrete values but received continuous values for label, and continuous values for target\n",
      "  warnings.warn(msg, UserWarning)\n",
      "/opt/homebrew/Caskroom/miniconda/base/envs/ML_WD/lib/python3.10/site-packages/sklearn/metrics/cluster/_supervised.py:58: UserWarning: Clustering metrics expects discrete values but received continuous values for label, and continuous values for target\n",
      "  warnings.warn(msg, UserWarning)\n",
      "/opt/homebrew/Caskroom/miniconda/base/envs/ML_WD/lib/python3.10/site-packages/sklearn/metrics/cluster/_supervised.py:58: UserWarning: Clustering metrics expects discrete values but received continuous values for label, and continuous values for target\n",
      "  warnings.warn(msg, UserWarning)\n",
      "/opt/homebrew/Caskroom/miniconda/base/envs/ML_WD/lib/python3.10/site-packages/sklearn/metrics/cluster/_supervised.py:58: UserWarning: Clustering metrics expects discrete values but received continuous values for label, and continuous values for target\n",
      "  warnings.warn(msg, UserWarning)\n",
      "/opt/homebrew/Caskroom/miniconda/base/envs/ML_WD/lib/python3.10/site-packages/sklearn/metrics/cluster/_supervised.py:58: UserWarning: Clustering metrics expects discrete values but received continuous values for label, and continuous values for target\n",
      "  warnings.warn(msg, UserWarning)\n",
      "/opt/homebrew/Caskroom/miniconda/base/envs/ML_WD/lib/python3.10/site-packages/sklearn/metrics/cluster/_supervised.py:58: UserWarning: Clustering metrics expects discrete values but received continuous values for label, and continuous values for target\n",
      "  warnings.warn(msg, UserWarning)\n",
      "/opt/homebrew/Caskroom/miniconda/base/envs/ML_WD/lib/python3.10/site-packages/sklearn/metrics/cluster/_supervised.py:58: UserWarning: Clustering metrics expects discrete values but received continuous values for label, and continuous values for target\n",
      "  warnings.warn(msg, UserWarning)\n",
      "/opt/homebrew/Caskroom/miniconda/base/envs/ML_WD/lib/python3.10/site-packages/sklearn/metrics/cluster/_supervised.py:58: UserWarning: Clustering metrics expects discrete values but received continuous values for label, and continuous values for target\n",
      "  warnings.warn(msg, UserWarning)\n",
      "/opt/homebrew/Caskroom/miniconda/base/envs/ML_WD/lib/python3.10/site-packages/sklearn/metrics/cluster/_supervised.py:58: UserWarning: Clustering metrics expects discrete values but received continuous values for label, and continuous values for target\n",
      "  warnings.warn(msg, UserWarning)\n",
      "/opt/homebrew/Caskroom/miniconda/base/envs/ML_WD/lib/python3.10/site-packages/sklearn/metrics/cluster/_supervised.py:58: UserWarning: Clustering metrics expects discrete values but received continuous values for label, and continuous values for target\n",
      "  warnings.warn(msg, UserWarning)\n",
      "/opt/homebrew/Caskroom/miniconda/base/envs/ML_WD/lib/python3.10/site-packages/sklearn/metrics/cluster/_supervised.py:58: UserWarning: Clustering metrics expects discrete values but received continuous values for label, and continuous values for target\n",
      "  warnings.warn(msg, UserWarning)\n",
      "/opt/homebrew/Caskroom/miniconda/base/envs/ML_WD/lib/python3.10/site-packages/sklearn/metrics/cluster/_supervised.py:58: UserWarning: Clustering metrics expects discrete values but received continuous values for label, and continuous values for target\n",
      "  warnings.warn(msg, UserWarning)\n",
      "/opt/homebrew/Caskroom/miniconda/base/envs/ML_WD/lib/python3.10/site-packages/sklearn/metrics/cluster/_supervised.py:58: UserWarning: Clustering metrics expects discrete values but received continuous values for label, and continuous values for target\n",
      "  warnings.warn(msg, UserWarning)\n",
      "/opt/homebrew/Caskroom/miniconda/base/envs/ML_WD/lib/python3.10/site-packages/sklearn/metrics/cluster/_supervised.py:58: UserWarning: Clustering metrics expects discrete values but received continuous values for label, and continuous values for target\n",
      "  warnings.warn(msg, UserWarning)\n",
      "/opt/homebrew/Caskroom/miniconda/base/envs/ML_WD/lib/python3.10/site-packages/sklearn/metrics/cluster/_supervised.py:58: UserWarning: Clustering metrics expects discrete values but received continuous values for label, and continuous values for target\n",
      "  warnings.warn(msg, UserWarning)\n",
      "/opt/homebrew/Caskroom/miniconda/base/envs/ML_WD/lib/python3.10/site-packages/sklearn/metrics/cluster/_supervised.py:58: UserWarning: Clustering metrics expects discrete values but received continuous values for label, and continuous values for target\n",
      "  warnings.warn(msg, UserWarning)\n",
      "/opt/homebrew/Caskroom/miniconda/base/envs/ML_WD/lib/python3.10/site-packages/sklearn/metrics/cluster/_supervised.py:58: UserWarning: Clustering metrics expects discrete values but received continuous values for label, and continuous values for target\n",
      "  warnings.warn(msg, UserWarning)\n",
      "/opt/homebrew/Caskroom/miniconda/base/envs/ML_WD/lib/python3.10/site-packages/sklearn/metrics/cluster/_supervised.py:58: UserWarning: Clustering metrics expects discrete values but received continuous values for label, and continuous values for target\n",
      "  warnings.warn(msg, UserWarning)\n",
      "/opt/homebrew/Caskroom/miniconda/base/envs/ML_WD/lib/python3.10/site-packages/sklearn/metrics/cluster/_supervised.py:58: UserWarning: Clustering metrics expects discrete values but received continuous values for label, and continuous values for target\n",
      "  warnings.warn(msg, UserWarning)\n",
      "/opt/homebrew/Caskroom/miniconda/base/envs/ML_WD/lib/python3.10/site-packages/sklearn/metrics/cluster/_supervised.py:58: UserWarning: Clustering metrics expects discrete values but received continuous values for label, and continuous values for target\n",
      "  warnings.warn(msg, UserWarning)\n",
      "/opt/homebrew/Caskroom/miniconda/base/envs/ML_WD/lib/python3.10/site-packages/sklearn/metrics/cluster/_supervised.py:58: UserWarning: Clustering metrics expects discrete values but received continuous values for label, and continuous values for target\n",
      "  warnings.warn(msg, UserWarning)\n",
      "/opt/homebrew/Caskroom/miniconda/base/envs/ML_WD/lib/python3.10/site-packages/sklearn/metrics/cluster/_supervised.py:58: UserWarning: Clustering metrics expects discrete values but received continuous values for label, and continuous values for target\n",
      "  warnings.warn(msg, UserWarning)\n",
      "/opt/homebrew/Caskroom/miniconda/base/envs/ML_WD/lib/python3.10/site-packages/sklearn/metrics/cluster/_supervised.py:58: UserWarning: Clustering metrics expects discrete values but received continuous values for label, and continuous values for target\n",
      "  warnings.warn(msg, UserWarning)\n",
      "/opt/homebrew/Caskroom/miniconda/base/envs/ML_WD/lib/python3.10/site-packages/sklearn/metrics/cluster/_supervised.py:58: UserWarning: Clustering metrics expects discrete values but received continuous values for label, and continuous values for target\n",
      "  warnings.warn(msg, UserWarning)\n",
      "/opt/homebrew/Caskroom/miniconda/base/envs/ML_WD/lib/python3.10/site-packages/sklearn/metrics/cluster/_supervised.py:58: UserWarning: Clustering metrics expects discrete values but received continuous values for label, and continuous values for target\n",
      "  warnings.warn(msg, UserWarning)\n",
      "/opt/homebrew/Caskroom/miniconda/base/envs/ML_WD/lib/python3.10/site-packages/sklearn/metrics/cluster/_supervised.py:58: UserWarning: Clustering metrics expects discrete values but received continuous values for label, and continuous values for target\n",
      "  warnings.warn(msg, UserWarning)\n",
      "/opt/homebrew/Caskroom/miniconda/base/envs/ML_WD/lib/python3.10/site-packages/sklearn/metrics/cluster/_supervised.py:58: UserWarning: Clustering metrics expects discrete values but received continuous values for label, and continuous values for target\n",
      "  warnings.warn(msg, UserWarning)\n",
      "/opt/homebrew/Caskroom/miniconda/base/envs/ML_WD/lib/python3.10/site-packages/sklearn/metrics/cluster/_supervised.py:58: UserWarning: Clustering metrics expects discrete values but received continuous values for label, and continuous values for target\n",
      "  warnings.warn(msg, UserWarning)\n",
      "/opt/homebrew/Caskroom/miniconda/base/envs/ML_WD/lib/python3.10/site-packages/sklearn/metrics/cluster/_supervised.py:58: UserWarning: Clustering metrics expects discrete values but received continuous values for label, and continuous values for target\n",
      "  warnings.warn(msg, UserWarning)\n",
      "/opt/homebrew/Caskroom/miniconda/base/envs/ML_WD/lib/python3.10/site-packages/sklearn/metrics/cluster/_supervised.py:58: UserWarning: Clustering metrics expects discrete values but received continuous values for label, and continuous values for target\n",
      "  warnings.warn(msg, UserWarning)\n",
      "/opt/homebrew/Caskroom/miniconda/base/envs/ML_WD/lib/python3.10/site-packages/sklearn/metrics/cluster/_supervised.py:58: UserWarning: Clustering metrics expects discrete values but received continuous values for label, and continuous values for target\n",
      "  warnings.warn(msg, UserWarning)\n",
      "/opt/homebrew/Caskroom/miniconda/base/envs/ML_WD/lib/python3.10/site-packages/sklearn/metrics/cluster/_supervised.py:58: UserWarning: Clustering metrics expects discrete values but received continuous values for label, and continuous values for target\n",
      "  warnings.warn(msg, UserWarning)\n",
      "/opt/homebrew/Caskroom/miniconda/base/envs/ML_WD/lib/python3.10/site-packages/sklearn/metrics/cluster/_supervised.py:58: UserWarning: Clustering metrics expects discrete values but received continuous values for label, and continuous values for target\n",
      "  warnings.warn(msg, UserWarning)\n",
      "/opt/homebrew/Caskroom/miniconda/base/envs/ML_WD/lib/python3.10/site-packages/sklearn/metrics/cluster/_supervised.py:58: UserWarning: Clustering metrics expects discrete values but received continuous values for label, and continuous values for target\n",
      "  warnings.warn(msg, UserWarning)\n",
      "/opt/homebrew/Caskroom/miniconda/base/envs/ML_WD/lib/python3.10/site-packages/sklearn/metrics/cluster/_supervised.py:58: UserWarning: Clustering metrics expects discrete values but received continuous values for label, and continuous values for target\n",
      "  warnings.warn(msg, UserWarning)\n",
      "/opt/homebrew/Caskroom/miniconda/base/envs/ML_WD/lib/python3.10/site-packages/sklearn/metrics/cluster/_supervised.py:58: UserWarning: Clustering metrics expects discrete values but received continuous values for label, and continuous values for target\n",
      "  warnings.warn(msg, UserWarning)\n",
      "/opt/homebrew/Caskroom/miniconda/base/envs/ML_WD/lib/python3.10/site-packages/sklearn/metrics/cluster/_supervised.py:58: UserWarning: Clustering metrics expects discrete values but received continuous values for label, and continuous values for target\n",
      "  warnings.warn(msg, UserWarning)\n",
      "/opt/homebrew/Caskroom/miniconda/base/envs/ML_WD/lib/python3.10/site-packages/sklearn/metrics/cluster/_supervised.py:58: UserWarning: Clustering metrics expects discrete values but received continuous values for label, and continuous values for target\n",
      "  warnings.warn(msg, UserWarning)\n",
      "/opt/homebrew/Caskroom/miniconda/base/envs/ML_WD/lib/python3.10/site-packages/sklearn/metrics/cluster/_supervised.py:58: UserWarning: Clustering metrics expects discrete values but received continuous values for label, and continuous values for target\n",
      "  warnings.warn(msg, UserWarning)\n",
      "/opt/homebrew/Caskroom/miniconda/base/envs/ML_WD/lib/python3.10/site-packages/sklearn/metrics/cluster/_supervised.py:58: UserWarning: Clustering metrics expects discrete values but received continuous values for label, and continuous values for target\n",
      "  warnings.warn(msg, UserWarning)\n",
      "/opt/homebrew/Caskroom/miniconda/base/envs/ML_WD/lib/python3.10/site-packages/sklearn/metrics/cluster/_supervised.py:58: UserWarning: Clustering metrics expects discrete values but received continuous values for label, and continuous values for target\n",
      "  warnings.warn(msg, UserWarning)\n",
      "/opt/homebrew/Caskroom/miniconda/base/envs/ML_WD/lib/python3.10/site-packages/sklearn/metrics/cluster/_supervised.py:58: UserWarning: Clustering metrics expects discrete values but received continuous values for label, and continuous values for target\n",
      "  warnings.warn(msg, UserWarning)\n",
      "/opt/homebrew/Caskroom/miniconda/base/envs/ML_WD/lib/python3.10/site-packages/sklearn/metrics/cluster/_supervised.py:58: UserWarning: Clustering metrics expects discrete values but received continuous values for label, and continuous values for target\n",
      "  warnings.warn(msg, UserWarning)\n",
      "/opt/homebrew/Caskroom/miniconda/base/envs/ML_WD/lib/python3.10/site-packages/sklearn/metrics/cluster/_supervised.py:58: UserWarning: Clustering metrics expects discrete values but received continuous values for label, and continuous values for target\n",
      "  warnings.warn(msg, UserWarning)\n",
      "/opt/homebrew/Caskroom/miniconda/base/envs/ML_WD/lib/python3.10/site-packages/sklearn/metrics/cluster/_supervised.py:58: UserWarning: Clustering metrics expects discrete values but received continuous values for label, and continuous values for target\n",
      "  warnings.warn(msg, UserWarning)\n",
      "/opt/homebrew/Caskroom/miniconda/base/envs/ML_WD/lib/python3.10/site-packages/sklearn/metrics/cluster/_supervised.py:58: UserWarning: Clustering metrics expects discrete values but received continuous values for label, and continuous values for target\n",
      "  warnings.warn(msg, UserWarning)\n",
      "/opt/homebrew/Caskroom/miniconda/base/envs/ML_WD/lib/python3.10/site-packages/sklearn/metrics/cluster/_supervised.py:58: UserWarning: Clustering metrics expects discrete values but received continuous values for label, and continuous values for target\n",
      "  warnings.warn(msg, UserWarning)\n",
      "/opt/homebrew/Caskroom/miniconda/base/envs/ML_WD/lib/python3.10/site-packages/sklearn/metrics/cluster/_supervised.py:58: UserWarning: Clustering metrics expects discrete values but received continuous values for label, and continuous values for target\n",
      "  warnings.warn(msg, UserWarning)\n",
      "/opt/homebrew/Caskroom/miniconda/base/envs/ML_WD/lib/python3.10/site-packages/sklearn/metrics/cluster/_supervised.py:58: UserWarning: Clustering metrics expects discrete values but received continuous values for label, and continuous values for target\n",
      "  warnings.warn(msg, UserWarning)\n",
      "/opt/homebrew/Caskroom/miniconda/base/envs/ML_WD/lib/python3.10/site-packages/sklearn/metrics/cluster/_supervised.py:58: UserWarning: Clustering metrics expects discrete values but received continuous values for label, and continuous values for target\n",
      "  warnings.warn(msg, UserWarning)\n",
      "/opt/homebrew/Caskroom/miniconda/base/envs/ML_WD/lib/python3.10/site-packages/sklearn/metrics/cluster/_supervised.py:58: UserWarning: Clustering metrics expects discrete values but received continuous values for label, and continuous values for target\n",
      "  warnings.warn(msg, UserWarning)\n",
      "/opt/homebrew/Caskroom/miniconda/base/envs/ML_WD/lib/python3.10/site-packages/sklearn/metrics/cluster/_supervised.py:58: UserWarning: Clustering metrics expects discrete values but received continuous values for label, and continuous values for target\n",
      "  warnings.warn(msg, UserWarning)\n",
      "/opt/homebrew/Caskroom/miniconda/base/envs/ML_WD/lib/python3.10/site-packages/sklearn/metrics/cluster/_supervised.py:58: UserWarning: Clustering metrics expects discrete values but received continuous values for label, and continuous values for target\n",
      "  warnings.warn(msg, UserWarning)\n",
      "/opt/homebrew/Caskroom/miniconda/base/envs/ML_WD/lib/python3.10/site-packages/sklearn/metrics/cluster/_supervised.py:58: UserWarning: Clustering metrics expects discrete values but received continuous values for label, and continuous values for target\n",
      "  warnings.warn(msg, UserWarning)\n",
      "/opt/homebrew/Caskroom/miniconda/base/envs/ML_WD/lib/python3.10/site-packages/sklearn/metrics/cluster/_supervised.py:58: UserWarning: Clustering metrics expects discrete values but received continuous values for label, and continuous values for target\n",
      "  warnings.warn(msg, UserWarning)\n",
      "/opt/homebrew/Caskroom/miniconda/base/envs/ML_WD/lib/python3.10/site-packages/sklearn/metrics/cluster/_supervised.py:58: UserWarning: Clustering metrics expects discrete values but received continuous values for label, and continuous values for target\n",
      "  warnings.warn(msg, UserWarning)\n",
      "/opt/homebrew/Caskroom/miniconda/base/envs/ML_WD/lib/python3.10/site-packages/sklearn/metrics/cluster/_supervised.py:58: UserWarning: Clustering metrics expects discrete values but received continuous values for label, and continuous values for target\n",
      "  warnings.warn(msg, UserWarning)\n",
      "/opt/homebrew/Caskroom/miniconda/base/envs/ML_WD/lib/python3.10/site-packages/sklearn/metrics/cluster/_supervised.py:58: UserWarning: Clustering metrics expects discrete values but received continuous values for label, and continuous values for target\n",
      "  warnings.warn(msg, UserWarning)\n",
      "/opt/homebrew/Caskroom/miniconda/base/envs/ML_WD/lib/python3.10/site-packages/sklearn/metrics/cluster/_supervised.py:58: UserWarning: Clustering metrics expects discrete values but received continuous values for label, and continuous values for target\n",
      "  warnings.warn(msg, UserWarning)\n",
      "/opt/homebrew/Caskroom/miniconda/base/envs/ML_WD/lib/python3.10/site-packages/sklearn/metrics/cluster/_supervised.py:58: UserWarning: Clustering metrics expects discrete values but received continuous values for label, and continuous values for target\n",
      "  warnings.warn(msg, UserWarning)\n",
      "/opt/homebrew/Caskroom/miniconda/base/envs/ML_WD/lib/python3.10/site-packages/sklearn/metrics/cluster/_supervised.py:58: UserWarning: Clustering metrics expects discrete values but received continuous values for label, and continuous values for target\n",
      "  warnings.warn(msg, UserWarning)\n",
      "/opt/homebrew/Caskroom/miniconda/base/envs/ML_WD/lib/python3.10/site-packages/sklearn/metrics/cluster/_supervised.py:58: UserWarning: Clustering metrics expects discrete values but received continuous values for label, and continuous values for target\n",
      "  warnings.warn(msg, UserWarning)\n",
      "/opt/homebrew/Caskroom/miniconda/base/envs/ML_WD/lib/python3.10/site-packages/sklearn/metrics/cluster/_supervised.py:58: UserWarning: Clustering metrics expects discrete values but received continuous values for label, and continuous values for target\n",
      "  warnings.warn(msg, UserWarning)\n",
      "/opt/homebrew/Caskroom/miniconda/base/envs/ML_WD/lib/python3.10/site-packages/sklearn/metrics/cluster/_supervised.py:58: UserWarning: Clustering metrics expects discrete values but received continuous values for label, and continuous values for target\n",
      "  warnings.warn(msg, UserWarning)\n",
      "/opt/homebrew/Caskroom/miniconda/base/envs/ML_WD/lib/python3.10/site-packages/sklearn/metrics/cluster/_supervised.py:58: UserWarning: Clustering metrics expects discrete values but received continuous values for label, and continuous values for target\n",
      "  warnings.warn(msg, UserWarning)\n",
      "/opt/homebrew/Caskroom/miniconda/base/envs/ML_WD/lib/python3.10/site-packages/sklearn/metrics/cluster/_supervised.py:58: UserWarning: Clustering metrics expects discrete values but received continuous values for label, and continuous values for target\n",
      "  warnings.warn(msg, UserWarning)\n",
      "/opt/homebrew/Caskroom/miniconda/base/envs/ML_WD/lib/python3.10/site-packages/sklearn/metrics/cluster/_supervised.py:58: UserWarning: Clustering metrics expects discrete values but received continuous values for label, and continuous values for target\n",
      "  warnings.warn(msg, UserWarning)\n",
      "/opt/homebrew/Caskroom/miniconda/base/envs/ML_WD/lib/python3.10/site-packages/sklearn/metrics/cluster/_supervised.py:58: UserWarning: Clustering metrics expects discrete values but received continuous values for label, and continuous values for target\n",
      "  warnings.warn(msg, UserWarning)\n",
      "/opt/homebrew/Caskroom/miniconda/base/envs/ML_WD/lib/python3.10/site-packages/sklearn/metrics/cluster/_supervised.py:58: UserWarning: Clustering metrics expects discrete values but received continuous values for label, and continuous values for target\n",
      "  warnings.warn(msg, UserWarning)\n",
      "/opt/homebrew/Caskroom/miniconda/base/envs/ML_WD/lib/python3.10/site-packages/sklearn/metrics/cluster/_supervised.py:58: UserWarning: Clustering metrics expects discrete values but received continuous values for label, and continuous values for target\n",
      "  warnings.warn(msg, UserWarning)\n",
      "/opt/homebrew/Caskroom/miniconda/base/envs/ML_WD/lib/python3.10/site-packages/sklearn/metrics/cluster/_supervised.py:58: UserWarning: Clustering metrics expects discrete values but received continuous values for label, and continuous values for target\n",
      "  warnings.warn(msg, UserWarning)\n",
      "/opt/homebrew/Caskroom/miniconda/base/envs/ML_WD/lib/python3.10/site-packages/sklearn/metrics/cluster/_supervised.py:58: UserWarning: Clustering metrics expects discrete values but received continuous values for label, and continuous values for target\n",
      "  warnings.warn(msg, UserWarning)\n",
      "/opt/homebrew/Caskroom/miniconda/base/envs/ML_WD/lib/python3.10/site-packages/sklearn/metrics/cluster/_supervised.py:58: UserWarning: Clustering metrics expects discrete values but received continuous values for label, and continuous values for target\n",
      "  warnings.warn(msg, UserWarning)\n",
      "/opt/homebrew/Caskroom/miniconda/base/envs/ML_WD/lib/python3.10/site-packages/sklearn/metrics/cluster/_supervised.py:58: UserWarning: Clustering metrics expects discrete values but received continuous values for label, and continuous values for target\n",
      "  warnings.warn(msg, UserWarning)\n",
      "/opt/homebrew/Caskroom/miniconda/base/envs/ML_WD/lib/python3.10/site-packages/sklearn/metrics/cluster/_supervised.py:58: UserWarning: Clustering metrics expects discrete values but received continuous values for label, and continuous values for target\n",
      "  warnings.warn(msg, UserWarning)\n",
      "/opt/homebrew/Caskroom/miniconda/base/envs/ML_WD/lib/python3.10/site-packages/sklearn/metrics/cluster/_supervised.py:58: UserWarning: Clustering metrics expects discrete values but received continuous values for label, and continuous values for target\n",
      "  warnings.warn(msg, UserWarning)\n",
      "/opt/homebrew/Caskroom/miniconda/base/envs/ML_WD/lib/python3.10/site-packages/sklearn/metrics/cluster/_supervised.py:58: UserWarning: Clustering metrics expects discrete values but received continuous values for label, and continuous values for target\n",
      "  warnings.warn(msg, UserWarning)\n",
      "/opt/homebrew/Caskroom/miniconda/base/envs/ML_WD/lib/python3.10/site-packages/sklearn/metrics/cluster/_supervised.py:58: UserWarning: Clustering metrics expects discrete values but received continuous values for label, and continuous values for target\n",
      "  warnings.warn(msg, UserWarning)\n",
      "/opt/homebrew/Caskroom/miniconda/base/envs/ML_WD/lib/python3.10/site-packages/sklearn/metrics/cluster/_supervised.py:58: UserWarning: Clustering metrics expects discrete values but received continuous values for label, and continuous values for target\n",
      "  warnings.warn(msg, UserWarning)\n",
      "/opt/homebrew/Caskroom/miniconda/base/envs/ML_WD/lib/python3.10/site-packages/sklearn/metrics/cluster/_supervised.py:58: UserWarning: Clustering metrics expects discrete values but received continuous values for label, and continuous values for target\n",
      "  warnings.warn(msg, UserWarning)\n",
      "/opt/homebrew/Caskroom/miniconda/base/envs/ML_WD/lib/python3.10/site-packages/sklearn/metrics/cluster/_supervised.py:58: UserWarning: Clustering metrics expects discrete values but received continuous values for label, and continuous values for target\n",
      "  warnings.warn(msg, UserWarning)\n",
      "/opt/homebrew/Caskroom/miniconda/base/envs/ML_WD/lib/python3.10/site-packages/sklearn/metrics/cluster/_supervised.py:58: UserWarning: Clustering metrics expects discrete values but received continuous values for label, and continuous values for target\n",
      "  warnings.warn(msg, UserWarning)\n",
      "/opt/homebrew/Caskroom/miniconda/base/envs/ML_WD/lib/python3.10/site-packages/sklearn/metrics/cluster/_supervised.py:58: UserWarning: Clustering metrics expects discrete values but received continuous values for label, and continuous values for target\n",
      "  warnings.warn(msg, UserWarning)\n",
      "/opt/homebrew/Caskroom/miniconda/base/envs/ML_WD/lib/python3.10/site-packages/sklearn/metrics/cluster/_supervised.py:58: UserWarning: Clustering metrics expects discrete values but received continuous values for label, and continuous values for target\n",
      "  warnings.warn(msg, UserWarning)\n",
      "/opt/homebrew/Caskroom/miniconda/base/envs/ML_WD/lib/python3.10/site-packages/sklearn/metrics/cluster/_supervised.py:58: UserWarning: Clustering metrics expects discrete values but received continuous values for label, and continuous values for target\n",
      "  warnings.warn(msg, UserWarning)\n",
      "/opt/homebrew/Caskroom/miniconda/base/envs/ML_WD/lib/python3.10/site-packages/sklearn/metrics/cluster/_supervised.py:58: UserWarning: Clustering metrics expects discrete values but received continuous values for label, and continuous values for target\n",
      "  warnings.warn(msg, UserWarning)\n",
      "/opt/homebrew/Caskroom/miniconda/base/envs/ML_WD/lib/python3.10/site-packages/sklearn/metrics/cluster/_supervised.py:58: UserWarning: Clustering metrics expects discrete values but received continuous values for label, and continuous values for target\n",
      "  warnings.warn(msg, UserWarning)\n",
      "/opt/homebrew/Caskroom/miniconda/base/envs/ML_WD/lib/python3.10/site-packages/sklearn/metrics/cluster/_supervised.py:58: UserWarning: Clustering metrics expects discrete values but received continuous values for label, and continuous values for target\n",
      "  warnings.warn(msg, UserWarning)\n",
      "/opt/homebrew/Caskroom/miniconda/base/envs/ML_WD/lib/python3.10/site-packages/sklearn/metrics/cluster/_supervised.py:58: UserWarning: Clustering metrics expects discrete values but received continuous values for label, and continuous values for target\n",
      "  warnings.warn(msg, UserWarning)\n",
      "/opt/homebrew/Caskroom/miniconda/base/envs/ML_WD/lib/python3.10/site-packages/sklearn/metrics/cluster/_supervised.py:58: UserWarning: Clustering metrics expects discrete values but received continuous values for label, and continuous values for target\n",
      "  warnings.warn(msg, UserWarning)\n",
      "/opt/homebrew/Caskroom/miniconda/base/envs/ML_WD/lib/python3.10/site-packages/sklearn/metrics/cluster/_supervised.py:58: UserWarning: Clustering metrics expects discrete values but received continuous values for label, and continuous values for target\n",
      "  warnings.warn(msg, UserWarning)\n",
      "/opt/homebrew/Caskroom/miniconda/base/envs/ML_WD/lib/python3.10/site-packages/sklearn/metrics/cluster/_supervised.py:58: UserWarning: Clustering metrics expects discrete values but received continuous values for label, and continuous values for target\n",
      "  warnings.warn(msg, UserWarning)\n",
      "/opt/homebrew/Caskroom/miniconda/base/envs/ML_WD/lib/python3.10/site-packages/sklearn/metrics/cluster/_supervised.py:58: UserWarning: Clustering metrics expects discrete values but received continuous values for label, and continuous values for target\n",
      "  warnings.warn(msg, UserWarning)\n",
      "/opt/homebrew/Caskroom/miniconda/base/envs/ML_WD/lib/python3.10/site-packages/sklearn/metrics/cluster/_supervised.py:58: UserWarning: Clustering metrics expects discrete values but received continuous values for label, and continuous values for target\n",
      "  warnings.warn(msg, UserWarning)\n",
      "/opt/homebrew/Caskroom/miniconda/base/envs/ML_WD/lib/python3.10/site-packages/sklearn/metrics/cluster/_supervised.py:58: UserWarning: Clustering metrics expects discrete values but received continuous values for label, and continuous values for target\n",
      "  warnings.warn(msg, UserWarning)\n",
      "/opt/homebrew/Caskroom/miniconda/base/envs/ML_WD/lib/python3.10/site-packages/sklearn/metrics/cluster/_supervised.py:58: UserWarning: Clustering metrics expects discrete values but received continuous values for label, and continuous values for target\n",
      "  warnings.warn(msg, UserWarning)\n",
      "/opt/homebrew/Caskroom/miniconda/base/envs/ML_WD/lib/python3.10/site-packages/sklearn/metrics/cluster/_supervised.py:58: UserWarning: Clustering metrics expects discrete values but received continuous values for label, and continuous values for target\n",
      "  warnings.warn(msg, UserWarning)\n",
      "/opt/homebrew/Caskroom/miniconda/base/envs/ML_WD/lib/python3.10/site-packages/sklearn/metrics/cluster/_supervised.py:58: UserWarning: Clustering metrics expects discrete values but received continuous values for label, and continuous values for target\n",
      "  warnings.warn(msg, UserWarning)\n",
      "/opt/homebrew/Caskroom/miniconda/base/envs/ML_WD/lib/python3.10/site-packages/sklearn/metrics/cluster/_supervised.py:58: UserWarning: Clustering metrics expects discrete values but received continuous values for label, and continuous values for target\n",
      "  warnings.warn(msg, UserWarning)\n",
      "/opt/homebrew/Caskroom/miniconda/base/envs/ML_WD/lib/python3.10/site-packages/sklearn/metrics/cluster/_supervised.py:58: UserWarning: Clustering metrics expects discrete values but received continuous values for label, and continuous values for target\n",
      "  warnings.warn(msg, UserWarning)\n",
      "/opt/homebrew/Caskroom/miniconda/base/envs/ML_WD/lib/python3.10/site-packages/sklearn/metrics/cluster/_supervised.py:58: UserWarning: Clustering metrics expects discrete values but received continuous values for label, and continuous values for target\n",
      "  warnings.warn(msg, UserWarning)\n",
      "/opt/homebrew/Caskroom/miniconda/base/envs/ML_WD/lib/python3.10/site-packages/sklearn/metrics/cluster/_supervised.py:58: UserWarning: Clustering metrics expects discrete values but received continuous values for label, and continuous values for target\n",
      "  warnings.warn(msg, UserWarning)\n",
      "/opt/homebrew/Caskroom/miniconda/base/envs/ML_WD/lib/python3.10/site-packages/sklearn/metrics/cluster/_supervised.py:58: UserWarning: Clustering metrics expects discrete values but received continuous values for label, and continuous values for target\n",
      "  warnings.warn(msg, UserWarning)\n",
      "/opt/homebrew/Caskroom/miniconda/base/envs/ML_WD/lib/python3.10/site-packages/sklearn/metrics/cluster/_supervised.py:58: UserWarning: Clustering metrics expects discrete values but received binary values for label, and continuous values for target\n",
      "  warnings.warn(msg, UserWarning)\n",
      "/opt/homebrew/Caskroom/miniconda/base/envs/ML_WD/lib/python3.10/site-packages/sklearn/metrics/cluster/_supervised.py:58: UserWarning: Clustering metrics expects discrete values but received continuous values for label, and continuous values for target\n",
      "  warnings.warn(msg, UserWarning)\n",
      "/opt/homebrew/Caskroom/miniconda/base/envs/ML_WD/lib/python3.10/site-packages/sklearn/metrics/cluster/_supervised.py:58: UserWarning: Clustering metrics expects discrete values but received continuous values for label, and continuous values for target\n",
      "  warnings.warn(msg, UserWarning)\n",
      "/opt/homebrew/Caskroom/miniconda/base/envs/ML_WD/lib/python3.10/site-packages/sklearn/metrics/cluster/_supervised.py:58: UserWarning: Clustering metrics expects discrete values but received continuous values for label, and continuous values for target\n",
      "  warnings.warn(msg, UserWarning)\n",
      "/opt/homebrew/Caskroom/miniconda/base/envs/ML_WD/lib/python3.10/site-packages/sklearn/metrics/cluster/_supervised.py:58: UserWarning: Clustering metrics expects discrete values but received continuous values for label, and continuous values for target\n",
      "  warnings.warn(msg, UserWarning)\n",
      "/opt/homebrew/Caskroom/miniconda/base/envs/ML_WD/lib/python3.10/site-packages/sklearn/metrics/cluster/_supervised.py:58: UserWarning: Clustering metrics expects discrete values but received continuous values for label, and continuous values for target\n",
      "  warnings.warn(msg, UserWarning)\n",
      "/opt/homebrew/Caskroom/miniconda/base/envs/ML_WD/lib/python3.10/site-packages/sklearn/metrics/cluster/_supervised.py:58: UserWarning: Clustering metrics expects discrete values but received continuous values for label, and continuous values for target\n",
      "  warnings.warn(msg, UserWarning)\n",
      "/opt/homebrew/Caskroom/miniconda/base/envs/ML_WD/lib/python3.10/site-packages/sklearn/metrics/cluster/_supervised.py:58: UserWarning: Clustering metrics expects discrete values but received continuous values for label, and continuous values for target\n",
      "  warnings.warn(msg, UserWarning)\n",
      "/opt/homebrew/Caskroom/miniconda/base/envs/ML_WD/lib/python3.10/site-packages/sklearn/metrics/cluster/_supervised.py:58: UserWarning: Clustering metrics expects discrete values but received continuous values for label, and continuous values for target\n",
      "  warnings.warn(msg, UserWarning)\n",
      "/opt/homebrew/Caskroom/miniconda/base/envs/ML_WD/lib/python3.10/site-packages/sklearn/metrics/cluster/_supervised.py:58: UserWarning: Clustering metrics expects discrete values but received continuous values for label, and continuous values for target\n",
      "  warnings.warn(msg, UserWarning)\n",
      "/opt/homebrew/Caskroom/miniconda/base/envs/ML_WD/lib/python3.10/site-packages/sklearn/metrics/cluster/_supervised.py:58: UserWarning: Clustering metrics expects discrete values but received continuous values for label, and continuous values for target\n",
      "  warnings.warn(msg, UserWarning)\n",
      "/opt/homebrew/Caskroom/miniconda/base/envs/ML_WD/lib/python3.10/site-packages/sklearn/metrics/cluster/_supervised.py:58: UserWarning: Clustering metrics expects discrete values but received continuous values for label, and continuous values for target\n",
      "  warnings.warn(msg, UserWarning)\n",
      "/opt/homebrew/Caskroom/miniconda/base/envs/ML_WD/lib/python3.10/site-packages/sklearn/metrics/cluster/_supervised.py:58: UserWarning: Clustering metrics expects discrete values but received continuous values for label, and continuous values for target\n",
      "  warnings.warn(msg, UserWarning)\n",
      "/opt/homebrew/Caskroom/miniconda/base/envs/ML_WD/lib/python3.10/site-packages/sklearn/metrics/cluster/_supervised.py:58: UserWarning: Clustering metrics expects discrete values but received continuous values for label, and continuous values for target\n",
      "  warnings.warn(msg, UserWarning)\n",
      "/opt/homebrew/Caskroom/miniconda/base/envs/ML_WD/lib/python3.10/site-packages/sklearn/metrics/cluster/_supervised.py:58: UserWarning: Clustering metrics expects discrete values but received continuous values for label, and continuous values for target\n",
      "  warnings.warn(msg, UserWarning)\n",
      "/opt/homebrew/Caskroom/miniconda/base/envs/ML_WD/lib/python3.10/site-packages/sklearn/metrics/cluster/_supervised.py:58: UserWarning: Clustering metrics expects discrete values but received continuous values for label, and continuous values for target\n",
      "  warnings.warn(msg, UserWarning)\n",
      "/opt/homebrew/Caskroom/miniconda/base/envs/ML_WD/lib/python3.10/site-packages/sklearn/metrics/cluster/_supervised.py:58: UserWarning: Clustering metrics expects discrete values but received continuous values for label, and continuous values for target\n",
      "  warnings.warn(msg, UserWarning)\n",
      "/opt/homebrew/Caskroom/miniconda/base/envs/ML_WD/lib/python3.10/site-packages/sklearn/metrics/cluster/_supervised.py:58: UserWarning: Clustering metrics expects discrete values but received continuous values for label, and continuous values for target\n",
      "  warnings.warn(msg, UserWarning)\n",
      "/opt/homebrew/Caskroom/miniconda/base/envs/ML_WD/lib/python3.10/site-packages/sklearn/metrics/cluster/_supervised.py:58: UserWarning: Clustering metrics expects discrete values but received continuous values for label, and continuous values for target\n",
      "  warnings.warn(msg, UserWarning)\n",
      "/opt/homebrew/Caskroom/miniconda/base/envs/ML_WD/lib/python3.10/site-packages/sklearn/metrics/cluster/_supervised.py:58: UserWarning: Clustering metrics expects discrete values but received continuous values for label, and continuous values for target\n",
      "  warnings.warn(msg, UserWarning)\n",
      "/opt/homebrew/Caskroom/miniconda/base/envs/ML_WD/lib/python3.10/site-packages/sklearn/metrics/cluster/_supervised.py:58: UserWarning: Clustering metrics expects discrete values but received continuous values for label, and continuous values for target\n",
      "  warnings.warn(msg, UserWarning)\n",
      "/opt/homebrew/Caskroom/miniconda/base/envs/ML_WD/lib/python3.10/site-packages/sklearn/metrics/cluster/_supervised.py:58: UserWarning: Clustering metrics expects discrete values but received continuous values for label, and continuous values for target\n",
      "  warnings.warn(msg, UserWarning)\n",
      "/opt/homebrew/Caskroom/miniconda/base/envs/ML_WD/lib/python3.10/site-packages/sklearn/metrics/cluster/_supervised.py:58: UserWarning: Clustering metrics expects discrete values but received continuous values for label, and continuous values for target\n",
      "  warnings.warn(msg, UserWarning)\n",
      "/opt/homebrew/Caskroom/miniconda/base/envs/ML_WD/lib/python3.10/site-packages/sklearn/metrics/cluster/_supervised.py:58: UserWarning: Clustering metrics expects discrete values but received continuous values for label, and continuous values for target\n",
      "  warnings.warn(msg, UserWarning)\n",
      "/opt/homebrew/Caskroom/miniconda/base/envs/ML_WD/lib/python3.10/site-packages/sklearn/metrics/cluster/_supervised.py:58: UserWarning: Clustering metrics expects discrete values but received continuous values for label, and continuous values for target\n",
      "  warnings.warn(msg, UserWarning)\n",
      "/opt/homebrew/Caskroom/miniconda/base/envs/ML_WD/lib/python3.10/site-packages/sklearn/metrics/cluster/_supervised.py:58: UserWarning: Clustering metrics expects discrete values but received continuous values for label, and continuous values for target\n",
      "  warnings.warn(msg, UserWarning)\n",
      "/opt/homebrew/Caskroom/miniconda/base/envs/ML_WD/lib/python3.10/site-packages/sklearn/metrics/cluster/_supervised.py:58: UserWarning: Clustering metrics expects discrete values but received continuous values for label, and continuous values for target\n",
      "  warnings.warn(msg, UserWarning)\n",
      "/opt/homebrew/Caskroom/miniconda/base/envs/ML_WD/lib/python3.10/site-packages/sklearn/metrics/cluster/_supervised.py:58: UserWarning: Clustering metrics expects discrete values but received continuous values for label, and continuous values for target\n",
      "  warnings.warn(msg, UserWarning)\n",
      "/opt/homebrew/Caskroom/miniconda/base/envs/ML_WD/lib/python3.10/site-packages/sklearn/metrics/cluster/_supervised.py:58: UserWarning: Clustering metrics expects discrete values but received continuous values for label, and continuous values for target\n",
      "  warnings.warn(msg, UserWarning)\n",
      "/opt/homebrew/Caskroom/miniconda/base/envs/ML_WD/lib/python3.10/site-packages/sklearn/metrics/cluster/_supervised.py:58: UserWarning: Clustering metrics expects discrete values but received continuous values for label, and continuous values for target\n",
      "  warnings.warn(msg, UserWarning)\n",
      "/opt/homebrew/Caskroom/miniconda/base/envs/ML_WD/lib/python3.10/site-packages/sklearn/metrics/cluster/_supervised.py:58: UserWarning: Clustering metrics expects discrete values but received continuous values for label, and continuous values for target\n",
      "  warnings.warn(msg, UserWarning)\n",
      "/opt/homebrew/Caskroom/miniconda/base/envs/ML_WD/lib/python3.10/site-packages/sklearn/metrics/cluster/_supervised.py:58: UserWarning: Clustering metrics expects discrete values but received continuous values for label, and continuous values for target\n",
      "  warnings.warn(msg, UserWarning)\n",
      "/opt/homebrew/Caskroom/miniconda/base/envs/ML_WD/lib/python3.10/site-packages/sklearn/metrics/cluster/_supervised.py:58: UserWarning: Clustering metrics expects discrete values but received continuous values for label, and continuous values for target\n",
      "  warnings.warn(msg, UserWarning)\n",
      "/opt/homebrew/Caskroom/miniconda/base/envs/ML_WD/lib/python3.10/site-packages/sklearn/metrics/cluster/_supervised.py:58: UserWarning: Clustering metrics expects discrete values but received continuous values for label, and continuous values for target\n",
      "  warnings.warn(msg, UserWarning)\n",
      "/opt/homebrew/Caskroom/miniconda/base/envs/ML_WD/lib/python3.10/site-packages/sklearn/metrics/cluster/_supervised.py:58: UserWarning: Clustering metrics expects discrete values but received continuous values for label, and continuous values for target\n",
      "  warnings.warn(msg, UserWarning)\n",
      "/opt/homebrew/Caskroom/miniconda/base/envs/ML_WD/lib/python3.10/site-packages/sklearn/metrics/cluster/_supervised.py:58: UserWarning: Clustering metrics expects discrete values but received continuous values for label, and continuous values for target\n",
      "  warnings.warn(msg, UserWarning)\n",
      "/opt/homebrew/Caskroom/miniconda/base/envs/ML_WD/lib/python3.10/site-packages/sklearn/metrics/cluster/_supervised.py:58: UserWarning: Clustering metrics expects discrete values but received continuous values for label, and continuous values for target\n",
      "  warnings.warn(msg, UserWarning)\n",
      "/opt/homebrew/Caskroom/miniconda/base/envs/ML_WD/lib/python3.10/site-packages/sklearn/metrics/cluster/_supervised.py:58: UserWarning: Clustering metrics expects discrete values but received continuous values for label, and continuous values for target\n",
      "  warnings.warn(msg, UserWarning)\n",
      "/opt/homebrew/Caskroom/miniconda/base/envs/ML_WD/lib/python3.10/site-packages/sklearn/metrics/cluster/_supervised.py:58: UserWarning: Clustering metrics expects discrete values but received continuous values for label, and continuous values for target\n",
      "  warnings.warn(msg, UserWarning)\n",
      "/opt/homebrew/Caskroom/miniconda/base/envs/ML_WD/lib/python3.10/site-packages/sklearn/metrics/cluster/_supervised.py:58: UserWarning: Clustering metrics expects discrete values but received continuous values for label, and binary values for target\n",
      "  warnings.warn(msg, UserWarning)\n",
      "/opt/homebrew/Caskroom/miniconda/base/envs/ML_WD/lib/python3.10/site-packages/sklearn/metrics/cluster/_supervised.py:58: UserWarning: Clustering metrics expects discrete values but received continuous values for label, and binary values for target\n",
      "  warnings.warn(msg, UserWarning)\n",
      "/opt/homebrew/Caskroom/miniconda/base/envs/ML_WD/lib/python3.10/site-packages/sklearn/metrics/cluster/_supervised.py:58: UserWarning: Clustering metrics expects discrete values but received continuous values for label, and binary values for target\n",
      "  warnings.warn(msg, UserWarning)\n",
      "/opt/homebrew/Caskroom/miniconda/base/envs/ML_WD/lib/python3.10/site-packages/sklearn/metrics/cluster/_supervised.py:58: UserWarning: Clustering metrics expects discrete values but received continuous values for label, and binary values for target\n",
      "  warnings.warn(msg, UserWarning)\n",
      "/opt/homebrew/Caskroom/miniconda/base/envs/ML_WD/lib/python3.10/site-packages/sklearn/metrics/cluster/_supervised.py:58: UserWarning: Clustering metrics expects discrete values but received continuous values for label, and binary values for target\n",
      "  warnings.warn(msg, UserWarning)\n",
      "/opt/homebrew/Caskroom/miniconda/base/envs/ML_WD/lib/python3.10/site-packages/sklearn/metrics/cluster/_supervised.py:58: UserWarning: Clustering metrics expects discrete values but received continuous values for label, and binary values for target\n",
      "  warnings.warn(msg, UserWarning)\n",
      "/opt/homebrew/Caskroom/miniconda/base/envs/ML_WD/lib/python3.10/site-packages/sklearn/metrics/cluster/_supervised.py:58: UserWarning: Clustering metrics expects discrete values but received continuous values for label, and binary values for target\n",
      "  warnings.warn(msg, UserWarning)\n",
      "/opt/homebrew/Caskroom/miniconda/base/envs/ML_WD/lib/python3.10/site-packages/sklearn/metrics/cluster/_supervised.py:58: UserWarning: Clustering metrics expects discrete values but received continuous values for label, and binary values for target\n",
      "  warnings.warn(msg, UserWarning)\n",
      "/opt/homebrew/Caskroom/miniconda/base/envs/ML_WD/lib/python3.10/site-packages/sklearn/metrics/cluster/_supervised.py:58: UserWarning: Clustering metrics expects discrete values but received continuous values for label, and continuous values for target\n",
      "  warnings.warn(msg, UserWarning)\n",
      "/opt/homebrew/Caskroom/miniconda/base/envs/ML_WD/lib/python3.10/site-packages/sklearn/metrics/cluster/_supervised.py:58: UserWarning: Clustering metrics expects discrete values but received continuous values for label, and continuous values for target\n",
      "  warnings.warn(msg, UserWarning)\n",
      "/opt/homebrew/Caskroom/miniconda/base/envs/ML_WD/lib/python3.10/site-packages/sklearn/metrics/cluster/_supervised.py:58: UserWarning: Clustering metrics expects discrete values but received continuous values for label, and continuous values for target\n",
      "  warnings.warn(msg, UserWarning)\n",
      "/opt/homebrew/Caskroom/miniconda/base/envs/ML_WD/lib/python3.10/site-packages/sklearn/metrics/cluster/_supervised.py:58: UserWarning: Clustering metrics expects discrete values but received continuous values for label, and continuous values for target\n",
      "  warnings.warn(msg, UserWarning)\n",
      "/opt/homebrew/Caskroom/miniconda/base/envs/ML_WD/lib/python3.10/site-packages/sklearn/metrics/cluster/_supervised.py:58: UserWarning: Clustering metrics expects discrete values but received continuous values for label, and continuous values for target\n",
      "  warnings.warn(msg, UserWarning)\n",
      "/opt/homebrew/Caskroom/miniconda/base/envs/ML_WD/lib/python3.10/site-packages/sklearn/metrics/cluster/_supervised.py:58: UserWarning: Clustering metrics expects discrete values but received continuous values for label, and continuous values for target\n",
      "  warnings.warn(msg, UserWarning)\n",
      "/opt/homebrew/Caskroom/miniconda/base/envs/ML_WD/lib/python3.10/site-packages/sklearn/metrics/cluster/_supervised.py:58: UserWarning: Clustering metrics expects discrete values but received continuous values for label, and continuous values for target\n",
      "  warnings.warn(msg, UserWarning)\n",
      "/opt/homebrew/Caskroom/miniconda/base/envs/ML_WD/lib/python3.10/site-packages/sklearn/metrics/cluster/_supervised.py:58: UserWarning: Clustering metrics expects discrete values but received continuous values for label, and continuous values for target\n",
      "  warnings.warn(msg, UserWarning)\n",
      "/opt/homebrew/Caskroom/miniconda/base/envs/ML_WD/lib/python3.10/site-packages/sklearn/metrics/cluster/_supervised.py:58: UserWarning: Clustering metrics expects discrete values but received continuous values for label, and binary values for target\n",
      "  warnings.warn(msg, UserWarning)\n",
      "/opt/homebrew/Caskroom/miniconda/base/envs/ML_WD/lib/python3.10/site-packages/sklearn/metrics/cluster/_supervised.py:58: UserWarning: Clustering metrics expects discrete values but received continuous values for label, and binary values for target\n",
      "  warnings.warn(msg, UserWarning)\n",
      "/opt/homebrew/Caskroom/miniconda/base/envs/ML_WD/lib/python3.10/site-packages/sklearn/metrics/cluster/_supervised.py:58: UserWarning: Clustering metrics expects discrete values but received continuous values for label, and binary values for target\n",
      "  warnings.warn(msg, UserWarning)\n",
      "/opt/homebrew/Caskroom/miniconda/base/envs/ML_WD/lib/python3.10/site-packages/sklearn/metrics/cluster/_supervised.py:58: UserWarning: Clustering metrics expects discrete values but received continuous values for label, and binary values for target\n",
      "  warnings.warn(msg, UserWarning)\n",
      "/opt/homebrew/Caskroom/miniconda/base/envs/ML_WD/lib/python3.10/site-packages/sklearn/metrics/cluster/_supervised.py:58: UserWarning: Clustering metrics expects discrete values but received continuous values for label, and binary values for target\n",
      "  warnings.warn(msg, UserWarning)\n",
      "/opt/homebrew/Caskroom/miniconda/base/envs/ML_WD/lib/python3.10/site-packages/sklearn/metrics/cluster/_supervised.py:58: UserWarning: Clustering metrics expects discrete values but received continuous values for label, and binary values for target\n",
      "  warnings.warn(msg, UserWarning)\n",
      "/opt/homebrew/Caskroom/miniconda/base/envs/ML_WD/lib/python3.10/site-packages/sklearn/metrics/cluster/_supervised.py:58: UserWarning: Clustering metrics expects discrete values but received continuous values for label, and binary values for target\n",
      "  warnings.warn(msg, UserWarning)\n",
      "/opt/homebrew/Caskroom/miniconda/base/envs/ML_WD/lib/python3.10/site-packages/sklearn/metrics/cluster/_supervised.py:58: UserWarning: Clustering metrics expects discrete values but received continuous values for label, and continuous values for target\n",
      "  warnings.warn(msg, UserWarning)\n",
      "/opt/homebrew/Caskroom/miniconda/base/envs/ML_WD/lib/python3.10/site-packages/sklearn/metrics/cluster/_supervised.py:58: UserWarning: Clustering metrics expects discrete values but received continuous values for label, and binary values for target\n",
      "  warnings.warn(msg, UserWarning)\n",
      "/opt/homebrew/Caskroom/miniconda/base/envs/ML_WD/lib/python3.10/site-packages/sklearn/metrics/cluster/_supervised.py:58: UserWarning: Clustering metrics expects discrete values but received continuous values for label, and continuous values for target\n",
      "  warnings.warn(msg, UserWarning)\n",
      "/opt/homebrew/Caskroom/miniconda/base/envs/ML_WD/lib/python3.10/site-packages/sklearn/metrics/cluster/_supervised.py:58: UserWarning: Clustering metrics expects discrete values but received continuous values for label, and continuous values for target\n",
      "  warnings.warn(msg, UserWarning)\n",
      "/opt/homebrew/Caskroom/miniconda/base/envs/ML_WD/lib/python3.10/site-packages/sklearn/metrics/cluster/_supervised.py:58: UserWarning: Clustering metrics expects discrete values but received continuous values for label, and continuous values for target\n",
      "  warnings.warn(msg, UserWarning)\n",
      "/opt/homebrew/Caskroom/miniconda/base/envs/ML_WD/lib/python3.10/site-packages/sklearn/metrics/cluster/_supervised.py:58: UserWarning: Clustering metrics expects discrete values but received continuous values for label, and continuous values for target\n",
      "  warnings.warn(msg, UserWarning)\n",
      "/opt/homebrew/Caskroom/miniconda/base/envs/ML_WD/lib/python3.10/site-packages/sklearn/metrics/cluster/_supervised.py:58: UserWarning: Clustering metrics expects discrete values but received continuous values for label, and continuous values for target\n",
      "  warnings.warn(msg, UserWarning)\n",
      "/opt/homebrew/Caskroom/miniconda/base/envs/ML_WD/lib/python3.10/site-packages/sklearn/metrics/cluster/_supervised.py:58: UserWarning: Clustering metrics expects discrete values but received continuous values for label, and continuous values for target\n",
      "  warnings.warn(msg, UserWarning)\n",
      "/opt/homebrew/Caskroom/miniconda/base/envs/ML_WD/lib/python3.10/site-packages/sklearn/metrics/cluster/_supervised.py:58: UserWarning: Clustering metrics expects discrete values but received continuous values for label, and continuous values for target\n",
      "  warnings.warn(msg, UserWarning)\n",
      "/opt/homebrew/Caskroom/miniconda/base/envs/ML_WD/lib/python3.10/site-packages/sklearn/metrics/cluster/_supervised.py:58: UserWarning: Clustering metrics expects discrete values but received continuous values for label, and binary values for target\n",
      "  warnings.warn(msg, UserWarning)\n",
      "/opt/homebrew/Caskroom/miniconda/base/envs/ML_WD/lib/python3.10/site-packages/sklearn/metrics/cluster/_supervised.py:58: UserWarning: Clustering metrics expects discrete values but received continuous values for label, and binary values for target\n",
      "  warnings.warn(msg, UserWarning)\n",
      "/opt/homebrew/Caskroom/miniconda/base/envs/ML_WD/lib/python3.10/site-packages/sklearn/metrics/cluster/_supervised.py:58: UserWarning: Clustering metrics expects discrete values but received continuous values for label, and binary values for target\n",
      "  warnings.warn(msg, UserWarning)\n",
      "/opt/homebrew/Caskroom/miniconda/base/envs/ML_WD/lib/python3.10/site-packages/sklearn/metrics/cluster/_supervised.py:58: UserWarning: Clustering metrics expects discrete values but received continuous values for label, and binary values for target\n",
      "  warnings.warn(msg, UserWarning)\n",
      "/opt/homebrew/Caskroom/miniconda/base/envs/ML_WD/lib/python3.10/site-packages/sklearn/metrics/cluster/_supervised.py:58: UserWarning: Clustering metrics expects discrete values but received continuous values for label, and binary values for target\n",
      "  warnings.warn(msg, UserWarning)\n",
      "/opt/homebrew/Caskroom/miniconda/base/envs/ML_WD/lib/python3.10/site-packages/sklearn/metrics/cluster/_supervised.py:58: UserWarning: Clustering metrics expects discrete values but received continuous values for label, and binary values for target\n",
      "  warnings.warn(msg, UserWarning)\n",
      "/opt/homebrew/Caskroom/miniconda/base/envs/ML_WD/lib/python3.10/site-packages/sklearn/metrics/cluster/_supervised.py:58: UserWarning: Clustering metrics expects discrete values but received continuous values for label, and binary values for target\n",
      "  warnings.warn(msg, UserWarning)\n",
      "/opt/homebrew/Caskroom/miniconda/base/envs/ML_WD/lib/python3.10/site-packages/sklearn/metrics/cluster/_supervised.py:58: UserWarning: Clustering metrics expects discrete values but received continuous values for label, and binary values for target\n",
      "  warnings.warn(msg, UserWarning)\n",
      "/opt/homebrew/Caskroom/miniconda/base/envs/ML_WD/lib/python3.10/site-packages/sklearn/metrics/cluster/_supervised.py:58: UserWarning: Clustering metrics expects discrete values but received continuous values for label, and continuous values for target\n",
      "  warnings.warn(msg, UserWarning)\n",
      "/opt/homebrew/Caskroom/miniconda/base/envs/ML_WD/lib/python3.10/site-packages/sklearn/metrics/cluster/_supervised.py:58: UserWarning: Clustering metrics expects discrete values but received continuous values for label, and continuous values for target\n",
      "  warnings.warn(msg, UserWarning)\n",
      "/opt/homebrew/Caskroom/miniconda/base/envs/ML_WD/lib/python3.10/site-packages/sklearn/metrics/cluster/_supervised.py:58: UserWarning: Clustering metrics expects discrete values but received continuous values for label, and continuous values for target\n",
      "  warnings.warn(msg, UserWarning)\n",
      "/opt/homebrew/Caskroom/miniconda/base/envs/ML_WD/lib/python3.10/site-packages/sklearn/metrics/cluster/_supervised.py:58: UserWarning: Clustering metrics expects discrete values but received continuous values for label, and continuous values for target\n",
      "  warnings.warn(msg, UserWarning)\n",
      "/opt/homebrew/Caskroom/miniconda/base/envs/ML_WD/lib/python3.10/site-packages/sklearn/metrics/cluster/_supervised.py:58: UserWarning: Clustering metrics expects discrete values but received continuous values for label, and continuous values for target\n",
      "  warnings.warn(msg, UserWarning)\n",
      "/opt/homebrew/Caskroom/miniconda/base/envs/ML_WD/lib/python3.10/site-packages/sklearn/metrics/cluster/_supervised.py:58: UserWarning: Clustering metrics expects discrete values but received continuous values for label, and continuous values for target\n",
      "  warnings.warn(msg, UserWarning)\n",
      "/opt/homebrew/Caskroom/miniconda/base/envs/ML_WD/lib/python3.10/site-packages/sklearn/metrics/cluster/_supervised.py:58: UserWarning: Clustering metrics expects discrete values but received continuous values for label, and binary values for target\n",
      "  warnings.warn(msg, UserWarning)\n",
      "/opt/homebrew/Caskroom/miniconda/base/envs/ML_WD/lib/python3.10/site-packages/sklearn/metrics/cluster/_supervised.py:58: UserWarning: Clustering metrics expects discrete values but received continuous values for label, and binary values for target\n",
      "  warnings.warn(msg, UserWarning)\n",
      "/opt/homebrew/Caskroom/miniconda/base/envs/ML_WD/lib/python3.10/site-packages/sklearn/metrics/cluster/_supervised.py:58: UserWarning: Clustering metrics expects discrete values but received continuous values for label, and binary values for target\n",
      "  warnings.warn(msg, UserWarning)\n",
      "/opt/homebrew/Caskroom/miniconda/base/envs/ML_WD/lib/python3.10/site-packages/sklearn/metrics/cluster/_supervised.py:58: UserWarning: Clustering metrics expects discrete values but received continuous values for label, and binary values for target\n",
      "  warnings.warn(msg, UserWarning)\n",
      "/opt/homebrew/Caskroom/miniconda/base/envs/ML_WD/lib/python3.10/site-packages/sklearn/metrics/cluster/_supervised.py:58: UserWarning: Clustering metrics expects discrete values but received continuous values for label, and binary values for target\n",
      "  warnings.warn(msg, UserWarning)\n",
      "/opt/homebrew/Caskroom/miniconda/base/envs/ML_WD/lib/python3.10/site-packages/sklearn/metrics/cluster/_supervised.py:58: UserWarning: Clustering metrics expects discrete values but received continuous values for label, and binary values for target\n",
      "  warnings.warn(msg, UserWarning)\n"
     ]
    },
    {
     "name": "stdout",
     "output_type": "stream",
     "text": [
      "Sensor placements: [29, 0, 1, 8, 2, 14, 22, 5, 25, 20, 17, 11, 27, 4, 16]\n"
     ]
    }
   ],
   "source": [
    "sensor_placements = calc_sensor_placement_parallel(node_pressures, num_sensors=15, n_jobs=8)\n",
    "print(\"Sensor placements:\", sensor_placements)"
   ]
  },
  {
   "cell_type": "code",
   "execution_count": 9,
   "metadata": {},
   "outputs": [],
   "source": [
    "# we can use the results from the bigger list of sensor placements to create a smaller list\n",
    "sensor_placements_5 = sensor_placements[:5]"
   ]
  },
  {
   "cell_type": "code",
   "execution_count": 10,
   "metadata": {},
   "outputs": [],
   "source": [
    "sensor_placements_10 = sensor_placements[:10]"
   ]
  },
  {
   "cell_type": "code",
   "execution_count": 11,
   "metadata": {},
   "outputs": [],
   "source": [
    "configs = load_leakdb_scenarios(scenarios_id=scen_keys, use_net1=False, verbose=True)\n",
    "scenarios = {}\n",
    "for i, key in enumerate(scen_keys):\n",
    "    scenarios[key] = ScenarioSimulator(scenario_config=configs[i])"
   ]
  },
  {
   "cell_type": "markdown",
   "metadata": {},
   "source": [
    "The topology of the water distribution network does not change between the different scenarios. Here the general topology is inspected."
   ]
  },
  {
   "cell_type": "code",
   "execution_count": 12,
   "metadata": {},
   "outputs": [
    {
     "data": {
      "image/png": "[encoded data removed]",
      "text/plain": [
       "<Figure size 1280x960 with 1 Axes>"
      ]
     },
     "metadata": {},
     "output_type": "display_data"
    }
   ],
   "source": [
    "scenarios[scen_train_keys[0]].plot_topology()"
   ]
  },
  {
   "cell_type": "markdown",
   "metadata": {},
   "source": [
    "Run the complete set of simulations:"
   ]
  },
  {
   "cell_type": "code",
   "execution_count": 13,
   "metadata": {},
   "outputs": [
    {
     "name": "stdout",
     "output_type": "stream",
     "text": [
      "Running EPANET ...\n"
     ]
    },
    {
     "name": "stderr",
     "output_type": "stream",
     "text": [
      "Time steps: 100%|########################################################################################################################9| 17520/17521 [00:05<00:00, 3063.23it/s]\n"
     ]
    },
    {
     "name": "stdout",
     "output_type": "stream",
     "text": [
      "Running EPANET ...\n"
     ]
    },
    {
     "name": "stderr",
     "output_type": "stream",
     "text": [
      "Time steps: 100%|########################################################################################################################9| 17520/17521 [00:05<00:00, 3025.54it/s]\n"
     ]
    },
    {
     "name": "stdout",
     "output_type": "stream",
     "text": [
      "Running EPANET ...\n"
     ]
    },
    {
     "name": "stderr",
     "output_type": "stream",
     "text": [
      "Time steps: 100%|########################################################################################################################9| 17520/17521 [00:05<00:00, 3080.17it/s]\n"
     ]
    },
    {
     "name": "stdout",
     "output_type": "stream",
     "text": [
      "Running EPANET ...\n"
     ]
    },
    {
     "name": "stderr",
     "output_type": "stream",
     "text": [
      "Time steps: 100%|########################################################################################################################9| 17520/17521 [00:05<00:00, 3062.11it/s]\n"
     ]
    },
    {
     "name": "stdout",
     "output_type": "stream",
     "text": [
      "Running EPANET ...\n"
     ]
    },
    {
     "name": "stderr",
     "output_type": "stream",
     "text": [
      "Time steps: 100%|########################################################################################################################9| 17520/17521 [00:05<00:00, 3094.87it/s]\n"
     ]
    },
    {
     "name": "stdout",
     "output_type": "stream",
     "text": [
      "Running EPANET ...\n"
     ]
    },
    {
     "name": "stderr",
     "output_type": "stream",
     "text": [
      "Time steps: 100%|########################################################################################################################9| 17520/17521 [00:05<00:00, 3011.40it/s]\n"
     ]
    },
    {
     "name": "stdout",
     "output_type": "stream",
     "text": [
      "Running EPANET ...\n"
     ]
    },
    {
     "name": "stderr",
     "output_type": "stream",
     "text": [
      "Time steps: 100%|########################################################################################################################9| 17520/17521 [00:05<00:00, 3068.48it/s]\n"
     ]
    },
    {
     "name": "stdout",
     "output_type": "stream",
     "text": [
      "Running EPANET ...\n"
     ]
    },
    {
     "name": "stderr",
     "output_type": "stream",
     "text": [
      "Time steps: 100%|########################################################################################################################9| 17520/17521 [00:05<00:00, 3075.74it/s]\n"
     ]
    },
    {
     "name": "stdout",
     "output_type": "stream",
     "text": [
      "Running EPANET ...\n"
     ]
    },
    {
     "name": "stderr",
     "output_type": "stream",
     "text": [
      "Time steps: 100%|########################################################################################################################9| 17520/17521 [00:05<00:00, 3006.41it/s]\n"
     ]
    },
    {
     "name": "stdout",
     "output_type": "stream",
     "text": [
      "Running EPANET ...\n"
     ]
    },
    {
     "name": "stderr",
     "output_type": "stream",
     "text": [
      "Time steps: 100%|########################################################################################################################9| 17520/17521 [00:05<00:00, 3048.76it/s]\n"
     ]
    },
    {
     "name": "stdout",
     "output_type": "stream",
     "text": [
      "Running EPANET ...\n"
     ]
    },
    {
     "name": "stderr",
     "output_type": "stream",
     "text": [
      "Time steps: 100%|########################################################################################################################9| 17520/17521 [00:05<00:00, 3056.14it/s]\n"
     ]
    },
    {
     "name": "stdout",
     "output_type": "stream",
     "text": [
      "Running EPANET ...\n"
     ]
    },
    {
     "name": "stderr",
     "output_type": "stream",
     "text": [
      "Time steps: 100%|########################################################################################################################9| 17520/17521 [00:05<00:00, 3079.88it/s]\n"
     ]
    },
    {
     "name": "stdout",
     "output_type": "stream",
     "text": [
      "Running EPANET ...\n"
     ]
    },
    {
     "name": "stderr",
     "output_type": "stream",
     "text": [
      "Time steps: 100%|########################################################################################################################9| 17520/17521 [00:05<00:00, 3059.73it/s]\n"
     ]
    },
    {
     "name": "stdout",
     "output_type": "stream",
     "text": [
      "Running EPANET ...\n"
     ]
    },
    {
     "name": "stderr",
     "output_type": "stream",
     "text": [
      "Time steps: 100%|########################################################################################################################9| 17520/17521 [00:05<00:00, 3039.99it/s]\n"
     ]
    },
    {
     "name": "stdout",
     "output_type": "stream",
     "text": [
      "Running EPANET ...\n"
     ]
    },
    {
     "name": "stderr",
     "output_type": "stream",
     "text": [
      "Time steps: 100%|########################################################################################################################9| 17520/17521 [00:05<00:00, 2968.16it/s]\n"
     ]
    },
    {
     "name": "stdout",
     "output_type": "stream",
     "text": [
      "Running EPANET ...\n"
     ]
    },
    {
     "name": "stderr",
     "output_type": "stream",
     "text": [
      "Time steps: 100%|########################################################################################################################9| 17520/17521 [00:05<00:00, 3063.18it/s]\n"
     ]
    },
    {
     "name": "stdout",
     "output_type": "stream",
     "text": [
      "Running EPANET ...\n"
     ]
    },
    {
     "name": "stderr",
     "output_type": "stream",
     "text": [
      "Time steps: 100%|########################################################################################################################9| 17520/17521 [00:05<00:00, 3032.51it/s]\n"
     ]
    },
    {
     "name": "stdout",
     "output_type": "stream",
     "text": [
      "Running EPANET ...\n"
     ]
    },
    {
     "name": "stderr",
     "output_type": "stream",
     "text": [
      "Time steps: 100%|########################################################################################################################9| 17520/17521 [00:05<00:00, 3026.95it/s]\n"
     ]
    },
    {
     "name": "stdout",
     "output_type": "stream",
     "text": [
      "Running EPANET ...\n"
     ]
    },
    {
     "name": "stderr",
     "output_type": "stream",
     "text": [
      "Time steps: 100%|########################################################################################################################9| 17520/17521 [00:05<00:00, 3061.96it/s]\n"
     ]
    },
    {
     "name": "stdout",
     "output_type": "stream",
     "text": [
      "Running EPANET ...\n"
     ]
    },
    {
     "name": "stderr",
     "output_type": "stream",
     "text": [
      "Time steps: 100%|########################################################################################################################9| 17520/17521 [00:05<00:00, 3053.59it/s]\n"
     ]
    },
    {
     "name": "stdout",
     "output_type": "stream",
     "text": [
      "Running EPANET ...\n"
     ]
    },
    {
     "name": "stderr",
     "output_type": "stream",
     "text": [
      "Time steps: 100%|########################################################################################################################9| 17520/17521 [00:05<00:00, 3073.88it/s]\n"
     ]
    },
    {
     "name": "stdout",
     "output_type": "stream",
     "text": [
      "Running EPANET ...\n"
     ]
    },
    {
     "name": "stderr",
     "output_type": "stream",
     "text": [
      "Time steps: 100%|########################################################################################################################9| 17520/17521 [00:05<00:00, 3047.99it/s]\n"
     ]
    },
    {
     "name": "stdout",
     "output_type": "stream",
     "text": [
      "Running EPANET ...\n"
     ]
    },
    {
     "name": "stderr",
     "output_type": "stream",
     "text": [
      "Time steps: 100%|########################################################################################################################9| 17520/17521 [00:05<00:00, 3051.36it/s]\n"
     ]
    },
    {
     "name": "stdout",
     "output_type": "stream",
     "text": [
      "Running EPANET ...\n"
     ]
    },
    {
     "name": "stderr",
     "output_type": "stream",
     "text": [
      "Time steps: 100%|########################################################################################################################9| 17520/17521 [00:05<00:00, 3056.10it/s]\n"
     ]
    },
    {
     "name": "stdout",
     "output_type": "stream",
     "text": [
      "Running EPANET ...\n"
     ]
    },
    {
     "name": "stderr",
     "output_type": "stream",
     "text": [
      "Time steps: 100%|########################################################################################################################9| 17520/17521 [00:05<00:00, 3070.48it/s]\n"
     ]
    },
    {
     "name": "stdout",
     "output_type": "stream",
     "text": [
      "Running EPANET ...\n"
     ]
    },
    {
     "name": "stderr",
     "output_type": "stream",
     "text": [
      "Time steps: 100%|########################################################################################################################9| 17520/17521 [00:05<00:00, 3063.27it/s]\n"
     ]
    },
    {
     "name": "stdout",
     "output_type": "stream",
     "text": [
      "Running EPANET ...\n"
     ]
    },
    {
     "name": "stderr",
     "output_type": "stream",
     "text": [
      "Time steps: 100%|########################################################################################################################9| 17520/17521 [00:05<00:00, 3042.52it/s]\n"
     ]
    },
    {
     "name": "stdout",
     "output_type": "stream",
     "text": [
      "Running EPANET ...\n"
     ]
    },
    {
     "name": "stderr",
     "output_type": "stream",
     "text": [
      "Time steps: 100%|########################################################################################################################9| 17520/17521 [00:05<00:00, 3099.44it/s]\n"
     ]
    },
    {
     "name": "stdout",
     "output_type": "stream",
     "text": [
      "Running EPANET ...\n"
     ]
    },
    {
     "name": "stderr",
     "output_type": "stream",
     "text": [
      "Time steps: 100%|########################################################################################################################9| 17520/17521 [00:05<00:00, 3039.51it/s]\n"
     ]
    },
    {
     "name": "stdout",
     "output_type": "stream",
     "text": [
      "Running EPANET ...\n"
     ]
    },
    {
     "name": "stderr",
     "output_type": "stream",
     "text": [
      "Time steps: 100%|########################################################################################################################9| 17520/17521 [00:05<00:00, 3011.07it/s]\n"
     ]
    },
    {
     "name": "stdout",
     "output_type": "stream",
     "text": [
      "Running EPANET ...\n"
     ]
    },
    {
     "name": "stderr",
     "output_type": "stream",
     "text": [
      "Time steps: 100%|########################################################################################################################9| 17520/17521 [00:05<00:00, 3087.56it/s]\n"
     ]
    },
    {
     "name": "stdout",
     "output_type": "stream",
     "text": [
      "Running EPANET ...\n"
     ]
    },
    {
     "name": "stderr",
     "output_type": "stream",
     "text": [
      "Time steps: 100%|########################################################################################################################9| 17520/17521 [00:05<00:00, 2964.94it/s]\n"
     ]
    },
    {
     "name": "stdout",
     "output_type": "stream",
     "text": [
      "Running EPANET ...\n"
     ]
    },
    {
     "name": "stderr",
     "output_type": "stream",
     "text": [
      "Time steps: 100%|########################################################################################################################9| 17520/17521 [00:05<00:00, 2988.26it/s]\n"
     ]
    },
    {
     "name": "stdout",
     "output_type": "stream",
     "text": [
      "Running EPANET ...\n"
     ]
    },
    {
     "name": "stderr",
     "output_type": "stream",
     "text": [
      "Time steps: 100%|########################################################################################################################9| 17520/17521 [00:05<00:00, 3060.29it/s]\n"
     ]
    },
    {
     "name": "stdout",
     "output_type": "stream",
     "text": [
      "Running EPANET ...\n"
     ]
    },
    {
     "name": "stderr",
     "output_type": "stream",
     "text": [
      "Time steps: 100%|########################################################################################################################9| 17520/17521 [00:05<00:00, 3078.44it/s]\n"
     ]
    },
    {
     "name": "stdout",
     "output_type": "stream",
     "text": [
      "Running EPANET ...\n"
     ]
    },
    {
     "name": "stderr",
     "output_type": "stream",
     "text": [
      "Time steps: 100%|########################################################################################################################9| 17520/17521 [00:05<00:00, 3036.50it/s]\n"
     ]
    },
    {
     "name": "stdout",
     "output_type": "stream",
     "text": [
      "Running EPANET ...\n"
     ]
    },
    {
     "name": "stderr",
     "output_type": "stream",
     "text": [
      "Time steps: 100%|########################################################################################################################9| 17520/17521 [00:05<00:00, 3053.86it/s]\n"
     ]
    },
    {
     "name": "stdout",
     "output_type": "stream",
     "text": [
      "Running EPANET ...\n"
     ]
    },
    {
     "name": "stderr",
     "output_type": "stream",
     "text": [
      "Time steps: 100%|########################################################################################################################9| 17520/17521 [00:05<00:00, 3064.58it/s]\n"
     ]
    },
    {
     "name": "stdout",
     "output_type": "stream",
     "text": [
      "Running EPANET ...\n"
     ]
    },
    {
     "name": "stderr",
     "output_type": "stream",
     "text": [
      "Time steps: 100%|########################################################################################################################9| 17520/17521 [00:05<00:00, 3032.35it/s]\n"
     ]
    },
    {
     "name": "stdout",
     "output_type": "stream",
     "text": [
      "Running EPANET ...\n"
     ]
    },
    {
     "name": "stderr",
     "output_type": "stream",
     "text": [
      "Time steps: 100%|########################################################################################################################9| 17520/17521 [00:05<00:00, 3035.98it/s]\n"
     ]
    },
    {
     "name": "stdout",
     "output_type": "stream",
     "text": [
      "Running EPANET ...\n"
     ]
    },
    {
     "name": "stderr",
     "output_type": "stream",
     "text": [
      "Time steps: 100%|########################################################################################################################9| 17520/17521 [00:05<00:00, 3090.38it/s]\n"
     ]
    },
    {
     "name": "stdout",
     "output_type": "stream",
     "text": [
      "Running EPANET ...\n"
     ]
    },
    {
     "name": "stderr",
     "output_type": "stream",
     "text": [
      "Time steps: 100%|########################################################################################################################9| 17520/17521 [00:05<00:00, 3075.03it/s]\n"
     ]
    },
    {
     "name": "stdout",
     "output_type": "stream",
     "text": [
      "Running EPANET ...\n"
     ]
    },
    {
     "name": "stderr",
     "output_type": "stream",
     "text": [
      "Time steps: 100%|########################################################################################################################9| 17520/17521 [00:05<00:00, 3086.94it/s]\n"
     ]
    },
    {
     "name": "stdout",
     "output_type": "stream",
     "text": [
      "Running EPANET ...\n"
     ]
    },
    {
     "name": "stderr",
     "output_type": "stream",
     "text": [
      "Time steps: 100%|########################################################################################################################9| 17520/17521 [00:05<00:00, 3077.42it/s]\n"
     ]
    },
    {
     "name": "stdout",
     "output_type": "stream",
     "text": [
      "Running EPANET ...\n"
     ]
    },
    {
     "name": "stderr",
     "output_type": "stream",
     "text": [
      "Time steps: 100%|########################################################################################################################9| 17520/17521 [00:05<00:00, 3108.38it/s]\n"
     ]
    },
    {
     "name": "stdout",
     "output_type": "stream",
     "text": [
      "Running EPANET ...\n"
     ]
    },
    {
     "name": "stderr",
     "output_type": "stream",
     "text": [
      "Time steps: 100%|########################################################################################################################9| 17520/17521 [00:05<00:00, 3022.95it/s]\n"
     ]
    },
    {
     "name": "stdout",
     "output_type": "stream",
     "text": [
      "Running EPANET ...\n"
     ]
    },
    {
     "name": "stderr",
     "output_type": "stream",
     "text": [
      "Time steps: 100%|########################################################################################################################9| 17520/17521 [00:05<00:00, 3082.20it/s]\n"
     ]
    },
    {
     "name": "stdout",
     "output_type": "stream",
     "text": [
      "Running EPANET ...\n"
     ]
    },
    {
     "name": "stderr",
     "output_type": "stream",
     "text": [
      "Time steps: 100%|########################################################################################################################9| 17520/17521 [00:05<00:00, 3022.23it/s]\n"
     ]
    },
    {
     "name": "stdout",
     "output_type": "stream",
     "text": [
      "Running EPANET ...\n"
     ]
    },
    {
     "name": "stderr",
     "output_type": "stream",
     "text": [
      "Time steps: 100%|########################################################################################################################9| 17520/17521 [00:05<00:00, 3059.09it/s]\n"
     ]
    },
    {
     "name": "stdout",
     "output_type": "stream",
     "text": [
      "Running EPANET ...\n"
     ]
    },
    {
     "name": "stderr",
     "output_type": "stream",
     "text": [
      "Time steps: 100%|########################################################################################################################9| 17520/17521 [00:05<00:00, 3061.06it/s]\n"
     ]
    },
    {
     "name": "stdout",
     "output_type": "stream",
     "text": [
      "Running EPANET ...\n"
     ]
    },
    {
     "name": "stderr",
     "output_type": "stream",
     "text": [
      "Time steps: 100%|########################################################################################################################9| 17520/17521 [00:05<00:00, 3017.78it/s]\n"
     ]
    },
    {
     "name": "stdout",
     "output_type": "stream",
     "text": [
      "Running EPANET ...\n"
     ]
    },
    {
     "name": "stderr",
     "output_type": "stream",
     "text": [
      "Time steps: 100%|########################################################################################################################9| 17520/17521 [00:05<00:00, 3049.99it/s]\n"
     ]
    },
    {
     "name": "stdout",
     "output_type": "stream",
     "text": [
      "Running EPANET ...\n"
     ]
    },
    {
     "name": "stderr",
     "output_type": "stream",
     "text": [
      "Time steps: 100%|########################################################################################################################9| 17520/17521 [00:05<00:00, 3043.16it/s]\n"
     ]
    },
    {
     "name": "stdout",
     "output_type": "stream",
     "text": [
      "Running EPANET ...\n"
     ]
    },
    {
     "name": "stderr",
     "output_type": "stream",
     "text": [
      "Time steps: 100%|########################################################################################################################9| 17520/17521 [00:05<00:00, 3044.17it/s]\n"
     ]
    },
    {
     "name": "stdout",
     "output_type": "stream",
     "text": [
      "Running EPANET ...\n"
     ]
    },
    {
     "name": "stderr",
     "output_type": "stream",
     "text": [
      "Time steps: 100%|########################################################################################################################9| 17520/17521 [00:05<00:00, 3099.76it/s]\n"
     ]
    },
    {
     "name": "stdout",
     "output_type": "stream",
     "text": [
      "Running EPANET ...\n"
     ]
    },
    {
     "name": "stderr",
     "output_type": "stream",
     "text": [
      "Time steps: 100%|########################################################################################################################9| 17520/17521 [00:05<00:00, 3044.36it/s]\n"
     ]
    },
    {
     "name": "stdout",
     "output_type": "stream",
     "text": [
      "Running EPANET ...\n"
     ]
    },
    {
     "name": "stderr",
     "output_type": "stream",
     "text": [
      "Time steps: 100%|########################################################################################################################9| 17520/17521 [00:05<00:00, 3005.37it/s]\n"
     ]
    },
    {
     "name": "stdout",
     "output_type": "stream",
     "text": [
      "Running EPANET ...\n"
     ]
    },
    {
     "name": "stderr",
     "output_type": "stream",
     "text": [
      "Time steps: 100%|########################################################################################################################9| 17520/17521 [00:05<00:00, 3047.75it/s]\n"
     ]
    },
    {
     "name": "stdout",
     "output_type": "stream",
     "text": [
      "Running EPANET ...\n"
     ]
    },
    {
     "name": "stderr",
     "output_type": "stream",
     "text": [
      "Time steps: 100%|########################################################################################################################9| 17520/17521 [00:05<00:00, 3043.75it/s]\n"
     ]
    },
    {
     "name": "stdout",
     "output_type": "stream",
     "text": [
      "Running EPANET ...\n"
     ]
    },
    {
     "name": "stderr",
     "output_type": "stream",
     "text": [
      "Time steps: 100%|########################################################################################################################9| 17520/17521 [00:05<00:00, 3050.90it/s]\n"
     ]
    },
    {
     "name": "stdout",
     "output_type": "stream",
     "text": [
      "Running EPANET ...\n"
     ]
    },
    {
     "name": "stderr",
     "output_type": "stream",
     "text": [
      "Time steps: 100%|########################################################################################################################9| 17520/17521 [00:05<00:00, 3046.87it/s]\n"
     ]
    },
    {
     "name": "stdout",
     "output_type": "stream",
     "text": [
      "Running EPANET ...\n"
     ]
    },
    {
     "name": "stderr",
     "output_type": "stream",
     "text": [
      "Time steps: 100%|########################################################################################################################9| 17520/17521 [00:05<00:00, 3068.55it/s]\n"
     ]
    },
    {
     "name": "stdout",
     "output_type": "stream",
     "text": [
      "Running EPANET ...\n"
     ]
    },
    {
     "name": "stderr",
     "output_type": "stream",
     "text": [
      "Time steps: 100%|########################################################################################################################9| 17520/17521 [00:05<00:00, 3049.47it/s]\n"
     ]
    },
    {
     "name": "stdout",
     "output_type": "stream",
     "text": [
      "Running EPANET ...\n"
     ]
    },
    {
     "name": "stderr",
     "output_type": "stream",
     "text": [
      "Time steps: 100%|########################################################################################################################9| 17520/17521 [00:05<00:00, 2964.66it/s]\n"
     ]
    },
    {
     "name": "stdout",
     "output_type": "stream",
     "text": [
      "Running EPANET ...\n"
     ]
    },
    {
     "name": "stderr",
     "output_type": "stream",
     "text": [
      "Time steps: 100%|########################################################################################################################9| 17520/17521 [00:05<00:00, 3066.77it/s]\n"
     ]
    },
    {
     "name": "stdout",
     "output_type": "stream",
     "text": [
      "Running EPANET ...\n"
     ]
    },
    {
     "name": "stderr",
     "output_type": "stream",
     "text": [
      "Time steps: 100%|########################################################################################################################9| 17520/17521 [00:05<00:00, 3012.00it/s]\n"
     ]
    },
    {
     "name": "stdout",
     "output_type": "stream",
     "text": [
      "Running EPANET ...\n"
     ]
    },
    {
     "name": "stderr",
     "output_type": "stream",
     "text": [
      "Time steps: 100%|########################################################################################################################9| 17520/17521 [00:05<00:00, 3083.13it/s]\n"
     ]
    },
    {
     "name": "stdout",
     "output_type": "stream",
     "text": [
      "Running EPANET ...\n"
     ]
    },
    {
     "name": "stderr",
     "output_type": "stream",
     "text": [
      "Time steps: 100%|########################################################################################################################9| 17520/17521 [00:05<00:00, 3054.16it/s]\n"
     ]
    },
    {
     "name": "stdout",
     "output_type": "stream",
     "text": [
      "Running EPANET ...\n"
     ]
    },
    {
     "name": "stderr",
     "output_type": "stream",
     "text": [
      "Time steps: 100%|########################################################################################################################9| 17520/17521 [00:05<00:00, 3050.64it/s]\n"
     ]
    },
    {
     "name": "stdout",
     "output_type": "stream",
     "text": [
      "Running EPANET ...\n"
     ]
    },
    {
     "name": "stderr",
     "output_type": "stream",
     "text": [
      "Time steps: 100%|########################################################################################################################9| 17520/17521 [00:05<00:00, 3073.41it/s]\n"
     ]
    },
    {
     "name": "stdout",
     "output_type": "stream",
     "text": [
      "Running EPANET ...\n"
     ]
    },
    {
     "name": "stderr",
     "output_type": "stream",
     "text": [
      "Time steps: 100%|########################################################################################################################9| 17520/17521 [00:05<00:00, 3041.14it/s]\n"
     ]
    },
    {
     "name": "stdout",
     "output_type": "stream",
     "text": [
      "Running EPANET ...\n"
     ]
    },
    {
     "name": "stderr",
     "output_type": "stream",
     "text": [
      "Time steps: 100%|########################################################################################################################9| 17520/17521 [00:05<00:00, 3064.02it/s]\n"
     ]
    },
    {
     "name": "stdout",
     "output_type": "stream",
     "text": [
      "Running EPANET ...\n"
     ]
    },
    {
     "name": "stderr",
     "output_type": "stream",
     "text": [
      "Time steps: 100%|########################################################################################################################9| 17520/17521 [00:05<00:00, 3033.79it/s]\n"
     ]
    },
    {
     "name": "stdout",
     "output_type": "stream",
     "text": [
      "Running EPANET ...\n"
     ]
    },
    {
     "name": "stderr",
     "output_type": "stream",
     "text": [
      "Time steps: 100%|########################################################################################################################9| 17520/17521 [00:05<00:00, 3053.65it/s]\n"
     ]
    },
    {
     "name": "stdout",
     "output_type": "stream",
     "text": [
      "Running EPANET ...\n"
     ]
    },
    {
     "name": "stderr",
     "output_type": "stream",
     "text": [
      "Time steps: 100%|########################################################################################################################9| 17520/17521 [00:05<00:00, 3078.35it/s]\n"
     ]
    },
    {
     "name": "stdout",
     "output_type": "stream",
     "text": [
      "Running EPANET ...\n"
     ]
    },
    {
     "name": "stderr",
     "output_type": "stream",
     "text": [
      "Time steps: 100%|########################################################################################################################9| 17520/17521 [00:05<00:00, 3056.93it/s]\n"
     ]
    },
    {
     "name": "stdout",
     "output_type": "stream",
     "text": [
      "Running EPANET ...\n"
     ]
    },
    {
     "name": "stderr",
     "output_type": "stream",
     "text": [
      "Time steps: 100%|########################################################################################################################9| 17520/17521 [00:05<00:00, 3072.36it/s]\n"
     ]
    },
    {
     "name": "stdout",
     "output_type": "stream",
     "text": [
      "Running EPANET ...\n"
     ]
    },
    {
     "name": "stderr",
     "output_type": "stream",
     "text": [
      "Time steps: 100%|########################################################################################################################9| 17520/17521 [00:05<00:00, 3056.18it/s]\n"
     ]
    },
    {
     "name": "stdout",
     "output_type": "stream",
     "text": [
      "Running EPANET ...\n"
     ]
    },
    {
     "name": "stderr",
     "output_type": "stream",
     "text": [
      "Time steps: 100%|########################################################################################################################9| 17520/17521 [00:05<00:00, 3017.23it/s]\n"
     ]
    },
    {
     "name": "stdout",
     "output_type": "stream",
     "text": [
      "Running EPANET ...\n"
     ]
    },
    {
     "name": "stderr",
     "output_type": "stream",
     "text": [
      "Time steps: 100%|########################################################################################################################9| 17520/17521 [00:05<00:00, 3072.20it/s]\n"
     ]
    },
    {
     "name": "stdout",
     "output_type": "stream",
     "text": [
      "Running EPANET ...\n"
     ]
    },
    {
     "name": "stderr",
     "output_type": "stream",
     "text": [
      "Time steps: 100%|########################################################################################################################9| 17520/17521 [00:05<00:00, 3058.45it/s]\n"
     ]
    },
    {
     "name": "stdout",
     "output_type": "stream",
     "text": [
      "Running EPANET ...\n"
     ]
    },
    {
     "name": "stderr",
     "output_type": "stream",
     "text": [
      "Time steps: 100%|########################################################################################################################9| 17520/17521 [00:05<00:00, 2985.51it/s]\n"
     ]
    },
    {
     "name": "stdout",
     "output_type": "stream",
     "text": [
      "Running EPANET ...\n"
     ]
    },
    {
     "name": "stderr",
     "output_type": "stream",
     "text": [
      "Time steps: 100%|########################################################################################################################9| 17520/17521 [00:05<00:00, 3029.43it/s]\n"
     ]
    },
    {
     "name": "stdout",
     "output_type": "stream",
     "text": [
      "Running EPANET ...\n"
     ]
    },
    {
     "name": "stderr",
     "output_type": "stream",
     "text": [
      "Time steps: 100%|########################################################################################################################9| 17520/17521 [00:05<00:00, 3027.75it/s]\n"
     ]
    },
    {
     "name": "stdout",
     "output_type": "stream",
     "text": [
      "Running EPANET ...\n"
     ]
    },
    {
     "name": "stderr",
     "output_type": "stream",
     "text": [
      "Time steps: 100%|########################################################################################################################9| 17520/17521 [00:05<00:00, 3059.59it/s]\n"
     ]
    },
    {
     "name": "stdout",
     "output_type": "stream",
     "text": [
      "Running EPANET ...\n"
     ]
    },
    {
     "name": "stderr",
     "output_type": "stream",
     "text": [
      "Time steps: 100%|########################################################################################################################9| 17520/17521 [00:05<00:00, 2963.17it/s]\n"
     ]
    },
    {
     "name": "stdout",
     "output_type": "stream",
     "text": [
      "Running EPANET ...\n"
     ]
    },
    {
     "name": "stderr",
     "output_type": "stream",
     "text": [
      "Time steps: 100%|########################################################################################################################9| 17520/17521 [00:05<00:00, 3032.70it/s]\n"
     ]
    },
    {
     "name": "stdout",
     "output_type": "stream",
     "text": [
      "Running EPANET ...\n"
     ]
    },
    {
     "name": "stderr",
     "output_type": "stream",
     "text": [
      "Time steps: 100%|########################################################################################################################9| 17520/17521 [00:05<00:00, 3039.00it/s]\n"
     ]
    },
    {
     "name": "stdout",
     "output_type": "stream",
     "text": [
      "Running EPANET ...\n"
     ]
    },
    {
     "name": "stderr",
     "output_type": "stream",
     "text": [
      "Time steps: 100%|########################################################################################################################9| 17520/17521 [00:05<00:00, 3080.30it/s]\n"
     ]
    },
    {
     "name": "stdout",
     "output_type": "stream",
     "text": [
      "Running EPANET ...\n"
     ]
    },
    {
     "name": "stderr",
     "output_type": "stream",
     "text": [
      "Time steps: 100%|########################################################################################################################9| 17520/17521 [00:05<00:00, 3027.68it/s]\n"
     ]
    },
    {
     "name": "stdout",
     "output_type": "stream",
     "text": [
      "Running EPANET ...\n"
     ]
    },
    {
     "name": "stderr",
     "output_type": "stream",
     "text": [
      "Time steps: 100%|########################################################################################################################9| 17520/17521 [00:05<00:00, 3059.56it/s]\n"
     ]
    },
    {
     "name": "stdout",
     "output_type": "stream",
     "text": [
      "Running EPANET ...\n"
     ]
    },
    {
     "name": "stderr",
     "output_type": "stream",
     "text": [
      "Time steps: 100%|########################################################################################################################9| 17520/17521 [00:05<00:00, 3074.39it/s]\n"
     ]
    },
    {
     "name": "stdout",
     "output_type": "stream",
     "text": [
      "Running EPANET ...\n"
     ]
    },
    {
     "name": "stderr",
     "output_type": "stream",
     "text": [
      "Time steps: 100%|########################################################################################################################9| 17520/17521 [00:05<00:00, 2994.44it/s]\n"
     ]
    },
    {
     "name": "stdout",
     "output_type": "stream",
     "text": [
      "Running EPANET ...\n"
     ]
    },
    {
     "name": "stderr",
     "output_type": "stream",
     "text": [
      "Time steps: 100%|########################################################################################################################9| 17520/17521 [00:05<00:00, 2989.92it/s]\n"
     ]
    },
    {
     "name": "stdout",
     "output_type": "stream",
     "text": [
      "Running EPANET ...\n"
     ]
    },
    {
     "name": "stderr",
     "output_type": "stream",
     "text": [
      "Time steps: 100%|########################################################################################################################9| 17520/17521 [00:05<00:00, 3041.42it/s]\n"
     ]
    },
    {
     "name": "stdout",
     "output_type": "stream",
     "text": [
      "Running EPANET ...\n"
     ]
    },
    {
     "name": "stderr",
     "output_type": "stream",
     "text": [
      "Time steps: 100%|########################################################################################################################9| 17520/17521 [00:05<00:00, 3010.03it/s]\n"
     ]
    },
    {
     "name": "stdout",
     "output_type": "stream",
     "text": [
      "Running EPANET ...\n"
     ]
    },
    {
     "name": "stderr",
     "output_type": "stream",
     "text": [
      "Time steps: 100%|########################################################################################################################9| 17520/17521 [00:05<00:00, 3060.65it/s]\n"
     ]
    },
    {
     "name": "stdout",
     "output_type": "stream",
     "text": [
      "Running EPANET ...\n"
     ]
    },
    {
     "name": "stderr",
     "output_type": "stream",
     "text": [
      "Time steps: 100%|########################################################################################################################9| 17520/17521 [00:05<00:00, 3064.40it/s]\n"
     ]
    },
    {
     "name": "stdout",
     "output_type": "stream",
     "text": [
      "Running EPANET ...\n"
     ]
    },
    {
     "name": "stderr",
     "output_type": "stream",
     "text": [
      "Time steps: 100%|########################################################################################################################9| 17520/17521 [00:05<00:00, 2994.26it/s]\n"
     ]
    },
    {
     "name": "stdout",
     "output_type": "stream",
     "text": [
      "Running EPANET ...\n"
     ]
    },
    {
     "name": "stderr",
     "output_type": "stream",
     "text": [
      "Time steps: 100%|########################################################################################################################9| 17520/17521 [00:05<00:00, 3051.86it/s]\n"
     ]
    },
    {
     "name": "stdout",
     "output_type": "stream",
     "text": [
      "Running EPANET ...\n"
     ]
    },
    {
     "name": "stderr",
     "output_type": "stream",
     "text": [
      "Time steps: 100%|########################################################################################################################9| 17520/17521 [00:05<00:00, 2981.03it/s]\n"
     ]
    },
    {
     "name": "stdout",
     "output_type": "stream",
     "text": [
      "Running EPANET ...\n"
     ]
    },
    {
     "name": "stderr",
     "output_type": "stream",
     "text": [
      "Time steps: 100%|########################################################################################################################9| 17520/17521 [00:05<00:00, 3080.41it/s]\n"
     ]
    },
    {
     "name": "stdout",
     "output_type": "stream",
     "text": [
      "Running EPANET ...\n"
     ]
    },
    {
     "name": "stderr",
     "output_type": "stream",
     "text": [
      "Time steps: 100%|########################################################################################################################9| 17520/17521 [00:05<00:00, 3062.17it/s]\n"
     ]
    },
    {
     "name": "stdout",
     "output_type": "stream",
     "text": [
      "Running EPANET ...\n"
     ]
    },
    {
     "name": "stderr",
     "output_type": "stream",
     "text": [
      "Time steps: 100%|########################################################################################################################9| 17520/17521 [00:05<00:00, 3050.54it/s]\n"
     ]
    },
    {
     "name": "stdout",
     "output_type": "stream",
     "text": [
      "Running EPANET ...\n"
     ]
    },
    {
     "name": "stderr",
     "output_type": "stream",
     "text": [
      "Time steps: 100%|########################################################################################################################9| 17520/17521 [00:05<00:00, 3057.55it/s]\n"
     ]
    },
    {
     "name": "stdout",
     "output_type": "stream",
     "text": [
      "Running EPANET ...\n"
     ]
    },
    {
     "name": "stderr",
     "output_type": "stream",
     "text": [
      "Time steps: 100%|########################################################################################################################9| 17520/17521 [00:05<00:00, 2979.18it/s]\n"
     ]
    },
    {
     "name": "stdout",
     "output_type": "stream",
     "text": [
      "Running EPANET ...\n"
     ]
    },
    {
     "name": "stderr",
     "output_type": "stream",
     "text": [
      "Time steps: 100%|########################################################################################################################9| 17520/17521 [00:05<00:00, 3061.44it/s]\n"
     ]
    },
    {
     "name": "stdout",
     "output_type": "stream",
     "text": [
      "Running EPANET ...\n"
     ]
    },
    {
     "name": "stderr",
     "output_type": "stream",
     "text": [
      "Time steps: 100%|########################################################################################################################9| 17520/17521 [00:05<00:00, 3057.36it/s]\n"
     ]
    },
    {
     "name": "stdout",
     "output_type": "stream",
     "text": [
      "Running EPANET ...\n"
     ]
    },
    {
     "name": "stderr",
     "output_type": "stream",
     "text": [
      "Time steps: 100%|########################################################################################################################9| 17520/17521 [00:05<00:00, 3046.33it/s]\n"
     ]
    },
    {
     "name": "stdout",
     "output_type": "stream",
     "text": [
      "Running EPANET ...\n"
     ]
    },
    {
     "name": "stderr",
     "output_type": "stream",
     "text": [
      "Time steps: 100%|########################################################################################################################9| 17520/17521 [00:05<00:00, 3082.59it/s]\n"
     ]
    },
    {
     "name": "stdout",
     "output_type": "stream",
     "text": [
      "Running EPANET ...\n"
     ]
    },
    {
     "name": "stderr",
     "output_type": "stream",
     "text": [
      "Time steps: 100%|########################################################################################################################9| 17520/17521 [00:05<00:00, 3020.55it/s]\n"
     ]
    },
    {
     "name": "stdout",
     "output_type": "stream",
     "text": [
      "Running EPANET ...\n"
     ]
    },
    {
     "name": "stderr",
     "output_type": "stream",
     "text": [
      "Time steps: 100%|########################################################################################################################9| 17520/17521 [00:05<00:00, 3010.39it/s]\n"
     ]
    },
    {
     "name": "stdout",
     "output_type": "stream",
     "text": [
      "Running EPANET ...\n"
     ]
    },
    {
     "name": "stderr",
     "output_type": "stream",
     "text": [
      "Time steps: 100%|########################################################################################################################9| 17520/17521 [00:05<00:00, 3013.42it/s]\n"
     ]
    },
    {
     "name": "stdout",
     "output_type": "stream",
     "text": [
      "Running EPANET ...\n"
     ]
    },
    {
     "name": "stderr",
     "output_type": "stream",
     "text": [
      "Time steps: 100%|########################################################################################################################9| 17520/17521 [00:05<00:00, 2961.24it/s]\n"
     ]
    },
    {
     "name": "stdout",
     "output_type": "stream",
     "text": [
      "Running EPANET ...\n"
     ]
    },
    {
     "name": "stderr",
     "output_type": "stream",
     "text": [
      "Time steps: 100%|########################################################################################################################9| 17520/17521 [00:05<00:00, 2967.38it/s]\n"
     ]
    },
    {
     "name": "stdout",
     "output_type": "stream",
     "text": [
      "Running EPANET ...\n"
     ]
    },
    {
     "name": "stderr",
     "output_type": "stream",
     "text": [
      "Time steps: 100%|########################################################################################################################9| 17520/17521 [00:05<00:00, 3059.47it/s]\n"
     ]
    },
    {
     "name": "stdout",
     "output_type": "stream",
     "text": [
      "Running EPANET ...\n"
     ]
    },
    {
     "name": "stderr",
     "output_type": "stream",
     "text": [
      "Time steps: 100%|########################################################################################################################9| 17520/17521 [00:05<00:00, 3060.71it/s]\n"
     ]
    },
    {
     "name": "stdout",
     "output_type": "stream",
     "text": [
      "Running EPANET ...\n"
     ]
    },
    {
     "name": "stderr",
     "output_type": "stream",
     "text": [
      "Time steps: 100%|########################################################################################################################9| 17520/17521 [00:05<00:00, 3013.34it/s]\n"
     ]
    },
    {
     "name": "stdout",
     "output_type": "stream",
     "text": [
      "Running EPANET ...\n"
     ]
    },
    {
     "name": "stderr",
     "output_type": "stream",
     "text": [
      "Time steps: 100%|########################################################################################################################9| 17520/17521 [00:05<00:00, 3033.14it/s]\n"
     ]
    },
    {
     "name": "stdout",
     "output_type": "stream",
     "text": [
      "Running EPANET ...\n"
     ]
    },
    {
     "name": "stderr",
     "output_type": "stream",
     "text": [
      "Time steps: 100%|########################################################################################################################9| 17520/17521 [00:05<00:00, 3029.49it/s]\n"
     ]
    },
    {
     "name": "stdout",
     "output_type": "stream",
     "text": [
      "Running EPANET ...\n"
     ]
    },
    {
     "name": "stderr",
     "output_type": "stream",
     "text": [
      "Time steps: 100%|########################################################################################################################9| 17520/17521 [00:05<00:00, 3029.56it/s]\n"
     ]
    },
    {
     "name": "stdout",
     "output_type": "stream",
     "text": [
      "Running EPANET ...\n"
     ]
    },
    {
     "name": "stderr",
     "output_type": "stream",
     "text": [
      "Time steps: 100%|########################################################################################################################9| 17520/17521 [00:05<00:00, 3012.06it/s]\n"
     ]
    },
    {
     "name": "stdout",
     "output_type": "stream",
     "text": [
      "Running EPANET ...\n"
     ]
    },
    {
     "name": "stderr",
     "output_type": "stream",
     "text": [
      "Time steps: 100%|########################################################################################################################9| 17520/17521 [00:05<00:00, 3030.47it/s]\n"
     ]
    },
    {
     "name": "stdout",
     "output_type": "stream",
     "text": [
      "Running EPANET ...\n"
     ]
    },
    {
     "name": "stderr",
     "output_type": "stream",
     "text": [
      "Time steps: 100%|########################################################################################################################9| 17520/17521 [00:05<00:00, 3011.61it/s]\n"
     ]
    },
    {
     "name": "stdout",
     "output_type": "stream",
     "text": [
      "Running EPANET ...\n"
     ]
    },
    {
     "name": "stderr",
     "output_type": "stream",
     "text": [
      "Time steps: 100%|########################################################################################################################9| 17520/17521 [00:05<00:00, 3013.55it/s]\n"
     ]
    },
    {
     "name": "stdout",
     "output_type": "stream",
     "text": [
      "Running EPANET ...\n"
     ]
    },
    {
     "name": "stderr",
     "output_type": "stream",
     "text": [
      "Time steps: 100%|########################################################################################################################9| 17520/17521 [00:05<00:00, 3072.92it/s]\n"
     ]
    },
    {
     "name": "stdout",
     "output_type": "stream",
     "text": [
      "Running EPANET ...\n"
     ]
    },
    {
     "name": "stderr",
     "output_type": "stream",
     "text": [
      "Time steps: 100%|########################################################################################################################9| 17520/17521 [00:05<00:00, 3031.25it/s]\n"
     ]
    },
    {
     "name": "stdout",
     "output_type": "stream",
     "text": [
      "Running EPANET ...\n"
     ]
    },
    {
     "name": "stderr",
     "output_type": "stream",
     "text": [
      "Time steps: 100%|########################################################################################################################9| 17520/17521 [00:05<00:00, 3065.48it/s]\n"
     ]
    },
    {
     "name": "stdout",
     "output_type": "stream",
     "text": [
      "Running EPANET ...\n"
     ]
    },
    {
     "name": "stderr",
     "output_type": "stream",
     "text": [
      "Time steps: 100%|########################################################################################################################9| 17520/17521 [00:05<00:00, 2928.66it/s]\n"
     ]
    },
    {
     "name": "stdout",
     "output_type": "stream",
     "text": [
      "Running EPANET ...\n"
     ]
    },
    {
     "name": "stderr",
     "output_type": "stream",
     "text": [
      "Time steps: 100%|########################################################################################################################9| 17520/17521 [00:05<00:00, 3047.49it/s]\n"
     ]
    },
    {
     "name": "stdout",
     "output_type": "stream",
     "text": [
      "Running EPANET ...\n"
     ]
    },
    {
     "name": "stderr",
     "output_type": "stream",
     "text": [
      "Time steps: 100%|########################################################################################################################9| 17520/17521 [00:05<00:00, 3009.77it/s]\n"
     ]
    },
    {
     "name": "stdout",
     "output_type": "stream",
     "text": [
      "Running EPANET ...\n"
     ]
    },
    {
     "name": "stderr",
     "output_type": "stream",
     "text": [
      "Time steps: 100%|########################################################################################################################9| 17520/17521 [00:05<00:00, 3049.03it/s]\n"
     ]
    },
    {
     "name": "stdout",
     "output_type": "stream",
     "text": [
      "Running EPANET ...\n"
     ]
    },
    {
     "name": "stderr",
     "output_type": "stream",
     "text": [
      "Time steps: 100%|########################################################################################################################9| 17520/17521 [00:05<00:00, 3063.60it/s]\n"
     ]
    },
    {
     "name": "stdout",
     "output_type": "stream",
     "text": [
      "Running EPANET ...\n"
     ]
    },
    {
     "name": "stderr",
     "output_type": "stream",
     "text": [
      "Time steps: 100%|########################################################################################################################9| 17520/17521 [00:05<00:00, 2966.92it/s]\n"
     ]
    },
    {
     "name": "stdout",
     "output_type": "stream",
     "text": [
      "Running EPANET ...\n"
     ]
    },
    {
     "name": "stderr",
     "output_type": "stream",
     "text": [
      "Time steps: 100%|########################################################################################################################9| 17520/17521 [00:05<00:00, 3048.58it/s]\n"
     ]
    },
    {
     "name": "stdout",
     "output_type": "stream",
     "text": [
      "Running EPANET ...\n"
     ]
    },
    {
     "name": "stderr",
     "output_type": "stream",
     "text": [
      "Time steps: 100%|########################################################################################################################9| 17520/17521 [00:05<00:00, 3069.16it/s]\n"
     ]
    },
    {
     "name": "stdout",
     "output_type": "stream",
     "text": [
      "Running EPANET ...\n"
     ]
    },
    {
     "name": "stderr",
     "output_type": "stream",
     "text": [
      "Time steps: 100%|########################################################################################################################9| 17520/17521 [00:05<00:00, 3005.48it/s]\n"
     ]
    },
    {
     "name": "stdout",
     "output_type": "stream",
     "text": [
      "Running EPANET ...\n"
     ]
    },
    {
     "name": "stderr",
     "output_type": "stream",
     "text": [
      "Time steps: 100%|########################################################################################################################9| 17520/17521 [00:05<00:00, 3033.80it/s]\n"
     ]
    },
    {
     "name": "stdout",
     "output_type": "stream",
     "text": [
      "Running EPANET ...\n"
     ]
    },
    {
     "name": "stderr",
     "output_type": "stream",
     "text": [
      "Time steps: 100%|########################################################################################################################9| 17520/17521 [00:05<00:00, 3020.35it/s]\n"
     ]
    },
    {
     "name": "stdout",
     "output_type": "stream",
     "text": [
      "Running EPANET ...\n"
     ]
    },
    {
     "name": "stderr",
     "output_type": "stream",
     "text": [
      "Time steps: 100%|########################################################################################################################9| 17520/17521 [00:05<00:00, 2983.61it/s]\n"
     ]
    },
    {
     "name": "stdout",
     "output_type": "stream",
     "text": [
      "Running EPANET ...\n"
     ]
    },
    {
     "name": "stderr",
     "output_type": "stream",
     "text": [
      "Time steps: 100%|########################################################################################################################9| 17520/17521 [00:05<00:00, 2995.93it/s]\n"
     ]
    },
    {
     "name": "stdout",
     "output_type": "stream",
     "text": [
      "Running EPANET ...\n"
     ]
    },
    {
     "name": "stderr",
     "output_type": "stream",
     "text": [
      "Time steps: 100%|########################################################################################################################9| 17520/17521 [00:05<00:00, 3032.40it/s]\n"
     ]
    },
    {
     "name": "stdout",
     "output_type": "stream",
     "text": [
      "Running EPANET ...\n"
     ]
    },
    {
     "name": "stderr",
     "output_type": "stream",
     "text": [
      "Time steps: 100%|########################################################################################################################9| 17520/17521 [00:05<00:00, 3062.98it/s]\n"
     ]
    },
    {
     "name": "stdout",
     "output_type": "stream",
     "text": [
      "Running EPANET ...\n"
     ]
    },
    {
     "name": "stderr",
     "output_type": "stream",
     "text": [
      "Time steps: 100%|########################################################################################################################9| 17520/17521 [00:05<00:00, 2981.93it/s]\n"
     ]
    },
    {
     "name": "stdout",
     "output_type": "stream",
     "text": [
      "Running EPANET ...\n"
     ]
    },
    {
     "name": "stderr",
     "output_type": "stream",
     "text": [
      "Time steps: 100%|########################################################################################################################9| 17520/17521 [00:05<00:00, 3013.98it/s]\n"
     ]
    },
    {
     "name": "stdout",
     "output_type": "stream",
     "text": [
      "Running EPANET ...\n"
     ]
    },
    {
     "name": "stderr",
     "output_type": "stream",
     "text": [
      "Time steps: 100%|########################################################################################################################9| 17520/17521 [00:05<00:00, 2995.66it/s]\n"
     ]
    },
    {
     "name": "stdout",
     "output_type": "stream",
     "text": [
      "Running EPANET ...\n"
     ]
    },
    {
     "name": "stderr",
     "output_type": "stream",
     "text": [
      "Time steps: 100%|########################################################################################################################9| 17520/17521 [00:05<00:00, 3065.32it/s]\n"
     ]
    },
    {
     "name": "stdout",
     "output_type": "stream",
     "text": [
      "Running EPANET ...\n"
     ]
    },
    {
     "name": "stderr",
     "output_type": "stream",
     "text": [
      "Time steps: 100%|########################################################################################################################9| 17520/17521 [00:05<00:00, 3043.67it/s]\n"
     ]
    },
    {
     "name": "stdout",
     "output_type": "stream",
     "text": [
      "Running EPANET ...\n"
     ]
    },
    {
     "name": "stderr",
     "output_type": "stream",
     "text": [
      "Time steps: 100%|########################################################################################################################9| 17520/17521 [00:05<00:00, 3035.95it/s]\n"
     ]
    },
    {
     "name": "stdout",
     "output_type": "stream",
     "text": [
      "Running EPANET ...\n"
     ]
    },
    {
     "name": "stderr",
     "output_type": "stream",
     "text": [
      "Time steps: 100%|########################################################################################################################9| 17520/17521 [00:05<00:00, 3048.29it/s]\n"
     ]
    },
    {
     "name": "stdout",
     "output_type": "stream",
     "text": [
      "Running EPANET ...\n"
     ]
    },
    {
     "name": "stderr",
     "output_type": "stream",
     "text": [
      "Time steps: 100%|########################################################################################################################9| 17520/17521 [00:05<00:00, 3027.70it/s]\n"
     ]
    },
    {
     "name": "stdout",
     "output_type": "stream",
     "text": [
      "Running EPANET ...\n"
     ]
    },
    {
     "name": "stderr",
     "output_type": "stream",
     "text": [
      "Time steps: 100%|########################################################################################################################9| 17520/17521 [00:05<00:00, 3047.55it/s]\n"
     ]
    },
    {
     "name": "stdout",
     "output_type": "stream",
     "text": [
      "Running EPANET ...\n"
     ]
    },
    {
     "name": "stderr",
     "output_type": "stream",
     "text": [
      "Time steps: 100%|########################################################################################################################9| 17520/17521 [00:05<00:00, 3054.75it/s]\n"
     ]
    },
    {
     "name": "stdout",
     "output_type": "stream",
     "text": [
      "Running EPANET ...\n"
     ]
    },
    {
     "name": "stderr",
     "output_type": "stream",
     "text": [
      "Time steps: 100%|########################################################################################################################9| 17520/17521 [00:05<00:00, 3054.09it/s]\n"
     ]
    },
    {
     "name": "stdout",
     "output_type": "stream",
     "text": [
      "Running EPANET ...\n"
     ]
    },
    {
     "name": "stderr",
     "output_type": "stream",
     "text": [
      "Time steps: 100%|########################################################################################################################9| 17520/17521 [00:05<00:00, 2993.00it/s]\n"
     ]
    },
    {
     "name": "stdout",
     "output_type": "stream",
     "text": [
      "Running EPANET ...\n"
     ]
    },
    {
     "name": "stderr",
     "output_type": "stream",
     "text": [
      "Time steps: 100%|########################################################################################################################9| 17520/17521 [00:05<00:00, 3000.32it/s]\n"
     ]
    },
    {
     "name": "stdout",
     "output_type": "stream",
     "text": [
      "Running EPANET ...\n"
     ]
    },
    {
     "name": "stderr",
     "output_type": "stream",
     "text": [
      "Time steps: 100%|########################################################################################################################9| 17520/17521 [00:05<00:00, 3011.13it/s]\n"
     ]
    },
    {
     "name": "stdout",
     "output_type": "stream",
     "text": [
      "Running EPANET ...\n"
     ]
    },
    {
     "name": "stderr",
     "output_type": "stream",
     "text": [
      "Time steps: 100%|########################################################################################################################9| 17520/17521 [00:05<00:00, 3043.71it/s]\n"
     ]
    },
    {
     "name": "stdout",
     "output_type": "stream",
     "text": [
      "Running EPANET ...\n"
     ]
    },
    {
     "name": "stderr",
     "output_type": "stream",
     "text": [
      "Time steps: 100%|########################################################################################################################9| 17520/17521 [00:05<00:00, 3049.86it/s]\n"
     ]
    },
    {
     "name": "stdout",
     "output_type": "stream",
     "text": [
      "Running EPANET ...\n"
     ]
    },
    {
     "name": "stderr",
     "output_type": "stream",
     "text": [
      "Time steps: 100%|########################################################################################################################9| 17520/17521 [00:05<00:00, 3053.28it/s]\n"
     ]
    },
    {
     "name": "stdout",
     "output_type": "stream",
     "text": [
      "Running EPANET ...\n"
     ]
    },
    {
     "name": "stderr",
     "output_type": "stream",
     "text": [
      "Time steps: 100%|########################################################################################################################9| 17520/17521 [00:05<00:00, 2939.74it/s]\n"
     ]
    },
    {
     "name": "stdout",
     "output_type": "stream",
     "text": [
      "Running EPANET ...\n"
     ]
    },
    {
     "name": "stderr",
     "output_type": "stream",
     "text": [
      "Time steps: 100%|########################################################################################################################9| 17520/17521 [00:05<00:00, 3011.16it/s]\n"
     ]
    },
    {
     "name": "stdout",
     "output_type": "stream",
     "text": [
      "Running EPANET ...\n"
     ]
    },
    {
     "name": "stderr",
     "output_type": "stream",
     "text": [
      "Time steps: 100%|########################################################################################################################9| 17520/17521 [00:05<00:00, 3026.54it/s]\n"
     ]
    },
    {
     "name": "stdout",
     "output_type": "stream",
     "text": [
      "Running EPANET ...\n"
     ]
    },
    {
     "name": "stderr",
     "output_type": "stream",
     "text": [
      "Time steps: 100%|########################################################################################################################9| 17520/17521 [00:05<00:00, 3022.69it/s]\n"
     ]
    },
    {
     "name": "stdout",
     "output_type": "stream",
     "text": [
      "Running EPANET ...\n"
     ]
    },
    {
     "name": "stderr",
     "output_type": "stream",
     "text": [
      "Time steps: 100%|########################################################################################################################9| 17520/17521 [00:05<00:00, 3039.27it/s]\n"
     ]
    },
    {
     "name": "stdout",
     "output_type": "stream",
     "text": [
      "Running EPANET ...\n"
     ]
    },
    {
     "name": "stderr",
     "output_type": "stream",
     "text": [
      "Time steps: 100%|########################################################################################################################9| 17520/17521 [00:05<00:00, 3016.38it/s]\n"
     ]
    },
    {
     "name": "stdout",
     "output_type": "stream",
     "text": [
      "Running EPANET ...\n"
     ]
    },
    {
     "name": "stderr",
     "output_type": "stream",
     "text": [
      "Time steps: 100%|########################################################################################################################9| 17520/17521 [00:05<00:00, 3012.63it/s]\n"
     ]
    },
    {
     "name": "stdout",
     "output_type": "stream",
     "text": [
      "Running EPANET ...\n"
     ]
    },
    {
     "name": "stderr",
     "output_type": "stream",
     "text": [
      "Time steps: 100%|########################################################################################################################9| 17520/17521 [00:05<00:00, 3018.05it/s]\n"
     ]
    },
    {
     "name": "stdout",
     "output_type": "stream",
     "text": [
      "Running EPANET ...\n"
     ]
    },
    {
     "name": "stderr",
     "output_type": "stream",
     "text": [
      "Time steps: 100%|########################################################################################################################9| 17520/17521 [00:05<00:00, 3072.14it/s]\n"
     ]
    },
    {
     "name": "stdout",
     "output_type": "stream",
     "text": [
      "Running EPANET ...\n"
     ]
    },
    {
     "name": "stderr",
     "output_type": "stream",
     "text": [
      "Time steps: 100%|########################################################################################################################9| 17520/17521 [00:05<00:00, 3069.75it/s]\n"
     ]
    },
    {
     "name": "stdout",
     "output_type": "stream",
     "text": [
      "Running EPANET ...\n"
     ]
    },
    {
     "name": "stderr",
     "output_type": "stream",
     "text": [
      "Time steps: 100%|########################################################################################################################9| 17520/17521 [00:05<00:00, 3005.27it/s]\n"
     ]
    },
    {
     "name": "stdout",
     "output_type": "stream",
     "text": [
      "Running EPANET ...\n"
     ]
    },
    {
     "name": "stderr",
     "output_type": "stream",
     "text": [
      "Time steps: 100%|########################################################################################################################9| 17520/17521 [00:05<00:00, 3063.72it/s]\n"
     ]
    },
    {
     "name": "stdout",
     "output_type": "stream",
     "text": [
      "Running EPANET ...\n"
     ]
    },
    {
     "name": "stderr",
     "output_type": "stream",
     "text": [
      "Time steps: 100%|########################################################################################################################9| 17520/17521 [00:05<00:00, 3057.16it/s]\n"
     ]
    },
    {
     "name": "stdout",
     "output_type": "stream",
     "text": [
      "Running EPANET ...\n"
     ]
    },
    {
     "name": "stderr",
     "output_type": "stream",
     "text": [
      "Time steps: 100%|########################################################################################################################9| 17520/17521 [00:05<00:00, 2968.75it/s]\n"
     ]
    },
    {
     "name": "stdout",
     "output_type": "stream",
     "text": [
      "Running EPANET ...\n"
     ]
    },
    {
     "name": "stderr",
     "output_type": "stream",
     "text": [
      "Time steps: 100%|########################################################################################################################9| 17520/17521 [00:05<00:00, 3044.62it/s]\n"
     ]
    },
    {
     "name": "stdout",
     "output_type": "stream",
     "text": [
      "Running EPANET ...\n"
     ]
    },
    {
     "name": "stderr",
     "output_type": "stream",
     "text": [
      "Time steps: 100%|########################################################################################################################9| 17520/17521 [00:05<00:00, 3050.12it/s]\n"
     ]
    },
    {
     "name": "stdout",
     "output_type": "stream",
     "text": [
      "Running EPANET ...\n"
     ]
    },
    {
     "name": "stderr",
     "output_type": "stream",
     "text": [
      "Time steps: 100%|########################################################################################################################9| 17520/17521 [00:05<00:00, 3071.32it/s]\n"
     ]
    },
    {
     "name": "stdout",
     "output_type": "stream",
     "text": [
      "Running EPANET ...\n"
     ]
    },
    {
     "name": "stderr",
     "output_type": "stream",
     "text": [
      "Time steps: 100%|########################################################################################################################9| 17520/17521 [00:05<00:00, 3066.40it/s]\n"
     ]
    },
    {
     "name": "stdout",
     "output_type": "stream",
     "text": [
      "Running EPANET ...\n"
     ]
    },
    {
     "name": "stderr",
     "output_type": "stream",
     "text": [
      "Time steps: 100%|########################################################################################################################9| 17520/17521 [00:05<00:00, 3045.11it/s]\n"
     ]
    },
    {
     "name": "stdout",
     "output_type": "stream",
     "text": [
      "Running EPANET ...\n"
     ]
    },
    {
     "name": "stderr",
     "output_type": "stream",
     "text": [
      "Time steps: 100%|########################################################################################################################9| 17520/17521 [00:05<00:00, 3048.00it/s]\n"
     ]
    },
    {
     "name": "stdout",
     "output_type": "stream",
     "text": [
      "Running EPANET ...\n"
     ]
    },
    {
     "name": "stderr",
     "output_type": "stream",
     "text": [
      "Time steps: 100%|########################################################################################################################9| 17520/17521 [00:05<00:00, 3049.77it/s]\n"
     ]
    },
    {
     "name": "stdout",
     "output_type": "stream",
     "text": [
      "Running EPANET ...\n"
     ]
    },
    {
     "name": "stderr",
     "output_type": "stream",
     "text": [
      "Time steps: 100%|########################################################################################################################9| 17520/17521 [00:05<00:00, 3029.63it/s]\n"
     ]
    },
    {
     "name": "stdout",
     "output_type": "stream",
     "text": [
      "Running EPANET ...\n"
     ]
    },
    {
     "name": "stderr",
     "output_type": "stream",
     "text": [
      "Time steps: 100%|########################################################################################################################9| 17520/17521 [00:05<00:00, 3027.55it/s]\n"
     ]
    },
    {
     "name": "stdout",
     "output_type": "stream",
     "text": [
      "Running EPANET ...\n"
     ]
    },
    {
     "name": "stderr",
     "output_type": "stream",
     "text": [
      "Time steps: 100%|########################################################################################################################9| 17520/17521 [00:05<00:00, 3039.07it/s]\n"
     ]
    },
    {
     "name": "stdout",
     "output_type": "stream",
     "text": [
      "Running EPANET ...\n"
     ]
    },
    {
     "name": "stderr",
     "output_type": "stream",
     "text": [
      "Time steps: 100%|########################################################################################################################9| 17520/17521 [00:05<00:00, 3027.07it/s]\n"
     ]
    },
    {
     "name": "stdout",
     "output_type": "stream",
     "text": [
      "Running EPANET ...\n"
     ]
    },
    {
     "name": "stderr",
     "output_type": "stream",
     "text": [
      "Time steps: 100%|########################################################################################################################9| 17520/17521 [00:05<00:00, 3069.26it/s]\n"
     ]
    },
    {
     "name": "stdout",
     "output_type": "stream",
     "text": [
      "Running EPANET ...\n"
     ]
    },
    {
     "name": "stderr",
     "output_type": "stream",
     "text": [
      "Time steps: 100%|########################################################################################################################9| 17520/17521 [00:05<00:00, 3058.76it/s]\n"
     ]
    },
    {
     "name": "stdout",
     "output_type": "stream",
     "text": [
      "Running EPANET ...\n"
     ]
    },
    {
     "name": "stderr",
     "output_type": "stream",
     "text": [
      "Time steps: 100%|########################################################################################################################9| 17520/17521 [00:05<00:00, 3017.53it/s]\n"
     ]
    },
    {
     "name": "stdout",
     "output_type": "stream",
     "text": [
      "Running EPANET ...\n"
     ]
    },
    {
     "name": "stderr",
     "output_type": "stream",
     "text": [
      "Time steps: 100%|########################################################################################################################9| 17520/17521 [00:05<00:00, 3065.02it/s]\n"
     ]
    },
    {
     "name": "stdout",
     "output_type": "stream",
     "text": [
      "Running EPANET ...\n"
     ]
    },
    {
     "name": "stderr",
     "output_type": "stream",
     "text": [
      "Time steps: 100%|########################################################################################################################9| 17520/17521 [00:05<00:00, 3027.41it/s]\n"
     ]
    },
    {
     "name": "stdout",
     "output_type": "stream",
     "text": [
      "Running EPANET ...\n"
     ]
    },
    {
     "name": "stderr",
     "output_type": "stream",
     "text": [
      "Time steps: 100%|########################################################################################################################9| 17520/17521 [00:05<00:00, 3062.46it/s]\n"
     ]
    },
    {
     "name": "stdout",
     "output_type": "stream",
     "text": [
      "Running EPANET ...\n"
     ]
    },
    {
     "name": "stderr",
     "output_type": "stream",
     "text": [
      "Time steps: 100%|########################################################################################################################9| 17520/17521 [00:05<00:00, 3061.78it/s]\n"
     ]
    },
    {
     "name": "stdout",
     "output_type": "stream",
     "text": [
      "Running EPANET ...\n"
     ]
    },
    {
     "name": "stderr",
     "output_type": "stream",
     "text": [
      "Time steps: 100%|########################################################################################################################9| 17520/17521 [00:05<00:00, 3014.79it/s]\n"
     ]
    },
    {
     "name": "stdout",
     "output_type": "stream",
     "text": [
      "Running EPANET ...\n"
     ]
    },
    {
     "name": "stderr",
     "output_type": "stream",
     "text": [
      "Time steps: 100%|########################################################################################################################9| 17520/17521 [00:05<00:00, 3007.15it/s]\n"
     ]
    },
    {
     "name": "stdout",
     "output_type": "stream",
     "text": [
      "Running EPANET ...\n"
     ]
    },
    {
     "name": "stderr",
     "output_type": "stream",
     "text": [
      "Time steps: 100%|########################################################################################################################9| 17520/17521 [00:05<00:00, 3078.99it/s]\n"
     ]
    },
    {
     "name": "stdout",
     "output_type": "stream",
     "text": [
      "Running EPANET ...\n"
     ]
    },
    {
     "name": "stderr",
     "output_type": "stream",
     "text": [
      "Time steps: 100%|########################################################################################################################9| 17520/17521 [00:05<00:00, 3053.88it/s]\n"
     ]
    },
    {
     "name": "stdout",
     "output_type": "stream",
     "text": [
      "Running EPANET ...\n"
     ]
    },
    {
     "name": "stderr",
     "output_type": "stream",
     "text": [
      "Time steps: 100%|########################################################################################################################9| 17520/17521 [00:05<00:00, 3014.02it/s]\n"
     ]
    },
    {
     "name": "stdout",
     "output_type": "stream",
     "text": [
      "Running EPANET ...\n"
     ]
    },
    {
     "name": "stderr",
     "output_type": "stream",
     "text": [
      "Time steps: 100%|########################################################################################################################9| 17520/17521 [00:05<00:00, 2944.38it/s]\n"
     ]
    },
    {
     "name": "stdout",
     "output_type": "stream",
     "text": [
      "Running EPANET ...\n"
     ]
    },
    {
     "name": "stderr",
     "output_type": "stream",
     "text": [
      "Time steps: 100%|########################################################################################################################9| 17520/17521 [00:05<00:00, 2938.68it/s]\n"
     ]
    },
    {
     "name": "stdout",
     "output_type": "stream",
     "text": [
      "Running EPANET ...\n"
     ]
    },
    {
     "name": "stderr",
     "output_type": "stream",
     "text": [
      "Time steps: 100%|########################################################################################################################9| 17520/17521 [00:05<00:00, 3011.57it/s]\n"
     ]
    },
    {
     "name": "stdout",
     "output_type": "stream",
     "text": [
      "Running EPANET ...\n"
     ]
    },
    {
     "name": "stderr",
     "output_type": "stream",
     "text": [
      "Time steps: 100%|########################################################################################################################9| 17520/17521 [00:05<00:00, 3020.18it/s]\n"
     ]
    },
    {
     "name": "stdout",
     "output_type": "stream",
     "text": [
      "Running EPANET ...\n"
     ]
    },
    {
     "name": "stderr",
     "output_type": "stream",
     "text": [
      "Time steps: 100%|########################################################################################################################9| 17520/17521 [00:05<00:00, 3046.78it/s]\n"
     ]
    },
    {
     "name": "stdout",
     "output_type": "stream",
     "text": [
      "Running EPANET ...\n"
     ]
    },
    {
     "name": "stderr",
     "output_type": "stream",
     "text": [
      "Time steps: 100%|########################################################################################################################9| 17520/17521 [00:05<00:00, 2971.81it/s]\n"
     ]
    },
    {
     "name": "stdout",
     "output_type": "stream",
     "text": [
      "Running EPANET ...\n"
     ]
    },
    {
     "name": "stderr",
     "output_type": "stream",
     "text": [
      "Time steps: 100%|########################################################################################################################9| 17520/17521 [00:05<00:00, 3076.05it/s]\n"
     ]
    },
    {
     "name": "stdout",
     "output_type": "stream",
     "text": [
      "Running EPANET ...\n"
     ]
    },
    {
     "name": "stderr",
     "output_type": "stream",
     "text": [
      "Time steps: 100%|########################################################################################################################9| 17520/17521 [00:05<00:00, 2984.00it/s]\n"
     ]
    },
    {
     "name": "stdout",
     "output_type": "stream",
     "text": [
      "Running EPANET ...\n"
     ]
    },
    {
     "name": "stderr",
     "output_type": "stream",
     "text": [
      "Time steps: 100%|########################################################################################################################9| 17520/17521 [00:05<00:00, 3050.75it/s]\n"
     ]
    },
    {
     "name": "stdout",
     "output_type": "stream",
     "text": [
      "Running EPANET ...\n"
     ]
    },
    {
     "name": "stderr",
     "output_type": "stream",
     "text": [
      "Time steps: 100%|########################################################################################################################9| 17520/17521 [00:05<00:00, 2998.30it/s]\n"
     ]
    },
    {
     "name": "stdout",
     "output_type": "stream",
     "text": [
      "Running EPANET ...\n"
     ]
    },
    {
     "name": "stderr",
     "output_type": "stream",
     "text": [
      "Time steps: 100%|########################################################################################################################9| 17520/17521 [00:05<00:00, 3070.39it/s]\n"
     ]
    },
    {
     "name": "stdout",
     "output_type": "stream",
     "text": [
      "Running EPANET ...\n"
     ]
    },
    {
     "name": "stderr",
     "output_type": "stream",
     "text": [
      "Time steps: 100%|########################################################################################################################9| 17520/17521 [00:05<00:00, 3019.15it/s]\n"
     ]
    },
    {
     "name": "stdout",
     "output_type": "stream",
     "text": [
      "Running EPANET ...\n"
     ]
    },
    {
     "name": "stderr",
     "output_type": "stream",
     "text": [
      "Time steps: 100%|########################################################################################################################9| 17520/17521 [00:06<00:00, 2916.96it/s]\n"
     ]
    },
    {
     "name": "stdout",
     "output_type": "stream",
     "text": [
      "Running EPANET ...\n"
     ]
    },
    {
     "name": "stderr",
     "output_type": "stream",
     "text": [
      "Time steps: 100%|########################################################################################################################9| 17520/17521 [00:05<00:00, 3030.42it/s]\n"
     ]
    },
    {
     "name": "stdout",
     "output_type": "stream",
     "text": [
      "Running EPANET ...\n"
     ]
    },
    {
     "name": "stderr",
     "output_type": "stream",
     "text": [
      "Time steps: 100%|########################################################################################################################9| 17520/17521 [00:05<00:00, 3050.67it/s]\n"
     ]
    },
    {
     "name": "stdout",
     "output_type": "stream",
     "text": [
      "Running EPANET ...\n"
     ]
    },
    {
     "name": "stderr",
     "output_type": "stream",
     "text": [
      "Time steps: 100%|########################################################################################################################9| 17520/17521 [00:05<00:00, 3024.73it/s]\n"
     ]
    },
    {
     "name": "stdout",
     "output_type": "stream",
     "text": [
      "Running EPANET ...\n"
     ]
    },
    {
     "name": "stderr",
     "output_type": "stream",
     "text": [
      "Time steps: 100%|########################################################################################################################9| 17520/17521 [00:05<00:00, 3018.72it/s]\n"
     ]
    },
    {
     "name": "stdout",
     "output_type": "stream",
     "text": [
      "Running EPANET ...\n"
     ]
    },
    {
     "name": "stderr",
     "output_type": "stream",
     "text": [
      "Time steps: 100%|########################################################################################################################9| 17520/17521 [00:05<00:00, 3068.82it/s]\n"
     ]
    },
    {
     "name": "stdout",
     "output_type": "stream",
     "text": [
      "Running EPANET ...\n"
     ]
    },
    {
     "name": "stderr",
     "output_type": "stream",
     "text": [
      "Time steps: 100%|########################################################################################################################9| 17520/17521 [00:05<00:00, 3070.51it/s]\n"
     ]
    },
    {
     "name": "stdout",
     "output_type": "stream",
     "text": [
      "Running EPANET ...\n"
     ]
    },
    {
     "name": "stderr",
     "output_type": "stream",
     "text": [
      "Time steps: 100%|########################################################################################################################9| 17520/17521 [00:05<00:00, 2989.46it/s]\n"
     ]
    },
    {
     "name": "stdout",
     "output_type": "stream",
     "text": [
      "Running EPANET ...\n"
     ]
    },
    {
     "name": "stderr",
     "output_type": "stream",
     "text": [
      "Time steps: 100%|########################################################################################################################9| 17520/17521 [00:05<00:00, 3063.71it/s]\n"
     ]
    },
    {
     "name": "stdout",
     "output_type": "stream",
     "text": [
      "Running EPANET ...\n"
     ]
    },
    {
     "name": "stderr",
     "output_type": "stream",
     "text": [
      "Time steps: 100%|########################################################################################################################9| 17520/17521 [00:05<00:00, 3036.74it/s]\n"
     ]
    },
    {
     "name": "stdout",
     "output_type": "stream",
     "text": [
      "Running EPANET ...\n"
     ]
    },
    {
     "name": "stderr",
     "output_type": "stream",
     "text": [
      "Time steps: 100%|########################################################################################################################9| 17520/17521 [00:05<00:00, 3048.34it/s]\n"
     ]
    },
    {
     "name": "stdout",
     "output_type": "stream",
     "text": [
      "Running EPANET ...\n"
     ]
    },
    {
     "name": "stderr",
     "output_type": "stream",
     "text": [
      "Time steps: 100%|########################################################################################################################9| 17520/17521 [00:05<00:00, 3002.83it/s]\n"
     ]
    },
    {
     "name": "stdout",
     "output_type": "stream",
     "text": [
      "Running EPANET ...\n"
     ]
    },
    {
     "name": "stderr",
     "output_type": "stream",
     "text": [
      "Time steps: 100%|########################################################################################################################9| 17520/17521 [00:05<00:00, 3062.14it/s]\n"
     ]
    },
    {
     "name": "stdout",
     "output_type": "stream",
     "text": [
      "Running EPANET ...\n"
     ]
    },
    {
     "name": "stderr",
     "output_type": "stream",
     "text": [
      "Time steps: 100%|########################################################################################################################9| 17520/17521 [00:05<00:00, 3014.43it/s]\n"
     ]
    },
    {
     "name": "stdout",
     "output_type": "stream",
     "text": [
      "Running EPANET ...\n"
     ]
    },
    {
     "name": "stderr",
     "output_type": "stream",
     "text": [
      "Time steps: 100%|########################################################################################################################9| 17520/17521 [00:05<00:00, 3044.87it/s]\n"
     ]
    },
    {
     "name": "stdout",
     "output_type": "stream",
     "text": [
      "Running EPANET ...\n"
     ]
    },
    {
     "name": "stderr",
     "output_type": "stream",
     "text": [
      "Time steps: 100%|########################################################################################################################9| 17520/17521 [00:05<00:00, 3047.97it/s]\n"
     ]
    },
    {
     "name": "stdout",
     "output_type": "stream",
     "text": [
      "Running EPANET ...\n"
     ]
    },
    {
     "name": "stderr",
     "output_type": "stream",
     "text": [
      "Time steps: 100%|########################################################################################################################9| 17520/17521 [00:05<00:00, 3083.03it/s]\n"
     ]
    },
    {
     "name": "stdout",
     "output_type": "stream",
     "text": [
      "Running EPANET ...\n"
     ]
    },
    {
     "name": "stderr",
     "output_type": "stream",
     "text": [
      "Time steps: 100%|########################################################################################################################9| 17520/17521 [00:05<00:00, 2994.82it/s]\n"
     ]
    },
    {
     "name": "stdout",
     "output_type": "stream",
     "text": [
      "Running EPANET ...\n"
     ]
    },
    {
     "name": "stderr",
     "output_type": "stream",
     "text": [
      "Time steps: 100%|########################################################################################################################9| 17520/17521 [00:05<00:00, 3053.27it/s]\n"
     ]
    },
    {
     "name": "stdout",
     "output_type": "stream",
     "text": [
      "Running EPANET ...\n"
     ]
    },
    {
     "name": "stderr",
     "output_type": "stream",
     "text": [
      "Time steps: 100%|########################################################################################################################9| 17520/17521 [00:05<00:00, 2986.75it/s]\n"
     ]
    },
    {
     "name": "stdout",
     "output_type": "stream",
     "text": [
      "Running EPANET ...\n"
     ]
    },
    {
     "name": "stderr",
     "output_type": "stream",
     "text": [
      "Time steps: 100%|########################################################################################################################9| 17520/17521 [00:05<00:00, 3037.97it/s]\n"
     ]
    },
    {
     "name": "stdout",
     "output_type": "stream",
     "text": [
      "Running EPANET ...\n"
     ]
    },
    {
     "name": "stderr",
     "output_type": "stream",
     "text": [
      "Time steps: 100%|########################################################################################################################9| 17520/17521 [00:05<00:00, 3061.39it/s]\n"
     ]
    },
    {
     "name": "stdout",
     "output_type": "stream",
     "text": [
      "Running EPANET ...\n"
     ]
    },
    {
     "name": "stderr",
     "output_type": "stream",
     "text": [
      "Time steps: 100%|########################################################################################################################9| 17520/17521 [00:05<00:00, 3022.82it/s]\n"
     ]
    },
    {
     "name": "stdout",
     "output_type": "stream",
     "text": [
      "Running EPANET ...\n"
     ]
    },
    {
     "name": "stderr",
     "output_type": "stream",
     "text": [
      "Time steps: 100%|########################################################################################################################9| 17520/17521 [00:05<00:00, 3050.21it/s]\n"
     ]
    },
    {
     "name": "stdout",
     "output_type": "stream",
     "text": [
      "Running EPANET ...\n"
     ]
    },
    {
     "name": "stderr",
     "output_type": "stream",
     "text": [
      "Time steps: 100%|########################################################################################################################9| 17520/17521 [00:05<00:00, 3000.16it/s]\n"
     ]
    },
    {
     "name": "stdout",
     "output_type": "stream",
     "text": [
      "Running EPANET ...\n"
     ]
    },
    {
     "name": "stderr",
     "output_type": "stream",
     "text": [
      "Time steps: 100%|########################################################################################################################9| 17520/17521 [00:05<00:00, 3058.68it/s]\n"
     ]
    },
    {
     "name": "stdout",
     "output_type": "stream",
     "text": [
      "Running EPANET ...\n"
     ]
    },
    {
     "name": "stderr",
     "output_type": "stream",
     "text": [
      "Time steps: 100%|########################################################################################################################9| 17520/17521 [00:05<00:00, 3021.70it/s]\n"
     ]
    },
    {
     "name": "stdout",
     "output_type": "stream",
     "text": [
      "Running EPANET ...\n"
     ]
    },
    {
     "name": "stderr",
     "output_type": "stream",
     "text": [
      "Time steps: 100%|########################################################################################################################9| 17520/17521 [00:05<00:00, 3014.60it/s]\n"
     ]
    },
    {
     "name": "stdout",
     "output_type": "stream",
     "text": [
      "Running EPANET ...\n"
     ]
    },
    {
     "name": "stderr",
     "output_type": "stream",
     "text": [
      "Time steps: 100%|########################################################################################################################9| 17520/17521 [00:05<00:00, 3020.74it/s]\n"
     ]
    },
    {
     "name": "stdout",
     "output_type": "stream",
     "text": [
      "Running EPANET ...\n"
     ]
    },
    {
     "name": "stderr",
     "output_type": "stream",
     "text": [
      "Time steps: 100%|########################################################################################################################9| 17520/17521 [00:05<00:00, 3010.19it/s]\n"
     ]
    },
    {
     "name": "stdout",
     "output_type": "stream",
     "text": [
      "Running EPANET ...\n"
     ]
    },
    {
     "name": "stderr",
     "output_type": "stream",
     "text": [
      "Time steps: 100%|########################################################################################################################9| 17520/17521 [00:05<00:00, 3049.83it/s]\n"
     ]
    },
    {
     "name": "stdout",
     "output_type": "stream",
     "text": [
      "Running EPANET ...\n"
     ]
    },
    {
     "name": "stderr",
     "output_type": "stream",
     "text": [
      "Time steps: 100%|########################################################################################################################9| 17520/17521 [00:05<00:00, 3014.59it/s]\n"
     ]
    },
    {
     "name": "stdout",
     "output_type": "stream",
     "text": [
      "Running EPANET ...\n"
     ]
    },
    {
     "name": "stderr",
     "output_type": "stream",
     "text": [
      "Time steps: 100%|########################################################################################################################9| 17520/17521 [00:05<00:00, 3036.37it/s]\n"
     ]
    },
    {
     "name": "stdout",
     "output_type": "stream",
     "text": [
      "Running EPANET ...\n"
     ]
    },
    {
     "name": "stderr",
     "output_type": "stream",
     "text": [
      "Time steps: 100%|########################################################################################################################9| 17520/17521 [00:05<00:00, 3050.16it/s]\n"
     ]
    },
    {
     "name": "stdout",
     "output_type": "stream",
     "text": [
      "Running EPANET ...\n"
     ]
    },
    {
     "name": "stderr",
     "output_type": "stream",
     "text": [
      "Time steps: 100%|########################################################################################################################9| 17520/17521 [00:05<00:00, 2998.92it/s]\n"
     ]
    },
    {
     "name": "stdout",
     "output_type": "stream",
     "text": [
      "Running EPANET ...\n"
     ]
    },
    {
     "name": "stderr",
     "output_type": "stream",
     "text": [
      "Time steps: 100%|########################################################################################################################9| 17520/17521 [00:05<00:00, 2995.36it/s]\n"
     ]
    },
    {
     "name": "stdout",
     "output_type": "stream",
     "text": [
      "Running EPANET ...\n"
     ]
    },
    {
     "name": "stderr",
     "output_type": "stream",
     "text": [
      "Time steps: 100%|########################################################################################################################9| 17520/17521 [00:05<00:00, 3052.99it/s]\n"
     ]
    },
    {
     "name": "stdout",
     "output_type": "stream",
     "text": [
      "Running EPANET ...\n"
     ]
    },
    {
     "name": "stderr",
     "output_type": "stream",
     "text": [
      "Time steps: 100%|########################################################################################################################9| 17520/17521 [00:05<00:00, 2984.49it/s]\n"
     ]
    },
    {
     "name": "stdout",
     "output_type": "stream",
     "text": [
      "Running EPANET ...\n"
     ]
    },
    {
     "name": "stderr",
     "output_type": "stream",
     "text": [
      "Time steps: 100%|########################################################################################################################9| 17520/17521 [00:05<00:00, 3021.01it/s]\n"
     ]
    },
    {
     "name": "stdout",
     "output_type": "stream",
     "text": [
      "Running EPANET ...\n"
     ]
    },
    {
     "name": "stderr",
     "output_type": "stream",
     "text": [
      "Time steps: 100%|########################################################################################################################9| 17520/17521 [00:05<00:00, 3032.77it/s]\n"
     ]
    },
    {
     "name": "stdout",
     "output_type": "stream",
     "text": [
      "Running EPANET ...\n"
     ]
    },
    {
     "name": "stderr",
     "output_type": "stream",
     "text": [
      "Time steps: 100%|########################################################################################################################9| 17520/17521 [00:05<00:00, 3036.46it/s]\n"
     ]
    },
    {
     "name": "stdout",
     "output_type": "stream",
     "text": [
      "Running EPANET ...\n"
     ]
    },
    {
     "name": "stderr",
     "output_type": "stream",
     "text": [
      "Time steps: 100%|########################################################################################################################9| 17520/17521 [00:05<00:00, 3023.08it/s]\n"
     ]
    },
    {
     "name": "stdout",
     "output_type": "stream",
     "text": [
      "Running EPANET ...\n"
     ]
    },
    {
     "name": "stderr",
     "output_type": "stream",
     "text": [
      "Time steps: 100%|########################################################################################################################9| 17520/17521 [00:05<00:00, 3025.27it/s]\n"
     ]
    },
    {
     "name": "stdout",
     "output_type": "stream",
     "text": [
      "Running EPANET ...\n"
     ]
    },
    {
     "name": "stderr",
     "output_type": "stream",
     "text": [
      "Time steps: 100%|########################################################################################################################9| 17520/17521 [00:05<00:00, 3056.32it/s]\n"
     ]
    },
    {
     "name": "stdout",
     "output_type": "stream",
     "text": [
      "Running EPANET ...\n"
     ]
    },
    {
     "name": "stderr",
     "output_type": "stream",
     "text": [
      "Time steps: 100%|########################################################################################################################9| 17520/17521 [00:05<00:00, 2974.73it/s]\n"
     ]
    },
    {
     "name": "stdout",
     "output_type": "stream",
     "text": [
      "Running EPANET ...\n"
     ]
    },
    {
     "name": "stderr",
     "output_type": "stream",
     "text": [
      "Time steps: 100%|########################################################################################################################9| 17520/17521 [00:05<00:00, 2979.83it/s]\n"
     ]
    },
    {
     "name": "stdout",
     "output_type": "stream",
     "text": [
      "Running EPANET ...\n"
     ]
    },
    {
     "name": "stderr",
     "output_type": "stream",
     "text": [
      "Time steps: 100%|########################################################################################################################9| 17520/17521 [00:05<00:00, 3026.81it/s]\n"
     ]
    },
    {
     "name": "stdout",
     "output_type": "stream",
     "text": [
      "Running EPANET ...\n"
     ]
    },
    {
     "name": "stderr",
     "output_type": "stream",
     "text": [
      "Time steps: 100%|########################################################################################################################9| 17520/17521 [00:05<00:00, 2981.42it/s]\n"
     ]
    },
    {
     "name": "stdout",
     "output_type": "stream",
     "text": [
      "Running EPANET ...\n"
     ]
    },
    {
     "name": "stderr",
     "output_type": "stream",
     "text": [
      "Time steps: 100%|########################################################################################################################9| 17520/17521 [00:05<00:00, 3032.03it/s]\n"
     ]
    },
    {
     "name": "stdout",
     "output_type": "stream",
     "text": [
      "Running EPANET ...\n"
     ]
    },
    {
     "name": "stderr",
     "output_type": "stream",
     "text": [
      "Time steps: 100%|########################################################################################################################9| 17520/17521 [00:05<00:00, 3045.10it/s]\n"
     ]
    },
    {
     "name": "stdout",
     "output_type": "stream",
     "text": [
      "Running EPANET ...\n"
     ]
    },
    {
     "name": "stderr",
     "output_type": "stream",
     "text": [
      "Time steps: 100%|########################################################################################################################9| 17520/17521 [00:05<00:00, 3043.76it/s]\n"
     ]
    },
    {
     "name": "stdout",
     "output_type": "stream",
     "text": [
      "Running EPANET ...\n"
     ]
    },
    {
     "name": "stderr",
     "output_type": "stream",
     "text": [
      "Time steps: 100%|########################################################################################################################9| 17520/17521 [00:05<00:00, 2987.03it/s]\n"
     ]
    },
    {
     "name": "stdout",
     "output_type": "stream",
     "text": [
      "Running EPANET ...\n"
     ]
    },
    {
     "name": "stderr",
     "output_type": "stream",
     "text": [
      "Time steps: 100%|########################################################################################################################9| 17520/17521 [00:05<00:00, 3034.59it/s]\n"
     ]
    },
    {
     "name": "stdout",
     "output_type": "stream",
     "text": [
      "Running EPANET ...\n"
     ]
    },
    {
     "name": "stderr",
     "output_type": "stream",
     "text": [
      "Time steps: 100%|########################################################################################################################9| 17520/17521 [00:05<00:00, 3075.27it/s]\n"
     ]
    },
    {
     "name": "stdout",
     "output_type": "stream",
     "text": [
      "Running EPANET ...\n"
     ]
    },
    {
     "name": "stderr",
     "output_type": "stream",
     "text": [
      "Time steps: 100%|########################################################################################################################9| 17520/17521 [00:05<00:00, 3040.54it/s]\n"
     ]
    },
    {
     "name": "stdout",
     "output_type": "stream",
     "text": [
      "Running EPANET ...\n"
     ]
    },
    {
     "name": "stderr",
     "output_type": "stream",
     "text": [
      "Time steps: 100%|########################################################################################################################9| 17520/17521 [00:05<00:00, 2993.09it/s]\n"
     ]
    },
    {
     "name": "stdout",
     "output_type": "stream",
     "text": [
      "Running EPANET ...\n"
     ]
    },
    {
     "name": "stderr",
     "output_type": "stream",
     "text": [
      "Time steps: 100%|########################################################################################################################9| 17520/17521 [00:05<00:00, 2977.04it/s]\n"
     ]
    },
    {
     "name": "stdout",
     "output_type": "stream",
     "text": [
      "Running EPANET ...\n"
     ]
    },
    {
     "name": "stderr",
     "output_type": "stream",
     "text": [
      "Time steps: 100%|########################################################################################################################9| 17520/17521 [00:05<00:00, 3036.85it/s]\n"
     ]
    },
    {
     "name": "stdout",
     "output_type": "stream",
     "text": [
      "Running EPANET ...\n"
     ]
    },
    {
     "name": "stderr",
     "output_type": "stream",
     "text": [
      "Time steps: 100%|########################################################################################################################9| 17520/17521 [00:05<00:00, 3038.70it/s]\n"
     ]
    },
    {
     "name": "stdout",
     "output_type": "stream",
     "text": [
      "Running EPANET ...\n"
     ]
    },
    {
     "name": "stderr",
     "output_type": "stream",
     "text": [
      "Time steps: 100%|########################################################################################################################9| 17520/17521 [00:05<00:00, 3050.66it/s]\n"
     ]
    },
    {
     "name": "stdout",
     "output_type": "stream",
     "text": [
      "Running EPANET ...\n"
     ]
    },
    {
     "name": "stderr",
     "output_type": "stream",
     "text": [
      "Time steps: 100%|########################################################################################################################9| 17520/17521 [00:05<00:00, 2936.75it/s]\n"
     ]
    },
    {
     "name": "stdout",
     "output_type": "stream",
     "text": [
      "Running EPANET ...\n"
     ]
    },
    {
     "name": "stderr",
     "output_type": "stream",
     "text": [
      "Time steps: 100%|########################################################################################################################9| 17520/17521 [00:05<00:00, 2996.71it/s]\n"
     ]
    },
    {
     "name": "stdout",
     "output_type": "stream",
     "text": [
      "Running EPANET ...\n"
     ]
    },
    {
     "name": "stderr",
     "output_type": "stream",
     "text": [
      "Time steps: 100%|########################################################################################################################9| 17520/17521 [00:05<00:00, 3006.98it/s]\n"
     ]
    },
    {
     "name": "stdout",
     "output_type": "stream",
     "text": [
      "Running EPANET ...\n"
     ]
    },
    {
     "name": "stderr",
     "output_type": "stream",
     "text": [
      "Time steps: 100%|########################################################################################################################9| 17520/17521 [00:05<00:00, 3038.20it/s]\n"
     ]
    },
    {
     "name": "stdout",
     "output_type": "stream",
     "text": [
      "Running EPANET ...\n"
     ]
    },
    {
     "name": "stderr",
     "output_type": "stream",
     "text": [
      "Time steps: 100%|########################################################################################################################9| 17520/17521 [00:05<00:00, 3053.00it/s]\n"
     ]
    },
    {
     "name": "stdout",
     "output_type": "stream",
     "text": [
      "Running EPANET ...\n"
     ]
    },
    {
     "name": "stderr",
     "output_type": "stream",
     "text": [
      "Time steps: 100%|########################################################################################################################9| 17520/17521 [00:05<00:00, 3013.31it/s]\n"
     ]
    },
    {
     "name": "stdout",
     "output_type": "stream",
     "text": [
      "Running EPANET ...\n"
     ]
    },
    {
     "name": "stderr",
     "output_type": "stream",
     "text": [
      "Time steps: 100%|########################################################################################################################9| 17520/17521 [00:05<00:00, 2955.28it/s]\n"
     ]
    },
    {
     "name": "stdout",
     "output_type": "stream",
     "text": [
      "Running EPANET ...\n"
     ]
    },
    {
     "name": "stderr",
     "output_type": "stream",
     "text": [
      "Time steps: 100%|########################################################################################################################9| 17520/17521 [00:06<00:00, 2902.80it/s]\n"
     ]
    },
    {
     "name": "stdout",
     "output_type": "stream",
     "text": [
      "Running EPANET ...\n"
     ]
    },
    {
     "name": "stderr",
     "output_type": "stream",
     "text": [
      "Time steps: 100%|########################################################################################################################9| 17520/17521 [00:05<00:00, 3036.41it/s]\n"
     ]
    },
    {
     "name": "stdout",
     "output_type": "stream",
     "text": [
      "Running EPANET ...\n"
     ]
    },
    {
     "name": "stderr",
     "output_type": "stream",
     "text": [
      "Time steps: 100%|########################################################################################################################9| 17520/17521 [00:05<00:00, 3031.19it/s]\n"
     ]
    },
    {
     "name": "stdout",
     "output_type": "stream",
     "text": [
      "Running EPANET ...\n"
     ]
    },
    {
     "name": "stderr",
     "output_type": "stream",
     "text": [
      "Time steps: 100%|########################################################################################################################9| 17520/17521 [00:05<00:00, 3052.06it/s]\n"
     ]
    },
    {
     "name": "stdout",
     "output_type": "stream",
     "text": [
      "Running EPANET ...\n"
     ]
    },
    {
     "name": "stderr",
     "output_type": "stream",
     "text": [
      "Time steps: 100%|########################################################################################################################9| 17520/17521 [00:05<00:00, 3036.04it/s]\n"
     ]
    },
    {
     "name": "stdout",
     "output_type": "stream",
     "text": [
      "Running EPANET ...\n"
     ]
    },
    {
     "name": "stderr",
     "output_type": "stream",
     "text": [
      "Time steps: 100%|########################################################################################################################9| 17520/17521 [00:05<00:00, 2965.21it/s]\n"
     ]
    },
    {
     "name": "stdout",
     "output_type": "stream",
     "text": [
      "Running EPANET ...\n"
     ]
    },
    {
     "name": "stderr",
     "output_type": "stream",
     "text": [
      "Time steps: 100%|########################################################################################################################9| 17520/17521 [00:05<00:00, 3061.37it/s]\n"
     ]
    },
    {
     "name": "stdout",
     "output_type": "stream",
     "text": [
      "Running EPANET ...\n"
     ]
    },
    {
     "name": "stderr",
     "output_type": "stream",
     "text": [
      "Time steps: 100%|########################################################################################################################9| 17520/17521 [00:05<00:00, 2959.32it/s]\n"
     ]
    },
    {
     "name": "stdout",
     "output_type": "stream",
     "text": [
      "Running EPANET ...\n"
     ]
    },
    {
     "name": "stderr",
     "output_type": "stream",
     "text": [
      "Time steps: 100%|########################################################################################################################9| 17520/17521 [00:05<00:00, 2969.82it/s]\n"
     ]
    },
    {
     "name": "stdout",
     "output_type": "stream",
     "text": [
      "Running EPANET ...\n"
     ]
    },
    {
     "name": "stderr",
     "output_type": "stream",
     "text": [
      "Time steps: 100%|########################################################################################################################9| 17520/17521 [00:05<00:00, 3051.93it/s]\n"
     ]
    },
    {
     "name": "stdout",
     "output_type": "stream",
     "text": [
      "Running EPANET ...\n"
     ]
    },
    {
     "name": "stderr",
     "output_type": "stream",
     "text": [
      "Time steps: 100%|########################################################################################################################9| 17520/17521 [00:05<00:00, 3053.20it/s]\n"
     ]
    },
    {
     "name": "stdout",
     "output_type": "stream",
     "text": [
      "Running EPANET ...\n"
     ]
    },
    {
     "name": "stderr",
     "output_type": "stream",
     "text": [
      "Time steps: 100%|########################################################################################################################9| 17520/17521 [00:05<00:00, 3052.77it/s]\n"
     ]
    },
    {
     "name": "stdout",
     "output_type": "stream",
     "text": [
      "Running EPANET ...\n"
     ]
    },
    {
     "name": "stderr",
     "output_type": "stream",
     "text": [
      "Time steps: 100%|########################################################################################################################9| 17520/17521 [00:05<00:00, 3034.40it/s]\n"
     ]
    },
    {
     "name": "stdout",
     "output_type": "stream",
     "text": [
      "Running EPANET ...\n"
     ]
    },
    {
     "name": "stderr",
     "output_type": "stream",
     "text": [
      "Time steps: 100%|########################################################################################################################9| 17520/17521 [00:05<00:00, 2994.66it/s]\n"
     ]
    },
    {
     "name": "stdout",
     "output_type": "stream",
     "text": [
      "Running EPANET ...\n"
     ]
    },
    {
     "name": "stderr",
     "output_type": "stream",
     "text": [
      "Time steps: 100%|########################################################################################################################9| 17520/17521 [00:05<00:00, 3037.43it/s]\n"
     ]
    },
    {
     "name": "stdout",
     "output_type": "stream",
     "text": [
      "Running EPANET ...\n"
     ]
    },
    {
     "name": "stderr",
     "output_type": "stream",
     "text": [
      "Time steps: 100%|########################################################################################################################9| 17520/17521 [00:05<00:00, 2948.71it/s]\n"
     ]
    },
    {
     "name": "stdout",
     "output_type": "stream",
     "text": [
      "Running EPANET ...\n"
     ]
    },
    {
     "name": "stderr",
     "output_type": "stream",
     "text": [
      "Time steps: 100%|########################################################################################################################9| 17520/17521 [00:05<00:00, 3034.84it/s]\n"
     ]
    },
    {
     "name": "stdout",
     "output_type": "stream",
     "text": [
      "Running EPANET ...\n"
     ]
    },
    {
     "name": "stderr",
     "output_type": "stream",
     "text": [
      "Time steps: 100%|########################################################################################################################9| 17520/17521 [00:05<00:00, 3025.16it/s]\n"
     ]
    },
    {
     "name": "stdout",
     "output_type": "stream",
     "text": [
      "Running EPANET ...\n"
     ]
    },
    {
     "name": "stderr",
     "output_type": "stream",
     "text": [
      "Time steps: 100%|########################################################################################################################9| 17520/17521 [00:05<00:00, 2978.92it/s]\n"
     ]
    },
    {
     "name": "stdout",
     "output_type": "stream",
     "text": [
      "Running EPANET ...\n"
     ]
    },
    {
     "name": "stderr",
     "output_type": "stream",
     "text": [
      "Time steps: 100%|########################################################################################################################9| 17520/17521 [00:05<00:00, 2953.79it/s]\n"
     ]
    },
    {
     "name": "stdout",
     "output_type": "stream",
     "text": [
      "Running EPANET ...\n"
     ]
    },
    {
     "name": "stderr",
     "output_type": "stream",
     "text": [
      "Time steps: 100%|########################################################################################################################9| 17520/17521 [00:05<00:00, 3029.06it/s]\n"
     ]
    },
    {
     "name": "stdout",
     "output_type": "stream",
     "text": [
      "Running EPANET ...\n"
     ]
    },
    {
     "name": "stderr",
     "output_type": "stream",
     "text": [
      "Time steps: 100%|########################################################################################################################9| 17520/17521 [00:05<00:00, 2974.14it/s]\n"
     ]
    },
    {
     "name": "stdout",
     "output_type": "stream",
     "text": [
      "Running EPANET ...\n"
     ]
    },
    {
     "name": "stderr",
     "output_type": "stream",
     "text": [
      "Time steps: 100%|########################################################################################################################9| 17520/17521 [00:05<00:00, 3037.75it/s]\n"
     ]
    },
    {
     "name": "stdout",
     "output_type": "stream",
     "text": [
      "Running EPANET ...\n"
     ]
    },
    {
     "name": "stderr",
     "output_type": "stream",
     "text": [
      "Time steps: 100%|########################################################################################################################9| 17520/17521 [00:05<00:00, 2955.34it/s]\n"
     ]
    },
    {
     "name": "stdout",
     "output_type": "stream",
     "text": [
      "Running EPANET ...\n"
     ]
    },
    {
     "name": "stderr",
     "output_type": "stream",
     "text": [
      "Time steps: 100%|########################################################################################################################9| 17520/17521 [00:05<00:00, 3047.39it/s]\n"
     ]
    },
    {
     "name": "stdout",
     "output_type": "stream",
     "text": [
      "Running EPANET ...\n"
     ]
    },
    {
     "name": "stderr",
     "output_type": "stream",
     "text": [
      "Time steps: 100%|########################################################################################################################9| 17520/17521 [00:05<00:00, 3052.49it/s]\n"
     ]
    },
    {
     "name": "stdout",
     "output_type": "stream",
     "text": [
      "Running EPANET ...\n"
     ]
    },
    {
     "name": "stderr",
     "output_type": "stream",
     "text": [
      "Time steps: 100%|########################################################################################################################9| 17520/17521 [00:05<00:00, 3026.57it/s]\n"
     ]
    },
    {
     "name": "stdout",
     "output_type": "stream",
     "text": [
      "Running EPANET ...\n"
     ]
    },
    {
     "name": "stderr",
     "output_type": "stream",
     "text": [
      "Time steps: 100%|########################################################################################################################9| 17520/17521 [00:05<00:00, 2946.99it/s]\n"
     ]
    },
    {
     "name": "stdout",
     "output_type": "stream",
     "text": [
      "Running EPANET ...\n"
     ]
    },
    {
     "name": "stderr",
     "output_type": "stream",
     "text": [
      "Time steps: 100%|########################################################################################################################9| 17520/17521 [00:05<00:00, 3062.71it/s]\n"
     ]
    },
    {
     "name": "stdout",
     "output_type": "stream",
     "text": [
      "Running EPANET ...\n"
     ]
    },
    {
     "name": "stderr",
     "output_type": "stream",
     "text": [
      "Time steps: 100%|########################################################################################################################9| 17520/17521 [00:05<00:00, 2996.33it/s]\n"
     ]
    },
    {
     "name": "stdout",
     "output_type": "stream",
     "text": [
      "Running EPANET ...\n"
     ]
    },
    {
     "name": "stderr",
     "output_type": "stream",
     "text": [
      "Time steps: 100%|########################################################################################################################9| 17520/17521 [00:05<00:00, 3044.68it/s]\n"
     ]
    },
    {
     "name": "stdout",
     "output_type": "stream",
     "text": [
      "Running EPANET ...\n"
     ]
    },
    {
     "name": "stderr",
     "output_type": "stream",
     "text": [
      "Time steps: 100%|########################################################################################################################9| 17520/17521 [00:05<00:00, 3047.04it/s]\n"
     ]
    },
    {
     "name": "stdout",
     "output_type": "stream",
     "text": [
      "Running EPANET ...\n"
     ]
    },
    {
     "name": "stderr",
     "output_type": "stream",
     "text": [
      "Time steps: 100%|########################################################################################################################9| 17520/17521 [00:05<00:00, 3033.12it/s]\n"
     ]
    },
    {
     "name": "stdout",
     "output_type": "stream",
     "text": [
      "Running EPANET ...\n"
     ]
    },
    {
     "name": "stderr",
     "output_type": "stream",
     "text": [
      "Time steps: 100%|########################################################################################################################9| 17520/17521 [00:05<00:00, 3062.67it/s]\n"
     ]
    },
    {
     "name": "stdout",
     "output_type": "stream",
     "text": [
      "Running EPANET ...\n"
     ]
    },
    {
     "name": "stderr",
     "output_type": "stream",
     "text": [
      "Time steps: 100%|########################################################################################################################9| 17520/17521 [00:05<00:00, 2975.82it/s]\n"
     ]
    },
    {
     "name": "stdout",
     "output_type": "stream",
     "text": [
      "Running EPANET ...\n"
     ]
    },
    {
     "name": "stderr",
     "output_type": "stream",
     "text": [
      "Time steps: 100%|########################################################################################################################9| 17520/17521 [00:05<00:00, 2957.32it/s]\n"
     ]
    },
    {
     "name": "stdout",
     "output_type": "stream",
     "text": [
      "Running EPANET ...\n"
     ]
    },
    {
     "name": "stderr",
     "output_type": "stream",
     "text": [
      "Time steps: 100%|########################################################################################################################9| 17520/17521 [00:05<00:00, 2972.94it/s]\n"
     ]
    },
    {
     "name": "stdout",
     "output_type": "stream",
     "text": [
      "Running EPANET ...\n"
     ]
    },
    {
     "name": "stderr",
     "output_type": "stream",
     "text": [
      "Time steps: 100%|########################################################################################################################9| 17520/17521 [00:05<00:00, 3045.82it/s]\n"
     ]
    },
    {
     "name": "stdout",
     "output_type": "stream",
     "text": [
      "Running EPANET ...\n"
     ]
    },
    {
     "name": "stderr",
     "output_type": "stream",
     "text": [
      "Time steps: 100%|########################################################################################################################9| 17520/17521 [00:05<00:00, 3046.80it/s]\n"
     ]
    },
    {
     "name": "stdout",
     "output_type": "stream",
     "text": [
      "Running EPANET ...\n"
     ]
    },
    {
     "name": "stderr",
     "output_type": "stream",
     "text": [
      "Time steps: 100%|########################################################################################################################9| 17520/17521 [00:05<00:00, 3026.63it/s]\n"
     ]
    },
    {
     "name": "stdout",
     "output_type": "stream",
     "text": [
      "Running EPANET ...\n"
     ]
    },
    {
     "name": "stderr",
     "output_type": "stream",
     "text": [
      "Time steps: 100%|########################################################################################################################9| 17520/17521 [00:05<00:00, 3070.40it/s]\n"
     ]
    },
    {
     "name": "stdout",
     "output_type": "stream",
     "text": [
      "Running EPANET ...\n"
     ]
    },
    {
     "name": "stderr",
     "output_type": "stream",
     "text": [
      "Time steps: 100%|########################################################################################################################9| 17520/17521 [00:05<00:00, 3026.96it/s]\n"
     ]
    },
    {
     "name": "stdout",
     "output_type": "stream",
     "text": [
      "Running EPANET ...\n"
     ]
    },
    {
     "name": "stderr",
     "output_type": "stream",
     "text": [
      "Time steps: 100%|########################################################################################################################9| 17520/17521 [00:05<00:00, 3055.86it/s]\n"
     ]
    },
    {
     "name": "stdout",
     "output_type": "stream",
     "text": [
      "Running EPANET ...\n"
     ]
    },
    {
     "name": "stderr",
     "output_type": "stream",
     "text": [
      "Time steps: 100%|########################################################################################################################9| 17520/17521 [00:05<00:00, 3052.51it/s]\n"
     ]
    },
    {
     "name": "stdout",
     "output_type": "stream",
     "text": [
      "Running EPANET ...\n"
     ]
    },
    {
     "name": "stderr",
     "output_type": "stream",
     "text": [
      "Time steps: 100%|########################################################################################################################9| 17520/17521 [00:05<00:00, 2995.58it/s]\n"
     ]
    },
    {
     "name": "stdout",
     "output_type": "stream",
     "text": [
      "Running EPANET ...\n"
     ]
    },
    {
     "name": "stderr",
     "output_type": "stream",
     "text": [
      "Time steps: 100%|########################################################################################################################9| 17520/17521 [00:05<00:00, 3058.10it/s]\n"
     ]
    },
    {
     "name": "stdout",
     "output_type": "stream",
     "text": [
      "Running EPANET ...\n"
     ]
    },
    {
     "name": "stderr",
     "output_type": "stream",
     "text": [
      "Time steps: 100%|########################################################################################################################9| 17520/17521 [00:05<00:00, 3046.40it/s]\n"
     ]
    },
    {
     "name": "stdout",
     "output_type": "stream",
     "text": [
      "Running EPANET ...\n"
     ]
    },
    {
     "name": "stderr",
     "output_type": "stream",
     "text": [
      "Time steps: 100%|########################################################################################################################9| 17520/17521 [00:05<00:00, 3068.85it/s]\n"
     ]
    },
    {
     "name": "stdout",
     "output_type": "stream",
     "text": [
      "Running EPANET ...\n"
     ]
    },
    {
     "name": "stderr",
     "output_type": "stream",
     "text": [
      "Time steps: 100%|########################################################################################################################9| 17520/17521 [00:05<00:00, 3049.77it/s]\n"
     ]
    },
    {
     "name": "stdout",
     "output_type": "stream",
     "text": [
      "Running EPANET ...\n"
     ]
    },
    {
     "name": "stderr",
     "output_type": "stream",
     "text": [
      "Time steps: 100%|########################################################################################################################9| 17520/17521 [00:05<00:00, 3049.69it/s]\n"
     ]
    },
    {
     "name": "stdout",
     "output_type": "stream",
     "text": [
      "Running EPANET ...\n"
     ]
    },
    {
     "name": "stderr",
     "output_type": "stream",
     "text": [
      "Time steps: 100%|########################################################################################################################9| 17520/17521 [00:05<00:00, 3048.03it/s]\n"
     ]
    },
    {
     "name": "stdout",
     "output_type": "stream",
     "text": [
      "Running EPANET ...\n"
     ]
    },
    {
     "name": "stderr",
     "output_type": "stream",
     "text": [
      "Time steps: 100%|########################################################################################################################9| 17520/17521 [00:05<00:00, 3006.87it/s]\n"
     ]
    },
    {
     "name": "stdout",
     "output_type": "stream",
     "text": [
      "Running EPANET ...\n"
     ]
    },
    {
     "name": "stderr",
     "output_type": "stream",
     "text": [
      "Time steps: 100%|########################################################################################################################9| 17520/17521 [00:05<00:00, 3033.99it/s]\n"
     ]
    },
    {
     "name": "stdout",
     "output_type": "stream",
     "text": [
      "Running EPANET ...\n"
     ]
    },
    {
     "name": "stderr",
     "output_type": "stream",
     "text": [
      "Time steps: 100%|########################################################################################################################9| 17520/17521 [00:05<00:00, 3011.64it/s]\n"
     ]
    },
    {
     "name": "stdout",
     "output_type": "stream",
     "text": [
      "Running EPANET ...\n"
     ]
    },
    {
     "name": "stderr",
     "output_type": "stream",
     "text": [
      "Time steps: 100%|########################################################################################################################9| 17520/17521 [00:05<00:00, 3036.05it/s]\n"
     ]
    },
    {
     "name": "stdout",
     "output_type": "stream",
     "text": [
      "Running EPANET ...\n"
     ]
    },
    {
     "name": "stderr",
     "output_type": "stream",
     "text": [
      "Time steps: 100%|########################################################################################################################9| 17520/17521 [00:05<00:00, 3006.08it/s]\n"
     ]
    },
    {
     "name": "stdout",
     "output_type": "stream",
     "text": [
      "Running EPANET ...\n"
     ]
    },
    {
     "name": "stderr",
     "output_type": "stream",
     "text": [
      "Time steps: 100%|########################################################################################################################9| 17520/17521 [00:05<00:00, 3054.60it/s]\n"
     ]
    },
    {
     "name": "stdout",
     "output_type": "stream",
     "text": [
      "Running EPANET ...\n"
     ]
    },
    {
     "name": "stderr",
     "output_type": "stream",
     "text": [
      "Time steps: 100%|########################################################################################################################9| 17520/17521 [00:05<00:00, 2960.12it/s]\n"
     ]
    },
    {
     "name": "stdout",
     "output_type": "stream",
     "text": [
      "Running EPANET ...\n"
     ]
    },
    {
     "name": "stderr",
     "output_type": "stream",
     "text": [
      "Time steps: 100%|########################################################################################################################9| 17520/17521 [00:05<00:00, 3072.36it/s]\n"
     ]
    },
    {
     "name": "stdout",
     "output_type": "stream",
     "text": [
      "Running EPANET ...\n"
     ]
    },
    {
     "name": "stderr",
     "output_type": "stream",
     "text": [
      "Time steps: 100%|########################################################################################################################9| 17520/17521 [00:05<00:00, 3057.50it/s]\n"
     ]
    },
    {
     "name": "stdout",
     "output_type": "stream",
     "text": [
      "Running EPANET ...\n"
     ]
    },
    {
     "name": "stderr",
     "output_type": "stream",
     "text": [
      "Time steps: 100%|########################################################################################################################9| 17520/17521 [00:05<00:00, 3052.04it/s]\n"
     ]
    },
    {
     "name": "stdout",
     "output_type": "stream",
     "text": [
      "Running EPANET ...\n"
     ]
    },
    {
     "name": "stderr",
     "output_type": "stream",
     "text": [
      "Time steps: 100%|########################################################################################################################9| 17520/17521 [00:05<00:00, 3056.61it/s]\n"
     ]
    },
    {
     "name": "stdout",
     "output_type": "stream",
     "text": [
      "Running EPANET ...\n"
     ]
    },
    {
     "name": "stderr",
     "output_type": "stream",
     "text": [
      "Time steps: 100%|########################################################################################################################9| 17520/17521 [00:05<00:00, 3026.23it/s]\n"
     ]
    },
    {
     "name": "stdout",
     "output_type": "stream",
     "text": [
      "Running EPANET ...\n"
     ]
    },
    {
     "name": "stderr",
     "output_type": "stream",
     "text": [
      "Time steps: 100%|########################################################################################################################9| 17520/17521 [00:05<00:00, 3039.57it/s]\n"
     ]
    },
    {
     "name": "stdout",
     "output_type": "stream",
     "text": [
      "Running EPANET ...\n"
     ]
    },
    {
     "name": "stderr",
     "output_type": "stream",
     "text": [
      "Time steps: 100%|########################################################################################################################9| 17520/17521 [00:05<00:00, 3018.72it/s]\n"
     ]
    },
    {
     "name": "stdout",
     "output_type": "stream",
     "text": [
      "Running EPANET ...\n"
     ]
    },
    {
     "name": "stderr",
     "output_type": "stream",
     "text": [
      "Time steps: 100%|########################################################################################################################9| 17520/17521 [00:05<00:00, 3007.11it/s]\n"
     ]
    },
    {
     "name": "stdout",
     "output_type": "stream",
     "text": [
      "Running EPANET ...\n"
     ]
    },
    {
     "name": "stderr",
     "output_type": "stream",
     "text": [
      "Time steps: 100%|########################################################################################################################9| 17520/17521 [00:05<00:00, 3031.64it/s]\n"
     ]
    },
    {
     "name": "stdout",
     "output_type": "stream",
     "text": [
      "Running EPANET ...\n"
     ]
    },
    {
     "name": "stderr",
     "output_type": "stream",
     "text": [
      "Time steps: 100%|########################################################################################################################9| 17520/17521 [00:05<00:00, 2996.49it/s]\n"
     ]
    },
    {
     "name": "stdout",
     "output_type": "stream",
     "text": [
      "Running EPANET ...\n"
     ]
    },
    {
     "name": "stderr",
     "output_type": "stream",
     "text": [
      "Time steps: 100%|########################################################################################################################9| 17520/17521 [00:05<00:00, 2993.21it/s]\n"
     ]
    },
    {
     "name": "stdout",
     "output_type": "stream",
     "text": [
      "Running EPANET ...\n"
     ]
    },
    {
     "name": "stderr",
     "output_type": "stream",
     "text": [
      "Time steps: 100%|########################################################################################################################9| 17520/17521 [00:05<00:00, 3048.36it/s]\n"
     ]
    },
    {
     "name": "stdout",
     "output_type": "stream",
     "text": [
      "Running EPANET ...\n"
     ]
    },
    {
     "name": "stderr",
     "output_type": "stream",
     "text": [
      "Time steps: 100%|########################################################################################################################9| 17520/17521 [00:05<00:00, 3043.94it/s]\n"
     ]
    },
    {
     "name": "stdout",
     "output_type": "stream",
     "text": [
      "Running EPANET ...\n"
     ]
    },
    {
     "name": "stderr",
     "output_type": "stream",
     "text": [
      "Time steps: 100%|########################################################################################################################9| 17520/17521 [00:05<00:00, 2991.84it/s]\n"
     ]
    },
    {
     "name": "stdout",
     "output_type": "stream",
     "text": [
      "Running EPANET ...\n"
     ]
    },
    {
     "name": "stderr",
     "output_type": "stream",
     "text": [
      "Time steps: 100%|########################################################################################################################9| 17520/17521 [00:05<00:00, 3063.28it/s]\n"
     ]
    },
    {
     "name": "stdout",
     "output_type": "stream",
     "text": [
      "Running EPANET ...\n"
     ]
    },
    {
     "name": "stderr",
     "output_type": "stream",
     "text": [
      "Time steps: 100%|########################################################################################################################9| 17520/17521 [00:05<00:00, 3009.36it/s]\n"
     ]
    },
    {
     "name": "stdout",
     "output_type": "stream",
     "text": [
      "Running EPANET ...\n"
     ]
    },
    {
     "name": "stderr",
     "output_type": "stream",
     "text": [
      "Time steps: 100%|########################################################################################################################9| 17520/17521 [00:05<00:00, 3054.41it/s]\n"
     ]
    },
    {
     "name": "stdout",
     "output_type": "stream",
     "text": [
      "Running EPANET ...\n"
     ]
    },
    {
     "name": "stderr",
     "output_type": "stream",
     "text": [
      "Time steps: 100%|########################################################################################################################9| 17520/17521 [00:05<00:00, 3015.55it/s]\n"
     ]
    },
    {
     "name": "stdout",
     "output_type": "stream",
     "text": [
      "Running EPANET ...\n"
     ]
    },
    {
     "name": "stderr",
     "output_type": "stream",
     "text": [
      "Time steps: 100%|########################################################################################################################9| 17520/17521 [00:05<00:00, 3045.53it/s]\n"
     ]
    },
    {
     "name": "stdout",
     "output_type": "stream",
     "text": [
      "Running EPANET ...\n"
     ]
    },
    {
     "name": "stderr",
     "output_type": "stream",
     "text": [
      "Time steps: 100%|########################################################################################################################9| 17520/17521 [00:05<00:00, 3040.33it/s]\n"
     ]
    },
    {
     "name": "stdout",
     "output_type": "stream",
     "text": [
      "Running EPANET ...\n"
     ]
    },
    {
     "name": "stderr",
     "output_type": "stream",
     "text": [
      "Time steps: 100%|########################################################################################################################9| 17520/17521 [00:05<00:00, 3009.90it/s]\n"
     ]
    },
    {
     "name": "stdout",
     "output_type": "stream",
     "text": [
      "Running EPANET ...\n"
     ]
    },
    {
     "name": "stderr",
     "output_type": "stream",
     "text": [
      "Time steps: 100%|########################################################################################################################9| 17520/17521 [00:05<00:00, 2996.16it/s]\n"
     ]
    },
    {
     "name": "stdout",
     "output_type": "stream",
     "text": [
      "Running EPANET ...\n"
     ]
    },
    {
     "name": "stderr",
     "output_type": "stream",
     "text": [
      "Time steps: 100%|########################################################################################################################9| 17520/17521 [00:05<00:00, 2969.15it/s]\n"
     ]
    },
    {
     "name": "stdout",
     "output_type": "stream",
     "text": [
      "Running EPANET ...\n"
     ]
    },
    {
     "name": "stderr",
     "output_type": "stream",
     "text": [
      "Time steps: 100%|########################################################################################################################9| 17520/17521 [00:05<00:00, 3020.69it/s]\n"
     ]
    },
    {
     "name": "stdout",
     "output_type": "stream",
     "text": [
      "Running EPANET ...\n"
     ]
    },
    {
     "name": "stderr",
     "output_type": "stream",
     "text": [
      "Time steps: 100%|########################################################################################################################9| 17520/17521 [00:05<00:00, 3068.20it/s]\n"
     ]
    },
    {
     "name": "stdout",
     "output_type": "stream",
     "text": [
      "Running EPANET ...\n"
     ]
    },
    {
     "name": "stderr",
     "output_type": "stream",
     "text": [
      "Time steps: 100%|########################################################################################################################9| 17520/17521 [00:05<00:00, 3034.00it/s]\n"
     ]
    },
    {
     "name": "stdout",
     "output_type": "stream",
     "text": [
      "Running EPANET ...\n"
     ]
    },
    {
     "name": "stderr",
     "output_type": "stream",
     "text": [
      "Time steps: 100%|########################################################################################################################9| 17520/17521 [00:05<00:00, 3032.43it/s]\n"
     ]
    },
    {
     "name": "stdout",
     "output_type": "stream",
     "text": [
      "Running EPANET ...\n"
     ]
    },
    {
     "name": "stderr",
     "output_type": "stream",
     "text": [
      "Time steps: 100%|########################################################################################################################9| 17520/17521 [00:05<00:00, 3042.94it/s]\n"
     ]
    },
    {
     "name": "stdout",
     "output_type": "stream",
     "text": [
      "Running EPANET ...\n"
     ]
    },
    {
     "name": "stderr",
     "output_type": "stream",
     "text": [
      "Time steps: 100%|########################################################################################################################9| 17520/17521 [00:05<00:00, 3033.71it/s]\n"
     ]
    },
    {
     "name": "stdout",
     "output_type": "stream",
     "text": [
      "Running EPANET ...\n"
     ]
    },
    {
     "name": "stderr",
     "output_type": "stream",
     "text": [
      "Time steps: 100%|########################################################################################################################9| 17520/17521 [00:05<00:00, 3034.80it/s]\n"
     ]
    },
    {
     "name": "stdout",
     "output_type": "stream",
     "text": [
      "Running EPANET ...\n"
     ]
    },
    {
     "name": "stderr",
     "output_type": "stream",
     "text": [
      "Time steps: 100%|########################################################################################################################9| 17520/17521 [00:05<00:00, 3035.71it/s]\n"
     ]
    },
    {
     "name": "stdout",
     "output_type": "stream",
     "text": [
      "Running EPANET ...\n"
     ]
    },
    {
     "name": "stderr",
     "output_type": "stream",
     "text": [
      "Time steps: 100%|########################################################################################################################9| 17520/17521 [00:05<00:00, 3072.30it/s]\n"
     ]
    },
    {
     "name": "stdout",
     "output_type": "stream",
     "text": [
      "Running EPANET ...\n"
     ]
    },
    {
     "name": "stderr",
     "output_type": "stream",
     "text": [
      "Time steps: 100%|########################################################################################################################9| 17520/17521 [00:05<00:00, 3014.11it/s]\n"
     ]
    },
    {
     "name": "stdout",
     "output_type": "stream",
     "text": [
      "Running EPANET ...\n"
     ]
    },
    {
     "name": "stderr",
     "output_type": "stream",
     "text": [
      "Time steps: 100%|########################################################################################################################9| 17520/17521 [00:05<00:00, 3052.73it/s]\n"
     ]
    },
    {
     "name": "stdout",
     "output_type": "stream",
     "text": [
      "Running EPANET ...\n"
     ]
    },
    {
     "name": "stderr",
     "output_type": "stream",
     "text": [
      "Time steps: 100%|########################################################################################################################9| 17520/17521 [00:05<00:00, 3026.90it/s]\n"
     ]
    },
    {
     "name": "stdout",
     "output_type": "stream",
     "text": [
      "Running EPANET ...\n"
     ]
    },
    {
     "name": "stderr",
     "output_type": "stream",
     "text": [
      "Time steps: 100%|########################################################################################################################9| 17520/17521 [00:05<00:00, 3037.04it/s]\n"
     ]
    },
    {
     "name": "stdout",
     "output_type": "stream",
     "text": [
      "Running EPANET ...\n"
     ]
    },
    {
     "name": "stderr",
     "output_type": "stream",
     "text": [
      "Time steps: 100%|########################################################################################################################9| 17520/17521 [00:05<00:00, 3013.24it/s]\n"
     ]
    },
    {
     "name": "stdout",
     "output_type": "stream",
     "text": [
      "Running EPANET ...\n"
     ]
    },
    {
     "name": "stderr",
     "output_type": "stream",
     "text": [
      "Time steps: 100%|########################################################################################################################9| 17520/17521 [00:05<00:00, 3017.36it/s]\n"
     ]
    },
    {
     "name": "stdout",
     "output_type": "stream",
     "text": [
      "Running EPANET ...\n"
     ]
    },
    {
     "name": "stderr",
     "output_type": "stream",
     "text": [
      "Time steps: 100%|########################################################################################################################9| 17520/17521 [00:05<00:00, 3035.31it/s]\n"
     ]
    },
    {
     "name": "stdout",
     "output_type": "stream",
     "text": [
      "Running EPANET ...\n"
     ]
    },
    {
     "name": "stderr",
     "output_type": "stream",
     "text": [
      "Time steps: 100%|########################################################################################################################9| 17520/17521 [00:05<00:00, 3008.82it/s]\n"
     ]
    },
    {
     "name": "stdout",
     "output_type": "stream",
     "text": [
      "Running EPANET ...\n"
     ]
    },
    {
     "name": "stderr",
     "output_type": "stream",
     "text": [
      "Time steps: 100%|########################################################################################################################9| 17520/17521 [00:05<00:00, 2945.07it/s]\n"
     ]
    },
    {
     "name": "stdout",
     "output_type": "stream",
     "text": [
      "Running EPANET ...\n"
     ]
    },
    {
     "name": "stderr",
     "output_type": "stream",
     "text": [
      "Time steps: 100%|########################################################################################################################9| 17520/17521 [00:05<00:00, 3017.94it/s]\n"
     ]
    },
    {
     "name": "stdout",
     "output_type": "stream",
     "text": [
      "Running EPANET ...\n"
     ]
    },
    {
     "name": "stderr",
     "output_type": "stream",
     "text": [
      "Time steps: 100%|########################################################################################################################9| 17520/17521 [00:05<00:00, 3043.95it/s]\n"
     ]
    },
    {
     "name": "stdout",
     "output_type": "stream",
     "text": [
      "Running EPANET ...\n"
     ]
    },
    {
     "name": "stderr",
     "output_type": "stream",
     "text": [
      "Time steps: 100%|########################################################################################################################9| 17520/17521 [00:05<00:00, 3041.34it/s]\n"
     ]
    },
    {
     "name": "stdout",
     "output_type": "stream",
     "text": [
      "Running EPANET ...\n"
     ]
    },
    {
     "name": "stderr",
     "output_type": "stream",
     "text": [
      "Time steps: 100%|########################################################################################################################9| 17520/17521 [00:05<00:00, 2963.13it/s]\n"
     ]
    },
    {
     "name": "stdout",
     "output_type": "stream",
     "text": [
      "Running EPANET ...\n"
     ]
    },
    {
     "name": "stderr",
     "output_type": "stream",
     "text": [
      "Time steps: 100%|########################################################################################################################9| 17520/17521 [00:05<00:00, 3051.92it/s]\n"
     ]
    },
    {
     "name": "stdout",
     "output_type": "stream",
     "text": [
      "Running EPANET ...\n"
     ]
    },
    {
     "name": "stderr",
     "output_type": "stream",
     "text": [
      "Time steps: 100%|########################################################################################################################9| 17520/17521 [00:06<00:00, 2918.83it/s]\n"
     ]
    },
    {
     "name": "stdout",
     "output_type": "stream",
     "text": [
      "Running EPANET ...\n"
     ]
    },
    {
     "name": "stderr",
     "output_type": "stream",
     "text": [
      "Time steps: 100%|########################################################################################################################9| 17520/17521 [00:05<00:00, 2976.76it/s]\n"
     ]
    },
    {
     "name": "stdout",
     "output_type": "stream",
     "text": [
      "Running EPANET ...\n"
     ]
    },
    {
     "name": "stderr",
     "output_type": "stream",
     "text": [
      "Time steps: 100%|########################################################################################################################9| 17520/17521 [00:05<00:00, 2990.23it/s]\n"
     ]
    },
    {
     "name": "stdout",
     "output_type": "stream",
     "text": [
      "Running EPANET ...\n"
     ]
    },
    {
     "name": "stderr",
     "output_type": "stream",
     "text": [
      "Time steps: 100%|########################################################################################################################9| 17520/17521 [00:05<00:00, 3026.73it/s]\n"
     ]
    },
    {
     "name": "stdout",
     "output_type": "stream",
     "text": [
      "Running EPANET ...\n"
     ]
    },
    {
     "name": "stderr",
     "output_type": "stream",
     "text": [
      "Time steps: 100%|########################################################################################################################9| 17520/17521 [00:05<00:00, 2965.14it/s]\n"
     ]
    },
    {
     "name": "stdout",
     "output_type": "stream",
     "text": [
      "Running EPANET ...\n"
     ]
    },
    {
     "name": "stderr",
     "output_type": "stream",
     "text": [
      "Time steps: 100%|########################################################################################################################9| 17520/17521 [00:05<00:00, 2972.91it/s]\n"
     ]
    },
    {
     "name": "stdout",
     "output_type": "stream",
     "text": [
      "Running EPANET ...\n"
     ]
    },
    {
     "name": "stderr",
     "output_type": "stream",
     "text": [
      "Time steps: 100%|########################################################################################################################9| 17520/17521 [00:05<00:00, 2993.37it/s]\n"
     ]
    },
    {
     "name": "stdout",
     "output_type": "stream",
     "text": [
      "Running EPANET ...\n"
     ]
    },
    {
     "name": "stderr",
     "output_type": "stream",
     "text": [
      "Time steps: 100%|########################################################################################################################9| 17520/17521 [00:05<00:00, 3044.40it/s]\n"
     ]
    },
    {
     "name": "stdout",
     "output_type": "stream",
     "text": [
      "Running EPANET ...\n"
     ]
    },
    {
     "name": "stderr",
     "output_type": "stream",
     "text": [
      "Time steps: 100%|########################################################################################################################9| 17520/17521 [00:05<00:00, 3012.46it/s]\n"
     ]
    },
    {
     "name": "stdout",
     "output_type": "stream",
     "text": [
      "Running EPANET ...\n"
     ]
    },
    {
     "name": "stderr",
     "output_type": "stream",
     "text": [
      "Time steps: 100%|########################################################################################################################9| 17520/17521 [00:05<00:00, 3000.61it/s]\n"
     ]
    },
    {
     "name": "stdout",
     "output_type": "stream",
     "text": [
      "Running EPANET ...\n"
     ]
    },
    {
     "name": "stderr",
     "output_type": "stream",
     "text": [
      "Time steps: 100%|########################################################################################################################9| 17520/17521 [00:05<00:00, 2979.61it/s]\n"
     ]
    },
    {
     "name": "stdout",
     "output_type": "stream",
     "text": [
      "Running EPANET ...\n"
     ]
    },
    {
     "name": "stderr",
     "output_type": "stream",
     "text": [
      "Time steps: 100%|########################################################################################################################9| 17520/17521 [00:05<00:00, 3019.00it/s]\n"
     ]
    },
    {
     "name": "stdout",
     "output_type": "stream",
     "text": [
      "Running EPANET ...\n"
     ]
    },
    {
     "name": "stderr",
     "output_type": "stream",
     "text": [
      "Time steps: 100%|########################################################################################################################9| 17520/17521 [00:05<00:00, 3036.94it/s]\n"
     ]
    },
    {
     "name": "stdout",
     "output_type": "stream",
     "text": [
      "Running EPANET ...\n"
     ]
    },
    {
     "name": "stderr",
     "output_type": "stream",
     "text": [
      "Time steps: 100%|########################################################################################################################9| 17520/17521 [00:05<00:00, 2972.95it/s]\n"
     ]
    },
    {
     "name": "stdout",
     "output_type": "stream",
     "text": [
      "Running EPANET ...\n"
     ]
    },
    {
     "name": "stderr",
     "output_type": "stream",
     "text": [
      "Time steps: 100%|########################################################################################################################9| 17520/17521 [00:05<00:00, 3043.46it/s]\n"
     ]
    },
    {
     "name": "stdout",
     "output_type": "stream",
     "text": [
      "Running EPANET ...\n"
     ]
    },
    {
     "name": "stderr",
     "output_type": "stream",
     "text": [
      "Time steps: 100%|########################################################################################################################9| 17520/17521 [00:05<00:00, 2990.10it/s]\n"
     ]
    },
    {
     "name": "stdout",
     "output_type": "stream",
     "text": [
      "Running EPANET ...\n"
     ]
    },
    {
     "name": "stderr",
     "output_type": "stream",
     "text": [
      "Time steps: 100%|########################################################################################################################9| 17520/17521 [00:05<00:00, 2987.30it/s]\n"
     ]
    },
    {
     "name": "stdout",
     "output_type": "stream",
     "text": [
      "Running EPANET ...\n"
     ]
    },
    {
     "name": "stderr",
     "output_type": "stream",
     "text": [
      "Time steps: 100%|########################################################################################################################9| 17520/17521 [00:05<00:00, 3053.41it/s]\n"
     ]
    },
    {
     "name": "stdout",
     "output_type": "stream",
     "text": [
      "Running EPANET ...\n"
     ]
    },
    {
     "name": "stderr",
     "output_type": "stream",
     "text": [
      "Time steps: 100%|########################################################################################################################9| 17520/17521 [00:05<00:00, 3025.49it/s]\n"
     ]
    },
    {
     "name": "stdout",
     "output_type": "stream",
     "text": [
      "Running EPANET ...\n"
     ]
    },
    {
     "name": "stderr",
     "output_type": "stream",
     "text": [
      "Time steps: 100%|########################################################################################################################9| 17520/17521 [00:05<00:00, 3007.31it/s]\n"
     ]
    },
    {
     "name": "stdout",
     "output_type": "stream",
     "text": [
      "Running EPANET ...\n"
     ]
    },
    {
     "name": "stderr",
     "output_type": "stream",
     "text": [
      "Time steps: 100%|########################################################################################################################9| 17520/17521 [00:05<00:00, 3056.05it/s]\n"
     ]
    },
    {
     "name": "stdout",
     "output_type": "stream",
     "text": [
      "Running EPANET ...\n"
     ]
    },
    {
     "name": "stderr",
     "output_type": "stream",
     "text": [
      "Time steps: 100%|########################################################################################################################9| 17520/17521 [00:05<00:00, 2963.07it/s]\n"
     ]
    },
    {
     "name": "stdout",
     "output_type": "stream",
     "text": [
      "Running EPANET ...\n"
     ]
    },
    {
     "name": "stderr",
     "output_type": "stream",
     "text": [
      "Time steps: 100%|########################################################################################################################9| 17520/17521 [00:05<00:00, 3066.50it/s]\n"
     ]
    },
    {
     "name": "stdout",
     "output_type": "stream",
     "text": [
      "Running EPANET ...\n"
     ]
    },
    {
     "name": "stderr",
     "output_type": "stream",
     "text": [
      "Time steps: 100%|########################################################################################################################9| 17520/17521 [00:05<00:00, 2979.01it/s]\n"
     ]
    },
    {
     "name": "stdout",
     "output_type": "stream",
     "text": [
      "Running EPANET ...\n"
     ]
    },
    {
     "name": "stderr",
     "output_type": "stream",
     "text": [
      "Time steps: 100%|########################################################################################################################9| 17520/17521 [00:05<00:00, 3000.70it/s]\n"
     ]
    },
    {
     "name": "stdout",
     "output_type": "stream",
     "text": [
      "Running EPANET ...\n"
     ]
    },
    {
     "name": "stderr",
     "output_type": "stream",
     "text": [
      "Time steps: 100%|########################################################################################################################9| 17520/17521 [00:05<00:00, 3008.54it/s]\n"
     ]
    },
    {
     "name": "stdout",
     "output_type": "stream",
     "text": [
      "Running EPANET ...\n"
     ]
    },
    {
     "name": "stderr",
     "output_type": "stream",
     "text": [
      "Time steps: 100%|########################################################################################################################9| 17520/17521 [00:05<00:00, 2936.08it/s]\n"
     ]
    },
    {
     "name": "stdout",
     "output_type": "stream",
     "text": [
      "Running EPANET ...\n"
     ]
    },
    {
     "name": "stderr",
     "output_type": "stream",
     "text": [
      "Time steps: 100%|########################################################################################################################9| 17520/17521 [00:05<00:00, 3008.27it/s]\n"
     ]
    },
    {
     "name": "stdout",
     "output_type": "stream",
     "text": [
      "Running EPANET ...\n"
     ]
    },
    {
     "name": "stderr",
     "output_type": "stream",
     "text": [
      "Time steps: 100%|########################################################################################################################9| 17520/17521 [00:05<00:00, 2990.25it/s]\n"
     ]
    },
    {
     "name": "stdout",
     "output_type": "stream",
     "text": [
      "Running EPANET ...\n"
     ]
    },
    {
     "name": "stderr",
     "output_type": "stream",
     "text": [
      "Time steps: 100%|########################################################################################################################9| 17520/17521 [00:05<00:00, 3042.04it/s]\n"
     ]
    },
    {
     "name": "stdout",
     "output_type": "stream",
     "text": [
      "Running EPANET ...\n"
     ]
    },
    {
     "name": "stderr",
     "output_type": "stream",
     "text": [
      "Time steps: 100%|########################################################################################################################9| 17520/17521 [00:05<00:00, 3046.64it/s]\n"
     ]
    },
    {
     "name": "stdout",
     "output_type": "stream",
     "text": [
      "Running EPANET ...\n"
     ]
    },
    {
     "name": "stderr",
     "output_type": "stream",
     "text": [
      "Time steps: 100%|########################################################################################################################9| 17520/17521 [00:05<00:00, 3011.99it/s]\n"
     ]
    },
    {
     "name": "stdout",
     "output_type": "stream",
     "text": [
      "Running EPANET ...\n"
     ]
    },
    {
     "name": "stderr",
     "output_type": "stream",
     "text": [
      "Time steps: 100%|########################################################################################################################9| 17520/17521 [00:05<00:00, 3080.02it/s]\n"
     ]
    },
    {
     "name": "stdout",
     "output_type": "stream",
     "text": [
      "Running EPANET ...\n"
     ]
    },
    {
     "name": "stderr",
     "output_type": "stream",
     "text": [
      "Time steps: 100%|########################################################################################################################9| 17520/17521 [00:05<00:00, 3038.63it/s]\n"
     ]
    },
    {
     "name": "stdout",
     "output_type": "stream",
     "text": [
      "Running EPANET ...\n"
     ]
    },
    {
     "name": "stderr",
     "output_type": "stream",
     "text": [
      "Time steps: 100%|########################################################################################################################9| 17520/17521 [00:05<00:00, 3040.20it/s]\n"
     ]
    },
    {
     "name": "stdout",
     "output_type": "stream",
     "text": [
      "Running EPANET ...\n"
     ]
    },
    {
     "name": "stderr",
     "output_type": "stream",
     "text": [
      "Time steps: 100%|########################################################################################################################9| 17520/17521 [00:05<00:00, 3051.00it/s]\n"
     ]
    },
    {
     "name": "stdout",
     "output_type": "stream",
     "text": [
      "Running EPANET ...\n"
     ]
    },
    {
     "name": "stderr",
     "output_type": "stream",
     "text": [
      "Time steps: 100%|########################################################################################################################9| 17520/17521 [00:05<00:00, 2986.54it/s]\n"
     ]
    },
    {
     "name": "stdout",
     "output_type": "stream",
     "text": [
      "Running EPANET ...\n"
     ]
    },
    {
     "name": "stderr",
     "output_type": "stream",
     "text": [
      "Time steps: 100%|########################################################################################################################9| 17520/17521 [00:05<00:00, 2994.52it/s]\n"
     ]
    },
    {
     "name": "stdout",
     "output_type": "stream",
     "text": [
      "Running EPANET ...\n"
     ]
    },
    {
     "name": "stderr",
     "output_type": "stream",
     "text": [
      "Time steps: 100%|########################################################################################################################9| 17520/17521 [00:05<00:00, 3040.24it/s]\n"
     ]
    },
    {
     "name": "stdout",
     "output_type": "stream",
     "text": [
      "Running EPANET ...\n"
     ]
    },
    {
     "name": "stderr",
     "output_type": "stream",
     "text": [
      "Time steps: 100%|########################################################################################################################9| 17520/17521 [00:05<00:00, 3026.66it/s]\n"
     ]
    },
    {
     "name": "stdout",
     "output_type": "stream",
     "text": [
      "Running EPANET ...\n"
     ]
    },
    {
     "name": "stderr",
     "output_type": "stream",
     "text": [
      "Time steps: 100%|########################################################################################################################9| 17520/17521 [00:05<00:00, 3039.84it/s]\n"
     ]
    },
    {
     "name": "stdout",
     "output_type": "stream",
     "text": [
      "Running EPANET ...\n"
     ]
    },
    {
     "name": "stderr",
     "output_type": "stream",
     "text": [
      "Time steps: 100%|########################################################################################################################9| 17520/17521 [00:05<00:00, 3009.56it/s]\n"
     ]
    },
    {
     "name": "stdout",
     "output_type": "stream",
     "text": [
      "Running EPANET ...\n"
     ]
    },
    {
     "name": "stderr",
     "output_type": "stream",
     "text": [
      "Time steps: 100%|########################################################################################################################9| 17520/17521 [00:05<00:00, 3010.97it/s]\n"
     ]
    },
    {
     "name": "stdout",
     "output_type": "stream",
     "text": [
      "Running EPANET ...\n"
     ]
    },
    {
     "name": "stderr",
     "output_type": "stream",
     "text": [
      "Time steps: 100%|########################################################################################################################9| 17520/17521 [00:05<00:00, 3061.00it/s]\n"
     ]
    },
    {
     "name": "stdout",
     "output_type": "stream",
     "text": [
      "Running EPANET ...\n"
     ]
    },
    {
     "name": "stderr",
     "output_type": "stream",
     "text": [
      "Time steps: 100%|########################################################################################################################9| 17520/17521 [00:05<00:00, 3001.99it/s]\n"
     ]
    },
    {
     "name": "stdout",
     "output_type": "stream",
     "text": [
      "Running EPANET ...\n"
     ]
    },
    {
     "name": "stderr",
     "output_type": "stream",
     "text": [
      "Time steps: 100%|########################################################################################################################9| 17520/17521 [00:05<00:00, 3052.80it/s]\n"
     ]
    },
    {
     "name": "stdout",
     "output_type": "stream",
     "text": [
      "Running EPANET ...\n"
     ]
    },
    {
     "name": "stderr",
     "output_type": "stream",
     "text": [
      "Time steps: 100%|########################################################################################################################9| 17520/17521 [00:05<00:00, 3025.79it/s]\n"
     ]
    },
    {
     "name": "stdout",
     "output_type": "stream",
     "text": [
      "Running EPANET ...\n"
     ]
    },
    {
     "name": "stderr",
     "output_type": "stream",
     "text": [
      "Time steps: 100%|########################################################################################################################9| 17520/17521 [00:05<00:00, 2981.52it/s]\n"
     ]
    },
    {
     "name": "stdout",
     "output_type": "stream",
     "text": [
      "Running EPANET ...\n"
     ]
    },
    {
     "name": "stderr",
     "output_type": "stream",
     "text": [
      "Time steps: 100%|########################################################################################################################9| 17520/17521 [00:05<00:00, 3035.80it/s]\n"
     ]
    },
    {
     "name": "stdout",
     "output_type": "stream",
     "text": [
      "Running EPANET ...\n"
     ]
    },
    {
     "name": "stderr",
     "output_type": "stream",
     "text": [
      "Time steps: 100%|########################################################################################################################9| 17520/17521 [00:05<00:00, 3027.90it/s]\n"
     ]
    },
    {
     "name": "stdout",
     "output_type": "stream",
     "text": [
      "Running EPANET ...\n"
     ]
    },
    {
     "name": "stderr",
     "output_type": "stream",
     "text": [
      "Time steps: 100%|########################################################################################################################9| 17520/17521 [00:05<00:00, 3005.65it/s]\n"
     ]
    },
    {
     "name": "stdout",
     "output_type": "stream",
     "text": [
      "Running EPANET ...\n"
     ]
    },
    {
     "name": "stderr",
     "output_type": "stream",
     "text": [
      "Time steps: 100%|########################################################################################################################9| 17520/17521 [00:05<00:00, 3053.95it/s]\n"
     ]
    },
    {
     "name": "stdout",
     "output_type": "stream",
     "text": [
      "Running EPANET ...\n"
     ]
    },
    {
     "name": "stderr",
     "output_type": "stream",
     "text": [
      "Time steps: 100%|########################################################################################################################9| 17520/17521 [00:05<00:00, 3044.58it/s]\n"
     ]
    },
    {
     "name": "stdout",
     "output_type": "stream",
     "text": [
      "Running EPANET ...\n"
     ]
    },
    {
     "name": "stderr",
     "output_type": "stream",
     "text": [
      "Time steps: 100%|########################################################################################################################9| 17520/17521 [00:05<00:00, 3064.25it/s]\n"
     ]
    },
    {
     "name": "stdout",
     "output_type": "stream",
     "text": [
      "Running EPANET ...\n"
     ]
    },
    {
     "name": "stderr",
     "output_type": "stream",
     "text": [
      "Time steps: 100%|########################################################################################################################9| 17520/17521 [00:05<00:00, 2972.01it/s]\n"
     ]
    },
    {
     "name": "stdout",
     "output_type": "stream",
     "text": [
      "Running EPANET ...\n"
     ]
    },
    {
     "name": "stderr",
     "output_type": "stream",
     "text": [
      "Time steps: 100%|########################################################################################################################9| 17520/17521 [00:05<00:00, 3032.53it/s]\n"
     ]
    },
    {
     "name": "stdout",
     "output_type": "stream",
     "text": [
      "Running EPANET ...\n"
     ]
    },
    {
     "name": "stderr",
     "output_type": "stream",
     "text": [
      "Time steps: 100%|########################################################################################################################9| 17520/17521 [00:05<00:00, 3047.25it/s]\n"
     ]
    },
    {
     "name": "stdout",
     "output_type": "stream",
     "text": [
      "Running EPANET ...\n"
     ]
    },
    {
     "name": "stderr",
     "output_type": "stream",
     "text": [
      "Time steps: 100%|########################################################################################################################9| 17520/17521 [00:05<00:00, 3017.48it/s]\n"
     ]
    },
    {
     "name": "stdout",
     "output_type": "stream",
     "text": [
      "Running EPANET ...\n"
     ]
    },
    {
     "name": "stderr",
     "output_type": "stream",
     "text": [
      "Time steps: 100%|########################################################################################################################9| 17520/17521 [00:05<00:00, 3065.14it/s]\n"
     ]
    },
    {
     "name": "stdout",
     "output_type": "stream",
     "text": [
      "Running EPANET ...\n"
     ]
    },
    {
     "name": "stderr",
     "output_type": "stream",
     "text": [
      "Time steps: 100%|########################################################################################################################9| 17520/17521 [00:05<00:00, 3066.56it/s]\n"
     ]
    },
    {
     "name": "stdout",
     "output_type": "stream",
     "text": [
      "Running EPANET ...\n"
     ]
    },
    {
     "name": "stderr",
     "output_type": "stream",
     "text": [
      "Time steps: 100%|########################################################################################################################9| 17520/17521 [00:05<00:00, 3044.01it/s]\n"
     ]
    },
    {
     "name": "stdout",
     "output_type": "stream",
     "text": [
      "Running EPANET ...\n"
     ]
    },
    {
     "name": "stderr",
     "output_type": "stream",
     "text": [
      "Time steps: 100%|########################################################################################################################9| 17520/17521 [00:05<00:00, 3020.14it/s]\n"
     ]
    },
    {
     "name": "stdout",
     "output_type": "stream",
     "text": [
      "Running EPANET ...\n"
     ]
    },
    {
     "name": "stderr",
     "output_type": "stream",
     "text": [
      "Time steps: 100%|########################################################################################################################9| 17520/17521 [00:05<00:00, 3032.87it/s]\n"
     ]
    },
    {
     "name": "stdout",
     "output_type": "stream",
     "text": [
      "Running EPANET ...\n"
     ]
    },
    {
     "name": "stderr",
     "output_type": "stream",
     "text": [
      "Time steps: 100%|########################################################################################################################9| 17520/17521 [00:05<00:00, 3030.22it/s]\n"
     ]
    },
    {
     "name": "stdout",
     "output_type": "stream",
     "text": [
      "Running EPANET ...\n"
     ]
    },
    {
     "name": "stderr",
     "output_type": "stream",
     "text": [
      "Time steps: 100%|########################################################################################################################9| 17520/17521 [00:05<00:00, 3003.74it/s]\n"
     ]
    },
    {
     "name": "stdout",
     "output_type": "stream",
     "text": [
      "Running EPANET ...\n"
     ]
    },
    {
     "name": "stderr",
     "output_type": "stream",
     "text": [
      "Time steps: 100%|########################################################################################################################9| 17520/17521 [00:05<00:00, 3006.81it/s]\n"
     ]
    },
    {
     "name": "stdout",
     "output_type": "stream",
     "text": [
      "Running EPANET ...\n"
     ]
    },
    {
     "name": "stderr",
     "output_type": "stream",
     "text": [
      "Time steps: 100%|########################################################################################################################9| 17520/17521 [00:05<00:00, 3012.96it/s]\n"
     ]
    },
    {
     "name": "stdout",
     "output_type": "stream",
     "text": [
      "Running EPANET ...\n"
     ]
    },
    {
     "name": "stderr",
     "output_type": "stream",
     "text": [
      "Time steps: 100%|########################################################################################################################9| 17520/17521 [00:05<00:00, 2964.33it/s]\n"
     ]
    },
    {
     "name": "stdout",
     "output_type": "stream",
     "text": [
      "Running EPANET ...\n"
     ]
    },
    {
     "name": "stderr",
     "output_type": "stream",
     "text": [
      "Time steps: 100%|########################################################################################################################9| 17520/17521 [00:05<00:00, 3030.26it/s]\n"
     ]
    },
    {
     "name": "stdout",
     "output_type": "stream",
     "text": [
      "Running EPANET ...\n"
     ]
    },
    {
     "name": "stderr",
     "output_type": "stream",
     "text": [
      "Time steps: 100%|########################################################################################################################9| 17520/17521 [00:05<00:00, 2994.34it/s]\n"
     ]
    },
    {
     "name": "stdout",
     "output_type": "stream",
     "text": [
      "Running EPANET ...\n"
     ]
    },
    {
     "name": "stderr",
     "output_type": "stream",
     "text": [
      "Time steps: 100%|########################################################################################################################9| 17520/17521 [00:05<00:00, 3040.44it/s]\n"
     ]
    },
    {
     "name": "stdout",
     "output_type": "stream",
     "text": [
      "Running EPANET ...\n"
     ]
    },
    {
     "name": "stderr",
     "output_type": "stream",
     "text": [
      "Time steps: 100%|########################################################################################################################9| 17520/17521 [00:05<00:00, 2997.11it/s]\n"
     ]
    },
    {
     "name": "stdout",
     "output_type": "stream",
     "text": [
      "Running EPANET ...\n"
     ]
    },
    {
     "name": "stderr",
     "output_type": "stream",
     "text": [
      "Time steps: 100%|########################################################################################################################9| 17520/17521 [00:05<00:00, 2985.69it/s]\n"
     ]
    },
    {
     "name": "stdout",
     "output_type": "stream",
     "text": [
      "Running EPANET ...\n"
     ]
    },
    {
     "name": "stderr",
     "output_type": "stream",
     "text": [
      "Time steps: 100%|########################################################################################################################9| 17520/17521 [00:05<00:00, 3048.27it/s]\n"
     ]
    },
    {
     "name": "stdout",
     "output_type": "stream",
     "text": [
      "Running EPANET ...\n"
     ]
    },
    {
     "name": "stderr",
     "output_type": "stream",
     "text": [
      "Time steps: 100%|########################################################################################################################9| 17520/17521 [00:05<00:00, 3033.65it/s]\n"
     ]
    },
    {
     "name": "stdout",
     "output_type": "stream",
     "text": [
      "Running EPANET ...\n"
     ]
    },
    {
     "name": "stderr",
     "output_type": "stream",
     "text": [
      "Time steps: 100%|########################################################################################################################9| 17520/17521 [00:05<00:00, 3002.48it/s]\n"
     ]
    },
    {
     "name": "stdout",
     "output_type": "stream",
     "text": [
      "Running EPANET ...\n"
     ]
    },
    {
     "name": "stderr",
     "output_type": "stream",
     "text": [
      "Time steps: 100%|########################################################################################################################9| 17520/17521 [00:05<00:00, 3043.48it/s]\n"
     ]
    },
    {
     "name": "stdout",
     "output_type": "stream",
     "text": [
      "Running EPANET ...\n"
     ]
    },
    {
     "name": "stderr",
     "output_type": "stream",
     "text": [
      "Time steps: 100%|########################################################################################################################9| 17520/17521 [00:05<00:00, 3039.03it/s]\n"
     ]
    },
    {
     "name": "stdout",
     "output_type": "stream",
     "text": [
      "Running EPANET ...\n"
     ]
    },
    {
     "name": "stderr",
     "output_type": "stream",
     "text": [
      "Time steps: 100%|########################################################################################################################9| 17520/17521 [00:05<00:00, 2993.42it/s]\n"
     ]
    },
    {
     "name": "stdout",
     "output_type": "stream",
     "text": [
      "Running EPANET ...\n"
     ]
    },
    {
     "name": "stderr",
     "output_type": "stream",
     "text": [
      "Time steps: 100%|########################################################################################################################9| 17520/17521 [00:05<00:00, 3003.19it/s]\n"
     ]
    },
    {
     "name": "stdout",
     "output_type": "stream",
     "text": [
      "Running EPANET ...\n"
     ]
    },
    {
     "name": "stderr",
     "output_type": "stream",
     "text": [
      "Time steps: 100%|########################################################################################################################9| 17520/17521 [00:05<00:00, 3000.49it/s]\n"
     ]
    },
    {
     "name": "stdout",
     "output_type": "stream",
     "text": [
      "Running EPANET ...\n"
     ]
    },
    {
     "name": "stderr",
     "output_type": "stream",
     "text": [
      "Time steps: 100%|########################################################################################################################9| 17520/17521 [00:05<00:00, 2987.43it/s]\n"
     ]
    },
    {
     "name": "stdout",
     "output_type": "stream",
     "text": [
      "Running EPANET ...\n"
     ]
    },
    {
     "name": "stderr",
     "output_type": "stream",
     "text": [
      "Time steps: 100%|########################################################################################################################9| 17520/17521 [00:05<00:00, 3042.97it/s]\n"
     ]
    },
    {
     "name": "stdout",
     "output_type": "stream",
     "text": [
      "Running EPANET ...\n"
     ]
    },
    {
     "name": "stderr",
     "output_type": "stream",
     "text": [
      "Time steps: 100%|########################################################################################################################9| 17520/17521 [00:05<00:00, 3033.12it/s]\n"
     ]
    },
    {
     "name": "stdout",
     "output_type": "stream",
     "text": [
      "Running EPANET ...\n"
     ]
    },
    {
     "name": "stderr",
     "output_type": "stream",
     "text": [
      "Time steps: 100%|########################################################################################################################9| 17520/17521 [00:05<00:00, 2996.30it/s]\n"
     ]
    },
    {
     "name": "stdout",
     "output_type": "stream",
     "text": [
      "Running EPANET ...\n"
     ]
    },
    {
     "name": "stderr",
     "output_type": "stream",
     "text": [
      "Time steps: 100%|########################################################################################################################9| 17520/17521 [00:05<00:00, 3012.76it/s]\n"
     ]
    },
    {
     "name": "stdout",
     "output_type": "stream",
     "text": [
      "Running EPANET ...\n"
     ]
    },
    {
     "name": "stderr",
     "output_type": "stream",
     "text": [
      "Time steps: 100%|########################################################################################################################9| 17520/17521 [00:05<00:00, 3003.96it/s]\n"
     ]
    },
    {
     "name": "stdout",
     "output_type": "stream",
     "text": [
      "Running EPANET ...\n"
     ]
    },
    {
     "name": "stderr",
     "output_type": "stream",
     "text": [
      "Time steps: 100%|########################################################################################################################9| 17520/17521 [00:05<00:00, 3039.95it/s]\n"
     ]
    },
    {
     "name": "stdout",
     "output_type": "stream",
     "text": [
      "Running EPANET ...\n"
     ]
    },
    {
     "name": "stderr",
     "output_type": "stream",
     "text": [
      "Time steps: 100%|########################################################################################################################9| 17520/17521 [00:05<00:00, 3045.92it/s]\n"
     ]
    },
    {
     "name": "stdout",
     "output_type": "stream",
     "text": [
      "Running EPANET ...\n"
     ]
    },
    {
     "name": "stderr",
     "output_type": "stream",
     "text": [
      "Time steps: 100%|########################################################################################################################9| 17520/17521 [00:05<00:00, 2969.57it/s]\n"
     ]
    },
    {
     "name": "stdout",
     "output_type": "stream",
     "text": [
      "Running EPANET ...\n"
     ]
    },
    {
     "name": "stderr",
     "output_type": "stream",
     "text": [
      "Time steps: 100%|########################################################################################################################9| 17520/17521 [00:05<00:00, 2971.96it/s]\n"
     ]
    },
    {
     "name": "stdout",
     "output_type": "stream",
     "text": [
      "Running EPANET ...\n"
     ]
    },
    {
     "name": "stderr",
     "output_type": "stream",
     "text": [
      "Time steps: 100%|########################################################################################################################9| 17520/17521 [00:05<00:00, 3057.88it/s]\n"
     ]
    },
    {
     "name": "stdout",
     "output_type": "stream",
     "text": [
      "Running EPANET ...\n"
     ]
    },
    {
     "name": "stderr",
     "output_type": "stream",
     "text": [
      "Time steps: 100%|########################################################################################################################9| 17520/17521 [00:05<00:00, 3029.28it/s]\n"
     ]
    },
    {
     "name": "stdout",
     "output_type": "stream",
     "text": [
      "Running EPANET ...\n"
     ]
    },
    {
     "name": "stderr",
     "output_type": "stream",
     "text": [
      "Time steps: 100%|########################################################################################################################9| 17520/17521 [00:05<00:00, 2996.50it/s]\n"
     ]
    },
    {
     "name": "stdout",
     "output_type": "stream",
     "text": [
      "Running EPANET ...\n"
     ]
    },
    {
     "name": "stderr",
     "output_type": "stream",
     "text": [
      "Time steps: 100%|########################################################################################################################9| 17520/17521 [00:05<00:00, 2943.35it/s]\n"
     ]
    },
    {
     "name": "stdout",
     "output_type": "stream",
     "text": [
      "Running EPANET ...\n"
     ]
    },
    {
     "name": "stderr",
     "output_type": "stream",
     "text": [
      "Time steps: 100%|########################################################################################################################9| 17520/17521 [00:05<00:00, 3030.46it/s]\n"
     ]
    },
    {
     "name": "stdout",
     "output_type": "stream",
     "text": [
      "Running EPANET ...\n"
     ]
    },
    {
     "name": "stderr",
     "output_type": "stream",
     "text": [
      "Time steps: 100%|########################################################################################################################9| 17520/17521 [00:05<00:00, 3081.33it/s]\n"
     ]
    },
    {
     "name": "stdout",
     "output_type": "stream",
     "text": [
      "Running EPANET ...\n"
     ]
    },
    {
     "name": "stderr",
     "output_type": "stream",
     "text": [
      "Time steps: 100%|########################################################################################################################9| 17520/17521 [00:05<00:00, 2980.35it/s]\n"
     ]
    },
    {
     "name": "stdout",
     "output_type": "stream",
     "text": [
      "Running EPANET ...\n"
     ]
    },
    {
     "name": "stderr",
     "output_type": "stream",
     "text": [
      "Time steps: 100%|########################################################################################################################9| 17520/17521 [00:05<00:00, 3036.67it/s]\n"
     ]
    },
    {
     "name": "stdout",
     "output_type": "stream",
     "text": [
      "Running EPANET ...\n"
     ]
    },
    {
     "name": "stderr",
     "output_type": "stream",
     "text": [
      "Time steps: 100%|########################################################################################################################9| 17520/17521 [00:05<00:00, 3056.85it/s]\n"
     ]
    },
    {
     "name": "stdout",
     "output_type": "stream",
     "text": [
      "Running EPANET ...\n"
     ]
    },
    {
     "name": "stderr",
     "output_type": "stream",
     "text": [
      "Time steps: 100%|########################################################################################################################9| 17520/17521 [00:05<00:00, 3056.40it/s]\n"
     ]
    },
    {
     "name": "stdout",
     "output_type": "stream",
     "text": [
      "Running EPANET ...\n"
     ]
    },
    {
     "name": "stderr",
     "output_type": "stream",
     "text": [
      "Time steps: 100%|########################################################################################################################9| 17520/17521 [00:05<00:00, 3021.95it/s]\n"
     ]
    },
    {
     "name": "stdout",
     "output_type": "stream",
     "text": [
      "Running EPANET ...\n"
     ]
    },
    {
     "name": "stderr",
     "output_type": "stream",
     "text": [
      "Time steps: 100%|########################################################################################################################9| 17520/17521 [00:05<00:00, 2990.27it/s]\n"
     ]
    },
    {
     "name": "stdout",
     "output_type": "stream",
     "text": [
      "Running EPANET ...\n"
     ]
    },
    {
     "name": "stderr",
     "output_type": "stream",
     "text": [
      "Time steps: 100%|########################################################################################################################9| 17520/17521 [00:05<00:00, 3054.89it/s]\n"
     ]
    },
    {
     "name": "stdout",
     "output_type": "stream",
     "text": [
      "Running EPANET ...\n"
     ]
    },
    {
     "name": "stderr",
     "output_type": "stream",
     "text": [
      "Time steps: 100%|########################################################################################################################9| 17520/17521 [00:05<00:00, 3094.63it/s]\n"
     ]
    },
    {
     "name": "stdout",
     "output_type": "stream",
     "text": [
      "Running EPANET ...\n"
     ]
    },
    {
     "name": "stderr",
     "output_type": "stream",
     "text": [
      "Time steps: 100%|########################################################################################################################9| 17520/17521 [00:05<00:00, 3032.96it/s]\n"
     ]
    },
    {
     "name": "stdout",
     "output_type": "stream",
     "text": [
      "Running EPANET ...\n"
     ]
    },
    {
     "name": "stderr",
     "output_type": "stream",
     "text": [
      "Time steps: 100%|########################################################################################################################9| 17520/17521 [00:05<00:00, 3035.30it/s]\n"
     ]
    },
    {
     "name": "stdout",
     "output_type": "stream",
     "text": [
      "Running EPANET ...\n"
     ]
    },
    {
     "name": "stderr",
     "output_type": "stream",
     "text": [
      "Time steps: 100%|########################################################################################################################9| 17520/17521 [00:05<00:00, 3068.75it/s]\n"
     ]
    },
    {
     "name": "stdout",
     "output_type": "stream",
     "text": [
      "Running EPANET ...\n"
     ]
    },
    {
     "name": "stderr",
     "output_type": "stream",
     "text": [
      "Time steps: 100%|########################################################################################################################9| 17520/17521 [00:05<00:00, 2988.98it/s]\n"
     ]
    },
    {
     "name": "stdout",
     "output_type": "stream",
     "text": [
      "Running EPANET ...\n"
     ]
    },
    {
     "name": "stderr",
     "output_type": "stream",
     "text": [
      "Time steps: 100%|########################################################################################################################9| 17520/17521 [00:05<00:00, 3031.36it/s]\n"
     ]
    },
    {
     "name": "stdout",
     "output_type": "stream",
     "text": [
      "Running EPANET ...\n"
     ]
    },
    {
     "name": "stderr",
     "output_type": "stream",
     "text": [
      "Time steps: 100%|########################################################################################################################9| 17520/17521 [00:05<00:00, 3005.30it/s]\n"
     ]
    },
    {
     "name": "stdout",
     "output_type": "stream",
     "text": [
      "Running EPANET ...\n"
     ]
    },
    {
     "name": "stderr",
     "output_type": "stream",
     "text": [
      "Time steps: 100%|########################################################################################################################9| 17520/17521 [00:05<00:00, 2954.85it/s]\n"
     ]
    },
    {
     "name": "stdout",
     "output_type": "stream",
     "text": [
      "Running EPANET ...\n"
     ]
    },
    {
     "name": "stderr",
     "output_type": "stream",
     "text": [
      "Time steps: 100%|########################################################################################################################9| 17520/17521 [00:05<00:00, 3003.65it/s]\n"
     ]
    },
    {
     "name": "stdout",
     "output_type": "stream",
     "text": [
      "Running EPANET ...\n"
     ]
    },
    {
     "name": "stderr",
     "output_type": "stream",
     "text": [
      "Time steps: 100%|########################################################################################################################9| 17520/17521 [00:05<00:00, 3024.85it/s]\n"
     ]
    },
    {
     "name": "stdout",
     "output_type": "stream",
     "text": [
      "Running EPANET ...\n"
     ]
    },
    {
     "name": "stderr",
     "output_type": "stream",
     "text": [
      "Time steps: 100%|########################################################################################################################9| 17520/17521 [00:05<00:00, 3029.69it/s]\n"
     ]
    },
    {
     "name": "stdout",
     "output_type": "stream",
     "text": [
      "Running EPANET ...\n"
     ]
    },
    {
     "name": "stderr",
     "output_type": "stream",
     "text": [
      "Time steps: 100%|########################################################################################################################9| 17520/17521 [00:05<00:00, 2952.50it/s]\n"
     ]
    },
    {
     "name": "stdout",
     "output_type": "stream",
     "text": [
      "Running EPANET ...\n"
     ]
    },
    {
     "name": "stderr",
     "output_type": "stream",
     "text": [
      "Time steps: 100%|########################################################################################################################9| 17520/17521 [00:05<00:00, 3034.37it/s]\n"
     ]
    },
    {
     "name": "stdout",
     "output_type": "stream",
     "text": [
      "Running EPANET ...\n"
     ]
    },
    {
     "name": "stderr",
     "output_type": "stream",
     "text": [
      "Time steps: 100%|########################################################################################################################9| 17520/17521 [00:05<00:00, 3064.86it/s]\n"
     ]
    },
    {
     "name": "stdout",
     "output_type": "stream",
     "text": [
      "Running EPANET ...\n"
     ]
    },
    {
     "name": "stderr",
     "output_type": "stream",
     "text": [
      "Time steps: 100%|########################################################################################################################9| 17520/17521 [00:05<00:00, 3042.30it/s]\n"
     ]
    },
    {
     "name": "stdout",
     "output_type": "stream",
     "text": [
      "Running EPANET ...\n"
     ]
    },
    {
     "name": "stderr",
     "output_type": "stream",
     "text": [
      "Time steps: 100%|########################################################################################################################9| 17520/17521 [00:05<00:00, 3027.39it/s]\n"
     ]
    },
    {
     "name": "stdout",
     "output_type": "stream",
     "text": [
      "Running EPANET ...\n"
     ]
    },
    {
     "name": "stderr",
     "output_type": "stream",
     "text": [
      "Time steps: 100%|########################################################################################################################9| 17520/17521 [00:05<00:00, 3060.31it/s]\n"
     ]
    },
    {
     "name": "stdout",
     "output_type": "stream",
     "text": [
      "Running EPANET ...\n"
     ]
    },
    {
     "name": "stderr",
     "output_type": "stream",
     "text": [
      "Time steps: 100%|########################################################################################################################9| 17520/17521 [00:05<00:00, 3049.12it/s]\n"
     ]
    },
    {
     "name": "stdout",
     "output_type": "stream",
     "text": [
      "Running EPANET ...\n"
     ]
    },
    {
     "name": "stderr",
     "output_type": "stream",
     "text": [
      "Time steps: 100%|########################################################################################################################9| 17520/17521 [00:05<00:00, 3034.71it/s]\n"
     ]
    },
    {
     "name": "stdout",
     "output_type": "stream",
     "text": [
      "Running EPANET ...\n"
     ]
    },
    {
     "name": "stderr",
     "output_type": "stream",
     "text": [
      "Time steps: 100%|########################################################################################################################9| 17520/17521 [00:05<00:00, 3017.14it/s]\n"
     ]
    },
    {
     "name": "stdout",
     "output_type": "stream",
     "text": [
      "Running EPANET ...\n"
     ]
    },
    {
     "name": "stderr",
     "output_type": "stream",
     "text": [
      "Time steps: 100%|########################################################################################################################9| 17520/17521 [00:05<00:00, 3008.54it/s]\n"
     ]
    },
    {
     "name": "stdout",
     "output_type": "stream",
     "text": [
      "Running EPANET ...\n"
     ]
    },
    {
     "name": "stderr",
     "output_type": "stream",
     "text": [
      "Time steps: 100%|########################################################################################################################9| 17520/17521 [00:05<00:00, 3026.20it/s]\n"
     ]
    },
    {
     "name": "stdout",
     "output_type": "stream",
     "text": [
      "Running EPANET ...\n"
     ]
    },
    {
     "name": "stderr",
     "output_type": "stream",
     "text": [
      "Time steps: 100%|########################################################################################################################9| 17520/17521 [00:05<00:00, 3018.12it/s]\n"
     ]
    },
    {
     "name": "stdout",
     "output_type": "stream",
     "text": [
      "Running EPANET ...\n"
     ]
    },
    {
     "name": "stderr",
     "output_type": "stream",
     "text": [
      "Time steps: 100%|########################################################################################################################9| 17520/17521 [00:05<00:00, 3047.84it/s]\n"
     ]
    },
    {
     "name": "stdout",
     "output_type": "stream",
     "text": [
      "Running EPANET ...\n"
     ]
    },
    {
     "name": "stderr",
     "output_type": "stream",
     "text": [
      "Time steps: 100%|########################################################################################################################9| 17520/17521 [00:05<00:00, 2999.77it/s]\n"
     ]
    },
    {
     "name": "stdout",
     "output_type": "stream",
     "text": [
      "Running EPANET ...\n"
     ]
    },
    {
     "name": "stderr",
     "output_type": "stream",
     "text": [
      "Time steps: 100%|########################################################################################################################9| 17520/17521 [00:05<00:00, 3001.15it/s]\n"
     ]
    },
    {
     "name": "stdout",
     "output_type": "stream",
     "text": [
      "Running EPANET ...\n"
     ]
    },
    {
     "name": "stderr",
     "output_type": "stream",
     "text": [
      "Time steps: 100%|########################################################################################################################9| 17520/17521 [00:05<00:00, 3033.13it/s]\n"
     ]
    },
    {
     "name": "stdout",
     "output_type": "stream",
     "text": [
      "Running EPANET ...\n"
     ]
    },
    {
     "name": "stderr",
     "output_type": "stream",
     "text": [
      "Time steps: 100%|########################################################################################################################9| 17520/17521 [00:05<00:00, 2983.06it/s]\n"
     ]
    },
    {
     "name": "stdout",
     "output_type": "stream",
     "text": [
      "Running EPANET ...\n"
     ]
    },
    {
     "name": "stderr",
     "output_type": "stream",
     "text": [
      "Time steps: 100%|########################################################################################################################9| 17520/17521 [00:05<00:00, 2979.97it/s]\n"
     ]
    },
    {
     "name": "stdout",
     "output_type": "stream",
     "text": [
      "Running EPANET ...\n"
     ]
    },
    {
     "name": "stderr",
     "output_type": "stream",
     "text": [
      "Time steps: 100%|########################################################################################################################9| 17520/17521 [00:05<00:00, 3054.47it/s]\n"
     ]
    },
    {
     "name": "stdout",
     "output_type": "stream",
     "text": [
      "Running EPANET ...\n"
     ]
    },
    {
     "name": "stderr",
     "output_type": "stream",
     "text": [
      "Time steps: 100%|########################################################################################################################9| 17520/17521 [00:05<00:00, 3022.14it/s]\n"
     ]
    },
    {
     "name": "stdout",
     "output_type": "stream",
     "text": [
      "Running EPANET ...\n"
     ]
    },
    {
     "name": "stderr",
     "output_type": "stream",
     "text": [
      "Time steps: 100%|########################################################################################################################9| 17520/17521 [00:05<00:00, 3024.10it/s]\n"
     ]
    },
    {
     "name": "stdout",
     "output_type": "stream",
     "text": [
      "Running EPANET ...\n"
     ]
    },
    {
     "name": "stderr",
     "output_type": "stream",
     "text": [
      "Time steps: 100%|########################################################################################################################9| 17520/17521 [00:05<00:00, 3018.38it/s]\n"
     ]
    },
    {
     "name": "stdout",
     "output_type": "stream",
     "text": [
      "Running EPANET ...\n"
     ]
    },
    {
     "name": "stderr",
     "output_type": "stream",
     "text": [
      "Time steps: 100%|########################################################################################################################9| 17520/17521 [00:05<00:00, 3039.92it/s]\n"
     ]
    },
    {
     "name": "stdout",
     "output_type": "stream",
     "text": [
      "Running EPANET ...\n"
     ]
    },
    {
     "name": "stderr",
     "output_type": "stream",
     "text": [
      "Time steps: 100%|########################################################################################################################9| 17520/17521 [00:05<00:00, 3055.36it/s]\n"
     ]
    },
    {
     "name": "stdout",
     "output_type": "stream",
     "text": [
      "Running EPANET ...\n"
     ]
    },
    {
     "name": "stderr",
     "output_type": "stream",
     "text": [
      "Time steps: 100%|########################################################################################################################9| 17520/17521 [00:05<00:00, 3045.10it/s]\n"
     ]
    },
    {
     "name": "stdout",
     "output_type": "stream",
     "text": [
      "Running EPANET ...\n"
     ]
    },
    {
     "name": "stderr",
     "output_type": "stream",
     "text": [
      "Time steps: 100%|########################################################################################################################9| 17520/17521 [00:05<00:00, 2981.92it/s]\n"
     ]
    },
    {
     "name": "stdout",
     "output_type": "stream",
     "text": [
      "Running EPANET ...\n"
     ]
    },
    {
     "name": "stderr",
     "output_type": "stream",
     "text": [
      "Time steps: 100%|########################################################################################################################9| 17520/17521 [00:05<00:00, 3056.94it/s]\n"
     ]
    },
    {
     "name": "stdout",
     "output_type": "stream",
     "text": [
      "Running EPANET ...\n"
     ]
    },
    {
     "name": "stderr",
     "output_type": "stream",
     "text": [
      "Time steps: 100%|########################################################################################################################9| 17520/17521 [00:05<00:00, 2999.09it/s]\n"
     ]
    },
    {
     "name": "stdout",
     "output_type": "stream",
     "text": [
      "Running EPANET ...\n"
     ]
    },
    {
     "name": "stderr",
     "output_type": "stream",
     "text": [
      "Time steps: 100%|########################################################################################################################9| 17520/17521 [00:05<00:00, 3080.08it/s]\n"
     ]
    },
    {
     "name": "stdout",
     "output_type": "stream",
     "text": [
      "Running EPANET ...\n"
     ]
    },
    {
     "name": "stderr",
     "output_type": "stream",
     "text": [
      "Time steps: 100%|########################################################################################################################9| 17520/17521 [00:05<00:00, 3042.02it/s]\n"
     ]
    },
    {
     "name": "stdout",
     "output_type": "stream",
     "text": [
      "Running EPANET ...\n"
     ]
    },
    {
     "name": "stderr",
     "output_type": "stream",
     "text": [
      "Time steps: 100%|########################################################################################################################9| 17520/17521 [00:05<00:00, 3027.91it/s]\n"
     ]
    },
    {
     "name": "stdout",
     "output_type": "stream",
     "text": [
      "Running EPANET ...\n"
     ]
    },
    {
     "name": "stderr",
     "output_type": "stream",
     "text": [
      "Time steps: 100%|########################################################################################################################9| 17520/17521 [00:05<00:00, 3048.71it/s]\n"
     ]
    },
    {
     "name": "stdout",
     "output_type": "stream",
     "text": [
      "Running EPANET ...\n"
     ]
    },
    {
     "name": "stderr",
     "output_type": "stream",
     "text": [
      "Time steps: 100%|########################################################################################################################9| 17520/17521 [00:05<00:00, 3065.28it/s]\n"
     ]
    },
    {
     "name": "stdout",
     "output_type": "stream",
     "text": [
      "Running EPANET ...\n"
     ]
    },
    {
     "name": "stderr",
     "output_type": "stream",
     "text": [
      "Time steps: 100%|########################################################################################################################9| 17520/17521 [00:05<00:00, 3047.36it/s]\n"
     ]
    },
    {
     "name": "stdout",
     "output_type": "stream",
     "text": [
      "Running EPANET ...\n"
     ]
    },
    {
     "name": "stderr",
     "output_type": "stream",
     "text": [
      "Time steps: 100%|########################################################################################################################9| 17520/17521 [00:05<00:00, 3075.51it/s]\n"
     ]
    },
    {
     "name": "stdout",
     "output_type": "stream",
     "text": [
      "Running EPANET ...\n"
     ]
    },
    {
     "name": "stderr",
     "output_type": "stream",
     "text": [
      "Time steps: 100%|########################################################################################################################9| 17520/17521 [00:05<00:00, 3007.26it/s]\n"
     ]
    },
    {
     "name": "stdout",
     "output_type": "stream",
     "text": [
      "Running EPANET ...\n"
     ]
    },
    {
     "name": "stderr",
     "output_type": "stream",
     "text": [
      "Time steps: 100%|########################################################################################################################9| 17520/17521 [00:05<00:00, 3056.81it/s]\n"
     ]
    },
    {
     "name": "stdout",
     "output_type": "stream",
     "text": [
      "Running EPANET ...\n"
     ]
    },
    {
     "name": "stderr",
     "output_type": "stream",
     "text": [
      "Time steps: 100%|########################################################################################################################9| 17520/17521 [00:05<00:00, 3034.38it/s]\n"
     ]
    },
    {
     "name": "stdout",
     "output_type": "stream",
     "text": [
      "Running EPANET ...\n"
     ]
    },
    {
     "name": "stderr",
     "output_type": "stream",
     "text": [
      "Time steps: 100%|########################################################################################################################9| 17520/17521 [00:05<00:00, 3055.45it/s]\n"
     ]
    },
    {
     "name": "stdout",
     "output_type": "stream",
     "text": [
      "Running EPANET ...\n"
     ]
    },
    {
     "name": "stderr",
     "output_type": "stream",
     "text": [
      "Time steps: 100%|########################################################################################################################9| 17520/17521 [00:05<00:00, 3031.86it/s]\n"
     ]
    },
    {
     "name": "stdout",
     "output_type": "stream",
     "text": [
      "Running EPANET ...\n"
     ]
    },
    {
     "name": "stderr",
     "output_type": "stream",
     "text": [
      "Time steps: 100%|########################################################################################################################9| 17520/17521 [00:05<00:00, 3078.27it/s]\n"
     ]
    },
    {
     "name": "stdout",
     "output_type": "stream",
     "text": [
      "Running EPANET ...\n"
     ]
    },
    {
     "name": "stderr",
     "output_type": "stream",
     "text": [
      "Time steps: 100%|########################################################################################################################9| 17520/17521 [00:05<00:00, 3055.74it/s]\n"
     ]
    },
    {
     "name": "stdout",
     "output_type": "stream",
     "text": [
      "Running EPANET ...\n"
     ]
    },
    {
     "name": "stderr",
     "output_type": "stream",
     "text": [
      "Time steps: 100%|########################################################################################################################9| 17520/17521 [00:05<00:00, 3007.24it/s]\n"
     ]
    },
    {
     "name": "stdout",
     "output_type": "stream",
     "text": [
      "Running EPANET ...\n"
     ]
    },
    {
     "name": "stderr",
     "output_type": "stream",
     "text": [
      "Time steps: 100%|########################################################################################################################9| 17520/17521 [00:05<00:00, 3041.05it/s]\n"
     ]
    },
    {
     "name": "stdout",
     "output_type": "stream",
     "text": [
      "Running EPANET ...\n"
     ]
    },
    {
     "name": "stderr",
     "output_type": "stream",
     "text": [
      "Time steps: 100%|########################################################################################################################9| 17520/17521 [00:05<00:00, 3032.81it/s]\n"
     ]
    },
    {
     "name": "stdout",
     "output_type": "stream",
     "text": [
      "Running EPANET ...\n"
     ]
    },
    {
     "name": "stderr",
     "output_type": "stream",
     "text": [
      "Time steps: 100%|########################################################################################################################9| 17520/17521 [00:05<00:00, 3008.97it/s]\n"
     ]
    },
    {
     "name": "stdout",
     "output_type": "stream",
     "text": [
      "Running EPANET ...\n"
     ]
    },
    {
     "name": "stderr",
     "output_type": "stream",
     "text": [
      "Time steps: 100%|########################################################################################################################9| 17520/17521 [00:05<00:00, 3027.06it/s]\n"
     ]
    },
    {
     "name": "stdout",
     "output_type": "stream",
     "text": [
      "Running EPANET ...\n"
     ]
    },
    {
     "name": "stderr",
     "output_type": "stream",
     "text": [
      "Time steps: 100%|########################################################################################################################9| 17520/17521 [00:05<00:00, 2931.73it/s]\n"
     ]
    },
    {
     "name": "stdout",
     "output_type": "stream",
     "text": [
      "Running EPANET ...\n"
     ]
    },
    {
     "name": "stderr",
     "output_type": "stream",
     "text": [
      "Time steps: 100%|########################################################################################################################9| 17520/17521 [00:05<00:00, 3022.97it/s]\n"
     ]
    },
    {
     "name": "stdout",
     "output_type": "stream",
     "text": [
      "Running EPANET ...\n"
     ]
    },
    {
     "name": "stderr",
     "output_type": "stream",
     "text": [
      "Time steps: 100%|########################################################################################################################9| 17520/17521 [00:05<00:00, 3024.04it/s]\n"
     ]
    },
    {
     "name": "stdout",
     "output_type": "stream",
     "text": [
      "Running EPANET ...\n"
     ]
    },
    {
     "name": "stderr",
     "output_type": "stream",
     "text": [
      "Time steps: 100%|########################################################################################################################9| 17520/17521 [00:05<00:00, 2989.91it/s]\n"
     ]
    },
    {
     "name": "stdout",
     "output_type": "stream",
     "text": [
      "Running EPANET ...\n"
     ]
    },
    {
     "name": "stderr",
     "output_type": "stream",
     "text": [
      "Time steps: 100%|########################################################################################################################9| 17520/17521 [00:05<00:00, 3069.13it/s]\n"
     ]
    },
    {
     "name": "stdout",
     "output_type": "stream",
     "text": [
      "Running EPANET ...\n"
     ]
    },
    {
     "name": "stderr",
     "output_type": "stream",
     "text": [
      "Time steps: 100%|########################################################################################################################9| 17520/17521 [00:05<00:00, 3039.93it/s]\n"
     ]
    },
    {
     "name": "stdout",
     "output_type": "stream",
     "text": [
      "Running EPANET ...\n"
     ]
    },
    {
     "name": "stderr",
     "output_type": "stream",
     "text": [
      "Time steps: 100%|########################################################################################################################9| 17520/17521 [00:05<00:00, 2980.43it/s]\n"
     ]
    },
    {
     "name": "stdout",
     "output_type": "stream",
     "text": [
      "Running EPANET ...\n"
     ]
    },
    {
     "name": "stderr",
     "output_type": "stream",
     "text": [
      "Time steps: 100%|########################################################################################################################9| 17520/17521 [00:05<00:00, 3014.18it/s]\n"
     ]
    },
    {
     "name": "stdout",
     "output_type": "stream",
     "text": [
      "Running EPANET ...\n"
     ]
    },
    {
     "name": "stderr",
     "output_type": "stream",
     "text": [
      "Time steps: 100%|########################################################################################################################9| 17520/17521 [00:05<00:00, 2981.34it/s]\n"
     ]
    },
    {
     "name": "stdout",
     "output_type": "stream",
     "text": [
      "Running EPANET ...\n"
     ]
    },
    {
     "name": "stderr",
     "output_type": "stream",
     "text": [
      "Time steps: 100%|########################################################################################################################9| 17520/17521 [00:05<00:00, 3060.31it/s]\n"
     ]
    },
    {
     "name": "stdout",
     "output_type": "stream",
     "text": [
      "Running EPANET ...\n"
     ]
    },
    {
     "name": "stderr",
     "output_type": "stream",
     "text": [
      "Time steps: 100%|########################################################################################################################9| 17520/17521 [00:05<00:00, 3055.16it/s]\n"
     ]
    },
    {
     "name": "stdout",
     "output_type": "stream",
     "text": [
      "Running EPANET ...\n"
     ]
    },
    {
     "name": "stderr",
     "output_type": "stream",
     "text": [
      "Time steps: 100%|########################################################################################################################9| 17520/17521 [00:05<00:00, 2996.59it/s]\n"
     ]
    },
    {
     "name": "stdout",
     "output_type": "stream",
     "text": [
      "Running EPANET ...\n"
     ]
    },
    {
     "name": "stderr",
     "output_type": "stream",
     "text": [
      "Time steps: 100%|########################################################################################################################9| 17520/17521 [00:05<00:00, 3025.74it/s]\n"
     ]
    },
    {
     "name": "stdout",
     "output_type": "stream",
     "text": [
      "Running EPANET ...\n"
     ]
    },
    {
     "name": "stderr",
     "output_type": "stream",
     "text": [
      "Time steps: 100%|########################################################################################################################9| 17520/17521 [00:05<00:00, 3052.80it/s]\n"
     ]
    },
    {
     "name": "stdout",
     "output_type": "stream",
     "text": [
      "Running EPANET ...\n"
     ]
    },
    {
     "name": "stderr",
     "output_type": "stream",
     "text": [
      "Time steps: 100%|########################################################################################################################9| 17520/17521 [00:05<00:00, 3044.59it/s]\n"
     ]
    },
    {
     "name": "stdout",
     "output_type": "stream",
     "text": [
      "Running EPANET ...\n"
     ]
    },
    {
     "name": "stderr",
     "output_type": "stream",
     "text": [
      "Time steps: 100%|########################################################################################################################9| 17520/17521 [00:05<00:00, 2989.39it/s]\n"
     ]
    },
    {
     "name": "stdout",
     "output_type": "stream",
     "text": [
      "Running EPANET ...\n"
     ]
    },
    {
     "name": "stderr",
     "output_type": "stream",
     "text": [
      "Time steps: 100%|########################################################################################################################9| 17520/17521 [00:05<00:00, 3072.13it/s]\n"
     ]
    },
    {
     "name": "stdout",
     "output_type": "stream",
     "text": [
      "Running EPANET ...\n"
     ]
    },
    {
     "name": "stderr",
     "output_type": "stream",
     "text": [
      "Time steps: 100%|########################################################################################################################9| 17520/17521 [00:05<00:00, 3023.53it/s]\n"
     ]
    },
    {
     "name": "stdout",
     "output_type": "stream",
     "text": [
      "Running EPANET ...\n"
     ]
    },
    {
     "name": "stderr",
     "output_type": "stream",
     "text": [
      "Time steps: 100%|########################################################################################################################9| 17520/17521 [00:05<00:00, 3037.10it/s]\n"
     ]
    },
    {
     "name": "stdout",
     "output_type": "stream",
     "text": [
      "Running EPANET ...\n"
     ]
    },
    {
     "name": "stderr",
     "output_type": "stream",
     "text": [
      "Time steps: 100%|########################################################################################################################9| 17520/17521 [00:05<00:00, 2964.19it/s]\n"
     ]
    },
    {
     "name": "stdout",
     "output_type": "stream",
     "text": [
      "Running EPANET ...\n"
     ]
    },
    {
     "name": "stderr",
     "output_type": "stream",
     "text": [
      "Time steps: 100%|########################################################################################################################9| 17520/17521 [00:05<00:00, 3048.22it/s]\n"
     ]
    },
    {
     "name": "stdout",
     "output_type": "stream",
     "text": [
      "Running EPANET ...\n"
     ]
    },
    {
     "name": "stderr",
     "output_type": "stream",
     "text": [
      "Time steps: 100%|########################################################################################################################9| 17520/17521 [00:05<00:00, 2959.34it/s]\n"
     ]
    },
    {
     "name": "stdout",
     "output_type": "stream",
     "text": [
      "Running EPANET ...\n"
     ]
    },
    {
     "name": "stderr",
     "output_type": "stream",
     "text": [
      "Time steps: 100%|########################################################################################################################9| 17520/17521 [00:05<00:00, 3009.60it/s]\n"
     ]
    },
    {
     "name": "stdout",
     "output_type": "stream",
     "text": [
      "Running EPANET ...\n"
     ]
    },
    {
     "name": "stderr",
     "output_type": "stream",
     "text": [
      "Time steps: 100%|########################################################################################################################9| 17520/17521 [00:05<00:00, 2989.77it/s]\n"
     ]
    },
    {
     "name": "stdout",
     "output_type": "stream",
     "text": [
      "Running EPANET ...\n"
     ]
    },
    {
     "name": "stderr",
     "output_type": "stream",
     "text": [
      "Time steps: 100%|########################################################################################################################9| 17520/17521 [00:05<00:00, 3052.86it/s]\n"
     ]
    },
    {
     "name": "stdout",
     "output_type": "stream",
     "text": [
      "Running EPANET ...\n"
     ]
    },
    {
     "name": "stderr",
     "output_type": "stream",
     "text": [
      "Time steps: 100%|########################################################################################################################9| 17520/17521 [00:05<00:00, 3020.87it/s]\n"
     ]
    },
    {
     "name": "stdout",
     "output_type": "stream",
     "text": [
      "Running EPANET ...\n"
     ]
    },
    {
     "name": "stderr",
     "output_type": "stream",
     "text": [
      "Time steps: 100%|########################################################################################################################9| 17520/17521 [00:05<00:00, 3046.44it/s]\n"
     ]
    },
    {
     "name": "stdout",
     "output_type": "stream",
     "text": [
      "Running EPANET ...\n"
     ]
    },
    {
     "name": "stderr",
     "output_type": "stream",
     "text": [
      "Time steps: 100%|########################################################################################################################9| 17520/17521 [00:05<00:00, 3006.62it/s]\n"
     ]
    },
    {
     "name": "stdout",
     "output_type": "stream",
     "text": [
      "Running EPANET ...\n"
     ]
    },
    {
     "name": "stderr",
     "output_type": "stream",
     "text": [
      "Time steps: 100%|########################################################################################################################9| 17520/17521 [00:05<00:00, 3031.62it/s]\n"
     ]
    },
    {
     "name": "stdout",
     "output_type": "stream",
     "text": [
      "Running EPANET ...\n"
     ]
    },
    {
     "name": "stderr",
     "output_type": "stream",
     "text": [
      "Time steps: 100%|########################################################################################################################9| 17520/17521 [00:05<00:00, 3064.30it/s]\n"
     ]
    },
    {
     "name": "stdout",
     "output_type": "stream",
     "text": [
      "Running EPANET ...\n"
     ]
    },
    {
     "name": "stderr",
     "output_type": "stream",
     "text": [
      "Time steps: 100%|########################################################################################################################9| 17520/17521 [00:05<00:00, 3046.86it/s]\n"
     ]
    },
    {
     "name": "stdout",
     "output_type": "stream",
     "text": [
      "Running EPANET ...\n"
     ]
    },
    {
     "name": "stderr",
     "output_type": "stream",
     "text": [
      "Time steps: 100%|########################################################################################################################9| 17520/17521 [00:05<00:00, 3073.51it/s]\n"
     ]
    },
    {
     "name": "stdout",
     "output_type": "stream",
     "text": [
      "Running EPANET ...\n"
     ]
    },
    {
     "name": "stderr",
     "output_type": "stream",
     "text": [
      "Time steps: 100%|########################################################################################################################9| 17520/17521 [00:05<00:00, 3042.01it/s]\n"
     ]
    },
    {
     "name": "stdout",
     "output_type": "stream",
     "text": [
      "Running EPANET ...\n"
     ]
    },
    {
     "name": "stderr",
     "output_type": "stream",
     "text": [
      "Time steps: 100%|########################################################################################################################9| 17520/17521 [00:05<00:00, 2947.79it/s]\n"
     ]
    },
    {
     "name": "stdout",
     "output_type": "stream",
     "text": [
      "Running EPANET ...\n"
     ]
    },
    {
     "name": "stderr",
     "output_type": "stream",
     "text": [
      "Time steps: 100%|########################################################################################################################9| 17520/17521 [00:05<00:00, 3052.66it/s]\n"
     ]
    },
    {
     "name": "stdout",
     "output_type": "stream",
     "text": [
      "Running EPANET ...\n"
     ]
    },
    {
     "name": "stderr",
     "output_type": "stream",
     "text": [
      "Time steps: 100%|########################################################################################################################9| 17520/17521 [00:05<00:00, 3035.44it/s]\n"
     ]
    },
    {
     "name": "stdout",
     "output_type": "stream",
     "text": [
      "Running EPANET ...\n"
     ]
    },
    {
     "name": "stderr",
     "output_type": "stream",
     "text": [
      "Time steps: 100%|########################################################################################################################9| 17520/17521 [00:06<00:00, 2911.40it/s]\n"
     ]
    },
    {
     "name": "stdout",
     "output_type": "stream",
     "text": [
      "Running EPANET ...\n"
     ]
    },
    {
     "name": "stderr",
     "output_type": "stream",
     "text": [
      "Time steps: 100%|########################################################################################################################9| 17520/17521 [00:05<00:00, 3001.39it/s]\n"
     ]
    },
    {
     "name": "stdout",
     "output_type": "stream",
     "text": [
      "Running EPANET ...\n"
     ]
    },
    {
     "name": "stderr",
     "output_type": "stream",
     "text": [
      "Time steps: 100%|########################################################################################################################9| 17520/17521 [00:05<00:00, 3064.18it/s]\n"
     ]
    },
    {
     "name": "stdout",
     "output_type": "stream",
     "text": [
      "Running EPANET ...\n"
     ]
    },
    {
     "name": "stderr",
     "output_type": "stream",
     "text": [
      "Time steps: 100%|########################################################################################################################9| 17520/17521 [00:05<00:00, 3005.85it/s]\n"
     ]
    },
    {
     "name": "stdout",
     "output_type": "stream",
     "text": [
      "Running EPANET ...\n"
     ]
    },
    {
     "name": "stderr",
     "output_type": "stream",
     "text": [
      "Time steps: 100%|########################################################################################################################9| 17520/17521 [00:05<00:00, 3038.97it/s]\n"
     ]
    },
    {
     "name": "stdout",
     "output_type": "stream",
     "text": [
      "Running EPANET ...\n"
     ]
    },
    {
     "name": "stderr",
     "output_type": "stream",
     "text": [
      "Time steps: 100%|########################################################################################################################9| 17520/17521 [00:05<00:00, 3007.85it/s]\n"
     ]
    },
    {
     "name": "stdout",
     "output_type": "stream",
     "text": [
      "Running EPANET ...\n"
     ]
    },
    {
     "name": "stderr",
     "output_type": "stream",
     "text": [
      "Time steps: 100%|########################################################################################################################9| 17520/17521 [00:05<00:00, 2979.50it/s]\n"
     ]
    },
    {
     "name": "stdout",
     "output_type": "stream",
     "text": [
      "Running EPANET ...\n"
     ]
    },
    {
     "name": "stderr",
     "output_type": "stream",
     "text": [
      "Time steps: 100%|########################################################################################################################9| 17520/17521 [00:05<00:00, 3041.11it/s]\n"
     ]
    },
    {
     "name": "stdout",
     "output_type": "stream",
     "text": [
      "Running EPANET ...\n"
     ]
    },
    {
     "name": "stderr",
     "output_type": "stream",
     "text": [
      "Time steps: 100%|########################################################################################################################9| 17520/17521 [00:05<00:00, 2983.26it/s]\n"
     ]
    },
    {
     "name": "stdout",
     "output_type": "stream",
     "text": [
      "Running EPANET ...\n"
     ]
    },
    {
     "name": "stderr",
     "output_type": "stream",
     "text": [
      "Time steps: 100%|########################################################################################################################9| 17520/17521 [00:05<00:00, 3002.92it/s]\n"
     ]
    },
    {
     "name": "stdout",
     "output_type": "stream",
     "text": [
      "Running EPANET ...\n"
     ]
    },
    {
     "name": "stderr",
     "output_type": "stream",
     "text": [
      "Time steps: 100%|########################################################################################################################9| 17520/17521 [00:05<00:00, 3028.73it/s]\n"
     ]
    },
    {
     "name": "stdout",
     "output_type": "stream",
     "text": [
      "Running EPANET ...\n"
     ]
    },
    {
     "name": "stderr",
     "output_type": "stream",
     "text": [
      "Time steps: 100%|########################################################################################################################9| 17520/17521 [00:05<00:00, 3013.08it/s]\n"
     ]
    },
    {
     "name": "stdout",
     "output_type": "stream",
     "text": [
      "Running EPANET ...\n"
     ]
    },
    {
     "name": "stderr",
     "output_type": "stream",
     "text": [
      "Time steps: 100%|########################################################################################################################9| 17520/17521 [00:05<00:00, 2939.46it/s]\n"
     ]
    },
    {
     "name": "stdout",
     "output_type": "stream",
     "text": [
      "Running EPANET ...\n"
     ]
    },
    {
     "name": "stderr",
     "output_type": "stream",
     "text": [
      "Time steps: 100%|########################################################################################################################9| 17520/17521 [00:05<00:00, 3021.48it/s]\n"
     ]
    },
    {
     "name": "stdout",
     "output_type": "stream",
     "text": [
      "Running EPANET ...\n"
     ]
    },
    {
     "name": "stderr",
     "output_type": "stream",
     "text": [
      "Time steps: 100%|########################################################################################################################9| 17520/17521 [00:05<00:00, 3068.10it/s]\n"
     ]
    },
    {
     "name": "stdout",
     "output_type": "stream",
     "text": [
      "Running EPANET ...\n"
     ]
    },
    {
     "name": "stderr",
     "output_type": "stream",
     "text": [
      "Time steps: 100%|########################################################################################################################9| 17520/17521 [00:05<00:00, 3037.58it/s]\n"
     ]
    },
    {
     "name": "stdout",
     "output_type": "stream",
     "text": [
      "Running EPANET ...\n"
     ]
    },
    {
     "name": "stderr",
     "output_type": "stream",
     "text": [
      "Time steps: 100%|########################################################################################################################9| 17520/17521 [00:05<00:00, 3072.75it/s]\n"
     ]
    },
    {
     "name": "stdout",
     "output_type": "stream",
     "text": [
      "Running EPANET ...\n"
     ]
    },
    {
     "name": "stderr",
     "output_type": "stream",
     "text": [
      "Time steps: 100%|########################################################################################################################9| 17520/17521 [00:05<00:00, 3043.17it/s]\n"
     ]
    },
    {
     "name": "stdout",
     "output_type": "stream",
     "text": [
      "Running EPANET ...\n"
     ]
    },
    {
     "name": "stderr",
     "output_type": "stream",
     "text": [
      "Time steps: 100%|########################################################################################################################9| 17520/17521 [00:05<00:00, 3083.24it/s]\n"
     ]
    },
    {
     "name": "stdout",
     "output_type": "stream",
     "text": [
      "Running EPANET ...\n"
     ]
    },
    {
     "name": "stderr",
     "output_type": "stream",
     "text": [
      "Time steps: 100%|########################################################################################################################9| 17520/17521 [00:05<00:00, 3021.66it/s]\n"
     ]
    },
    {
     "name": "stdout",
     "output_type": "stream",
     "text": [
      "Running EPANET ...\n"
     ]
    },
    {
     "name": "stderr",
     "output_type": "stream",
     "text": [
      "Time steps: 100%|########################################################################################################################9| 17520/17521 [00:05<00:00, 3032.56it/s]\n"
     ]
    },
    {
     "name": "stdout",
     "output_type": "stream",
     "text": [
      "Running EPANET ...\n"
     ]
    },
    {
     "name": "stderr",
     "output_type": "stream",
     "text": [
      "Time steps: 100%|########################################################################################################################9| 17520/17521 [00:05<00:00, 3018.80it/s]\n"
     ]
    },
    {
     "name": "stdout",
     "output_type": "stream",
     "text": [
      "Running EPANET ...\n"
     ]
    },
    {
     "name": "stderr",
     "output_type": "stream",
     "text": [
      "Time steps: 100%|########################################################################################################################9| 17520/17521 [00:05<00:00, 3049.21it/s]\n"
     ]
    },
    {
     "name": "stdout",
     "output_type": "stream",
     "text": [
      "Running EPANET ...\n"
     ]
    },
    {
     "name": "stderr",
     "output_type": "stream",
     "text": [
      "Time steps: 100%|########################################################################################################################9| 17520/17521 [00:05<00:00, 3034.50it/s]\n"
     ]
    },
    {
     "name": "stdout",
     "output_type": "stream",
     "text": [
      "Running EPANET ...\n"
     ]
    },
    {
     "name": "stderr",
     "output_type": "stream",
     "text": [
      "Time steps: 100%|########################################################################################################################9| 17520/17521 [00:05<00:00, 3005.47it/s]\n"
     ]
    },
    {
     "name": "stdout",
     "output_type": "stream",
     "text": [
      "Running EPANET ...\n"
     ]
    },
    {
     "name": "stderr",
     "output_type": "stream",
     "text": [
      "Time steps: 100%|########################################################################################################################9| 17520/17521 [00:05<00:00, 3040.05it/s]\n"
     ]
    },
    {
     "name": "stdout",
     "output_type": "stream",
     "text": [
      "Running EPANET ...\n"
     ]
    },
    {
     "name": "stderr",
     "output_type": "stream",
     "text": [
      "Time steps: 100%|########################################################################################################################9| 17520/17521 [00:05<00:00, 2975.85it/s]\n"
     ]
    },
    {
     "name": "stdout",
     "output_type": "stream",
     "text": [
      "Running EPANET ...\n"
     ]
    },
    {
     "name": "stderr",
     "output_type": "stream",
     "text": [
      "Time steps: 100%|########################################################################################################################9| 17520/17521 [00:05<00:00, 3009.05it/s]\n"
     ]
    },
    {
     "name": "stdout",
     "output_type": "stream",
     "text": [
      "Running EPANET ...\n"
     ]
    },
    {
     "name": "stderr",
     "output_type": "stream",
     "text": [
      "Time steps: 100%|########################################################################################################################9| 17520/17521 [00:05<00:00, 2984.61it/s]\n"
     ]
    },
    {
     "name": "stdout",
     "output_type": "stream",
     "text": [
      "Running EPANET ...\n"
     ]
    },
    {
     "name": "stderr",
     "output_type": "stream",
     "text": [
      "Time steps: 100%|########################################################################################################################9| 17520/17521 [00:05<00:00, 3056.44it/s]\n"
     ]
    },
    {
     "name": "stdout",
     "output_type": "stream",
     "text": [
      "Running EPANET ...\n"
     ]
    },
    {
     "name": "stderr",
     "output_type": "stream",
     "text": [
      "Time steps: 100%|########################################################################################################################9| 17520/17521 [00:05<00:00, 2960.53it/s]\n"
     ]
    },
    {
     "name": "stdout",
     "output_type": "stream",
     "text": [
      "Running EPANET ...\n"
     ]
    },
    {
     "name": "stderr",
     "output_type": "stream",
     "text": [
      "Time steps: 100%|########################################################################################################################9| 17520/17521 [00:05<00:00, 2979.67it/s]\n"
     ]
    },
    {
     "name": "stdout",
     "output_type": "stream",
     "text": [
      "Running EPANET ...\n"
     ]
    },
    {
     "name": "stderr",
     "output_type": "stream",
     "text": [
      "Time steps: 100%|########################################################################################################################9| 17520/17521 [00:05<00:00, 3040.49it/s]\n"
     ]
    },
    {
     "name": "stdout",
     "output_type": "stream",
     "text": [
      "Running EPANET ...\n"
     ]
    },
    {
     "name": "stderr",
     "output_type": "stream",
     "text": [
      "Time steps: 100%|########################################################################################################################9| 17520/17521 [00:05<00:00, 3027.59it/s]\n"
     ]
    },
    {
     "name": "stdout",
     "output_type": "stream",
     "text": [
      "Running EPANET ...\n"
     ]
    },
    {
     "name": "stderr",
     "output_type": "stream",
     "text": [
      "Time steps: 100%|########################################################################################################################9| 17520/17521 [00:05<00:00, 3048.02it/s]\n"
     ]
    },
    {
     "name": "stdout",
     "output_type": "stream",
     "text": [
      "Running EPANET ...\n"
     ]
    },
    {
     "name": "stderr",
     "output_type": "stream",
     "text": [
      "Time steps: 100%|########################################################################################################################9| 17520/17521 [00:05<00:00, 3027.56it/s]\n"
     ]
    },
    {
     "name": "stdout",
     "output_type": "stream",
     "text": [
      "Running EPANET ...\n"
     ]
    },
    {
     "name": "stderr",
     "output_type": "stream",
     "text": [
      "Time steps: 100%|########################################################################################################################9| 17520/17521 [00:05<00:00, 3034.83it/s]\n"
     ]
    },
    {
     "name": "stdout",
     "output_type": "stream",
     "text": [
      "Running EPANET ...\n"
     ]
    },
    {
     "name": "stderr",
     "output_type": "stream",
     "text": [
      "Time steps: 100%|########################################################################################################################9| 17520/17521 [00:05<00:00, 3021.71it/s]\n"
     ]
    },
    {
     "name": "stdout",
     "output_type": "stream",
     "text": [
      "Running EPANET ...\n"
     ]
    },
    {
     "name": "stderr",
     "output_type": "stream",
     "text": [
      "Time steps: 100%|########################################################################################################################9| 17520/17521 [00:05<00:00, 3052.66it/s]\n"
     ]
    },
    {
     "name": "stdout",
     "output_type": "stream",
     "text": [
      "Running EPANET ...\n"
     ]
    },
    {
     "name": "stderr",
     "output_type": "stream",
     "text": [
      "Time steps: 100%|########################################################################################################################9| 17520/17521 [00:05<00:00, 2977.27it/s]\n"
     ]
    },
    {
     "name": "stdout",
     "output_type": "stream",
     "text": [
      "Running EPANET ...\n"
     ]
    },
    {
     "name": "stderr",
     "output_type": "stream",
     "text": [
      "Time steps: 100%|########################################################################################################################9| 17520/17521 [00:05<00:00, 2969.38it/s]\n"
     ]
    },
    {
     "name": "stdout",
     "output_type": "stream",
     "text": [
      "Running EPANET ...\n"
     ]
    },
    {
     "name": "stderr",
     "output_type": "stream",
     "text": [
      "Time steps: 100%|########################################################################################################################9| 17520/17521 [00:05<00:00, 3006.67it/s]\n"
     ]
    },
    {
     "name": "stdout",
     "output_type": "stream",
     "text": [
      "Running EPANET ...\n"
     ]
    },
    {
     "name": "stderr",
     "output_type": "stream",
     "text": [
      "Time steps: 100%|########################################################################################################################9| 17520/17521 [00:05<00:00, 3027.67it/s]\n"
     ]
    },
    {
     "name": "stdout",
     "output_type": "stream",
     "text": [
      "Running EPANET ...\n"
     ]
    },
    {
     "name": "stderr",
     "output_type": "stream",
     "text": [
      "Time steps: 100%|########################################################################################################################9| 17520/17521 [00:05<00:00, 2982.62it/s]\n"
     ]
    },
    {
     "name": "stdout",
     "output_type": "stream",
     "text": [
      "Running EPANET ...\n"
     ]
    },
    {
     "name": "stderr",
     "output_type": "stream",
     "text": [
      "Time steps: 100%|########################################################################################################################9| 17520/17521 [00:05<00:00, 3016.14it/s]\n"
     ]
    },
    {
     "name": "stdout",
     "output_type": "stream",
     "text": [
      "Running EPANET ...\n"
     ]
    },
    {
     "name": "stderr",
     "output_type": "stream",
     "text": [
      "Time steps: 100%|########################################################################################################################9| 17520/17521 [00:05<00:00, 3015.63it/s]\n"
     ]
    },
    {
     "name": "stdout",
     "output_type": "stream",
     "text": [
      "Running EPANET ...\n"
     ]
    },
    {
     "name": "stderr",
     "output_type": "stream",
     "text": [
      "Time steps: 100%|########################################################################################################################9| 17520/17521 [00:05<00:00, 2951.28it/s]\n"
     ]
    },
    {
     "name": "stdout",
     "output_type": "stream",
     "text": [
      "Running EPANET ...\n"
     ]
    },
    {
     "name": "stderr",
     "output_type": "stream",
     "text": [
      "Time steps: 100%|########################################################################################################################9| 17520/17521 [00:05<00:00, 3033.89it/s]\n"
     ]
    },
    {
     "name": "stdout",
     "output_type": "stream",
     "text": [
      "Running EPANET ...\n"
     ]
    },
    {
     "name": "stderr",
     "output_type": "stream",
     "text": [
      "Time steps: 100%|########################################################################################################################9| 17520/17521 [00:05<00:00, 3024.77it/s]\n"
     ]
    },
    {
     "name": "stdout",
     "output_type": "stream",
     "text": [
      "Running EPANET ...\n"
     ]
    },
    {
     "name": "stderr",
     "output_type": "stream",
     "text": [
      "Time steps: 100%|########################################################################################################################9| 17520/17521 [00:05<00:00, 3035.85it/s]\n"
     ]
    },
    {
     "name": "stdout",
     "output_type": "stream",
     "text": [
      "Running EPANET ...\n"
     ]
    },
    {
     "name": "stderr",
     "output_type": "stream",
     "text": [
      "Time steps: 100%|########################################################################################################################9| 17520/17521 [00:05<00:00, 3056.60it/s]\n"
     ]
    },
    {
     "name": "stdout",
     "output_type": "stream",
     "text": [
      "Running EPANET ...\n"
     ]
    },
    {
     "name": "stderr",
     "output_type": "stream",
     "text": [
      "Time steps: 100%|########################################################################################################################9| 17520/17521 [00:05<00:00, 3058.30it/s]\n"
     ]
    },
    {
     "name": "stdout",
     "output_type": "stream",
     "text": [
      "Running EPANET ...\n"
     ]
    },
    {
     "name": "stderr",
     "output_type": "stream",
     "text": [
      "Time steps: 100%|########################################################################################################################9| 17520/17521 [00:05<00:00, 3022.05it/s]\n"
     ]
    },
    {
     "name": "stdout",
     "output_type": "stream",
     "text": [
      "Running EPANET ...\n"
     ]
    },
    {
     "name": "stderr",
     "output_type": "stream",
     "text": [
      "Time steps: 100%|########################################################################################################################9| 17520/17521 [00:05<00:00, 2962.35it/s]\n"
     ]
    },
    {
     "name": "stdout",
     "output_type": "stream",
     "text": [
      "Running EPANET ...\n"
     ]
    },
    {
     "name": "stderr",
     "output_type": "stream",
     "text": [
      "Time steps: 100%|########################################################################################################################9| 17520/17521 [00:05<00:00, 3069.49it/s]\n"
     ]
    },
    {
     "name": "stdout",
     "output_type": "stream",
     "text": [
      "Running EPANET ...\n"
     ]
    },
    {
     "name": "stderr",
     "output_type": "stream",
     "text": [
      "Time steps: 100%|########################################################################################################################9| 17520/17521 [00:05<00:00, 2984.25it/s]\n"
     ]
    },
    {
     "name": "stdout",
     "output_type": "stream",
     "text": [
      "Running EPANET ...\n"
     ]
    },
    {
     "name": "stderr",
     "output_type": "stream",
     "text": [
      "Time steps: 100%|########################################################################################################################9| 17520/17521 [00:05<00:00, 3067.92it/s]\n"
     ]
    },
    {
     "name": "stdout",
     "output_type": "stream",
     "text": [
      "Running EPANET ...\n"
     ]
    },
    {
     "name": "stderr",
     "output_type": "stream",
     "text": [
      "Time steps: 100%|########################################################################################################################9| 17520/17521 [00:05<00:00, 3067.89it/s]\n"
     ]
    },
    {
     "name": "stdout",
     "output_type": "stream",
     "text": [
      "Running EPANET ...\n"
     ]
    },
    {
     "name": "stderr",
     "output_type": "stream",
     "text": [
      "Time steps: 100%|########################################################################################################################9| 17520/17521 [00:05<00:00, 3047.67it/s]\n"
     ]
    },
    {
     "name": "stdout",
     "output_type": "stream",
     "text": [
      "Running EPANET ...\n"
     ]
    },
    {
     "name": "stderr",
     "output_type": "stream",
     "text": [
      "Time steps: 100%|########################################################################################################################9| 17520/17521 [00:05<00:00, 3045.95it/s]\n"
     ]
    },
    {
     "name": "stdout",
     "output_type": "stream",
     "text": [
      "Running EPANET ...\n"
     ]
    },
    {
     "name": "stderr",
     "output_type": "stream",
     "text": [
      "Time steps: 100%|########################################################################################################################9| 17520/17521 [00:05<00:00, 3012.06it/s]\n"
     ]
    },
    {
     "name": "stdout",
     "output_type": "stream",
     "text": [
      "Running EPANET ...\n"
     ]
    },
    {
     "name": "stderr",
     "output_type": "stream",
     "text": [
      "Time steps: 100%|########################################################################################################################9| 17520/17521 [00:05<00:00, 3037.94it/s]\n"
     ]
    },
    {
     "name": "stdout",
     "output_type": "stream",
     "text": [
      "Running EPANET ...\n"
     ]
    },
    {
     "name": "stderr",
     "output_type": "stream",
     "text": [
      "Time steps: 100%|########################################################################################################################9| 17520/17521 [00:05<00:00, 3048.16it/s]\n"
     ]
    },
    {
     "name": "stdout",
     "output_type": "stream",
     "text": [
      "Running EPANET ...\n"
     ]
    },
    {
     "name": "stderr",
     "output_type": "stream",
     "text": [
      "Time steps: 100%|########################################################################################################################9| 17520/17521 [00:05<00:00, 2969.16it/s]\n"
     ]
    },
    {
     "name": "stdout",
     "output_type": "stream",
     "text": [
      "Running EPANET ...\n"
     ]
    },
    {
     "name": "stderr",
     "output_type": "stream",
     "text": [
      "Time steps: 100%|########################################################################################################################9| 17520/17521 [00:05<00:00, 3030.24it/s]\n"
     ]
    },
    {
     "name": "stdout",
     "output_type": "stream",
     "text": [
      "Running EPANET ...\n"
     ]
    },
    {
     "name": "stderr",
     "output_type": "stream",
     "text": [
      "Time steps: 100%|########################################################################################################################9| 17520/17521 [00:05<00:00, 3033.59it/s]\n"
     ]
    },
    {
     "name": "stdout",
     "output_type": "stream",
     "text": [
      "Running EPANET ...\n"
     ]
    },
    {
     "name": "stderr",
     "output_type": "stream",
     "text": [
      "Time steps: 100%|########################################################################################################################9| 17520/17521 [00:05<00:00, 3034.53it/s]\n"
     ]
    },
    {
     "name": "stdout",
     "output_type": "stream",
     "text": [
      "Running EPANET ...\n"
     ]
    },
    {
     "name": "stderr",
     "output_type": "stream",
     "text": [
      "Time steps: 100%|########################################################################################################################9| 17520/17521 [00:05<00:00, 3055.28it/s]\n"
     ]
    },
    {
     "name": "stdout",
     "output_type": "stream",
     "text": [
      "Running EPANET ...\n"
     ]
    },
    {
     "name": "stderr",
     "output_type": "stream",
     "text": [
      "Time steps: 100%|########################################################################################################################9| 17520/17521 [00:05<00:00, 3041.43it/s]\n"
     ]
    },
    {
     "name": "stdout",
     "output_type": "stream",
     "text": [
      "Running EPANET ...\n"
     ]
    },
    {
     "name": "stderr",
     "output_type": "stream",
     "text": [
      "Time steps: 100%|########################################################################################################################9| 17520/17521 [00:05<00:00, 3067.60it/s]\n"
     ]
    },
    {
     "name": "stdout",
     "output_type": "stream",
     "text": [
      "Running EPANET ...\n"
     ]
    },
    {
     "name": "stderr",
     "output_type": "stream",
     "text": [
      "Time steps: 100%|########################################################################################################################9| 17520/17521 [00:05<00:00, 3068.08it/s]\n"
     ]
    },
    {
     "name": "stdout",
     "output_type": "stream",
     "text": [
      "Running EPANET ...\n"
     ]
    },
    {
     "name": "stderr",
     "output_type": "stream",
     "text": [
      "Time steps: 100%|########################################################################################################################9| 17520/17521 [00:05<00:00, 3049.05it/s]\n"
     ]
    },
    {
     "name": "stdout",
     "output_type": "stream",
     "text": [
      "Running EPANET ...\n"
     ]
    },
    {
     "name": "stderr",
     "output_type": "stream",
     "text": [
      "Time steps: 100%|########################################################################################################################9| 17520/17521 [00:05<00:00, 3030.08it/s]\n"
     ]
    },
    {
     "name": "stdout",
     "output_type": "stream",
     "text": [
      "Running EPANET ...\n"
     ]
    },
    {
     "name": "stderr",
     "output_type": "stream",
     "text": [
      "Time steps: 100%|########################################################################################################################9| 17520/17521 [00:05<00:00, 3038.52it/s]\n"
     ]
    },
    {
     "name": "stdout",
     "output_type": "stream",
     "text": [
      "Running EPANET ...\n"
     ]
    },
    {
     "name": "stderr",
     "output_type": "stream",
     "text": [
      "Time steps: 100%|########################################################################################################################9| 17520/17521 [00:05<00:00, 3002.32it/s]\n"
     ]
    },
    {
     "name": "stdout",
     "output_type": "stream",
     "text": [
      "Running EPANET ...\n"
     ]
    },
    {
     "name": "stderr",
     "output_type": "stream",
     "text": [
      "Time steps: 100%|########################################################################################################################9| 17520/17521 [00:05<00:00, 3052.82it/s]\n"
     ]
    },
    {
     "name": "stdout",
     "output_type": "stream",
     "text": [
      "Running EPANET ...\n"
     ]
    },
    {
     "name": "stderr",
     "output_type": "stream",
     "text": [
      "Time steps: 100%|########################################################################################################################9| 17520/17521 [00:05<00:00, 3055.81it/s]\n"
     ]
    },
    {
     "name": "stdout",
     "output_type": "stream",
     "text": [
      "Running EPANET ...\n"
     ]
    },
    {
     "name": "stderr",
     "output_type": "stream",
     "text": [
      "Time steps: 100%|########################################################################################################################9| 17520/17521 [00:05<00:00, 3060.08it/s]\n"
     ]
    },
    {
     "name": "stdout",
     "output_type": "stream",
     "text": [
      "Running EPANET ...\n"
     ]
    },
    {
     "name": "stderr",
     "output_type": "stream",
     "text": [
      "Time steps: 100%|########################################################################################################################9| 17520/17521 [00:05<00:00, 3021.90it/s]\n"
     ]
    },
    {
     "name": "stdout",
     "output_type": "stream",
     "text": [
      "Running EPANET ...\n"
     ]
    },
    {
     "name": "stderr",
     "output_type": "stream",
     "text": [
      "Time steps: 100%|########################################################################################################################9| 17520/17521 [00:05<00:00, 3055.04it/s]\n"
     ]
    },
    {
     "name": "stdout",
     "output_type": "stream",
     "text": [
      "Running EPANET ...\n"
     ]
    },
    {
     "name": "stderr",
     "output_type": "stream",
     "text": [
      "Time steps: 100%|########################################################################################################################9| 17520/17521 [00:05<00:00, 3008.89it/s]\n"
     ]
    },
    {
     "name": "stdout",
     "output_type": "stream",
     "text": [
      "Running EPANET ...\n"
     ]
    },
    {
     "name": "stderr",
     "output_type": "stream",
     "text": [
      "Time steps: 100%|########################################################################################################################9| 17520/17521 [00:05<00:00, 3031.88it/s]\n"
     ]
    },
    {
     "name": "stdout",
     "output_type": "stream",
     "text": [
      "Running EPANET ...\n"
     ]
    },
    {
     "name": "stderr",
     "output_type": "stream",
     "text": [
      "Time steps: 100%|########################################################################################################################9| 17520/17521 [00:05<00:00, 3015.54it/s]\n"
     ]
    },
    {
     "name": "stdout",
     "output_type": "stream",
     "text": [
      "Running EPANET ...\n"
     ]
    },
    {
     "name": "stderr",
     "output_type": "stream",
     "text": [
      "Time steps: 100%|########################################################################################################################9| 17520/17521 [00:05<00:00, 3024.06it/s]\n"
     ]
    },
    {
     "name": "stdout",
     "output_type": "stream",
     "text": [
      "Running EPANET ...\n"
     ]
    },
    {
     "name": "stderr",
     "output_type": "stream",
     "text": [
      "Time steps: 100%|########################################################################################################################9| 17520/17521 [00:05<00:00, 3052.14it/s]\n"
     ]
    },
    {
     "name": "stdout",
     "output_type": "stream",
     "text": [
      "Running EPANET ...\n"
     ]
    },
    {
     "name": "stderr",
     "output_type": "stream",
     "text": [
      "Time steps: 100%|########################################################################################################################9| 17520/17521 [00:05<00:00, 3042.71it/s]\n"
     ]
    },
    {
     "name": "stdout",
     "output_type": "stream",
     "text": [
      "Running EPANET ...\n"
     ]
    },
    {
     "name": "stderr",
     "output_type": "stream",
     "text": [
      "Time steps: 100%|########################################################################################################################9| 17520/17521 [00:05<00:00, 2980.48it/s]\n"
     ]
    },
    {
     "name": "stdout",
     "output_type": "stream",
     "text": [
      "Running EPANET ...\n"
     ]
    },
    {
     "name": "stderr",
     "output_type": "stream",
     "text": [
      "Time steps: 100%|########################################################################################################################9| 17520/17521 [00:05<00:00, 3083.90it/s]\n"
     ]
    },
    {
     "name": "stdout",
     "output_type": "stream",
     "text": [
      "Running EPANET ...\n"
     ]
    },
    {
     "name": "stderr",
     "output_type": "stream",
     "text": [
      "Time steps: 100%|########################################################################################################################9| 17520/17521 [00:05<00:00, 3007.05it/s]\n"
     ]
    },
    {
     "name": "stdout",
     "output_type": "stream",
     "text": [
      "Running EPANET ...\n"
     ]
    },
    {
     "name": "stderr",
     "output_type": "stream",
     "text": [
      "Time steps: 100%|########################################################################################################################9| 17520/17521 [00:05<00:00, 3042.60it/s]\n"
     ]
    },
    {
     "name": "stdout",
     "output_type": "stream",
     "text": [
      "Running EPANET ...\n"
     ]
    },
    {
     "name": "stderr",
     "output_type": "stream",
     "text": [
      "Time steps: 100%|########################################################################################################################9| 17520/17521 [00:05<00:00, 3048.60it/s]\n"
     ]
    },
    {
     "name": "stdout",
     "output_type": "stream",
     "text": [
      "Running EPANET ...\n"
     ]
    },
    {
     "name": "stderr",
     "output_type": "stream",
     "text": [
      "Time steps: 100%|########################################################################################################################9| 17520/17521 [00:05<00:00, 3023.80it/s]\n"
     ]
    },
    {
     "name": "stdout",
     "output_type": "stream",
     "text": [
      "Running EPANET ...\n"
     ]
    },
    {
     "name": "stderr",
     "output_type": "stream",
     "text": [
      "Time steps: 100%|########################################################################################################################9| 17520/17521 [00:05<00:00, 3021.32it/s]\n"
     ]
    },
    {
     "name": "stdout",
     "output_type": "stream",
     "text": [
      "Running EPANET ...\n"
     ]
    },
    {
     "name": "stderr",
     "output_type": "stream",
     "text": [
      "Time steps: 100%|########################################################################################################################9| 17520/17521 [00:05<00:00, 2988.65it/s]\n"
     ]
    },
    {
     "name": "stdout",
     "output_type": "stream",
     "text": [
      "Running EPANET ...\n"
     ]
    },
    {
     "name": "stderr",
     "output_type": "stream",
     "text": [
      "Time steps: 100%|########################################################################################################################9| 17520/17521 [00:05<00:00, 2951.80it/s]\n"
     ]
    },
    {
     "name": "stdout",
     "output_type": "stream",
     "text": [
      "Running EPANET ...\n"
     ]
    },
    {
     "name": "stderr",
     "output_type": "stream",
     "text": [
      "Time steps: 100%|########################################################################################################################9| 17520/17521 [00:05<00:00, 3065.72it/s]\n"
     ]
    },
    {
     "name": "stdout",
     "output_type": "stream",
     "text": [
      "Running EPANET ...\n"
     ]
    },
    {
     "name": "stderr",
     "output_type": "stream",
     "text": [
      "Time steps: 100%|########################################################################################################################9| 17520/17521 [00:05<00:00, 3007.02it/s]\n"
     ]
    },
    {
     "name": "stdout",
     "output_type": "stream",
     "text": [
      "Running EPANET ...\n"
     ]
    },
    {
     "name": "stderr",
     "output_type": "stream",
     "text": [
      "Time steps: 100%|########################################################################################################################9| 17520/17521 [00:05<00:00, 3045.89it/s]\n"
     ]
    },
    {
     "name": "stdout",
     "output_type": "stream",
     "text": [
      "Running EPANET ...\n"
     ]
    },
    {
     "name": "stderr",
     "output_type": "stream",
     "text": [
      "Time steps: 100%|########################################################################################################################9| 17520/17521 [00:05<00:00, 3015.45it/s]\n"
     ]
    },
    {
     "name": "stdout",
     "output_type": "stream",
     "text": [
      "Running EPANET ...\n"
     ]
    },
    {
     "name": "stderr",
     "output_type": "stream",
     "text": [
      "Time steps: 100%|########################################################################################################################9| 17520/17521 [00:05<00:00, 3010.83it/s]\n"
     ]
    },
    {
     "name": "stdout",
     "output_type": "stream",
     "text": [
      "Running EPANET ...\n"
     ]
    },
    {
     "name": "stderr",
     "output_type": "stream",
     "text": [
      "Time steps: 100%|########################################################################################################################9| 17520/17521 [00:05<00:00, 3024.73it/s]\n"
     ]
    },
    {
     "name": "stdout",
     "output_type": "stream",
     "text": [
      "Running EPANET ...\n"
     ]
    },
    {
     "name": "stderr",
     "output_type": "stream",
     "text": [
      "Time steps: 100%|########################################################################################################################9| 17520/17521 [00:05<00:00, 3060.37it/s]\n"
     ]
    },
    {
     "name": "stdout",
     "output_type": "stream",
     "text": [
      "Running EPANET ...\n"
     ]
    },
    {
     "name": "stderr",
     "output_type": "stream",
     "text": [
      "Time steps: 100%|########################################################################################################################9| 17520/17521 [00:05<00:00, 3036.41it/s]\n"
     ]
    },
    {
     "name": "stdout",
     "output_type": "stream",
     "text": [
      "Running EPANET ...\n"
     ]
    },
    {
     "name": "stderr",
     "output_type": "stream",
     "text": [
      "Time steps: 100%|########################################################################################################################9| 17520/17521 [00:05<00:00, 3036.17it/s]\n"
     ]
    },
    {
     "name": "stdout",
     "output_type": "stream",
     "text": [
      "Running EPANET ...\n"
     ]
    },
    {
     "name": "stderr",
     "output_type": "stream",
     "text": [
      "Time steps: 100%|########################################################################################################################9| 17520/17521 [00:05<00:00, 3060.64it/s]\n"
     ]
    },
    {
     "name": "stdout",
     "output_type": "stream",
     "text": [
      "Running EPANET ...\n"
     ]
    },
    {
     "name": "stderr",
     "output_type": "stream",
     "text": [
      "Time steps: 100%|########################################################################################################################9| 17520/17521 [00:05<00:00, 3068.98it/s]\n"
     ]
    },
    {
     "name": "stdout",
     "output_type": "stream",
     "text": [
      "Running EPANET ...\n"
     ]
    },
    {
     "name": "stderr",
     "output_type": "stream",
     "text": [
      "Time steps: 100%|########################################################################################################################9| 17520/17521 [00:05<00:00, 3041.41it/s]\n"
     ]
    },
    {
     "name": "stdout",
     "output_type": "stream",
     "text": [
      "Running EPANET ...\n"
     ]
    },
    {
     "name": "stderr",
     "output_type": "stream",
     "text": [
      "Time steps: 100%|########################################################################################################################9| 17520/17521 [00:05<00:00, 3082.19it/s]\n"
     ]
    },
    {
     "name": "stdout",
     "output_type": "stream",
     "text": [
      "Running EPANET ...\n"
     ]
    },
    {
     "name": "stderr",
     "output_type": "stream",
     "text": [
      "Time steps: 100%|########################################################################################################################9| 17520/17521 [00:05<00:00, 3035.51it/s]\n"
     ]
    },
    {
     "name": "stdout",
     "output_type": "stream",
     "text": [
      "Running EPANET ...\n"
     ]
    },
    {
     "name": "stderr",
     "output_type": "stream",
     "text": [
      "Time steps: 100%|########################################################################################################################9| 17520/17521 [00:05<00:00, 3038.58it/s]\n"
     ]
    },
    {
     "name": "stdout",
     "output_type": "stream",
     "text": [
      "Running EPANET ...\n"
     ]
    },
    {
     "name": "stderr",
     "output_type": "stream",
     "text": [
      "Time steps: 100%|########################################################################################################################9| 17520/17521 [00:05<00:00, 3025.65it/s]\n"
     ]
    },
    {
     "name": "stdout",
     "output_type": "stream",
     "text": [
      "Running EPANET ...\n"
     ]
    },
    {
     "name": "stderr",
     "output_type": "stream",
     "text": [
      "Time steps: 100%|########################################################################################################################9| 17520/17521 [00:05<00:00, 3053.41it/s]\n"
     ]
    },
    {
     "name": "stdout",
     "output_type": "stream",
     "text": [
      "Running EPANET ...\n"
     ]
    },
    {
     "name": "stderr",
     "output_type": "stream",
     "text": [
      "Time steps: 100%|########################################################################################################################9| 17520/17521 [00:05<00:00, 3024.69it/s]\n"
     ]
    },
    {
     "name": "stdout",
     "output_type": "stream",
     "text": [
      "Running EPANET ...\n"
     ]
    },
    {
     "name": "stderr",
     "output_type": "stream",
     "text": [
      "Time steps: 100%|########################################################################################################################9| 17520/17521 [00:05<00:00, 2991.92it/s]\n"
     ]
    },
    {
     "name": "stdout",
     "output_type": "stream",
     "text": [
      "Running EPANET ...\n"
     ]
    },
    {
     "name": "stderr",
     "output_type": "stream",
     "text": [
      "Time steps: 100%|########################################################################################################################9| 17520/17521 [00:05<00:00, 3053.82it/s]\n"
     ]
    },
    {
     "name": "stdout",
     "output_type": "stream",
     "text": [
      "Running EPANET ...\n"
     ]
    },
    {
     "name": "stderr",
     "output_type": "stream",
     "text": [
      "Time steps: 100%|########################################################################################################################9| 17520/17521 [00:05<00:00, 2977.51it/s]\n"
     ]
    },
    {
     "name": "stdout",
     "output_type": "stream",
     "text": [
      "Running EPANET ...\n"
     ]
    },
    {
     "name": "stderr",
     "output_type": "stream",
     "text": [
      "Time steps: 100%|########################################################################################################################9| 17520/17521 [00:05<00:00, 3049.77it/s]\n"
     ]
    },
    {
     "name": "stdout",
     "output_type": "stream",
     "text": [
      "Running EPANET ...\n"
     ]
    },
    {
     "name": "stderr",
     "output_type": "stream",
     "text": [
      "Time steps: 100%|########################################################################################################################9| 17520/17521 [00:05<00:00, 3007.13it/s]\n"
     ]
    },
    {
     "name": "stdout",
     "output_type": "stream",
     "text": [
      "Running EPANET ...\n"
     ]
    },
    {
     "name": "stderr",
     "output_type": "stream",
     "text": [
      "Time steps: 100%|########################################################################################################################9| 17520/17521 [00:05<00:00, 3048.85it/s]\n"
     ]
    },
    {
     "name": "stdout",
     "output_type": "stream",
     "text": [
      "Running EPANET ...\n"
     ]
    },
    {
     "name": "stderr",
     "output_type": "stream",
     "text": [
      "Time steps: 100%|########################################################################################################################9| 17520/17521 [00:05<00:00, 2997.49it/s]\n"
     ]
    },
    {
     "name": "stdout",
     "output_type": "stream",
     "text": [
      "Running EPANET ...\n"
     ]
    },
    {
     "name": "stderr",
     "output_type": "stream",
     "text": [
      "Time steps: 100%|########################################################################################################################9| 17520/17521 [00:05<00:00, 3009.93it/s]\n"
     ]
    },
    {
     "name": "stdout",
     "output_type": "stream",
     "text": [
      "Running EPANET ...\n"
     ]
    },
    {
     "name": "stderr",
     "output_type": "stream",
     "text": [
      "Time steps: 100%|########################################################################################################################9| 17520/17521 [00:05<00:00, 2951.59it/s]\n"
     ]
    },
    {
     "name": "stdout",
     "output_type": "stream",
     "text": [
      "Running EPANET ...\n"
     ]
    },
    {
     "name": "stderr",
     "output_type": "stream",
     "text": [
      "Time steps: 100%|########################################################################################################################9| 17520/17521 [00:05<00:00, 3057.70it/s]\n"
     ]
    },
    {
     "name": "stdout",
     "output_type": "stream",
     "text": [
      "Running EPANET ...\n"
     ]
    },
    {
     "name": "stderr",
     "output_type": "stream",
     "text": [
      "Time steps: 100%|########################################################################################################################9| 17520/17521 [00:05<00:00, 3023.34it/s]\n"
     ]
    },
    {
     "name": "stdout",
     "output_type": "stream",
     "text": [
      "Running EPANET ...\n"
     ]
    },
    {
     "name": "stderr",
     "output_type": "stream",
     "text": [
      "Time steps: 100%|########################################################################################################################9| 17520/17521 [00:05<00:00, 2979.78it/s]\n"
     ]
    },
    {
     "name": "stdout",
     "output_type": "stream",
     "text": [
      "Running EPANET ...\n"
     ]
    },
    {
     "name": "stderr",
     "output_type": "stream",
     "text": [
      "Time steps: 100%|########################################################################################################################9| 17520/17521 [00:05<00:00, 3056.60it/s]\n"
     ]
    },
    {
     "name": "stdout",
     "output_type": "stream",
     "text": [
      "Running EPANET ...\n"
     ]
    },
    {
     "name": "stderr",
     "output_type": "stream",
     "text": [
      "Time steps: 100%|########################################################################################################################9| 17520/17521 [00:05<00:00, 3071.29it/s]\n"
     ]
    },
    {
     "name": "stdout",
     "output_type": "stream",
     "text": [
      "Running EPANET ...\n"
     ]
    },
    {
     "name": "stderr",
     "output_type": "stream",
     "text": [
      "Time steps: 100%|########################################################################################################################9| 17520/17521 [00:05<00:00, 3073.48it/s]\n"
     ]
    },
    {
     "name": "stdout",
     "output_type": "stream",
     "text": [
      "Running EPANET ...\n"
     ]
    },
    {
     "name": "stderr",
     "output_type": "stream",
     "text": [
      "Time steps: 100%|########################################################################################################################9| 17520/17521 [00:05<00:00, 3075.08it/s]\n"
     ]
    },
    {
     "name": "stdout",
     "output_type": "stream",
     "text": [
      "Running EPANET ...\n"
     ]
    },
    {
     "name": "stderr",
     "output_type": "stream",
     "text": [
      "Time steps: 100%|########################################################################################################################9| 17520/17521 [00:05<00:00, 3037.53it/s]\n"
     ]
    },
    {
     "name": "stdout",
     "output_type": "stream",
     "text": [
      "Running EPANET ...\n"
     ]
    },
    {
     "name": "stderr",
     "output_type": "stream",
     "text": [
      "Time steps: 100%|########################################################################################################################9| 17520/17521 [00:05<00:00, 3029.59it/s]\n"
     ]
    },
    {
     "name": "stdout",
     "output_type": "stream",
     "text": [
      "Running EPANET ...\n"
     ]
    },
    {
     "name": "stderr",
     "output_type": "stream",
     "text": [
      "Time steps: 100%|########################################################################################################################9| 17520/17521 [00:05<00:00, 3039.27it/s]\n"
     ]
    },
    {
     "name": "stdout",
     "output_type": "stream",
     "text": [
      "Running EPANET ...\n"
     ]
    },
    {
     "name": "stderr",
     "output_type": "stream",
     "text": [
      "Time steps: 100%|########################################################################################################################9| 17520/17521 [00:05<00:00, 3022.51it/s]\n"
     ]
    },
    {
     "name": "stdout",
     "output_type": "stream",
     "text": [
      "Running EPANET ...\n"
     ]
    },
    {
     "name": "stderr",
     "output_type": "stream",
     "text": [
      "Time steps: 100%|########################################################################################################################9| 17520/17521 [00:05<00:00, 3048.51it/s]\n"
     ]
    },
    {
     "name": "stdout",
     "output_type": "stream",
     "text": [
      "Running EPANET ...\n"
     ]
    },
    {
     "name": "stderr",
     "output_type": "stream",
     "text": [
      "Time steps: 100%|########################################################################################################################9| 17520/17521 [00:05<00:00, 3010.59it/s]\n"
     ]
    },
    {
     "name": "stdout",
     "output_type": "stream",
     "text": [
      "Running EPANET ...\n"
     ]
    },
    {
     "name": "stderr",
     "output_type": "stream",
     "text": [
      "Time steps: 100%|########################################################################################################################9| 17520/17521 [00:05<00:00, 3072.17it/s]\n"
     ]
    },
    {
     "name": "stdout",
     "output_type": "stream",
     "text": [
      "Running EPANET ...\n"
     ]
    },
    {
     "name": "stderr",
     "output_type": "stream",
     "text": [
      "Time steps: 100%|########################################################################################################################9| 17520/17521 [00:05<00:00, 2999.53it/s]\n"
     ]
    },
    {
     "name": "stdout",
     "output_type": "stream",
     "text": [
      "Running EPANET ...\n"
     ]
    },
    {
     "name": "stderr",
     "output_type": "stream",
     "text": [
      "Time steps: 100%|########################################################################################################################9| 17520/17521 [00:05<00:00, 2978.41it/s]\n"
     ]
    },
    {
     "name": "stdout",
     "output_type": "stream",
     "text": [
      "Running EPANET ...\n"
     ]
    },
    {
     "name": "stderr",
     "output_type": "stream",
     "text": [
      "Time steps: 100%|########################################################################################################################9| 17520/17521 [00:05<00:00, 3047.47it/s]\n"
     ]
    },
    {
     "name": "stdout",
     "output_type": "stream",
     "text": [
      "Running EPANET ...\n"
     ]
    },
    {
     "name": "stderr",
     "output_type": "stream",
     "text": [
      "Time steps: 100%|########################################################################################################################9| 17520/17521 [00:05<00:00, 3019.91it/s]\n"
     ]
    },
    {
     "name": "stdout",
     "output_type": "stream",
     "text": [
      "Running EPANET ...\n"
     ]
    },
    {
     "name": "stderr",
     "output_type": "stream",
     "text": [
      "Time steps: 100%|########################################################################################################################9| 17520/17521 [00:05<00:00, 3035.52it/s]\n"
     ]
    },
    {
     "name": "stdout",
     "output_type": "stream",
     "text": [
      "Running EPANET ...\n"
     ]
    },
    {
     "name": "stderr",
     "output_type": "stream",
     "text": [
      "Time steps: 100%|########################################################################################################################9| 17520/17521 [00:05<00:00, 3057.86it/s]\n"
     ]
    },
    {
     "name": "stdout",
     "output_type": "stream",
     "text": [
      "Running EPANET ...\n"
     ]
    },
    {
     "name": "stderr",
     "output_type": "stream",
     "text": [
      "Time steps: 100%|########################################################################################################################9| 17520/17521 [00:05<00:00, 2982.13it/s]\n"
     ]
    },
    {
     "name": "stdout",
     "output_type": "stream",
     "text": [
      "Running EPANET ...\n"
     ]
    },
    {
     "name": "stderr",
     "output_type": "stream",
     "text": [
      "Time steps: 100%|########################################################################################################################9| 17520/17521 [00:05<00:00, 3034.13it/s]\n"
     ]
    },
    {
     "name": "stdout",
     "output_type": "stream",
     "text": [
      "Running EPANET ...\n"
     ]
    },
    {
     "name": "stderr",
     "output_type": "stream",
     "text": [
      "Time steps: 100%|########################################################################################################################9| 17520/17521 [00:05<00:00, 3036.10it/s]\n"
     ]
    },
    {
     "name": "stdout",
     "output_type": "stream",
     "text": [
      "Running EPANET ...\n"
     ]
    },
    {
     "name": "stderr",
     "output_type": "stream",
     "text": [
      "Time steps: 100%|########################################################################################################################9| 17520/17521 [00:05<00:00, 3033.77it/s]\n"
     ]
    },
    {
     "name": "stdout",
     "output_type": "stream",
     "text": [
      "Running EPANET ...\n"
     ]
    },
    {
     "name": "stderr",
     "output_type": "stream",
     "text": [
      "Time steps: 100%|########################################################################################################################9| 17520/17521 [00:05<00:00, 2985.43it/s]\n"
     ]
    },
    {
     "name": "stdout",
     "output_type": "stream",
     "text": [
      "Running EPANET ...\n"
     ]
    },
    {
     "name": "stderr",
     "output_type": "stream",
     "text": [
      "Time steps: 100%|########################################################################################################################9| 17520/17521 [00:05<00:00, 3011.87it/s]\n"
     ]
    },
    {
     "name": "stdout",
     "output_type": "stream",
     "text": [
      "Running EPANET ...\n"
     ]
    },
    {
     "name": "stderr",
     "output_type": "stream",
     "text": [
      "Time steps: 100%|########################################################################################################################9| 17520/17521 [00:05<00:00, 2993.33it/s]\n"
     ]
    },
    {
     "name": "stdout",
     "output_type": "stream",
     "text": [
      "Running EPANET ...\n"
     ]
    },
    {
     "name": "stderr",
     "output_type": "stream",
     "text": [
      "Time steps: 100%|########################################################################################################################9| 17520/17521 [00:05<00:00, 3052.34it/s]\n"
     ]
    },
    {
     "name": "stdout",
     "output_type": "stream",
     "text": [
      "Running EPANET ...\n"
     ]
    },
    {
     "name": "stderr",
     "output_type": "stream",
     "text": [
      "Time steps: 100%|########################################################################################################################9| 17520/17521 [00:05<00:00, 3048.62it/s]\n"
     ]
    },
    {
     "name": "stdout",
     "output_type": "stream",
     "text": [
      "Running EPANET ...\n"
     ]
    },
    {
     "name": "stderr",
     "output_type": "stream",
     "text": [
      "Time steps: 100%|########################################################################################################################9| 17520/17521 [00:05<00:00, 3026.28it/s]\n"
     ]
    },
    {
     "name": "stdout",
     "output_type": "stream",
     "text": [
      "Running EPANET ...\n"
     ]
    },
    {
     "name": "stderr",
     "output_type": "stream",
     "text": [
      "Time steps: 100%|########################################################################################################################9| 17520/17521 [00:05<00:00, 3024.15it/s]\n"
     ]
    },
    {
     "name": "stdout",
     "output_type": "stream",
     "text": [
      "Running EPANET ...\n"
     ]
    },
    {
     "name": "stderr",
     "output_type": "stream",
     "text": [
      "Time steps: 100%|########################################################################################################################9| 17520/17521 [00:05<00:00, 3049.83it/s]\n"
     ]
    },
    {
     "name": "stdout",
     "output_type": "stream",
     "text": [
      "Running EPANET ...\n"
     ]
    },
    {
     "name": "stderr",
     "output_type": "stream",
     "text": [
      "Time steps: 100%|########################################################################################################################9| 17520/17521 [00:05<00:00, 2978.23it/s]\n"
     ]
    },
    {
     "name": "stdout",
     "output_type": "stream",
     "text": [
      "Running EPANET ...\n"
     ]
    },
    {
     "name": "stderr",
     "output_type": "stream",
     "text": [
      "Time steps: 100%|########################################################################################################################9| 17520/17521 [00:05<00:00, 2967.49it/s]\n"
     ]
    },
    {
     "name": "stdout",
     "output_type": "stream",
     "text": [
      "Running EPANET ...\n"
     ]
    },
    {
     "name": "stderr",
     "output_type": "stream",
     "text": [
      "Time steps: 100%|########################################################################################################################9| 17520/17521 [00:05<00:00, 3051.76it/s]\n"
     ]
    },
    {
     "name": "stdout",
     "output_type": "stream",
     "text": [
      "Running EPANET ...\n"
     ]
    },
    {
     "name": "stderr",
     "output_type": "stream",
     "text": [
      "Time steps: 100%|########################################################################################################################9| 17520/17521 [00:05<00:00, 3056.10it/s]\n"
     ]
    },
    {
     "name": "stdout",
     "output_type": "stream",
     "text": [
      "Running EPANET ...\n"
     ]
    },
    {
     "name": "stderr",
     "output_type": "stream",
     "text": [
      "Time steps: 100%|########################################################################################################################9| 17520/17521 [00:05<00:00, 3031.57it/s]\n"
     ]
    },
    {
     "name": "stdout",
     "output_type": "stream",
     "text": [
      "Running EPANET ...\n"
     ]
    },
    {
     "name": "stderr",
     "output_type": "stream",
     "text": [
      "Time steps: 100%|########################################################################################################################9| 17520/17521 [00:05<00:00, 3047.14it/s]\n"
     ]
    },
    {
     "name": "stdout",
     "output_type": "stream",
     "text": [
      "Running EPANET ...\n"
     ]
    },
    {
     "name": "stderr",
     "output_type": "stream",
     "text": [
      "Time steps: 100%|########################################################################################################################9| 17520/17521 [00:05<00:00, 3081.72it/s]\n"
     ]
    },
    {
     "name": "stdout",
     "output_type": "stream",
     "text": [
      "Running EPANET ...\n"
     ]
    },
    {
     "name": "stderr",
     "output_type": "stream",
     "text": [
      "Time steps: 100%|########################################################################################################################9| 17520/17521 [00:05<00:00, 3027.82it/s]\n"
     ]
    },
    {
     "name": "stdout",
     "output_type": "stream",
     "text": [
      "Running EPANET ...\n"
     ]
    },
    {
     "name": "stderr",
     "output_type": "stream",
     "text": [
      "Time steps: 100%|########################################################################################################################9| 17520/17521 [00:05<00:00, 2997.44it/s]\n"
     ]
    },
    {
     "name": "stdout",
     "output_type": "stream",
     "text": [
      "Running EPANET ...\n"
     ]
    },
    {
     "name": "stderr",
     "output_type": "stream",
     "text": [
      "Time steps: 100%|########################################################################################################################9| 17520/17521 [00:05<00:00, 3085.42it/s]\n"
     ]
    },
    {
     "name": "stdout",
     "output_type": "stream",
     "text": [
      "Running EPANET ...\n"
     ]
    },
    {
     "name": "stderr",
     "output_type": "stream",
     "text": [
      "Time steps: 100%|########################################################################################################################9| 17520/17521 [00:05<00:00, 3027.43it/s]\n"
     ]
    },
    {
     "name": "stdout",
     "output_type": "stream",
     "text": [
      "Running EPANET ...\n"
     ]
    },
    {
     "name": "stderr",
     "output_type": "stream",
     "text": [
      "Time steps: 100%|########################################################################################################################9| 17520/17521 [00:05<00:00, 3047.51it/s]\n"
     ]
    },
    {
     "name": "stdout",
     "output_type": "stream",
     "text": [
      "Running EPANET ...\n"
     ]
    },
    {
     "name": "stderr",
     "output_type": "stream",
     "text": [
      "Time steps: 100%|########################################################################################################################9| 17520/17521 [00:05<00:00, 3014.76it/s]\n"
     ]
    },
    {
     "name": "stdout",
     "output_type": "stream",
     "text": [
      "Running EPANET ...\n"
     ]
    },
    {
     "name": "stderr",
     "output_type": "stream",
     "text": [
      "Time steps: 100%|########################################################################################################################9| 17520/17521 [00:05<00:00, 3050.61it/s]\n"
     ]
    },
    {
     "name": "stdout",
     "output_type": "stream",
     "text": [
      "Running EPANET ...\n"
     ]
    },
    {
     "name": "stderr",
     "output_type": "stream",
     "text": [
      "Time steps: 100%|########################################################################################################################9| 17520/17521 [00:05<00:00, 3017.83it/s]\n"
     ]
    },
    {
     "name": "stdout",
     "output_type": "stream",
     "text": [
      "Running EPANET ...\n"
     ]
    },
    {
     "name": "stderr",
     "output_type": "stream",
     "text": [
      "Time steps: 100%|########################################################################################################################9| 17520/17521 [00:05<00:00, 3039.59it/s]\n"
     ]
    },
    {
     "name": "stdout",
     "output_type": "stream",
     "text": [
      "Running EPANET ...\n"
     ]
    },
    {
     "name": "stderr",
     "output_type": "stream",
     "text": [
      "Time steps: 100%|########################################################################################################################9| 17520/17521 [00:05<00:00, 3041.04it/s]\n"
     ]
    },
    {
     "name": "stdout",
     "output_type": "stream",
     "text": [
      "Running EPANET ...\n"
     ]
    },
    {
     "name": "stderr",
     "output_type": "stream",
     "text": [
      "Time steps: 100%|########################################################################################################################9| 17520/17521 [00:05<00:00, 2968.89it/s]\n"
     ]
    },
    {
     "name": "stdout",
     "output_type": "stream",
     "text": [
      "Running EPANET ...\n"
     ]
    },
    {
     "name": "stderr",
     "output_type": "stream",
     "text": [
      "Time steps: 100%|########################################################################################################################9| 17520/17521 [00:05<00:00, 3026.39it/s]\n"
     ]
    },
    {
     "name": "stdout",
     "output_type": "stream",
     "text": [
      "Running EPANET ...\n"
     ]
    },
    {
     "name": "stderr",
     "output_type": "stream",
     "text": [
      "Time steps: 100%|########################################################################################################################9| 17520/17521 [00:05<00:00, 2994.68it/s]\n"
     ]
    },
    {
     "name": "stdout",
     "output_type": "stream",
     "text": [
      "Running EPANET ...\n"
     ]
    },
    {
     "name": "stderr",
     "output_type": "stream",
     "text": [
      "Time steps: 100%|########################################################################################################################9| 17520/17521 [00:05<00:00, 2956.42it/s]\n"
     ]
    },
    {
     "name": "stdout",
     "output_type": "stream",
     "text": [
      "Running EPANET ...\n"
     ]
    },
    {
     "name": "stderr",
     "output_type": "stream",
     "text": [
      "Time steps: 100%|########################################################################################################################9| 17520/17521 [00:05<00:00, 2982.77it/s]\n"
     ]
    },
    {
     "name": "stdout",
     "output_type": "stream",
     "text": [
      "Running EPANET ...\n"
     ]
    },
    {
     "name": "stderr",
     "output_type": "stream",
     "text": [
      "Time steps: 100%|########################################################################################################################9| 17520/17521 [00:05<00:00, 3025.81it/s]\n"
     ]
    },
    {
     "name": "stdout",
     "output_type": "stream",
     "text": [
      "Running EPANET ...\n"
     ]
    },
    {
     "name": "stderr",
     "output_type": "stream",
     "text": [
      "Time steps: 100%|########################################################################################################################9| 17520/17521 [00:05<00:00, 3009.11it/s]\n"
     ]
    },
    {
     "name": "stdout",
     "output_type": "stream",
     "text": [
      "Running EPANET ...\n"
     ]
    },
    {
     "name": "stderr",
     "output_type": "stream",
     "text": [
      "Time steps: 100%|########################################################################################################################9| 17520/17521 [00:05<00:00, 3065.06it/s]\n"
     ]
    },
    {
     "name": "stdout",
     "output_type": "stream",
     "text": [
      "Running EPANET ...\n"
     ]
    },
    {
     "name": "stderr",
     "output_type": "stream",
     "text": [
      "Time steps: 100%|########################################################################################################################9| 17520/17521 [00:05<00:00, 3045.89it/s]\n"
     ]
    },
    {
     "name": "stdout",
     "output_type": "stream",
     "text": [
      "Running EPANET ...\n"
     ]
    },
    {
     "name": "stderr",
     "output_type": "stream",
     "text": [
      "Time steps: 100%|########################################################################################################################9| 17520/17521 [00:05<00:00, 2978.43it/s]\n"
     ]
    },
    {
     "name": "stdout",
     "output_type": "stream",
     "text": [
      "Running EPANET ...\n"
     ]
    },
    {
     "name": "stderr",
     "output_type": "stream",
     "text": [
      "Time steps: 100%|########################################################################################################################9| 17520/17521 [00:05<00:00, 2973.99it/s]\n"
     ]
    },
    {
     "name": "stdout",
     "output_type": "stream",
     "text": [
      "Running EPANET ...\n"
     ]
    },
    {
     "name": "stderr",
     "output_type": "stream",
     "text": [
      "Time steps: 100%|########################################################################################################################9| 17520/17521 [00:05<00:00, 2975.18it/s]\n"
     ]
    },
    {
     "name": "stdout",
     "output_type": "stream",
     "text": [
      "Running EPANET ...\n"
     ]
    },
    {
     "name": "stderr",
     "output_type": "stream",
     "text": [
      "Time steps: 100%|########################################################################################################################9| 17520/17521 [00:05<00:00, 2945.28it/s]\n"
     ]
    },
    {
     "name": "stdout",
     "output_type": "stream",
     "text": [
      "Running EPANET ...\n"
     ]
    },
    {
     "name": "stderr",
     "output_type": "stream",
     "text": [
      "Time steps: 100%|########################################################################################################################9| 17520/17521 [00:05<00:00, 2995.65it/s]\n"
     ]
    },
    {
     "name": "stdout",
     "output_type": "stream",
     "text": [
      "Running EPANET ...\n"
     ]
    },
    {
     "name": "stderr",
     "output_type": "stream",
     "text": [
      "Time steps: 100%|########################################################################################################################9| 17520/17521 [00:05<00:00, 3026.06it/s]\n"
     ]
    },
    {
     "name": "stdout",
     "output_type": "stream",
     "text": [
      "Running EPANET ...\n"
     ]
    },
    {
     "name": "stderr",
     "output_type": "stream",
     "text": [
      "Time steps: 100%|########################################################################################################################9| 17520/17521 [00:05<00:00, 3044.68it/s]\n"
     ]
    },
    {
     "name": "stdout",
     "output_type": "stream",
     "text": [
      "Running EPANET ...\n"
     ]
    },
    {
     "name": "stderr",
     "output_type": "stream",
     "text": [
      "Time steps: 100%|########################################################################################################################9| 17520/17521 [00:05<00:00, 3072.93it/s]\n"
     ]
    },
    {
     "name": "stdout",
     "output_type": "stream",
     "text": [
      "Running EPANET ...\n"
     ]
    },
    {
     "name": "stderr",
     "output_type": "stream",
     "text": [
      "Time steps: 100%|########################################################################################################################9| 17520/17521 [00:05<00:00, 3062.87it/s]\n"
     ]
    },
    {
     "name": "stdout",
     "output_type": "stream",
     "text": [
      "Running EPANET ...\n"
     ]
    },
    {
     "name": "stderr",
     "output_type": "stream",
     "text": [
      "Time steps: 100%|########################################################################################################################9| 17520/17521 [00:05<00:00, 3037.20it/s]\n"
     ]
    },
    {
     "name": "stdout",
     "output_type": "stream",
     "text": [
      "Running EPANET ...\n"
     ]
    },
    {
     "name": "stderr",
     "output_type": "stream",
     "text": [
      "Time steps: 100%|########################################################################################################################9| 17520/17521 [00:05<00:00, 3070.29it/s]\n"
     ]
    },
    {
     "name": "stdout",
     "output_type": "stream",
     "text": [
      "Running EPANET ...\n"
     ]
    },
    {
     "name": "stderr",
     "output_type": "stream",
     "text": [
      "Time steps: 100%|########################################################################################################################9| 17520/17521 [00:05<00:00, 2987.66it/s]\n"
     ]
    },
    {
     "name": "stdout",
     "output_type": "stream",
     "text": [
      "Running EPANET ...\n"
     ]
    },
    {
     "name": "stderr",
     "output_type": "stream",
     "text": [
      "Time steps: 100%|########################################################################################################################9| 17520/17521 [00:05<00:00, 3068.54it/s]\n"
     ]
    },
    {
     "name": "stdout",
     "output_type": "stream",
     "text": [
      "Running EPANET ...\n"
     ]
    },
    {
     "name": "stderr",
     "output_type": "stream",
     "text": [
      "Time steps: 100%|########################################################################################################################9| 17520/17521 [00:05<00:00, 2992.27it/s]\n"
     ]
    },
    {
     "name": "stdout",
     "output_type": "stream",
     "text": [
      "Running EPANET ...\n"
     ]
    },
    {
     "name": "stderr",
     "output_type": "stream",
     "text": [
      "Time steps: 100%|########################################################################################################################9| 17520/17521 [00:05<00:00, 3059.60it/s]\n"
     ]
    },
    {
     "name": "stdout",
     "output_type": "stream",
     "text": [
      "Running EPANET ...\n"
     ]
    },
    {
     "name": "stderr",
     "output_type": "stream",
     "text": [
      "Time steps: 100%|########################################################################################################################9| 17520/17521 [00:05<00:00, 3060.23it/s]\n"
     ]
    },
    {
     "name": "stdout",
     "output_type": "stream",
     "text": [
      "Running EPANET ...\n"
     ]
    },
    {
     "name": "stderr",
     "output_type": "stream",
     "text": [
      "Time steps: 100%|########################################################################################################################9| 17520/17521 [00:05<00:00, 3067.64it/s]\n"
     ]
    },
    {
     "name": "stdout",
     "output_type": "stream",
     "text": [
      "Running EPANET ...\n"
     ]
    },
    {
     "name": "stderr",
     "output_type": "stream",
     "text": [
      "Time steps: 100%|########################################################################################################################9| 17520/17521 [00:05<00:00, 3033.96it/s]\n"
     ]
    },
    {
     "name": "stdout",
     "output_type": "stream",
     "text": [
      "Running EPANET ...\n"
     ]
    },
    {
     "name": "stderr",
     "output_type": "stream",
     "text": [
      "Time steps: 100%|########################################################################################################################9| 17520/17521 [00:05<00:00, 3014.70it/s]\n"
     ]
    },
    {
     "name": "stdout",
     "output_type": "stream",
     "text": [
      "Running EPANET ...\n"
     ]
    },
    {
     "name": "stderr",
     "output_type": "stream",
     "text": [
      "Time steps: 100%|########################################################################################################################9| 17520/17521 [00:05<00:00, 2996.32it/s]\n"
     ]
    },
    {
     "name": "stdout",
     "output_type": "stream",
     "text": [
      "Running EPANET ...\n"
     ]
    },
    {
     "name": "stderr",
     "output_type": "stream",
     "text": [
      "Time steps: 100%|########################################################################################################################9| 17520/17521 [00:05<00:00, 3075.08it/s]\n"
     ]
    },
    {
     "name": "stdout",
     "output_type": "stream",
     "text": [
      "Running EPANET ...\n"
     ]
    },
    {
     "name": "stderr",
     "output_type": "stream",
     "text": [
      "Time steps: 100%|########################################################################################################################9| 17520/17521 [00:05<00:00, 3028.46it/s]\n"
     ]
    },
    {
     "name": "stdout",
     "output_type": "stream",
     "text": [
      "Running EPANET ...\n"
     ]
    },
    {
     "name": "stderr",
     "output_type": "stream",
     "text": [
      "Time steps: 100%|########################################################################################################################9| 17520/17521 [00:05<00:00, 3013.86it/s]\n"
     ]
    },
    {
     "name": "stdout",
     "output_type": "stream",
     "text": [
      "Running EPANET ...\n"
     ]
    },
    {
     "name": "stderr",
     "output_type": "stream",
     "text": [
      "Time steps: 100%|########################################################################################################################9| 17520/17521 [00:05<00:00, 3046.34it/s]\n"
     ]
    },
    {
     "name": "stdout",
     "output_type": "stream",
     "text": [
      "Running EPANET ...\n"
     ]
    },
    {
     "name": "stderr",
     "output_type": "stream",
     "text": [
      "Time steps: 100%|########################################################################################################################9| 17520/17521 [00:05<00:00, 3009.86it/s]\n"
     ]
    },
    {
     "name": "stdout",
     "output_type": "stream",
     "text": [
      "Running EPANET ...\n"
     ]
    },
    {
     "name": "stderr",
     "output_type": "stream",
     "text": [
      "Time steps: 100%|########################################################################################################################9| 17520/17521 [00:05<00:00, 3068.02it/s]\n"
     ]
    },
    {
     "name": "stdout",
     "output_type": "stream",
     "text": [
      "Running EPANET ...\n"
     ]
    },
    {
     "name": "stderr",
     "output_type": "stream",
     "text": [
      "Time steps: 100%|########################################################################################################################9| 17520/17521 [00:05<00:00, 3055.21it/s]\n"
     ]
    },
    {
     "name": "stdout",
     "output_type": "stream",
     "text": [
      "Running EPANET ...\n"
     ]
    },
    {
     "name": "stderr",
     "output_type": "stream",
     "text": [
      "Time steps: 100%|########################################################################################################################9| 17520/17521 [00:05<00:00, 3008.08it/s]\n"
     ]
    },
    {
     "name": "stdout",
     "output_type": "stream",
     "text": [
      "Running EPANET ...\n"
     ]
    },
    {
     "name": "stderr",
     "output_type": "stream",
     "text": [
      "Time steps: 100%|########################################################################################################################9| 17520/17521 [00:05<00:00, 3019.62it/s]\n"
     ]
    },
    {
     "name": "stdout",
     "output_type": "stream",
     "text": [
      "Running EPANET ...\n"
     ]
    },
    {
     "name": "stderr",
     "output_type": "stream",
     "text": [
      "Time steps: 100%|########################################################################################################################9| 17520/17521 [00:05<00:00, 2985.06it/s]\n"
     ]
    },
    {
     "name": "stdout",
     "output_type": "stream",
     "text": [
      "Running EPANET ...\n"
     ]
    },
    {
     "name": "stderr",
     "output_type": "stream",
     "text": [
      "Time steps: 100%|########################################################################################################################9| 17520/17521 [00:05<00:00, 3056.10it/s]\n"
     ]
    },
    {
     "name": "stdout",
     "output_type": "stream",
     "text": [
      "Running EPANET ...\n"
     ]
    },
    {
     "name": "stderr",
     "output_type": "stream",
     "text": [
      "Time steps: 100%|########################################################################################################################9| 17520/17521 [00:05<00:00, 3064.68it/s]\n"
     ]
    },
    {
     "name": "stdout",
     "output_type": "stream",
     "text": [
      "Running EPANET ...\n"
     ]
    },
    {
     "name": "stderr",
     "output_type": "stream",
     "text": [
      "Time steps: 100%|########################################################################################################################9| 17520/17521 [00:05<00:00, 2977.68it/s]\n"
     ]
    },
    {
     "name": "stdout",
     "output_type": "stream",
     "text": [
      "Running EPANET ...\n"
     ]
    },
    {
     "name": "stderr",
     "output_type": "stream",
     "text": [
      "Time steps: 100%|########################################################################################################################9| 17520/17521 [00:05<00:00, 3053.11it/s]\n"
     ]
    },
    {
     "name": "stdout",
     "output_type": "stream",
     "text": [
      "Running EPANET ...\n"
     ]
    },
    {
     "name": "stderr",
     "output_type": "stream",
     "text": [
      "Time steps: 100%|########################################################################################################################9| 17520/17521 [00:05<00:00, 3060.69it/s]\n"
     ]
    },
    {
     "name": "stdout",
     "output_type": "stream",
     "text": [
      "Running EPANET ...\n"
     ]
    },
    {
     "name": "stderr",
     "output_type": "stream",
     "text": [
      "Time steps: 100%|########################################################################################################################9| 17520/17521 [00:05<00:00, 3019.70it/s]\n"
     ]
    },
    {
     "name": "stdout",
     "output_type": "stream",
     "text": [
      "Running EPANET ...\n"
     ]
    },
    {
     "name": "stderr",
     "output_type": "stream",
     "text": [
      "Time steps: 100%|########################################################################################################################9| 17520/17521 [00:05<00:00, 3060.72it/s]\n"
     ]
    },
    {
     "name": "stdout",
     "output_type": "stream",
     "text": [
      "Running EPANET ...\n"
     ]
    },
    {
     "name": "stderr",
     "output_type": "stream",
     "text": [
      "Time steps: 100%|########################################################################################################################9| 17520/17521 [00:05<00:00, 3033.36it/s]\n"
     ]
    },
    {
     "name": "stdout",
     "output_type": "stream",
     "text": [
      "Running EPANET ...\n"
     ]
    },
    {
     "name": "stderr",
     "output_type": "stream",
     "text": [
      "Time steps: 100%|########################################################################################################################9| 17520/17521 [00:05<00:00, 3028.38it/s]\n"
     ]
    },
    {
     "name": "stdout",
     "output_type": "stream",
     "text": [
      "Running EPANET ...\n"
     ]
    },
    {
     "name": "stderr",
     "output_type": "stream",
     "text": [
      "Time steps: 100%|########################################################################################################################9| 17520/17521 [00:05<00:00, 3066.80it/s]\n"
     ]
    },
    {
     "name": "stdout",
     "output_type": "stream",
     "text": [
      "Running EPANET ...\n"
     ]
    },
    {
     "name": "stderr",
     "output_type": "stream",
     "text": [
      "Time steps: 100%|########################################################################################################################9| 17520/17521 [00:05<00:00, 3043.38it/s]\n"
     ]
    },
    {
     "name": "stdout",
     "output_type": "stream",
     "text": [
      "Running EPANET ...\n"
     ]
    },
    {
     "name": "stderr",
     "output_type": "stream",
     "text": [
      "Time steps: 100%|########################################################################################################################9| 17520/17521 [00:05<00:00, 3050.29it/s]\n"
     ]
    },
    {
     "name": "stdout",
     "output_type": "stream",
     "text": [
      "Running EPANET ...\n"
     ]
    },
    {
     "name": "stderr",
     "output_type": "stream",
     "text": [
      "Time steps: 100%|########################################################################################################################9| 17520/17521 [00:05<00:00, 3011.83it/s]\n"
     ]
    },
    {
     "name": "stdout",
     "output_type": "stream",
     "text": [
      "Running EPANET ...\n"
     ]
    },
    {
     "name": "stderr",
     "output_type": "stream",
     "text": [
      "Time steps: 100%|########################################################################################################################9| 17520/17521 [00:05<00:00, 3024.13it/s]\n"
     ]
    },
    {
     "name": "stdout",
     "output_type": "stream",
     "text": [
      "Running EPANET ...\n"
     ]
    },
    {
     "name": "stderr",
     "output_type": "stream",
     "text": [
      "Time steps: 100%|########################################################################################################################9| 17520/17521 [00:05<00:00, 2968.37it/s]\n"
     ]
    },
    {
     "name": "stdout",
     "output_type": "stream",
     "text": [
      "Running EPANET ...\n"
     ]
    },
    {
     "name": "stderr",
     "output_type": "stream",
     "text": [
      "Time steps: 100%|########################################################################################################################9| 17520/17521 [00:05<00:00, 2974.08it/s]\n"
     ]
    },
    {
     "name": "stdout",
     "output_type": "stream",
     "text": [
      "Running EPANET ...\n"
     ]
    },
    {
     "name": "stderr",
     "output_type": "stream",
     "text": [
      "Time steps: 100%|########################################################################################################################9| 17520/17521 [00:05<00:00, 3030.86it/s]\n"
     ]
    },
    {
     "name": "stdout",
     "output_type": "stream",
     "text": [
      "Running EPANET ...\n"
     ]
    },
    {
     "name": "stderr",
     "output_type": "stream",
     "text": [
      "Time steps: 100%|########################################################################################################################9| 17520/17521 [00:05<00:00, 3061.91it/s]\n"
     ]
    },
    {
     "name": "stdout",
     "output_type": "stream",
     "text": [
      "Running EPANET ...\n"
     ]
    },
    {
     "name": "stderr",
     "output_type": "stream",
     "text": [
      "Time steps: 100%|########################################################################################################################9| 17520/17521 [00:05<00:00, 3037.90it/s]\n"
     ]
    },
    {
     "name": "stdout",
     "output_type": "stream",
     "text": [
      "Running EPANET ...\n"
     ]
    },
    {
     "name": "stderr",
     "output_type": "stream",
     "text": [
      "Time steps: 100%|########################################################################################################################9| 17520/17521 [00:05<00:00, 3058.89it/s]\n"
     ]
    },
    {
     "name": "stdout",
     "output_type": "stream",
     "text": [
      "Running EPANET ...\n"
     ]
    },
    {
     "name": "stderr",
     "output_type": "stream",
     "text": [
      "Time steps: 100%|########################################################################################################################9| 17520/17521 [00:05<00:00, 3016.63it/s]\n"
     ]
    },
    {
     "name": "stdout",
     "output_type": "stream",
     "text": [
      "Running EPANET ...\n"
     ]
    },
    {
     "name": "stderr",
     "output_type": "stream",
     "text": [
      "Time steps: 100%|########################################################################################################################9| 17520/17521 [00:05<00:00, 3035.41it/s]\n"
     ]
    }
   ],
   "source": [
    "scada_data = {}\n",
    "for key, scenario in scenarios.items():\n",
    "    scada_data[key] = scenario.run_simulation(verbose=True)"
   ]
  },
  {
   "cell_type": "markdown",
   "metadata": {},
   "source": [
    "### Machine Learning based Leakage Detection"
   ]
  },
  {
   "cell_type": "markdown",
   "metadata": {},
   "source": [
    "Prepare the simulation results for calibrating (i.e. creating) a Machine Learning based leakage detection method:\n",
    "\n",
    "- Create a feature vector (pressure readings at the sensors).\n",
    "- Create ground-truth labels utilizing the [`time_points_to_one_hot_encoding()`](https://epyt-flow.readthedocs.io/en/stable/epyt_flow.html#epyt_flow.utils.time_points_to_one_hot_encoding) helper function.\n",
    "\n",
    "The scenarios are already split into a train and test set. Because of that, two feature vectors and lable-sets are created from the start, one of each for the training of the classifier and another pair for the testing."
   ]
  },
  {
   "cell_type": "code",
   "execution_count": 14,
   "metadata": {},
   "outputs": [
    {
     "name": "stdout",
     "output_type": "stream",
     "text": [
      "Total samples: 14016800, features: 15, samples_y : 14016800\n"
     ]
    }
   ],
   "source": [
    "# Concatenate pressure and flow readings into a single feature vector\n",
    "# X = np.concatenate((scada_data.get_data_pressures(), scada_data.get_data_flows()), axis=1)\n",
    "\"\"\"X_tmp = [scada_data[key].get_data_pressures()[:, sensor_placements] for key in scen_keys]\n",
    "X = np.vstack(X_tmp)\n",
    "y_tmp = []\n",
    "for key in scen_keys:\n",
    "    events_times = [int(t / configs[int(key)].general_params[\"hydraulic_time_step\"])\n",
    "                    for t in scenarios[key].get_events_active_time_points()]\n",
    "    y_tmp.append(time_points_to_one_hot_encoding(events_times, total_length=X_tmp[0].shape[0]))\n",
    "y = np.concatenate(y_tmp)\n",
    "print(f\"Total samples: {X.shape[0]}, features: {X.shape[1]}, samples_y : {y.shape[0]}\")\"\"\"\n",
    "X_tmp = [scada_data[key].get_data_pressures()[:, sensor_placements] for key in scen_train_keys]\n",
    "X_train = np.vstack(X_tmp)\n",
    "X_test = {key: scada_data[key].get_data_pressures()[:, sensor_placements] for key in scen_test_keys}\n",
    "y_tmp = []\n",
    "y_test = {}\n",
    "for i, key in enumerate(scen_train_keys):\n",
    "    events_times = [int(t / configs[i].general_params[\"hydraulic_time_step\"])\n",
    "                    for t in scenarios[key].get_events_active_time_points()]\n",
    "    y_tmp.append(time_points_to_one_hot_encoding(events_times, total_length=X_tmp[0].shape[0]))\n",
    "for i, key in enumerate(scen_test_keys):\n",
    "    events_times = [int(t / configs[i].general_params[\"hydraulic_time_step\"])\n",
    "                    for t in scenarios[key].get_events_active_time_points()]\n",
    "    y_test[key] = time_points_to_one_hot_encoding(events_times, total_length=X_test[key].shape[0])\n",
    "y_train = np.concatenate(y_tmp)\n",
    "print(f\"Total samples: {X_train.shape[0]}, features: {X_train.shape[1]}, samples_y : {y_train.shape[0]}\")"
   ]
  },
  {
   "cell_type": "code",
   "execution_count": null,
   "metadata": {},
   "outputs": [
    {
     "name": "stdout",
     "output_type": "stream",
     "text": [
      "Total samples: 14016800, features: 5, samples_y : 14016800\n"
     ]
    }
   ],
   "source": [
    "X_tmp_5 = [scada_data[key].get_data_pressures()[:, sensor_placements_5] for key in scen_train_keys]\n",
    "X_train_5 = np.vstack(X_tmp_5)\n",
    "X_test_5 = {key: scada_data[key].get_data_pressures()[:, sensor_placements_5] for key in scen_test_keys}"
   ]
  },
  {
   "cell_type": "code",
   "execution_count": null,
   "metadata": {},
   "outputs": [
    {
     "name": "stdout",
     "output_type": "stream",
     "text": [
      "Total samples: 14016800, features: 10, samples_y : 14016800\n"
     ]
    }
   ],
   "source": [
    "X_tmp_10 = [scada_data[key].get_data_pressures()[:, sensor_placements_10] for key in scen_train_keys]\n",
    "X_train_10 = np.vstack(X_tmp_10)\n",
    "X_test_10 = {key: scada_data[key].get_data_pressures()[:, sensor_placements_10] for key in scen_test_keys}"
   ]
  },
  {
   "cell_type": "markdown",
   "metadata": {},
   "source": [
    "The training data is shuffled to avoid biases: "
   ]
  },
  {
   "cell_type": "code",
   "execution_count": null,
   "metadata": {},
   "outputs": [
    {
     "name": "stdout",
     "output_type": "stream",
     "text": [
      "X_train shape: (14016800, 15)\n",
      "y_train shape: (14016800,)\n"
     ]
    }
   ],
   "source": [
    "X_train, X_train_5, X_train_10, y_train = sklearn.utils.shuffle(\n",
    "    X_train, X_train_5, X_train_10, y_train,\n",
    "    random_state=42\n",
    ")\n",
    "print(\"X_train shape:\", X_train.shape)\n",
    "print(\"y_train shape:\", y_train.shape)"
   ]
  },
  {
   "cell_type": "markdown",
   "metadata": {},
   "source": [
    "Apply the classifier to the test data (i.e. the test scenarios). Note that one-hot-encoding isn't necessary here, since our classifier is already trained to return one prediction, 0 or 1, per timestep:"
   ]
  },
  {
   "cell_type": "markdown",
   "metadata": {},
   "source": [
    "### Train classifiers for each different sensor size"
   ]
  },
  {
   "cell_type": "code",
   "execution_count": 18,
   "metadata": {},
   "outputs": [],
   "source": [
    "mixed_clf = mixed_model_classification_fit(500, X_train, y_train, n_jobs=8)"
   ]
  },
  {
   "cell_type": "code",
   "execution_count": 19,
   "metadata": {},
   "outputs": [],
   "source": [
    "mixed_clf_5 = mixed_model_classification_fit(500, X_train_5, y_train, n_jobs=8)"
   ]
  },
  {
   "cell_type": "code",
   "execution_count": 20,
   "metadata": {},
   "outputs": [],
   "source": [
    "mixed_clf_10 = mixed_model_classification_fit(500, X_train_10, y_train, n_jobs=8)"
   ]
  },
  {
   "cell_type": "code",
   "execution_count": null,
   "metadata": {},
   "outputs": [
    {
     "name": "stdout",
     "output_type": "stream",
     "text": [
      "{'class_0': {'precision': 0.42254566210045663, 'recall': 1.0, 'f1-score': 0.5940697347831321, 'support': 7403.0}, 'class_1': {'precision': 0.0, 'recall': 0.0, 'f1-score': 0.0, 'support': 10117.0}, 'accuracy': 0.42254566210045663, 'macro avg': {'precision': 0.21127283105022832, 'recall': 0.5, 'f1-score': 0.29703486739156604, 'support': 17520.0}, 'weighted avg': {'precision': 0.17854483655991327, 'recall': 0.42254566210045663, 'f1-score': 0.2510215894177812, 'support': 17520.0}}\n",
      "Scenario 911: TN=7403, FP=0, FN=10117, TP=0\n",
      "\n",
      "{'class_0': {'precision': 0.7444634703196347, 'recall': 1.0, 'f1-score': 0.8535156889048849, 'support': 13043.0}, 'class_1': {'precision': 0.0, 'recall': 0.0, 'f1-score': 0.0, 'support': 4477.0}, 'accuracy': 0.7444634703196347, 'macro avg': {'precision': 0.37223173515981733, 'recall': 0.5, 'f1-score': 0.42675784445244247, 'support': 17520.0}, 'weighted avg': {'precision': 0.5542258586403537, 'recall': 0.7444634703196347, 'f1-score': 0.6354112517343844, 'support': 17520.0}}\n",
      "Scenario 912: TN=13043, FP=0, FN=4477, TP=0\n",
      "\n",
      "{'class_0': {'precision': 0.12001827109740779, 'recall': 1.0, 'f1-score': 0.21431484502446982, 'support': 2102.0}, 'class_1': {'precision': 1.0, 'recall': 0.00038915553249448695, 'f1-score': 0.0007780082987551867, 'support': 15418.0}, 'accuracy': 0.12031963470319634, 'macro avg': {'precision': 0.5600091355487039, 'recall': 0.5001945777662472, 'f1-score': 0.1075464266616125, 'support': 17520.0}, 'weighted avg': {'precision': 0.8944222834387415, 'recall': 0.12031963470319634, 'f1-score': 0.02639755343559606, 'support': 17520.0}}\n",
      "Scenario 913: TN=2102, FP=0, FN=15412, TP=6\n",
      "\n",
      "{'class_0': {'precision': 0.4066780821917808, 'recall': 1.0, 'f1-score': 0.5782105903834449, 'support': 7125.0}, 'class_1': {'precision': 0.0, 'recall': 0.0, 'f1-score': 0.0, 'support': 10395.0}, 'accuracy': 0.4066780821917808, 'macro avg': {'precision': 0.2033390410958904, 'recall': 0.5, 'f1-score': 0.28910529519172246, 'support': 17520.0}, 'weighted avg': {'precision': 0.16538706253518481, 'recall': 0.4066780821917808, 'f1-score': 0.2351455740001167, 'support': 17520.0}}\n",
      "Scenario 914: TN=7125, FP=0, FN=10395, TP=0\n",
      "\n",
      "{'class_0': {'precision': 0.9607876712328767, 'recall': 1.0, 'f1-score': 0.9800017465723517, 'support': 16833.0}, 'class_1': {'precision': 0.0, 'recall': 0.0, 'f1-score': 0.0, 'support': 687.0}, 'accuracy': 0.9607876712328767, 'macro avg': {'precision': 0.48039383561643834, 'recall': 0.5, 'f1-score': 0.49000087328617586, 'support': 17520.0}, 'weighted avg': {'precision': 0.9231129491930944, 'recall': 0.9607876712328767, 'f1-score': 0.9415735958934017, 'support': 17520.0}}\n",
      "Scenario 915: TN=16833, FP=0, FN=687, TP=0\n",
      "\n",
      "{'class_0': {'precision': 0.9408675799086758, 'recall': 1.0, 'f1-score': 0.9695329961181037, 'support': 16484.0}, 'class_1': {'precision': 0.0, 'recall': 0.0, 'f1-score': 0.0, 'support': 1036.0}, 'accuracy': 0.9408675799086758, 'macro avg': {'precision': 0.4704337899543379, 'recall': 0.5, 'f1-score': 0.48476649805905186, 'support': 17520.0}, 'weighted avg': {'precision': 0.8852318029232085, 'recall': 0.9408675799086758, 'f1-score': 0.9122021636992478, 'support': 17520.0}}\n",
      "Scenario 916: TN=16484, FP=0, FN=1036, TP=0\n",
      "\n",
      "{'class_0': {'precision': 0.8535511528212258, 'recall': 0.9836437679417852, 'f1-score': 0.9139915015042958, 'support': 14979.0}, 'class_1': {'precision': 0.050387596899224806, 'recall': 0.005116096025186935, 'f1-score': 0.009289031797070382, 'support': 2541.0}, 'accuracy': 0.8417237442922374, 'macro avg': {'precision': 0.4519693748602253, 'recall': 0.49437993198348607, 'f1-score': 0.4616402666506831, 'support': 17520.0}, 'weighted avg': {'precision': 0.7370649316113054, 'recall': 0.8417237442922374, 'f1-score': 0.7827786604354567, 'support': 17520.0}}\n",
      "Scenario 917: TN=14734, FP=245, FN=2528, TP=13\n",
      "\n",
      "{'class_0': {'precision': 1.0, 'recall': 1.0, 'f1-score': 1.0, 'support': 17520.0}, 'accuracy': 1.0, 'macro avg': {'precision': 1.0, 'recall': 1.0, 'f1-score': 1.0, 'support': 17520.0}, 'weighted avg': {'precision': 1.0, 'recall': 1.0, 'f1-score': 1.0, 'support': 17520.0}}\n",
      "Scenario 918: TN=17520, FP=0, FN=0, TP=0\n",
      "\n",
      "{'class_0': {'precision': 0.3646689497716895, 'recall': 1.0, 'f1-score': 0.5344430967418127, 'support': 6389.0}, 'class_1': {'precision': 0.0, 'recall': 0.0, 'f1-score': 0.0, 'support': 11131.0}, 'accuracy': 0.3646689497716895, 'macro avg': {'precision': 0.18233447488584476, 'recall': 0.5, 'f1-score': 0.26722154837090634, 'support': 17520.0}, 'weighted avg': {'precision': 0.13298344292758701, 'recall': 0.3646689497716895, 'f1-score': 0.19489480280156626, 'support': 17520.0}}\n",
      "Scenario 919: TN=6389, FP=0, FN=11131, TP=0\n",
      "\n",
      "{'class_0': {'precision': 0.9571917808219178, 'recall': 1.0, 'f1-score': 0.9781277340332458, 'support': 16770.0}, 'class_1': {'precision': 0.0, 'recall': 0.0, 'f1-score': 0.0, 'support': 750.0}, 'accuracy': 0.9571917808219178, 'macro avg': {'precision': 0.4785958904109589, 'recall': 0.5, 'f1-score': 0.4890638670166229, 'support': 17520.0}, 'weighted avg': {'precision': 0.9162161052730343, 'recall': 0.9571917808219178, 'f1-score': 0.9362558276105898, 'support': 17520.0}}\n",
      "Scenario 920: TN=16770, FP=0, FN=750, TP=0\n",
      "\n"
     ]
    }
   ],
   "source": [
    "# —————————————————————————————————————————————————————\n",
    "# For each scenario in the test set, evaluate the model and collect metrics.\n",
    "# metrics are collected in a list of dataframes and then averaged. The result can then be plotted.\n",
    "# —————————————————————————————————————————————————————\n",
    "runs = []\n",
    "counter = 0\n",
    "for sid in scen_test_keys:\n",
    "    counter = counter + 1\n",
    "\n",
    "    y_pred, df_metrics = evaluate_and_collect(mixed_clf, X_test[sid], y_test[sid])\n",
    "\n",
    "    runs.append(df_metrics)\n",
    "\n",
    "    tn, fp, fn, tp = confusion_matrix(y_test[sid], y_pred, labels=[0,1]).ravel()\n",
    "    print(f\"Scenario {sid}: TN={tn}, FP={fp}, FN={fn}, TP={tp}\\n\")\n",
    "\n",
    "    if counter <= 10:\n",
    "        plt.figure(figsize=(10, 3))\n",
    "        plt.plot(y_test[sid], color=\"red\",   label=\"Ground truth\", linewidth=2)\n",
    "        plt.bar(range(len(y_pred)), y_pred, alpha=0.3, label=\"Raised alarm\")\n",
    "        plt.legend(loc=\"upper right\")\n",
    "        plt.ylabel(\"Leakage indicator\")\n",
    "        plt.yticks([0,1], [\"Inactive\",\"Active\"])\n",
    "        plt.xlabel(\"Time (5 min steps)\")\n",
    "        plt.title(f\"Scenario {sid}\")\n",
    "        plt.tight_layout()\n",
    "        plt.show() # TODO: save figure instead of showing it\n",
    "        plt.close() # TODO: is this necessary?\n",
    "\n",
    "df_all  = pd.concat(runs, keys=range(len(runs)), names=['run','label'])\n",
    "df_mean = df_all.groupby(level='label').mean()"
   ]
  },
  {
   "cell_type": "code",
   "execution_count": null,
   "metadata": {},
   "outputs": [
    {
     "name": "stdout",
     "output_type": "stream",
     "text": [
      "{'class_0': {'precision': 0.4283399872707285, 'recall': 1.0, 'f1-score': 0.5997731507737178, 'support': 7403.0}, 'class_1': {'precision': 1.0, 'recall': 0.023425916773747158, 'f1-score': 0.04577940892408731, 'support': 10117.0}, 'accuracy': 0.4360730593607306, 'macro avg': {'precision': 0.7141699936353643, 'recall': 0.5117129583868736, 'f1-score': 0.32277627984890256, 'support': 17520.0}, 'weighted avg': {'precision': 0.7584475414249544, 'recall': 0.4360730593607306, 'f1-score': 0.27986706137344886, 'support': 17520.0}}\n",
      "Scenario 911: TN=7403, FP=0, FN=9880, TP=237\n",
      "\n",
      "{'class_0': {'precision': 0.746970654108999, 'recall': 0.9972398987962892, 'f1-score': 0.8541502495403205, 'support': 13043.0}, 'class_1': {'precision': 0.6635514018691588, 'recall': 0.015858834040652223, 'f1-score': 0.030977312390924956, 'support': 4477.0}, 'accuracy': 0.7464611872146119, 'macro avg': {'precision': 0.705261027989079, 'recall': 0.5065493664184707, 'f1-score': 0.4425637809656227, 'support': 17520.0}, 'weighted avg': {'precision': 0.7256539878830991, 'recall': 0.7464611872146119, 'f1-score': 0.6437994938543706, 'support': 17520.0}}\n",
      "Scenario 912: TN=13007, FP=36, FN=4406, TP=71\n",
      "\n",
      "{'class_0': {'precision': 0.155712993668978, 'recall': 0.9828734538534729, 'f1-score': 0.26883539362394276, 'support': 2102.0}, 'class_1': {'precision': 0.9915333960489181, 'recall': 0.27344662083279286, 'f1-score': 0.42867310625317745, 'support': 15418.0}, 'accuracy': 0.35856164383561645, 'macro avg': {'precision': 0.5736231948589481, 'recall': 0.6281600373431329, 'f1-score': 0.3487542499385601, 'support': 17520.0}, 'weighted avg': {'precision': 0.8912540304209139, 'recall': 0.35856164383561645, 'f1-score': 0.4094962300005147, 'support': 17520.0}}\n",
      "Scenario 913: TN=2066, FP=36, FN=11202, TP=4216\n",
      "\n",
      "{'class_0': {'precision': 0.4540874888407091, 'recall': 0.999438596491228, 'f1-score': 0.6244574034287719, 'support': 7125.0}, 'class_1': {'precision': 0.9978237214363439, 'recall': 0.17643097643097644, 'f1-score': 0.2998446824164146, 'support': 10395.0}, 'accuracy': 0.5111301369863014, 'macro avg': {'precision': 0.7259556051385265, 'recall': 0.5879347864611022, 'f1-score': 0.46215104292259324, 'support': 17520.0}, 'weighted avg': {'precision': 0.7766981131461671, 'recall': 0.5111301369863014, 'f1-score': 0.4318575612527757, 'support': 17520.0}}\n",
      "Scenario 914: TN=7121, FP=4, FN=8561, TP=1834\n",
      "\n",
      "{'class_0': {'precision': 0.961090615632926, 'recall': 0.9904948612843819, 'f1-score': 0.9755712237792926, 'support': 16833.0}, 'class_1': {'precision': 0.06976744186046512, 'recall': 0.017467248908296942, 'f1-score': 0.027939464493597205, 'support': 687.0}, 'accuracy': 0.9523401826484018, 'macro avg': {'precision': 0.5154290287466955, 'recall': 0.5039810550963394, 'f1-score': 0.501755344136445, 'support': 17520.0}, 'weighted avg': {'precision': 0.9261397583052045, 'recall': 0.9523401826484018, 'f1-score': 0.9384123756840147, 'support': 17520.0}}\n",
      "Scenario 915: TN=16673, FP=160, FN=675, TP=12\n",
      "\n",
      "{'class_0': {'precision': 0.9405821229691715, 'recall': 0.993933511283669, 'f1-score': 0.9665221366840693, 'support': 16484.0}, 'class_1': {'precision': 0.009900990099009901, 'recall': 0.0009652509652509653, 'f1-score': 0.001759014951627089, 'support': 1036.0}, 'accuracy': 0.935216894977169, 'macro avg': {'precision': 0.4752415565340907, 'recall': 0.49744938112446, 'f1-score': 0.4841405758178482, 'support': 17520.0}, 'weighted avg': {'precision': 0.8855486952492236, 'recall': 0.935216894977169, 'f1-score': 0.9094733584811692, 'support': 17520.0}}\n",
      "Scenario 916: TN=16384, FP=100, FN=1035, TP=1\n",
      "\n",
      "{'class_0': {'precision': 0.8175940438871473, 'recall': 0.5571800520729021, 'f1-score': 0.662722833207607, 'support': 14979.0}, 'class_1': {'precision': 0.09286105032822757, 'recall': 0.26721763085399447, 'f1-score': 0.13782604282959504, 'support': 2541.0}, 'accuracy': 0.5151255707762558, 'macro avg': {'precision': 0.4552275471076874, 'recall': 0.4121988414634483, 'f1-score': 0.4002744380186011, 'support': 17520.0}, 'weighted avg': {'precision': 0.7124829401980367, 'recall': 0.5151255707762558, 'f1-score': 0.5865948226853167, 'support': 17520.0}}\n",
      "Scenario 917: TN=8346, FP=6633, FN=1862, TP=679\n",
      "\n",
      "{'class_0': {'precision': 1.0, 'recall': 0.8993721461187215, 'f1-score': 0.9470204645851489, 'support': 17520.0}, 'micro avg': {'precision': 1.0, 'recall': 0.8993721461187215, 'f1-score': 0.9470204645851489, 'support': 17520.0}, 'macro avg': {'precision': 1.0, 'recall': 0.8993721461187215, 'f1-score': 0.9470204645851489, 'support': 17520.0}, 'weighted avg': {'precision': 1.0, 'recall': 0.8993721461187215, 'f1-score': 0.947020464585149, 'support': 17520.0}}\n",
      "Scenario 918: TN=15757, FP=1763, FN=0, TP=0\n",
      "\n",
      "{'class_0': {'precision': 0.36970259145457707, 'recall': 0.9981217717952732, 'f1-score': 0.5395549538878077, 'support': 6389.0}, 'class_1': {'precision': 0.955719557195572, 'recall': 0.023268349654119128, 'f1-score': 0.04543062620592878, 'support': 11131.0}, 'accuracy': 0.37876712328767126, 'macro avg': {'precision': 0.6627110743250746, 'recall': 0.5106950607246962, 'f1-score': 0.29249279004686823, 'support': 17520.0}, 'weighted avg': {'precision': 0.7420173657504112, 'recall': 0.37876712328767126, 'f1-score': 0.22562242583832173, 'support': 17520.0}}\n",
      "Scenario 919: TN=6377, FP=12, FN=10872, TP=259\n",
      "\n",
      "{'class_0': {'precision': 0.9555107367421996, 'recall': 0.9605247465712582, 'f1-score': 0.9580111811585583, 'support': 16770.0}, 'class_1': {'precision': 0.0, 'recall': 0.0, 'f1-score': 0.0, 'support': 750.0}, 'accuracy': 0.9194063926940639, 'macro avg': {'precision': 0.4777553683710998, 'recall': 0.4802623732856291, 'f1-score': 0.47900559057927916, 'support': 17520.0}, 'weighted avg': {'precision': 0.9146070236967286, 'recall': 0.9194063926940639, 'f1-score': 0.9170004285404694, 'support': 17520.0}}\n",
      "Scenario 920: TN=16108, FP=662, FN=750, TP=0\n",
      "\n"
     ]
    }
   ],
   "source": [
    "# —————————————————————————————————————————————————————\n",
    "# For the 5 sensors variation. this is a repeat of the above code but with 5 sensors instead of 15\n",
    "# —————————————————————————————————————————————————————\n",
    "runs_5 = []\n",
    "counter = 0\n",
    "for sid in scen_test_keys:\n",
    "    counter = counter + 1\n",
    "\n",
    "    y_pred_5, df_metrics_5 = evaluate_and_collect(mixed_clf_5, X_test_5[sid], y_test[sid])\n",
    "\n",
    "    runs_5.append(df_metrics_5)\n",
    "\n",
    "    tn, fp, fn, tp = confusion_matrix(y_test[sid], y_pred_5, labels=[0,1]).ravel()\n",
    "    print(f\"Scenario {sid}: TN={tn}, FP={fp}, FN={fn}, TP={tp}\\n\")\n",
    "\n",
    "    if counter <= 10:\n",
    "        plt.figure(figsize=(10, 3))\n",
    "        plt.plot(y_test[sid], color=\"red\",   label=\"Ground truth\", linewidth=2)\n",
    "        plt.bar(range(len(y_pred_5)), y_pred_5, alpha=0.3, label=\"Raised alarm\")\n",
    "        plt.legend(loc=\"upper right\")\n",
    "        plt.ylabel(\"Leakage indicator\")\n",
    "        plt.yticks([0,1], [\"Inactive\",\"Active\"])\n",
    "        plt.xlabel(\"Time (5 min steps)\")\n",
    "        plt.title(f\"Scenario {sid}\")\n",
    "        plt.tight_layout()\n",
    "        plt.show() # TODO: save figure instead of showing it\n",
    "        plt.close() # TODO: is this necessary?\n",
    "\n",
    "df_all_5  = pd.concat(runs_5, keys=range(len(runs_5)), names=['run','label'])\n",
    "df_mean_5 = df_all_5.groupby(level='label').mean()"
   ]
  },
  {
   "cell_type": "code",
   "execution_count": null,
   "metadata": {},
   "outputs": [
    {
     "name": "stderr",
     "output_type": "stream",
     "text": [
      "/var/folders/5j/zy3b6qdx5wnd5s0_y944j43w0000gn/T/Hanoi/Scenario-911.zip: 100%|###############################################################| 8.60M/8.60M [00:01<00:00, 4.54MB/s]\n"
     ]
    },
    {
     "name": "stdout",
     "output_type": "stream",
     "text": [
      "{'class_0': {'precision': 0.42254566210045663, 'recall': 1.0, 'f1-score': 0.5940697347831321, 'support': 7403.0}, 'class_1': {'precision': 0.0, 'recall': 0.0, 'f1-score': 0.0, 'support': 10117.0}, 'accuracy': 0.42254566210045663, 'macro avg': {'precision': 0.21127283105022832, 'recall': 0.5, 'f1-score': 0.29703486739156604, 'support': 17520.0}, 'weighted avg': {'precision': 0.17854483655991327, 'recall': 0.42254566210045663, 'f1-score': 0.2510215894177812, 'support': 17520.0}}\n",
      "Scenario 911: TN=7403, FP=0, FN=10117, TP=0\n",
      "\n"
     ]
    },
    {
     "name": "stderr",
     "output_type": "stream",
     "text": [
      "/var/folders/5j/zy3b6qdx5wnd5s0_y944j43w0000gn/T/Hanoi/Scenario-912.zip: 100%|###############################################################| 8.62M/8.62M [00:02<00:00, 3.84MB/s]\n"
     ]
    },
    {
     "name": "stdout",
     "output_type": "stream",
     "text": [
      "{'class_0': {'precision': 0.7444634703196347, 'recall': 1.0, 'f1-score': 0.8535156889048849, 'support': 13043.0}, 'class_1': {'precision': 0.0, 'recall': 0.0, 'f1-score': 0.0, 'support': 4477.0}, 'accuracy': 0.7444634703196347, 'macro avg': {'precision': 0.37223173515981733, 'recall': 0.5, 'f1-score': 0.42675784445244247, 'support': 17520.0}, 'weighted avg': {'precision': 0.5542258586403537, 'recall': 0.7444634703196347, 'f1-score': 0.6354112517343844, 'support': 17520.0}}\n",
      "Scenario 912: TN=13043, FP=0, FN=4477, TP=0\n",
      "\n"
     ]
    },
    {
     "name": "stderr",
     "output_type": "stream",
     "text": [
      "/var/folders/5j/zy3b6qdx5wnd5s0_y944j43w0000gn/T/Hanoi/Scenario-913.zip: 100%|###############################################################| 8.74M/8.74M [00:02<00:00, 4.54MB/s]\n"
     ]
    },
    {
     "name": "stdout",
     "output_type": "stream",
     "text": [
      "{'class_0': {'precision': 0.11997716894977169, 'recall': 1.0, 'f1-score': 0.21424931199673836, 'support': 2102.0}, 'class_1': {'precision': 0.0, 'recall': 0.0, 'f1-score': 0.0, 'support': 15418.0}, 'accuracy': 0.11997716894977169, 'macro avg': {'precision': 0.059988584474885844, 'recall': 0.5, 'f1-score': 0.10712465599836918, 'support': 17520.0}, 'weighted avg': {'precision': 0.01439452106920206, 'recall': 0.11997716894977169, 'f1-score': 0.02570502590280502, 'support': 17520.0}}\n",
      "Scenario 913: TN=2102, FP=0, FN=15418, TP=0\n",
      "\n"
     ]
    },
    {
     "name": "stderr",
     "output_type": "stream",
     "text": [
      "/var/folders/5j/zy3b6qdx5wnd5s0_y944j43w0000gn/T/Hanoi/Scenario-914.zip: 100%|###############################################################| 8.64M/8.64M [00:01<00:00, 4.82MB/s]\n"
     ]
    },
    {
     "name": "stdout",
     "output_type": "stream",
     "text": [
      "{'class_0': {'precision': 0.4066780821917808, 'recall': 1.0, 'f1-score': 0.5782105903834449, 'support': 7125.0}, 'class_1': {'precision': 0.0, 'recall': 0.0, 'f1-score': 0.0, 'support': 10395.0}, 'accuracy': 0.4066780821917808, 'macro avg': {'precision': 0.2033390410958904, 'recall': 0.5, 'f1-score': 0.28910529519172246, 'support': 17520.0}, 'weighted avg': {'precision': 0.16538706253518481, 'recall': 0.4066780821917808, 'f1-score': 0.2351455740001167, 'support': 17520.0}}\n",
      "Scenario 914: TN=7125, FP=0, FN=10395, TP=0\n",
      "\n"
     ]
    },
    {
     "name": "stderr",
     "output_type": "stream",
     "text": [
      "/var/folders/5j/zy3b6qdx5wnd5s0_y944j43w0000gn/T/Hanoi/Scenario-915.zip: 100%|###############################################################| 8.58M/8.58M [00:03<00:00, 2.89MB/s]\n"
     ]
    },
    {
     "name": "stdout",
     "output_type": "stream",
     "text": [
      "{'class_0': {'precision': 0.9607876712328767, 'recall': 1.0, 'f1-score': 0.9800017465723517, 'support': 16833.0}, 'class_1': {'precision': 0.0, 'recall': 0.0, 'f1-score': 0.0, 'support': 687.0}, 'accuracy': 0.9607876712328767, 'macro avg': {'precision': 0.48039383561643834, 'recall': 0.5, 'f1-score': 0.49000087328617586, 'support': 17520.0}, 'weighted avg': {'precision': 0.9231129491930944, 'recall': 0.9607876712328767, 'f1-score': 0.9415735958934017, 'support': 17520.0}}\n",
      "Scenario 915: TN=16833, FP=0, FN=687, TP=0\n",
      "\n"
     ]
    },
    {
     "name": "stderr",
     "output_type": "stream",
     "text": [
      "/var/folders/5j/zy3b6qdx5wnd5s0_y944j43w0000gn/T/Hanoi/Scenario-916.zip: 100%|###############################################################| 8.55M/8.55M [00:02<00:00, 3.81MB/s]\n"
     ]
    },
    {
     "name": "stdout",
     "output_type": "stream",
     "text": [
      "{'class_0': {'precision': 0.9408675799086758, 'recall': 1.0, 'f1-score': 0.9695329961181037, 'support': 16484.0}, 'class_1': {'precision': 0.0, 'recall': 0.0, 'f1-score': 0.0, 'support': 1036.0}, 'accuracy': 0.9408675799086758, 'macro avg': {'precision': 0.4704337899543379, 'recall': 0.5, 'f1-score': 0.48476649805905186, 'support': 17520.0}, 'weighted avg': {'precision': 0.8852318029232085, 'recall': 0.9408675799086758, 'f1-score': 0.9122021636992478, 'support': 17520.0}}\n",
      "Scenario 916: TN=16484, FP=0, FN=1036, TP=0\n",
      "\n"
     ]
    },
    {
     "name": "stderr",
     "output_type": "stream",
     "text": [
      "/var/folders/5j/zy3b6qdx5wnd5s0_y944j43w0000gn/T/Hanoi/Scenario-917.zip: 100%|###############################################################| 8.70M/8.70M [00:02<00:00, 3.31MB/s]\n"
     ]
    },
    {
     "name": "stdout",
     "output_type": "stream",
     "text": [
      "{'class_0': {'precision': 0.857412707498569, 'recall': 1.0, 'f1-score': 0.9232333816142254, 'support': 14979.0}, 'class_1': {'precision': 1.0, 'recall': 0.01967729240456513, 'f1-score': 0.0385951370127364, 'support': 2541.0}, 'accuracy': 0.8578196347031963, 'macro avg': {'precision': 0.9287063537492846, 'recall': 0.5098386462022826, 'f1-score': 0.4809142593134809, 'support': 17520.0}, 'weighted avg': {'precision': 0.8780927480377321, 'recall': 0.8578196347031963, 'f1-score': 0.794930540316715, 'support': 17520.0}}\n",
      "Scenario 917: TN=14979, FP=0, FN=2491, TP=50\n",
      "\n"
     ]
    },
    {
     "name": "stderr",
     "output_type": "stream",
     "text": [
      "/var/folders/5j/zy3b6qdx5wnd5s0_y944j43w0000gn/T/Hanoi/Scenario-918.zip: 100%|###############################################################| 8.59M/8.59M [00:02<00:00, 3.99MB/s]\n"
     ]
    },
    {
     "name": "stdout",
     "output_type": "stream",
     "text": [
      "{'class_0': {'precision': 1.0, 'recall': 1.0, 'f1-score': 1.0, 'support': 17520.0}, 'accuracy': 1.0, 'macro avg': {'precision': 1.0, 'recall': 1.0, 'f1-score': 1.0, 'support': 17520.0}, 'weighted avg': {'precision': 1.0, 'recall': 1.0, 'f1-score': 1.0, 'support': 17520.0}}\n",
      "Scenario 918: TN=17520, FP=0, FN=0, TP=0\n",
      "\n"
     ]
    },
    {
     "name": "stderr",
     "output_type": "stream",
     "text": [
      "/var/folders/5j/zy3b6qdx5wnd5s0_y944j43w0000gn/T/Hanoi/Scenario-919.zip: 100%|###############################################################| 8.60M/8.60M [00:02<00:00, 3.35MB/s]\n"
     ]
    },
    {
     "name": "stdout",
     "output_type": "stream",
     "text": [
      "{'class_0': {'precision': 0.3646689497716895, 'recall': 1.0, 'f1-score': 0.5344430967418127, 'support': 6389.0}, 'class_1': {'precision': 0.0, 'recall': 0.0, 'f1-score': 0.0, 'support': 11131.0}, 'accuracy': 0.3646689497716895, 'macro avg': {'precision': 0.18233447488584476, 'recall': 0.5, 'f1-score': 0.26722154837090634, 'support': 17520.0}, 'weighted avg': {'precision': 0.13298344292758701, 'recall': 0.3646689497716895, 'f1-score': 0.19489480280156626, 'support': 17520.0}}\n",
      "Scenario 919: TN=6389, FP=0, FN=11131, TP=0\n",
      "\n"
     ]
    },
    {
     "name": "stderr",
     "output_type": "stream",
     "text": [
      "/var/folders/5j/zy3b6qdx5wnd5s0_y944j43w0000gn/T/Hanoi/Scenario-920.zip: 100%|###############################################################| 8.64M/8.64M [00:02<00:00, 3.50MB/s]\n"
     ]
    },
    {
     "name": "stdout",
     "output_type": "stream",
     "text": [
      "{'class_0': {'precision': 0.9571917808219178, 'recall': 1.0, 'f1-score': 0.9781277340332458, 'support': 16770.0}, 'class_1': {'precision': 0.0, 'recall': 0.0, 'f1-score': 0.0, 'support': 750.0}, 'accuracy': 0.9571917808219178, 'macro avg': {'precision': 0.4785958904109589, 'recall': 0.5, 'f1-score': 0.4890638670166229, 'support': 17520.0}, 'weighted avg': {'precision': 0.9162161052730343, 'recall': 0.9571917808219178, 'f1-score': 0.9362558276105898, 'support': 17520.0}}\n",
      "Scenario 920: TN=16770, FP=0, FN=750, TP=0\n",
      "\n"
     ]
    }
   ],
   "source": [
    "# —————————————————————————————————————————————————————\n",
    "# For the 10 sensors, this is a repeat of the above code but with 10 sensors instead of 15\n",
    "# —————————————————————————————————————————————————————\n",
    "runs_10 = []\n",
    "counter = 0\n",
    "for sid in scen_test_keys:\n",
    "    counter = counter + 1\n",
    "\n",
    "    y_pred_10, df_metrics_10 = evaluate_and_collect(mixed_clf_10, X_test_10[sid], y_test[sid])\n",
    "\n",
    "    runs_10.append(df_metrics_10)\n",
    "\n",
    "    tn, fp, fn, tp = confusion_matrix(y_test[sid], y_pred_10, labels=[0,1]).ravel()\n",
    "    print(f\"Scenario {sid}: TN={tn}, FP={fp}, FN={fn}, TP={tp}\\n\")\n",
    "\n",
    "    if counter <= 10:\n",
    "        plt.figure(figsize=(10, 3))\n",
    "        plt.plot(y_test[sid], color=\"red\",   label=\"Ground truth\", linewidth=2)\n",
    "        plt.bar(range(len(y_pred_10)), y_pred_10, alpha=0.3, label=\"Raised alarm\")\n",
    "        plt.legend(loc=\"upper right\")\n",
    "        plt.ylabel(\"Leakage indicator\")\n",
    "        plt.yticks([0,1], [\"Inactive\",\"Active\"])\n",
    "        plt.xlabel(\"Time (5 min steps)\")\n",
    "        plt.title(f\"Scenario {sid}\")\n",
    "        plt.tight_layout()\n",
    "        plt.show() # TODO: save figure instead of showing it\n",
    "        plt.close() # TODO: is this necessary?\n",
    "\n",
    "df_all_10  = pd.concat(runs_10, keys=range(len(runs_10)), names=['run','label'])\n",
    "df_mean_10 = df_all_10.groupby(level='label').mean()"
   ]
  },
  {
   "cell_type": "markdown",
   "metadata": {},
   "source": [
    "### Evaluation of the classifier on the LeakDB dataset\n",
    "\n",
    "In order to evaluate the performance of the leakage detector, we compute a confusion matrix, plot the leaks as well as the alarms raised by the classifier and apply a few other metrics (as seen with the predictions).\n",
    "\n",
    "Here, we plot the evaluation metrics precision, recall, f1-score, accuracy, roc_auc_score, and the log loss as an average over all test scenarios"
   ]
  },
  {
   "cell_type": "code",
   "execution_count": 34,
   "metadata": {},
   "outputs": [
    {
     "data": {
      "image/png": "[encoded data removed]",
      "text/plain": [
       "<Figure size 1800x400 with 3 Axes>"
      ]
     },
     "metadata": {},
     "output_type": "display_data"
    },
    {
     "data": {
      "image/png": "[encoded data removed]",
      "text/plain": [
       "<Figure size 1800x400 with 3 Axes>"
      ]
     },
     "metadata": {},
     "output_type": "display_data"
    },
    {
     "data": {
      "image/png": "[encoded data removed]",
      "text/plain": [
       "<Figure size 1800x400 with 3 Axes>"
      ]
     },
     "metadata": {},
     "output_type": "display_data"
    },
    {
     "data": {
      "image/png": "[encoded data removed]",
      "text/plain": [
       "<Figure size 600x400 with 1 Axes>"
      ]
     },
     "metadata": {},
     "output_type": "display_data"
    },
    {
     "data": {
      "image/png": "[encoded data removed]",
      "text/plain": [
       "<Figure size 600x400 with 1 Axes>"
      ]
     },
     "metadata": {},
     "output_type": "display_data"
    },
    {
     "data": {
      "image/png": "[encoded data removed]",
      "text/plain": [
       "<Figure size 600x400 with 1 Axes>"
      ]
     },
     "metadata": {},
     "output_type": "display_data"
    }
   ],
   "source": [
    "#Disclaimer: Graphs generated using ChatGPT\n",
    "# —————————————————————————————————————————————————————\n",
    "# 1) Per‐label metrics (precision, recall, f1‑score)\n",
    "# —————————————————————————————————————————————————————\n",
    "label_metrics = ['precision', 'recall', 'f1-score']\n",
    "sensor_sets = [\n",
    "    (df_mean_5,  '5 Sensors'),\n",
    "    (df_mean_10, '10 Sensors'),\n",
    "    (df_mean,    '15 Sensors'),\n",
    "]\n",
    "\n",
    "for m in label_metrics:\n",
    "    fig, axes = plt.subplots(1, 3, figsize=(18, 4), sharey=True)\n",
    "    fig.suptitle(f'Avg {m.capitalize()} over {len(runs_5)} Scenarios', fontsize=16)\n",
    "\n",
    "    for ax, (dfm, label) in zip(axes, sensor_sets):\n",
    "        df_plot = dfm.drop(index=[r for r in ['roc_auc','log_loss','accuracy'] if r in dfm.index])\n",
    "        bars = df_plot[m].plot(\n",
    "            kind='bar', ax=ax,\n",
    "            edgecolor='black', linewidth=1, legend=False\n",
    "        )\n",
    "        ax.set_ylim(0, 1)\n",
    "        ax.set_title(label, fontsize=14)\n",
    "        ax.set_xlabel('Class / Summary', fontsize=12)\n",
    "        if ax is axes[0]:\n",
    "            ax.set_ylabel(m.capitalize(), fontsize=12)\n",
    "        ax.grid(axis='y', linestyle='--', alpha=0.5)\n",
    "        ax.set_xticklabels(df_plot.index, rotation=0, fontsize=10)\n",
    "\n",
    "        for rect in bars.patches:\n",
    "            h = rect.get_height()\n",
    "            ax.text(\n",
    "                rect.get_x() + rect.get_width()/2,\n",
    "                h + 0.02,\n",
    "                f'{h:.2f}',\n",
    "                ha='center', va='bottom',\n",
    "                fontsize=10\n",
    "            )\n",
    "\n",
    "    plt.tight_layout(rect=[0, 0, 1, 0.93])\n",
    "    plt.show()\n",
    "\n",
    "\n",
    "# —————————————————————————————————————————————————————\n",
    "# 2) Global metrics (accuracy, roc_auc, log_loss)\n",
    "# —————————————————————————————————————————————————————\n",
    "global_metrics = ['accuracy', 'roc_auc', 'log_loss']\n",
    "sensor_labels  = ['5 Sensors', '10 Sensors', '15 Sensors']\n",
    "\n",
    "# gather the “precision” column for each global metric row\n",
    "values = {\n",
    "    'accuracy': [df_mean_5.loc['accuracy','precision'],\n",
    "                 df_mean_10.loc['accuracy','precision'],\n",
    "                 df_mean.loc['accuracy','precision']],\n",
    "    'roc_auc':   [df_mean_5.loc['roc_auc','precision'],\n",
    "                  df_mean_10.loc['roc_auc','precision'],\n",
    "                  df_mean.loc['roc_auc','precision']],\n",
    "    'log_loss':  [df_mean_5.loc['log_loss','precision'],\n",
    "                  df_mean_10.loc['log_loss','precision'],\n",
    "                  df_mean.loc['log_loss','precision']],\n",
    "}\n",
    "\n",
    "x = np.arange(len(sensor_labels))\n",
    "\n",
    "for m in global_metrics:\n",
    "    fig, ax = plt.subplots(figsize=(6,4))\n",
    "    ax.bar(x, values[m], width=0.6, edgecolor='black')\n",
    "    if m in ['accuracy','roc_auc']:\n",
    "        ax.set_ylim(0, 1)\n",
    "    ax.set_xticks(x)\n",
    "    ax.set_xticklabels(sensor_labels)\n",
    "    ax.set_ylabel(m.replace('_',' ').capitalize())\n",
    "    ax.set_title(f'Avg {m.replace(\"_\",\" \").capitalize()} over {len(runs_5)} Scenarios')\n",
    "    for i, v in enumerate(values[m]):\n",
    "        ax.text(i, v + (0.02 if m in ['accuracy','roc_auc'] else 0),\n",
    "                f'{v:.2f}', ha='center', va='bottom')\n",
    "    plt.tight_layout()\n",
    "    plt.show()\n"
   ]
  },
  {
   "cell_type": "code",
   "execution_count": null,
   "metadata": {},
   "outputs": [
    {
     "ename": "ImportError",
     "evalue": "Missing optional dependency 'tabulate'.  Use pip or conda to install tabulate.",
     "output_type": "error",
     "traceback": [
      "\u001b[0;31m---------------------------------------------------------------------------\u001b[0m",
      "\u001b[0;31mModuleNotFoundError\u001b[0m                       Traceback (most recent call last)",
      "File \u001b[0;32m/opt/homebrew/Caskroom/miniconda/base/envs/ML_WD/lib/python3.10/site-packages/pandas/compat/_optional.py:135\u001b[0m, in \u001b[0;36mimport_optional_dependency\u001b[0;34m(name, extra, errors, min_version)\u001b[0m\n\u001b[1;32m    134\u001b[0m \u001b[38;5;28;01mtry\u001b[39;00m:\n\u001b[0;32m--> 135\u001b[0m     module \u001b[38;5;241m=\u001b[39m \u001b[43mimportlib\u001b[49m\u001b[38;5;241;43m.\u001b[39;49m\u001b[43mimport_module\u001b[49m\u001b[43m(\u001b[49m\u001b[43mname\u001b[49m\u001b[43m)\u001b[49m\n\u001b[1;32m    136\u001b[0m \u001b[38;5;28;01mexcept\u001b[39;00m \u001b[38;5;167;01mImportError\u001b[39;00m:\n",
      "File \u001b[0;32m/opt/homebrew/Caskroom/miniconda/base/envs/ML_WD/lib/python3.10/importlib/__init__.py:126\u001b[0m, in \u001b[0;36mimport_module\u001b[0;34m(name, package)\u001b[0m\n\u001b[1;32m    125\u001b[0m         level \u001b[38;5;241m+\u001b[39m\u001b[38;5;241m=\u001b[39m \u001b[38;5;241m1\u001b[39m\n\u001b[0;32m--> 126\u001b[0m \u001b[38;5;28;01mreturn\u001b[39;00m \u001b[43m_bootstrap\u001b[49m\u001b[38;5;241;43m.\u001b[39;49m\u001b[43m_gcd_import\u001b[49m\u001b[43m(\u001b[49m\u001b[43mname\u001b[49m\u001b[43m[\u001b[49m\u001b[43mlevel\u001b[49m\u001b[43m:\u001b[49m\u001b[43m]\u001b[49m\u001b[43m,\u001b[49m\u001b[43m \u001b[49m\u001b[43mpackage\u001b[49m\u001b[43m,\u001b[49m\u001b[43m \u001b[49m\u001b[43mlevel\u001b[49m\u001b[43m)\u001b[49m\n",
      "File \u001b[0;32m<frozen importlib._bootstrap>:1050\u001b[0m, in \u001b[0;36m_gcd_import\u001b[0;34m(name, package, level)\u001b[0m\n",
      "File \u001b[0;32m<frozen importlib._bootstrap>:1027\u001b[0m, in \u001b[0;36m_find_and_load\u001b[0;34m(name, import_)\u001b[0m\n",
      "File \u001b[0;32m<frozen importlib._bootstrap>:1004\u001b[0m, in \u001b[0;36m_find_and_load_unlocked\u001b[0;34m(name, import_)\u001b[0m\n",
      "\u001b[0;31mModuleNotFoundError\u001b[0m: No module named 'tabulate'",
      "\nDuring handling of the above exception, another exception occurred:\n",
      "\u001b[0;31mImportError\u001b[0m                               Traceback (most recent call last)",
      "Cell \u001b[0;32mIn[26], line 7\u001b[0m\n\u001b[1;32m      1\u001b[0m df_combined \u001b[38;5;241m=\u001b[39m pd\u001b[38;5;241m.\u001b[39mconcat(\n\u001b[1;32m      2\u001b[0m     [df_mean_5, df_mean_10, df_mean],\n\u001b[1;32m      3\u001b[0m     axis\u001b[38;5;241m=\u001b[39m\u001b[38;5;241m1\u001b[39m,\n\u001b[1;32m      4\u001b[0m     keys\u001b[38;5;241m=\u001b[39m[\u001b[38;5;124m'\u001b[39m\u001b[38;5;124m5 Sensors\u001b[39m\u001b[38;5;124m'\u001b[39m, \u001b[38;5;124m'\u001b[39m\u001b[38;5;124m10 Sensors\u001b[39m\u001b[38;5;124m'\u001b[39m, \u001b[38;5;124m'\u001b[39m\u001b[38;5;124m15 Sensors\u001b[39m\u001b[38;5;124m'\u001b[39m]\n\u001b[1;32m      5\u001b[0m )\n\u001b[0;32m----> 7\u001b[0m \u001b[38;5;28mprint\u001b[39m(\u001b[43mdf_combined\u001b[49m\u001b[38;5;241;43m.\u001b[39;49m\u001b[43mto_markdown\u001b[49m\u001b[43m(\u001b[49m\u001b[43mfloatfmt\u001b[49m\u001b[38;5;241;43m=\u001b[39;49m\u001b[38;5;124;43m\"\u001b[39;49m\u001b[38;5;124;43m.3f\u001b[39;49m\u001b[38;5;124;43m\"\u001b[39;49m\u001b[43m)\u001b[49m)\n",
      "File \u001b[0;32m/opt/homebrew/Caskroom/miniconda/base/envs/ML_WD/lib/python3.10/site-packages/pandas/util/_decorators.py:333\u001b[0m, in \u001b[0;36mdeprecate_nonkeyword_arguments.<locals>.decorate.<locals>.wrapper\u001b[0;34m(*args, **kwargs)\u001b[0m\n\u001b[1;32m    327\u001b[0m \u001b[38;5;28;01mif\u001b[39;00m \u001b[38;5;28mlen\u001b[39m(args) \u001b[38;5;241m>\u001b[39m num_allow_args:\n\u001b[1;32m    328\u001b[0m     warnings\u001b[38;5;241m.\u001b[39mwarn(\n\u001b[1;32m    329\u001b[0m         msg\u001b[38;5;241m.\u001b[39mformat(arguments\u001b[38;5;241m=\u001b[39m_format_argument_list(allow_args)),\n\u001b[1;32m    330\u001b[0m         \u001b[38;5;167;01mFutureWarning\u001b[39;00m,\n\u001b[1;32m    331\u001b[0m         stacklevel\u001b[38;5;241m=\u001b[39mfind_stack_level(),\n\u001b[1;32m    332\u001b[0m     )\n\u001b[0;32m--> 333\u001b[0m \u001b[38;5;28;01mreturn\u001b[39;00m \u001b[43mfunc\u001b[49m\u001b[43m(\u001b[49m\u001b[38;5;241;43m*\u001b[39;49m\u001b[43margs\u001b[49m\u001b[43m,\u001b[49m\u001b[43m \u001b[49m\u001b[38;5;241;43m*\u001b[39;49m\u001b[38;5;241;43m*\u001b[39;49m\u001b[43mkwargs\u001b[49m\u001b[43m)\u001b[49m\n",
      "File \u001b[0;32m/opt/homebrew/Caskroom/miniconda/base/envs/ML_WD/lib/python3.10/site-packages/pandas/core/frame.py:2988\u001b[0m, in \u001b[0;36mDataFrame.to_markdown\u001b[0;34m(self, buf, mode, index, storage_options, **kwargs)\u001b[0m\n\u001b[1;32m   2986\u001b[0m kwargs\u001b[38;5;241m.\u001b[39msetdefault(\u001b[38;5;124m\"\u001b[39m\u001b[38;5;124mtablefmt\u001b[39m\u001b[38;5;124m\"\u001b[39m, \u001b[38;5;124m\"\u001b[39m\u001b[38;5;124mpipe\u001b[39m\u001b[38;5;124m\"\u001b[39m)\n\u001b[1;32m   2987\u001b[0m kwargs\u001b[38;5;241m.\u001b[39msetdefault(\u001b[38;5;124m\"\u001b[39m\u001b[38;5;124mshowindex\u001b[39m\u001b[38;5;124m\"\u001b[39m, index)\n\u001b[0;32m-> 2988\u001b[0m tabulate \u001b[38;5;241m=\u001b[39m \u001b[43mimport_optional_dependency\u001b[49m\u001b[43m(\u001b[49m\u001b[38;5;124;43m\"\u001b[39;49m\u001b[38;5;124;43mtabulate\u001b[39;49m\u001b[38;5;124;43m\"\u001b[39;49m\u001b[43m)\u001b[49m\n\u001b[1;32m   2989\u001b[0m result \u001b[38;5;241m=\u001b[39m tabulate\u001b[38;5;241m.\u001b[39mtabulate(\u001b[38;5;28mself\u001b[39m, \u001b[38;5;241m*\u001b[39m\u001b[38;5;241m*\u001b[39mkwargs)\n\u001b[1;32m   2990\u001b[0m \u001b[38;5;28;01mif\u001b[39;00m buf \u001b[38;5;129;01mis\u001b[39;00m \u001b[38;5;28;01mNone\u001b[39;00m:\n",
      "File \u001b[0;32m/opt/homebrew/Caskroom/miniconda/base/envs/ML_WD/lib/python3.10/site-packages/pandas/compat/_optional.py:138\u001b[0m, in \u001b[0;36mimport_optional_dependency\u001b[0;34m(name, extra, errors, min_version)\u001b[0m\n\u001b[1;32m    136\u001b[0m \u001b[38;5;28;01mexcept\u001b[39;00m \u001b[38;5;167;01mImportError\u001b[39;00m:\n\u001b[1;32m    137\u001b[0m     \u001b[38;5;28;01mif\u001b[39;00m errors \u001b[38;5;241m==\u001b[39m \u001b[38;5;124m\"\u001b[39m\u001b[38;5;124mraise\u001b[39m\u001b[38;5;124m\"\u001b[39m:\n\u001b[0;32m--> 138\u001b[0m         \u001b[38;5;28;01mraise\u001b[39;00m \u001b[38;5;167;01mImportError\u001b[39;00m(msg)\n\u001b[1;32m    139\u001b[0m     \u001b[38;5;28;01mreturn\u001b[39;00m \u001b[38;5;28;01mNone\u001b[39;00m\n\u001b[1;32m    141\u001b[0m \u001b[38;5;66;03m# Handle submodules: if we have submodule, grab parent module from sys.modules\u001b[39;00m\n",
      "\u001b[0;31mImportError\u001b[0m: Missing optional dependency 'tabulate'.  Use pip or conda to install tabulate."
     ]
    }
   ],
   "source": [
    "df_combined = pd.concat(\n",
    "    [df_mean_5, df_mean_10, df_mean],\n",
    "    axis=1,\n",
    "    keys=['5 Sensors', '10 Sensors', '15 Sensors']\n",
    ")\n",
    "\n",
    "print(df_combined.to_markdown(floatfmt=\".3f\"))"
   ]
  },
  {
   "cell_type": "code",
   "execution_count": 38,
   "metadata": {},
   "outputs": [],
   "source": [
    "for scenario in scenarios.values():\n",
    "    scenario.close()"
   ]
  },
  {
   "cell_type": "markdown",
   "metadata": {},
   "source": [
    "## BattLeDIM"
   ]
  },
  {
   "cell_type": "markdown",
   "metadata": {},
   "source": [
    "###  Loading scenarios and placing sensors\n",
    "\n",
    "Here the BattLeDIM data for training and testing is loaded, the sensor placements are calculated and the simulations are run"
   ]
  },
  {
   "cell_type": "code",
   "execution_count": 73,
   "metadata": {},
   "outputs": [],
   "source": [
    "# use scada date, because data provides the pressure data for 31 nodes, while the simulation for some reason only provides it for 29\n",
    "data = load_scada_data(False)"
   ]
  },
  {
   "cell_type": "code",
   "execution_count": null,
   "metadata": {},
   "outputs": [],
   "source": [
    "sensor_placements = calc_sensor_placement(data.get_data_pressures().T, num_sensors=len(sensor_placements))"
   ]
  },
  {
   "cell_type": "code",
   "execution_count": null,
   "metadata": {},
   "outputs": [],
   "source": [
    "train_configs = []\n",
    "train_scenarios = []\n",
    "test_configs = []\n",
    "test_scenarios = []\n",
    "for i in range(10):\n",
    "    train_configs.append(load_scenario(False))\n",
    "    train_scenarios.append(ScenarioSimulator(scenario_config=train_configs[i]))\n",
    "    test_configs.append(load_scenario(True))\n",
    "    test_scenarios.append(ScenarioSimulator(scenario_config=test_configs[i]))\n"
   ]
  },
  {
   "cell_type": "markdown",
   "metadata": {},
   "source": [
    "Again, the topology of the water distribution network does not change between the different scenarios. Here the general topology is inspected."
   ]
  },
  {
   "cell_type": "code",
   "execution_count": null,
   "metadata": {},
   "outputs": [],
   "source": [
    "# Run the simulations\n",
    "scada_data_train = [train_scenarios[i].run_simulation(verbose=True) for i in range(10)]\n",
    "scada_data_test = [test_scenarios[i].run_simulation(verbose=True) for i in range(10)]"
   ]
  },
  {
   "cell_type": "markdown",
   "metadata": {},
   "source": [
    "### Machine learning based leakage detection"
   ]
  },
  {
   "cell_type": "markdown",
   "metadata": {},
   "source": [
    "This includes again the preprocessing and fitting of the data from the simulations, as seen for LeakDB."
   ]
  },
  {
   "cell_type": "code",
   "execution_count": 48,
   "metadata": {},
   "outputs": [],
   "source": [
    "# it seems like the pressures we get from load_data\n",
    "X_train_BD = np.vstack([scada_data_train[i].get_data_pressures()[:, sensor_placements] for i in range(10)])\n",
    "X_test_BD = [scada_data_test[i].get_data_pressures()[:, sensor_placements] for i in range(10)]\n",
    "y_train_BD = np.concatenate([time_points_to_one_hot_encoding(\n",
    "    [int(t / train_configs[i].general_params[\"hydraulic_time_step\"]) for t in train_scenarios[i].get_events_active_time_points()],\n",
    "    total_length=scada_data_train[i].get_data_pressures().shape[0]) for i in range(10)])\n",
    "y_test_BD = [time_points_to_one_hot_encoding(\n",
    "    [int(t / test_configs[i].general_params[\"hydraulic_time_step\"]) for t in test_scenarios[i].get_events_active_time_points()],\n",
    "    total_length=scada_data_test[i].get_data_pressures().shape[0]) for i in range(10)]\n",
    "\n"
   ]
  },
  {
   "cell_type": "code",
   "execution_count": 49,
   "metadata": {},
   "outputs": [],
   "source": [
    "# shuffle the data to avoid any bias, as seen in the LeakDB part\n",
    "X_train_BD, y_train_BD = sklearn.utils.shuffle(\n",
    "    X_train_BD, y_train_BD,\n",
    "    random_state=42\n",
    ")"
   ]
  },
  {
   "cell_type": "code",
   "execution_count": null,
   "metadata": {},
   "outputs": [],
   "source": [
    "# fit the classifier to the data\n",
    "mixed_clf_BD = mixed_model_classification_fit(100, X_train_BD, y_train_BD, n_jobs=8)"
   ]
  },
  {
   "cell_type": "code",
   "execution_count": null,
   "metadata": {},
   "outputs": [],
   "source": [
    "suspicious_time_points_BD = mixed_model_classification_predict(mixed_clf, X_test_BD, y_test_BD, n_jobs=8)\n",
    "train_suspicious_time_points_BD = mixed_model_classification_predict(mixed_clf, X_train_BD, y_train_BD, n_jobs=8)"
   ]
  },
  {
   "cell_type": "code",
   "execution_count": null,
   "metadata": {},
   "outputs": [],
   "source": [
    "for time in suspicious_time_points_BD:\n",
    "    if time == 1:\n",
    "        print(\"Leakage detected at time point:\", suspicious_time_points_BD.index(time))"
   ]
  },
  {
   "cell_type": "markdown",
   "metadata": {},
   "source": [
    "### Evaluation"
   ]
  },
  {
   "cell_type": "code",
   "execution_count": null,
   "metadata": {},
   "outputs": [],
   "source": [
    "for i, label in enumerate(y_test_BD):\n",
    "    if label == 0:\n",
    "        print(\"Leakage occurred at time point:\", i)"
   ]
  },
  {
   "cell_type": "code",
   "execution_count": null,
   "metadata": {},
   "outputs": [],
   "source": [
    "plt.figure(figsize=(16, 6))\n",
    "plt.plot(list(range(len(y_test_BD))), y_train_BD, color=\"red\", label=\"Ground truth\")\n",
    "colors = ['cyan'] * len(y_train_BD)\n",
    "plt.bar(list(range(len(train_suspicious_time_points_BD))), train_suspicious_time_points_BD, label=\"Raised alarm\")\n",
    "plt.legend()\n",
    "plt.ylabel(\"Leakage indicator\")\n",
    "plt.yticks([0, 1], [\"Inactive\", \"Active\"])\n",
    "plt.xlabel(\"Time (5min steps)\")\n",
    "plt.show()"
   ]
  },
  {
   "cell_type": "code",
   "execution_count": null,
   "metadata": {},
   "outputs": [],
   "source": [
    "for scen in train_scenarios:\n",
    "    scen.close()\n",
    "for scen in test_scenarios:\n",
    "    scen.close()\n",
    "    "
   ]
  },
  {
   "cell_type": "code",
   "execution_count": null,
   "metadata": {},
   "outputs": [],
   "source": []
  }
 ],
 "metadata": {
  "kernelspec": {
   "display_name": ".venv",
   "language": "python",
   "name": "python3"
  },
  "language_info": {
   "codemirror_mode": {
    "name": "ipython",
    "version": 3
   },
   "file_extension": ".py",
   "mimetype": "text/x-python",
   "name": "python",
   "nbconvert_exporter": "python",
   "pygments_lexer": "ipython3",
   "version": "3.11.9"
  }
 },
 "nbformat": 4,
 "nbformat_minor": 2
}
