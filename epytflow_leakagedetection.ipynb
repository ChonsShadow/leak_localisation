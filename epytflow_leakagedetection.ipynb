{
 "cells": [
  {
   "cell_type": "markdown",
   "metadata": {},
   "source": [
    "# Use-Case: Machine Learning based Leakage Detection"
   ]
  },
  {
   "cell_type": "markdown",
   "metadata": {},
   "source": [
    "Anomaly detection such as leakage detection is a classic but often non-trivial task in WDN operation. With traditional (model-based) methods reaching their limits, Machine Learning offers promising solutions.\n",
    "\n",
    "#### Outline \n",
    "This notebook demonstrates how EPyT-Flow and EPyT-Control can be utilized to create a scenario containing several leakages that have to be detected.\n",
    "Here, we use a simple Machine Learning based leakage detector that is already included in EPyT-Flow.\n",
    "It consists of the following steps:\n",
    "1. Create a new (realistic) scenario.\n",
    "2. Add some leakages to the scenario.\n",
    "3. Create a simple Machine Learning based leakage detector.\n",
    "4. Evaluate the leakage detector."
   ]
  },
  {
   "cell_type": "code",
   "execution_count": 1,
   "metadata": {},
   "outputs": [],
   "source": [
    "import warnings\n",
    "warnings.filterwarnings(\"ignore\", category=DeprecationWarning)\n",
    "warnings.filterwarnings(\"ignore\", category=ImportWarning)\n",
    "warnings.filterwarnings(\"ignore\", category=UserWarning)\n",
    "\n",
    "import numpy as np\n",
    "import matplotlib.pyplot as plt\n",
    "import sklearn\n",
    "import epyt_flow\n",
    "import pandas as pd\n",
    "\n",
    "from sklearn.metrics import mutual_info_score\n",
    "from sklearn.metrics import classification_report\n",
    "from sklearn.tree import DecisionTreeClassifier\n",
    "from sklearn.ensemble import BaggingClassifier\n",
    "from sklearn.model_selection import train_test_split\n",
    "from epyt_flow.data.networks import load_ltown\n",
    "from epyt_flow.data.benchmarks import load_leakdb_scenarios\n",
    "from epyt_flow.simulation import ScenarioSimulator\n",
    "from epyt_flow.simulation.events import AbruptLeakage, IncipientLeakage\n",
    "from epyt_flow.utils import to_seconds, time_points_to_one_hot_encoding\n",
    "from epyt_control.signal_processing import SensorInterpolationDetector"
   ]
  },
  {
   "cell_type": "code",
   "execution_count": 2,
   "metadata": {},
   "outputs": [],
   "source": [
    "# Assume that we know which specific nodes we want to watch:\n",
    "def calc_Relevance (node_pressures, relevant_index):\n",
    "    relevances = {}\n",
    "    for i in range(len(node_pressures)):\n",
    "        if i != relevant_index:\n",
    "            relevances[i] = mutual_info_score(node_pressures[relevant_index], node_pressures[i])\n",
    "    return relevances\n",
    "\n",
    "# calcuate relevance over all nodes:\n",
    "\n",
    "def calc_Relevances (node_pressures):\n",
    "    relevances = {}\n",
    "    for i in range(len(node_pressures)):\n",
    "        for j in range(i + 1, len(node_pressures)):\n",
    "            m_i_score = mutual_info_score(node_pressures[i], node_pressures[j])\n",
    "            if i not in relevances:\n",
    "                relevances[i] = m_i_score\n",
    "            else:\n",
    "                relevances[i] += m_i_score\n",
    "            if j not in relevances:\n",
    "                relevances[j] = m_i_score\n",
    "            else:\n",
    "                relevances[j] += m_i_score\n",
    "    return relevances\n",
    "    \n",
    "def calc_Redundance (x_pressures, sensor_pressures):\n",
    "    redundancy = 0\n",
    "    for pressure in sensor_pressures:\n",
    "        redundancy += mutual_info_score(x_pressures, pressure)\n",
    "    redundancy /= len(sensor_pressures)\n",
    "    return redundancy"
   ]
  },
  {
   "cell_type": "code",
   "execution_count": 3,
   "metadata": {},
   "outputs": [],
   "source": [
    "def calc_sensor_placement(node_pressures, num_sensors = 15): # do we know which nodes we want to monitor? junctions? all of them?\n",
    "    remaining_nodes = list(range(len(node_pressures)))\n",
    "    relevances = calc_Relevances(node_pressures)  # Assume we want to know the relevances in regard to all nodes\n",
    "    Sensor_placement = [max(relevances, key=relevances.get)]\n",
    "    remaining_nodes.remove(Sensor_placement[-1])\n",
    "    sensor_pressures = [node_pressures[Sensor_placement[-1]]]\n",
    "    no_redundance_nodes = [a for a in remaining_nodes if calc_Redundance(node_pressures[a], node_pressures[Sensor_placement]) == 0]\n",
    "    while no_redundance_nodes: # add nodes of highest relevance without any redundance\n",
    "        if (len(Sensor_placement) >= num_sensors):\n",
    "            break\n",
    "        tmp_relevances = relevances.copy()\n",
    "        for i in range(len(tmp_relevances.keys())): # remove nodes that have been added to the sensors and nodes with redundance\n",
    "            if i in Sensor_placement:\n",
    "                del tmp_relevances[i]\n",
    "                continue\n",
    "            if i not in no_redundance_nodes:\n",
    "                del tmp_relevances[i]\n",
    "        Sensor_placement.append(max(tmp_relevances, key=relevances.get))\n",
    "        remaining_nodes.remove(Sensor_placement[-1])\n",
    "        sensor_pressures.append(node_pressures[Sensor_placement[-1]])\n",
    "        no_redundance_nodes = [a for a in remaining_nodes if calc_Redundance(node_pressures[a], sensor_pressures) == 0]\n",
    "    remaining_relevances = list(map(relevances.get, remaining_nodes))\n",
    "    while not(all(list(map(lambda x: x == 0, remaining_relevances)))) and remaining_nodes:\n",
    "        if (len(Sensor_placement) >= num_sensors):\n",
    "            break\n",
    "        RRI = {}\n",
    "        for i in remaining_nodes:\n",
    "            RRI[i] = relevances[i]/ calc_Redundance(node_pressures[i], sensor_pressures)\n",
    "        Sensor_placement.append(max(RRI, key=RRI.get))\n",
    "        sensor_pressures.append(node_pressures[Sensor_placement[-1]])\n",
    "        remaining_nodes.remove(Sensor_placement[-1])\n",
    "        remaining_relevances = list(map(relevances.get, remaining_nodes))\n",
    "    return Sensor_placement"
   ]
  },
  {
   "cell_type": "code",
   "execution_count": null,
   "metadata": {},
   "outputs": [],
   "source": [
    "#TODO sample data using bootstrap random sampling technique? , out-of-sample error?\n",
    "# DecisionTreeClassifier with entropy criterion is in the ID3 style. TODO: Might use decision-tree-id3 package if it works?\n",
    "def mixed_model_classification_fit(n_estimators, X_train, y_train):\n",
    "    base = DecisionTreeClassifier(criterion='entropy', max_depth=5)\n",
    "    bagged = BaggingClassifier(estimator=base, n_estimators=n_estimators, max_samples=0.8) #TODO adjust parameters, especially n_estimators\n",
    "    bagged.fit(X_train, y_train)\n",
    "    return bagged\n",
    "\n",
    "def mixed_model_classification_predict(classifier, X_test, y_test):\n",
    "    y_pred = classifier.predict(X_test)\n",
    "    print(classification_report(y_test, y_pred, labels=np.unique(y_test),\n",
    "                                target_names=[f\"class_{int(c)}\" for c in np.unique(y_test)]))\n",
    "    return y_pred\n"
   ]
  },
  {
   "cell_type": "code",
   "execution_count": 5,
   "metadata": {},
   "outputs": [
    {
     "name": "stdout",
     "output_type": "stream",
     "text": [
      "Total samples: 175200, features: 66\n"
     ]
    }
   ],
   "source": [
    "data_dict = epyt_flow.data.benchmarks.leakdb.load_data(\n",
    "    scenarios_id=[\"1\", \"2\", \"3\", \"4\", \"5\", \"6\", \"7\", \"8\", \"9\", \"10\"],  \n",
    "    #scenarios_id=[\"1\", \"2\", \"3\", \"4\", \"5\", \"6\", \"7\", \"8\", \"9\", \"10\", \"11\", \"12\", \"13\", \"14\", \"15\", \"16\", \"17\", \"18\", \"19\", \"20\"],\n",
    "    use_net1=False,\n",
    "    return_X_y=True\n",
    ")\n",
    "\n",
    "X_list, y_list = [], []\n",
    "for sid, (Xi, yi) in data_dict.items():\n",
    "    X_list.append(Xi.values if hasattr(Xi, \"values\") else Xi)\n",
    "    y_list.append(yi)\n",
    "\n",
    "X = np.vstack(X_list)        # shape → (total_samples, n_features)\n",
    "y = np.concatenate(y_list)   # shape → (total_samples,)\n",
    "\n",
    "print(f\"Total samples: {X.shape[0]}, features: {X.shape[1]}\")\n",
    "\n",
    "X_train, X_test, y_train, y_test = train_test_split(\n",
    "    X, y,\n",
    "    test_size=0.20,\n",
    "    random_state=42,\n",
    "    stratify=y\n",
    ")\n",
    "\n",
    "clf = mixed_model_classification_fit(20, X_train, y_train)"
   ]
  },
  {
   "cell_type": "code",
   "execution_count": 6,
   "metadata": {},
   "outputs": [
    {
     "name": "stdout",
     "output_type": "stream",
     "text": [
      "              precision    recall  f1-score   support\n",
      "\n",
      "     class_0       0.87      1.00      0.93     27434\n",
      "     class_1       0.99      0.47      0.64      7606\n",
      "\n",
      "    accuracy                           0.88     35040\n",
      "   macro avg       0.93      0.74      0.79     35040\n",
      "weighted avg       0.90      0.88      0.87     35040\n",
      "\n"
     ]
    },
    {
     "data": {
      "text/plain": [
       "array([0., 0., 0., ..., 0., 0., 0.], shape=(35040,))"
      ]
     },
     "execution_count": 6,
     "metadata": {},
     "output_type": "execute_result"
    }
   ],
   "source": [
    "mixed_model_classification_predict(clf, X_test, y_test)"
   ]
  },
  {
   "cell_type": "markdown",
   "metadata": {},
   "source": [
    "### 1. Create new Scenario\n",
    "\n",
    "Create a new scenario based on the [L-Town network](https://epyt-flow.readthedocs.io/en/stable/epyt_flow.data.html#epyt_flow.data.networks.load_ltown) with a default sensor configuration and realistic demand patterns from the [BattLeDIM challenge](https://battledim.ucy.ac.cy/):"
   ]
  },
  {
   "cell_type": "code",
   "execution_count": 7,
   "metadata": {},
   "outputs": [
    {
     "data": {
      "text/plain": [
       "(32, 17520)"
      ]
     },
     "execution_count": 7,
     "metadata": {},
     "output_type": "execute_result"
    }
   ],
   "source": [
    "data = epyt_flow.data.benchmarks.leakdb.load_data(scenarios_id=[\"1\"], use_net1=False, return_X_y=False)\n",
    "\n",
    "pressure_column_heads = data['1'].columns[:32]\n",
    "node_pressures = []\n",
    "for i in range(len(pressure_column_heads)):\n",
    "    node_pressures.append(data['1']['Pressure-Node_' + str(i + 1)])\n",
    "node_pressures = np.array(node_pressures)\n",
    "node_pressures.shape"
   ]
  },
  {
   "cell_type": "code",
   "execution_count": 8,
   "metadata": {},
   "outputs": [
    {
     "data": {
      "text/plain": [
       "[29, 0, 1, 21, 8, 17, 5, 24, 2, 20, 12, 3, 10, 16, 18]"
      ]
     },
     "execution_count": 8,
     "metadata": {},
     "output_type": "execute_result"
    }
   ],
   "source": [
    "calc_sensor_placement(node_pressures, num_sensors=15)"
   ]
  },
  {
   "cell_type": "code",
   "execution_count": 9,
   "metadata": {},
   "outputs": [],
   "source": [
    "config, = load_leakdb_scenarios(scenarios_id=[\"1\"], use_net1=False, verbose=True)\n",
    "\n",
    "scenario = ScenarioSimulator(scenario_config=config)"
   ]
  },
  {
   "cell_type": "markdown",
   "metadata": {},
   "source": [
    "Set simulation duration to 2 weeks and use 5min time intervals for the hydraulics:"
   ]
  },
  {
   "cell_type": "code",
   "execution_count": 10,
   "metadata": {},
   "outputs": [],
   "source": [
    "params = {\"simulation_duration\": to_seconds(days=14),\n",
    "          \"hydraulic_time_step\": to_seconds(minutes=5),\n",
    "          \"reporting_time_step\": to_seconds(minutes=5)}\n",
    "scenario.set_general_parameters(**params)"
   ]
  },
  {
   "cell_type": "code",
   "execution_count": 11,
   "metadata": {},
   "outputs": [
    {
     "data": {
      "image/png": "[encoded data removed]",
      "text/plain": [
       "<Figure size 1280x960 with 1 Axes>"
      ]
     },
     "metadata": {},
     "output_type": "display_data"
    }
   ],
   "source": [
    "scenario.plot_topology()"
   ]
  },
  {
   "cell_type": "code",
   "execution_count": 12,
   "metadata": {},
   "outputs": [
    {
     "name": "stdout",
     "output_type": "stream",
     "text": [
      "Nodes:  ['2', '3', '4', '5', '6', '7', '8', '9', '10', '11', '12', '13', '14', '15', '16', '17', '18', '19', '20', '21', '22', '23', '24', '25', '26', '27', '28', '29', '30', '31', '32', '1'] edges:  [('2', np.str_('1')), ('2', np.str_('3')), ('3', np.str_('4')), ('3', np.str_('19')), ('3', np.str_('20')), ('4', np.str_('5')), ('5', np.str_('6')), ('6', np.str_('7')), ('7', np.str_('8')), ('8', np.str_('9')), ('9', np.str_('10')), ('10', np.str_('11')), ('10', np.str_('14')), ('11', np.str_('12')), ('12', np.str_('13')), ('14', np.str_('15')), ('15', np.str_('16')), ('16', np.str_('17')), ('16', np.str_('27')), ('17', np.str_('18')), ('18', np.str_('19')), ('20', np.str_('21')), ('20', np.str_('23')), ('21', np.str_('22')), ('23', np.str_('24')), ('23', np.str_('28')), ('24', np.str_('25')), ('25', np.str_('26')), ('25', np.str_('32')), ('26', np.str_('27')), ('28', np.str_('29')), ('29', np.str_('30')), ('30', np.str_('31')), ('31', np.str_('32'))]\n"
     ]
    }
   ],
   "source": [
    "topo = scenario.get_topology()\n",
    "nodes = topo.nodes\n",
    "edges = topo.edges\n",
    "print(\"Nodes: \", nodes, \"edges: \", edges)"
   ]
  },
  {
   "cell_type": "markdown",
   "metadata": {},
   "source": [
    "### 2. Add Leakages to the Scenario\n",
    "\n",
    "In this example, we build a scenario with two leakages: A small abrupt leakage and a large incipient leakage in the second week:"
   ]
  },
  {
   "cell_type": "code",
   "execution_count": 13,
   "metadata": {},
   "outputs": [],
   "source": [
    "leak1 = AbruptLeakage(link_id=\"6\", diameter=0.002,\n",
    "                      start_time=to_seconds(days=7),\n",
    "                      end_time=to_seconds(days=8))\n",
    "scenario.add_leakage(leak1)\n",
    "\n",
    "leak2 = IncipientLeakage(link_id=\"19\", diameter=0.1,\n",
    "                         start_time=to_seconds(days=11),\n",
    "                         end_time=to_seconds(days=13),\n",
    "                         peak_time=to_seconds(days=12))\n",
    "scenario.add_leakage(leak2)"
   ]
  },
  {
   "cell_type": "markdown",
   "metadata": {},
   "source": [
    "Run the complete simulation:"
   ]
  },
  {
   "cell_type": "code",
   "execution_count": 14,
   "metadata": {},
   "outputs": [
    {
     "name": "stdout",
     "output_type": "stream",
     "text": [
      "Running EPANET ...\n"
     ]
    },
    {
     "name": "stderr",
     "output_type": "stream",
     "text": [
      "Time steps: 100%|#########9| 4032/4033 [00:02<00:00, 1950.73it/s]\n"
     ]
    }
   ],
   "source": [
    "scada_data = scenario.run_simulation(verbose=True)"
   ]
  },
  {
   "cell_type": "markdown",
   "metadata": {},
   "source": [
    "### 3. Machine Learning based Leakage Detection"
   ]
  },
  {
   "cell_type": "markdown",
   "metadata": {},
   "source": [
    "Prepare the simulation results for calibrating (i.e. creating) a Machine Learning based leakage detection method:\n",
    "\n",
    "- Create a feature vector (pressure and flow readings at the sensors).\n",
    "- Create ground-truth labels utilizing the [`time_points_to_one_hot_encoding()`](https://epyt-flow.readthedocs.io/en/stable/epyt_flow.html#epyt_flow.utils.time_points_to_one_hot_encoding) helper function."
   ]
  },
  {
   "cell_type": "code",
   "execution_count": 15,
   "metadata": {},
   "outputs": [],
   "source": [
    "# Concatenate pressure and flow readings into a single feature vector\n",
    "X = np.concatenate((scada_data.get_data_pressures(), scada_data.get_data_flows()), axis=1)\n",
    "\n",
    "# Build ground-truth labels -- i.e. indicator of events\n",
    "events_times = [int(t / params[\"hydraulic_time_step\"])\n",
    "                for t in scenario.get_events_active_time_points()]\n",
    "y = time_points_to_one_hot_encoding(events_times, total_length=X.shape[0])"
   ]
  },
  {
   "cell_type": "markdown",
   "metadata": {},
   "source": [
    "the following three"
   ]
  },
  {
   "cell_type": "code",
   "execution_count": 16,
   "metadata": {},
   "outputs": [
    {
     "name": "stdout",
     "output_type": "stream",
     "text": [
      "<class 'numpy.ndarray'>\n",
      "(4033, 32)\n"
     ]
    }
   ],
   "source": [
    "pressures = scada_data.get_data_pressures()\n",
    "print(type(pressures))\n",
    "print(scada_data.get_data_pressures().shape)"
   ]
  },
  {
   "cell_type": "code",
   "execution_count": 17,
   "metadata": {},
   "outputs": [],
   "source": [
    "node_pressures = []\n",
    "for node in nodes:\n",
    "    node_pressures.append(pressures[:, int(node) - 1])\n",
    "node_pressures = np.array(node_pressures)"
   ]
  },
  {
   "cell_type": "code",
   "execution_count": 18,
   "metadata": {},
   "outputs": [
    {
     "name": "stdout",
     "output_type": "stream",
     "text": [
      "Node pressures shape:  (32, 4033)\n",
      "Node pressures:  [[54.5454236  54.5454236  54.5454236  ... 50.06574854 50.06574854\n",
      "  54.13044016]\n",
      " [52.79726785 52.79726785 52.79726785 ... 47.78984402 47.78984402\n",
      "  52.29363627]\n",
      " [50.63708659 50.63708659 50.63708659 ... 44.97623206 44.97623206\n",
      "  50.01250047]\n",
      " ...\n",
      " [42.66042001 42.66042001 42.66042001 ... 34.59838229 34.59838229\n",
      "  41.77602723]\n",
      " [ 0.          0.          0.         ...  0.          0.\n",
      "   0.        ]\n",
      " [68.84599907 68.84599907 68.84599907 ... 68.51240525 68.51240525\n",
      "  68.82010512]]\n",
      "original pressures:  [[68.84599907 54.5454236  52.79726785 ... 42.06106035 42.66042001\n",
      "   0.        ]\n",
      " [68.84599907 54.5454236  52.79726785 ... 42.06106035 42.66042001\n",
      "   0.        ]\n",
      " [68.84599907 54.5454236  52.79726785 ... 42.06106035 42.66042001\n",
      "   0.        ]\n",
      " ...\n",
      " [68.51240525 50.06574854 47.78984402 ... 33.88476756 34.59838229\n",
      "   0.        ]\n",
      " [68.51240525 50.06574854 47.78984402 ... 33.88476756 34.59838229\n",
      "   0.        ]\n",
      " [68.82010512 54.13044016 52.29363627 ... 41.26114981 41.77602723\n",
      "   0.        ]]\n"
     ]
    }
   ],
   "source": [
    "print(\"Node pressures shape: \", node_pressures.shape)\n",
    "print(\"Node pressures: \", node_pressures)\n",
    "print(\"original pressures: \", pressures)"
   ]
  },
  {
   "cell_type": "markdown",
   "metadata": {},
   "source": [
    "Split the data into train and test set -- here, training data is the fault-free first week of the simulation and the second week (containing the leakages) is the test data:"
   ]
  },
  {
   "cell_type": "code",
   "execution_count": 19,
   "metadata": {},
   "outputs": [],
   "source": [
    "split_point = 2000\n",
    "X_train, y_train = X[:split_point, :], y[:split_point]\n",
    "X_test, y_test = X[split_point:, :], y[split_point:]"
   ]
  },
  {
   "cell_type": "markdown",
   "metadata": {},
   "source": [
    "#### Machine Learning based Event Detector\n",
    "\n",
    "\n",
    "As a classic baseline, EPyT-Flow already implements a residual-based interpolation detection method called [`SensorInterpolationDetector`](https://epyt-flow.readthedocs.io/en/stable/epyt_flow.models.html#epyt_flow.models.sensor_interpolation_detector.SensorInterpolationDetector).\n",
    "\n",
    "This method tries to predict the readings of a given sensor based on all other sensors: $f: \\vec{x}_t\\setminus\\{i\\} \\mapsto (\\vec{x}_t)_i$, where $\\vec{x}_t$ refers to these sensor ratings at time $t$, and $\\vec{x}_t\\setminus\\{i\\}$ denotes these sensor readings without the $i$-th sensor.\n",
    "An alarm is raised (i.e. event detected) whenever the prediction and the observation of at least one sensor differ significantly:\n",
    "$$\n",
    "   \\exists i:\\; |f(\\vec{x}_t\\setminus\\{i\\}) - (\\vec{x}_t)_i| > \\theta_i\n",
    "$$\n",
    "where $\\theta_i > 0$ denotes a sensor-specific threshold at which the difference is considered as significant.\n",
    "For this, the detection method has to be calibrated (i.e. fitted) to a time window of (ideally event-free) sensor readings to determine a suitable threshold $\\theta$ that does not raise an alarm when the network is in normal operation (i.e. no events present).\n",
    "\n",
    "We use this event detector to detect leakages in our generated scenario.\n",
    "We create and calibrate (i.e. fit) the leakage detector to the first week of simulated data:"
   ]
  },
  {
   "cell_type": "code",
   "execution_count": 20,
   "metadata": {},
   "outputs": [],
   "source": [
    "detector = SensorInterpolationDetector()\n",
    "detector.fit(X_train)"
   ]
  },
  {
   "cell_type": "markdown",
   "metadata": {},
   "source": [
    "Apply the detector to the test data (i.e. second week of simulated data):"
   ]
  },
  {
   "cell_type": "code",
   "execution_count": 21,
   "metadata": {},
   "outputs": [],
   "source": [
    "suspicious_time_points = detector.apply(X_test)\n",
    "y_test_pred = time_points_to_one_hot_encoding(suspicious_time_points, X_test.shape[0])"
   ]
  },
  {
   "cell_type": "markdown",
   "metadata": {},
   "source": [
    "### 4. Evaluation\n",
    "\n",
    "In order to evaluate the performance of the leakage detector, we could either compute the [confusion matrix](https://en.wikipedia.org/wiki/Confusion_matrix) or plot the raised alarms together with the ground truth labels.\n",
    "\n",
    "Here, we plot event (i.e. leakage) presence over time together with the raised alarms by the detector:"
   ]
  },
  {
   "cell_type": "code",
   "execution_count": 22,
   "metadata": {},
   "outputs": [
    {
     "data": {
      "image/png": "[encoded data removed]",
      "text/plain": [
       "<Figure size 640x480 with 1 Axes>"
      ]
     },
     "metadata": {},
     "output_type": "display_data"
    }
   ],
   "source": [
    "plt.figure()\n",
    "plt.plot(list(range(len(y_test))), y_test, color=\"red\", label=\"Ground truth\")\n",
    "plt.bar(list(range(len(y_test_pred))), y_test_pred, label=\"Raised alarm\")\n",
    "plt.legend()\n",
    "plt.ylabel(\"Leakage indicator\")\n",
    "plt.yticks([0, 1], [\"Inactive\", \"Active\"])\n",
    "plt.xlabel(\"Time (5min steps)\")\n",
    "plt.show()"
   ]
  },
  {
   "cell_type": "markdown",
   "metadata": {},
   "source": [
    "We observe that the small abrupt leakage is not detected, while the large incipient leakage is detected -- only a single false alarm is raised.\n",
    "\n",
    "**Note:** More advanced algorithms & methods are likely to show a better detection performance."
   ]
  },
  {
   "cell_type": "code",
   "execution_count": null,
   "metadata": {},
   "outputs": [],
   "source": []
  },
  {
   "cell_type": "markdown",
   "metadata": {},
   "source": [
    "### Close the Simulation\n",
    "\n",
    "Do not forget to close the simulation:"
   ]
  },
  {
   "cell_type": "code",
   "execution_count": 23,
   "metadata": {},
   "outputs": [],
   "source": [
    "scenario.close()"
   ]
  },
  {
   "cell_type": "code",
   "execution_count": null,
   "metadata": {},
   "outputs": [],
   "source": []
  }
 ],
 "metadata": {
  "kernelspec": {
   "display_name": ".venv",
   "language": "python",
   "name": "python3"
  },
  "language_info": {
   "codemirror_mode": {
    "name": "ipython",
    "version": 3
   },
   "file_extension": ".py",
   "mimetype": "text/x-python",
   "name": "python",
   "nbconvert_exporter": "python",
   "pygments_lexer": "ipython3",
   "version": "3.11.9"
  }
 },
 "nbformat": 4,
 "nbformat_minor": 2
}
